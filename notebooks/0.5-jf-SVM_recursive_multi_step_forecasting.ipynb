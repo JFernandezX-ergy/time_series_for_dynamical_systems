{
  "cells": [
    {
      "cell_type": "markdown",
      "metadata": {
        "id": "cQxGOeC7ZmUj"
      },
      "source": [
        "Time Series Analysis for Dynamical Systems\n"
      ]
    },
    {
      "cell_type": "markdown",
      "metadata": {
        "id": "rA_3sqmEls1m"
      },
      "source": [
        "# 1. Problem Definition: Short Term Load Forecasting\n",
        "\n",
        "Load forecasting within the context of energy demand. It is an open-access data published as the appendix Hong et al. (2016). The data consists of three years of hourly electricity load and temperatures."
      ]
    },
    {
      "cell_type": "markdown",
      "metadata": {
        "id": "C9yyayGmmaKy"
      },
      "source": [
        "\n",
        "# 2. Preparing the environment\n",
        "\n",
        "Import the Python libraries that we will need to (i) load the data, (ii) analyze it, (iii) create our model, (iv) process the results."
      ]
    },
    {
      "cell_type": "code",
      "execution_count": 76,
      "metadata": {
        "colab": {
          "base_uri": "https://localhost:8080/"
        },
        "id": "yWFatBGPPinR",
        "outputId": "37f6e9d4-f871-47c4-e4c8-7c274f604e63"
      },
      "outputs": [
        {
          "name": "stdout",
          "output_type": "stream",
          "text": [
            "Requirement already satisfied: ipython-autotime in c:\\users\\juanfernandez\\anaconda3\\envs\\energy_portfolio_management\\lib\\site-packages (0.3.2)\n",
            "Requirement already satisfied: ipython in c:\\users\\juanfernandez\\anaconda3\\envs\\energy_portfolio_management\\lib\\site-packages (from ipython-autotime) (8.16.1)\n",
            "Requirement already satisfied: backcall in c:\\users\\juanfernandez\\anaconda3\\envs\\energy_portfolio_management\\lib\\site-packages (from ipython->ipython-autotime) (0.2.0)\n",
            "Requirement already satisfied: decorator in c:\\users\\juanfernandez\\anaconda3\\envs\\energy_portfolio_management\\lib\\site-packages (from ipython->ipython-autotime) (5.1.1)\n",
            "Requirement already satisfied: jedi>=0.16 in c:\\users\\juanfernandez\\anaconda3\\envs\\energy_portfolio_management\\lib\\site-packages (from ipython->ipython-autotime) (0.19.1)\n",
            "Requirement already satisfied: matplotlib-inline in c:\\users\\juanfernandez\\anaconda3\\envs\\energy_portfolio_management\\lib\\site-packages (from ipython->ipython-autotime) (0.1.6)\n",
            "Requirement already satisfied: pickleshare in c:\\users\\juanfernandez\\anaconda3\\envs\\energy_portfolio_management\\lib\\site-packages (from ipython->ipython-autotime) (0.7.5)\n",
            "Requirement already satisfied: prompt-toolkit!=3.0.37,<3.1.0,>=3.0.30 in c:\\users\\juanfernandez\\anaconda3\\envs\\energy_portfolio_management\\lib\\site-packages (from ipython->ipython-autotime) (3.0.39)\n",
            "Requirement already satisfied: pygments>=2.4.0 in c:\\users\\juanfernandez\\anaconda3\\envs\\energy_portfolio_management\\lib\\site-packages (from ipython->ipython-autotime) (2.16.1)\n",
            "Requirement already satisfied: stack-data in c:\\users\\juanfernandez\\anaconda3\\envs\\energy_portfolio_management\\lib\\site-packages (from ipython->ipython-autotime) (0.6.2)\n",
            "Requirement already satisfied: traitlets>=5 in c:\\users\\juanfernandez\\anaconda3\\envs\\energy_portfolio_management\\lib\\site-packages (from ipython->ipython-autotime) (5.12.0)\n",
            "Requirement already satisfied: exceptiongroup in c:\\users\\juanfernandez\\anaconda3\\envs\\energy_portfolio_management\\lib\\site-packages (from ipython->ipython-autotime) (1.1.3)\n",
            "Requirement already satisfied: colorama in c:\\users\\juanfernandez\\anaconda3\\envs\\energy_portfolio_management\\lib\\site-packages (from ipython->ipython-autotime) (0.4.6)\n",
            "Requirement already satisfied: parso<0.9.0,>=0.8.3 in c:\\users\\juanfernandez\\anaconda3\\envs\\energy_portfolio_management\\lib\\site-packages (from jedi>=0.16->ipython->ipython-autotime) (0.8.3)\n",
            "Requirement already satisfied: wcwidth in c:\\users\\juanfernandez\\anaconda3\\envs\\energy_portfolio_management\\lib\\site-packages (from prompt-toolkit!=3.0.37,<3.1.0,>=3.0.30->ipython->ipython-autotime) (0.2.8)\n",
            "Requirement already satisfied: executing>=1.2.0 in c:\\users\\juanfernandez\\anaconda3\\envs\\energy_portfolio_management\\lib\\site-packages (from stack-data->ipython->ipython-autotime) (1.2.0)\n",
            "Requirement already satisfied: asttokens>=2.1.0 in c:\\users\\juanfernandez\\anaconda3\\envs\\energy_portfolio_management\\lib\\site-packages (from stack-data->ipython->ipython-autotime) (2.4.0)\n",
            "Requirement already satisfied: pure-eval in c:\\users\\juanfernandez\\anaconda3\\envs\\energy_portfolio_management\\lib\\site-packages (from stack-data->ipython->ipython-autotime) (0.2.2)\n",
            "Requirement already satisfied: six>=1.12.0 in c:\\users\\juanfernandez\\anaconda3\\envs\\energy_portfolio_management\\lib\\site-packages (from asttokens>=2.1.0->stack-data->ipython->ipython-autotime) (1.16.0)\n",
            "The autotime extension is already loaded. To reload it, use:\n",
            "  %reload_ext autotime\n",
            "time: 1.62 s (started: 2024-09-13 13:03:19 +02:00)\n"
          ]
        },
        {
          "name": "stderr",
          "output_type": "stream",
          "text": [
            "\n",
            "[notice] A new release of pip is available: 24.1.1 -> 24.2\n",
            "[notice] To update, run: python.exe -m pip install --upgrade pip\n"
          ]
        }
      ],
      "source": [
        "!pip install ipython-autotime\n",
        "%load_ext autotime"
      ]
    },
    {
      "cell_type": "markdown",
      "metadata": {
        "id": "OYJUVWg9-HxL"
      },
      "source": [
        "## Libraries"
      ]
    },
    {
      "cell_type": "code",
      "execution_count": 77,
      "metadata": {
        "colab": {
          "base_uri": "https://localhost:8080/"
        },
        "id": "8i9z1Kao-kQT",
        "outputId": "9e31b1c3-caa2-4c87-d5dd-6d9303f498fa"
      },
      "outputs": [
        {
          "name": "stdout",
          "output_type": "stream",
          "text": [
            "Requirement already satisfied: statsmodels in c:\\users\\juanfernandez\\anaconda3\\envs\\energy_portfolio_management\\lib\\site-packages (0.14.0)\n",
            "Requirement already satisfied: numpy>=1.18 in c:\\users\\juanfernandez\\anaconda3\\envs\\energy_portfolio_management\\lib\\site-packages (from statsmodels) (1.23.4)\n",
            "Requirement already satisfied: scipy!=1.9.2,>=1.4 in c:\\users\\juanfernandez\\anaconda3\\envs\\energy_portfolio_management\\lib\\site-packages (from statsmodels) (1.12.0)\n",
            "Requirement already satisfied: pandas>=1.0 in c:\\users\\juanfernandez\\anaconda3\\envs\\energy_portfolio_management\\lib\\site-packages (from statsmodels) (1.5.3)\n",
            "Requirement already satisfied: patsy>=0.5.2 in c:\\users\\juanfernandez\\anaconda3\\envs\\energy_portfolio_management\\lib\\site-packages (from statsmodels) (0.5.3)\n",
            "Requirement already satisfied: packaging>=21.3 in c:\\users\\juanfernandez\\anaconda3\\envs\\energy_portfolio_management\\lib\\site-packages (from statsmodels) (23.2)\n",
            "Requirement already satisfied: python-dateutil>=2.8.1 in c:\\users\\juanfernandez\\anaconda3\\envs\\energy_portfolio_management\\lib\\site-packages (from pandas>=1.0->statsmodels) (2.8.2)\n",
            "Requirement already satisfied: pytz>=2020.1 in c:\\users\\juanfernandez\\anaconda3\\envs\\energy_portfolio_management\\lib\\site-packages (from pandas>=1.0->statsmodels) (2023.3.post1)\n",
            "Requirement already satisfied: six in c:\\users\\juanfernandez\\anaconda3\\envs\\energy_portfolio_management\\lib\\site-packages (from patsy>=0.5.2->statsmodels) (1.16.0)\n",
            "time: 2.27 s (started: 2024-09-13 13:03:21 +02:00)\n"
          ]
        },
        {
          "name": "stderr",
          "output_type": "stream",
          "text": [
            "\n",
            "[notice] A new release of pip is available: 24.1.1 -> 24.2\n",
            "[notice] To update, run: python.exe -m pip install --upgrade pip\n"
          ]
        }
      ],
      "source": [
        "#Local Installations\n",
        "!pip install statsmodels"
      ]
    },
    {
      "cell_type": "code",
      "execution_count": 78,
      "metadata": {
        "colab": {
          "base_uri": "https://localhost:8080/"
        },
        "id": "qQAx5I7N-GQ0",
        "outputId": "c1cf47fc-0eaa-47b1-ad16-5d0a6ac2b127"
      },
      "outputs": [
        {
          "name": "stdout",
          "output_type": "stream",
          "text": [
            "time: 0 ns (started: 2024-09-13 13:03:23 +02:00)\n"
          ]
        }
      ],
      "source": [
        "#Importing the necessary libraries\n",
        "import math\n",
        "import numpy as np\n",
        "import pandas as pd\n",
        "import datetime as dt\n",
        "import os\n",
        "import itertools\n",
        "import matplotlib.pyplot as plt\n",
        "import seaborn as sns\n",
        "color = sns.color_palette()\n",
        "import matplotlib as mpl\n",
        "from matplotlib import colors as mcolors\n",
        "colors = dict(mcolors.BASE_COLORS, **mcolors.CSS4_COLORS)\n",
        "import statsmodels.api as sm\n",
        "import warnings\n",
        "import matplotlib.dates as mdates\n",
        "from pandas.plotting import lag_plot, autocorrelation_plot\n",
        "from statsmodels.graphics.tsaplots import plot_acf, plot_pacf "
      ]
    },
    {
      "cell_type": "code",
      "execution_count": 79,
      "metadata": {
        "colab": {
          "base_uri": "https://localhost:8080/"
        },
        "id": "Bde603-P-KSz",
        "outputId": "9cfa993e-26aa-4cb1-ee21-cfd9425ca441"
      },
      "outputs": [
        {
          "name": "stdout",
          "output_type": "stream",
          "text": [
            "time: 0 ns (started: 2024-09-13 13:03:23 +02:00)\n"
          ]
        }
      ],
      "source": [
        "# Data Preparation and Scoring\n",
        "from sklearn import preprocessing as pp\n",
        "from scipy import stats\n",
        "from sklearn.model_selection import train_test_split\n",
        "from sklearn.model_selection import KFold\n",
        "from sklearn.model_selection import GridSearchCV\n",
        "from scipy.stats import reciprocal\n",
        "from sklearn.model_selection import RandomizedSearchCV\n",
        "from sklearn.metrics import make_scorer\n",
        "from sklearn.metrics import accuracy_score\n",
        "from sklearn.metrics import mean_absolute_error\n",
        "from sklearn.metrics import r2_score\n",
        "from sklearn.metrics import mean_squared_error\n",
        "from matplotlib.colors import LogNorm"
      ]
    },
    {
      "cell_type": "code",
      "execution_count": 80,
      "metadata": {
        "colab": {
          "base_uri": "https://localhost:8080/"
        },
        "id": "Pdh6vaiE-PVi",
        "outputId": "dc9288d1-3d1d-4ec8-b182-b81a1607c4ca"
      },
      "outputs": [
        {
          "name": "stdout",
          "output_type": "stream",
          "text": [
            "time: 0 ns (started: 2024-09-13 13:03:23 +02:00)\n"
          ]
        }
      ],
      "source": [
        "# ML Algorithms to be used\n",
        "from statsmodels.tsa.statespace.sarimax import SARIMAX\n",
        "from sklearn.svm import SVR"
      ]
    },
    {
      "cell_type": "markdown",
      "metadata": {
        "id": "_4cDs8HWmfhF"
      },
      "source": [
        "# 3. Pre-processing\n"
      ]
    },
    {
      "cell_type": "code",
      "execution_count": 81,
      "metadata": {
        "colab": {
          "base_uri": "https://localhost:8080/",
          "height": 224
        },
        "id": "lP0FCEaz6qJC",
        "outputId": "bd9455ac-018d-4ecf-defe-173a0c48045f"
      },
      "outputs": [
        {
          "name": "stdout",
          "output_type": "stream",
          "text": [
            "time: 0 ns (started: 2024-09-13 13:03:23 +02:00)\n"
          ]
        }
      ],
      "source": [
        "cwd = os.getcwd()\n",
        "DATA_PATH = os.path.join(cwd, '..', 'data')\n",
        "RAW_DATA_PATH = os.path.join(DATA_PATH, 'raw')\n",
        "def read_Data():\n",
        "    data_path = os.path.join(RAW_DATA_PATH, \"energy.csv\") #,parse_dates=[['Date', 'Hour']]) if date and hour to be merged here.\n",
        "    data = pd.read_csv(data_path)\n",
        "    return data"
      ]
    },
    {
      "cell_type": "code",
      "execution_count": 82,
      "metadata": {},
      "outputs": [
        {
          "name": "stdout",
          "output_type": "stream",
          "text": [
            "time: 31 ms (started: 2024-09-13 13:03:23 +02:00)\n"
          ]
        }
      ],
      "source": [
        "data = read_Data()"
      ]
    },
    {
      "cell_type": "code",
      "execution_count": 83,
      "metadata": {
        "colab": {
          "base_uri": "https://localhost:8080/"
        },
        "id": "cDuCWV7kVKC_",
        "outputId": "4714bf75-5389-4ddd-8a05-4db606d95e03"
      },
      "outputs": [
        {
          "name": "stdout",
          "output_type": "stream",
          "text": [
            "time: 266 ms (started: 2024-09-13 13:03:23 +02:00)\n"
          ]
        }
      ],
      "source": [
        "data = data.dropna()\n",
        "data.loc[data.Hour == 24, \"Hour\"] = 0\n",
        "data.iloc[23]\n",
        "#Converting time hour into string:\n",
        "data['Hour']= data['Hour'].apply(str)\n",
        "#Merging Columns:\n",
        "data['Date']= data['Date']+' '+ data['Hour']\n",
        "data = data.drop(['Hour'],axis=1)\n",
        "# convert the column to datetime type:\n",
        "datetime_series = pd.to_datetime(data['Date'],format='%d/%m/%Y %H')\n",
        "#Create datetime index and pass it:\n",
        "datetime_index = pd.DatetimeIndex(datetime_series.values)\n",
        "#Updating the indices:\n",
        "data=(data.set_index(datetime_index)).drop(['Date'],axis=1)\n",
        "data = data.sort_index()"
      ]
    },
    {
      "cell_type": "markdown",
      "metadata": {
        "id": "-4LBpDaTbQ9p"
      },
      "source": [
        "# SVM - III: Recursive Multi-Step-Forecasting"
      ]
    },
    {
      "attachments": {},
      "cell_type": "markdown",
      "metadata": {
        "id": "gkszZC5_7zRW"
      },
      "source": [
        "### Forecasting further in time...\n",
        "\n",
        "Lets use the SVM to predict further horizons by just using the training wisdom. Here we will follow a similar anology. We need to update the passed information about the past as we progress. Here, it is a bit more difficult as we need to update the created features as well. Lets see how it can be implemented.\n",
        "\n",
        "\n",
        "In this section, the goal is to use the Support Vector Machine (SVM) model to make predictions further into the future. This process is called forecasting.\n",
        "\n",
        "To accomplish this, we need to iteratively update the past information as we progress in time, making predictions for future time steps. This is a more challenging task because we also need to update the features used in the model as we move forward.\n",
        "\n",
        "The basic idea can be summarized in the following steps:\n",
        "\n",
        "1. `Train the SVM model on the available historical data.`\n",
        "2. `Make a prediction for the next time step using the trained model.`\n",
        "3. `Update the historical data and features with the new prediction.`\n",
        "4. `Go back to step 2, using the updated historical data and features to make a prediction for the next time step.`\n",
        "\n",
        "By repeating these steps, we can forecast further into the future while incorporating the information from previous predictions.\n",
        "\n",
        "The significance of this approach is that it allows us to make predictions beyond the available test data, leveraging the \"wisdom\" gained from training the model on historical data. This is particularly useful when trying to anticipate trends, make business decisions, or plan for future events based on past patterns.\n",
        "\n",
        "-----------------------------------------------------------------------------------------------------------------------------\n",
        "    Here's a simplified, visual example to help you understand how to use an SVM model for forecasting further horizons by updating the input features for each prediction.\n",
        "\n",
        "    Let's consider a simplified dataset containing only 3 features and the target variable (load) over 5 time steps:\n",
        "\n",
        "| Time step | Feature 1 | Feature 2 | Feature 3 | Load |\n",
        "|-----------|-----------|-----------|-----------|------|\n",
        "| 1         | 1         | 5         | 9         | 13   |\n",
        "| 2         | 2         | 6         | 10        | 14   |\n",
        "| 3         | 3         | 7         | 11        | 15   |\n",
        "| 4         | 4         | 8         | 12        | 16   |\n",
        "| 5         | 5         | 9         | 13        | 17   |\n",
        "\n",
        "    We can use a sliding window of size 2 for this example. The dataset would be transformed into the following format:\n",
        "\n",
        "| Time step | Feature 1_t1 | Feature 2_t1 | Feature 3_t1 | Feature 1_t2 | Feature 2_t2 | Feature 3_t2 | Load |\n",
        "|-----------|--------------|--------------|--------------|--------------|--------------|--------------|------|\n",
        "| 3         | 1            | 5            | 9            | 2            | 6            | 10           | 15   |\n",
        "| 4         | 2            | 6            | 10           | 3            | 7            | 11           | 16   |\n",
        "| 5         | 3            | 7            | 11           | 4            | 8            | 12           | 17   |\n",
        "\n",
        "    Now, we train an SVM model using the transformed dataset. To forecast further horizons, we follow these steps:\n",
        "\n",
        "    1. Train the SVM model on the available historical data.\n",
        "    2. Make a prediction for the next time step (Time step 6) using the trained model and the last window of features from the historical data (i.e., [3, 7, 11, 4, 8, 12]).\n",
        "    3. Update the historical data and features with the new prediction. In this case, we would replace the oldest data point (Time step 1) with the new prediction and shift the remaining data points up by one time step. We would also update the features accordingly.\n",
        "    4. Repeat steps 2-3 to make predictions for further time steps.\n",
        "\n",
        "    Here's an example of how the historical data and features would be updated after making a prediction for Time step 6:\n",
        "\n",
        "| Time step | Feature 1 | Feature 2 | Feature 3 | Load    |\n",
        "|-----------|-----------|-----------|-----------|---------|\n",
        "| 2         | 2         | 6         | 10        | 14      |\n",
        "| 3         | 3         | 7         | 11        | 15      |\n",
        "| 4         | 4         | 8         | 12        | 16      |\n",
        "| 5         | 5         | 9         | 13        | 17      |\n",
        "| 6         | New_F1    | New_F2    | New_F3    | New_Load|\n",
        "\n",
        "    By iteratively updating the historical data and features, we can forecast further into the future, leveraging the \"wisdom\" gained from training the model on historical data."
      ]
    },
    {
      "cell_type": "code",
      "execution_count": 84,
      "metadata": {
        "colab": {
          "base_uri": "https://localhost:8080/",
          "height": 161
        },
        "id": "FVxHoPDCLlQu",
        "outputId": "b94ece30-3dec-4336-d177-cacffe859e76"
      },
      "outputs": [
        {
          "data": {
            "text/html": [
              "<div>\n",
              "<style scoped>\n",
              "    .dataframe tbody tr th:only-of-type {\n",
              "        vertical-align: middle;\n",
              "    }\n",
              "\n",
              "    .dataframe tbody tr th {\n",
              "        vertical-align: top;\n",
              "    }\n",
              "\n",
              "    .dataframe thead th {\n",
              "        text-align: right;\n",
              "    }\n",
              "</style>\n",
              "<table border=\"1\" class=\"dataframe\">\n",
              "  <thead>\n",
              "    <tr style=\"text-align: right;\">\n",
              "      <th></th>\n",
              "      <th>load</th>\n",
              "      <th>T</th>\n",
              "    </tr>\n",
              "  </thead>\n",
              "  <tbody>\n",
              "    <tr>\n",
              "      <th>2010-02-26 12:00:00</th>\n",
              "      <td>3120.0</td>\n",
              "      <td>40.00</td>\n",
              "    </tr>\n",
              "    <tr>\n",
              "      <th>2014-11-15 17:00:00</th>\n",
              "      <td>3703.0</td>\n",
              "      <td>36.00</td>\n",
              "    </tr>\n",
              "    <tr>\n",
              "      <th>2012-07-03 04:00:00</th>\n",
              "      <td>2539.0</td>\n",
              "      <td>60.67</td>\n",
              "    </tr>\n",
              "  </tbody>\n",
              "</table>\n",
              "</div>"
            ],
            "text/plain": [
              "                       load      T\n",
              "2010-02-26 12:00:00  3120.0  40.00\n",
              "2014-11-15 17:00:00  3703.0  36.00\n",
              "2012-07-03 04:00:00  2539.0  60.67"
            ]
          },
          "execution_count": 84,
          "metadata": {},
          "output_type": "execute_result"
        },
        {
          "name": "stdout",
          "output_type": "stream",
          "text": [
            "time: 0 ns (started: 2024-09-13 13:03:23 +02:00)\n"
          ]
        }
      ],
      "source": [
        "#Checking Data:\n",
        "data.sample(3)"
      ]
    },
    {
      "cell_type": "code",
      "execution_count": 85,
      "metadata": {
        "colab": {
          "base_uri": "https://localhost:8080/"
        },
        "id": "k5oV65n1LlQw",
        "outputId": "859ec654-5fdf-4142-8898-45a463ef8ff6"
      },
      "outputs": [
        {
          "name": "stdout",
          "output_type": "stream",
          "text": [
            "<class 'pandas.core.frame.DataFrame'>\n",
            "DatetimeIndex: 78865 entries, 2006-01-01 23:00:00 to 2014-12-31 23:00:00\n",
            "Data columns (total 4 columns):\n",
            " #   Column  Non-Null Count  Dtype  \n",
            "---  ------  --------------  -----  \n",
            " 0   median  78865 non-null  float64\n",
            " 1   std     78865 non-null  float64\n",
            " 2   T       78865 non-null  float64\n",
            " 3   load    78865 non-null  float64\n",
            "dtypes: float64(4)\n",
            "memory usage: 3.0 MB\n",
            "time: 79 ms (started: 2024-09-13 13:03:23 +02:00)\n"
          ]
        }
      ],
      "source": [
        "#Adding statistics features in dataframes:\n",
        "#------------------------------------------------\n",
        "#Lets use only the load data;\n",
        "load_data = data[['load']]\n",
        "#Defining the window width:\n",
        "width = 24\n",
        "#Calling Rolling:\n",
        "window = load_data.rolling(window=width)\n",
        "#Lets save as a new DF. We will add min, mean and max to the load column:\n",
        "new_dataframe = pd.concat([window.median(), window.std(),data['T'], data['load']], axis=1)\n",
        "new_dataframe.columns = ['median', 'std','T', 'load']\n",
        "new_dataframe = new_dataframe.dropna() \n",
        "new_dataframe.info()"
      ]
    },
    {
      "cell_type": "code",
      "execution_count": 86,
      "metadata": {
        "colab": {
          "base_uri": "https://localhost:8080/",
          "height": 98
        },
        "id": "sCVbE3QlLlQx",
        "outputId": "72fb49d9-7b51-45af-e612-a4568d050adc"
      },
      "outputs": [
        {
          "data": {
            "text/html": [
              "<div>\n",
              "<style scoped>\n",
              "    .dataframe tbody tr th:only-of-type {\n",
              "        vertical-align: middle;\n",
              "    }\n",
              "\n",
              "    .dataframe tbody tr th {\n",
              "        vertical-align: top;\n",
              "    }\n",
              "\n",
              "    .dataframe thead th {\n",
              "        text-align: right;\n",
              "    }\n",
              "</style>\n",
              "<table border=\"1\" class=\"dataframe\">\n",
              "  <thead>\n",
              "    <tr style=\"text-align: right;\">\n",
              "      <th></th>\n",
              "      <th>median</th>\n",
              "      <th>std</th>\n",
              "      <th>T</th>\n",
              "      <th>load</th>\n",
              "    </tr>\n",
              "  </thead>\n",
              "  <tbody>\n",
              "    <tr>\n",
              "      <th>2006-01-01 23:00:00</th>\n",
              "      <td>3512.0</td>\n",
              "      <td>471.067697</td>\n",
              "      <td>24.33</td>\n",
              "      <td>3255.0</td>\n",
              "    </tr>\n",
              "  </tbody>\n",
              "</table>\n",
              "</div>"
            ],
            "text/plain": [
              "                     median         std      T    load\n",
              "2006-01-01 23:00:00  3512.0  471.067697  24.33  3255.0"
            ]
          },
          "execution_count": 86,
          "metadata": {},
          "output_type": "execute_result"
        },
        {
          "name": "stdout",
          "output_type": "stream",
          "text": [
            "time: 0 ns (started: 2024-09-13 13:03:24 +02:00)\n"
          ]
        }
      ],
      "source": [
        "new_dataframe.head(1)"
      ]
    },
    {
      "cell_type": "code",
      "execution_count": 87,
      "metadata": {
        "colab": {
          "base_uri": "https://localhost:8080/"
        },
        "id": "ZZfbMS8KLlQx",
        "outputId": "f15b33a7-fa05-46c7-bbdd-d29978d142b7"
      },
      "outputs": [
        {
          "name": "stdout",
          "output_type": "stream",
          "text": [
            "time: 1.44 s (started: 2024-09-13 13:03:24 +02:00)\n"
          ]
        }
      ],
      "source": [
        "#finding the indices as integers for time substraction below:\n",
        "start = np.where(new_dataframe.index == '2012-09-01 00:00:00')[0][0]\n",
        "end = np.where(new_dataframe.index == '2014-12-31 00:00:00')[0][0]\n",
        "#setting windows width:\n",
        "window = 48\n",
        "#emply datalist\n",
        "dataX = []\n",
        "dataY = []\n",
        "column_names = []\n",
        "for i in range(start,end-window):\n",
        "\n",
        "    # Slice a window of features\n",
        "    dataX.append((new_dataframe.iloc[i:i+window].to_numpy()).ravel())\n",
        "    dataY.append(new_dataframe['load'].iloc[i+window] )\n",
        "\n",
        "for j in range (1,window+1):\n",
        "      column_names.append(['median_t_'+str(j),'std_t_'+str(j),'T_t_'+str(j),'load_t_'+str(j)])\n",
        "\n",
        "column_names = itertools.chain(*column_names)\n",
        "dataX = pd.DataFrame(np.vstack(dataX),index=new_dataframe.iloc[start+window:end].index)\n",
        "dataX.columns = column_names\n",
        "dataY =pd.Series(dataY,index=new_dataframe.iloc[start+window:end].index)\n",
        "dataY.column = ['true_load']"
      ]
    },
    {
      "cell_type": "code",
      "execution_count": 88,
      "metadata": {
        "colab": {
          "base_uri": "https://localhost:8080/",
          "height": 255
        },
        "id": "ONMxRdV_LlQx",
        "outputId": "462d3ad7-fd40-4207-e039-148c64840de0"
      },
      "outputs": [
        {
          "data": {
            "text/html": [
              "<div>\n",
              "<style scoped>\n",
              "    .dataframe tbody tr th:only-of-type {\n",
              "        vertical-align: middle;\n",
              "    }\n",
              "\n",
              "    .dataframe tbody tr th {\n",
              "        vertical-align: top;\n",
              "    }\n",
              "\n",
              "    .dataframe thead th {\n",
              "        text-align: right;\n",
              "    }\n",
              "</style>\n",
              "<table border=\"1\" class=\"dataframe\">\n",
              "  <thead>\n",
              "    <tr style=\"text-align: right;\">\n",
              "      <th></th>\n",
              "      <th>median</th>\n",
              "      <th>std</th>\n",
              "      <th>T</th>\n",
              "      <th>load</th>\n",
              "    </tr>\n",
              "  </thead>\n",
              "  <tbody>\n",
              "    <tr>\n",
              "      <th>2012-09-01 00:00:00</th>\n",
              "      <td>3750.5</td>\n",
              "      <td>593.535976</td>\n",
              "      <td>59.33</td>\n",
              "      <td>2719.0</td>\n",
              "    </tr>\n",
              "    <tr>\n",
              "      <th>2012-09-01 01:00:00</th>\n",
              "      <td>3750.5</td>\n",
              "      <td>588.651369</td>\n",
              "      <td>69.67</td>\n",
              "      <td>2817.0</td>\n",
              "    </tr>\n",
              "    <tr>\n",
              "      <th>2012-09-01 02:00:00</th>\n",
              "      <td>3750.5</td>\n",
              "      <td>584.145753</td>\n",
              "      <td>67.33</td>\n",
              "      <td>2664.0</td>\n",
              "    </tr>\n",
              "    <tr>\n",
              "      <th>2012-09-01 03:00:00</th>\n",
              "      <td>3750.5</td>\n",
              "      <td>580.500794</td>\n",
              "      <td>69.33</td>\n",
              "      <td>2580.0</td>\n",
              "    </tr>\n",
              "    <tr>\n",
              "      <th>2012-09-01 04:00:00</th>\n",
              "      <td>3750.5</td>\n",
              "      <td>577.913412</td>\n",
              "      <td>67.67</td>\n",
              "      <td>2537.0</td>\n",
              "    </tr>\n",
              "    <tr>\n",
              "      <th>2012-09-01 05:00:00</th>\n",
              "      <td>3750.5</td>\n",
              "      <td>581.252095</td>\n",
              "      <td>65.00</td>\n",
              "      <td>2525.0</td>\n",
              "    </tr>\n",
              "  </tbody>\n",
              "</table>\n",
              "</div>"
            ],
            "text/plain": [
              "                     median         std      T    load\n",
              "2012-09-01 00:00:00  3750.5  593.535976  59.33  2719.0\n",
              "2012-09-01 01:00:00  3750.5  588.651369  69.67  2817.0\n",
              "2012-09-01 02:00:00  3750.5  584.145753  67.33  2664.0\n",
              "2012-09-01 03:00:00  3750.5  580.500794  69.33  2580.0\n",
              "2012-09-01 04:00:00  3750.5  577.913412  67.67  2537.0\n",
              "2012-09-01 05:00:00  3750.5  581.252095  65.00  2525.0"
            ]
          },
          "execution_count": 88,
          "metadata": {},
          "output_type": "execute_result"
        },
        {
          "name": "stdout",
          "output_type": "stream",
          "text": [
            "time: 0 ns (started: 2024-09-13 13:03:25 +02:00)\n"
          ]
        }
      ],
      "source": [
        "#Original DF:\n",
        "new_dataframe.loc['2012-09-01 00:00:00':'2012-09-04 00:00:00'].head(6)"
      ]
    },
    {
      "cell_type": "code",
      "execution_count": 89,
      "metadata": {
        "colab": {
          "base_uri": "https://localhost:8080/",
          "height": 258
        },
        "id": "KPJaDYEjLlQy",
        "outputId": "0d1bb1ed-d354-4658-ec75-f29bc85411ea"
      },
      "outputs": [
        {
          "data": {
            "text/html": [
              "<div>\n",
              "<style scoped>\n",
              "    .dataframe tbody tr th:only-of-type {\n",
              "        vertical-align: middle;\n",
              "    }\n",
              "\n",
              "    .dataframe tbody tr th {\n",
              "        vertical-align: top;\n",
              "    }\n",
              "\n",
              "    .dataframe thead th {\n",
              "        text-align: right;\n",
              "    }\n",
              "</style>\n",
              "<table border=\"1\" class=\"dataframe\">\n",
              "  <thead>\n",
              "    <tr style=\"text-align: right;\">\n",
              "      <th></th>\n",
              "      <th>median_t_1</th>\n",
              "      <th>std_t_1</th>\n",
              "      <th>T_t_1</th>\n",
              "      <th>load_t_1</th>\n",
              "      <th>median_t_2</th>\n",
              "      <th>std_t_2</th>\n",
              "      <th>T_t_2</th>\n",
              "      <th>load_t_2</th>\n",
              "      <th>median_t_3</th>\n",
              "      <th>std_t_3</th>\n",
              "      <th>...</th>\n",
              "      <th>T_t_46</th>\n",
              "      <th>load_t_46</th>\n",
              "      <th>median_t_47</th>\n",
              "      <th>std_t_47</th>\n",
              "      <th>T_t_47</th>\n",
              "      <th>load_t_47</th>\n",
              "      <th>median_t_48</th>\n",
              "      <th>std_t_48</th>\n",
              "      <th>T_t_48</th>\n",
              "      <th>load_t_48</th>\n",
              "    </tr>\n",
              "  </thead>\n",
              "  <tbody>\n",
              "    <tr>\n",
              "      <th>2012-09-03 00:00:00</th>\n",
              "      <td>3750.5</td>\n",
              "      <td>593.535976</td>\n",
              "      <td>59.33</td>\n",
              "      <td>2719.0</td>\n",
              "      <td>3750.5</td>\n",
              "      <td>588.651369</td>\n",
              "      <td>69.67</td>\n",
              "      <td>2817.0</td>\n",
              "      <td>3750.5</td>\n",
              "      <td>584.145753</td>\n",
              "      <td>...</td>\n",
              "      <td>64.67</td>\n",
              "      <td>3270.0</td>\n",
              "      <td>3107.5</td>\n",
              "      <td>400.451258</td>\n",
              "      <td>62.0</td>\n",
              "      <td>3070.0</td>\n",
              "      <td>3107.5</td>\n",
              "      <td>400.479656</td>\n",
              "      <td>60.00</td>\n",
              "      <td>2825.0</td>\n",
              "    </tr>\n",
              "    <tr>\n",
              "      <th>2012-09-03 01:00:00</th>\n",
              "      <td>3750.5</td>\n",
              "      <td>588.651369</td>\n",
              "      <td>69.67</td>\n",
              "      <td>2817.0</td>\n",
              "      <td>3750.5</td>\n",
              "      <td>584.145753</td>\n",
              "      <td>67.33</td>\n",
              "      <td>2664.0</td>\n",
              "      <td>3750.5</td>\n",
              "      <td>580.500794</td>\n",
              "      <td>...</td>\n",
              "      <td>62.00</td>\n",
              "      <td>3070.0</td>\n",
              "      <td>3107.5</td>\n",
              "      <td>400.479656</td>\n",
              "      <td>60.0</td>\n",
              "      <td>2825.0</td>\n",
              "      <td>3107.5</td>\n",
              "      <td>398.969315</td>\n",
              "      <td>64.67</td>\n",
              "      <td>2630.0</td>\n",
              "    </tr>\n",
              "  </tbody>\n",
              "</table>\n",
              "<p>2 rows × 192 columns</p>\n",
              "</div>"
            ],
            "text/plain": [
              "                     median_t_1     std_t_1  T_t_1  load_t_1  median_t_2  \\\n",
              "2012-09-03 00:00:00      3750.5  593.535976  59.33    2719.0      3750.5   \n",
              "2012-09-03 01:00:00      3750.5  588.651369  69.67    2817.0      3750.5   \n",
              "\n",
              "                        std_t_2  T_t_2  load_t_2  median_t_3     std_t_3  ...  \\\n",
              "2012-09-03 00:00:00  588.651369  69.67    2817.0      3750.5  584.145753  ...   \n",
              "2012-09-03 01:00:00  584.145753  67.33    2664.0      3750.5  580.500794  ...   \n",
              "\n",
              "                     T_t_46  load_t_46  median_t_47    std_t_47  T_t_47  \\\n",
              "2012-09-03 00:00:00   64.67     3270.0       3107.5  400.451258    62.0   \n",
              "2012-09-03 01:00:00   62.00     3070.0       3107.5  400.479656    60.0   \n",
              "\n",
              "                     load_t_47  median_t_48    std_t_48  T_t_48  load_t_48  \n",
              "2012-09-03 00:00:00     3070.0       3107.5  400.479656   60.00     2825.0  \n",
              "2012-09-03 01:00:00     2825.0       3107.5  398.969315   64.67     2630.0  \n",
              "\n",
              "[2 rows x 192 columns]"
            ]
          },
          "execution_count": 89,
          "metadata": {},
          "output_type": "execute_result"
        },
        {
          "name": "stdout",
          "output_type": "stream",
          "text": [
            "time: 16 ms (started: 2024-09-13 13:03:25 +02:00)\n"
          ]
        }
      ],
      "source": [
        "dataX.head(2)"
      ]
    },
    {
      "cell_type": "code",
      "execution_count": 90,
      "metadata": {
        "colab": {
          "base_uri": "https://localhost:8080/"
        },
        "id": "BG9oqMvpLlQz",
        "outputId": "f9c70ae4-a927-483b-eb66-3d59c399d978"
      },
      "outputs": [
        {
          "data": {
            "text/plain": [
              "2012-09-03 00:00:00    2630.0\n",
              "2012-09-03 01:00:00    2403.0\n",
              "dtype: float64"
            ]
          },
          "execution_count": 90,
          "metadata": {},
          "output_type": "execute_result"
        },
        {
          "name": "stdout",
          "output_type": "stream",
          "text": [
            "time: 0 ns (started: 2024-09-13 13:03:25 +02:00)\n"
          ]
        }
      ],
      "source": [
        "dataY.head(2)"
      ]
    },
    {
      "cell_type": "code",
      "execution_count": 91,
      "metadata": {
        "colab": {
          "base_uri": "https://localhost:8080/",
          "height": 411
        },
        "id": "0W6M7BAULlQz",
        "outputId": "1ad36e7e-db9e-4e2a-acea-6f9b89c7055e"
      },
      "outputs": [
        {
          "data": {
            "text/html": [
              "<div>\n",
              "<style scoped>\n",
              "    .dataframe tbody tr th:only-of-type {\n",
              "        vertical-align: middle;\n",
              "    }\n",
              "\n",
              "    .dataframe tbody tr th {\n",
              "        vertical-align: top;\n",
              "    }\n",
              "\n",
              "    .dataframe thead th {\n",
              "        text-align: right;\n",
              "    }\n",
              "</style>\n",
              "<table border=\"1\" class=\"dataframe\">\n",
              "  <thead>\n",
              "    <tr style=\"text-align: right;\">\n",
              "      <th></th>\n",
              "      <th>median_t_1</th>\n",
              "      <th>std_t_1</th>\n",
              "      <th>T_t_1</th>\n",
              "      <th>load_t_1</th>\n",
              "      <th>median_t_2</th>\n",
              "      <th>std_t_2</th>\n",
              "      <th>T_t_2</th>\n",
              "      <th>load_t_2</th>\n",
              "      <th>median_t_3</th>\n",
              "      <th>std_t_3</th>\n",
              "      <th>...</th>\n",
              "      <th>T_t_46</th>\n",
              "      <th>load_t_46</th>\n",
              "      <th>median_t_47</th>\n",
              "      <th>std_t_47</th>\n",
              "      <th>T_t_47</th>\n",
              "      <th>load_t_47</th>\n",
              "      <th>median_t_48</th>\n",
              "      <th>std_t_48</th>\n",
              "      <th>T_t_48</th>\n",
              "      <th>load_t_48</th>\n",
              "    </tr>\n",
              "  </thead>\n",
              "  <tbody>\n",
              "    <tr>\n",
              "      <th>count</th>\n",
              "      <td>2.037600e+04</td>\n",
              "      <td>2.037600e+04</td>\n",
              "      <td>2.037600e+04</td>\n",
              "      <td>2.037600e+04</td>\n",
              "      <td>2.037600e+04</td>\n",
              "      <td>2.037600e+04</td>\n",
              "      <td>2.037600e+04</td>\n",
              "      <td>2.037600e+04</td>\n",
              "      <td>2.037600e+04</td>\n",
              "      <td>2.037600e+04</td>\n",
              "      <td>...</td>\n",
              "      <td>2.037600e+04</td>\n",
              "      <td>2.037600e+04</td>\n",
              "      <td>2.037600e+04</td>\n",
              "      <td>2.037600e+04</td>\n",
              "      <td>2.037600e+04</td>\n",
              "      <td>2.037600e+04</td>\n",
              "      <td>2.037600e+04</td>\n",
              "      <td>2.037600e+04</td>\n",
              "      <td>2.037600e+04</td>\n",
              "      <td>2.037600e+04</td>\n",
              "    </tr>\n",
              "    <tr>\n",
              "      <th>mean</th>\n",
              "      <td>1.534348e-16</td>\n",
              "      <td>1.427223e-14</td>\n",
              "      <td>-3.559688e-15</td>\n",
              "      <td>1.115890e-16</td>\n",
              "      <td>-5.551551e-16</td>\n",
              "      <td>1.554434e-14</td>\n",
              "      <td>-3.715913e-15</td>\n",
              "      <td>2.050447e-16</td>\n",
              "      <td>2.901313e-16</td>\n",
              "      <td>1.567825e-14</td>\n",
              "      <td>...</td>\n",
              "      <td>-3.794025e-15</td>\n",
              "      <td>-2.915262e-16</td>\n",
              "      <td>-3.403463e-16</td>\n",
              "      <td>1.433918e-14</td>\n",
              "      <td>-3.626641e-15</td>\n",
              "      <td>-8.648145e-17</td>\n",
              "      <td>6.862721e-16</td>\n",
              "      <td>1.402673e-14</td>\n",
              "      <td>-3.648959e-15</td>\n",
              "      <td>3.849819e-16</td>\n",
              "    </tr>\n",
              "    <tr>\n",
              "      <th>std</th>\n",
              "      <td>1.000025e+00</td>\n",
              "      <td>1.000025e+00</td>\n",
              "      <td>1.000025e+00</td>\n",
              "      <td>1.000025e+00</td>\n",
              "      <td>1.000025e+00</td>\n",
              "      <td>1.000025e+00</td>\n",
              "      <td>1.000025e+00</td>\n",
              "      <td>1.000025e+00</td>\n",
              "      <td>1.000025e+00</td>\n",
              "      <td>1.000025e+00</td>\n",
              "      <td>...</td>\n",
              "      <td>1.000025e+00</td>\n",
              "      <td>1.000025e+00</td>\n",
              "      <td>1.000025e+00</td>\n",
              "      <td>1.000025e+00</td>\n",
              "      <td>1.000025e+00</td>\n",
              "      <td>1.000025e+00</td>\n",
              "      <td>1.000025e+00</td>\n",
              "      <td>1.000025e+00</td>\n",
              "      <td>1.000025e+00</td>\n",
              "      <td>1.000025e+00</td>\n",
              "    </tr>\n",
              "    <tr>\n",
              "      <th>min</th>\n",
              "      <td>-2.355880e+00</td>\n",
              "      <td>-2.958309e+00</td>\n",
              "      <td>-3.153453e+00</td>\n",
              "      <td>-2.385987e+00</td>\n",
              "      <td>-2.355820e+00</td>\n",
              "      <td>-2.958401e+00</td>\n",
              "      <td>-3.153275e+00</td>\n",
              "      <td>-2.386093e+00</td>\n",
              "      <td>-2.355760e+00</td>\n",
              "      <td>-2.958481e+00</td>\n",
              "      <td>...</td>\n",
              "      <td>-3.147893e+00</td>\n",
              "      <td>-2.387341e+00</td>\n",
              "      <td>-2.357287e+00</td>\n",
              "      <td>-2.959521e+00</td>\n",
              "      <td>-3.147675e+00</td>\n",
              "      <td>-2.387288e+00</td>\n",
              "      <td>-2.357430e+00</td>\n",
              "      <td>-2.959641e+00</td>\n",
              "      <td>-3.147327e+00</td>\n",
              "      <td>-2.387307e+00</td>\n",
              "    </tr>\n",
              "    <tr>\n",
              "      <th>25%</th>\n",
              "      <td>-6.224290e-01</td>\n",
              "      <td>-6.242725e-01</td>\n",
              "      <td>-7.685031e-01</td>\n",
              "      <td>-7.777970e-01</td>\n",
              "      <td>-6.223606e-01</td>\n",
              "      <td>-6.242466e-01</td>\n",
              "      <td>-7.683892e-01</td>\n",
              "      <td>-7.778604e-01</td>\n",
              "      <td>-6.222921e-01</td>\n",
              "      <td>-6.242185e-01</td>\n",
              "      <td>...</td>\n",
              "      <td>-7.635315e-01</td>\n",
              "      <td>-7.779760e-01</td>\n",
              "      <td>-6.222434e-01</td>\n",
              "      <td>-6.237019e-01</td>\n",
              "      <td>-7.633885e-01</td>\n",
              "      <td>-7.780103e-01</td>\n",
              "      <td>-6.223742e-01</td>\n",
              "      <td>-6.236980e-01</td>\n",
              "      <td>-7.632052e-01</td>\n",
              "      <td>-7.780655e-01</td>\n",
              "    </tr>\n",
              "    <tr>\n",
              "      <th>50%</th>\n",
              "      <td>-1.288194e-01</td>\n",
              "      <td>-9.989587e-02</td>\n",
              "      <td>3.205064e-02</td>\n",
              "      <td>1.232201e-01</td>\n",
              "      <td>-1.287485e-01</td>\n",
              "      <td>-9.984365e-02</td>\n",
              "      <td>3.214288e-02</td>\n",
              "      <td>1.231807e-01</td>\n",
              "      <td>-1.286777e-01</td>\n",
              "      <td>-9.979099e-02</td>\n",
              "      <td>...</td>\n",
              "      <td>3.682467e-02</td>\n",
              "      <td>1.226942e-01</td>\n",
              "      <td>-1.286535e-01</td>\n",
              "      <td>-1.004424e-01</td>\n",
              "      <td>3.694223e-02</td>\n",
              "      <td>1.226109e-01</td>\n",
              "      <td>-1.287808e-01</td>\n",
              "      <td>-1.004188e-01</td>\n",
              "      <td>3.707034e-02</td>\n",
              "      <td>1.225355e-01</td>\n",
              "    </tr>\n",
              "    <tr>\n",
              "      <th>75%</th>\n",
              "      <td>6.307080e-01</td>\n",
              "      <td>4.340683e-01</td>\n",
              "      <td>7.981382e-01</td>\n",
              "      <td>6.903942e-01</td>\n",
              "      <td>6.307825e-01</td>\n",
              "      <td>4.339395e-01</td>\n",
              "      <td>7.982098e-01</td>\n",
              "      <td>6.903700e-01</td>\n",
              "      <td>6.308570e-01</td>\n",
              "      <td>4.339409e-01</td>\n",
              "      <td>...</td>\n",
              "      <td>8.027232e-01</td>\n",
              "      <td>6.914441e-01</td>\n",
              "      <td>6.308434e-01</td>\n",
              "      <td>4.343817e-01</td>\n",
              "      <td>8.028165e-01</td>\n",
              "      <td>6.913299e-01</td>\n",
              "      <td>6.307215e-01</td>\n",
              "      <td>4.343356e-01</td>\n",
              "      <td>8.028917e-01</td>\n",
              "      <td>6.912417e-01</td>\n",
              "    </tr>\n",
              "    <tr>\n",
              "      <th>max</th>\n",
              "      <td>4.194005e+00</td>\n",
              "      <td>4.584623e+00</td>\n",
              "      <td>2.521444e+00</td>\n",
              "      <td>3.438317e+00</td>\n",
              "      <td>4.194096e+00</td>\n",
              "      <td>4.584911e+00</td>\n",
              "      <td>2.521469e+00</td>\n",
              "      <td>3.438366e+00</td>\n",
              "      <td>4.194188e+00</td>\n",
              "      <td>4.585182e+00</td>\n",
              "      <td>...</td>\n",
              "      <td>2.525603e+00</td>\n",
              "      <td>3.434720e+00</td>\n",
              "      <td>4.192336e+00</td>\n",
              "      <td>4.588446e+00</td>\n",
              "      <td>2.525642e+00</td>\n",
              "      <td>3.434457e+00</td>\n",
              "      <td>4.192239e+00</td>\n",
              "      <td>4.588490e+00</td>\n",
              "      <td>2.525598e+00</td>\n",
              "      <td>3.434307e+00</td>\n",
              "    </tr>\n",
              "  </tbody>\n",
              "</table>\n",
              "<p>8 rows × 192 columns</p>\n",
              "</div>"
            ],
            "text/plain": [
              "         median_t_1       std_t_1         T_t_1      load_t_1    median_t_2  \\\n",
              "count  2.037600e+04  2.037600e+04  2.037600e+04  2.037600e+04  2.037600e+04   \n",
              "mean   1.534348e-16  1.427223e-14 -3.559688e-15  1.115890e-16 -5.551551e-16   \n",
              "std    1.000025e+00  1.000025e+00  1.000025e+00  1.000025e+00  1.000025e+00   \n",
              "min   -2.355880e+00 -2.958309e+00 -3.153453e+00 -2.385987e+00 -2.355820e+00   \n",
              "25%   -6.224290e-01 -6.242725e-01 -7.685031e-01 -7.777970e-01 -6.223606e-01   \n",
              "50%   -1.288194e-01 -9.989587e-02  3.205064e-02  1.232201e-01 -1.287485e-01   \n",
              "75%    6.307080e-01  4.340683e-01  7.981382e-01  6.903942e-01  6.307825e-01   \n",
              "max    4.194005e+00  4.584623e+00  2.521444e+00  3.438317e+00  4.194096e+00   \n",
              "\n",
              "            std_t_2         T_t_2      load_t_2    median_t_3       std_t_3  \\\n",
              "count  2.037600e+04  2.037600e+04  2.037600e+04  2.037600e+04  2.037600e+04   \n",
              "mean   1.554434e-14 -3.715913e-15  2.050447e-16  2.901313e-16  1.567825e-14   \n",
              "std    1.000025e+00  1.000025e+00  1.000025e+00  1.000025e+00  1.000025e+00   \n",
              "min   -2.958401e+00 -3.153275e+00 -2.386093e+00 -2.355760e+00 -2.958481e+00   \n",
              "25%   -6.242466e-01 -7.683892e-01 -7.778604e-01 -6.222921e-01 -6.242185e-01   \n",
              "50%   -9.984365e-02  3.214288e-02  1.231807e-01 -1.286777e-01 -9.979099e-02   \n",
              "75%    4.339395e-01  7.982098e-01  6.903700e-01  6.308570e-01  4.339409e-01   \n",
              "max    4.584911e+00  2.521469e+00  3.438366e+00  4.194188e+00  4.585182e+00   \n",
              "\n",
              "       ...        T_t_46     load_t_46   median_t_47      std_t_47  \\\n",
              "count  ...  2.037600e+04  2.037600e+04  2.037600e+04  2.037600e+04   \n",
              "mean   ... -3.794025e-15 -2.915262e-16 -3.403463e-16  1.433918e-14   \n",
              "std    ...  1.000025e+00  1.000025e+00  1.000025e+00  1.000025e+00   \n",
              "min    ... -3.147893e+00 -2.387341e+00 -2.357287e+00 -2.959521e+00   \n",
              "25%    ... -7.635315e-01 -7.779760e-01 -6.222434e-01 -6.237019e-01   \n",
              "50%    ...  3.682467e-02  1.226942e-01 -1.286535e-01 -1.004424e-01   \n",
              "75%    ...  8.027232e-01  6.914441e-01  6.308434e-01  4.343817e-01   \n",
              "max    ...  2.525603e+00  3.434720e+00  4.192336e+00  4.588446e+00   \n",
              "\n",
              "             T_t_47     load_t_47   median_t_48      std_t_48        T_t_48  \\\n",
              "count  2.037600e+04  2.037600e+04  2.037600e+04  2.037600e+04  2.037600e+04   \n",
              "mean  -3.626641e-15 -8.648145e-17  6.862721e-16  1.402673e-14 -3.648959e-15   \n",
              "std    1.000025e+00  1.000025e+00  1.000025e+00  1.000025e+00  1.000025e+00   \n",
              "min   -3.147675e+00 -2.387288e+00 -2.357430e+00 -2.959641e+00 -3.147327e+00   \n",
              "25%   -7.633885e-01 -7.780103e-01 -6.223742e-01 -6.236980e-01 -7.632052e-01   \n",
              "50%    3.694223e-02  1.226109e-01 -1.287808e-01 -1.004188e-01  3.707034e-02   \n",
              "75%    8.028165e-01  6.913299e-01  6.307215e-01  4.343356e-01  8.028917e-01   \n",
              "max    2.525642e+00  3.434457e+00  4.192239e+00  4.588490e+00  2.525598e+00   \n",
              "\n",
              "          load_t_48  \n",
              "count  2.037600e+04  \n",
              "mean   3.849819e-16  \n",
              "std    1.000025e+00  \n",
              "min   -2.387307e+00  \n",
              "25%   -7.780655e-01  \n",
              "50%    1.225355e-01  \n",
              "75%    6.912417e-01  \n",
              "max    3.434307e+00  \n",
              "\n",
              "[8 rows x 192 columns]"
            ]
          },
          "execution_count": 91,
          "metadata": {},
          "output_type": "execute_result"
        },
        {
          "name": "stdout",
          "output_type": "stream",
          "text": [
            "time: 515 ms (started: 2024-09-13 13:03:25 +02:00)\n"
          ]
        }
      ],
      "source": [
        "#Rescaling the data\n",
        "featuresToScale = dataX.columns\n",
        "sX = pp.StandardScaler(copy=True)\n",
        "dataX.loc[:,featuresToScale] = sX.fit_transform(dataX[featuresToScale])\n",
        "#Looking into the statistics again:\n",
        "dataX.describe()"
      ]
    },
    {
      "cell_type": "code",
      "execution_count": 92,
      "metadata": {
        "colab": {
          "base_uri": "https://localhost:8080/"
        },
        "id": "UC-RR1QeMrZs",
        "outputId": "1a57f942-3de9-45df-c398-020c2230ae15"
      },
      "outputs": [
        {
          "data": {
            "text/plain": [
              "2012-09-03 00:00:00    0.658707\n",
              "2012-09-03 01:00:00    1.198676\n",
              "2012-09-03 02:00:00    1.076478\n",
              "2012-09-03 03:00:00    1.180921\n",
              "2012-09-03 04:00:00    1.094233\n",
              "                         ...   \n",
              "2014-12-30 19:00:00   -0.246289\n",
              "2014-12-30 20:00:00   -0.281278\n",
              "2014-12-30 21:00:00   -0.385720\n",
              "2014-12-30 22:00:00   -0.472408\n",
              "2014-12-30 23:00:00   -0.507396\n",
              "Name: T_t_1, Length: 20376, dtype: float64"
            ]
          },
          "execution_count": 92,
          "metadata": {},
          "output_type": "execute_result"
        },
        {
          "name": "stdout",
          "output_type": "stream",
          "text": [
            "time: 0 ns (started: 2024-09-13 13:03:26 +02:00)\n"
          ]
        }
      ],
      "source": [
        "#Temperature for weather forecasting (later used in multistep forecasting):\n",
        "temp_test = dataX['T_t_1']\n",
        "temp_test"
      ]
    },
    {
      "cell_type": "code",
      "execution_count": 93,
      "metadata": {
        "colab": {
          "base_uri": "https://localhost:8080/"
        },
        "id": "XA1VYQg9LlQ1",
        "outputId": "4abc288d-0c50-42b1-e15a-a673d0a82b77"
      },
      "outputs": [
        {
          "name": "stdout",
          "output_type": "stream",
          "text": [
            "Train data shape:  (744, 192) (744,)\n",
            "Test data shape:  (72, 192) (72,)\n",
            "time: 62 ms (started: 2024-09-13 13:03:26 +02:00)\n"
          ]
        }
      ],
      "source": [
        "# Train-Test Split:\n",
        "# We will split the data as training and test. No need for validation here. \n",
        "train_start_dt = '2014-10-01'\n",
        "test_start_dt = '2014-11-01'\n",
        "test_end_dt = '2014-11-04'\n",
        "#Lets use the same notation: X_train, X_test, y_train, y_test\n",
        "X_train = dataX.copy()[(dataX.index >= train_start_dt)& (dataX.index < test_start_dt)]\n",
        "y_train = dataY.copy()[(dataY.index >= train_start_dt)& (dataY.index < test_start_dt)]\n",
        "\n",
        "X_test =  dataX.copy()[(dataX.index >= test_start_dt) & (dataX.index < test_end_dt)]\n",
        "y_test =  dataY.copy()[(dataY.index >= test_start_dt) & (dataY.index < test_end_dt)]\n",
        "\n",
        "\n",
        "print('Train data shape: ', X_train.shape, y_train.shape)\n",
        "print('Test data shape: ', X_test.shape, y_test.shape)"
      ]
    },
    {
      "cell_type": "code",
      "execution_count": 94,
      "metadata": {
        "colab": {
          "base_uri": "https://localhost:8080/"
        },
        "id": "ufm-Re7y8ft_",
        "outputId": "b2fbcf90-eeaa-4831-98c3-003db7d63eae"
      },
      "outputs": [
        {
          "name": "stdout",
          "output_type": "stream",
          "text": [
            "time: 0 ns (started: 2024-09-13 13:03:26 +02:00)\n"
          ]
        }
      ],
      "source": [
        "# First element passed to SVM:\n",
        "X_last = X_test.iloc[0:1]"
      ]
    },
    {
      "cell_type": "code",
      "execution_count": 95,
      "metadata": {
        "colab": {
          "base_uri": "https://localhost:8080/",
          "height": 191
        },
        "id": "vdslZc40FcPl",
        "outputId": "1fda0e97-3166-46b6-8f97-f17dfa060855"
      },
      "outputs": [
        {
          "data": {
            "text/html": [
              "<div>\n",
              "<style scoped>\n",
              "    .dataframe tbody tr th:only-of-type {\n",
              "        vertical-align: middle;\n",
              "    }\n",
              "\n",
              "    .dataframe tbody tr th {\n",
              "        vertical-align: top;\n",
              "    }\n",
              "\n",
              "    .dataframe thead th {\n",
              "        text-align: right;\n",
              "    }\n",
              "</style>\n",
              "<table border=\"1\" class=\"dataframe\">\n",
              "  <thead>\n",
              "    <tr style=\"text-align: right;\">\n",
              "      <th></th>\n",
              "      <th>median_t_1</th>\n",
              "      <th>std_t_1</th>\n",
              "      <th>T_t_1</th>\n",
              "      <th>load_t_1</th>\n",
              "      <th>median_t_2</th>\n",
              "      <th>std_t_2</th>\n",
              "      <th>T_t_2</th>\n",
              "      <th>load_t_2</th>\n",
              "      <th>median_t_3</th>\n",
              "      <th>std_t_3</th>\n",
              "      <th>...</th>\n",
              "      <th>T_t_46</th>\n",
              "      <th>load_t_46</th>\n",
              "      <th>median_t_47</th>\n",
              "      <th>std_t_47</th>\n",
              "      <th>T_t_47</th>\n",
              "      <th>load_t_47</th>\n",
              "      <th>median_t_48</th>\n",
              "      <th>std_t_48</th>\n",
              "      <th>T_t_48</th>\n",
              "      <th>load_t_48</th>\n",
              "    </tr>\n",
              "  </thead>\n",
              "  <tbody>\n",
              "    <tr>\n",
              "      <th>2014-11-01</th>\n",
              "      <td>-0.135467</td>\n",
              "      <td>0.127658</td>\n",
              "      <td>-0.298511</td>\n",
              "      <td>-1.066769</td>\n",
              "      <td>-0.135397</td>\n",
              "      <td>0.121461</td>\n",
              "      <td>0.06713</td>\n",
              "      <td>-1.443769</td>\n",
              "      <td>-0.135326</td>\n",
              "      <td>0.119772</td>\n",
              "      <td>...</td>\n",
              "      <td>-0.206467</td>\n",
              "      <td>0.009662</td>\n",
              "      <td>-0.668777</td>\n",
              "      <td>-0.994718</td>\n",
              "      <td>-0.189113</td>\n",
              "      <td>-0.300789</td>\n",
              "      <td>-0.668908</td>\n",
              "      <td>-0.972099</td>\n",
              "      <td>-0.293376</td>\n",
              "      <td>-0.745773</td>\n",
              "    </tr>\n",
              "  </tbody>\n",
              "</table>\n",
              "<p>1 rows × 192 columns</p>\n",
              "</div>"
            ],
            "text/plain": [
              "            median_t_1   std_t_1     T_t_1  load_t_1  median_t_2   std_t_2  \\\n",
              "2014-11-01   -0.135467  0.127658 -0.298511 -1.066769   -0.135397  0.121461   \n",
              "\n",
              "              T_t_2  load_t_2  median_t_3   std_t_3  ...    T_t_46  load_t_46  \\\n",
              "2014-11-01  0.06713 -1.443769   -0.135326  0.119772  ... -0.206467   0.009662   \n",
              "\n",
              "            median_t_47  std_t_47    T_t_47  load_t_47  median_t_48  std_t_48  \\\n",
              "2014-11-01    -0.668777 -0.994718 -0.189113  -0.300789    -0.668908 -0.972099   \n",
              "\n",
              "              T_t_48  load_t_48  \n",
              "2014-11-01 -0.293376  -0.745773  \n",
              "\n",
              "[1 rows x 192 columns]"
            ]
          },
          "execution_count": 95,
          "metadata": {},
          "output_type": "execute_result"
        },
        {
          "name": "stdout",
          "output_type": "stream",
          "text": [
            "time: 16 ms (started: 2024-09-13 13:03:26 +02:00)\n"
          ]
        }
      ],
      "source": [
        "X_last"
      ]
    },
    {
      "cell_type": "code",
      "execution_count": 96,
      "metadata": {
        "colab": {
          "base_uri": "https://localhost:8080/"
        },
        "id": "XJb_EodgBXbf",
        "outputId": "a4a8f270-991d-4171-d7b5-2faae80ac0ec"
      },
      "outputs": [
        {
          "data": {
            "text/plain": [
              "array([-1.06676868, -1.44376922, -1.59809716, -1.67346251, -1.65371422,\n",
              "       -1.47603732, -0.99145552, -0.06890565,  0.37799529,  0.38691767,\n",
              "        0.4066172 ,  0.32041933,  0.24858831,  0.15522374,  0.15340716,\n",
              "        0.0959495 ,  0.07618368,  0.17128067,  0.44581801,  0.75796848,\n",
              "        0.66272934,  0.4634543 ,  0.01481442, -0.58630536])"
            ]
          },
          "execution_count": 96,
          "metadata": {},
          "output_type": "execute_result"
        },
        {
          "name": "stdout",
          "output_type": "stream",
          "text": [
            "time: 0 ns (started: 2024-09-13 13:03:26 +02:00)\n"
          ]
        }
      ],
      "source": [
        "# Creating a list of last loads:\n",
        "last_loads = list ()\n",
        "s_window = 24\n",
        "for i in range (1,s_window+1):\n",
        "  column = 'load_t_'+ str (i)\n",
        "  last_loads.append(X_last[column][0])\n",
        "last_loads = np.array(last_loads)\n",
        "last_loads"
      ]
    },
    {
      "cell_type": "code",
      "execution_count": 97,
      "metadata": {
        "colab": {
          "base_uri": "https://localhost:8080/"
        },
        "id": "UWC5-UrkA4O8",
        "outputId": "29fcacb9-9b94-43e0-99f2-838a0a80af0e"
      },
      "outputs": [
        {
          "name": "stdout",
          "output_type": "stream",
          "text": [
            "time: 0 ns (started: 2024-09-13 13:03:26 +02:00)\n"
          ]
        }
      ],
      "source": [
        "#Creating series for predictions:\n",
        "y_predicted =pd.Series(index=y_test.index)"
      ]
    },
    {
      "cell_type": "code",
      "execution_count": 98,
      "metadata": {
        "colab": {
          "base_uri": "https://localhost:8080/"
        },
        "id": "wLp7MhPrF2Xr",
        "outputId": "acfe5161-3ee3-49b1-8b95-2570e76c834a"
      },
      "outputs": [
        {
          "name": "stdout",
          "output_type": "stream",
          "text": [
            "time: 0 ns (started: 2024-09-13 13:03:26 +02:00)\n"
          ]
        }
      ],
      "source": [
        "#import lib\n",
        "from pandas.tseries.offsets import DateOffset"
      ]
    },
    {
      "cell_type": "code",
      "execution_count": 99,
      "metadata": {
        "colab": {
          "base_uri": "https://localhost:8080/"
        },
        "id": "npsJKqnEIClJ",
        "outputId": "20662680-84a5-4cff-c7d7-3c588bb13d0f"
      },
      "outputs": [
        {
          "data": {
            "text/plain": [
              "(1, 192)"
            ]
          },
          "execution_count": 99,
          "metadata": {},
          "output_type": "execute_result"
        },
        {
          "name": "stdout",
          "output_type": "stream",
          "text": [
            "time: 16 ms (started: 2024-09-13 13:03:26 +02:00)\n"
          ]
        }
      ],
      "source": [
        "#Conversion:\n",
        "X_test_last = X_last.to_numpy()\n",
        "X_test_last.shape"
      ]
    },
    {
      "cell_type": "code",
      "execution_count": 100,
      "metadata": {
        "colab": {
          "base_uri": "https://localhost:8080/"
        },
        "id": "NoKmVT3MIK29",
        "outputId": "76688dab-e2cd-44bf-9de2-dfd8f17def3a"
      },
      "outputs": [
        {
          "data": {
            "text/plain": [
              "array([[-0.13546731,  0.12765831, -0.29851068, -1.06676868, -0.13539651,\n",
              "         0.12146142,  0.06713026, -1.44376922, -0.13532571,  0.11977188,\n",
              "        -0.01999049, -1.59809716, -0.13525491,  0.11427877, -0.12435371,\n",
              "        -1.67346251, -0.13518411,  0.10609373, -0.1937283 , -1.65371422,\n",
              "        -0.13511331,  0.09645576, -0.24587036, -1.47603732, -0.13504251,\n",
              "         0.08734555, -0.31525035, -0.99145552, -0.13497171,  0.08990252,\n",
              "        -0.33292245, -0.06890565, -0.09833772,  0.10109127, -0.40229381,\n",
              "         0.37799529, -0.09827176,  0.10370958, -0.38497225,  0.38691767,\n",
              "        -0.09821017,  0.10160344, -0.21044671,  0.4066172 , -0.13308568,\n",
              "         0.07341006, -0.05367567,  0.32041933, -0.18792095,  0.04455861,\n",
              "         0.15533126,  0.24858831, -0.20120424,  0.01180959,  0.24213534,\n",
              "         0.15522374, -0.29925239, -0.02198351,  0.32947277,  0.15340716,\n",
              "        -0.38734412, -0.04560535,  0.32959266,  0.0959495 , -0.44220897,\n",
              "        -0.07167113,  0.38195809,  0.07618368, -0.44223678, -0.12595769,\n",
              "         0.36485454,  0.17128067, -0.44226479, -0.21958317,  0.26050468,\n",
              "         0.44581801, -0.4422928 , -0.24525611,  0.17338833,  0.75796848,\n",
              "        -0.44232367, -0.245302  ,  0.01677839,  0.66272934, -0.44235453,\n",
              "        -0.2251442 , -0.07035445,  0.4634543 , -0.44239635, -0.21576841,\n",
              "        -0.19197226,  0.01481442, -0.44244518, -0.23365649, -0.27911278,\n",
              "        -0.58630536, -0.44250805, -0.20508742, -0.41796726, -1.15692609,\n",
              "        -0.44257092, -0.2564928 , -0.34833885, -1.32211729, -0.44263379,\n",
              "        -0.30469967, -0.40046962, -1.49987197, -0.44269667, -0.35716279,\n",
              "        -0.41759492, -1.57358184, -0.44275954, -0.40586885, -0.40024489,\n",
              "        -1.56117378, -0.44282242, -0.43992379, -0.43511992, -1.40339201,\n",
              "        -0.4428853 , -0.46805868, -0.4000006 , -0.89021219, -0.44294818,\n",
              "        -0.46346522, -0.41710767, -0.00540935, -0.44301106, -0.45668664,\n",
              "        -0.41697582,  0.40557177, -0.44307534, -0.44982856, -0.39960954,\n",
              "         0.41445166, -0.44314158, -0.45650733, -0.24282982,  0.37665989,\n",
              "        -0.44323879, -0.46190911, -0.13827978,  0.29220851, -0.44333839,\n",
              "        -0.46899443,  0.05345511,  0.2059715 , -0.48498639, -0.47533077,\n",
              "         0.12301406,  0.10718517, -0.51500307, -0.48724993,  0.15811382,\n",
              "         0.05866672, -0.54834528, -0.50067542,  0.17546393, -0.04010555,\n",
              "        -0.60495974, -0.51110692,  0.15835676, -0.02939346, -0.60507047,\n",
              "        -0.52292694,  0.14072966,  0.0872008 , -0.60518121, -0.57196009,\n",
              "         0.05419008,  0.22888839, -0.60529196, -0.7194056 , -0.03287012,\n",
              "         0.28080675, -0.60540271, -0.86910441, -0.13715753,  0.11561038,\n",
              "        -0.65038547, -0.97131432, -0.20646691,  0.00966186, -0.66877716,\n",
              "        -0.99471849, -0.18911336, -0.30078873, -0.66890827, -0.97209914,\n",
              "        -0.29337611, -0.745773  ]])"
            ]
          },
          "execution_count": 100,
          "metadata": {},
          "output_type": "execute_result"
        },
        {
          "name": "stdout",
          "output_type": "stream",
          "text": [
            "time: 0 ns (started: 2024-09-13 13:03:26 +02:00)\n"
          ]
        }
      ],
      "source": [
        "X_test_last"
      ]
    },
    {
      "cell_type": "code",
      "execution_count": 101,
      "metadata": {},
      "outputs": [
        {
          "name": "stdout",
          "output_type": "stream",
          "text": [
            "time: 0 ns (started: 2024-09-13 13:03:26 +02:00)\n"
          ]
        }
      ],
      "source": [
        "# Hyperparameters:\n",
        "# https://scikit-learn.org/stable/modules/generated/sklearn.svm.SVR.html#\n",
        "\n",
        "#__________________________________________________________________________________________\n",
        "#___Notes__________________________________________________________________________________\n",
        "#Radial Basis Function (RBF) kernel, two parameters must be considered: C and gamma. \n",
        "\n",
        "#The parameter C, common to all SVM kernels, trades off misclassification of training examples \n",
        "#against simplicity of the decision surface. \n",
        "#A low C makes the decision surface smooth, while a high C aims at classifying all training examples correctly. \n",
        "#The strength of the regularization is inversely proportional to C. Large C => little regularization; Low C => higher regularization\n",
        "\n",
        "#gamma defines how much influence a single training example has. The larger gamma is, the closer other examples must be to be affected.\n",
        "#__________________________________________________________________________________________\n",
        "\n",
        "kernel='linear' \n",
        "gamma='scale' #Kernel coefficient for ‘rbf’, ‘poly’ and ‘sigmoid’. When scaled, uses 1 / (n_features * X.var()) as value of gamma.\n",
        "C=1.0\n",
        "epsilon=0.1    # Default\n",
        "shrinking=True # Whether to use the shrinking heuristic. \n",
        "tol=0.00001\n",
        "\n",
        "#Setting the model:\n",
        "svr = SVR(kernel= kernel, gamma=gamma, tol=tol, C=C, epsilon=epsilon, shrinking=shrinking)"
      ]
    },
    {
      "cell_type": "code",
      "execution_count": 102,
      "metadata": {},
      "outputs": [
        {
          "data": {
            "text/html": [
              "<style>#sk-container-id-2 {color: black;}#sk-container-id-2 pre{padding: 0;}#sk-container-id-2 div.sk-toggleable {background-color: white;}#sk-container-id-2 label.sk-toggleable__label {cursor: pointer;display: block;width: 100%;margin-bottom: 0;padding: 0.3em;box-sizing: border-box;text-align: center;}#sk-container-id-2 label.sk-toggleable__label-arrow:before {content: \"▸\";float: left;margin-right: 0.25em;color: #696969;}#sk-container-id-2 label.sk-toggleable__label-arrow:hover:before {color: black;}#sk-container-id-2 div.sk-estimator:hover label.sk-toggleable__label-arrow:before {color: black;}#sk-container-id-2 div.sk-toggleable__content {max-height: 0;max-width: 0;overflow: hidden;text-align: left;background-color: #f0f8ff;}#sk-container-id-2 div.sk-toggleable__content pre {margin: 0.2em;color: black;border-radius: 0.25em;background-color: #f0f8ff;}#sk-container-id-2 input.sk-toggleable__control:checked~div.sk-toggleable__content {max-height: 200px;max-width: 100%;overflow: auto;}#sk-container-id-2 input.sk-toggleable__control:checked~label.sk-toggleable__label-arrow:before {content: \"▾\";}#sk-container-id-2 div.sk-estimator input.sk-toggleable__control:checked~label.sk-toggleable__label {background-color: #d4ebff;}#sk-container-id-2 div.sk-label input.sk-toggleable__control:checked~label.sk-toggleable__label {background-color: #d4ebff;}#sk-container-id-2 input.sk-hidden--visually {border: 0;clip: rect(1px 1px 1px 1px);clip: rect(1px, 1px, 1px, 1px);height: 1px;margin: -1px;overflow: hidden;padding: 0;position: absolute;width: 1px;}#sk-container-id-2 div.sk-estimator {font-family: monospace;background-color: #f0f8ff;border: 1px dotted black;border-radius: 0.25em;box-sizing: border-box;margin-bottom: 0.5em;}#sk-container-id-2 div.sk-estimator:hover {background-color: #d4ebff;}#sk-container-id-2 div.sk-parallel-item::after {content: \"\";width: 100%;border-bottom: 1px solid gray;flex-grow: 1;}#sk-container-id-2 div.sk-label:hover label.sk-toggleable__label {background-color: #d4ebff;}#sk-container-id-2 div.sk-serial::before {content: \"\";position: absolute;border-left: 1px solid gray;box-sizing: border-box;top: 0;bottom: 0;left: 50%;z-index: 0;}#sk-container-id-2 div.sk-serial {display: flex;flex-direction: column;align-items: center;background-color: white;padding-right: 0.2em;padding-left: 0.2em;position: relative;}#sk-container-id-2 div.sk-item {position: relative;z-index: 1;}#sk-container-id-2 div.sk-parallel {display: flex;align-items: stretch;justify-content: center;background-color: white;position: relative;}#sk-container-id-2 div.sk-item::before, #sk-container-id-2 div.sk-parallel-item::before {content: \"\";position: absolute;border-left: 1px solid gray;box-sizing: border-box;top: 0;bottom: 0;left: 50%;z-index: -1;}#sk-container-id-2 div.sk-parallel-item {display: flex;flex-direction: column;z-index: 1;position: relative;background-color: white;}#sk-container-id-2 div.sk-parallel-item:first-child::after {align-self: flex-end;width: 50%;}#sk-container-id-2 div.sk-parallel-item:last-child::after {align-self: flex-start;width: 50%;}#sk-container-id-2 div.sk-parallel-item:only-child::after {width: 0;}#sk-container-id-2 div.sk-dashed-wrapped {border: 1px dashed gray;margin: 0 0.4em 0.5em 0.4em;box-sizing: border-box;padding-bottom: 0.4em;background-color: white;}#sk-container-id-2 div.sk-label label {font-family: monospace;font-weight: bold;display: inline-block;line-height: 1.2em;}#sk-container-id-2 div.sk-label-container {text-align: center;}#sk-container-id-2 div.sk-container {/* jupyter's `normalize.less` sets `[hidden] { display: none; }` but bootstrap.min.css set `[hidden] { display: none !important; }` so we also need the `!important` here to be able to override the default hidden behavior on the sphinx rendered scikit-learn.org. See: https://github.com/scikit-learn/scikit-learn/issues/21755 */display: inline-block !important;position: relative;}#sk-container-id-2 div.sk-text-repr-fallback {display: none;}</style><div id=\"sk-container-id-2\" class=\"sk-top-container\"><div class=\"sk-text-repr-fallback\"><pre>SVR(kernel=&#x27;linear&#x27;, tol=1e-05)</pre><b>In a Jupyter environment, please rerun this cell to show the HTML representation or trust the notebook. <br />On GitHub, the HTML representation is unable to render, please try loading this page with nbviewer.org.</b></div><div class=\"sk-container\" hidden><div class=\"sk-item\"><div class=\"sk-estimator sk-toggleable\"><input class=\"sk-toggleable__control sk-hidden--visually\" id=\"sk-estimator-id-2\" type=\"checkbox\" checked><label for=\"sk-estimator-id-2\" class=\"sk-toggleable__label sk-toggleable__label-arrow\">SVR</label><div class=\"sk-toggleable__content\"><pre>SVR(kernel=&#x27;linear&#x27;, tol=1e-05)</pre></div></div></div></div></div>"
            ],
            "text/plain": [
              "SVR(kernel='linear', tol=1e-05)"
            ]
          },
          "execution_count": 102,
          "metadata": {},
          "output_type": "execute_result"
        },
        {
          "name": "stdout",
          "output_type": "stream",
          "text": [
            "time: 47 ms (started: 2024-09-13 13:03:26 +02:00)\n"
          ]
        }
      ],
      "source": [
        "# Model Training:\n",
        "model = svr\n",
        "#Fitting the model according to given data:\n",
        "model.fit(X_train, y_train)"
      ]
    },
    {
      "cell_type": "code",
      "execution_count": 103,
      "metadata": {
        "colab": {
          "base_uri": "https://localhost:8080/"
        },
        "id": "nflkWzBjuAeq",
        "outputId": "06a871a0-c5d5-4095-f7fa-30a3ce464bc4"
      },
      "outputs": [
        {
          "name": "stderr",
          "output_type": "stream",
          "text": [
            "c:\\Users\\JuanFernandez\\anaconda3\\envs\\energy_portfolio_management\\lib\\site-packages\\sklearn\\base.py:464: UserWarning: X does not have valid feature names, but SVR was fitted with feature names\n",
            "  warnings.warn(\n",
            "c:\\Users\\JuanFernandez\\anaconda3\\envs\\energy_portfolio_management\\lib\\site-packages\\sklearn\\base.py:464: UserWarning: X does not have valid feature names, but StandardScaler was fitted with feature names\n",
            "  warnings.warn(\n",
            "c:\\Users\\JuanFernandez\\anaconda3\\envs\\energy_portfolio_management\\lib\\site-packages\\sklearn\\base.py:464: UserWarning: X does not have valid feature names, but SVR was fitted with feature names\n",
            "  warnings.warn(\n",
            "c:\\Users\\JuanFernandez\\anaconda3\\envs\\energy_portfolio_management\\lib\\site-packages\\sklearn\\base.py:464: UserWarning: X does not have valid feature names, but StandardScaler was fitted with feature names\n",
            "  warnings.warn(\n",
            "c:\\Users\\JuanFernandez\\anaconda3\\envs\\energy_portfolio_management\\lib\\site-packages\\sklearn\\base.py:464: UserWarning: X does not have valid feature names, but SVR was fitted with feature names\n",
            "  warnings.warn(\n",
            "c:\\Users\\JuanFernandez\\anaconda3\\envs\\energy_portfolio_management\\lib\\site-packages\\sklearn\\base.py:464: UserWarning: X does not have valid feature names, but StandardScaler was fitted with feature names\n",
            "  warnings.warn(\n",
            "c:\\Users\\JuanFernandez\\anaconda3\\envs\\energy_portfolio_management\\lib\\site-packages\\sklearn\\base.py:464: UserWarning: X does not have valid feature names, but SVR was fitted with feature names\n",
            "  warnings.warn(\n",
            "c:\\Users\\JuanFernandez\\anaconda3\\envs\\energy_portfolio_management\\lib\\site-packages\\sklearn\\base.py:464: UserWarning: X does not have valid feature names, but StandardScaler was fitted with feature names\n",
            "  warnings.warn(\n",
            "c:\\Users\\JuanFernandez\\anaconda3\\envs\\energy_portfolio_management\\lib\\site-packages\\sklearn\\base.py:464: UserWarning: X does not have valid feature names, but SVR was fitted with feature names\n",
            "  warnings.warn(\n",
            "c:\\Users\\JuanFernandez\\anaconda3\\envs\\energy_portfolio_management\\lib\\site-packages\\sklearn\\base.py:464: UserWarning: X does not have valid feature names, but StandardScaler was fitted with feature names\n",
            "  warnings.warn(\n",
            "c:\\Users\\JuanFernandez\\anaconda3\\envs\\energy_portfolio_management\\lib\\site-packages\\sklearn\\base.py:464: UserWarning: X does not have valid feature names, but SVR was fitted with feature names\n",
            "  warnings.warn(\n",
            "c:\\Users\\JuanFernandez\\anaconda3\\envs\\energy_portfolio_management\\lib\\site-packages\\sklearn\\base.py:464: UserWarning: X does not have valid feature names, but StandardScaler was fitted with feature names\n",
            "  warnings.warn(\n",
            "c:\\Users\\JuanFernandez\\anaconda3\\envs\\energy_portfolio_management\\lib\\site-packages\\sklearn\\base.py:464: UserWarning: X does not have valid feature names, but SVR was fitted with feature names\n",
            "  warnings.warn(\n",
            "c:\\Users\\JuanFernandez\\anaconda3\\envs\\energy_portfolio_management\\lib\\site-packages\\sklearn\\base.py:464: UserWarning: X does not have valid feature names, but StandardScaler was fitted with feature names\n",
            "  warnings.warn(\n",
            "c:\\Users\\JuanFernandez\\anaconda3\\envs\\energy_portfolio_management\\lib\\site-packages\\sklearn\\base.py:464: UserWarning: X does not have valid feature names, but SVR was fitted with feature names\n",
            "  warnings.warn(\n",
            "c:\\Users\\JuanFernandez\\anaconda3\\envs\\energy_portfolio_management\\lib\\site-packages\\sklearn\\base.py:464: UserWarning: X does not have valid feature names, but StandardScaler was fitted with feature names\n",
            "  warnings.warn(\n",
            "c:\\Users\\JuanFernandez\\anaconda3\\envs\\energy_portfolio_management\\lib\\site-packages\\sklearn\\base.py:464: UserWarning: X does not have valid feature names, but SVR was fitted with feature names\n",
            "  warnings.warn(\n",
            "c:\\Users\\JuanFernandez\\anaconda3\\envs\\energy_portfolio_management\\lib\\site-packages\\sklearn\\base.py:464: UserWarning: X does not have valid feature names, but StandardScaler was fitted with feature names\n",
            "  warnings.warn(\n",
            "c:\\Users\\JuanFernandez\\anaconda3\\envs\\energy_portfolio_management\\lib\\site-packages\\sklearn\\base.py:464: UserWarning: X does not have valid feature names, but SVR was fitted with feature names\n",
            "  warnings.warn(\n",
            "c:\\Users\\JuanFernandez\\anaconda3\\envs\\energy_portfolio_management\\lib\\site-packages\\sklearn\\base.py:464: UserWarning: X does not have valid feature names, but StandardScaler was fitted with feature names\n",
            "  warnings.warn(\n",
            "c:\\Users\\JuanFernandez\\anaconda3\\envs\\energy_portfolio_management\\lib\\site-packages\\sklearn\\base.py:464: UserWarning: X does not have valid feature names, but SVR was fitted with feature names\n",
            "  warnings.warn(\n",
            "c:\\Users\\JuanFernandez\\anaconda3\\envs\\energy_portfolio_management\\lib\\site-packages\\sklearn\\base.py:464: UserWarning: X does not have valid feature names, but StandardScaler was fitted with feature names\n",
            "  warnings.warn(\n",
            "c:\\Users\\JuanFernandez\\anaconda3\\envs\\energy_portfolio_management\\lib\\site-packages\\sklearn\\base.py:464: UserWarning: X does not have valid feature names, but SVR was fitted with feature names\n",
            "  warnings.warn(\n",
            "c:\\Users\\JuanFernandez\\anaconda3\\envs\\energy_portfolio_management\\lib\\site-packages\\sklearn\\base.py:464: UserWarning: X does not have valid feature names, but StandardScaler was fitted with feature names\n",
            "  warnings.warn(\n",
            "c:\\Users\\JuanFernandez\\anaconda3\\envs\\energy_portfolio_management\\lib\\site-packages\\sklearn\\base.py:464: UserWarning: X does not have valid feature names, but SVR was fitted with feature names\n",
            "  warnings.warn(\n",
            "c:\\Users\\JuanFernandez\\anaconda3\\envs\\energy_portfolio_management\\lib\\site-packages\\sklearn\\base.py:464: UserWarning: X does not have valid feature names, but StandardScaler was fitted with feature names\n",
            "  warnings.warn(\n",
            "c:\\Users\\JuanFernandez\\anaconda3\\envs\\energy_portfolio_management\\lib\\site-packages\\sklearn\\base.py:464: UserWarning: X does not have valid feature names, but SVR was fitted with feature names\n",
            "  warnings.warn(\n",
            "c:\\Users\\JuanFernandez\\anaconda3\\envs\\energy_portfolio_management\\lib\\site-packages\\sklearn\\base.py:464: UserWarning: X does not have valid feature names, but StandardScaler was fitted with feature names\n",
            "  warnings.warn(\n",
            "c:\\Users\\JuanFernandez\\anaconda3\\envs\\energy_portfolio_management\\lib\\site-packages\\sklearn\\base.py:464: UserWarning: X does not have valid feature names, but SVR was fitted with feature names\n",
            "  warnings.warn(\n",
            "c:\\Users\\JuanFernandez\\anaconda3\\envs\\energy_portfolio_management\\lib\\site-packages\\sklearn\\base.py:464: UserWarning: X does not have valid feature names, but StandardScaler was fitted with feature names\n",
            "  warnings.warn(\n",
            "c:\\Users\\JuanFernandez\\anaconda3\\envs\\energy_portfolio_management\\lib\\site-packages\\sklearn\\base.py:464: UserWarning: X does not have valid feature names, but SVR was fitted with feature names\n",
            "  warnings.warn(\n",
            "c:\\Users\\JuanFernandez\\anaconda3\\envs\\energy_portfolio_management\\lib\\site-packages\\sklearn\\base.py:464: UserWarning: X does not have valid feature names, but StandardScaler was fitted with feature names\n",
            "  warnings.warn(\n",
            "c:\\Users\\JuanFernandez\\anaconda3\\envs\\energy_portfolio_management\\lib\\site-packages\\sklearn\\base.py:464: UserWarning: X does not have valid feature names, but SVR was fitted with feature names\n",
            "  warnings.warn(\n",
            "c:\\Users\\JuanFernandez\\anaconda3\\envs\\energy_portfolio_management\\lib\\site-packages\\sklearn\\base.py:464: UserWarning: X does not have valid feature names, but StandardScaler was fitted with feature names\n",
            "  warnings.warn(\n",
            "c:\\Users\\JuanFernandez\\anaconda3\\envs\\energy_portfolio_management\\lib\\site-packages\\sklearn\\base.py:464: UserWarning: X does not have valid feature names, but SVR was fitted with feature names\n",
            "  warnings.warn(\n",
            "c:\\Users\\JuanFernandez\\anaconda3\\envs\\energy_portfolio_management\\lib\\site-packages\\sklearn\\base.py:464: UserWarning: X does not have valid feature names, but StandardScaler was fitted with feature names\n",
            "  warnings.warn(\n",
            "c:\\Users\\JuanFernandez\\anaconda3\\envs\\energy_portfolio_management\\lib\\site-packages\\sklearn\\base.py:464: UserWarning: X does not have valid feature names, but SVR was fitted with feature names\n",
            "  warnings.warn(\n",
            "c:\\Users\\JuanFernandez\\anaconda3\\envs\\energy_portfolio_management\\lib\\site-packages\\sklearn\\base.py:464: UserWarning: X does not have valid feature names, but StandardScaler was fitted with feature names\n",
            "  warnings.warn(\n",
            "c:\\Users\\JuanFernandez\\anaconda3\\envs\\energy_portfolio_management\\lib\\site-packages\\sklearn\\base.py:464: UserWarning: X does not have valid feature names, but SVR was fitted with feature names\n",
            "  warnings.warn(\n",
            "c:\\Users\\JuanFernandez\\anaconda3\\envs\\energy_portfolio_management\\lib\\site-packages\\sklearn\\base.py:464: UserWarning: X does not have valid feature names, but StandardScaler was fitted with feature names\n",
            "  warnings.warn(\n",
            "c:\\Users\\JuanFernandez\\anaconda3\\envs\\energy_portfolio_management\\lib\\site-packages\\sklearn\\base.py:464: UserWarning: X does not have valid feature names, but SVR was fitted with feature names\n",
            "  warnings.warn(\n",
            "c:\\Users\\JuanFernandez\\anaconda3\\envs\\energy_portfolio_management\\lib\\site-packages\\sklearn\\base.py:464: UserWarning: X does not have valid feature names, but StandardScaler was fitted with feature names\n",
            "  warnings.warn(\n",
            "c:\\Users\\JuanFernandez\\anaconda3\\envs\\energy_portfolio_management\\lib\\site-packages\\sklearn\\base.py:464: UserWarning: X does not have valid feature names, but SVR was fitted with feature names\n",
            "  warnings.warn(\n",
            "c:\\Users\\JuanFernandez\\anaconda3\\envs\\energy_portfolio_management\\lib\\site-packages\\sklearn\\base.py:464: UserWarning: X does not have valid feature names, but StandardScaler was fitted with feature names\n",
            "  warnings.warn(\n",
            "c:\\Users\\JuanFernandez\\anaconda3\\envs\\energy_portfolio_management\\lib\\site-packages\\sklearn\\base.py:464: UserWarning: X does not have valid feature names, but SVR was fitted with feature names\n",
            "  warnings.warn(\n",
            "c:\\Users\\JuanFernandez\\anaconda3\\envs\\energy_portfolio_management\\lib\\site-packages\\sklearn\\base.py:464: UserWarning: X does not have valid feature names, but StandardScaler was fitted with feature names\n",
            "  warnings.warn(\n",
            "c:\\Users\\JuanFernandez\\anaconda3\\envs\\energy_portfolio_management\\lib\\site-packages\\sklearn\\base.py:464: UserWarning: X does not have valid feature names, but SVR was fitted with feature names\n",
            "  warnings.warn(\n",
            "c:\\Users\\JuanFernandez\\anaconda3\\envs\\energy_portfolio_management\\lib\\site-packages\\sklearn\\base.py:464: UserWarning: X does not have valid feature names, but StandardScaler was fitted with feature names\n",
            "  warnings.warn(\n",
            "c:\\Users\\JuanFernandez\\anaconda3\\envs\\energy_portfolio_management\\lib\\site-packages\\sklearn\\base.py:464: UserWarning: X does not have valid feature names, but SVR was fitted with feature names\n",
            "  warnings.warn(\n",
            "c:\\Users\\JuanFernandez\\anaconda3\\envs\\energy_portfolio_management\\lib\\site-packages\\sklearn\\base.py:464: UserWarning: X does not have valid feature names, but StandardScaler was fitted with feature names\n",
            "  warnings.warn(\n",
            "c:\\Users\\JuanFernandez\\anaconda3\\envs\\energy_portfolio_management\\lib\\site-packages\\sklearn\\base.py:464: UserWarning: X does not have valid feature names, but SVR was fitted with feature names\n",
            "  warnings.warn(\n",
            "c:\\Users\\JuanFernandez\\anaconda3\\envs\\energy_portfolio_management\\lib\\site-packages\\sklearn\\base.py:464: UserWarning: X does not have valid feature names, but StandardScaler was fitted with feature names\n",
            "  warnings.warn(\n",
            "c:\\Users\\JuanFernandez\\anaconda3\\envs\\energy_portfolio_management\\lib\\site-packages\\sklearn\\base.py:464: UserWarning: X does not have valid feature names, but SVR was fitted with feature names\n",
            "  warnings.warn(\n",
            "c:\\Users\\JuanFernandez\\anaconda3\\envs\\energy_portfolio_management\\lib\\site-packages\\sklearn\\base.py:464: UserWarning: X does not have valid feature names, but StandardScaler was fitted with feature names\n",
            "  warnings.warn(\n",
            "c:\\Users\\JuanFernandez\\anaconda3\\envs\\energy_portfolio_management\\lib\\site-packages\\sklearn\\base.py:464: UserWarning: X does not have valid feature names, but SVR was fitted with feature names\n",
            "  warnings.warn(\n",
            "c:\\Users\\JuanFernandez\\anaconda3\\envs\\energy_portfolio_management\\lib\\site-packages\\sklearn\\base.py:464: UserWarning: X does not have valid feature names, but StandardScaler was fitted with feature names\n",
            "  warnings.warn(\n",
            "c:\\Users\\JuanFernandez\\anaconda3\\envs\\energy_portfolio_management\\lib\\site-packages\\sklearn\\base.py:464: UserWarning: X does not have valid feature names, but SVR was fitted with feature names\n",
            "  warnings.warn(\n",
            "c:\\Users\\JuanFernandez\\anaconda3\\envs\\energy_portfolio_management\\lib\\site-packages\\sklearn\\base.py:464: UserWarning: X does not have valid feature names, but StandardScaler was fitted with feature names\n",
            "  warnings.warn(\n",
            "c:\\Users\\JuanFernandez\\anaconda3\\envs\\energy_portfolio_management\\lib\\site-packages\\sklearn\\base.py:464: UserWarning: X does not have valid feature names, but SVR was fitted with feature names\n",
            "  warnings.warn(\n",
            "c:\\Users\\JuanFernandez\\anaconda3\\envs\\energy_portfolio_management\\lib\\site-packages\\sklearn\\base.py:464: UserWarning: X does not have valid feature names, but StandardScaler was fitted with feature names\n",
            "  warnings.warn(\n",
            "c:\\Users\\JuanFernandez\\anaconda3\\envs\\energy_portfolio_management\\lib\\site-packages\\sklearn\\base.py:464: UserWarning: X does not have valid feature names, but SVR was fitted with feature names\n",
            "  warnings.warn(\n",
            "c:\\Users\\JuanFernandez\\anaconda3\\envs\\energy_portfolio_management\\lib\\site-packages\\sklearn\\base.py:464: UserWarning: X does not have valid feature names, but StandardScaler was fitted with feature names\n",
            "  warnings.warn(\n",
            "c:\\Users\\JuanFernandez\\anaconda3\\envs\\energy_portfolio_management\\lib\\site-packages\\sklearn\\base.py:464: UserWarning: X does not have valid feature names, but SVR was fitted with feature names\n",
            "  warnings.warn(\n",
            "c:\\Users\\JuanFernandez\\anaconda3\\envs\\energy_portfolio_management\\lib\\site-packages\\sklearn\\base.py:464: UserWarning: X does not have valid feature names, but StandardScaler was fitted with feature names\n",
            "  warnings.warn(\n",
            "c:\\Users\\JuanFernandez\\anaconda3\\envs\\energy_portfolio_management\\lib\\site-packages\\sklearn\\base.py:464: UserWarning: X does not have valid feature names, but SVR was fitted with feature names\n",
            "  warnings.warn(\n",
            "c:\\Users\\JuanFernandez\\anaconda3\\envs\\energy_portfolio_management\\lib\\site-packages\\sklearn\\base.py:464: UserWarning: X does not have valid feature names, but StandardScaler was fitted with feature names\n",
            "  warnings.warn(\n",
            "c:\\Users\\JuanFernandez\\anaconda3\\envs\\energy_portfolio_management\\lib\\site-packages\\sklearn\\base.py:464: UserWarning: X does not have valid feature names, but SVR was fitted with feature names\n",
            "  warnings.warn(\n",
            "c:\\Users\\JuanFernandez\\anaconda3\\envs\\energy_portfolio_management\\lib\\site-packages\\sklearn\\base.py:464: UserWarning: X does not have valid feature names, but StandardScaler was fitted with feature names\n",
            "  warnings.warn(\n",
            "c:\\Users\\JuanFernandez\\anaconda3\\envs\\energy_portfolio_management\\lib\\site-packages\\sklearn\\base.py:464: UserWarning: X does not have valid feature names, but SVR was fitted with feature names\n",
            "  warnings.warn(\n",
            "c:\\Users\\JuanFernandez\\anaconda3\\envs\\energy_portfolio_management\\lib\\site-packages\\sklearn\\base.py:464: UserWarning: X does not have valid feature names, but StandardScaler was fitted with feature names\n",
            "  warnings.warn(\n",
            "c:\\Users\\JuanFernandez\\anaconda3\\envs\\energy_portfolio_management\\lib\\site-packages\\sklearn\\base.py:464: UserWarning: X does not have valid feature names, but SVR was fitted with feature names\n",
            "  warnings.warn(\n",
            "c:\\Users\\JuanFernandez\\anaconda3\\envs\\energy_portfolio_management\\lib\\site-packages\\sklearn\\base.py:464: UserWarning: X does not have valid feature names, but StandardScaler was fitted with feature names\n",
            "  warnings.warn(\n",
            "c:\\Users\\JuanFernandez\\anaconda3\\envs\\energy_portfolio_management\\lib\\site-packages\\sklearn\\base.py:464: UserWarning: X does not have valid feature names, but SVR was fitted with feature names\n",
            "  warnings.warn(\n",
            "c:\\Users\\JuanFernandez\\anaconda3\\envs\\energy_portfolio_management\\lib\\site-packages\\sklearn\\base.py:464: UserWarning: X does not have valid feature names, but StandardScaler was fitted with feature names\n",
            "  warnings.warn(\n",
            "c:\\Users\\JuanFernandez\\anaconda3\\envs\\energy_portfolio_management\\lib\\site-packages\\sklearn\\base.py:464: UserWarning: X does not have valid feature names, but SVR was fitted with feature names\n",
            "  warnings.warn(\n",
            "c:\\Users\\JuanFernandez\\anaconda3\\envs\\energy_portfolio_management\\lib\\site-packages\\sklearn\\base.py:464: UserWarning: X does not have valid feature names, but StandardScaler was fitted with feature names\n",
            "  warnings.warn(\n",
            "c:\\Users\\JuanFernandez\\anaconda3\\envs\\energy_portfolio_management\\lib\\site-packages\\sklearn\\base.py:464: UserWarning: X does not have valid feature names, but SVR was fitted with feature names\n",
            "  warnings.warn(\n",
            "c:\\Users\\JuanFernandez\\anaconda3\\envs\\energy_portfolio_management\\lib\\site-packages\\sklearn\\base.py:464: UserWarning: X does not have valid feature names, but StandardScaler was fitted with feature names\n",
            "  warnings.warn(\n",
            "c:\\Users\\JuanFernandez\\anaconda3\\envs\\energy_portfolio_management\\lib\\site-packages\\sklearn\\base.py:464: UserWarning: X does not have valid feature names, but SVR was fitted with feature names\n",
            "  warnings.warn(\n",
            "c:\\Users\\JuanFernandez\\anaconda3\\envs\\energy_portfolio_management\\lib\\site-packages\\sklearn\\base.py:464: UserWarning: X does not have valid feature names, but StandardScaler was fitted with feature names\n",
            "  warnings.warn(\n",
            "c:\\Users\\JuanFernandez\\anaconda3\\envs\\energy_portfolio_management\\lib\\site-packages\\sklearn\\base.py:464: UserWarning: X does not have valid feature names, but SVR was fitted with feature names\n",
            "  warnings.warn(\n",
            "c:\\Users\\JuanFernandez\\anaconda3\\envs\\energy_portfolio_management\\lib\\site-packages\\sklearn\\base.py:464: UserWarning: X does not have valid feature names, but StandardScaler was fitted with feature names\n",
            "  warnings.warn(\n",
            "c:\\Users\\JuanFernandez\\anaconda3\\envs\\energy_portfolio_management\\lib\\site-packages\\sklearn\\base.py:464: UserWarning: X does not have valid feature names, but SVR was fitted with feature names\n",
            "  warnings.warn(\n",
            "c:\\Users\\JuanFernandez\\anaconda3\\envs\\energy_portfolio_management\\lib\\site-packages\\sklearn\\base.py:464: UserWarning: X does not have valid feature names, but StandardScaler was fitted with feature names\n",
            "  warnings.warn(\n",
            "c:\\Users\\JuanFernandez\\anaconda3\\envs\\energy_portfolio_management\\lib\\site-packages\\sklearn\\base.py:464: UserWarning: X does not have valid feature names, but SVR was fitted with feature names\n",
            "  warnings.warn(\n",
            "c:\\Users\\JuanFernandez\\anaconda3\\envs\\energy_portfolio_management\\lib\\site-packages\\sklearn\\base.py:464: UserWarning: X does not have valid feature names, but StandardScaler was fitted with feature names\n",
            "  warnings.warn(\n",
            "c:\\Users\\JuanFernandez\\anaconda3\\envs\\energy_portfolio_management\\lib\\site-packages\\sklearn\\base.py:464: UserWarning: X does not have valid feature names, but SVR was fitted with feature names\n",
            "  warnings.warn(\n",
            "c:\\Users\\JuanFernandez\\anaconda3\\envs\\energy_portfolio_management\\lib\\site-packages\\sklearn\\base.py:464: UserWarning: X does not have valid feature names, but StandardScaler was fitted with feature names\n",
            "  warnings.warn(\n",
            "c:\\Users\\JuanFernandez\\anaconda3\\envs\\energy_portfolio_management\\lib\\site-packages\\sklearn\\base.py:464: UserWarning: X does not have valid feature names, but SVR was fitted with feature names\n",
            "  warnings.warn(\n",
            "c:\\Users\\JuanFernandez\\anaconda3\\envs\\energy_portfolio_management\\lib\\site-packages\\sklearn\\base.py:464: UserWarning: X does not have valid feature names, but StandardScaler was fitted with feature names\n",
            "  warnings.warn(\n",
            "c:\\Users\\JuanFernandez\\anaconda3\\envs\\energy_portfolio_management\\lib\\site-packages\\sklearn\\base.py:464: UserWarning: X does not have valid feature names, but SVR was fitted with feature names\n",
            "  warnings.warn(\n",
            "c:\\Users\\JuanFernandez\\anaconda3\\envs\\energy_portfolio_management\\lib\\site-packages\\sklearn\\base.py:464: UserWarning: X does not have valid feature names, but StandardScaler was fitted with feature names\n",
            "  warnings.warn(\n",
            "c:\\Users\\JuanFernandez\\anaconda3\\envs\\energy_portfolio_management\\lib\\site-packages\\sklearn\\base.py:464: UserWarning: X does not have valid feature names, but SVR was fitted with feature names\n",
            "  warnings.warn(\n",
            "c:\\Users\\JuanFernandez\\anaconda3\\envs\\energy_portfolio_management\\lib\\site-packages\\sklearn\\base.py:464: UserWarning: X does not have valid feature names, but StandardScaler was fitted with feature names\n",
            "  warnings.warn(\n",
            "c:\\Users\\JuanFernandez\\anaconda3\\envs\\energy_portfolio_management\\lib\\site-packages\\sklearn\\base.py:464: UserWarning: X does not have valid feature names, but SVR was fitted with feature names\n",
            "  warnings.warn(\n",
            "c:\\Users\\JuanFernandez\\anaconda3\\envs\\energy_portfolio_management\\lib\\site-packages\\sklearn\\base.py:464: UserWarning: X does not have valid feature names, but StandardScaler was fitted with feature names\n",
            "  warnings.warn(\n",
            "c:\\Users\\JuanFernandez\\anaconda3\\envs\\energy_portfolio_management\\lib\\site-packages\\sklearn\\base.py:464: UserWarning: X does not have valid feature names, but SVR was fitted with feature names\n",
            "  warnings.warn(\n",
            "c:\\Users\\JuanFernandez\\anaconda3\\envs\\energy_portfolio_management\\lib\\site-packages\\sklearn\\base.py:464: UserWarning: X does not have valid feature names, but StandardScaler was fitted with feature names\n",
            "  warnings.warn(\n",
            "c:\\Users\\JuanFernandez\\anaconda3\\envs\\energy_portfolio_management\\lib\\site-packages\\sklearn\\base.py:464: UserWarning: X does not have valid feature names, but SVR was fitted with feature names\n",
            "  warnings.warn(\n",
            "c:\\Users\\JuanFernandez\\anaconda3\\envs\\energy_portfolio_management\\lib\\site-packages\\sklearn\\base.py:464: UserWarning: X does not have valid feature names, but StandardScaler was fitted with feature names\n",
            "  warnings.warn(\n",
            "c:\\Users\\JuanFernandez\\anaconda3\\envs\\energy_portfolio_management\\lib\\site-packages\\sklearn\\base.py:464: UserWarning: X does not have valid feature names, but SVR was fitted with feature names\n",
            "  warnings.warn(\n",
            "c:\\Users\\JuanFernandez\\anaconda3\\envs\\energy_portfolio_management\\lib\\site-packages\\sklearn\\base.py:464: UserWarning: X does not have valid feature names, but StandardScaler was fitted with feature names\n",
            "  warnings.warn(\n",
            "c:\\Users\\JuanFernandez\\anaconda3\\envs\\energy_portfolio_management\\lib\\site-packages\\sklearn\\base.py:464: UserWarning: X does not have valid feature names, but SVR was fitted with feature names\n",
            "  warnings.warn(\n",
            "c:\\Users\\JuanFernandez\\anaconda3\\envs\\energy_portfolio_management\\lib\\site-packages\\sklearn\\base.py:464: UserWarning: X does not have valid feature names, but StandardScaler was fitted with feature names\n",
            "  warnings.warn(\n",
            "c:\\Users\\JuanFernandez\\anaconda3\\envs\\energy_portfolio_management\\lib\\site-packages\\sklearn\\base.py:464: UserWarning: X does not have valid feature names, but SVR was fitted with feature names\n",
            "  warnings.warn(\n",
            "c:\\Users\\JuanFernandez\\anaconda3\\envs\\energy_portfolio_management\\lib\\site-packages\\sklearn\\base.py:464: UserWarning: X does not have valid feature names, but StandardScaler was fitted with feature names\n",
            "  warnings.warn(\n",
            "c:\\Users\\JuanFernandez\\anaconda3\\envs\\energy_portfolio_management\\lib\\site-packages\\sklearn\\base.py:464: UserWarning: X does not have valid feature names, but SVR was fitted with feature names\n",
            "  warnings.warn(\n",
            "c:\\Users\\JuanFernandez\\anaconda3\\envs\\energy_portfolio_management\\lib\\site-packages\\sklearn\\base.py:464: UserWarning: X does not have valid feature names, but StandardScaler was fitted with feature names\n",
            "  warnings.warn(\n",
            "c:\\Users\\JuanFernandez\\anaconda3\\envs\\energy_portfolio_management\\lib\\site-packages\\sklearn\\base.py:464: UserWarning: X does not have valid feature names, but SVR was fitted with feature names\n",
            "  warnings.warn(\n",
            "c:\\Users\\JuanFernandez\\anaconda3\\envs\\energy_portfolio_management\\lib\\site-packages\\sklearn\\base.py:464: UserWarning: X does not have valid feature names, but StandardScaler was fitted with feature names\n",
            "  warnings.warn(\n",
            "c:\\Users\\JuanFernandez\\anaconda3\\envs\\energy_portfolio_management\\lib\\site-packages\\sklearn\\base.py:464: UserWarning: X does not have valid feature names, but SVR was fitted with feature names\n",
            "  warnings.warn(\n",
            "c:\\Users\\JuanFernandez\\anaconda3\\envs\\energy_portfolio_management\\lib\\site-packages\\sklearn\\base.py:464: UserWarning: X does not have valid feature names, but StandardScaler was fitted with feature names\n",
            "  warnings.warn(\n",
            "c:\\Users\\JuanFernandez\\anaconda3\\envs\\energy_portfolio_management\\lib\\site-packages\\sklearn\\base.py:464: UserWarning: X does not have valid feature names, but SVR was fitted with feature names\n",
            "  warnings.warn(\n",
            "c:\\Users\\JuanFernandez\\anaconda3\\envs\\energy_portfolio_management\\lib\\site-packages\\sklearn\\base.py:464: UserWarning: X does not have valid feature names, but StandardScaler was fitted with feature names\n",
            "  warnings.warn(\n",
            "c:\\Users\\JuanFernandez\\anaconda3\\envs\\energy_portfolio_management\\lib\\site-packages\\sklearn\\base.py:464: UserWarning: X does not have valid feature names, but SVR was fitted with feature names\n",
            "  warnings.warn(\n",
            "c:\\Users\\JuanFernandez\\anaconda3\\envs\\energy_portfolio_management\\lib\\site-packages\\sklearn\\base.py:464: UserWarning: X does not have valid feature names, but StandardScaler was fitted with feature names\n",
            "  warnings.warn(\n",
            "c:\\Users\\JuanFernandez\\anaconda3\\envs\\energy_portfolio_management\\lib\\site-packages\\sklearn\\base.py:464: UserWarning: X does not have valid feature names, but SVR was fitted with feature names\n",
            "  warnings.warn(\n",
            "c:\\Users\\JuanFernandez\\anaconda3\\envs\\energy_portfolio_management\\lib\\site-packages\\sklearn\\base.py:464: UserWarning: X does not have valid feature names, but StandardScaler was fitted with feature names\n",
            "  warnings.warn(\n",
            "c:\\Users\\JuanFernandez\\anaconda3\\envs\\energy_portfolio_management\\lib\\site-packages\\sklearn\\base.py:464: UserWarning: X does not have valid feature names, but SVR was fitted with feature names\n",
            "  warnings.warn(\n",
            "c:\\Users\\JuanFernandez\\anaconda3\\envs\\energy_portfolio_management\\lib\\site-packages\\sklearn\\base.py:464: UserWarning: X does not have valid feature names, but StandardScaler was fitted with feature names\n",
            "  warnings.warn(\n",
            "c:\\Users\\JuanFernandez\\anaconda3\\envs\\energy_portfolio_management\\lib\\site-packages\\sklearn\\base.py:464: UserWarning: X does not have valid feature names, but SVR was fitted with feature names\n",
            "  warnings.warn(\n",
            "c:\\Users\\JuanFernandez\\anaconda3\\envs\\energy_portfolio_management\\lib\\site-packages\\sklearn\\base.py:464: UserWarning: X does not have valid feature names, but StandardScaler was fitted with feature names\n",
            "  warnings.warn(\n",
            "c:\\Users\\JuanFernandez\\anaconda3\\envs\\energy_portfolio_management\\lib\\site-packages\\sklearn\\base.py:464: UserWarning: X does not have valid feature names, but SVR was fitted with feature names\n",
            "  warnings.warn(\n",
            "c:\\Users\\JuanFernandez\\anaconda3\\envs\\energy_portfolio_management\\lib\\site-packages\\sklearn\\base.py:464: UserWarning: X does not have valid feature names, but StandardScaler was fitted with feature names\n",
            "  warnings.warn(\n",
            "c:\\Users\\JuanFernandez\\anaconda3\\envs\\energy_portfolio_management\\lib\\site-packages\\sklearn\\base.py:464: UserWarning: X does not have valid feature names, but SVR was fitted with feature names\n",
            "  warnings.warn(\n",
            "c:\\Users\\JuanFernandez\\anaconda3\\envs\\energy_portfolio_management\\lib\\site-packages\\sklearn\\base.py:464: UserWarning: X does not have valid feature names, but StandardScaler was fitted with feature names\n",
            "  warnings.warn(\n",
            "c:\\Users\\JuanFernandez\\anaconda3\\envs\\energy_portfolio_management\\lib\\site-packages\\sklearn\\base.py:464: UserWarning: X does not have valid feature names, but SVR was fitted with feature names\n",
            "  warnings.warn(\n",
            "c:\\Users\\JuanFernandez\\anaconda3\\envs\\energy_portfolio_management\\lib\\site-packages\\sklearn\\base.py:464: UserWarning: X does not have valid feature names, but StandardScaler was fitted with feature names\n",
            "  warnings.warn(\n",
            "c:\\Users\\JuanFernandez\\anaconda3\\envs\\energy_portfolio_management\\lib\\site-packages\\sklearn\\base.py:464: UserWarning: X does not have valid feature names, but SVR was fitted with feature names\n",
            "  warnings.warn(\n"
          ]
        },
        {
          "name": "stdout",
          "output_type": "stream",
          "text": [
            "time: 204 ms (started: 2024-09-13 13:03:26 +02:00)\n"
          ]
        },
        {
          "name": "stderr",
          "output_type": "stream",
          "text": [
            "c:\\Users\\JuanFernandez\\anaconda3\\envs\\energy_portfolio_management\\lib\\site-packages\\sklearn\\base.py:464: UserWarning: X does not have valid feature names, but StandardScaler was fitted with feature names\n",
            "  warnings.warn(\n",
            "c:\\Users\\JuanFernandez\\anaconda3\\envs\\energy_portfolio_management\\lib\\site-packages\\sklearn\\base.py:464: UserWarning: X does not have valid feature names, but SVR was fitted with feature names\n",
            "  warnings.warn(\n",
            "c:\\Users\\JuanFernandez\\anaconda3\\envs\\energy_portfolio_management\\lib\\site-packages\\sklearn\\base.py:464: UserWarning: X does not have valid feature names, but StandardScaler was fitted with feature names\n",
            "  warnings.warn(\n",
            "c:\\Users\\JuanFernandez\\anaconda3\\envs\\energy_portfolio_management\\lib\\site-packages\\sklearn\\base.py:464: UserWarning: X does not have valid feature names, but SVR was fitted with feature names\n",
            "  warnings.warn(\n",
            "c:\\Users\\JuanFernandez\\anaconda3\\envs\\energy_portfolio_management\\lib\\site-packages\\sklearn\\base.py:464: UserWarning: X does not have valid feature names, but StandardScaler was fitted with feature names\n",
            "  warnings.warn(\n",
            "c:\\Users\\JuanFernandez\\anaconda3\\envs\\energy_portfolio_management\\lib\\site-packages\\sklearn\\base.py:464: UserWarning: X does not have valid feature names, but SVR was fitted with feature names\n",
            "  warnings.warn(\n",
            "c:\\Users\\JuanFernandez\\anaconda3\\envs\\energy_portfolio_management\\lib\\site-packages\\sklearn\\base.py:464: UserWarning: X does not have valid feature names, but StandardScaler was fitted with feature names\n",
            "  warnings.warn(\n",
            "c:\\Users\\JuanFernandez\\anaconda3\\envs\\energy_portfolio_management\\lib\\site-packages\\sklearn\\base.py:464: UserWarning: X does not have valid feature names, but SVR was fitted with feature names\n",
            "  warnings.warn(\n",
            "c:\\Users\\JuanFernandez\\anaconda3\\envs\\energy_portfolio_management\\lib\\site-packages\\sklearn\\base.py:464: UserWarning: X does not have valid feature names, but StandardScaler was fitted with feature names\n",
            "  warnings.warn(\n",
            "c:\\Users\\JuanFernandez\\anaconda3\\envs\\energy_portfolio_management\\lib\\site-packages\\sklearn\\base.py:464: UserWarning: X does not have valid feature names, but SVR was fitted with feature names\n",
            "  warnings.warn(\n",
            "c:\\Users\\JuanFernandez\\anaconda3\\envs\\energy_portfolio_management\\lib\\site-packages\\sklearn\\base.py:464: UserWarning: X does not have valid feature names, but StandardScaler was fitted with feature names\n",
            "  warnings.warn(\n",
            "c:\\Users\\JuanFernandez\\anaconda3\\envs\\energy_portfolio_management\\lib\\site-packages\\sklearn\\base.py:464: UserWarning: X does not have valid feature names, but SVR was fitted with feature names\n",
            "  warnings.warn(\n",
            "c:\\Users\\JuanFernandez\\anaconda3\\envs\\energy_portfolio_management\\lib\\site-packages\\sklearn\\base.py:464: UserWarning: X does not have valid feature names, but StandardScaler was fitted with feature names\n",
            "  warnings.warn(\n",
            "c:\\Users\\JuanFernandez\\anaconda3\\envs\\energy_portfolio_management\\lib\\site-packages\\sklearn\\base.py:464: UserWarning: X does not have valid feature names, but SVR was fitted with feature names\n",
            "  warnings.warn(\n",
            "c:\\Users\\JuanFernandez\\anaconda3\\envs\\energy_portfolio_management\\lib\\site-packages\\sklearn\\base.py:464: UserWarning: X does not have valid feature names, but StandardScaler was fitted with feature names\n",
            "  warnings.warn(\n"
          ]
        }
      ],
      "source": [
        "#Going into loop: we will loop over the y_test indices and update X_test_last at each loop:\n",
        "case_indices = y_test.index\n",
        "#n_features:\n",
        "n_features = 4\n",
        "#For scaling the predictions:\n",
        "dummy_array = np.zeros((1,X_test_last.shape[1]))\n",
        "for case_index in case_indices:\n",
        "  #Predicting with fitted SVM and writing the result on y_predicted at the same time:\n",
        "  load_prediction = svr.predict(X_test_last).flatten()[0]\n",
        "  #print(load_prediction)\n",
        "  y_predicted.update(pd.Series(load_prediction,index=[case_index]))\n",
        "  #Preparing the next X_test_last:\n",
        "  #\n",
        "  # We need to scale the load first:\n",
        "  dummy_array[0,X_test_last.shape[1]-1] = load_prediction\n",
        "  load_scaled = sX.transform(dummy_array)[0,X_test_last.shape[1]-1]\n",
        "  #\n",
        "  #---updating load list---:\n",
        "  last_loads = np.delete(last_loads,0)\n",
        "  last_loads = np.append(last_loads,load_scaled)\n",
        "  #print(last_loads)\n",
        "  #\n",
        "  #---finding new values:\n",
        "  median_i = np.median(last_loads)\n",
        "  std_i = np.std(last_loads)\n",
        "  min_i = np.min(last_loads)\n",
        "  max_i = np.max(last_loads)\n",
        "  #here I assume that T data is available from weatherforecasting etc.\n",
        "  time_index = pd.Timestamp(case_index) + DateOffset(hours=1)\n",
        "  temp_i= temp_test.loc[time_index] #already scaled!\n",
        "  #\n",
        "  #updating X_last:\n",
        "  for i in range (X_test_last.shape[1]-n_features):\n",
        "    X_test_last[0][i] =X_test_last[0][i+n_features]\n",
        "\n",
        "  X_test_last[0][X_test_last.shape[1]-n_features+0] =median_i\n",
        "  X_test_last[0][X_test_last.shape[1]-n_features+1] =std_i\n",
        "#  X_test_last[0][X_test_last.shape[1]-n_features+2] =min_i\n",
        "#  X_test_last[0][X_test_last.shape[1]-n_features+3] =max_i\n",
        "  X_test_last[0][X_test_last.shape[1]-n_features+2] =temp_i\n",
        "  X_test_last[0][X_test_last.shape[1]-n_features+3] =load_scaled\n"
      ]
    },
    {
      "cell_type": "code",
      "execution_count": 104,
      "metadata": {
        "colab": {
          "base_uri": "https://localhost:8080/",
          "height": 427
        },
        "id": "y2czx1Q0KsCX",
        "outputId": "399d56ac-e2eb-4133-aa2b-11097a71df00"
      },
      "outputs": [
        {
          "data": {
            "text/plain": [
              "[<matplotlib.lines.Line2D at 0x1dd94ecdbd0>]"
            ]
          },
          "execution_count": 104,
          "metadata": {},
          "output_type": "execute_result"
        },
        {
          "data": {
            "image/png": "[encoded data removed]",
            "text/plain": [
              "<Figure size 1200x600 with 1 Axes>"
            ]
          },
          "metadata": {},
          "output_type": "display_data"
        },
        {
          "name": "stdout",
          "output_type": "stream",
          "text": [
            "time: 203 ms (started: 2024-09-13 13:03:26 +02:00)\n"
          ]
        }
      ],
      "source": [
        "#Visualization of the accuracy:\n",
        "a = plt.axes(aspect='equal')\n",
        "plt.scatter(y_test, y_predicted)\n",
        "plt.xlabel('True Pressure Values')\n",
        "plt.ylabel('Predicted Pressures')\n",
        "lims = [2000, 4000]\n",
        "plt.xlim(lims), plt.ylim(lims)\n",
        "plt.plot(lims, lims)"
      ]
    },
    {
      "cell_type": "code",
      "execution_count": 105,
      "metadata": {
        "colab": {
          "base_uri": "https://localhost:8080/",
          "height": 423
        },
        "id": "Bhy3_OFTcx84",
        "outputId": "31687fbe-29de-4413-952b-f18b21b4ab63"
      },
      "outputs": [
        {
          "data": {
            "text/plain": [
              "Text(0, 0.5, 'Count')"
            ]
          },
          "execution_count": 105,
          "metadata": {},
          "output_type": "execute_result"
        },
        {
          "data": {
            "image/png": "[encoded data removed]",
            "text/plain": [
              "<Figure size 1200x600 with 1 Axes>"
            ]
          },
          "metadata": {},
          "output_type": "display_data"
        },
        {
          "name": "stdout",
          "output_type": "stream",
          "text": [
            "time: 203 ms (started: 2024-09-13 13:03:26 +02:00)\n"
          ]
        }
      ],
      "source": [
        "# Calculating the error variations:\n",
        "error_nn = (y_predicted - y_test)/y_test*100\n",
        "plt.hist(error_nn, bins=20)\n",
        "plt.xlabel('Predicted Relative % Error')\n",
        "plt.ylabel('Count')"
      ]
    },
    {
      "cell_type": "code",
      "execution_count": 106,
      "metadata": {
        "colab": {
          "base_uri": "https://localhost:8080/"
        },
        "id": "_vc-t0oFcx84",
        "outputId": "be5c47df-484b-46e2-c74d-c34ab555014b"
      },
      "outputs": [
        {
          "data": {
            "text/plain": [
              "0.26664481754053554"
            ]
          },
          "execution_count": 106,
          "metadata": {},
          "output_type": "execute_result"
        },
        {
          "name": "stdout",
          "output_type": "stream",
          "text": [
            "time: 0 ns (started: 2024-09-13 13:03:27 +02:00)\n"
          ]
        }
      ],
      "source": [
        "#Calculating the mean absolutepercentage error:\n",
        "abs_error_nn = abs(y_predicted - y_test)/y_test*100\n",
        "np.average(error_nn)"
      ]
    },
    {
      "cell_type": "code",
      "execution_count": 107,
      "metadata": {
        "colab": {
          "base_uri": "https://localhost:8080/"
        },
        "id": "VdIzSpeLcx84",
        "outputId": "890eaaf4-d90e-4f41-978d-decdc75112f1"
      },
      "outputs": [
        {
          "name": "stdout",
          "output_type": "stream",
          "text": [
            "R^2 score is  0.89\n",
            "time: 0 ns (started: 2024-09-13 13:03:27 +02:00)\n"
          ]
        }
      ],
      "source": [
        "#Calculating R2 value:\n",
        "r2_test = r2_score(y_test, y_predicted)\n",
        "print('R^2 score is  %3.2f' %r2_test)"
      ]
    },
    {
      "cell_type": "code",
      "execution_count": 108,
      "metadata": {
        "colab": {
          "base_uri": "https://localhost:8080/",
          "height": 421
        },
        "id": "1rb9lQ8Qcx85",
        "outputId": "28741c31-bb9b-4535-91e1-5917a3c508df"
      },
      "outputs": [
        {
          "data": {
            "image/png": "[encoded data removed]",
            "text/plain": [
              "<Figure size 1200x600 with 1 Axes>"
            ]
          },
          "metadata": {},
          "output_type": "display_data"
        },
        {
          "name": "stdout",
          "output_type": "stream",
          "text": [
            "time: 296 ms (started: 2024-09-13 13:03:27 +02:00)\n"
          ]
        }
      ],
      "source": [
        "#Plotting the Figure: \n",
        "plt.figure();\n",
        "plt.plot(y_test, 'k.-');\n",
        "plt.plot(y_predicted, 'x', alpha=0.70);\n",
        "\n",
        "plt.legend(['Actual',\n",
        "            'Predicted 1 hr ahead'\n",
        "            ]);\n",
        "plt.ylabel('Load');\n",
        "plt.xlabel('Time Index');\n",
        "plt.title('SVM');\n",
        "mpl.rcParams['figure.figsize'] = [12.0, 6.0]"
      ]
    }
  ],
  "metadata": {
    "colab": {
      "provenance": [],
      "toc_visible": true
    },
    "kernelspec": {
      "display_name": "Python 3",
      "name": "python3"
    },
    "language_info": {
      "codemirror_mode": {
        "name": "ipython",
        "version": 3
      },
      "file_extension": ".py",
      "mimetype": "text/x-python",
      "name": "python",
      "nbconvert_exporter": "python",
      "pygments_lexer": "ipython3",
      "version": "3.10.13"
    }
  },
  "nbformat": 4,
  "nbformat_minor": 0
}
