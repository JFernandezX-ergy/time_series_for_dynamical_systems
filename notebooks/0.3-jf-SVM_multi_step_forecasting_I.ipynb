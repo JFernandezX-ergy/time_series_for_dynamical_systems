{
  "cells": [
    {
      "cell_type": "markdown",
      "metadata": {
        "id": "cQxGOeC7ZmUj"
      },
      "source": [
        "Time Series Analysis for Dynamical Systems\n"
      ]
    },
    {
      "cell_type": "markdown",
      "metadata": {
        "id": "rA_3sqmEls1m"
      },
      "source": [
        "# 1. Problem Definition: Short Term Load Forecasting\n",
        "\n",
        "Load forecasting within the context of energy demand. It is an open-access data published as the appendix Hong et al. (2016). The data consists of three years of hourly electricity load and temperatures."
      ]
    },
    {
      "cell_type": "markdown",
      "metadata": {
        "id": "C9yyayGmmaKy"
      },
      "source": [
        "\n",
        "# 2. Preparing the environment\n",
        "\n",
        "Import the Python libraries that we will need to (i) load the data, (ii) analyze it, (iii) create our model, (iv) process the results."
      ]
    },
    {
      "cell_type": "code",
      "execution_count": 1,
      "metadata": {
        "colab": {
          "base_uri": "https://localhost:8080/"
        },
        "id": "yWFatBGPPinR",
        "outputId": "37f6e9d4-f871-47c4-e4c8-7c274f604e63"
      },
      "outputs": [
        {
          "name": "stdout",
          "output_type": "stream",
          "text": [
            "Requirement already satisfied: ipython-autotime in c:\\users\\juanfernandez\\anaconda3\\envs\\energy_portfolio_management\\lib\\site-packages (0.3.2)\n",
            "Requirement already satisfied: ipython in c:\\users\\juanfernandez\\anaconda3\\envs\\energy_portfolio_management\\lib\\site-packages (from ipython-autotime) (8.16.1)\n",
            "Requirement already satisfied: backcall in c:\\users\\juanfernandez\\anaconda3\\envs\\energy_portfolio_management\\lib\\site-packages (from ipython->ipython-autotime) (0.2.0)\n",
            "Requirement already satisfied: decorator in c:\\users\\juanfernandez\\anaconda3\\envs\\energy_portfolio_management\\lib\\site-packages (from ipython->ipython-autotime) (5.1.1)\n",
            "Requirement already satisfied: jedi>=0.16 in c:\\users\\juanfernandez\\anaconda3\\envs\\energy_portfolio_management\\lib\\site-packages (from ipython->ipython-autotime) (0.19.1)\n",
            "Requirement already satisfied: matplotlib-inline in c:\\users\\juanfernandez\\anaconda3\\envs\\energy_portfolio_management\\lib\\site-packages (from ipython->ipython-autotime) (0.1.6)\n",
            "Requirement already satisfied: pickleshare in c:\\users\\juanfernandez\\anaconda3\\envs\\energy_portfolio_management\\lib\\site-packages (from ipython->ipython-autotime) (0.7.5)\n",
            "Requirement already satisfied: prompt-toolkit!=3.0.37,<3.1.0,>=3.0.30 in c:\\users\\juanfernandez\\anaconda3\\envs\\energy_portfolio_management\\lib\\site-packages (from ipython->ipython-autotime) (3.0.39)\n",
            "Requirement already satisfied: pygments>=2.4.0 in c:\\users\\juanfernandez\\anaconda3\\envs\\energy_portfolio_management\\lib\\site-packages (from ipython->ipython-autotime) (2.16.1)\n",
            "Requirement already satisfied: stack-data in c:\\users\\juanfernandez\\anaconda3\\envs\\energy_portfolio_management\\lib\\site-packages (from ipython->ipython-autotime) (0.6.2)\n",
            "Requirement already satisfied: traitlets>=5 in c:\\users\\juanfernandez\\anaconda3\\envs\\energy_portfolio_management\\lib\\site-packages (from ipython->ipython-autotime) (5.12.0)\n",
            "Requirement already satisfied: exceptiongroup in c:\\users\\juanfernandez\\anaconda3\\envs\\energy_portfolio_management\\lib\\site-packages (from ipython->ipython-autotime) (1.1.3)\n",
            "Requirement already satisfied: colorama in c:\\users\\juanfernandez\\anaconda3\\envs\\energy_portfolio_management\\lib\\site-packages (from ipython->ipython-autotime) (0.4.6)\n",
            "Requirement already satisfied: parso<0.9.0,>=0.8.3 in c:\\users\\juanfernandez\\anaconda3\\envs\\energy_portfolio_management\\lib\\site-packages (from jedi>=0.16->ipython->ipython-autotime) (0.8.3)\n",
            "Requirement already satisfied: wcwidth in c:\\users\\juanfernandez\\anaconda3\\envs\\energy_portfolio_management\\lib\\site-packages (from prompt-toolkit!=3.0.37,<3.1.0,>=3.0.30->ipython->ipython-autotime) (0.2.8)\n",
            "Requirement already satisfied: executing>=1.2.0 in c:\\users\\juanfernandez\\anaconda3\\envs\\energy_portfolio_management\\lib\\site-packages (from stack-data->ipython->ipython-autotime) (1.2.0)\n",
            "Requirement already satisfied: asttokens>=2.1.0 in c:\\users\\juanfernandez\\anaconda3\\envs\\energy_portfolio_management\\lib\\site-packages (from stack-data->ipython->ipython-autotime) (2.4.0)\n",
            "Requirement already satisfied: pure-eval in c:\\users\\juanfernandez\\anaconda3\\envs\\energy_portfolio_management\\lib\\site-packages (from stack-data->ipython->ipython-autotime) (0.2.2)\n",
            "Requirement already satisfied: six>=1.12.0 in c:\\users\\juanfernandez\\anaconda3\\envs\\energy_portfolio_management\\lib\\site-packages (from asttokens>=2.1.0->stack-data->ipython->ipython-autotime) (1.16.0)\n",
            "time: 0 ns (started: 2024-09-13 13:01:42 +02:00)\n"
          ]
        },
        {
          "name": "stderr",
          "output_type": "stream",
          "text": [
            "\n",
            "[notice] A new release of pip is available: 24.1.1 -> 24.2\n",
            "[notice] To update, run: python.exe -m pip install --upgrade pip\n"
          ]
        }
      ],
      "source": [
        "!pip install ipython-autotime\n",
        "%load_ext autotime"
      ]
    },
    {
      "cell_type": "markdown",
      "metadata": {
        "id": "OYJUVWg9-HxL"
      },
      "source": [
        "## Libraries"
      ]
    },
    {
      "cell_type": "code",
      "execution_count": 2,
      "metadata": {
        "colab": {
          "base_uri": "https://localhost:8080/"
        },
        "id": "8i9z1Kao-kQT",
        "outputId": "9e31b1c3-caa2-4c87-d5dd-6d9303f498fa"
      },
      "outputs": [
        {
          "name": "stdout",
          "output_type": "stream",
          "text": [
            "Requirement already satisfied: statsmodels in c:\\users\\juanfernandez\\anaconda3\\envs\\energy_portfolio_management\\lib\\site-packages (0.14.0)\n",
            "Requirement already satisfied: numpy>=1.18 in c:\\users\\juanfernandez\\anaconda3\\envs\\energy_portfolio_management\\lib\\site-packages (from statsmodels) (1.23.4)\n",
            "Requirement already satisfied: scipy!=1.9.2,>=1.4 in c:\\users\\juanfernandez\\anaconda3\\envs\\energy_portfolio_management\\lib\\site-packages (from statsmodels) (1.12.0)\n",
            "Requirement already satisfied: pandas>=1.0 in c:\\users\\juanfernandez\\anaconda3\\envs\\energy_portfolio_management\\lib\\site-packages (from statsmodels) (1.5.3)\n",
            "Requirement already satisfied: patsy>=0.5.2 in c:\\users\\juanfernandez\\anaconda3\\envs\\energy_portfolio_management\\lib\\site-packages (from statsmodels) (0.5.3)\n",
            "Requirement already satisfied: packaging>=21.3 in c:\\users\\juanfernandez\\anaconda3\\envs\\energy_portfolio_management\\lib\\site-packages (from statsmodels) (23.2)\n",
            "Requirement already satisfied: python-dateutil>=2.8.1 in c:\\users\\juanfernandez\\anaconda3\\envs\\energy_portfolio_management\\lib\\site-packages (from pandas>=1.0->statsmodels) (2.8.2)\n",
            "Requirement already satisfied: pytz>=2020.1 in c:\\users\\juanfernandez\\anaconda3\\envs\\energy_portfolio_management\\lib\\site-packages (from pandas>=1.0->statsmodels) (2023.3.post1)\n",
            "Requirement already satisfied: six in c:\\users\\juanfernandez\\anaconda3\\envs\\energy_portfolio_management\\lib\\site-packages (from patsy>=0.5.2->statsmodels) (1.16.0)\n",
            "time: 1.67 s (started: 2024-09-13 13:01:42 +02:00)\n"
          ]
        },
        {
          "name": "stderr",
          "output_type": "stream",
          "text": [
            "\n",
            "[notice] A new release of pip is available: 24.1.1 -> 24.2\n",
            "[notice] To update, run: python.exe -m pip install --upgrade pip\n"
          ]
        }
      ],
      "source": [
        "#Local Installations\n",
        "!pip install statsmodels"
      ]
    },
    {
      "cell_type": "code",
      "execution_count": 3,
      "metadata": {
        "colab": {
          "base_uri": "https://localhost:8080/"
        },
        "id": "qQAx5I7N-GQ0",
        "outputId": "c1cf47fc-0eaa-47b1-ad16-5d0a6ac2b127"
      },
      "outputs": [
        {
          "name": "stdout",
          "output_type": "stream",
          "text": [
            "time: 1.97 s (started: 2024-09-13 13:01:44 +02:00)\n"
          ]
        }
      ],
      "source": [
        "#Importing the necessary libraries\n",
        "import math\n",
        "import numpy as np\n",
        "import pandas as pd\n",
        "import datetime as dt\n",
        "import os\n",
        "import itertools\n",
        "import matplotlib.pyplot as plt\n",
        "import seaborn as sns\n",
        "color = sns.color_palette()\n",
        "import matplotlib as mpl\n",
        "from matplotlib import colors as mcolors\n",
        "colors = dict(mcolors.BASE_COLORS, **mcolors.CSS4_COLORS)\n",
        "import statsmodels.api as sm\n",
        "import warnings\n",
        "import matplotlib.dates as mdates\n",
        "from pandas.plotting import lag_plot, autocorrelation_plot\n",
        "from statsmodels.graphics.tsaplots import plot_acf, plot_pacf "
      ]
    },
    {
      "cell_type": "code",
      "execution_count": 4,
      "metadata": {
        "colab": {
          "base_uri": "https://localhost:8080/"
        },
        "id": "Bde603-P-KSz",
        "outputId": "9cfa993e-26aa-4cb1-ee21-cfd9425ca441"
      },
      "outputs": [
        {
          "name": "stdout",
          "output_type": "stream",
          "text": [
            "time: 78 ms (started: 2024-09-13 13:01:46 +02:00)\n"
          ]
        }
      ],
      "source": [
        "# Data Preparation and Scoring\n",
        "from sklearn import preprocessing as pp\n",
        "from scipy import stats\n",
        "from sklearn.model_selection import train_test_split\n",
        "from sklearn.model_selection import KFold\n",
        "from sklearn.model_selection import GridSearchCV\n",
        "from scipy.stats import reciprocal\n",
        "from sklearn.model_selection import RandomizedSearchCV\n",
        "from sklearn.metrics import make_scorer\n",
        "from sklearn.metrics import accuracy_score\n",
        "from sklearn.metrics import mean_absolute_error\n",
        "from sklearn.metrics import r2_score\n",
        "from sklearn.metrics import mean_squared_error\n",
        "from matplotlib.colors import LogNorm"
      ]
    },
    {
      "cell_type": "code",
      "execution_count": 5,
      "metadata": {},
      "outputs": [
        {
          "name": "stdout",
          "output_type": "stream",
          "text": [
            "time: 62 ms (started: 2024-09-13 13:01:46 +02:00)\n"
          ]
        }
      ],
      "source": [
        "# ML Algorithms to be used\n",
        "from statsmodels.tsa.statespace.sarimax import SARIMAX\n",
        "from sklearn.svm import SVR"
      ]
    },
    {
      "cell_type": "markdown",
      "metadata": {
        "id": "_4cDs8HWmfhF"
      },
      "source": [
        "# 3. Pre-processing\n"
      ]
    },
    {
      "cell_type": "code",
      "execution_count": 6,
      "metadata": {
        "colab": {
          "base_uri": "https://localhost:8080/",
          "height": 224
        },
        "id": "lP0FCEaz6qJC",
        "outputId": "bd9455ac-018d-4ecf-defe-173a0c48045f"
      },
      "outputs": [
        {
          "name": "stdout",
          "output_type": "stream",
          "text": [
            "time: 0 ns (started: 2024-09-13 13:01:46 +02:00)\n"
          ]
        }
      ],
      "source": [
        "cwd = os.getcwd()\n",
        "DATA_PATH = os.path.join(cwd, '..', 'data')\n",
        "RAW_DATA_PATH = os.path.join(DATA_PATH, 'raw')\n",
        "def read_Data():\n",
        "    data_path = os.path.join(RAW_DATA_PATH, \"energy.csv\") #,parse_dates=[['Date', 'Hour']]) if date and hour to be merged here.\n",
        "    data = pd.read_csv(data_path)\n",
        "    return data"
      ]
    },
    {
      "cell_type": "code",
      "execution_count": 7,
      "metadata": {},
      "outputs": [
        {
          "name": "stdout",
          "output_type": "stream",
          "text": [
            "time: 32 ms (started: 2024-09-13 13:01:46 +02:00)\n"
          ]
        }
      ],
      "source": [
        "data = read_Data()"
      ]
    },
    {
      "cell_type": "code",
      "execution_count": 8,
      "metadata": {},
      "outputs": [
        {
          "name": "stdout",
          "output_type": "stream",
          "text": [
            "time: 266 ms (started: 2024-09-13 13:01:46 +02:00)\n"
          ]
        }
      ],
      "source": [
        "data = data.dropna()\n",
        "data.loc[data.Hour == 24, \"Hour\"] = 0\n",
        "data.iloc[23]\n",
        "#Converting time hour into string:\n",
        "data['Hour']= data['Hour'].apply(str)\n",
        "#Merging Columns:\n",
        "data['Date']= data['Date']+' '+ data['Hour']\n",
        "data = data.drop(['Hour'],axis=1)\n",
        "# convert the column to datetime type:\n",
        "datetime_series = pd.to_datetime(data['Date'],format='%d/%m/%Y %H')\n",
        "#Create datetime index and pass it:\n",
        "datetime_index = pd.DatetimeIndex(datetime_series.values)\n",
        "#Updating the indices:\n",
        "data=(data.set_index(datetime_index)).drop(['Date'],axis=1)\n",
        "data = data.sort_index()"
      ]
    },
    {
      "cell_type": "markdown",
      "metadata": {
        "id": "3znw1epxG-CZ"
      },
      "source": [
        "# SVM I - Multi-step Forecasting: \n",
        "\n",
        "Multi-step forecasting involves predicting multiple future data points in the time series based on the previous data points. The model's objective is to predict a sequence of future values, given the historical data."
      ]
    },
    {
      "cell_type": "markdown",
      "metadata": {
        "id": "xaApZSY0Awlt"
      },
      "source": [
        "## Organizing the Feature Matrix"
      ]
    },
    {
      "cell_type": "code",
      "execution_count": 9,
      "metadata": {
        "colab": {
          "base_uri": "https://localhost:8080/",
          "height": 161
        },
        "id": "lOZblMjrAm3Z",
        "outputId": "aafcaea8-a6e6-4d62-c9f8-624bf991f5cb"
      },
      "outputs": [
        {
          "data": {
            "text/html": [
              "<div>\n",
              "<style scoped>\n",
              "    .dataframe tbody tr th:only-of-type {\n",
              "        vertical-align: middle;\n",
              "    }\n",
              "\n",
              "    .dataframe tbody tr th {\n",
              "        vertical-align: top;\n",
              "    }\n",
              "\n",
              "    .dataframe thead th {\n",
              "        text-align: right;\n",
              "    }\n",
              "</style>\n",
              "<table border=\"1\" class=\"dataframe\">\n",
              "  <thead>\n",
              "    <tr style=\"text-align: right;\">\n",
              "      <th></th>\n",
              "      <th>load</th>\n",
              "      <th>T</th>\n",
              "    </tr>\n",
              "  </thead>\n",
              "  <tbody>\n",
              "    <tr>\n",
              "      <th>2014-08-28 05:00:00</th>\n",
              "      <td>2930.0</td>\n",
              "      <td>65.33</td>\n",
              "    </tr>\n",
              "    <tr>\n",
              "      <th>2014-10-25 01:00:00</th>\n",
              "      <td>2531.0</td>\n",
              "      <td>46.33</td>\n",
              "    </tr>\n",
              "    <tr>\n",
              "      <th>2009-06-04 20:00:00</th>\n",
              "      <td>3359.0</td>\n",
              "      <td>67.67</td>\n",
              "    </tr>\n",
              "  </tbody>\n",
              "</table>\n",
              "</div>"
            ],
            "text/plain": [
              "                       load      T\n",
              "2014-08-28 05:00:00  2930.0  65.33\n",
              "2014-10-25 01:00:00  2531.0  46.33\n",
              "2009-06-04 20:00:00  3359.0  67.67"
            ]
          },
          "execution_count": 9,
          "metadata": {},
          "output_type": "execute_result"
        },
        {
          "name": "stdout",
          "output_type": "stream",
          "text": [
            "time: 16 ms (started: 2024-09-13 13:01:46 +02:00)\n"
          ]
        }
      ],
      "source": [
        "#Checking Data:\n",
        "data.sample(3)"
      ]
    },
    {
      "cell_type": "code",
      "execution_count": 10,
      "metadata": {
        "colab": {
          "base_uri": "https://localhost:8080/"
        },
        "id": "mAqLnJ4FCDIt",
        "outputId": "2a953896-1391-4902-88a9-953416782d92"
      },
      "outputs": [
        {
          "name": "stdout",
          "output_type": "stream",
          "text": [
            "<class 'pandas.core.frame.DataFrame'>\n",
            "DatetimeIndex: 78885 entries, 2006-01-01 03:00:00 to 2014-12-31 23:00:00\n",
            "Data columns (total 4 columns):\n",
            " #   Column  Non-Null Count  Dtype  \n",
            "---  ------  --------------  -----  \n",
            " 0   median  78885 non-null  float64\n",
            " 1   std     78885 non-null  float64\n",
            " 2   T       78885 non-null  float64\n",
            " 3   load    78885 non-null  float64\n",
            "dtypes: float64(4)\n",
            "memory usage: 3.0 MB\n",
            "time: 31 ms (started: 2024-09-13 13:01:46 +02:00)\n"
          ]
        }
      ],
      "source": [
        "#Adding statistics features in dataframes:\n",
        "#------------------------------------------------\n",
        "#Let's use only the load data;\n",
        "load_data = data[['load']]\n",
        "#Defining the window width:\n",
        "width = 4\n",
        "#Calling Rolling:\n",
        "window = load_data.rolling(window=width)\n",
        "#Let's save as a new DF. We will add min, mean and max to the load column:\n",
        "new_dataframe = pd.concat([window.median(), window.std(),data['T'], data['load']], axis=1)\n",
        "new_dataframe.columns = ['median', 'std','T', 'load']\n",
        "new_dataframe = new_dataframe.dropna() \n",
        "new_dataframe.info()"
      ]
    },
    {
      "cell_type": "code",
      "execution_count": 11,
      "metadata": {
        "colab": {
          "base_uri": "https://localhost:8080/",
          "height": 98
        },
        "id": "231KKWkSUUqx",
        "outputId": "9b068658-4d78-451b-fab8-d6506d896f6f"
      },
      "outputs": [
        {
          "data": {
            "text/html": [
              "<div>\n",
              "<style scoped>\n",
              "    .dataframe tbody tr th:only-of-type {\n",
              "        vertical-align: middle;\n",
              "    }\n",
              "\n",
              "    .dataframe tbody tr th {\n",
              "        vertical-align: top;\n",
              "    }\n",
              "\n",
              "    .dataframe thead th {\n",
              "        text-align: right;\n",
              "    }\n",
              "</style>\n",
              "<table border=\"1\" class=\"dataframe\">\n",
              "  <thead>\n",
              "    <tr style=\"text-align: right;\">\n",
              "      <th></th>\n",
              "      <th>median</th>\n",
              "      <th>std</th>\n",
              "      <th>T</th>\n",
              "      <th>load</th>\n",
              "    </tr>\n",
              "  </thead>\n",
              "  <tbody>\n",
              "    <tr>\n",
              "      <th>2006-01-01 03:00:00</th>\n",
              "      <td>2919.0</td>\n",
              "      <td>117.88271</td>\n",
              "      <td>21.33</td>\n",
              "      <td>2758.0</td>\n",
              "    </tr>\n",
              "  </tbody>\n",
              "</table>\n",
              "</div>"
            ],
            "text/plain": [
              "                     median        std      T    load\n",
              "2006-01-01 03:00:00  2919.0  117.88271  21.33  2758.0"
            ]
          },
          "execution_count": 11,
          "metadata": {},
          "output_type": "execute_result"
        },
        {
          "name": "stdout",
          "output_type": "stream",
          "text": [
            "time: 15 ms (started: 2024-09-13 13:01:47 +02:00)\n"
          ]
        }
      ],
      "source": [
        "new_dataframe.head(1)"
      ]
    },
    {
      "cell_type": "markdown",
      "metadata": {
        "id": "hqTUNuPrGbRU"
      },
      "source": [
        "## Building the X Matrix and Labels\n",
        "\n",
        "Adding the temporal data with sliding intervals in time. Lets first look with an illustration:"
      ]
    },
    {
      "cell_type": "code",
      "execution_count": 12,
      "metadata": {
        "colab": {
          "base_uri": "https://localhost:8080/",
          "height": 391
        },
        "id": "Rd1KueOfGa52",
        "outputId": "5d9da8d8-add9-4dfa-d3c3-42220cb45fc4"
      },
      "outputs": [
        {
          "data": {
            "image/png": "[encoded data removed]",
            "text/plain": [
              "<Figure size 640x480 with 4 Axes>"
            ]
          },
          "metadata": {},
          "output_type": "display_data"
        },
        {
          "name": "stdout",
          "output_type": "stream",
          "text": [
            "time: 656 ms (started: 2024-09-13 13:01:47 +02:00)\n"
          ]
        }
      ],
      "source": [
        "#finding the indices as integers for time substraction below:\n",
        "start = np.where(new_dataframe.index == '2014-03-01 00:00:00')[0][0]\n",
        "middle = np.where(new_dataframe.index == '2014-03-01 12:00:00')[0][0]\n",
        "end = np.where(new_dataframe.index == '2014-03-02 00:00:00')[0][0]\n",
        "#sliding window width:\n",
        "window = 4\n",
        "#Plotting a sliding interval sample:\n",
        "fig, ax = plt.subplots(nrows=4,sharex=True);\n",
        "for i in range(4): \n",
        "    full = new_dataframe.iloc[start:end]['load']\n",
        "    train = new_dataframe.iloc[middle - i - window:middle - i ]['load']\n",
        "    predict = new_dataframe.iloc[middle - i:middle - i + 1]['load']\n",
        "\n",
        "    ax[3-i].plot((full + 2*i),c='grey', alpha=0.5);\n",
        "    ax[3-i].plot((train + 2*i),c=colors['lightskyblue'], markersize=4,marker='o')\n",
        "    ax[3-i].plot((predict + 2*i),c=colors['midnightblue'], markersize=8,marker='o', linestyle='')\n",
        "\n",
        "ax[0].get_yaxis().set_ticks([]);\n",
        "ax[0].legend(['full time series','$\\mathbf{X}$','$y$'],bbox_to_anchor=(1, 1));\n"
      ]
    },
    {
      "cell_type": "markdown",
      "metadata": {
        "id": "yfQBOa4CPJq_"
      },
      "source": [
        "Lets follow the same logic and create our feature matrix A in this way."
      ]
    },
    {
      "cell_type": "code",
      "execution_count": 13,
      "metadata": {
        "colab": {
          "base_uri": "https://localhost:8080/"
        },
        "id": "R4_yJO5jQEn6",
        "outputId": "958447ad-a889-4a53-e91a-b9e8513b2e27"
      },
      "outputs": [
        {
          "name": "stdout",
          "output_type": "stream",
          "text": [
            "time: 984 ms (started: 2024-09-13 13:01:47 +02:00)\n"
          ]
        }
      ],
      "source": [
        "#finding the indices as integers for time substraction below:\n",
        "start = np.where(new_dataframe.index == '2012-09-01 00:00:00')[0][0]\n",
        "end = np.where(new_dataframe.index == '2014-11-04 00:00:00')[0][0]\n",
        "#setting windows width:\n",
        "window = 4\n",
        "#emply datalist\n",
        "dataX = []\n",
        "dataY = []\n",
        "column_names = []\n",
        "for i in range(start,end-window):\n",
        "\n",
        "    # Slice a window of features\n",
        "    dataX.append((new_dataframe.iloc[i:i+window].to_numpy()).ravel())\n",
        "    dataY.append(new_dataframe['load'].iloc[i+window] )\n",
        "\n",
        "for j in range (1,window+1):\n",
        "      column_names.append(['median_t_'+str(j),'std_t_'+str(j),'T_t_'+str(j),'load_t_'+str(j)])\n",
        "\n",
        "column_names = itertools.chain(*column_names)\n",
        "dataX = pd.DataFrame(np.vstack(dataX),index=new_dataframe.iloc[start+window:end].index)\n",
        "dataX.columns = column_names\n",
        "dataY =pd.Series(dataY,index=new_dataframe.iloc[start+window:end].index)\n",
        "dataY.column = ['true_load']"
      ]
    },
    {
      "attachments": {},
      "cell_type": "markdown",
      "metadata": {},
      "source": [
        "#### Example:\n",
        "\n",
        "   The purpose of this loop is to create sliding windows of data for the features (dataX) and the target variable (dataY).\n",
        "\n",
        "    Let's say our new_dataframe looks like this (a simple example with 7 rows and 4 columns, including the target variable 'load'):\n",
        "\n",
        "new_dataframe:\n",
        "|    Date    | median_t | std_t | T_t | load |\n",
        "|------------|----------|-------|-----|------|\n",
        "| 2012-09-01 |        1 |     5 |   9 |   13 |\n",
        "| 2012-09-02 |        2 |     6 |  10 |   14 |\n",
        "| 2012-09-03 |        3 |     7 |  11 |   15 |\n",
        "| 2012-09-04 |        4 |     8 |  12 |   16 |\n",
        "| 2012-09-05 |        5 |     9 |  13 |   17 |\n",
        "| 2012-09-06 |        6 |    10 |  14 |   18 |\n",
        "| 2012-09-07 |        7 |    11 |  15 |   19 |\n",
        "\n",
        "    And we set window = 3.\n",
        "\n",
        "    Now, let's walk through the loop:\n",
        "\n",
        "    i = start (i.e., the index of the first row)\n",
        "\n",
        "    We create a window of size 3 for features:\n",
        "\n",
        "    1  5  9\n",
        "    2  6 10\n",
        "    3  7 11\n",
        "    We ravel this window into a single row:\n",
        "\n",
        "    1  5  9  2  6 10  3  7 11\n",
        "    We add this row to dataX.\n",
        "\n",
        "    For the target variable, we take the 'load' value at the position i + window (i.e., 16) and add it to dataY.\n",
        "\n",
        "    i = start + 1 (i.e., the index of the second row)\n",
        "\n",
        "    We create a window of size 3 for features:\n",
        "\n",
        "    2  6 10\n",
        "    3  7 11\n",
        "    4  8 12\n",
        "    We ravel this window into a single row:\n",
        "\n",
        "    2  6 10  3  7 11  4  8 12\n",
        "    We add this row to dataX.\n",
        "\n",
        "    For the target variable, we take the 'load' value at the position i + window (i.e., 17) and add it to dataY.\n",
        "\n",
        "    The loop continues until i = end - window. After the loop, dataX and dataY will look like this:\n",
        "\n",
        "dataX:\n",
        "|    Date    | median_t_1 | std_t_1 | T_t_1 | median_t_2 | std_t_2 | T_t_2 | median_t_3 | std_t_3 | T_t_3 |\n",
        "|------------|------------|---------|-------|------------|---------|-------|------------|---------|-------|\n",
        "| 2012-09-04 |          1 |       5 |     9 |          2 |       6 |    10 |          3 |       7 |    11 |\n",
        "| 2012-09-05 |          2 |       6 |    10 |          3 |       7 |    11 |          4 |       8 |    12 |\n",
        "\n",
        "dataY:\n",
        "|    Date    | load |\n",
        "|------------|------|\n",
        "| 2012-09-04 |   16 |\n",
        "| 2012-09-05 |   17 |\n",
        "\n",
        "    In this example, we have created a dataset with sliding windows of size 3, where each row in dataX contains the features from a window and the corresponding row in dataY contains the target variable ('load') right after that window.\n",
        "\n",
        "    Increasing the value of the sliding window changes the amount of historical data being considered for each instance in the dataset. A larger sliding window size means that more past data points are being used to predict the target variable.\n",
        "\n",
        "    In the context of your example, increasing the sliding window size to 48 would mean that each instance in dataX would have information from the 48 previous time steps. The physical meaning of this change depends on the temporal resolution of your data. For example, if your data is hourly, a sliding window of 48 would consider the past 48 hours of data for each prediction, while if the data is daily, it would consider the past 48 days.\n",
        "\n",
        "    A larger sliding window size may capture longer-term patterns in the data, making it potentially more useful for predicting the target variable. However, it's important to note that increasing the sliding window size also increases the dimensionality of the input features, which can lead to a more complex model and may require more computational resources. Additionally, a larger window size may result in less training instances, as more data is required to form each instance.\n",
        "\n",
        "    Ultimately, the optimal sliding window size depends on the specific problem and the nature of the data. It may be useful to experiment with different window sizes and evaluate the performance of the resulting models to find the best trade-off between capturing meaningful patterns in the data and maintaining a manageable input feature size."
      ]
    },
    {
      "cell_type": "code",
      "execution_count": 14,
      "metadata": {
        "colab": {
          "base_uri": "https://localhost:8080/",
          "height": 255
        },
        "id": "5D0XvtAriCm7",
        "outputId": "59fe67ce-6874-478d-f27a-9a5d7de54f2b"
      },
      "outputs": [
        {
          "data": {
            "text/html": [
              "<div>\n",
              "<style scoped>\n",
              "    .dataframe tbody tr th:only-of-type {\n",
              "        vertical-align: middle;\n",
              "    }\n",
              "\n",
              "    .dataframe tbody tr th {\n",
              "        vertical-align: top;\n",
              "    }\n",
              "\n",
              "    .dataframe thead th {\n",
              "        text-align: right;\n",
              "    }\n",
              "</style>\n",
              "<table border=\"1\" class=\"dataframe\">\n",
              "  <thead>\n",
              "    <tr style=\"text-align: right;\">\n",
              "      <th></th>\n",
              "      <th>median</th>\n",
              "      <th>std</th>\n",
              "      <th>T</th>\n",
              "      <th>load</th>\n",
              "    </tr>\n",
              "  </thead>\n",
              "  <tbody>\n",
              "    <tr>\n",
              "      <th>2014-09-01 00:00:00</th>\n",
              "      <td>3504.0</td>\n",
              "      <td>339.155815</td>\n",
              "      <td>69.67</td>\n",
              "      <td>3087.0</td>\n",
              "    </tr>\n",
              "    <tr>\n",
              "      <th>2014-09-01 01:00:00</th>\n",
              "      <td>3226.0</td>\n",
              "      <td>329.974115</td>\n",
              "      <td>71.00</td>\n",
              "      <td>2886.0</td>\n",
              "    </tr>\n",
              "    <tr>\n",
              "      <th>2014-09-01 02:00:00</th>\n",
              "      <td>2986.5</td>\n",
              "      <td>261.282095</td>\n",
              "      <td>70.00</td>\n",
              "      <td>2768.0</td>\n",
              "    </tr>\n",
              "    <tr>\n",
              "      <th>2014-09-01 03:00:00</th>\n",
              "      <td>2827.0</td>\n",
              "      <td>169.892123</td>\n",
              "      <td>69.33</td>\n",
              "      <td>2699.0</td>\n",
              "    </tr>\n",
              "    <tr>\n",
              "      <th>2014-09-01 04:00:00</th>\n",
              "      <td>2733.5</td>\n",
              "      <td>92.903175</td>\n",
              "      <td>68.33</td>\n",
              "      <td>2681.0</td>\n",
              "    </tr>\n",
              "    <tr>\n",
              "      <th>2014-09-01 05:00:00</th>\n",
              "      <td>2694.5</td>\n",
              "      <td>39.686270</td>\n",
              "      <td>68.33</td>\n",
              "      <td>2690.0</td>\n",
              "    </tr>\n",
              "  </tbody>\n",
              "</table>\n",
              "</div>"
            ],
            "text/plain": [
              "                     median         std      T    load\n",
              "2014-09-01 00:00:00  3504.0  339.155815  69.67  3087.0\n",
              "2014-09-01 01:00:00  3226.0  329.974115  71.00  2886.0\n",
              "2014-09-01 02:00:00  2986.5  261.282095  70.00  2768.0\n",
              "2014-09-01 03:00:00  2827.0  169.892123  69.33  2699.0\n",
              "2014-09-01 04:00:00  2733.5   92.903175  68.33  2681.0\n",
              "2014-09-01 05:00:00  2694.5   39.686270  68.33  2690.0"
            ]
          },
          "execution_count": 14,
          "metadata": {},
          "output_type": "execute_result"
        },
        {
          "name": "stdout",
          "output_type": "stream",
          "text": [
            "time: 16 ms (started: 2024-09-13 13:01:48 +02:00)\n"
          ]
        }
      ],
      "source": [
        "#Original DF:\n",
        "new_dataframe.loc['2014-09-01 00:00:00':'2014-09-04 00:00:00'].head(6)"
      ]
    },
    {
      "cell_type": "code",
      "execution_count": 15,
      "metadata": {
        "colab": {
          "base_uri": "https://localhost:8080/",
          "height": 208
        },
        "id": "-29jygVriUO-",
        "outputId": "716ff3c1-5eda-4897-b997-1a000169ee01"
      },
      "outputs": [
        {
          "data": {
            "text/html": [
              "<div>\n",
              "<style scoped>\n",
              "    .dataframe tbody tr th:only-of-type {\n",
              "        vertical-align: middle;\n",
              "    }\n",
              "\n",
              "    .dataframe tbody tr th {\n",
              "        vertical-align: top;\n",
              "    }\n",
              "\n",
              "    .dataframe thead th {\n",
              "        text-align: right;\n",
              "    }\n",
              "</style>\n",
              "<table border=\"1\" class=\"dataframe\">\n",
              "  <thead>\n",
              "    <tr style=\"text-align: right;\">\n",
              "      <th></th>\n",
              "      <th>median_t_1</th>\n",
              "      <th>std_t_1</th>\n",
              "      <th>T_t_1</th>\n",
              "      <th>load_t_1</th>\n",
              "      <th>median_t_2</th>\n",
              "      <th>std_t_2</th>\n",
              "      <th>T_t_2</th>\n",
              "      <th>load_t_2</th>\n",
              "      <th>median_t_3</th>\n",
              "      <th>std_t_3</th>\n",
              "      <th>T_t_3</th>\n",
              "      <th>load_t_3</th>\n",
              "      <th>median_t_4</th>\n",
              "      <th>std_t_4</th>\n",
              "      <th>T_t_4</th>\n",
              "      <th>load_t_4</th>\n",
              "    </tr>\n",
              "  </thead>\n",
              "  <tbody>\n",
              "    <tr>\n",
              "      <th>2012-09-01 04:00:00</th>\n",
              "      <td>3543.0</td>\n",
              "      <td>524.914199</td>\n",
              "      <td>59.33</td>\n",
              "      <td>2719.0</td>\n",
              "      <td>3104.5</td>\n",
              "      <td>465.842964</td>\n",
              "      <td>69.67</td>\n",
              "      <td>2817.0</td>\n",
              "      <td>2768.0</td>\n",
              "      <td>335.357521</td>\n",
              "      <td>67.33</td>\n",
              "      <td>2664.0</td>\n",
              "      <td>2691.5</td>\n",
              "      <td>99.408249</td>\n",
              "      <td>69.33</td>\n",
              "      <td>2580.0</td>\n",
              "    </tr>\n",
              "    <tr>\n",
              "      <th>2012-09-01 05:00:00</th>\n",
              "      <td>3104.5</td>\n",
              "      <td>465.842964</td>\n",
              "      <td>69.67</td>\n",
              "      <td>2817.0</td>\n",
              "      <td>2768.0</td>\n",
              "      <td>335.357521</td>\n",
              "      <td>67.33</td>\n",
              "      <td>2664.0</td>\n",
              "      <td>2691.5</td>\n",
              "      <td>99.408249</td>\n",
              "      <td>69.33</td>\n",
              "      <td>2580.0</td>\n",
              "      <td>2622.0</td>\n",
              "      <td>123.494939</td>\n",
              "      <td>67.67</td>\n",
              "      <td>2537.0</td>\n",
              "    </tr>\n",
              "  </tbody>\n",
              "</table>\n",
              "</div>"
            ],
            "text/plain": [
              "                     median_t_1     std_t_1  T_t_1  load_t_1  median_t_2  \\\n",
              "2012-09-01 04:00:00      3543.0  524.914199  59.33    2719.0      3104.5   \n",
              "2012-09-01 05:00:00      3104.5  465.842964  69.67    2817.0      2768.0   \n",
              "\n",
              "                        std_t_2  T_t_2  load_t_2  median_t_3     std_t_3  \\\n",
              "2012-09-01 04:00:00  465.842964  69.67    2817.0      2768.0  335.357521   \n",
              "2012-09-01 05:00:00  335.357521  67.33    2664.0      2691.5   99.408249   \n",
              "\n",
              "                     T_t_3  load_t_3  median_t_4     std_t_4  T_t_4  load_t_4  \n",
              "2012-09-01 04:00:00  67.33    2664.0      2691.5   99.408249  69.33    2580.0  \n",
              "2012-09-01 05:00:00  69.33    2580.0      2622.0  123.494939  67.67    2537.0  "
            ]
          },
          "execution_count": 15,
          "metadata": {},
          "output_type": "execute_result"
        },
        {
          "name": "stdout",
          "output_type": "stream",
          "text": [
            "time: 0 ns (started: 2024-09-13 13:01:48 +02:00)\n"
          ]
        }
      ],
      "source": [
        "dataX.head(2)"
      ]
    },
    {
      "cell_type": "code",
      "execution_count": 16,
      "metadata": {},
      "outputs": [
        {
          "data": {
            "text/plain": [
              "(19052, 16)"
            ]
          },
          "execution_count": 16,
          "metadata": {},
          "output_type": "execute_result"
        },
        {
          "name": "stdout",
          "output_type": "stream",
          "text": [
            "time: 0 ns (started: 2024-09-13 13:01:48 +02:00)\n"
          ]
        }
      ],
      "source": [
        "dataX.shape"
      ]
    },
    {
      "cell_type": "code",
      "execution_count": 17,
      "metadata": {
        "colab": {
          "base_uri": "https://localhost:8080/"
        },
        "id": "jSfEBmI-jJz3",
        "outputId": "e36f8c78-d41c-4c61-ff0e-de2ec77a0da4"
      },
      "outputs": [
        {
          "data": {
            "text/plain": [
              "2012-09-01 04:00:00    2537.0\n",
              "2012-09-01 05:00:00    2525.0\n",
              "dtype: float64"
            ]
          },
          "execution_count": 17,
          "metadata": {},
          "output_type": "execute_result"
        },
        {
          "name": "stdout",
          "output_type": "stream",
          "text": [
            "time: 0 ns (started: 2024-09-13 13:01:48 +02:00)\n"
          ]
        }
      ],
      "source": [
        "dataY.head(2)"
      ]
    },
    {
      "cell_type": "code",
      "execution_count": 18,
      "metadata": {},
      "outputs": [
        {
          "data": {
            "text/plain": [
              "(19052,)"
            ]
          },
          "execution_count": 18,
          "metadata": {},
          "output_type": "execute_result"
        },
        {
          "name": "stdout",
          "output_type": "stream",
          "text": [
            "time: 0 ns (started: 2024-09-13 13:01:48 +02:00)\n"
          ]
        }
      ],
      "source": [
        "dataY.shape"
      ]
    },
    {
      "cell_type": "code",
      "execution_count": 19,
      "metadata": {
        "colab": {
          "base_uri": "https://localhost:8080/",
          "height": 475
        },
        "id": "v2ql4QbypFl-",
        "outputId": "033c9005-caca-4ef4-856f-a3cffd9f1ef3"
      },
      "outputs": [
        {
          "data": {
            "image/png": "[encoded data removed]",
            "text/plain": [
              "<Figure size 1200x600 with 2 Axes>"
            ]
          },
          "metadata": {},
          "output_type": "display_data"
        },
        {
          "name": "stdout",
          "output_type": "stream",
          "text": [
            "time: 265 ms (started: 2024-09-13 13:01:48 +02:00)\n"
          ]
        }
      ],
      "source": [
        "#Correlation Matrix\n",
        "correlationMatrix = pd.DataFrame(dataX).corr() \n",
        "\n",
        "f = plt.figure(figsize=(12, 6))\n",
        "plt.matshow(correlationMatrix, fignum=f.number)\n",
        "plt.xticks(range(dataX.shape[1]), dataX.columns, fontsize=14, rotation=75)\n",
        "plt.yticks(range(dataX.shape[1]), dataX.columns, fontsize=14)\n",
        "cb = plt.colorbar()\n",
        "cb.ax.tick_params(labelsize=14)\n",
        "plt.show()"
      ]
    },
    {
      "cell_type": "code",
      "execution_count": 20,
      "metadata": {
        "colab": {
          "base_uri": "https://localhost:8080/",
          "height": 382
        },
        "id": "dyMZoulHRwOB",
        "outputId": "13fdcbc3-4e1c-4f28-d9e0-7bd3f623166c"
      },
      "outputs": [
        {
          "data": {
            "text/html": [
              "<div>\n",
              "<style scoped>\n",
              "    .dataframe tbody tr th:only-of-type {\n",
              "        vertical-align: middle;\n",
              "    }\n",
              "\n",
              "    .dataframe tbody tr th {\n",
              "        vertical-align: top;\n",
              "    }\n",
              "\n",
              "    .dataframe thead th {\n",
              "        text-align: right;\n",
              "    }\n",
              "</style>\n",
              "<table border=\"1\" class=\"dataframe\">\n",
              "  <thead>\n",
              "    <tr style=\"text-align: right;\">\n",
              "      <th></th>\n",
              "      <th>median_t_1</th>\n",
              "      <th>std_t_1</th>\n",
              "      <th>T_t_1</th>\n",
              "      <th>load_t_1</th>\n",
              "      <th>median_t_2</th>\n",
              "      <th>std_t_2</th>\n",
              "      <th>T_t_2</th>\n",
              "      <th>load_t_2</th>\n",
              "      <th>median_t_3</th>\n",
              "      <th>std_t_3</th>\n",
              "      <th>T_t_3</th>\n",
              "      <th>load_t_3</th>\n",
              "      <th>median_t_4</th>\n",
              "      <th>std_t_4</th>\n",
              "      <th>T_t_4</th>\n",
              "      <th>load_t_4</th>\n",
              "    </tr>\n",
              "  </thead>\n",
              "  <tbody>\n",
              "    <tr>\n",
              "      <th>count</th>\n",
              "      <td>1.905200e+04</td>\n",
              "      <td>1.905200e+04</td>\n",
              "      <td>1.905200e+04</td>\n",
              "      <td>1.905200e+04</td>\n",
              "      <td>1.905200e+04</td>\n",
              "      <td>1.905200e+04</td>\n",
              "      <td>1.905200e+04</td>\n",
              "      <td>1.905200e+04</td>\n",
              "      <td>1.905200e+04</td>\n",
              "      <td>1.905200e+04</td>\n",
              "      <td>1.905200e+04</td>\n",
              "      <td>1.905200e+04</td>\n",
              "      <td>1.905200e+04</td>\n",
              "      <td>1.905200e+04</td>\n",
              "      <td>1.905200e+04</td>\n",
              "      <td>1.905200e+04</td>\n",
              "    </tr>\n",
              "    <tr>\n",
              "      <th>mean</th>\n",
              "      <td>2.386875e-16</td>\n",
              "      <td>5.892597e-16</td>\n",
              "      <td>-3.329690e-15</td>\n",
              "      <td>-2.923921e-16</td>\n",
              "      <td>2.028843e-16</td>\n",
              "      <td>4.277727e-16</td>\n",
              "      <td>-3.544509e-15</td>\n",
              "      <td>9.845858e-17</td>\n",
              "      <td>-2.237695e-16</td>\n",
              "      <td>3.427403e-16</td>\n",
              "      <td>-3.520640e-15</td>\n",
              "      <td>-2.028843e-16</td>\n",
              "      <td>-1.670812e-16</td>\n",
              "      <td>1.834910e-16</td>\n",
              "      <td>-3.580312e-15</td>\n",
              "      <td>4.057687e-16</td>\n",
              "    </tr>\n",
              "    <tr>\n",
              "      <th>std</th>\n",
              "      <td>1.000026e+00</td>\n",
              "      <td>1.000026e+00</td>\n",
              "      <td>1.000026e+00</td>\n",
              "      <td>1.000026e+00</td>\n",
              "      <td>1.000026e+00</td>\n",
              "      <td>1.000026e+00</td>\n",
              "      <td>1.000026e+00</td>\n",
              "      <td>1.000026e+00</td>\n",
              "      <td>1.000026e+00</td>\n",
              "      <td>1.000026e+00</td>\n",
              "      <td>1.000026e+00</td>\n",
              "      <td>1.000026e+00</td>\n",
              "      <td>1.000026e+00</td>\n",
              "      <td>1.000026e+00</td>\n",
              "      <td>1.000026e+00</td>\n",
              "      <td>1.000026e+00</td>\n",
              "    </tr>\n",
              "    <tr>\n",
              "      <th>min</th>\n",
              "      <td>-2.356536e+00</td>\n",
              "      <td>-1.250854e+00</td>\n",
              "      <td>-3.150932e+00</td>\n",
              "      <td>-2.363943e+00</td>\n",
              "      <td>-2.356523e+00</td>\n",
              "      <td>-1.250961e+00</td>\n",
              "      <td>-3.150906e+00</td>\n",
              "      <td>-2.364070e+00</td>\n",
              "      <td>-2.356548e+00</td>\n",
              "      <td>-1.251018e+00</td>\n",
              "      <td>-3.150913e+00</td>\n",
              "      <td>-2.364173e+00</td>\n",
              "      <td>-2.356666e+00</td>\n",
              "      <td>-1.251030e+00</td>\n",
              "      <td>-3.150905e+00</td>\n",
              "      <td>-2.364310e+00</td>\n",
              "    </tr>\n",
              "    <tr>\n",
              "      <th>25%</th>\n",
              "      <td>-7.726966e-01</td>\n",
              "      <td>-8.791492e-01</td>\n",
              "      <td>-7.639865e-01</td>\n",
              "      <td>-7.721103e-01</td>\n",
              "      <td>-7.727081e-01</td>\n",
              "      <td>-8.791741e-01</td>\n",
              "      <td>-7.639432e-01</td>\n",
              "      <td>-7.722154e-01</td>\n",
              "      <td>-7.727602e-01</td>\n",
              "      <td>-8.791741e-01</td>\n",
              "      <td>-7.638814e-01</td>\n",
              "      <td>-7.722968e-01</td>\n",
              "      <td>-7.721740e-01</td>\n",
              "      <td>-8.791720e-01</td>\n",
              "      <td>-7.638207e-01</td>\n",
              "      <td>-7.723794e-01</td>\n",
              "    </tr>\n",
              "    <tr>\n",
              "      <th>50%</th>\n",
              "      <td>1.141806e-01</td>\n",
              "      <td>-3.143736e-01</td>\n",
              "      <td>9.416024e-02</td>\n",
              "      <td>1.191733e-01</td>\n",
              "      <td>1.141554e-01</td>\n",
              "      <td>-3.142749e-01</td>\n",
              "      <td>9.420957e-02</td>\n",
              "      <td>1.190803e-01</td>\n",
              "      <td>1.140882e-01</td>\n",
              "      <td>-3.141876e-01</td>\n",
              "      <td>9.429610e-02</td>\n",
              "      <td>1.190114e-01</td>\n",
              "      <td>1.140057e-01</td>\n",
              "      <td>-3.141646e-01</td>\n",
              "      <td>9.437566e-02</td>\n",
              "      <td>1.189593e-01</td>\n",
              "    </tr>\n",
              "    <tr>\n",
              "      <th>75%</th>\n",
              "      <td>6.730222e-01</td>\n",
              "      <td>7.707527e-01</td>\n",
              "      <td>7.982938e-01</td>\n",
              "      <td>6.788994e-01</td>\n",
              "      <td>6.729884e-01</td>\n",
              "      <td>7.708772e-01</td>\n",
              "      <td>7.983482e-01</td>\n",
              "      <td>6.788141e-01</td>\n",
              "      <td>6.729117e-01</td>\n",
              "      <td>7.710807e-01</td>\n",
              "      <td>7.984550e-01</td>\n",
              "      <td>6.787530e-01</td>\n",
              "      <td>6.728372e-01</td>\n",
              "      <td>7.711371e-01</td>\n",
              "      <td>7.985500e-01</td>\n",
              "      <td>6.787200e-01</td>\n",
              "    </tr>\n",
              "    <tr>\n",
              "      <th>max</th>\n",
              "      <td>3.458144e+00</td>\n",
              "      <td>4.153972e+00</td>\n",
              "      <td>2.446595e+00</td>\n",
              "      <td>3.420488e+00</td>\n",
              "      <td>3.458067e+00</td>\n",
              "      <td>4.155047e+00</td>\n",
              "      <td>2.446661e+00</td>\n",
              "      <td>3.420440e+00</td>\n",
              "      <td>3.457943e+00</td>\n",
              "      <td>4.155826e+00</td>\n",
              "      <td>2.446815e+00</td>\n",
              "      <td>3.420417e+00</td>\n",
              "      <td>3.457908e+00</td>\n",
              "      <td>4.156014e+00</td>\n",
              "      <td>2.446946e+00</td>\n",
              "      <td>3.420478e+00</td>\n",
              "    </tr>\n",
              "  </tbody>\n",
              "</table>\n",
              "</div>"
            ],
            "text/plain": [
              "         median_t_1       std_t_1         T_t_1      load_t_1    median_t_2  \\\n",
              "count  1.905200e+04  1.905200e+04  1.905200e+04  1.905200e+04  1.905200e+04   \n",
              "mean   2.386875e-16  5.892597e-16 -3.329690e-15 -2.923921e-16  2.028843e-16   \n",
              "std    1.000026e+00  1.000026e+00  1.000026e+00  1.000026e+00  1.000026e+00   \n",
              "min   -2.356536e+00 -1.250854e+00 -3.150932e+00 -2.363943e+00 -2.356523e+00   \n",
              "25%   -7.726966e-01 -8.791492e-01 -7.639865e-01 -7.721103e-01 -7.727081e-01   \n",
              "50%    1.141806e-01 -3.143736e-01  9.416024e-02  1.191733e-01  1.141554e-01   \n",
              "75%    6.730222e-01  7.707527e-01  7.982938e-01  6.788994e-01  6.729884e-01   \n",
              "max    3.458144e+00  4.153972e+00  2.446595e+00  3.420488e+00  3.458067e+00   \n",
              "\n",
              "            std_t_2         T_t_2      load_t_2    median_t_3       std_t_3  \\\n",
              "count  1.905200e+04  1.905200e+04  1.905200e+04  1.905200e+04  1.905200e+04   \n",
              "mean   4.277727e-16 -3.544509e-15  9.845858e-17 -2.237695e-16  3.427403e-16   \n",
              "std    1.000026e+00  1.000026e+00  1.000026e+00  1.000026e+00  1.000026e+00   \n",
              "min   -1.250961e+00 -3.150906e+00 -2.364070e+00 -2.356548e+00 -1.251018e+00   \n",
              "25%   -8.791741e-01 -7.639432e-01 -7.722154e-01 -7.727602e-01 -8.791741e-01   \n",
              "50%   -3.142749e-01  9.420957e-02  1.190803e-01  1.140882e-01 -3.141876e-01   \n",
              "75%    7.708772e-01  7.983482e-01  6.788141e-01  6.729117e-01  7.710807e-01   \n",
              "max    4.155047e+00  2.446661e+00  3.420440e+00  3.457943e+00  4.155826e+00   \n",
              "\n",
              "              T_t_3      load_t_3    median_t_4       std_t_4         T_t_4  \\\n",
              "count  1.905200e+04  1.905200e+04  1.905200e+04  1.905200e+04  1.905200e+04   \n",
              "mean  -3.520640e-15 -2.028843e-16 -1.670812e-16  1.834910e-16 -3.580312e-15   \n",
              "std    1.000026e+00  1.000026e+00  1.000026e+00  1.000026e+00  1.000026e+00   \n",
              "min   -3.150913e+00 -2.364173e+00 -2.356666e+00 -1.251030e+00 -3.150905e+00   \n",
              "25%   -7.638814e-01 -7.722968e-01 -7.721740e-01 -8.791720e-01 -7.638207e-01   \n",
              "50%    9.429610e-02  1.190114e-01  1.140057e-01 -3.141646e-01  9.437566e-02   \n",
              "75%    7.984550e-01  6.787530e-01  6.728372e-01  7.711371e-01  7.985500e-01   \n",
              "max    2.446815e+00  3.420417e+00  3.457908e+00  4.156014e+00  2.446946e+00   \n",
              "\n",
              "           load_t_4  \n",
              "count  1.905200e+04  \n",
              "mean   4.057687e-16  \n",
              "std    1.000026e+00  \n",
              "min   -2.364310e+00  \n",
              "25%   -7.723794e-01  \n",
              "50%    1.189593e-01  \n",
              "75%    6.787200e-01  \n",
              "max    3.420478e+00  "
            ]
          },
          "execution_count": 20,
          "metadata": {},
          "output_type": "execute_result"
        },
        {
          "name": "stdout",
          "output_type": "stream",
          "text": [
            "time: 47 ms (started: 2024-09-13 13:01:49 +02:00)\n"
          ]
        }
      ],
      "source": [
        "#Rescaling the data\n",
        "featuresToScale = dataX.columns\n",
        "sX = pp.StandardScaler(copy=True)\n",
        "dataX.loc[:,featuresToScale] = sX.fit_transform(dataX[featuresToScale])\n",
        "#Looking into the statistics again:\n",
        "dataX.describe()"
      ]
    },
    {
      "attachments": {},
      "cell_type": "markdown",
      "metadata": {},
      "source": [
        "    dataX is a 2-dimensional data structure (a pandas DataFrame) that contains input features for the model. Each row in dataX represents a window of the time series data, containing information like median temperature, standard deviation of temperature, and load for each time step within the window. The columns of dataX are named accordingly (e.g., 'median_t_1', 'std_t_1', 'T_t_1', 'load_t_1').\n",
        "\n",
        "    dataY is a 1-dimensional data structure (a pandas Series) that contains the target values, which are the load values for the time step immediately following each window in dataX. The purpose of dataY is to provide the true load values that the model should predict based on the input features in dataX.\n",
        "\n",
        "    Physically, dataX and dataY are in-memory data structures that hold information from the original time series data in a format suitable for training and evaluating a machine learning model. They are constructed using a sliding window approach, extracting relevant features and target values from the time series data to facilitate prediction tasks."
      ]
    },
    {
      "cell_type": "code",
      "execution_count": 21,
      "metadata": {
        "colab": {
          "base_uri": "https://localhost:8080/"
        },
        "id": "5UEO_T9VQgV0",
        "outputId": "d0c42fb0-08de-4965-8976-fcda4bf71ba9"
      },
      "outputs": [
        {
          "name": "stdout",
          "output_type": "stream",
          "text": [
            "Train data shape:  (18980, 16) (18980,)\n",
            "Test data shape:  (72, 16) (72,)\n",
            "time: 0 ns (started: 2024-09-13 13:01:49 +02:00)\n"
          ]
        }
      ],
      "source": [
        "# Train-Test Split:\n",
        "# We will split the data as training and test. No need for validation here. \n",
        "train_start_dt = '2012-09-01'\n",
        "test_start_dt = '2014-11-01'\n",
        "test_end_dt = '2014-11-04'\n",
        "#Let's use the same notation: X_train, X_test, y_train, y_test\n",
        "X_train = dataX.copy()[(dataX.index >= train_start_dt)& (dataX.index < test_start_dt)]\n",
        "y_train = dataY.copy()[(dataY.index >= train_start_dt)& (dataY.index < test_start_dt)]\n",
        "\n",
        "X_test =  dataX.copy()[(dataX.index >= test_start_dt) & (dataX.index < test_end_dt)]\n",
        "y_test =  dataY.copy()[(dataY.index >= test_start_dt) & (dataY.index < test_end_dt)]\n",
        "\n",
        "\n",
        "print('Train data shape: ', X_train.shape, y_train.shape)\n",
        "print('Test data shape: ', X_test.shape, y_test.shape)"
      ]
    },
    {
      "cell_type": "markdown",
      "metadata": {
        "id": "151sdEYPESfg"
      },
      "source": [
        "## Model Training and Predictions\n"
      ]
    },
    {
      "cell_type": "code",
      "execution_count": 22,
      "metadata": {
        "colab": {
          "base_uri": "https://localhost:8080/"
        },
        "id": "iSHteOJ_SVth",
        "outputId": "9e53f2f7-7e44-4a12-f2bc-3f81db61ceeb"
      },
      "outputs": [
        {
          "name": "stdout",
          "output_type": "stream",
          "text": [
            "time: 0 ns (started: 2024-09-13 13:01:49 +02:00)\n"
          ]
        }
      ],
      "source": [
        "# Hyperparameters:\n",
        "# https://scikit-learn.org/stable/modules/generated/sklearn.svm.SVR.html#\n",
        "\n",
        "#__________________________________________________________________________________________\n",
        "#___Notes__________________________________________________________________________________\n",
        "#Radial Basis Function (RBF) kernel, two parameters must be considered: C and gamma. \n",
        "\n",
        "#The parameter C, common to all SVM kernels, trades off misclassification of training examples \n",
        "#against simplicity of the decision surface. \n",
        "#A low C makes the decision surface smooth, while a high C aims at classifying all training examples correctly. \n",
        "#The strength of the regularization is inversely proportional to C. Large C => little regularization; Low C => higher regularization\n",
        "\n",
        "#gamma defines how much influence a single training example has. The larger gamma is, the closer other examples must be to be affected.\n",
        "#__________________________________________________________________________________________\n",
        "\n",
        "kernel='linear' \n",
        "gamma='scale' #Kernel coefficient for ‘rbf’, ‘poly’ and ‘sigmoid’. When scaled, uses 1 / (n_features * X.var()) as value of gamma.\n",
        "C=1.0\n",
        "epsilon=0.1    # Default\n",
        "shrinking=True # Whether to use the shrinking heuristic. \n",
        "tol=0.00001\n",
        "\n",
        "#Setting the model:\n",
        "svr = SVR(kernel= kernel, gamma=gamma, tol=tol, C=C, epsilon=epsilon, shrinking=shrinking)\n",
        " "
      ]
    },
    {
      "cell_type": "code",
      "execution_count": 23,
      "metadata": {
        "colab": {
          "base_uri": "https://localhost:8080/"
        },
        "id": "Vxwh0-ECrCuj",
        "outputId": "87052b92-6b8a-4c84-e444-cd672ab8d131"
      },
      "outputs": [
        {
          "data": {
            "text/html": [
              "<style>#sk-container-id-1 {color: black;}#sk-container-id-1 pre{padding: 0;}#sk-container-id-1 div.sk-toggleable {background-color: white;}#sk-container-id-1 label.sk-toggleable__label {cursor: pointer;display: block;width: 100%;margin-bottom: 0;padding: 0.3em;box-sizing: border-box;text-align: center;}#sk-container-id-1 label.sk-toggleable__label-arrow:before {content: \"▸\";float: left;margin-right: 0.25em;color: #696969;}#sk-container-id-1 label.sk-toggleable__label-arrow:hover:before {color: black;}#sk-container-id-1 div.sk-estimator:hover label.sk-toggleable__label-arrow:before {color: black;}#sk-container-id-1 div.sk-toggleable__content {max-height: 0;max-width: 0;overflow: hidden;text-align: left;background-color: #f0f8ff;}#sk-container-id-1 div.sk-toggleable__content pre {margin: 0.2em;color: black;border-radius: 0.25em;background-color: #f0f8ff;}#sk-container-id-1 input.sk-toggleable__control:checked~div.sk-toggleable__content {max-height: 200px;max-width: 100%;overflow: auto;}#sk-container-id-1 input.sk-toggleable__control:checked~label.sk-toggleable__label-arrow:before {content: \"▾\";}#sk-container-id-1 div.sk-estimator input.sk-toggleable__control:checked~label.sk-toggleable__label {background-color: #d4ebff;}#sk-container-id-1 div.sk-label input.sk-toggleable__control:checked~label.sk-toggleable__label {background-color: #d4ebff;}#sk-container-id-1 input.sk-hidden--visually {border: 0;clip: rect(1px 1px 1px 1px);clip: rect(1px, 1px, 1px, 1px);height: 1px;margin: -1px;overflow: hidden;padding: 0;position: absolute;width: 1px;}#sk-container-id-1 div.sk-estimator {font-family: monospace;background-color: #f0f8ff;border: 1px dotted black;border-radius: 0.25em;box-sizing: border-box;margin-bottom: 0.5em;}#sk-container-id-1 div.sk-estimator:hover {background-color: #d4ebff;}#sk-container-id-1 div.sk-parallel-item::after {content: \"\";width: 100%;border-bottom: 1px solid gray;flex-grow: 1;}#sk-container-id-1 div.sk-label:hover label.sk-toggleable__label {background-color: #d4ebff;}#sk-container-id-1 div.sk-serial::before {content: \"\";position: absolute;border-left: 1px solid gray;box-sizing: border-box;top: 0;bottom: 0;left: 50%;z-index: 0;}#sk-container-id-1 div.sk-serial {display: flex;flex-direction: column;align-items: center;background-color: white;padding-right: 0.2em;padding-left: 0.2em;position: relative;}#sk-container-id-1 div.sk-item {position: relative;z-index: 1;}#sk-container-id-1 div.sk-parallel {display: flex;align-items: stretch;justify-content: center;background-color: white;position: relative;}#sk-container-id-1 div.sk-item::before, #sk-container-id-1 div.sk-parallel-item::before {content: \"\";position: absolute;border-left: 1px solid gray;box-sizing: border-box;top: 0;bottom: 0;left: 50%;z-index: -1;}#sk-container-id-1 div.sk-parallel-item {display: flex;flex-direction: column;z-index: 1;position: relative;background-color: white;}#sk-container-id-1 div.sk-parallel-item:first-child::after {align-self: flex-end;width: 50%;}#sk-container-id-1 div.sk-parallel-item:last-child::after {align-self: flex-start;width: 50%;}#sk-container-id-1 div.sk-parallel-item:only-child::after {width: 0;}#sk-container-id-1 div.sk-dashed-wrapped {border: 1px dashed gray;margin: 0 0.4em 0.5em 0.4em;box-sizing: border-box;padding-bottom: 0.4em;background-color: white;}#sk-container-id-1 div.sk-label label {font-family: monospace;font-weight: bold;display: inline-block;line-height: 1.2em;}#sk-container-id-1 div.sk-label-container {text-align: center;}#sk-container-id-1 div.sk-container {/* jupyter's `normalize.less` sets `[hidden] { display: none; }` but bootstrap.min.css set `[hidden] { display: none !important; }` so we also need the `!important` here to be able to override the default hidden behavior on the sphinx rendered scikit-learn.org. See: https://github.com/scikit-learn/scikit-learn/issues/21755 */display: inline-block !important;position: relative;}#sk-container-id-1 div.sk-text-repr-fallback {display: none;}</style><div id=\"sk-container-id-1\" class=\"sk-top-container\"><div class=\"sk-text-repr-fallback\"><pre>SVR(kernel=&#x27;linear&#x27;, tol=1e-05)</pre><b>In a Jupyter environment, please rerun this cell to show the HTML representation or trust the notebook. <br />On GitHub, the HTML representation is unable to render, please try loading this page with nbviewer.org.</b></div><div class=\"sk-container\" hidden><div class=\"sk-item\"><div class=\"sk-estimator sk-toggleable\"><input class=\"sk-toggleable__control sk-hidden--visually\" id=\"sk-estimator-id-1\" type=\"checkbox\" checked><label for=\"sk-estimator-id-1\" class=\"sk-toggleable__label sk-toggleable__label-arrow\">SVR</label><div class=\"sk-toggleable__content\"><pre>SVR(kernel=&#x27;linear&#x27;, tol=1e-05)</pre></div></div></div></div></div>"
            ],
            "text/plain": [
              "SVR(kernel='linear', tol=1e-05)"
            ]
          },
          "execution_count": 23,
          "metadata": {},
          "output_type": "execute_result"
        },
        {
          "name": "stdout",
          "output_type": "stream",
          "text": [
            "time: 12.2 s (started: 2024-09-13 13:01:49 +02:00)\n"
          ]
        }
      ],
      "source": [
        "# Model Training:\n",
        "model = svr\n",
        "#Fitting the model according to given data:\n",
        "model.fit(X_train, y_train)"
      ]
    },
    {
      "cell_type": "code",
      "execution_count": 24,
      "metadata": {
        "colab": {
          "base_uri": "https://localhost:8080/"
        },
        "id": "2H8-Dsm5rThs",
        "outputId": "66a32764-eb21-44c5-b59e-004236e300e9"
      },
      "outputs": [
        {
          "name": "stdout",
          "output_type": "stream",
          "text": [
            "-----------------------------------\n",
            "SVM Regression Training R^2 Score:  0.9643835749087722\n",
            "-----------------------------------\n",
            "-----------------------------------\n",
            "SVM Regression Validation R^2 Score:  0.9650015835372014\n",
            "-----------------------------------\n",
            "time: 5.45 s (started: 2024-09-13 13:02:01 +02:00)\n"
          ]
        }
      ],
      "source": [
        "#Model Predictions:\n",
        "#------------------\n",
        "scoreTraining = model.score(X_train, y_train)\n",
        "print('-----------------------------------')\n",
        "print('SVM Regression Training R^2 Score: ', scoreTraining)\n",
        "print('-----------------------------------')\n",
        "scoreValidation = model.score(X_test, y_test)\n",
        "print('-----------------------------------')\n",
        "print('SVM Regression Validation R^2 Score: ', scoreValidation)\n",
        "print('-----------------------------------')"
      ]
    },
    {
      "cell_type": "code",
      "execution_count": 25,
      "metadata": {
        "colab": {
          "base_uri": "https://localhost:8080/"
        },
        "id": "nurBQX3UsAvV",
        "outputId": "a8952f93-ac1a-407b-8ff9-d2511aa80ae7"
      },
      "outputs": [
        {
          "name": "stdout",
          "output_type": "stream",
          "text": [
            "time: 16 ms (started: 2024-09-13 13:02:06 +02:00)\n"
          ]
        }
      ],
      "source": [
        "#Visual Comparisons\n",
        "#------------------\n",
        "# Let's get the predictions first:\n",
        "y_predict = pd.Series(svr.predict(X_test),index=y_test.index)"
      ]
    },
    {
      "cell_type": "code",
      "execution_count": 26,
      "metadata": {
        "colab": {
          "base_uri": "https://localhost:8080/",
          "height": 421
        },
        "id": "Yn7i3C8zvM1o",
        "outputId": "09e1bc73-08d5-4c0f-c324-d7964ea630db"
      },
      "outputs": [
        {
          "data": {
            "image/png": "[encoded data removed]",
            "text/plain": [
              "<Figure size 640x480 with 1 Axes>"
            ]
          },
          "metadata": {},
          "output_type": "display_data"
        },
        {
          "name": "stdout",
          "output_type": "stream",
          "text": [
            "time: 187 ms (started: 2024-09-13 13:02:06 +02:00)\n"
          ]
        }
      ],
      "source": [
        "#Plotting the Figure:\n",
        "plt.figure();\n",
        "plt.plot(y_test, 'k.-');\n",
        "plt.plot(y_predict, 'x', alpha=0.70);\n",
        "\n",
        "plt.legend(['Actual',\n",
        "            'Predicted 1 hr ahead for 72 hours'\n",
        "            ]);\n",
        "plt.ylabel('Load');\n",
        "plt.xlabel('Time Index');\n",
        "plt.title('SVM');"
      ]
    }
  ],
  "metadata": {
    "colab": {
      "provenance": [],
      "toc_visible": true
    },
    "kernelspec": {
      "display_name": "Python 3",
      "name": "python3"
    },
    "language_info": {
      "codemirror_mode": {
        "name": "ipython",
        "version": 3
      },
      "file_extension": ".py",
      "mimetype": "text/x-python",
      "name": "python",
      "nbconvert_exporter": "python",
      "pygments_lexer": "ipython3",
      "version": "3.10.13"
    }
  },
  "nbformat": 4,
  "nbformat_minor": 0
}
