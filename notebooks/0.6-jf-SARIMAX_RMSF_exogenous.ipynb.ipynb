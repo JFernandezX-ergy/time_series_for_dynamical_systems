{
  "cells": [
    {
      "cell_type": "markdown",
      "metadata": {
        "id": "rA_3sqmEls1m"
      },
      "source": [
        "# 1 Problem Definition: Short Term Load Forecasting\n",
        "\n",
        "Now the prblem includes Temperature as well, as an exogenous variable"
      ]
    },
    {
      "cell_type": "code",
      "execution_count": 1,
      "metadata": {
        "colab": {
          "base_uri": "https://localhost:8080/"
        },
        "id": "yWFatBGPPinR",
        "outputId": "eb3a67d2-40ae-4644-aae9-ea1f878c3b9a"
      },
      "outputs": [
        {
          "name": "stdout",
          "output_type": "stream",
          "text": [
            "Requirement already satisfied: ipython-autotime in c:\\users\\juanfernandez\\anaconda3\\envs\\energy_portfolio_management\\lib\\site-packages (0.3.2)\n",
            "Requirement already satisfied: ipython in c:\\users\\juanfernandez\\anaconda3\\envs\\energy_portfolio_management\\lib\\site-packages (from ipython-autotime) (8.16.1)\n",
            "Requirement already satisfied: backcall in c:\\users\\juanfernandez\\anaconda3\\envs\\energy_portfolio_management\\lib\\site-packages (from ipython->ipython-autotime) (0.2.0)\n",
            "Requirement already satisfied: decorator in c:\\users\\juanfernandez\\anaconda3\\envs\\energy_portfolio_management\\lib\\site-packages (from ipython->ipython-autotime) (5.1.1)\n",
            "Requirement already satisfied: jedi>=0.16 in c:\\users\\juanfernandez\\anaconda3\\envs\\energy_portfolio_management\\lib\\site-packages (from ipython->ipython-autotime) (0.19.1)\n",
            "Requirement already satisfied: matplotlib-inline in c:\\users\\juanfernandez\\anaconda3\\envs\\energy_portfolio_management\\lib\\site-packages (from ipython->ipython-autotime) (0.1.6)\n",
            "Requirement already satisfied: pickleshare in c:\\users\\juanfernandez\\anaconda3\\envs\\energy_portfolio_management\\lib\\site-packages (from ipython->ipython-autotime) (0.7.5)\n",
            "Requirement already satisfied: prompt-toolkit!=3.0.37,<3.1.0,>=3.0.30 in c:\\users\\juanfernandez\\anaconda3\\envs\\energy_portfolio_management\\lib\\site-packages (from ipython->ipython-autotime) (3.0.39)\n",
            "Requirement already satisfied: pygments>=2.4.0 in c:\\users\\juanfernandez\\anaconda3\\envs\\energy_portfolio_management\\lib\\site-packages (from ipython->ipython-autotime) (2.16.1)\n",
            "Requirement already satisfied: stack-data in c:\\users\\juanfernandez\\anaconda3\\envs\\energy_portfolio_management\\lib\\site-packages (from ipython->ipython-autotime) (0.6.2)\n",
            "Requirement already satisfied: traitlets>=5 in c:\\users\\juanfernandez\\anaconda3\\envs\\energy_portfolio_management\\lib\\site-packages (from ipython->ipython-autotime) (5.12.0)\n",
            "Requirement already satisfied: exceptiongroup in c:\\users\\juanfernandez\\anaconda3\\envs\\energy_portfolio_management\\lib\\site-packages (from ipython->ipython-autotime) (1.1.3)\n",
            "Requirement already satisfied: colorama in c:\\users\\juanfernandez\\anaconda3\\envs\\energy_portfolio_management\\lib\\site-packages (from ipython->ipython-autotime) (0.4.6)\n",
            "Requirement already satisfied: parso<0.9.0,>=0.8.3 in c:\\users\\juanfernandez\\anaconda3\\envs\\energy_portfolio_management\\lib\\site-packages (from jedi>=0.16->ipython->ipython-autotime) (0.8.3)\n",
            "Requirement already satisfied: wcwidth in c:\\users\\juanfernandez\\anaconda3\\envs\\energy_portfolio_management\\lib\\site-packages (from prompt-toolkit!=3.0.37,<3.1.0,>=3.0.30->ipython->ipython-autotime) (0.2.8)\n",
            "Requirement already satisfied: executing>=1.2.0 in c:\\users\\juanfernandez\\anaconda3\\envs\\energy_portfolio_management\\lib\\site-packages (from stack-data->ipython->ipython-autotime) (1.2.0)\n",
            "Requirement already satisfied: asttokens>=2.1.0 in c:\\users\\juanfernandez\\anaconda3\\envs\\energy_portfolio_management\\lib\\site-packages (from stack-data->ipython->ipython-autotime) (2.4.0)\n",
            "Requirement already satisfied: pure-eval in c:\\users\\juanfernandez\\anaconda3\\envs\\energy_portfolio_management\\lib\\site-packages (from stack-data->ipython->ipython-autotime) (0.2.2)\n",
            "Requirement already satisfied: six>=1.12.0 in c:\\users\\juanfernandez\\anaconda3\\envs\\energy_portfolio_management\\lib\\site-packages (from asttokens>=2.1.0->stack-data->ipython->ipython-autotime) (1.16.0)\n",
            "time: 0 ns (started: 2024-09-13 13:34:36 +02:00)\n"
          ]
        },
        {
          "name": "stderr",
          "output_type": "stream",
          "text": [
            "\n",
            "[notice] A new release of pip is available: 24.1.1 -> 24.2\n",
            "[notice] To update, run: python.exe -m pip install --upgrade pip\n"
          ]
        }
      ],
      "source": [
        "!pip install ipython-autotime\n",
        "%load_ext autotime"
      ]
    },
    {
      "cell_type": "markdown",
      "metadata": {
        "id": "OYJUVWg9-HxL"
      },
      "source": [
        "## Libraries"
      ]
    },
    {
      "cell_type": "code",
      "execution_count": 2,
      "metadata": {
        "colab": {
          "base_uri": "https://localhost:8080/"
        },
        "id": "8i9z1Kao-kQT",
        "outputId": "d936f98d-719f-408f-82c5-a2839a219ce4"
      },
      "outputs": [
        {
          "name": "stdout",
          "output_type": "stream",
          "text": [
            "Requirement already satisfied: statsmodels in c:\\users\\juanfernandez\\anaconda3\\envs\\energy_portfolio_management\\lib\\site-packages (0.14.0)\n",
            "Requirement already satisfied: numpy>=1.18 in c:\\users\\juanfernandez\\anaconda3\\envs\\energy_portfolio_management\\lib\\site-packages (from statsmodels) (1.23.4)\n",
            "Requirement already satisfied: scipy!=1.9.2,>=1.4 in c:\\users\\juanfernandez\\anaconda3\\envs\\energy_portfolio_management\\lib\\site-packages (from statsmodels) (1.12.0)\n",
            "Requirement already satisfied: pandas>=1.0 in c:\\users\\juanfernandez\\anaconda3\\envs\\energy_portfolio_management\\lib\\site-packages (from statsmodels) (1.5.3)\n",
            "Requirement already satisfied: patsy>=0.5.2 in c:\\users\\juanfernandez\\anaconda3\\envs\\energy_portfolio_management\\lib\\site-packages (from statsmodels) (0.5.3)\n",
            "Requirement already satisfied: packaging>=21.3 in c:\\users\\juanfernandez\\anaconda3\\envs\\energy_portfolio_management\\lib\\site-packages (from statsmodels) (23.2)\n",
            "Requirement already satisfied: python-dateutil>=2.8.1 in c:\\users\\juanfernandez\\anaconda3\\envs\\energy_portfolio_management\\lib\\site-packages (from pandas>=1.0->statsmodels) (2.8.2)\n",
            "Requirement already satisfied: pytz>=2020.1 in c:\\users\\juanfernandez\\anaconda3\\envs\\energy_portfolio_management\\lib\\site-packages (from pandas>=1.0->statsmodels) (2023.3.post1)\n",
            "Requirement already satisfied: six in c:\\users\\juanfernandez\\anaconda3\\envs\\energy_portfolio_management\\lib\\site-packages (from patsy>=0.5.2->statsmodels) (1.16.0)\n",
            "time: 2.56 s (started: 2024-09-13 13:34:36 +02:00)\n"
          ]
        },
        {
          "name": "stderr",
          "output_type": "stream",
          "text": [
            "\n",
            "[notice] A new release of pip is available: 24.1.1 -> 24.2\n",
            "[notice] To update, run: python.exe -m pip install --upgrade pip\n"
          ]
        }
      ],
      "source": [
        "#Local Installations\n",
        "!pip install statsmodels"
      ]
    },
    {
      "cell_type": "code",
      "execution_count": 3,
      "metadata": {
        "colab": {
          "base_uri": "https://localhost:8080/"
        },
        "id": "qQAx5I7N-GQ0",
        "outputId": "f69d8cb0-f09a-446a-c350-5b5255baa80d"
      },
      "outputs": [
        {
          "name": "stdout",
          "output_type": "stream",
          "text": [
            "time: 4.28 s (started: 2024-09-13 13:34:38 +02:00)\n"
          ]
        }
      ],
      "source": [
        "#Importing the necessary libraries\n",
        "import math\n",
        "import numpy as np\n",
        "import pandas as pd\n",
        "import datetime as dt\n",
        "import os\n",
        "import itertools\n",
        "import matplotlib.pyplot as plt\n",
        "import seaborn as sns\n",
        "color = sns.color_palette()\n",
        "import matplotlib as mpl\n",
        "from matplotlib import colors as mcolors\n",
        "colors = dict(mcolors.BASE_COLORS, **mcolors.CSS4_COLORS)\n",
        "import statsmodels.api as sm\n",
        "import warnings\n",
        "import matplotlib.dates as mdates\n",
        "from pandas.plotting import lag_plot, autocorrelation_plot\n",
        "from statsmodels.graphics.tsaplots import plot_acf, plot_pacf "
      ]
    },
    {
      "cell_type": "code",
      "execution_count": 4,
      "metadata": {
        "colab": {
          "base_uri": "https://localhost:8080/"
        },
        "id": "Bde603-P-KSz",
        "outputId": "0843bf0e-ae45-456c-c875-c671b3ec31ac"
      },
      "outputs": [
        {
          "name": "stdout",
          "output_type": "stream",
          "text": [
            "time: 234 ms (started: 2024-09-13 13:34:43 +02:00)\n"
          ]
        }
      ],
      "source": [
        "# Data Preparation and Scoring\n",
        "from sklearn import preprocessing as pp\n",
        "from scipy import stats\n",
        "from sklearn.model_selection import train_test_split\n",
        "from sklearn.model_selection import KFold\n",
        "from sklearn.model_selection import GridSearchCV\n",
        "from scipy.stats import reciprocal\n",
        "from sklearn.model_selection import RandomizedSearchCV\n",
        "from sklearn.metrics import make_scorer\n",
        "from sklearn.metrics import accuracy_score\n",
        "from sklearn.metrics import mean_absolute_error\n",
        "from sklearn.metrics import r2_score\n",
        "from sklearn.metrics import mean_squared_error\n",
        "from matplotlib.colors import LogNorm"
      ]
    },
    {
      "cell_type": "code",
      "execution_count": 5,
      "metadata": {
        "colab": {
          "base_uri": "https://localhost:8080/"
        },
        "id": "Pdh6vaiE-PVi",
        "outputId": "e014ddc3-2120-48bf-fd4d-8e7a3ba2f6f1"
      },
      "outputs": [
        {
          "name": "stdout",
          "output_type": "stream",
          "text": [
            "time: 109 ms (started: 2024-09-13 13:34:43 +02:00)\n"
          ]
        }
      ],
      "source": [
        "# ML Algorithms to be used\n",
        "from statsmodels.tsa.statespace.sarimax import SARIMAX\n",
        "from sklearn.svm import SVR"
      ]
    },
    {
      "cell_type": "markdown",
      "metadata": {
        "id": "_4cDs8HWmfhF"
      },
      "source": [
        "# 3. Pre-processing\n"
      ]
    },
    {
      "cell_type": "code",
      "execution_count": 6,
      "metadata": {
        "colab": {
          "base_uri": "https://localhost:8080/"
        },
        "id": "PblFr19N6MYw",
        "outputId": "85631732-531c-4817-8091-b8807a66cc3e"
      },
      "outputs": [
        {
          "name": "stdout",
          "output_type": "stream",
          "text": [
            "time: 0 ns (started: 2024-09-13 13:34:43 +02:00)\n"
          ]
        }
      ],
      "source": [
        "cwd = os.getcwd()\n",
        "DATA_PATH = os.path.join(cwd, '..', 'data')\n",
        "RAW_DATA_PATH = os.path.join(DATA_PATH, 'raw')\n",
        "def read_Data():\n",
        "    data_path = os.path.join(RAW_DATA_PATH, \"energy.csv\") #,parse_dates=[['Date', 'Hour']]) if date and hour to be merged here.\n",
        "    data = pd.read_csv(data_path)\n",
        "    return data"
      ]
    },
    {
      "cell_type": "code",
      "execution_count": 7,
      "metadata": {
        "colab": {
          "base_uri": "https://localhost:8080/",
          "height": 224
        },
        "id": "lP0FCEaz6qJC",
        "outputId": "72b12397-6d2d-45a9-c390-a4a96a3b3460"
      },
      "outputs": [
        {
          "name": "stdout",
          "output_type": "stream",
          "text": [
            "time: 63 ms (started: 2024-09-13 13:34:43 +02:00)\n"
          ]
        }
      ],
      "source": [
        "data = read_Data()"
      ]
    },
    {
      "cell_type": "code",
      "execution_count": 8,
      "metadata": {
        "colab": {
          "base_uri": "https://localhost:8080/"
        },
        "id": "qiEpXuuru_yg",
        "outputId": "34299a43-3012-4e92-dc7c-1a17e4b45f71"
      },
      "outputs": [
        {
          "name": "stdout",
          "output_type": "stream",
          "text": [
            "time: 360 ms (started: 2024-09-13 13:34:43 +02:00)\n"
          ]
        }
      ],
      "source": [
        "data = data.dropna()\n",
        "data.loc[data.Hour == 24, \"Hour\"] = 0\n",
        "data.iloc[23]\n",
        "#Converting time hour into string:\n",
        "data['Hour']= data['Hour'].apply(str)\n",
        "#Merging Columns:\n",
        "data['Date']= data['Date']+' '+ data['Hour']\n",
        "data = data.drop(['Hour'],axis=1)\n",
        "# convert the column to datetime type:\n",
        "datetime_series = pd.to_datetime(data['Date'],format='%d/%m/%Y %H')\n",
        "#Create datetime index and pass it:\n",
        "datetime_index = pd.DatetimeIndex(datetime_series.values)\n",
        "#Updating the indices:\n",
        "data=(data.set_index(datetime_index)).drop(['Date'],axis=1)\n",
        "data = data.sort_index()"
      ]
    },
    {
      "cell_type": "markdown",
      "metadata": {
        "id": "y4NSgbOlHDUG"
      },
      "source": [
        "# SARIMAX : Recursive multi step forecasting with exogenous variables"
      ]
    },
    {
      "cell_type": "code",
      "execution_count": 9,
      "metadata": {
        "colab": {
          "base_uri": "https://localhost:8080/"
        },
        "id": "mp_9FTMD0MD5",
        "outputId": "332a6d80-f9f8-4b26-f8b7-51ae7d52047c"
      },
      "outputs": [
        {
          "name": "stdout",
          "output_type": "stream",
          "text": [
            "time: 0 ns (started: 2024-09-13 13:34:44 +02:00)\n"
          ]
        }
      ],
      "source": [
        "#Warning update:\n",
        "#----------------\n",
        "#each optimization inside the profile likelihood generates a warning, \n",
        "#we turn off the warnings here to make the output clean in the below cell:\n",
        "import warnings\n",
        "from statsmodels.tools.sm_exceptions import ConvergenceWarning\n",
        "warnings.simplefilter('ignore', ConvergenceWarning)\n",
        "#You can check the source code from here:\n",
        "#https://www.statsmodels.org/0.8.0/_modules/statsmodels/base/model.html"
      ]
    },
    {
      "cell_type": "code",
      "execution_count": 10,
      "metadata": {},
      "outputs": [
        {
          "name": "stdout",
          "output_type": "stream",
          "text": [
            "time: 16 ms (started: 2024-09-13 13:34:44 +02:00)\n"
          ]
        }
      ],
      "source": [
        "# -------------------------------\n",
        "# Step 1: Train-Test Split\n",
        "# -------------------------------\n",
        "# Define start and end dates for the train and test datasets.\n",
        "train_start_dt = '2012-09-01'\n",
        "test_start_dt = '2014-11-01'\n",
        "test_end_dt = '2014-11-04'\n",
        "\n",
        "# Split data into training and testing sets based on the defined dates.\n",
        "# 'load' is the target variable, and 'T' is an exogenous variable (e.g., temperature).\n",
        "train = data[(data.index >= train_start_dt) & (data.index < test_start_dt)][['load']]\n",
        "train_temp = data[(data.index >= train_start_dt) & (data.index < test_start_dt)][['T']]\n",
        "test = data[(data.index >= test_start_dt) & (data.index < test_end_dt)][['load']]\n",
        "test_temp = data[(data.index >= test_start_dt) & (data.index < test_end_dt)][['T']]\n",
        "\n",
        "# -------------------------------\n",
        "# Step 2: Data Preprocessing\n",
        "# -------------------------------\n",
        "# Scale the data to the [0,1] range to improve model performance.\n",
        "scaler_1 = pp.MinMaxScaler()\n",
        "scaler_2 = pp.MinMaxScaler()\n",
        "\n",
        "# Fit the scaler on training data and transform both training and test data.\n",
        "train['load'] = scaler_1.fit_transform(train)\n",
        "train_temp['T'] = scaler_2.fit_transform(train_temp)\n",
        "test['load'] = scaler_1.transform(test)\n",
        "test_temp['T'] = scaler_2.transform(test_temp)"
      ]
    },
    {
      "cell_type": "code",
      "execution_count": 11,
      "metadata": {},
      "outputs": [
        {
          "data": {
            "text/html": [
              "<div>\n",
              "<style scoped>\n",
              "    .dataframe tbody tr th:only-of-type {\n",
              "        vertical-align: middle;\n",
              "    }\n",
              "\n",
              "    .dataframe tbody tr th {\n",
              "        vertical-align: top;\n",
              "    }\n",
              "\n",
              "    .dataframe thead th {\n",
              "        text-align: right;\n",
              "    }\n",
              "</style>\n",
              "<table border=\"1\" class=\"dataframe\">\n",
              "  <thead>\n",
              "    <tr style=\"text-align: right;\">\n",
              "      <th></th>\n",
              "      <th>load</th>\n",
              "      <th>load+1</th>\n",
              "      <th>load+2</th>\n",
              "      <th>load+3</th>\n",
              "      <th>load+4</th>\n",
              "      <th>load+5</th>\n",
              "    </tr>\n",
              "  </thead>\n",
              "  <tbody>\n",
              "    <tr>\n",
              "      <th>2014-11-01 00:00:00</th>\n",
              "      <td>0.223112</td>\n",
              "      <td>0.164869</td>\n",
              "      <td>0.140216</td>\n",
              "      <td>0.126656</td>\n",
              "      <td>0.124191</td>\n",
              "      <td>0.135593</td>\n",
              "    </tr>\n",
              "    <tr>\n",
              "      <th>2014-11-01 01:00:00</th>\n",
              "      <td>0.164869</td>\n",
              "      <td>0.140216</td>\n",
              "      <td>0.126656</td>\n",
              "      <td>0.124191</td>\n",
              "      <td>0.135593</td>\n",
              "      <td>0.166718</td>\n",
              "    </tr>\n",
              "    <tr>\n",
              "      <th>2014-11-01 02:00:00</th>\n",
              "      <td>0.140216</td>\n",
              "      <td>0.126656</td>\n",
              "      <td>0.124191</td>\n",
              "      <td>0.135593</td>\n",
              "      <td>0.166718</td>\n",
              "      <td>0.226502</td>\n",
              "    </tr>\n",
              "    <tr>\n",
              "      <th>2014-11-01 03:00:00</th>\n",
              "      <td>0.126656</td>\n",
              "      <td>0.124191</td>\n",
              "      <td>0.135593</td>\n",
              "      <td>0.166718</td>\n",
              "      <td>0.226502</td>\n",
              "      <td>0.305393</td>\n",
              "    </tr>\n",
              "    <tr>\n",
              "      <th>2014-11-01 04:00:00</th>\n",
              "      <td>0.124191</td>\n",
              "      <td>0.135593</td>\n",
              "      <td>0.166718</td>\n",
              "      <td>0.226502</td>\n",
              "      <td>0.305393</td>\n",
              "      <td>0.372881</td>\n",
              "    </tr>\n",
              "    <tr>\n",
              "      <th>...</th>\n",
              "      <td>...</td>\n",
              "      <td>...</td>\n",
              "      <td>...</td>\n",
              "      <td>...</td>\n",
              "      <td>...</td>\n",
              "      <td>...</td>\n",
              "    </tr>\n",
              "    <tr>\n",
              "      <th>2014-11-03 14:00:00</th>\n",
              "      <td>0.430817</td>\n",
              "      <td>0.427427</td>\n",
              "      <td>0.448382</td>\n",
              "      <td>0.502311</td>\n",
              "      <td>0.585824</td>\n",
              "      <td>0.575655</td>\n",
              "    </tr>\n",
              "    <tr>\n",
              "      <th>2014-11-03 15:00:00</th>\n",
              "      <td>0.427427</td>\n",
              "      <td>0.448382</td>\n",
              "      <td>0.502311</td>\n",
              "      <td>0.585824</td>\n",
              "      <td>0.575655</td>\n",
              "      <td>0.539599</td>\n",
              "    </tr>\n",
              "    <tr>\n",
              "      <th>2014-11-03 16:00:00</th>\n",
              "      <td>0.448382</td>\n",
              "      <td>0.502311</td>\n",
              "      <td>0.585824</td>\n",
              "      <td>0.575655</td>\n",
              "      <td>0.539599</td>\n",
              "      <td>0.490601</td>\n",
              "    </tr>\n",
              "    <tr>\n",
              "      <th>2014-11-03 17:00:00</th>\n",
              "      <td>0.502311</td>\n",
              "      <td>0.585824</td>\n",
              "      <td>0.575655</td>\n",
              "      <td>0.539599</td>\n",
              "      <td>0.490601</td>\n",
              "      <td>0.396302</td>\n",
              "    </tr>\n",
              "    <tr>\n",
              "      <th>2014-11-03 18:00:00</th>\n",
              "      <td>0.585824</td>\n",
              "      <td>0.575655</td>\n",
              "      <td>0.539599</td>\n",
              "      <td>0.490601</td>\n",
              "      <td>0.396302</td>\n",
              "      <td>0.302311</td>\n",
              "    </tr>\n",
              "  </tbody>\n",
              "</table>\n",
              "<p>67 rows × 6 columns</p>\n",
              "</div>"
            ],
            "text/plain": [
              "                         load    load+1    load+2    load+3    load+4  \\\n",
              "2014-11-01 00:00:00  0.223112  0.164869  0.140216  0.126656  0.124191   \n",
              "2014-11-01 01:00:00  0.164869  0.140216  0.126656  0.124191  0.135593   \n",
              "2014-11-01 02:00:00  0.140216  0.126656  0.124191  0.135593  0.166718   \n",
              "2014-11-01 03:00:00  0.126656  0.124191  0.135593  0.166718  0.226502   \n",
              "2014-11-01 04:00:00  0.124191  0.135593  0.166718  0.226502  0.305393   \n",
              "...                       ...       ...       ...       ...       ...   \n",
              "2014-11-03 14:00:00  0.430817  0.427427  0.448382  0.502311  0.585824   \n",
              "2014-11-03 15:00:00  0.427427  0.448382  0.502311  0.585824  0.575655   \n",
              "2014-11-03 16:00:00  0.448382  0.502311  0.585824  0.575655  0.539599   \n",
              "2014-11-03 17:00:00  0.502311  0.585824  0.575655  0.539599  0.490601   \n",
              "2014-11-03 18:00:00  0.585824  0.575655  0.539599  0.490601  0.396302   \n",
              "\n",
              "                       load+5  \n",
              "2014-11-01 00:00:00  0.135593  \n",
              "2014-11-01 01:00:00  0.166718  \n",
              "2014-11-01 02:00:00  0.226502  \n",
              "2014-11-01 03:00:00  0.305393  \n",
              "2014-11-01 04:00:00  0.372881  \n",
              "...                       ...  \n",
              "2014-11-03 14:00:00  0.575655  \n",
              "2014-11-03 15:00:00  0.539599  \n",
              "2014-11-03 16:00:00  0.490601  \n",
              "2014-11-03 17:00:00  0.396302  \n",
              "2014-11-03 18:00:00  0.302311  \n",
              "\n",
              "[67 rows x 6 columns]"
            ]
          },
          "execution_count": 11,
          "metadata": {},
          "output_type": "execute_result"
        },
        {
          "name": "stdout",
          "output_type": "stream",
          "text": [
            "time: 47 ms (started: 2024-09-13 13:34:44 +02:00)\n"
          ]
        }
      ],
      "source": [
        "# ------------------------------------------------\n",
        "# Step 3: Prepare the Data for Time Series Modeling\n",
        "# ------------------------------------------------\n",
        "# Set the model's hyperparameters.\n",
        "horizon = 6  # The number of steps to forecast.\n",
        "order = (3, 1, 6)  # The (p,d,q) order of the model.\n",
        "seasonal_order = (1, 1, 1, 24)  # The (P,D,Q,s) seasonal order of the model.\n",
        "\n",
        "# Prepare the shifted test dataset to include future observations for multi-step forecasting.\n",
        "test_shifted = test.copy()\n",
        "for t in range(1, horizon):\n",
        "    test_shifted[f'load+{t}'] = test_shifted['load'].shift(-t, freq='H')\n",
        "test_shifted = test_shifted.dropna()  # Drop rows with missing values resulting from the shift operation.\n",
        "\n",
        "test_shifted"
      ]
    },
    {
      "cell_type": "code",
      "execution_count": 12,
      "metadata": {},
      "outputs": [
        {
          "name": "stdout",
          "output_type": "stream",
          "text": [
            "2014-11-01 00:00:00: Predicted = [0.2055880486712216, 0.1605222514457149, 0.12450701375795162, 0.10175719869002696, 0.1009488727124141, 0.12739208782499947], Actual = [0.22311248073959933, 0.16486902927580893, 0.1402157164869029, 0.12665639445300458, 0.12419106317411399, 0.13559322033898302]\n",
            "2014-11-01 06:00:00: Predicted = [0.20606257386984514, 0.34126080514332763, 0.4123096495801251, 0.4285470958592197, 0.43767554525704827, 0.43791977007602395], Actual = [0.1667180277349769, 0.22650231124807396, 0.30539291217257314, 0.3728813559322034, 0.42434514637904464, 0.4489984591679508]\n",
            "2014-11-01 12:00:00: Predicted = [0.4308978338918964, 0.41741296591890686, 0.4098904649007266, 0.39546340949079123, 0.3946892780270246, 0.4135508561420607], Actual = [0.4576271186440677, 0.4499229583975346, 0.44006163328197223, 0.4345146379044684, 0.43852080123266557, 0.4656394453004622]\n",
            "2014-11-01 18:00:00: Predicted = [0.4509470863865895, 0.48243666870084134, 0.4578968275928206, 0.4201531093604614, 0.35052528088482804, 0.26267270765740514], Actual = [0.5044684129429893, 0.5109399075500771, 0.46995377503852076, 0.43050847457627106, 0.3679506933744222, 0.2933744221879815]\n",
            "2014-11-02 00:00:00: Predicted = [0.18434331755557615, 0.13593436729562, 0.10664198109216355, 0.08983260805956754, 0.08966449363123316, 0.11400049834947518], Actual = [0.19414483821263484, 0.18089368258859784, 0.14483821263482277, 0.13312788906009243, 0.13343605546995374, 0.1482280431432974]\n",
            "2014-11-02 06:00:00: Predicted = [0.1881289118601131, 0.31954429404210977, 0.393095577285033, 0.4139464821921596, 0.4264896420383623, 0.4293708403502269], Actual = [0.1852080123266564, 0.2542372881355932, 0.3389830508474576, 0.41941448382126345, 0.4628659476117103, 0.48228043143297383]\n",
            "2014-11-02 12:00:00: Predicted = [0.42353915832841527, 0.41112517823340944, 0.40347517467328753, 0.38909038683115155, 0.38752000462426417, 0.40648480404389115], Actual = [0.4899845916795069, 0.47519260400616337, 0.4551617873651772, 0.438828967642527, 0.4449922958397534, 0.48536209553158693]\n",
            "2014-11-02 18:00:00: Predicted = [0.4478588936091968, 0.48467368175163167, 0.4605168198981125, 0.4181788285501763, 0.34437160871057904, 0.25394045763116496], Actual = [0.5318952234206471, 0.5072419106317412, 0.45423728813559316, 0.4101694915254237, 0.3334360554699538, 0.25053929121725727]\n",
            "2014-11-03 00:00:00: Predicted = [0.17586817964346313, 0.1271717423476861, 0.09966834429516522, 0.08432021918553435, 0.08431985494040967, 0.10830791117055695], Actual = [0.22989214175654848, 0.16086286594761168, 0.14422187981510015, 0.13682588597842837, 0.1432973805855161, 0.1799691833590138]\n",
            "2014-11-03 06:00:00: Predicted = [0.1811310609174581, 0.3112486176393513, 0.38539469915182467, 0.40709810251256134, 0.4202620578251346, 0.4233605124329876], Actual = [0.273035439137134, 0.4073959938366718, 0.4530046224961479, 0.4579352850539291, 0.45824345146379053, 0.4576271186440677]\n",
            "2014-11-03 12:00:00: Predicted = [0.41813263427099556, 0.40665509626968077, 0.40003904369468585, 0.38708305100407936, 0.3847048400623375, 0.4026345157317458], Actual = [0.45392912172573197, 0.4332819722650232, 0.4308166409861325, 0.42742681047765796, 0.44838212634822794, 0.50231124807396]\n",
            "2014-11-03 18:00:00: Predicted = [0.44480482087912976, 0.4836501756952057, 0.46017723371791297, 0.4163074955203869, 0.34130746287641367, 0.25034472217019615], Actual = [0.5858243451463789, 0.5756548536209554, 0.5395993836671802, 0.49060092449922954, 0.3963020030816642, 0.3023112480739599]\n",
            "time: 17min 34s (started: 2024-09-13 13:34:44 +02:00)\n"
          ]
        }
      ],
      "source": [
        "# Initialize lists to store the historical data and predictions.\n",
        "history = list(train['load'][-720:])  # Last 720 observations from the training set.\n",
        "history_Temp = list(train_temp['T'][-720:])  # Matching temperature observations.\n",
        "\n",
        "# ---------------------------------\n",
        "# Step 4: Forecasting with SARIMAX\n",
        "# ---------------------------------\n",
        "\n",
        "# Initialize the list to store all predictions\n",
        "predictions = []\n",
        "\n",
        "# Forecasting loop\n",
        "for t in range(0, test_shifted.shape[0], horizon):\n",
        "    # range(0, test_shifted.shape[0], horizon): This part creates a sequence of numbers \n",
        "    # starting from 0 up to (but not including) test_shifted.shape[0], which represents \n",
        "    # the total number of rows (or data points) in the test_shifted dataset. \n",
        "    # The sequence increments by the value of horizon at each step.\n",
        "    \n",
        "    # Ensure history and history_Temp have the same length\n",
        "    min_len = min(len(history), len(history_Temp))\n",
        "    history = history[-min_len:]\n",
        "    history_Temp = history_Temp[-min_len:]\n",
        "\n",
        "    # Fit the SARIMAX model\n",
        "    model = SARIMAX(endog=history, exog=np.array(history_Temp).reshape(-1, 1), \n",
        "                    order=order, seasonal_order=seasonal_order)\n",
        "    model_fit = model.fit(disp=False) # Set 'disp=False' to avoid printing convergence messages\n",
        "\n",
        "    # Forecast the next 'horizon' steps\n",
        "    y_p = model_fit.forecast(steps=horizon, \n",
        "                             exog=np.array(test_temp['T'].iloc[t:t+horizon]).reshape(-1, 1)).tolist()\n",
        "\n",
        "    # Store the predictions\n",
        "    predictions.extend(y_p)  # This line adds the forecasted values to the predictions list\n",
        "\n",
        "    # Update history lists for the next iteration\n",
        "    history.extend(y_p)  # Add forecasted values to history for model retraining\n",
        "    history_Temp.extend(test_temp['T'].iloc[t:t+horizon].tolist())  # Add actual temp values for the forecast period\n",
        "\n",
        "    # Keep the most recent observations for the next iteration\n",
        "    history = history[-720:]\n",
        "    history_Temp = history_Temp[-720:]\n",
        "\n",
        "    # Optional: Print the forecasted values and their corresponding true values\n",
        "    print(f\"{test_shifted.index[t]}: Predicted = {y_p}, Actual = {test_shifted.iloc[t, :horizon].values.tolist()}\")\n",
        "\n",
        "# Note: Adjust the '720' value according to your specific needs or dataset size."
      ]
    },
    {
      "cell_type": "markdown",
      "metadata": {},
      "source": [
        "### Key Components Explained:\n",
        "\n",
        "- Train-Test Split: Divides the dataset into training and testing periods. This separation allows the model to be trained on historical data and tested on unseen future data.\n",
        "- Data Preprocessing: Scaling the data helps normalize the values, allowing the model to converge more efficiently during training.\n",
        "- Preparing Data for SARIMAX: Includes setting hyperparameters and preparing future observations for multi-step forecasting.\n",
        "\n",
        "- Forecasting with SARIMAX:\n",
        "    - The SARIMAX model is fit to the historical data (history) and exogenous variables (history_Temp).\n",
        "    - The model makes forecasts for the defined horizon, using the exogenous variables for the same period from the test set.\n",
        "    - Updates the historical data with the forecasted values, ensuring that the length of the history matches the length of the exogenous variables for accurate future forecasts.\n",
        "    - This loop continues, making forecasts in chunks of the defined horizon and dynamically updating the historical data used for training."
      ]
    },
    {
      "cell_type": "code",
      "execution_count": 13,
      "metadata": {},
      "outputs": [
        {
          "name": "stdout",
          "output_type": "stream",
          "text": [
            "<class 'pandas.core.frame.DataFrame'>\n",
            "DatetimeIndex: 72 entries, 2014-11-01 00:00:00 to 2014-11-03 23:00:00\n",
            "Data columns (total 2 columns):\n",
            " #   Column      Non-Null Count  Dtype  \n",
            "---  ------      --------------  -----  \n",
            " 0   prediction  72 non-null     float64\n",
            " 1   actual      72 non-null     float64\n",
            "dtypes: float64(2)\n",
            "memory usage: 1.7 KB\n",
            "None\n",
            "                     prediction    actual\n",
            "2014-11-01 00:00:00    0.205588  0.223112\n",
            "2014-11-01 01:00:00    0.160522  0.164869\n",
            "2014-11-01 02:00:00    0.124507  0.140216\n",
            "2014-11-01 03:00:00    0.101757  0.126656\n",
            "2014-11-01 04:00:00    0.100949  0.124191\n",
            "time: 0 ns (started: 2024-09-13 13:52:18 +02:00)\n"
          ]
        }
      ],
      "source": [
        "# Create a DataFrame from the predictions list\n",
        "# Here, it's crucial to ensure the index matches that of the test set to align predictions with actual values\n",
        "eval_df = pd.DataFrame(predictions, index=test.index[:len(predictions)])\n",
        "eval_df.columns = ['prediction']\n",
        "\n",
        "# Add actual values from the test set to the evaluation DataFrame\n",
        "# This aligns each prediction with its corresponding actual load value\n",
        "eval_df['actual'] = test['load'].iloc[:len(predictions)]\n",
        "\n",
        "# Display the structure and a few example rows of the evaluation DataFrame\n",
        "print(eval_df.info())\n",
        "print(eval_df.head())"
      ]
    },
    {
      "cell_type": "code",
      "execution_count": 14,
      "metadata": {
        "colab": {
          "base_uri": "https://localhost:8080/"
        },
        "id": "tR8RH0g49xbU",
        "outputId": "bd1a582a-6265-4a15-ff4b-ee6f32f4400a"
      },
      "outputs": [
        {
          "name": "stdout",
          "output_type": "stream",
          "text": [
            "time: 0 ns (started: 2024-09-13 13:52:18 +02:00)\n"
          ]
        }
      ],
      "source": [
        "#Back-transforming:\n",
        "eval_df[['prediction', 'actual']] = scaler_1.inverse_transform(eval_df[['prediction', 'actual']])"
      ]
    },
    {
      "cell_type": "code",
      "execution_count": 15,
      "metadata": {
        "colab": {
          "base_uri": "https://localhost:8080/",
          "height": 422
        },
        "id": "fMvtDN04m4M1",
        "outputId": "5cb7b7fd-ecfa-42bb-a2d6-5c705986b2cb"
      },
      "outputs": [
        {
          "data": {
            "image/png": "[encoded data removed]",
            "text/plain": [
              "<Figure size 640x480 with 1 Axes>"
            ]
          },
          "metadata": {},
          "output_type": "display_data"
        },
        {
          "name": "stdout",
          "output_type": "stream",
          "text": [
            "time: 407 ms (started: 2024-09-13 13:52:18 +02:00)\n"
          ]
        }
      ],
      "source": [
        "#Plotting predictions: \n",
        "plt.figure();\n",
        "plt.plot(eval_df['actual'], 'k.-');\n",
        "plt.plot(eval_df['prediction'], 'x', alpha=0.70);\n",
        "#plt.plot(np.arange(0, 69),eval_df['prediction'].iloc[69:138], 'o', alpha=0.70);\n",
        "#plt.plot(np.arange(0, 69),eval_df['prediction'].iloc[-69:], '+', alpha=0.70);\n",
        "plt.legend(['Actual',\n",
        "            ('Predicted with ' + str (horizon) + ' hr horizon')])\n",
        "plt.ylabel('Load');\n",
        "plt.xlabel('Time Index');\n",
        "plt.title('SARIMAX');\n"
      ]
    },
    {
      "cell_type": "code",
      "execution_count": 16,
      "metadata": {
        "colab": {
          "base_uri": "https://localhost:8080/",
          "height": 428
        },
        "id": "LzODQKuHMENx",
        "outputId": "dec03de1-8308-415f-b8b9-3a56d04d2bba"
      },
      "outputs": [
        {
          "data": {
            "text/plain": [
              "[<matplotlib.lines.Line2D at 0x21f97cb2650>]"
            ]
          },
          "execution_count": 16,
          "metadata": {},
          "output_type": "execute_result"
        },
        {
          "data": {
            "image/png": "[encoded data removed]",
            "text/plain": [
              "<Figure size 640x480 with 1 Axes>"
            ]
          },
          "metadata": {},
          "output_type": "display_data"
        },
        {
          "name": "stdout",
          "output_type": "stream",
          "text": [
            "time: 156 ms (started: 2024-09-13 13:52:18 +02:00)\n"
          ]
        }
      ],
      "source": [
        "#Visual comparisons of the predictions:\n",
        "#---------------------------------------\n",
        "#Visualization of the accuracy\n",
        "a = plt.axes(aspect='equal')\n",
        "plt.scatter(eval_df['actual'], eval_df['prediction'],marker='*',alpha=0.80)\n",
        "#plt.scatter(eval_df['actual'].iloc[0:69], eval_df['prediction'].iloc[69:138],marker='o',alpha=0.60)\n",
        "#plt.scatter(eval_df['actual'].iloc[0:69], eval_df['prediction'].iloc[138:207],marker='+',alpha=0.50)\n",
        "plt.xlabel('True Load Values')\n",
        "plt.ylabel('Predicted Load Values')\n",
        "lims = [2000, 4500]\n",
        "plt.xlim(lims), plt.ylim(lims)\n",
        "plt.plot(lims, lims)"
      ]
    },
    {
      "cell_type": "code",
      "execution_count": 17,
      "metadata": {
        "colab": {
          "base_uri": "https://localhost:8080/",
          "height": 424
        },
        "id": "uqiNQiPMk9oL",
        "outputId": "94532108-8c98-44f9-87e1-abb71dc3adb0"
      },
      "outputs": [
        {
          "data": {
            "text/plain": [
              "Text(0, 0.5, 'Count')"
            ]
          },
          "execution_count": 17,
          "metadata": {},
          "output_type": "execute_result"
        },
        {
          "data": {
            "image/png": "[encoded data removed]",
            "text/plain": [
              "<Figure size 640x480 with 1 Axes>"
            ]
          },
          "metadata": {},
          "output_type": "display_data"
        },
        {
          "name": "stdout",
          "output_type": "stream",
          "text": [
            "time: 250 ms (started: 2024-09-13 13:52:19 +02:00)\n"
          ]
        }
      ],
      "source": [
        "# Calculating the error variations:\n",
        "error_nn1 = (eval_df['prediction'] - eval_df['actual'])/eval_df['actual']*100\n",
        "\n",
        "plt.hist(error_nn1, bins=30,alpha=0.9)\n",
        "plt.xlabel('Predicted Relative % Error')\n",
        "plt.ylabel('Count')"
      ]
    },
    {
      "cell_type": "code",
      "execution_count": 18,
      "metadata": {
        "colab": {
          "base_uri": "https://localhost:8080/"
        },
        "id": "ybGg5AFQ5mOD",
        "outputId": "c479ec1b-9fbc-4a71-a2f9-f494d0da4cf4"
      },
      "outputs": [
        {
          "name": "stdout",
          "output_type": "stream",
          "text": [
            "R^2 score is  0.85\n",
            "time: 16 ms (started: 2024-09-13 13:52:19 +02:00)\n"
          ]
        }
      ],
      "source": [
        "#Calculating R^2: r2_score(y_true, y_pred)\n",
        "Score_sarimax = r2_score(eval_df['actual'],eval_df['prediction'])\n",
        "print('R^2 score is  %3.2f' %np.mean(Score_sarimax))"
      ]
    }
  ],
  "metadata": {
    "colab": {
      "collapsed_sections": [],
      "name": "Lecture_8.ipynb",
      "provenance": [],
      "toc_visible": true
    },
    "kernelspec": {
      "display_name": "Python 3",
      "name": "python3"
    },
    "language_info": {
      "codemirror_mode": {
        "name": "ipython",
        "version": 3
      },
      "file_extension": ".py",
      "mimetype": "text/x-python",
      "name": "python",
      "nbconvert_exporter": "python",
      "pygments_lexer": "ipython3",
      "version": "3.10.13"
    }
  },
  "nbformat": 4,
  "nbformat_minor": 0
}
