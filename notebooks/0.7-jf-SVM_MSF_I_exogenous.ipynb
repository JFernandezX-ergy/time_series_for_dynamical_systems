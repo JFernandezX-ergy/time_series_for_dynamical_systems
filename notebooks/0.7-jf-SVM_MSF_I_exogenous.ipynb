{
  "cells": [
    {
      "cell_type": "markdown",
      "metadata": {
        "id": "rA_3sqmEls1m"
      },
      "source": [
        "# 1 Problem Definition: Short Term Load Forecasting\n",
        "\n",
        "Now the prblem includes Temperature as well, as an exogenous variable"
      ]
    },
    {
      "cell_type": "code",
      "execution_count": 1,
      "metadata": {
        "colab": {
          "base_uri": "https://localhost:8080/"
        },
        "id": "yWFatBGPPinR",
        "outputId": "eb3a67d2-40ae-4644-aae9-ea1f878c3b9a"
      },
      "outputs": [
        {
          "name": "stdout",
          "output_type": "stream",
          "text": [
            "Requirement already satisfied: ipython-autotime in c:\\users\\juanfernandez\\anaconda3\\envs\\energy_portfolio_management\\lib\\site-packages (0.3.2)\n",
            "Requirement already satisfied: ipython in c:\\users\\juanfernandez\\anaconda3\\envs\\energy_portfolio_management\\lib\\site-packages (from ipython-autotime) (8.16.1)\n",
            "Requirement already satisfied: backcall in c:\\users\\juanfernandez\\anaconda3\\envs\\energy_portfolio_management\\lib\\site-packages (from ipython->ipython-autotime) (0.2.0)\n",
            "Requirement already satisfied: decorator in c:\\users\\juanfernandez\\anaconda3\\envs\\energy_portfolio_management\\lib\\site-packages (from ipython->ipython-autotime) (5.1.1)\n",
            "Requirement already satisfied: jedi>=0.16 in c:\\users\\juanfernandez\\anaconda3\\envs\\energy_portfolio_management\\lib\\site-packages (from ipython->ipython-autotime) (0.19.1)\n",
            "Requirement already satisfied: matplotlib-inline in c:\\users\\juanfernandez\\anaconda3\\envs\\energy_portfolio_management\\lib\\site-packages (from ipython->ipython-autotime) (0.1.6)\n",
            "Requirement already satisfied: pickleshare in c:\\users\\juanfernandez\\anaconda3\\envs\\energy_portfolio_management\\lib\\site-packages (from ipython->ipython-autotime) (0.7.5)\n",
            "Requirement already satisfied: prompt-toolkit!=3.0.37,<3.1.0,>=3.0.30 in c:\\users\\juanfernandez\\anaconda3\\envs\\energy_portfolio_management\\lib\\site-packages (from ipython->ipython-autotime) (3.0.39)\n",
            "Requirement already satisfied: pygments>=2.4.0 in c:\\users\\juanfernandez\\anaconda3\\envs\\energy_portfolio_management\\lib\\site-packages (from ipython->ipython-autotime) (2.16.1)\n",
            "Requirement already satisfied: stack-data in c:\\users\\juanfernandez\\anaconda3\\envs\\energy_portfolio_management\\lib\\site-packages (from ipython->ipython-autotime) (0.6.2)\n",
            "Requirement already satisfied: traitlets>=5 in c:\\users\\juanfernandez\\anaconda3\\envs\\energy_portfolio_management\\lib\\site-packages (from ipython->ipython-autotime) (5.12.0)\n",
            "Requirement already satisfied: exceptiongroup in c:\\users\\juanfernandez\\anaconda3\\envs\\energy_portfolio_management\\lib\\site-packages (from ipython->ipython-autotime) (1.1.3)\n",
            "Requirement already satisfied: colorama in c:\\users\\juanfernandez\\anaconda3\\envs\\energy_portfolio_management\\lib\\site-packages (from ipython->ipython-autotime) (0.4.6)\n",
            "Requirement already satisfied: parso<0.9.0,>=0.8.3 in c:\\users\\juanfernandez\\anaconda3\\envs\\energy_portfolio_management\\lib\\site-packages (from jedi>=0.16->ipython->ipython-autotime) (0.8.3)\n",
            "Requirement already satisfied: wcwidth in c:\\users\\juanfernandez\\anaconda3\\envs\\energy_portfolio_management\\lib\\site-packages (from prompt-toolkit!=3.0.37,<3.1.0,>=3.0.30->ipython->ipython-autotime) (0.2.8)\n",
            "Requirement already satisfied: executing>=1.2.0 in c:\\users\\juanfernandez\\anaconda3\\envs\\energy_portfolio_management\\lib\\site-packages (from stack-data->ipython->ipython-autotime) (1.2.0)\n",
            "Requirement already satisfied: asttokens>=2.1.0 in c:\\users\\juanfernandez\\anaconda3\\envs\\energy_portfolio_management\\lib\\site-packages (from stack-data->ipython->ipython-autotime) (2.4.0)\n",
            "Requirement already satisfied: pure-eval in c:\\users\\juanfernandez\\anaconda3\\envs\\energy_portfolio_management\\lib\\site-packages (from stack-data->ipython->ipython-autotime) (0.2.2)\n",
            "Requirement already satisfied: six>=1.12.0 in c:\\users\\juanfernandez\\anaconda3\\envs\\energy_portfolio_management\\lib\\site-packages (from asttokens>=2.1.0->stack-data->ipython->ipython-autotime) (1.16.0)\n",
            "time: 0 ns (started: 2024-09-13 13:58:49 +02:00)\n"
          ]
        },
        {
          "name": "stderr",
          "output_type": "stream",
          "text": [
            "\n",
            "[notice] A new release of pip is available: 24.1.1 -> 24.2\n",
            "[notice] To update, run: python.exe -m pip install --upgrade pip\n"
          ]
        }
      ],
      "source": [
        "!pip install ipython-autotime\n",
        "%load_ext autotime"
      ]
    },
    {
      "cell_type": "markdown",
      "metadata": {
        "id": "OYJUVWg9-HxL"
      },
      "source": [
        "## Libraries"
      ]
    },
    {
      "cell_type": "code",
      "execution_count": 2,
      "metadata": {
        "colab": {
          "base_uri": "https://localhost:8080/"
        },
        "id": "8i9z1Kao-kQT",
        "outputId": "d936f98d-719f-408f-82c5-a2839a219ce4"
      },
      "outputs": [
        {
          "name": "stdout",
          "output_type": "stream",
          "text": [
            "Requirement already satisfied: statsmodels in c:\\users\\juanfernandez\\anaconda3\\envs\\energy_portfolio_management\\lib\\site-packages (0.14.0)\n",
            "Requirement already satisfied: numpy>=1.18 in c:\\users\\juanfernandez\\anaconda3\\envs\\energy_portfolio_management\\lib\\site-packages (from statsmodels) (1.23.4)\n",
            "Requirement already satisfied: scipy!=1.9.2,>=1.4 in c:\\users\\juanfernandez\\anaconda3\\envs\\energy_portfolio_management\\lib\\site-packages (from statsmodels) (1.12.0)\n",
            "Requirement already satisfied: pandas>=1.0 in c:\\users\\juanfernandez\\anaconda3\\envs\\energy_portfolio_management\\lib\\site-packages (from statsmodels) (1.5.3)\n",
            "Requirement already satisfied: patsy>=0.5.2 in c:\\users\\juanfernandez\\anaconda3\\envs\\energy_portfolio_management\\lib\\site-packages (from statsmodels) (0.5.3)\n",
            "Requirement already satisfied: packaging>=21.3 in c:\\users\\juanfernandez\\anaconda3\\envs\\energy_portfolio_management\\lib\\site-packages (from statsmodels) (23.2)\n",
            "Requirement already satisfied: python-dateutil>=2.8.1 in c:\\users\\juanfernandez\\anaconda3\\envs\\energy_portfolio_management\\lib\\site-packages (from pandas>=1.0->statsmodels) (2.8.2)\n",
            "Requirement already satisfied: pytz>=2020.1 in c:\\users\\juanfernandez\\anaconda3\\envs\\energy_portfolio_management\\lib\\site-packages (from pandas>=1.0->statsmodels) (2023.3.post1)\n",
            "Requirement already satisfied: six in c:\\users\\juanfernandez\\anaconda3\\envs\\energy_portfolio_management\\lib\\site-packages (from patsy>=0.5.2->statsmodels) (1.16.0)\n",
            "time: 2.03 s (started: 2024-09-13 13:58:49 +02:00)\n"
          ]
        },
        {
          "name": "stderr",
          "output_type": "stream",
          "text": [
            "\n",
            "[notice] A new release of pip is available: 24.1.1 -> 24.2\n",
            "[notice] To update, run: python.exe -m pip install --upgrade pip\n"
          ]
        }
      ],
      "source": [
        "#Local Installations\n",
        "!pip install statsmodels"
      ]
    },
    {
      "cell_type": "code",
      "execution_count": 3,
      "metadata": {
        "colab": {
          "base_uri": "https://localhost:8080/"
        },
        "id": "qQAx5I7N-GQ0",
        "outputId": "f69d8cb0-f09a-446a-c350-5b5255baa80d"
      },
      "outputs": [
        {
          "name": "stdout",
          "output_type": "stream",
          "text": [
            "time: 2.03 s (started: 2024-09-13 13:58:51 +02:00)\n"
          ]
        }
      ],
      "source": [
        "#Importing the necessary libraries\n",
        "import math\n",
        "import numpy as np\n",
        "import pandas as pd\n",
        "import datetime as dt\n",
        "import os\n",
        "import itertools\n",
        "import matplotlib.pyplot as plt\n",
        "import seaborn as sns\n",
        "color = sns.color_palette()\n",
        "import matplotlib as mpl\n",
        "from matplotlib import colors as mcolors\n",
        "colors = dict(mcolors.BASE_COLORS, **mcolors.CSS4_COLORS)\n",
        "import statsmodels.api as sm\n",
        "import warnings\n",
        "import matplotlib.dates as mdates\n",
        "from pandas.plotting import lag_plot, autocorrelation_plot\n",
        "from statsmodels.graphics.tsaplots import plot_acf, plot_pacf "
      ]
    },
    {
      "cell_type": "code",
      "execution_count": 4,
      "metadata": {
        "colab": {
          "base_uri": "https://localhost:8080/"
        },
        "id": "Bde603-P-KSz",
        "outputId": "0843bf0e-ae45-456c-c875-c671b3ec31ac"
      },
      "outputs": [
        {
          "name": "stdout",
          "output_type": "stream",
          "text": [
            "time: 141 ms (started: 2024-09-13 13:58:53 +02:00)\n"
          ]
        }
      ],
      "source": [
        "# Data Preparation and Scoring\n",
        "from sklearn import preprocessing as pp\n",
        "from scipy import stats\n",
        "from sklearn.model_selection import train_test_split\n",
        "from sklearn.model_selection import KFold\n",
        "from sklearn.model_selection import GridSearchCV\n",
        "from scipy.stats import reciprocal\n",
        "from sklearn.model_selection import RandomizedSearchCV\n",
        "from sklearn.metrics import make_scorer\n",
        "from sklearn.metrics import accuracy_score\n",
        "from sklearn.metrics import mean_absolute_error\n",
        "from sklearn.metrics import r2_score\n",
        "from sklearn.metrics import mean_squared_error\n",
        "from matplotlib.colors import LogNorm"
      ]
    },
    {
      "cell_type": "code",
      "execution_count": 5,
      "metadata": {
        "colab": {
          "base_uri": "https://localhost:8080/"
        },
        "id": "Pdh6vaiE-PVi",
        "outputId": "e014ddc3-2120-48bf-fd4d-8e7a3ba2f6f1"
      },
      "outputs": [
        {
          "name": "stdout",
          "output_type": "stream",
          "text": [
            "time: 62 ms (started: 2024-09-13 13:58:53 +02:00)\n"
          ]
        }
      ],
      "source": [
        "# ML Algorithms to be used\n",
        "from statsmodels.tsa.statespace.sarimax import SARIMAX\n",
        "from sklearn.svm import SVR"
      ]
    },
    {
      "cell_type": "markdown",
      "metadata": {
        "id": "_4cDs8HWmfhF"
      },
      "source": [
        "# 3. Pre-processing\n"
      ]
    },
    {
      "cell_type": "code",
      "execution_count": 6,
      "metadata": {
        "colab": {
          "base_uri": "https://localhost:8080/"
        },
        "id": "PblFr19N6MYw",
        "outputId": "85631732-531c-4817-8091-b8807a66cc3e"
      },
      "outputs": [
        {
          "name": "stdout",
          "output_type": "stream",
          "text": [
            "time: 0 ns (started: 2024-09-13 13:58:53 +02:00)\n"
          ]
        }
      ],
      "source": [
        "cwd = os.getcwd()\n",
        "DATA_PATH = os.path.join(cwd, '..', 'data')\n",
        "RAW_DATA_PATH = os.path.join(DATA_PATH, 'raw')\n",
        "def read_Data():\n",
        "    data_path = os.path.join(RAW_DATA_PATH, \"energy.csv\") #,parse_dates=[['Date', 'Hour']]) if date and hour to be merged here.\n",
        "    data = pd.read_csv(data_path)\n",
        "    return data"
      ]
    },
    {
      "cell_type": "code",
      "execution_count": 7,
      "metadata": {
        "colab": {
          "base_uri": "https://localhost:8080/",
          "height": 224
        },
        "id": "lP0FCEaz6qJC",
        "outputId": "72b12397-6d2d-45a9-c390-a4a96a3b3460"
      },
      "outputs": [
        {
          "name": "stdout",
          "output_type": "stream",
          "text": [
            "time: 47 ms (started: 2024-09-13 13:58:53 +02:00)\n"
          ]
        }
      ],
      "source": [
        "data = read_Data()"
      ]
    },
    {
      "cell_type": "code",
      "execution_count": 8,
      "metadata": {
        "colab": {
          "base_uri": "https://localhost:8080/"
        },
        "id": "qiEpXuuru_yg",
        "outputId": "34299a43-3012-4e92-dc7c-1a17e4b45f71"
      },
      "outputs": [
        {
          "name": "stdout",
          "output_type": "stream",
          "text": [
            "time: 203 ms (started: 2024-09-13 13:58:53 +02:00)\n"
          ]
        }
      ],
      "source": [
        "data = data.dropna()\n",
        "data.loc[data.Hour == 24, \"Hour\"] = 0\n",
        "data.iloc[23]\n",
        "#Converting time hour into string:\n",
        "data['Hour']= data['Hour'].apply(str)\n",
        "#Merging Columns:\n",
        "data['Date']= data['Date']+' '+ data['Hour']\n",
        "data = data.drop(['Hour'],axis=1)\n",
        "# convert the column to datetime type:\n",
        "datetime_series = pd.to_datetime(data['Date'],format='%d/%m/%Y %H')\n",
        "#Create datetime index and pass it:\n",
        "datetime_index = pd.DatetimeIndex(datetime_series.values)\n",
        "#Updating the indices:\n",
        "data=(data.set_index(datetime_index)).drop(['Date'],axis=1)\n",
        "data = data.sort_index()"
      ]
    },
    {
      "cell_type": "markdown",
      "metadata": {
        "id": "3znw1epxG-CZ"
      },
      "source": [
        "# SVM I - Multi-step Forecasting with Exogenous variables\n",
        "\n",
        "Multi-step forecasting involves predicting multiple future data points in the time series based on the previous data points. The model's objective is to predict a sequence of future values, given the historical data."
      ]
    },
    {
      "cell_type": "markdown",
      "metadata": {
        "id": "xaApZSY0Awlt"
      },
      "source": [
        "## Organizing the Feature Matrix"
      ]
    },
    {
      "cell_type": "code",
      "execution_count": 9,
      "metadata": {
        "id": "lOZblMjrAm3Z"
      },
      "outputs": [
        {
          "data": {
            "text/html": [
              "<div>\n",
              "<style scoped>\n",
              "    .dataframe tbody tr th:only-of-type {\n",
              "        vertical-align: middle;\n",
              "    }\n",
              "\n",
              "    .dataframe tbody tr th {\n",
              "        vertical-align: top;\n",
              "    }\n",
              "\n",
              "    .dataframe thead th {\n",
              "        text-align: right;\n",
              "    }\n",
              "</style>\n",
              "<table border=\"1\" class=\"dataframe\">\n",
              "  <thead>\n",
              "    <tr style=\"text-align: right;\">\n",
              "      <th></th>\n",
              "      <th>load</th>\n",
              "      <th>T</th>\n",
              "    </tr>\n",
              "  </thead>\n",
              "  <tbody>\n",
              "    <tr>\n",
              "      <th>2014-02-19 01:00:00</th>\n",
              "      <td>2991.0</td>\n",
              "      <td>20.67</td>\n",
              "    </tr>\n",
              "    <tr>\n",
              "      <th>2010-04-08 18:00:00</th>\n",
              "      <td>3344.0</td>\n",
              "      <td>54.00</td>\n",
              "    </tr>\n",
              "    <tr>\n",
              "      <th>2008-04-22 11:00:00</th>\n",
              "      <td>3480.0</td>\n",
              "      <td>60.67</td>\n",
              "    </tr>\n",
              "  </tbody>\n",
              "</table>\n",
              "</div>"
            ],
            "text/plain": [
              "                       load      T\n",
              "2014-02-19 01:00:00  2991.0  20.67\n",
              "2010-04-08 18:00:00  3344.0  54.00\n",
              "2008-04-22 11:00:00  3480.0  60.67"
            ]
          },
          "execution_count": 9,
          "metadata": {},
          "output_type": "execute_result"
        },
        {
          "name": "stdout",
          "output_type": "stream",
          "text": [
            "time: 16 ms (started: 2024-09-13 13:58:53 +02:00)\n"
          ]
        }
      ],
      "source": [
        "#Checking Data:\n",
        "data.sample(3)"
      ]
    },
    {
      "cell_type": "code",
      "execution_count": 10,
      "metadata": {
        "id": "mAqLnJ4FCDIt"
      },
      "outputs": [
        {
          "name": "stdout",
          "output_type": "stream",
          "text": [
            "<class 'pandas.core.frame.DataFrame'>\n",
            "DatetimeIndex: 78885 entries, 2006-01-01 03:00:00 to 2014-12-31 23:00:00\n",
            "Data columns (total 4 columns):\n",
            " #   Column  Non-Null Count  Dtype  \n",
            "---  ------  --------------  -----  \n",
            " 0   median  78885 non-null  float64\n",
            " 1   std     78885 non-null  float64\n",
            " 2   T       78885 non-null  float64\n",
            " 3   load    78885 non-null  float64\n",
            "dtypes: float64(4)\n",
            "memory usage: 3.0 MB\n",
            "time: 32 ms (started: 2024-09-13 13:58:53 +02:00)\n"
          ]
        }
      ],
      "source": [
        "#Adding statistics features in dataframes:\n",
        "#------------------------------------------------\n",
        "#Let's use only the load data;\n",
        "load_data = data[['load']]\n",
        "#Defining the window width:\n",
        "width = 4\n",
        "#Calling Rolling:\n",
        "window = load_data.rolling(window=width)\n",
        "#Let's save as a new DF. We will add min, mean and max to the load column:\n",
        "new_dataframe = pd.concat([window.median(), window.std(),data['T'], data['load']], axis=1)\n",
        "new_dataframe.columns = ['median', 'std','T', 'load']\n",
        "new_dataframe = new_dataframe.dropna() \n",
        "new_dataframe.info()"
      ]
    },
    {
      "cell_type": "code",
      "execution_count": 11,
      "metadata": {
        "id": "231KKWkSUUqx"
      },
      "outputs": [
        {
          "data": {
            "text/html": [
              "<div>\n",
              "<style scoped>\n",
              "    .dataframe tbody tr th:only-of-type {\n",
              "        vertical-align: middle;\n",
              "    }\n",
              "\n",
              "    .dataframe tbody tr th {\n",
              "        vertical-align: top;\n",
              "    }\n",
              "\n",
              "    .dataframe thead th {\n",
              "        text-align: right;\n",
              "    }\n",
              "</style>\n",
              "<table border=\"1\" class=\"dataframe\">\n",
              "  <thead>\n",
              "    <tr style=\"text-align: right;\">\n",
              "      <th></th>\n",
              "      <th>median</th>\n",
              "      <th>std</th>\n",
              "      <th>T</th>\n",
              "      <th>load</th>\n",
              "    </tr>\n",
              "  </thead>\n",
              "  <tbody>\n",
              "    <tr>\n",
              "      <th>2006-01-01 03:00:00</th>\n",
              "      <td>2919.0</td>\n",
              "      <td>117.882710</td>\n",
              "      <td>21.33</td>\n",
              "      <td>2758.0</td>\n",
              "    </tr>\n",
              "    <tr>\n",
              "      <th>2006-01-01 04:00:00</th>\n",
              "      <td>2805.5</td>\n",
              "      <td>133.827003</td>\n",
              "      <td>19.00</td>\n",
              "      <td>2705.0</td>\n",
              "    </tr>\n",
              "    <tr>\n",
              "      <th>2006-01-01 05:00:00</th>\n",
              "      <td>2733.5</td>\n",
              "      <td>68.854315</td>\n",
              "      <td>19.33</td>\n",
              "      <td>2709.0</td>\n",
              "    </tr>\n",
              "    <tr>\n",
              "      <th>2006-01-01 06:00:00</th>\n",
              "      <td>2731.0</td>\n",
              "      <td>28.123241</td>\n",
              "      <td>18.67</td>\n",
              "      <td>2753.0</td>\n",
              "    </tr>\n",
              "    <tr>\n",
              "      <th>2006-01-01 07:00:00</th>\n",
              "      <td>2731.0</td>\n",
              "      <td>66.962676</td>\n",
              "      <td>18.00</td>\n",
              "      <td>2849.0</td>\n",
              "    </tr>\n",
              "  </tbody>\n",
              "</table>\n",
              "</div>"
            ],
            "text/plain": [
              "                     median         std      T    load\n",
              "2006-01-01 03:00:00  2919.0  117.882710  21.33  2758.0\n",
              "2006-01-01 04:00:00  2805.5  133.827003  19.00  2705.0\n",
              "2006-01-01 05:00:00  2733.5   68.854315  19.33  2709.0\n",
              "2006-01-01 06:00:00  2731.0   28.123241  18.67  2753.0\n",
              "2006-01-01 07:00:00  2731.0   66.962676  18.00  2849.0"
            ]
          },
          "execution_count": 11,
          "metadata": {},
          "output_type": "execute_result"
        },
        {
          "name": "stdout",
          "output_type": "stream",
          "text": [
            "time: 0 ns (started: 2024-09-13 13:58:53 +02:00)\n"
          ]
        }
      ],
      "source": [
        "new_dataframe.head(5)"
      ]
    },
    {
      "cell_type": "markdown",
      "metadata": {
        "id": "hqTUNuPrGbRU"
      },
      "source": [
        "## Building the X Matrix and Labels\n",
        "\n",
        "Here we will add the temporal data with sliding intervals in time. Lets first look with an illustration:"
      ]
    },
    {
      "cell_type": "code",
      "execution_count": 12,
      "metadata": {
        "id": "Rd1KueOfGa52"
      },
      "outputs": [
        {
          "data": {
            "image/png": "[encoded data removed]",
            "text/plain": [
              "<Figure size 640x480 with 4 Axes>"
            ]
          },
          "metadata": {},
          "output_type": "display_data"
        },
        {
          "name": "stdout",
          "output_type": "stream",
          "text": [
            "time: 812 ms (started: 2024-09-13 13:58:53 +02:00)\n"
          ]
        }
      ],
      "source": [
        "#finding the indices as integers for time substraction below:\n",
        "start = np.where(new_dataframe.index == '2014-03-01 00:00:00')[0][0]\n",
        "middle = np.where(new_dataframe.index == '2014-03-01 12:00:00')[0][0]\n",
        "end = np.where(new_dataframe.index == '2014-03-02 00:00:00')[0][0]\n",
        "#sliding window width:\n",
        "window = 4\n",
        "#Plotting a sliding interval sample:\n",
        "fig, ax = plt.subplots(nrows=4,sharex=True);\n",
        "for i in range(4):\n",
        "    full = new_dataframe.iloc[start:end]['load']\n",
        "    train = new_dataframe.iloc[middle - i - window:middle - i ]['load']\n",
        "    predict = new_dataframe.iloc[middle - i:middle - i + 1]['load']\n",
        "\n",
        "    ax[3-i].plot((full + 2*i),c='grey', alpha=0.5);\n",
        "    ax[3-i].plot((train + 2*i),c=colors['lightskyblue'], markersize=4,marker='o')\n",
        "    ax[3-i].plot((predict + 2*i),c=colors['midnightblue'], markersize=8,marker='o', linestyle='')\n",
        "\n",
        "ax[0].get_yaxis().set_ticks([]);\n",
        "ax[0].legend(['full time series','$\\mathbf{X}$','$y$'],bbox_to_anchor=(1, 1));\n"
      ]
    },
    {
      "cell_type": "markdown",
      "metadata": {
        "id": "yfQBOa4CPJq_"
      },
      "source": [
        "Lets follow the same logic and create our feature matrix A in this way."
      ]
    },
    {
      "cell_type": "code",
      "execution_count": 13,
      "metadata": {
        "id": "R4_yJO5jQEn6"
      },
      "outputs": [
        {
          "name": "stdout",
          "output_type": "stream",
          "text": [
            "time: 1.23 s (started: 2024-09-13 13:58:54 +02:00)\n"
          ]
        }
      ],
      "source": [
        "# Step 1: Identify the start and end points for analysis\n",
        "start = np.where(new_dataframe.index == '2012-09-01 00:00:00')[0][0]\n",
        "end = np.where(new_dataframe.index == '2014-11-04 00:00:00')[0][0]\n",
        "\n",
        "# Step 2: Define the sliding window width\n",
        "window = 4\n",
        "\n",
        "# Step 3: Initialize lists for features, labels, and column names\n",
        "dataX, dataY, column_names_list = [], [], []\n",
        "\n",
        "# Step 4: Extract features and labels using a sliding window\n",
        "for i in range(start, end - window):\n",
        "    # This loop iterates from the start index to (end - window). \n",
        "    # For each position i, it extracts a slice of the DataFrame \n",
        "    # corresponding to the current window and flattens it to a single array. \n",
        "    # This array becomes a row in the feature matrix dataX. \n",
        "    # The next value of the load (immediately after the window) \n",
        "    # is used as the label, stored in dataY.\n",
        "\n",
        "    # Extract features from the current window and flatten them\n",
        "    dataX.append((new_dataframe.iloc[i:i+window].to_numpy()).ravel())\n",
        "    dataY.append(new_dataframe['load'].iloc[i+window] )\n",
        "\n",
        "# Step 5: Generate descriptive column names for features\n",
        "for j in range (1,window+1):\n",
        "    # For each time step j within the window, generate names for the median, \n",
        "    # standard deviation, temperature, and load columns. These names are \n",
        "    # stored in column_names, making the data more understandable.\n",
        "      column_names_list.append(['median_t_'+str(j),'std_t_'+str(j),'T_t_'+str(j),'load_t_'+str(j)])\n",
        "\n",
        "# Step 6: Flatten the list of column names\n",
        "# Since column_names is a list of lists, use itertools.chain(*column_names) to flatten it into a single list.\n",
        "column_names = itertools.chain(*column_names_list)\n",
        "\n",
        "# Step 7: Convert features and labels into a DataFrame and Series\n",
        "# The index of this DataFrame is set to match the DateTime \n",
        "# index of the slices from new_dataframe, offset by the window \n",
        "# width since these features predict the load value at the end of each window.\n",
        "# Similarly, convert the labels list (dataY) into a pandas Series with the same index.\n",
        "\n",
        "# dataX = pd.DataFrame(np.vstack(dataX),index=new_dataframe.iloc[start+window:end].index)\n",
        "# dataX.columns = column_names\n",
        "# dataY =pd.Series(dataY,index=new_dataframe.iloc[start+window:end].index)\n",
        "# dataY.name = ['true_load']\n",
        "\n",
        "dataX = pd.DataFrame(dataX, columns=column_names, index=new_dataframe.index[start + window:end])\n",
        "dataY = pd.Series(dataY, name='true_load', index=new_dataframe.index[start + window:end])"
      ]
    },
    {
      "cell_type": "code",
      "execution_count": 14,
      "metadata": {
        "id": "5D0XvtAriCm7"
      },
      "outputs": [
        {
          "data": {
            "text/html": [
              "<div>\n",
              "<style scoped>\n",
              "    .dataframe tbody tr th:only-of-type {\n",
              "        vertical-align: middle;\n",
              "    }\n",
              "\n",
              "    .dataframe tbody tr th {\n",
              "        vertical-align: top;\n",
              "    }\n",
              "\n",
              "    .dataframe thead th {\n",
              "        text-align: right;\n",
              "    }\n",
              "</style>\n",
              "<table border=\"1\" class=\"dataframe\">\n",
              "  <thead>\n",
              "    <tr style=\"text-align: right;\">\n",
              "      <th></th>\n",
              "      <th>median</th>\n",
              "      <th>std</th>\n",
              "      <th>T</th>\n",
              "      <th>load</th>\n",
              "    </tr>\n",
              "  </thead>\n",
              "  <tbody>\n",
              "    <tr>\n",
              "      <th>2012-09-01 00:00:00</th>\n",
              "      <td>3543.0</td>\n",
              "      <td>524.914199</td>\n",
              "      <td>59.33</td>\n",
              "      <td>2719.0</td>\n",
              "    </tr>\n",
              "    <tr>\n",
              "      <th>2012-09-01 01:00:00</th>\n",
              "      <td>3104.5</td>\n",
              "      <td>465.842964</td>\n",
              "      <td>69.67</td>\n",
              "      <td>2817.0</td>\n",
              "    </tr>\n",
              "    <tr>\n",
              "      <th>2012-09-01 02:00:00</th>\n",
              "      <td>2768.0</td>\n",
              "      <td>335.357521</td>\n",
              "      <td>67.33</td>\n",
              "      <td>2664.0</td>\n",
              "    </tr>\n",
              "    <tr>\n",
              "      <th>2012-09-01 03:00:00</th>\n",
              "      <td>2691.5</td>\n",
              "      <td>99.408249</td>\n",
              "      <td>69.33</td>\n",
              "      <td>2580.0</td>\n",
              "    </tr>\n",
              "    <tr>\n",
              "      <th>2012-09-01 04:00:00</th>\n",
              "      <td>2622.0</td>\n",
              "      <td>123.494939</td>\n",
              "      <td>67.67</td>\n",
              "      <td>2537.0</td>\n",
              "    </tr>\n",
              "    <tr>\n",
              "      <th>2012-09-01 05:00:00</th>\n",
              "      <td>2558.5</td>\n",
              "      <td>62.931179</td>\n",
              "      <td>65.00</td>\n",
              "      <td>2525.0</td>\n",
              "    </tr>\n",
              "  </tbody>\n",
              "</table>\n",
              "</div>"
            ],
            "text/plain": [
              "                     median         std      T    load\n",
              "2012-09-01 00:00:00  3543.0  524.914199  59.33  2719.0\n",
              "2012-09-01 01:00:00  3104.5  465.842964  69.67  2817.0\n",
              "2012-09-01 02:00:00  2768.0  335.357521  67.33  2664.0\n",
              "2012-09-01 03:00:00  2691.5   99.408249  69.33  2580.0\n",
              "2012-09-01 04:00:00  2622.0  123.494939  67.67  2537.0\n",
              "2012-09-01 05:00:00  2558.5   62.931179  65.00  2525.0"
            ]
          },
          "execution_count": 14,
          "metadata": {},
          "output_type": "execute_result"
        },
        {
          "name": "stdout",
          "output_type": "stream",
          "text": [
            "time: 15 ms (started: 2024-09-13 13:58:55 +02:00)\n"
          ]
        }
      ],
      "source": [
        "#Original DF:\n",
        "new_dataframe.loc['2012-09-01 00:00:00':'2012-09-04 00:00:00'].head(6)"
      ]
    },
    {
      "cell_type": "code",
      "execution_count": 15,
      "metadata": {
        "id": "-29jygVriUO-"
      },
      "outputs": [
        {
          "data": {
            "text/html": [
              "<div>\n",
              "<style scoped>\n",
              "    .dataframe tbody tr th:only-of-type {\n",
              "        vertical-align: middle;\n",
              "    }\n",
              "\n",
              "    .dataframe tbody tr th {\n",
              "        vertical-align: top;\n",
              "    }\n",
              "\n",
              "    .dataframe thead th {\n",
              "        text-align: right;\n",
              "    }\n",
              "</style>\n",
              "<table border=\"1\" class=\"dataframe\">\n",
              "  <thead>\n",
              "    <tr style=\"text-align: right;\">\n",
              "      <th></th>\n",
              "      <th>median_t_1</th>\n",
              "      <th>std_t_1</th>\n",
              "      <th>T_t_1</th>\n",
              "      <th>load_t_1</th>\n",
              "      <th>median_t_2</th>\n",
              "      <th>std_t_2</th>\n",
              "      <th>T_t_2</th>\n",
              "      <th>load_t_2</th>\n",
              "      <th>median_t_3</th>\n",
              "      <th>std_t_3</th>\n",
              "      <th>T_t_3</th>\n",
              "      <th>load_t_3</th>\n",
              "      <th>median_t_4</th>\n",
              "      <th>std_t_4</th>\n",
              "      <th>T_t_4</th>\n",
              "      <th>load_t_4</th>\n",
              "    </tr>\n",
              "  </thead>\n",
              "  <tbody>\n",
              "    <tr>\n",
              "      <th>2012-09-01 04:00:00</th>\n",
              "      <td>3543.0</td>\n",
              "      <td>524.914199</td>\n",
              "      <td>59.33</td>\n",
              "      <td>2719.0</td>\n",
              "      <td>3104.5</td>\n",
              "      <td>465.842964</td>\n",
              "      <td>69.67</td>\n",
              "      <td>2817.0</td>\n",
              "      <td>2768.0</td>\n",
              "      <td>335.357521</td>\n",
              "      <td>67.33</td>\n",
              "      <td>2664.0</td>\n",
              "      <td>2691.5</td>\n",
              "      <td>99.408249</td>\n",
              "      <td>69.33</td>\n",
              "      <td>2580.0</td>\n",
              "    </tr>\n",
              "    <tr>\n",
              "      <th>2012-09-01 05:00:00</th>\n",
              "      <td>3104.5</td>\n",
              "      <td>465.842964</td>\n",
              "      <td>69.67</td>\n",
              "      <td>2817.0</td>\n",
              "      <td>2768.0</td>\n",
              "      <td>335.357521</td>\n",
              "      <td>67.33</td>\n",
              "      <td>2664.0</td>\n",
              "      <td>2691.5</td>\n",
              "      <td>99.408249</td>\n",
              "      <td>69.33</td>\n",
              "      <td>2580.0</td>\n",
              "      <td>2622.0</td>\n",
              "      <td>123.494939</td>\n",
              "      <td>67.67</td>\n",
              "      <td>2537.0</td>\n",
              "    </tr>\n",
              "  </tbody>\n",
              "</table>\n",
              "</div>"
            ],
            "text/plain": [
              "                     median_t_1     std_t_1  T_t_1  load_t_1  median_t_2  \\\n",
              "2012-09-01 04:00:00      3543.0  524.914199  59.33    2719.0      3104.5   \n",
              "2012-09-01 05:00:00      3104.5  465.842964  69.67    2817.0      2768.0   \n",
              "\n",
              "                        std_t_2  T_t_2  load_t_2  median_t_3     std_t_3  \\\n",
              "2012-09-01 04:00:00  465.842964  69.67    2817.0      2768.0  335.357521   \n",
              "2012-09-01 05:00:00  335.357521  67.33    2664.0      2691.5   99.408249   \n",
              "\n",
              "                     T_t_3  load_t_3  median_t_4     std_t_4  T_t_4  load_t_4  \n",
              "2012-09-01 04:00:00  67.33    2664.0      2691.5   99.408249  69.33    2580.0  \n",
              "2012-09-01 05:00:00  69.33    2580.0      2622.0  123.494939  67.67    2537.0  "
            ]
          },
          "execution_count": 15,
          "metadata": {},
          "output_type": "execute_result"
        },
        {
          "name": "stdout",
          "output_type": "stream",
          "text": [
            "time: 0 ns (started: 2024-09-13 13:58:55 +02:00)\n"
          ]
        }
      ],
      "source": [
        "dataX.head(2)"
      ]
    },
    {
      "cell_type": "code",
      "execution_count": 16,
      "metadata": {
        "id": "jSfEBmI-jJz3"
      },
      "outputs": [
        {
          "data": {
            "text/plain": [
              "2012-09-01 04:00:00    2537.0\n",
              "2012-09-01 05:00:00    2525.0\n",
              "Name: true_load, dtype: float64"
            ]
          },
          "execution_count": 16,
          "metadata": {},
          "output_type": "execute_result"
        },
        {
          "name": "stdout",
          "output_type": "stream",
          "text": [
            "time: 0 ns (started: 2024-09-13 13:58:55 +02:00)\n"
          ]
        }
      ],
      "source": [
        "dataY.head(2)"
      ]
    },
    {
      "cell_type": "code",
      "execution_count": 17,
      "metadata": {
        "id": "v2ql4QbypFl-"
      },
      "outputs": [
        {
          "data": {
            "image/png": "[encoded data removed]",
            "text/plain": [
              "<Figure size 1200x600 with 2 Axes>"
            ]
          },
          "metadata": {},
          "output_type": "display_data"
        },
        {
          "name": "stdout",
          "output_type": "stream",
          "text": [
            "time: 250 ms (started: 2024-09-13 13:58:55 +02:00)\n"
          ]
        }
      ],
      "source": [
        "#Correlation Matrix\n",
        "correlationMatrix = pd.DataFrame(dataX).corr() \n",
        "\n",
        "f = plt.figure(figsize=(12, 6))\n",
        "plt.matshow(correlationMatrix, fignum=f.number)\n",
        "plt.xticks(range(dataX.shape[1]), dataX.columns, fontsize=14, rotation=75)\n",
        "plt.yticks(range(dataX.shape[1]), dataX.columns, fontsize=14)\n",
        "cb = plt.colorbar()\n",
        "cb.ax.tick_params(labelsize=14)\n",
        "plt.show()"
      ]
    },
    {
      "cell_type": "code",
      "execution_count": 18,
      "metadata": {
        "id": "dyMZoulHRwOB"
      },
      "outputs": [
        {
          "data": {
            "text/html": [
              "<div>\n",
              "<style scoped>\n",
              "    .dataframe tbody tr th:only-of-type {\n",
              "        vertical-align: middle;\n",
              "    }\n",
              "\n",
              "    .dataframe tbody tr th {\n",
              "        vertical-align: top;\n",
              "    }\n",
              "\n",
              "    .dataframe thead th {\n",
              "        text-align: right;\n",
              "    }\n",
              "</style>\n",
              "<table border=\"1\" class=\"dataframe\">\n",
              "  <thead>\n",
              "    <tr style=\"text-align: right;\">\n",
              "      <th></th>\n",
              "      <th>median_t_1</th>\n",
              "      <th>std_t_1</th>\n",
              "      <th>T_t_1</th>\n",
              "      <th>load_t_1</th>\n",
              "      <th>median_t_2</th>\n",
              "      <th>std_t_2</th>\n",
              "      <th>T_t_2</th>\n",
              "      <th>load_t_2</th>\n",
              "      <th>median_t_3</th>\n",
              "      <th>std_t_3</th>\n",
              "      <th>T_t_3</th>\n",
              "      <th>load_t_3</th>\n",
              "      <th>median_t_4</th>\n",
              "      <th>std_t_4</th>\n",
              "      <th>T_t_4</th>\n",
              "      <th>load_t_4</th>\n",
              "    </tr>\n",
              "  </thead>\n",
              "  <tbody>\n",
              "    <tr>\n",
              "      <th>count</th>\n",
              "      <td>1.905200e+04</td>\n",
              "      <td>1.905200e+04</td>\n",
              "      <td>1.905200e+04</td>\n",
              "      <td>1.905200e+04</td>\n",
              "      <td>1.905200e+04</td>\n",
              "      <td>1.905200e+04</td>\n",
              "      <td>1.905200e+04</td>\n",
              "      <td>1.905200e+04</td>\n",
              "      <td>1.905200e+04</td>\n",
              "      <td>1.905200e+04</td>\n",
              "      <td>1.905200e+04</td>\n",
              "      <td>1.905200e+04</td>\n",
              "      <td>1.905200e+04</td>\n",
              "      <td>1.905200e+04</td>\n",
              "      <td>1.905200e+04</td>\n",
              "      <td>1.905200e+04</td>\n",
              "    </tr>\n",
              "    <tr>\n",
              "      <th>mean</th>\n",
              "      <td>2.565890e-16</td>\n",
              "      <td>-8.428651e-17</td>\n",
              "      <td>-3.818999e-16</td>\n",
              "      <td>-2.953757e-16</td>\n",
              "      <td>1.939336e-16</td>\n",
              "      <td>1.976631e-16</td>\n",
              "      <td>-2.267531e-16</td>\n",
              "      <td>9.845858e-17</td>\n",
              "      <td>-2.267531e-16</td>\n",
              "      <td>1.212085e-16</td>\n",
              "      <td>-1.670812e-16</td>\n",
              "      <td>-1.969172e-16</td>\n",
              "      <td>-1.581304e-16</td>\n",
              "      <td>-2.700152e-16</td>\n",
              "      <td>8.354061e-17</td>\n",
              "      <td>3.938343e-16</td>\n",
              "    </tr>\n",
              "    <tr>\n",
              "      <th>std</th>\n",
              "      <td>1.000026e+00</td>\n",
              "      <td>1.000026e+00</td>\n",
              "      <td>1.000026e+00</td>\n",
              "      <td>1.000026e+00</td>\n",
              "      <td>1.000026e+00</td>\n",
              "      <td>1.000026e+00</td>\n",
              "      <td>1.000026e+00</td>\n",
              "      <td>1.000026e+00</td>\n",
              "      <td>1.000026e+00</td>\n",
              "      <td>1.000026e+00</td>\n",
              "      <td>1.000026e+00</td>\n",
              "      <td>1.000026e+00</td>\n",
              "      <td>1.000026e+00</td>\n",
              "      <td>1.000026e+00</td>\n",
              "      <td>1.000026e+00</td>\n",
              "      <td>1.000026e+00</td>\n",
              "    </tr>\n",
              "    <tr>\n",
              "      <th>min</th>\n",
              "      <td>-2.356536e+00</td>\n",
              "      <td>-1.250854e+00</td>\n",
              "      <td>-3.150932e+00</td>\n",
              "      <td>-2.363943e+00</td>\n",
              "      <td>-2.356523e+00</td>\n",
              "      <td>-1.250961e+00</td>\n",
              "      <td>-3.150906e+00</td>\n",
              "      <td>-2.364070e+00</td>\n",
              "      <td>-2.356548e+00</td>\n",
              "      <td>-1.251018e+00</td>\n",
              "      <td>-3.150913e+00</td>\n",
              "      <td>-2.364173e+00</td>\n",
              "      <td>-2.356666e+00</td>\n",
              "      <td>-1.251030e+00</td>\n",
              "      <td>-3.150905e+00</td>\n",
              "      <td>-2.364310e+00</td>\n",
              "    </tr>\n",
              "    <tr>\n",
              "      <th>25%</th>\n",
              "      <td>-7.726966e-01</td>\n",
              "      <td>-8.791492e-01</td>\n",
              "      <td>-7.639865e-01</td>\n",
              "      <td>-7.721103e-01</td>\n",
              "      <td>-7.727081e-01</td>\n",
              "      <td>-8.791741e-01</td>\n",
              "      <td>-7.639432e-01</td>\n",
              "      <td>-7.722154e-01</td>\n",
              "      <td>-7.727602e-01</td>\n",
              "      <td>-8.791741e-01</td>\n",
              "      <td>-7.638814e-01</td>\n",
              "      <td>-7.722968e-01</td>\n",
              "      <td>-7.721740e-01</td>\n",
              "      <td>-8.791720e-01</td>\n",
              "      <td>-7.638207e-01</td>\n",
              "      <td>-7.723794e-01</td>\n",
              "    </tr>\n",
              "    <tr>\n",
              "      <th>50%</th>\n",
              "      <td>1.141806e-01</td>\n",
              "      <td>-3.143736e-01</td>\n",
              "      <td>9.416024e-02</td>\n",
              "      <td>1.191733e-01</td>\n",
              "      <td>1.141554e-01</td>\n",
              "      <td>-3.142749e-01</td>\n",
              "      <td>9.420957e-02</td>\n",
              "      <td>1.190803e-01</td>\n",
              "      <td>1.140882e-01</td>\n",
              "      <td>-3.141876e-01</td>\n",
              "      <td>9.429610e-02</td>\n",
              "      <td>1.190114e-01</td>\n",
              "      <td>1.140057e-01</td>\n",
              "      <td>-3.141646e-01</td>\n",
              "      <td>9.437566e-02</td>\n",
              "      <td>1.189593e-01</td>\n",
              "    </tr>\n",
              "    <tr>\n",
              "      <th>75%</th>\n",
              "      <td>6.730222e-01</td>\n",
              "      <td>7.707527e-01</td>\n",
              "      <td>7.982938e-01</td>\n",
              "      <td>6.788994e-01</td>\n",
              "      <td>6.729884e-01</td>\n",
              "      <td>7.708772e-01</td>\n",
              "      <td>7.983482e-01</td>\n",
              "      <td>6.788141e-01</td>\n",
              "      <td>6.729117e-01</td>\n",
              "      <td>7.710807e-01</td>\n",
              "      <td>7.984550e-01</td>\n",
              "      <td>6.787530e-01</td>\n",
              "      <td>6.728372e-01</td>\n",
              "      <td>7.711371e-01</td>\n",
              "      <td>7.985500e-01</td>\n",
              "      <td>6.787200e-01</td>\n",
              "    </tr>\n",
              "    <tr>\n",
              "      <th>max</th>\n",
              "      <td>3.458144e+00</td>\n",
              "      <td>4.153972e+00</td>\n",
              "      <td>2.446595e+00</td>\n",
              "      <td>3.420488e+00</td>\n",
              "      <td>3.458067e+00</td>\n",
              "      <td>4.155047e+00</td>\n",
              "      <td>2.446661e+00</td>\n",
              "      <td>3.420440e+00</td>\n",
              "      <td>3.457943e+00</td>\n",
              "      <td>4.155826e+00</td>\n",
              "      <td>2.446815e+00</td>\n",
              "      <td>3.420417e+00</td>\n",
              "      <td>3.457908e+00</td>\n",
              "      <td>4.156014e+00</td>\n",
              "      <td>2.446946e+00</td>\n",
              "      <td>3.420478e+00</td>\n",
              "    </tr>\n",
              "  </tbody>\n",
              "</table>\n",
              "</div>"
            ],
            "text/plain": [
              "         median_t_1       std_t_1         T_t_1      load_t_1    median_t_2  \\\n",
              "count  1.905200e+04  1.905200e+04  1.905200e+04  1.905200e+04  1.905200e+04   \n",
              "mean   2.565890e-16 -8.428651e-17 -3.818999e-16 -2.953757e-16  1.939336e-16   \n",
              "std    1.000026e+00  1.000026e+00  1.000026e+00  1.000026e+00  1.000026e+00   \n",
              "min   -2.356536e+00 -1.250854e+00 -3.150932e+00 -2.363943e+00 -2.356523e+00   \n",
              "25%   -7.726966e-01 -8.791492e-01 -7.639865e-01 -7.721103e-01 -7.727081e-01   \n",
              "50%    1.141806e-01 -3.143736e-01  9.416024e-02  1.191733e-01  1.141554e-01   \n",
              "75%    6.730222e-01  7.707527e-01  7.982938e-01  6.788994e-01  6.729884e-01   \n",
              "max    3.458144e+00  4.153972e+00  2.446595e+00  3.420488e+00  3.458067e+00   \n",
              "\n",
              "            std_t_2         T_t_2      load_t_2    median_t_3       std_t_3  \\\n",
              "count  1.905200e+04  1.905200e+04  1.905200e+04  1.905200e+04  1.905200e+04   \n",
              "mean   1.976631e-16 -2.267531e-16  9.845858e-17 -2.267531e-16  1.212085e-16   \n",
              "std    1.000026e+00  1.000026e+00  1.000026e+00  1.000026e+00  1.000026e+00   \n",
              "min   -1.250961e+00 -3.150906e+00 -2.364070e+00 -2.356548e+00 -1.251018e+00   \n",
              "25%   -8.791741e-01 -7.639432e-01 -7.722154e-01 -7.727602e-01 -8.791741e-01   \n",
              "50%   -3.142749e-01  9.420957e-02  1.190803e-01  1.140882e-01 -3.141876e-01   \n",
              "75%    7.708772e-01  7.983482e-01  6.788141e-01  6.729117e-01  7.710807e-01   \n",
              "max    4.155047e+00  2.446661e+00  3.420440e+00  3.457943e+00  4.155826e+00   \n",
              "\n",
              "              T_t_3      load_t_3    median_t_4       std_t_4         T_t_4  \\\n",
              "count  1.905200e+04  1.905200e+04  1.905200e+04  1.905200e+04  1.905200e+04   \n",
              "mean  -1.670812e-16 -1.969172e-16 -1.581304e-16 -2.700152e-16  8.354061e-17   \n",
              "std    1.000026e+00  1.000026e+00  1.000026e+00  1.000026e+00  1.000026e+00   \n",
              "min   -3.150913e+00 -2.364173e+00 -2.356666e+00 -1.251030e+00 -3.150905e+00   \n",
              "25%   -7.638814e-01 -7.722968e-01 -7.721740e-01 -8.791720e-01 -7.638207e-01   \n",
              "50%    9.429610e-02  1.190114e-01  1.140057e-01 -3.141646e-01  9.437566e-02   \n",
              "75%    7.984550e-01  6.787530e-01  6.728372e-01  7.711371e-01  7.985500e-01   \n",
              "max    2.446815e+00  3.420417e+00  3.457908e+00  4.156014e+00  2.446946e+00   \n",
              "\n",
              "           load_t_4  \n",
              "count  1.905200e+04  \n",
              "mean   3.938343e-16  \n",
              "std    1.000026e+00  \n",
              "min   -2.364310e+00  \n",
              "25%   -7.723794e-01  \n",
              "50%    1.189593e-01  \n",
              "75%    6.787200e-01  \n",
              "max    3.420478e+00  "
            ]
          },
          "execution_count": 18,
          "metadata": {},
          "output_type": "execute_result"
        },
        {
          "name": "stdout",
          "output_type": "stream",
          "text": [
            "time: 47 ms (started: 2024-09-13 13:58:56 +02:00)\n"
          ]
        }
      ],
      "source": [
        "#Rescaling the data\n",
        "# For SVM Regression (SVR): It's not strictly required \n",
        "# to standardize or normalize dataY. The primary concern is \n",
        "# ensuring that the features (dataX) are on a similar \n",
        "# scale to facilitate the SVM's optimization process.\n",
        "\n",
        "featuresToScale = dataX.columns\n",
        "sX = pp.StandardScaler(copy=True)\n",
        "dataX.loc[:,featuresToScale] = sX.fit_transform(dataX[featuresToScale])\n",
        "#Looking into the statistics again:\n",
        "dataX.describe()"
      ]
    },
    {
      "cell_type": "code",
      "execution_count": 19,
      "metadata": {
        "id": "5UEO_T9VQgV0"
      },
      "outputs": [
        {
          "name": "stdout",
          "output_type": "stream",
          "text": [
            "Train data shape:  (18980, 16) (18980,)\n",
            "Test data shape:  (72, 16) (72,)\n",
            "time: 0 ns (started: 2024-09-13 13:58:56 +02:00)\n"
          ]
        }
      ],
      "source": [
        "# Train-Test Split:\n",
        "# We will split the data as training and test. No need for validation here. \n",
        "train_start_dt = '2012-09-01'\n",
        "test_start_dt = '2014-11-01'\n",
        "test_end_dt = '2014-11-04'\n",
        "#Let's use the same notation: X_train, X_test, y_train, y_test\n",
        "X_train = dataX.copy()[(dataX.index >= train_start_dt)& (dataX.index < test_start_dt)]\n",
        "y_train = dataY.copy()[(dataY.index >= train_start_dt)& (dataY.index < test_start_dt)]\n",
        "\n",
        "X_test =  dataX.copy()[(dataX.index >= test_start_dt) & (dataX.index < test_end_dt)]\n",
        "y_test =  dataY.copy()[(dataY.index >= test_start_dt) & (dataY.index < test_end_dt)]\n",
        "\n",
        "\n",
        "print('Train data shape: ', X_train.shape, y_train.shape)\n",
        "print('Test data shape: ', X_test.shape, y_test.shape)"
      ]
    },
    {
      "cell_type": "markdown",
      "metadata": {
        "id": "151sdEYPESfg"
      },
      "source": [
        "## Model Training and Predictions\n",
        "\n",
        "As we have seen in the lecture, there are 3 important hyperparameters to decide: C, epsilon and kernel. We also need to feed the tol value as we are solving a convex optimization problem."
      ]
    },
    {
      "cell_type": "code",
      "execution_count": 20,
      "metadata": {
        "id": "iSHteOJ_SVth"
      },
      "outputs": [
        {
          "name": "stdout",
          "output_type": "stream",
          "text": [
            "time: 0 ns (started: 2024-09-13 13:58:56 +02:00)\n"
          ]
        }
      ],
      "source": [
        "# Hyperparameters:\n",
        "# https://scikit-learn.org/stable/modules/generated/sklearn.svm.SVR.html#\n",
        "\n",
        "#__________________________________________________________________________________________\n",
        "#___Notes__________________________________________________________________________________\n",
        "# Radial Basis Function (RBF) kernel, two parameters must be considered: C and gamma. \n",
        "\n",
        "#The parameter C, common to all SVM kernels, trades off misclassification of training examples \n",
        "# against simplicity of the decision surface. \n",
        "# A low C makes the decision surface smooth, while a high C aims at classifying all training examples correctly. \n",
        "# The strength of the regularization is inversely proportional to C. Large C => little regularization; Low C => higher regularization\n",
        "\n",
        "# gamma defines how much influence a single training example has. The larger gamma is, the closer other examples must be to be affected.\n",
        "#__________________________________________________________________________________________\n",
        "\n",
        "kernel='linear' \n",
        "gamma='scale' #Kernel coefficient for ‘rbf’, ‘poly’ and ‘sigmoid’. When scaled, uses 1 / (n_features * X.var()) as value of gamma.\n",
        "C=1.0\n",
        "epsilon=0.1    # Default\n",
        "shrinking=True # Whether to use the shrinking heuristic. \n",
        "tol=0.00001\n",
        "\n",
        "#Setting the model:\n",
        "svr = SVR(kernel= kernel, gamma=gamma, tol=tol, C=C, epsilon=epsilon, shrinking=shrinking)\n",
        " "
      ]
    },
    {
      "cell_type": "code",
      "execution_count": 21,
      "metadata": {
        "id": "Vxwh0-ECrCuj"
      },
      "outputs": [
        {
          "data": {
            "text/html": [
              "<style>#sk-container-id-1 {color: black;}#sk-container-id-1 pre{padding: 0;}#sk-container-id-1 div.sk-toggleable {background-color: white;}#sk-container-id-1 label.sk-toggleable__label {cursor: pointer;display: block;width: 100%;margin-bottom: 0;padding: 0.3em;box-sizing: border-box;text-align: center;}#sk-container-id-1 label.sk-toggleable__label-arrow:before {content: \"▸\";float: left;margin-right: 0.25em;color: #696969;}#sk-container-id-1 label.sk-toggleable__label-arrow:hover:before {color: black;}#sk-container-id-1 div.sk-estimator:hover label.sk-toggleable__label-arrow:before {color: black;}#sk-container-id-1 div.sk-toggleable__content {max-height: 0;max-width: 0;overflow: hidden;text-align: left;background-color: #f0f8ff;}#sk-container-id-1 div.sk-toggleable__content pre {margin: 0.2em;color: black;border-radius: 0.25em;background-color: #f0f8ff;}#sk-container-id-1 input.sk-toggleable__control:checked~div.sk-toggleable__content {max-height: 200px;max-width: 100%;overflow: auto;}#sk-container-id-1 input.sk-toggleable__control:checked~label.sk-toggleable__label-arrow:before {content: \"▾\";}#sk-container-id-1 div.sk-estimator input.sk-toggleable__control:checked~label.sk-toggleable__label {background-color: #d4ebff;}#sk-container-id-1 div.sk-label input.sk-toggleable__control:checked~label.sk-toggleable__label {background-color: #d4ebff;}#sk-container-id-1 input.sk-hidden--visually {border: 0;clip: rect(1px 1px 1px 1px);clip: rect(1px, 1px, 1px, 1px);height: 1px;margin: -1px;overflow: hidden;padding: 0;position: absolute;width: 1px;}#sk-container-id-1 div.sk-estimator {font-family: monospace;background-color: #f0f8ff;border: 1px dotted black;border-radius: 0.25em;box-sizing: border-box;margin-bottom: 0.5em;}#sk-container-id-1 div.sk-estimator:hover {background-color: #d4ebff;}#sk-container-id-1 div.sk-parallel-item::after {content: \"\";width: 100%;border-bottom: 1px solid gray;flex-grow: 1;}#sk-container-id-1 div.sk-label:hover label.sk-toggleable__label {background-color: #d4ebff;}#sk-container-id-1 div.sk-serial::before {content: \"\";position: absolute;border-left: 1px solid gray;box-sizing: border-box;top: 0;bottom: 0;left: 50%;z-index: 0;}#sk-container-id-1 div.sk-serial {display: flex;flex-direction: column;align-items: center;background-color: white;padding-right: 0.2em;padding-left: 0.2em;position: relative;}#sk-container-id-1 div.sk-item {position: relative;z-index: 1;}#sk-container-id-1 div.sk-parallel {display: flex;align-items: stretch;justify-content: center;background-color: white;position: relative;}#sk-container-id-1 div.sk-item::before, #sk-container-id-1 div.sk-parallel-item::before {content: \"\";position: absolute;border-left: 1px solid gray;box-sizing: border-box;top: 0;bottom: 0;left: 50%;z-index: -1;}#sk-container-id-1 div.sk-parallel-item {display: flex;flex-direction: column;z-index: 1;position: relative;background-color: white;}#sk-container-id-1 div.sk-parallel-item:first-child::after {align-self: flex-end;width: 50%;}#sk-container-id-1 div.sk-parallel-item:last-child::after {align-self: flex-start;width: 50%;}#sk-container-id-1 div.sk-parallel-item:only-child::after {width: 0;}#sk-container-id-1 div.sk-dashed-wrapped {border: 1px dashed gray;margin: 0 0.4em 0.5em 0.4em;box-sizing: border-box;padding-bottom: 0.4em;background-color: white;}#sk-container-id-1 div.sk-label label {font-family: monospace;font-weight: bold;display: inline-block;line-height: 1.2em;}#sk-container-id-1 div.sk-label-container {text-align: center;}#sk-container-id-1 div.sk-container {/* jupyter's `normalize.less` sets `[hidden] { display: none; }` but bootstrap.min.css set `[hidden] { display: none !important; }` so we also need the `!important` here to be able to override the default hidden behavior on the sphinx rendered scikit-learn.org. See: https://github.com/scikit-learn/scikit-learn/issues/21755 */display: inline-block !important;position: relative;}#sk-container-id-1 div.sk-text-repr-fallback {display: none;}</style><div id=\"sk-container-id-1\" class=\"sk-top-container\"><div class=\"sk-text-repr-fallback\"><pre>SVR(kernel=&#x27;linear&#x27;, tol=1e-05)</pre><b>In a Jupyter environment, please rerun this cell to show the HTML representation or trust the notebook. <br />On GitHub, the HTML representation is unable to render, please try loading this page with nbviewer.org.</b></div><div class=\"sk-container\" hidden><div class=\"sk-item\"><div class=\"sk-estimator sk-toggleable\"><input class=\"sk-toggleable__control sk-hidden--visually\" id=\"sk-estimator-id-1\" type=\"checkbox\" checked><label for=\"sk-estimator-id-1\" class=\"sk-toggleable__label sk-toggleable__label-arrow\">SVR</label><div class=\"sk-toggleable__content\"><pre>SVR(kernel=&#x27;linear&#x27;, tol=1e-05)</pre></div></div></div></div></div>"
            ],
            "text/plain": [
              "SVR(kernel='linear', tol=1e-05)"
            ]
          },
          "execution_count": 21,
          "metadata": {},
          "output_type": "execute_result"
        },
        {
          "name": "stdout",
          "output_type": "stream",
          "text": [
            "time: 11 s (started: 2024-09-13 13:58:56 +02:00)\n"
          ]
        }
      ],
      "source": [
        "# Model Training:\n",
        "model = svr\n",
        "#Fitting the model according to given data:\n",
        "model.fit(X_train, y_train)"
      ]
    },
    {
      "cell_type": "code",
      "execution_count": 22,
      "metadata": {
        "id": "2H8-Dsm5rThs"
      },
      "outputs": [
        {
          "name": "stdout",
          "output_type": "stream",
          "text": [
            "-----------------------------------\n",
            "SVM Regression Training R^2 Score:  0.9643835749377488\n",
            "-----------------------------------\n",
            "-----------------------------------\n",
            "SVM Regression Validation R^2 Score:  0.9650015833976958\n",
            "-----------------------------------\n",
            "time: 5.38 s (started: 2024-09-13 13:59:07 +02:00)\n"
          ]
        }
      ],
      "source": [
        "#Model Predictions:\n",
        "#------------------\n",
        "scoreTraining = model.score(X_train, y_train)\n",
        "print('-----------------------------------')\n",
        "print('SVM Regression Training R^2 Score: ', scoreTraining)\n",
        "print('-----------------------------------')\n",
        "scoreValidation = model.score(X_test, y_test)\n",
        "print('-----------------------------------')\n",
        "print('SVM Regression Validation R^2 Score: ', scoreValidation)\n",
        "print('-----------------------------------')"
      ]
    },
    {
      "cell_type": "code",
      "execution_count": 23,
      "metadata": {},
      "outputs": [
        {
          "name": "stdout",
          "output_type": "stream",
          "text": [
            "Training MSE: 11217.427077741182\n",
            "Test MSE: 7153.681207650938\n"
          ]
        },
        {
          "data": {
            "image/png": "[encoded data removed]",
            "text/plain": [
              "<Figure size 1000x600 with 1 Axes>"
            ]
          },
          "metadata": {},
          "output_type": "display_data"
        },
        {
          "name": "stdout",
          "output_type": "stream",
          "text": [
            "time: 5.51 s (started: 2024-09-13 13:59:12 +02:00)\n"
          ]
        }
      ],
      "source": [
        "# Predict on training and test sets\n",
        "y_train_pred = svr.predict(X_train)\n",
        "y_test_pred = svr.predict(X_test)\n",
        "\n",
        "# Evaluate the model\n",
        "print(f\"Training MSE: {mean_squared_error(y_train, y_train_pred)}\")\n",
        "print(f\"Test MSE: {mean_squared_error(y_test, y_test_pred)}\")\n",
        "\n",
        "# Plot actual vs predicted\n",
        "plt.figure(figsize=(10, 6))\n",
        "plt.plot(y_test.index, y_test, label='Actual', color='blue', marker='o', linestyle='-', linewidth=2)\n",
        "plt.plot(y_test.index, y_test_pred, label='Predicted', color='red', alpha=0.6, marker='x', linestyle='None')\n",
        "plt.title('SVM Regression: Actual vs Predicted Load')\n",
        "plt.xlabel('Time')\n",
        "plt.ylabel('Load')\n",
        "plt.legend()\n",
        "plt.show()"
      ]
    },
    {
      "cell_type": "markdown",
      "metadata": {
        "id": "-4LBpDaTbQ9p"
      },
      "source": [
        "# ML Algorithms for Forecasting: SVM - II "
      ]
    },
    {
      "cell_type": "markdown",
      "metadata": {
        "id": "IJHDfXY5bQ9s"
      },
      "source": [
        "## Organizing the Feature Matrix"
      ]
    },
    {
      "cell_type": "code",
      "execution_count": 79,
      "metadata": {
        "id": "zACnSYjIbQ9t"
      },
      "outputs": [
        {
          "data": {
            "text/html": [
              "<div>\n",
              "<style scoped>\n",
              "    .dataframe tbody tr th:only-of-type {\n",
              "        vertical-align: middle;\n",
              "    }\n",
              "\n",
              "    .dataframe tbody tr th {\n",
              "        vertical-align: top;\n",
              "    }\n",
              "\n",
              "    .dataframe thead th {\n",
              "        text-align: right;\n",
              "    }\n",
              "</style>\n",
              "<table border=\"1\" class=\"dataframe\">\n",
              "  <thead>\n",
              "    <tr style=\"text-align: right;\">\n",
              "      <th></th>\n",
              "      <th>load</th>\n",
              "      <th>T</th>\n",
              "    </tr>\n",
              "  </thead>\n",
              "  <tbody>\n",
              "    <tr>\n",
              "      <th>2008-09-12 00:00:00</th>\n",
              "      <td>2738.0</td>\n",
              "      <td>61.00</td>\n",
              "    </tr>\n",
              "    <tr>\n",
              "      <th>2012-04-12 21:00:00</th>\n",
              "      <td>3433.0</td>\n",
              "      <td>45.00</td>\n",
              "    </tr>\n",
              "    <tr>\n",
              "      <th>2012-03-07 07:00:00</th>\n",
              "      <td>3454.0</td>\n",
              "      <td>27.67</td>\n",
              "    </tr>\n",
              "  </tbody>\n",
              "</table>\n",
              "</div>"
            ],
            "text/plain": [
              "                       load      T\n",
              "2008-09-12 00:00:00  2738.0  61.00\n",
              "2012-04-12 21:00:00  3433.0  45.00\n",
              "2012-03-07 07:00:00  3454.0  27.67"
            ]
          },
          "execution_count": 79,
          "metadata": {},
          "output_type": "execute_result"
        },
        {
          "name": "stdout",
          "output_type": "stream",
          "text": [
            "time: 0 ns (started: 2024-04-03 09:08:53 +02:00)\n"
          ]
        }
      ],
      "source": [
        "#Checking Data:\n",
        "data.sample(3)"
      ]
    },
    {
      "cell_type": "code",
      "execution_count": 80,
      "metadata": {
        "id": "JKqiDTYQbQ9t"
      },
      "outputs": [
        {
          "name": "stdout",
          "output_type": "stream",
          "text": [
            "<class 'pandas.core.frame.DataFrame'>\n",
            "DatetimeIndex: 78865 entries, 2006-01-01 23:00:00 to 2014-12-31 23:00:00\n",
            "Data columns (total 4 columns):\n",
            " #   Column  Non-Null Count  Dtype  \n",
            "---  ------  --------------  -----  \n",
            " 0   median  78865 non-null  float64\n",
            " 1   std     78865 non-null  float64\n",
            " 2   T       78865 non-null  float64\n",
            " 3   load    78865 non-null  float64\n",
            "dtypes: float64(4)\n",
            "memory usage: 3.0 MB\n",
            "time: 47 ms (started: 2024-04-03 09:08:53 +02:00)\n"
          ]
        }
      ],
      "source": [
        "# We are interested in the 'load' column, but we'll add some statistical features to help our model.\n",
        "load_data = data[['load']]\n",
        "\n",
        "# We define a window width of 24 hours to calculate rolling statistics.\n",
        "width = 24\n",
        "window = load_data.rolling(window=width)\n",
        "\n",
        "# Create a new DataFrame with median and standard deviation of 'load' over the window, and also include the temperature ('T').\n",
        "new_dataframe = pd.concat([window.median(), window.std(), data['T'], data['load']], axis=1)\n",
        "new_dataframe.columns = ['median', 'std', 'T', 'load']\n",
        "\n",
        "# Drop any rows with NaN values that were created as a result of rolling calculations.\n",
        "new_dataframe.dropna(inplace=True) \n",
        "new_dataframe.info()"
      ]
    },
    {
      "cell_type": "code",
      "execution_count": 81,
      "metadata": {
        "id": "QduZ6R3mbQ9u"
      },
      "outputs": [
        {
          "data": {
            "text/html": [
              "<div>\n",
              "<style scoped>\n",
              "    .dataframe tbody tr th:only-of-type {\n",
              "        vertical-align: middle;\n",
              "    }\n",
              "\n",
              "    .dataframe tbody tr th {\n",
              "        vertical-align: top;\n",
              "    }\n",
              "\n",
              "    .dataframe thead th {\n",
              "        text-align: right;\n",
              "    }\n",
              "</style>\n",
              "<table border=\"1\" class=\"dataframe\">\n",
              "  <thead>\n",
              "    <tr style=\"text-align: right;\">\n",
              "      <th></th>\n",
              "      <th>median</th>\n",
              "      <th>std</th>\n",
              "      <th>T</th>\n",
              "      <th>load</th>\n",
              "    </tr>\n",
              "  </thead>\n",
              "  <tbody>\n",
              "    <tr>\n",
              "      <th>2006-01-01 23:00:00</th>\n",
              "      <td>3512.0</td>\n",
              "      <td>471.067697</td>\n",
              "      <td>24.33</td>\n",
              "      <td>3255.0</td>\n",
              "    </tr>\n",
              "  </tbody>\n",
              "</table>\n",
              "</div>"
            ],
            "text/plain": [
              "                     median         std      T    load\n",
              "2006-01-01 23:00:00  3512.0  471.067697  24.33  3255.0"
            ]
          },
          "execution_count": 81,
          "metadata": {},
          "output_type": "execute_result"
        },
        {
          "name": "stdout",
          "output_type": "stream",
          "text": [
            "time: 0 ns (started: 2024-04-03 09:08:53 +02:00)\n"
          ]
        }
      ],
      "source": [
        "new_dataframe.head(1)"
      ]
    },
    {
      "cell_type": "markdown",
      "metadata": {
        "id": "P4R7FqJVbQ9v"
      },
      "source": [
        "## Building the X Matrix and Labels\n",
        "\n",
        "Here we will add the temporal data with sliding intervals in time. Lets first look with an illustration:"
      ]
    },
    {
      "cell_type": "code",
      "execution_count": 82,
      "metadata": {
        "id": "X7B_ORiKbQ9v"
      },
      "outputs": [
        {
          "data": {
            "image/png": "[encoded data removed]",
            "text/plain": [
              "<Figure size 1200x600 with 4 Axes>"
            ]
          },
          "metadata": {},
          "output_type": "display_data"
        },
        {
          "name": "stdout",
          "output_type": "stream",
          "text": [
            "time: 891 ms (started: 2024-04-03 09:08:53 +02:00)\n"
          ]
        }
      ],
      "source": [
        "#finding the indices as integers for time substraction below:\n",
        "start = np.where(new_dataframe.index == '2014-03-01 00:00:00')[0][0]\n",
        "middle = np.where(new_dataframe.index == '2014-03-01 12:00:00')[0][0]\n",
        "end = np.where(new_dataframe.index == '2014-03-02 00:00:00')[0][0]\n",
        "#sliding window width:\n",
        "window = 4\n",
        "#Plotting a sliding interval sample:\n",
        "fig, ax = plt.subplots(nrows=4,sharex=True);\n",
        "for i in range(4): \n",
        "    full = new_dataframe.iloc[start:end]['load']\n",
        "    train = new_dataframe.iloc[middle - i - window:middle - i ]['load']\n",
        "    predict = new_dataframe.iloc[middle - i:middle - i + 1]['load']\n",
        "\n",
        "    ax[3-i].plot((full + 2*i),c='grey', alpha=0.5);\n",
        "    ax[3-i].plot((train + 2*i),c=colors['lightskyblue'], markersize=4,marker='o')\n",
        "    ax[3-i].plot((predict + 2*i),c=colors['midnightblue'], markersize=8,marker='o', linestyle='')\n",
        "\n",
        "ax[0].get_yaxis().set_ticks([]);\n",
        "ax[0].legend(['full time series','$\\mathbf{X}$','$y$'],bbox_to_anchor=(1, 1));"
      ]
    },
    {
      "cell_type": "markdown",
      "metadata": {
        "id": "ltmTKmn6bQ9w"
      },
      "source": [
        "Lets follow the same logic and create our feature matrix A in this way."
      ]
    },
    {
      "cell_type": "code",
      "execution_count": 83,
      "metadata": {},
      "outputs": [
        {
          "name": "stdout",
          "output_type": "stream",
          "text": [
            "time: 0 ns (started: 2024-04-03 09:08:54 +02:00)\n"
          ]
        }
      ],
      "source": [
        "# Step 2: Preparing the Dataset for Modeling\n",
        "# -------------------------------------------\n",
        "\n",
        "# Define the start and end indices for our modeling period.\n",
        "start = np.where(new_dataframe.index == '2012-09-01 00:00:00')[0][0]\n",
        "end = np.where(new_dataframe.index == '2014-11-04 00:00:00')[0][0]\n",
        "\n",
        "# Now we set a wider window for extracting features to use in our SVM model.\n",
        "window = 48  # This should match with your modeling requirement, we're using 48 for illustration."
      ]
    },
    {
      "cell_type": "code",
      "execution_count": 84,
      "metadata": {
        "id": "pApJGypobQ9w"
      },
      "outputs": [
        {
          "name": "stdout",
          "output_type": "stream",
          "text": [
            "time: 1.7 s (started: 2024-04-03 09:08:54 +02:00)\n"
          ]
        }
      ],
      "source": [
        "# Step 3: Initialize lists for features, labels, and column names\n",
        "dataX, dataY, column_names_list = [], [], []\n",
        "\n",
        "for i in range(start,end-window):\n",
        "\n",
        "    # Slice a window of features\n",
        "    dataX.append((new_dataframe.iloc[i:i+window].to_numpy()).ravel())\n",
        "    dataY.append(new_dataframe['load'].iloc[i+window] )\n",
        "\n",
        "for j in range (1,window+1):\n",
        "      column_names_list.append(['median_t_'+str(j),'std_t_'+str(j),'T_t_'+str(j),'load_t_'+str(j)])\n",
        "\n",
        "column_names = itertools.chain(*column_names_list)\n",
        "\n",
        "dataX = pd.DataFrame(dataX, columns=column_names, index=new_dataframe.index[start + window:end])\n",
        "dataY = pd.Series(dataY, name='true_load', index=new_dataframe.index[start + window:end])"
      ]
    },
    {
      "cell_type": "code",
      "execution_count": 85,
      "metadata": {
        "id": "XzAdFLusbQ9x"
      },
      "outputs": [
        {
          "data": {
            "text/html": [
              "<div>\n",
              "<style scoped>\n",
              "    .dataframe tbody tr th:only-of-type {\n",
              "        vertical-align: middle;\n",
              "    }\n",
              "\n",
              "    .dataframe tbody tr th {\n",
              "        vertical-align: top;\n",
              "    }\n",
              "\n",
              "    .dataframe thead th {\n",
              "        text-align: right;\n",
              "    }\n",
              "</style>\n",
              "<table border=\"1\" class=\"dataframe\">\n",
              "  <thead>\n",
              "    <tr style=\"text-align: right;\">\n",
              "      <th></th>\n",
              "      <th>median</th>\n",
              "      <th>std</th>\n",
              "      <th>T</th>\n",
              "      <th>load</th>\n",
              "    </tr>\n",
              "  </thead>\n",
              "  <tbody>\n",
              "    <tr>\n",
              "      <th>2012-09-01 00:00:00</th>\n",
              "      <td>3750.5</td>\n",
              "      <td>593.535976</td>\n",
              "      <td>59.33</td>\n",
              "      <td>2719.0</td>\n",
              "    </tr>\n",
              "    <tr>\n",
              "      <th>2012-09-01 01:00:00</th>\n",
              "      <td>3750.5</td>\n",
              "      <td>588.651369</td>\n",
              "      <td>69.67</td>\n",
              "      <td>2817.0</td>\n",
              "    </tr>\n",
              "    <tr>\n",
              "      <th>2012-09-01 02:00:00</th>\n",
              "      <td>3750.5</td>\n",
              "      <td>584.145753</td>\n",
              "      <td>67.33</td>\n",
              "      <td>2664.0</td>\n",
              "    </tr>\n",
              "    <tr>\n",
              "      <th>2012-09-01 03:00:00</th>\n",
              "      <td>3750.5</td>\n",
              "      <td>580.500794</td>\n",
              "      <td>69.33</td>\n",
              "      <td>2580.0</td>\n",
              "    </tr>\n",
              "    <tr>\n",
              "      <th>2012-09-01 04:00:00</th>\n",
              "      <td>3750.5</td>\n",
              "      <td>577.913412</td>\n",
              "      <td>67.67</td>\n",
              "      <td>2537.0</td>\n",
              "    </tr>\n",
              "    <tr>\n",
              "      <th>2012-09-01 05:00:00</th>\n",
              "      <td>3750.5</td>\n",
              "      <td>581.252095</td>\n",
              "      <td>65.00</td>\n",
              "      <td>2525.0</td>\n",
              "    </tr>\n",
              "  </tbody>\n",
              "</table>\n",
              "</div>"
            ],
            "text/plain": [
              "                     median         std      T    load\n",
              "2012-09-01 00:00:00  3750.5  593.535976  59.33  2719.0\n",
              "2012-09-01 01:00:00  3750.5  588.651369  69.67  2817.0\n",
              "2012-09-01 02:00:00  3750.5  584.145753  67.33  2664.0\n",
              "2012-09-01 03:00:00  3750.5  580.500794  69.33  2580.0\n",
              "2012-09-01 04:00:00  3750.5  577.913412  67.67  2537.0\n",
              "2012-09-01 05:00:00  3750.5  581.252095  65.00  2525.0"
            ]
          },
          "execution_count": 85,
          "metadata": {},
          "output_type": "execute_result"
        },
        {
          "name": "stdout",
          "output_type": "stream",
          "text": [
            "time: 15 ms (started: 2024-04-03 09:08:56 +02:00)\n"
          ]
        }
      ],
      "source": [
        "#Original DF:\n",
        "new_dataframe.loc['2012-09-01 00:00:00':'2012-09-04 00:00:00'].head(6)"
      ]
    },
    {
      "cell_type": "code",
      "execution_count": 86,
      "metadata": {
        "id": "AoUwJ2lGbQ9y"
      },
      "outputs": [
        {
          "data": {
            "text/html": [
              "<div>\n",
              "<style scoped>\n",
              "    .dataframe tbody tr th:only-of-type {\n",
              "        vertical-align: middle;\n",
              "    }\n",
              "\n",
              "    .dataframe tbody tr th {\n",
              "        vertical-align: top;\n",
              "    }\n",
              "\n",
              "    .dataframe thead th {\n",
              "        text-align: right;\n",
              "    }\n",
              "</style>\n",
              "<table border=\"1\" class=\"dataframe\">\n",
              "  <thead>\n",
              "    <tr style=\"text-align: right;\">\n",
              "      <th></th>\n",
              "      <th>median_t_1</th>\n",
              "      <th>std_t_1</th>\n",
              "      <th>T_t_1</th>\n",
              "      <th>load_t_1</th>\n",
              "      <th>median_t_2</th>\n",
              "      <th>std_t_2</th>\n",
              "      <th>T_t_2</th>\n",
              "      <th>load_t_2</th>\n",
              "      <th>median_t_3</th>\n",
              "      <th>std_t_3</th>\n",
              "      <th>...</th>\n",
              "      <th>T_t_46</th>\n",
              "      <th>load_t_46</th>\n",
              "      <th>median_t_47</th>\n",
              "      <th>std_t_47</th>\n",
              "      <th>T_t_47</th>\n",
              "      <th>load_t_47</th>\n",
              "      <th>median_t_48</th>\n",
              "      <th>std_t_48</th>\n",
              "      <th>T_t_48</th>\n",
              "      <th>load_t_48</th>\n",
              "    </tr>\n",
              "  </thead>\n",
              "  <tbody>\n",
              "    <tr>\n",
              "      <th>2012-09-03 00:00:00</th>\n",
              "      <td>3750.5</td>\n",
              "      <td>593.535976</td>\n",
              "      <td>59.33</td>\n",
              "      <td>2719.0</td>\n",
              "      <td>3750.5</td>\n",
              "      <td>588.651369</td>\n",
              "      <td>69.67</td>\n",
              "      <td>2817.0</td>\n",
              "      <td>3750.5</td>\n",
              "      <td>584.145753</td>\n",
              "      <td>...</td>\n",
              "      <td>64.67</td>\n",
              "      <td>3270.0</td>\n",
              "      <td>3107.5</td>\n",
              "      <td>400.451258</td>\n",
              "      <td>62.0</td>\n",
              "      <td>3070.0</td>\n",
              "      <td>3107.5</td>\n",
              "      <td>400.479656</td>\n",
              "      <td>60.00</td>\n",
              "      <td>2825.0</td>\n",
              "    </tr>\n",
              "    <tr>\n",
              "      <th>2012-09-03 01:00:00</th>\n",
              "      <td>3750.5</td>\n",
              "      <td>588.651369</td>\n",
              "      <td>69.67</td>\n",
              "      <td>2817.0</td>\n",
              "      <td>3750.5</td>\n",
              "      <td>584.145753</td>\n",
              "      <td>67.33</td>\n",
              "      <td>2664.0</td>\n",
              "      <td>3750.5</td>\n",
              "      <td>580.500794</td>\n",
              "      <td>...</td>\n",
              "      <td>62.00</td>\n",
              "      <td>3070.0</td>\n",
              "      <td>3107.5</td>\n",
              "      <td>400.479656</td>\n",
              "      <td>60.0</td>\n",
              "      <td>2825.0</td>\n",
              "      <td>3107.5</td>\n",
              "      <td>398.969315</td>\n",
              "      <td>64.67</td>\n",
              "      <td>2630.0</td>\n",
              "    </tr>\n",
              "  </tbody>\n",
              "</table>\n",
              "<p>2 rows × 192 columns</p>\n",
              "</div>"
            ],
            "text/plain": [
              "                     median_t_1     std_t_1  T_t_1  load_t_1  median_t_2  \\\n",
              "2012-09-03 00:00:00      3750.5  593.535976  59.33    2719.0      3750.5   \n",
              "2012-09-03 01:00:00      3750.5  588.651369  69.67    2817.0      3750.5   \n",
              "\n",
              "                        std_t_2  T_t_2  load_t_2  median_t_3     std_t_3  ...  \\\n",
              "2012-09-03 00:00:00  588.651369  69.67    2817.0      3750.5  584.145753  ...   \n",
              "2012-09-03 01:00:00  584.145753  67.33    2664.0      3750.5  580.500794  ...   \n",
              "\n",
              "                     T_t_46  load_t_46  median_t_47    std_t_47  T_t_47  \\\n",
              "2012-09-03 00:00:00   64.67     3270.0       3107.5  400.451258    62.0   \n",
              "2012-09-03 01:00:00   62.00     3070.0       3107.5  400.479656    60.0   \n",
              "\n",
              "                     load_t_47  median_t_48    std_t_48  T_t_48  load_t_48  \n",
              "2012-09-03 00:00:00     3070.0       3107.5  400.479656   60.00     2825.0  \n",
              "2012-09-03 01:00:00     2825.0       3107.5  398.969315   64.67     2630.0  \n",
              "\n",
              "[2 rows x 192 columns]"
            ]
          },
          "execution_count": 86,
          "metadata": {},
          "output_type": "execute_result"
        },
        {
          "name": "stdout",
          "output_type": "stream",
          "text": [
            "time: 0 ns (started: 2024-04-03 09:08:56 +02:00)\n"
          ]
        }
      ],
      "source": [
        "dataX.head(2)"
      ]
    },
    {
      "cell_type": "markdown",
      "metadata": {},
      "source": [
        "--> Please see that 2012-09-03 00:00:00 2630.0 in dataY is the same value for:\n",
        "    2012-09-03 01:00:00 load_t_48 in dataX.\n",
        "    \n",
        "    Alignment: The last value in each dataX row (load_t_48) represents the 'load' at the end of the 48-hour window. The following value (which becomes the corresponding dataY value) is the 'load' you're trying to predict. That's why the dataY value for 2012-09-03 00:00:00 matches the last 'load' feature (load_t_48) for the dataX row starting at 2012-09-03 01:00:00. It signifies that dataY is correctly set as the target 'load' immediately following each feature window in dataX.\n",
        "\n",
        "    Correctness: This setup indicates you've correctly shifted your target variable ('load') by one time step ahead of your features in dataX. This is a common approach in time series forecasting, where the goal is to predict future values based on past observations.\n",
        "\n",
        "    When the window moves forward by one hour (from starting at 2012-09-01 00:00:00 to starting at 2012-09-01 01:00:00), the last value of this new window (load_t_48 for 2012-09-03 01:00:00) becomes the first 'load' value to predict (2012-09-03 00:00:00 in dataY)."
      ]
    },
    {
      "cell_type": "code",
      "execution_count": 87,
      "metadata": {
        "id": "7VQS2OPVbQ9y"
      },
      "outputs": [
        {
          "data": {
            "text/plain": [
              "2012-09-03 00:00:00    2630.0\n",
              "2012-09-03 01:00:00    2403.0\n",
              "Name: true_load, dtype: float64"
            ]
          },
          "execution_count": 87,
          "metadata": {},
          "output_type": "execute_result"
        },
        {
          "name": "stdout",
          "output_type": "stream",
          "text": [
            "time: 0 ns (started: 2024-04-03 09:08:56 +02:00)\n"
          ]
        }
      ],
      "source": [
        "dataY.head(2)"
      ]
    },
    {
      "cell_type": "code",
      "execution_count": 88,
      "metadata": {
        "id": "Az-i2BxqbQ9z"
      },
      "outputs": [
        {
          "name": "stdout",
          "output_type": "stream",
          "text": [
            "time: 16 ms (started: 2024-04-03 09:08:56 +02:00)\n"
          ]
        }
      ],
      "source": [
        "# # Correlation Matrix\n",
        "# correlationMatrix = pd.DataFrame(dataX).corr() \n",
        "\n",
        "# f = plt.figure(figsize=(12, 6))\n",
        "# plt.matshow(correlationMatrix, fignum=f.number)\n",
        "# plt.xticks(range(dataX.shape[1]), dataX.columns, fontsize=14, rotation=75)\n",
        "# plt.yticks(range(dataX.shape[1]), dataX.columns, fontsize=14)\n",
        "# cb = plt.colorbar()\n",
        "# cb.ax.tick_params(labelsize=14)\n",
        "# plt.show()"
      ]
    },
    {
      "cell_type": "code",
      "execution_count": 89,
      "metadata": {
        "id": "IKTdDTqKbQ90"
      },
      "outputs": [
        {
          "data": {
            "text/html": [
              "<div>\n",
              "<style scoped>\n",
              "    .dataframe tbody tr th:only-of-type {\n",
              "        vertical-align: middle;\n",
              "    }\n",
              "\n",
              "    .dataframe tbody tr th {\n",
              "        vertical-align: top;\n",
              "    }\n",
              "\n",
              "    .dataframe thead th {\n",
              "        text-align: right;\n",
              "    }\n",
              "</style>\n",
              "<table border=\"1\" class=\"dataframe\">\n",
              "  <thead>\n",
              "    <tr style=\"text-align: right;\">\n",
              "      <th></th>\n",
              "      <th>median_t_1</th>\n",
              "      <th>std_t_1</th>\n",
              "      <th>T_t_1</th>\n",
              "      <th>load_t_1</th>\n",
              "      <th>median_t_2</th>\n",
              "      <th>std_t_2</th>\n",
              "      <th>T_t_2</th>\n",
              "      <th>load_t_2</th>\n",
              "      <th>median_t_3</th>\n",
              "      <th>std_t_3</th>\n",
              "      <th>...</th>\n",
              "      <th>T_t_46</th>\n",
              "      <th>load_t_46</th>\n",
              "      <th>median_t_47</th>\n",
              "      <th>std_t_47</th>\n",
              "      <th>T_t_47</th>\n",
              "      <th>load_t_47</th>\n",
              "      <th>median_t_48</th>\n",
              "      <th>std_t_48</th>\n",
              "      <th>T_t_48</th>\n",
              "      <th>load_t_48</th>\n",
              "    </tr>\n",
              "  </thead>\n",
              "  <tbody>\n",
              "    <tr>\n",
              "      <th>count</th>\n",
              "      <td>1.900800e+04</td>\n",
              "      <td>1.900800e+04</td>\n",
              "      <td>1.900800e+04</td>\n",
              "      <td>1.900800e+04</td>\n",
              "      <td>1.900800e+04</td>\n",
              "      <td>1.900800e+04</td>\n",
              "      <td>1.900800e+04</td>\n",
              "      <td>1.900800e+04</td>\n",
              "      <td>1.900800e+04</td>\n",
              "      <td>1.900800e+04</td>\n",
              "      <td>...</td>\n",
              "      <td>1.900800e+04</td>\n",
              "      <td>1.900800e+04</td>\n",
              "      <td>1.900800e+04</td>\n",
              "      <td>1.900800e+04</td>\n",
              "      <td>1.900800e+04</td>\n",
              "      <td>1.900800e+04</td>\n",
              "      <td>1.900800e+04</td>\n",
              "      <td>1.900800e+04</td>\n",
              "      <td>1.900800e+04</td>\n",
              "      <td>1.900800e+04</td>\n",
              "    </tr>\n",
              "    <tr>\n",
              "      <th>mean</th>\n",
              "      <td>4.126890e-16</td>\n",
              "      <td>-4.126890e-16</td>\n",
              "      <td>-1.674680e-16</td>\n",
              "      <td>1.226105e-16</td>\n",
              "      <td>1.943825e-16</td>\n",
              "      <td>4.007270e-16</td>\n",
              "      <td>-3.708220e-16</td>\n",
              "      <td>-3.289550e-17</td>\n",
              "      <td>-1.166295e-16</td>\n",
              "      <td>7.177199e-17</td>\n",
              "      <td>...</td>\n",
              "      <td>1.555060e-16</td>\n",
              "      <td>-2.721355e-16</td>\n",
              "      <td>-5.741759e-16</td>\n",
              "      <td>-7.655679e-16</td>\n",
              "      <td>2.870880e-16</td>\n",
              "      <td>-1.854110e-16</td>\n",
              "      <td>6.339859e-16</td>\n",
              "      <td>-1.256010e-16</td>\n",
              "      <td>-2.392400e-17</td>\n",
              "      <td>-1.764395e-16</td>\n",
              "    </tr>\n",
              "    <tr>\n",
              "      <th>std</th>\n",
              "      <td>1.000026e+00</td>\n",
              "      <td>1.000026e+00</td>\n",
              "      <td>1.000026e+00</td>\n",
              "      <td>1.000026e+00</td>\n",
              "      <td>1.000026e+00</td>\n",
              "      <td>1.000026e+00</td>\n",
              "      <td>1.000026e+00</td>\n",
              "      <td>1.000026e+00</td>\n",
              "      <td>1.000026e+00</td>\n",
              "      <td>1.000026e+00</td>\n",
              "      <td>...</td>\n",
              "      <td>1.000026e+00</td>\n",
              "      <td>1.000026e+00</td>\n",
              "      <td>1.000026e+00</td>\n",
              "      <td>1.000026e+00</td>\n",
              "      <td>1.000026e+00</td>\n",
              "      <td>1.000026e+00</td>\n",
              "      <td>1.000026e+00</td>\n",
              "      <td>1.000026e+00</td>\n",
              "      <td>1.000026e+00</td>\n",
              "      <td>1.000026e+00</td>\n",
              "    </tr>\n",
              "    <tr>\n",
              "      <th>min</th>\n",
              "      <td>-2.311026e+00</td>\n",
              "      <td>-2.568864e+00</td>\n",
              "      <td>-3.149160e+00</td>\n",
              "      <td>-2.364007e+00</td>\n",
              "      <td>-2.310945e+00</td>\n",
              "      <td>-2.568901e+00</td>\n",
              "      <td>-3.149111e+00</td>\n",
              "      <td>-2.363968e+00</td>\n",
              "      <td>-2.310863e+00</td>\n",
              "      <td>-2.568927e+00</td>\n",
              "      <td>...</td>\n",
              "      <td>-3.148892e+00</td>\n",
              "      <td>-2.364704e+00</td>\n",
              "      <td>-2.310965e+00</td>\n",
              "      <td>-2.569386e+00</td>\n",
              "      <td>-3.148870e+00</td>\n",
              "      <td>-2.364718e+00</td>\n",
              "      <td>-2.311106e+00</td>\n",
              "      <td>-2.569493e+00</td>\n",
              "      <td>-3.148836e+00</td>\n",
              "      <td>-2.364747e+00</td>\n",
              "    </tr>\n",
              "    <tr>\n",
              "      <th>25%</th>\n",
              "      <td>-6.392120e-01</td>\n",
              "      <td>-6.328903e-01</td>\n",
              "      <td>-7.643083e-01</td>\n",
              "      <td>-7.708135e-01</td>\n",
              "      <td>-6.391302e-01</td>\n",
              "      <td>-6.328301e-01</td>\n",
              "      <td>-7.642519e-01</td>\n",
              "      <td>-7.707941e-01</td>\n",
              "      <td>-6.390483e-01</td>\n",
              "      <td>-6.327681e-01</td>\n",
              "      <td>...</td>\n",
              "      <td>-7.617216e-01</td>\n",
              "      <td>-7.714148e-01</td>\n",
              "      <td>-6.371107e-01</td>\n",
              "      <td>-6.309856e-01</td>\n",
              "      <td>-7.616627e-01</td>\n",
              "      <td>-7.714386e-01</td>\n",
              "      <td>-6.371837e-01</td>\n",
              "      <td>-6.308675e-01</td>\n",
              "      <td>-7.616067e-01</td>\n",
              "      <td>-7.714603e-01</td>\n",
              "    </tr>\n",
              "    <tr>\n",
              "      <th>50%</th>\n",
              "      <td>-1.347291e-01</td>\n",
              "      <td>-1.008269e-01</td>\n",
              "      <td>9.308555e-02</td>\n",
              "      <td>1.184520e-01</td>\n",
              "      <td>-1.354634e-01</td>\n",
              "      <td>-1.008014e-01</td>\n",
              "      <td>9.314447e-02</td>\n",
              "      <td>1.184610e-01</td>\n",
              "      <td>-1.361976e-01</td>\n",
              "      <td>-1.007916e-01</td>\n",
              "      <td>...</td>\n",
              "      <td>7.950615e-02</td>\n",
              "      <td>1.196863e-01</td>\n",
              "      <td>-1.357709e-01</td>\n",
              "      <td>-1.023340e-01</td>\n",
              "      <td>7.957783e-02</td>\n",
              "      <td>1.196574e-01</td>\n",
              "      <td>-1.358235e-01</td>\n",
              "      <td>-1.022454e-01</td>\n",
              "      <td>7.964181e-02</td>\n",
              "      <td>1.196396e-01</td>\n",
              "    </tr>\n",
              "    <tr>\n",
              "      <th>75%</th>\n",
              "      <td>6.215871e-01</td>\n",
              "      <td>4.280362e-01</td>\n",
              "      <td>7.966014e-01</td>\n",
              "      <td>6.798121e-01</td>\n",
              "      <td>6.212612e-01</td>\n",
              "      <td>4.280328e-01</td>\n",
              "      <td>7.966624e-01</td>\n",
              "      <td>6.798144e-01</td>\n",
              "      <td>6.213435e-01</td>\n",
              "      <td>4.278247e-01</td>\n",
              "      <td>...</td>\n",
              "      <td>8.007057e-01</td>\n",
              "      <td>6.792978e-01</td>\n",
              "      <td>6.219543e-01</td>\n",
              "      <td>4.269190e-01</td>\n",
              "      <td>8.007884e-01</td>\n",
              "      <td>6.792656e-01</td>\n",
              "      <td>6.219327e-01</td>\n",
              "      <td>4.268832e-01</td>\n",
              "      <td>8.008591e-01</td>\n",
              "      <td>6.792504e-01</td>\n",
              "    </tr>\n",
              "    <tr>\n",
              "      <th>max</th>\n",
              "      <td>4.123172e+00</td>\n",
              "      <td>4.490247e+00</td>\n",
              "      <td>2.443456e+00</td>\n",
              "      <td>3.418892e+00</td>\n",
              "      <td>4.123255e+00</td>\n",
              "      <td>4.490566e+00</td>\n",
              "      <td>2.443522e+00</td>\n",
              "      <td>3.418862e+00</td>\n",
              "      <td>4.123339e+00</td>\n",
              "      <td>4.490861e+00</td>\n",
              "      <td>...</td>\n",
              "      <td>2.449162e+00</td>\n",
              "      <td>3.418543e+00</td>\n",
              "      <td>4.124801e+00</td>\n",
              "      <td>4.495797e+00</td>\n",
              "      <td>2.449270e+00</td>\n",
              "      <td>3.418495e+00</td>\n",
              "      <td>4.124922e+00</td>\n",
              "      <td>4.495857e+00</td>\n",
              "      <td>2.449356e+00</td>\n",
              "      <td>3.418492e+00</td>\n",
              "    </tr>\n",
              "  </tbody>\n",
              "</table>\n",
              "<p>8 rows × 192 columns</p>\n",
              "</div>"
            ],
            "text/plain": [
              "         median_t_1       std_t_1         T_t_1      load_t_1    median_t_2  \\\n",
              "count  1.900800e+04  1.900800e+04  1.900800e+04  1.900800e+04  1.900800e+04   \n",
              "mean   4.126890e-16 -4.126890e-16 -1.674680e-16  1.226105e-16  1.943825e-16   \n",
              "std    1.000026e+00  1.000026e+00  1.000026e+00  1.000026e+00  1.000026e+00   \n",
              "min   -2.311026e+00 -2.568864e+00 -3.149160e+00 -2.364007e+00 -2.310945e+00   \n",
              "25%   -6.392120e-01 -6.328903e-01 -7.643083e-01 -7.708135e-01 -6.391302e-01   \n",
              "50%   -1.347291e-01 -1.008269e-01  9.308555e-02  1.184520e-01 -1.354634e-01   \n",
              "75%    6.215871e-01  4.280362e-01  7.966014e-01  6.798121e-01  6.212612e-01   \n",
              "max    4.123172e+00  4.490247e+00  2.443456e+00  3.418892e+00  4.123255e+00   \n",
              "\n",
              "            std_t_2         T_t_2      load_t_2    median_t_3       std_t_3  \\\n",
              "count  1.900800e+04  1.900800e+04  1.900800e+04  1.900800e+04  1.900800e+04   \n",
              "mean   4.007270e-16 -3.708220e-16 -3.289550e-17 -1.166295e-16  7.177199e-17   \n",
              "std    1.000026e+00  1.000026e+00  1.000026e+00  1.000026e+00  1.000026e+00   \n",
              "min   -2.568901e+00 -3.149111e+00 -2.363968e+00 -2.310863e+00 -2.568927e+00   \n",
              "25%   -6.328301e-01 -7.642519e-01 -7.707941e-01 -6.390483e-01 -6.327681e-01   \n",
              "50%   -1.008014e-01  9.314447e-02  1.184610e-01 -1.361976e-01 -1.007916e-01   \n",
              "75%    4.280328e-01  7.966624e-01  6.798144e-01  6.213435e-01  4.278247e-01   \n",
              "max    4.490566e+00  2.443522e+00  3.418862e+00  4.123339e+00  4.490861e+00   \n",
              "\n",
              "       ...        T_t_46     load_t_46   median_t_47      std_t_47  \\\n",
              "count  ...  1.900800e+04  1.900800e+04  1.900800e+04  1.900800e+04   \n",
              "mean   ...  1.555060e-16 -2.721355e-16 -5.741759e-16 -7.655679e-16   \n",
              "std    ...  1.000026e+00  1.000026e+00  1.000026e+00  1.000026e+00   \n",
              "min    ... -3.148892e+00 -2.364704e+00 -2.310965e+00 -2.569386e+00   \n",
              "25%    ... -7.617216e-01 -7.714148e-01 -6.371107e-01 -6.309856e-01   \n",
              "50%    ...  7.950615e-02  1.196863e-01 -1.357709e-01 -1.023340e-01   \n",
              "75%    ...  8.007057e-01  6.792978e-01  6.219543e-01  4.269190e-01   \n",
              "max    ...  2.449162e+00  3.418543e+00  4.124801e+00  4.495797e+00   \n",
              "\n",
              "             T_t_47     load_t_47   median_t_48      std_t_48        T_t_48  \\\n",
              "count  1.900800e+04  1.900800e+04  1.900800e+04  1.900800e+04  1.900800e+04   \n",
              "mean   2.870880e-16 -1.854110e-16  6.339859e-16 -1.256010e-16 -2.392400e-17   \n",
              "std    1.000026e+00  1.000026e+00  1.000026e+00  1.000026e+00  1.000026e+00   \n",
              "min   -3.148870e+00 -2.364718e+00 -2.311106e+00 -2.569493e+00 -3.148836e+00   \n",
              "25%   -7.616627e-01 -7.714386e-01 -6.371837e-01 -6.308675e-01 -7.616067e-01   \n",
              "50%    7.957783e-02  1.196574e-01 -1.358235e-01 -1.022454e-01  7.964181e-02   \n",
              "75%    8.007884e-01  6.792656e-01  6.219327e-01  4.268832e-01  8.008591e-01   \n",
              "max    2.449270e+00  3.418495e+00  4.124922e+00  4.495857e+00  2.449356e+00   \n",
              "\n",
              "          load_t_48  \n",
              "count  1.900800e+04  \n",
              "mean  -1.764395e-16  \n",
              "std    1.000026e+00  \n",
              "min   -2.364747e+00  \n",
              "25%   -7.714603e-01  \n",
              "50%    1.196396e-01  \n",
              "75%    6.792504e-01  \n",
              "max    3.418492e+00  \n",
              "\n",
              "[8 rows x 192 columns]"
            ]
          },
          "execution_count": 89,
          "metadata": {},
          "output_type": "execute_result"
        },
        {
          "name": "stdout",
          "output_type": "stream",
          "text": [
            "time: 406 ms (started: 2024-04-03 09:08:56 +02:00)\n"
          ]
        }
      ],
      "source": [
        "#Rescaling the data\n",
        "featuresToScale = dataX.columns\n",
        "sX = pp.StandardScaler(copy=True)\n",
        "dataX.loc[:,featuresToScale] = sX.fit_transform(dataX[featuresToScale])\n",
        "#Looking into the statistics again:\n",
        "dataX.describe()"
      ]
    },
    {
      "cell_type": "code",
      "execution_count": 90,
      "metadata": {
        "id": "8g68z9w3bQ90"
      },
      "outputs": [
        {
          "name": "stdout",
          "output_type": "stream",
          "text": [
            "Train data shape:  (744, 192) (744,)\n",
            "Test data shape:  (72, 192) (72,)\n",
            "time: 16 ms (started: 2024-04-03 09:08:56 +02:00)\n"
          ]
        }
      ],
      "source": [
        "# Train-Test Split:\n",
        "# We will split the data as training and test. No need for validation here. \n",
        "train_start_dt = '2014-10-01'\n",
        "test_start_dt = '2014-11-01'\n",
        "test_end_dt = '2014-11-04'\n",
        "#Lets use the same notation: X_train, X_test, y_train, y_test\n",
        "X_train = dataX.copy()[(dataX.index >= train_start_dt)& (dataX.index < test_start_dt)]\n",
        "y_train = dataY.copy()[(dataY.index >= train_start_dt)& (dataY.index < test_start_dt)]\n",
        "\n",
        "X_test =  dataX.copy()[(dataX.index >= test_start_dt) & (dataX.index < test_end_dt)]\n",
        "y_test =  dataY.copy()[(dataY.index >= test_start_dt) & (dataY.index < test_end_dt)]\n",
        "\n",
        "\n",
        "print('Train data shape: ', X_train.shape, y_train.shape)\n",
        "print('Test data shape: ', X_test.shape, y_test.shape)"
      ]
    },
    {
      "cell_type": "markdown",
      "metadata": {
        "id": "FH6n5qaObQ91"
      },
      "source": [
        "## Model Training and Predictions\n",
        "\n",
        "As we have seen in the lecture, there are 3 important hyperparameters to decide: C, epsilon and kernel. We also need to feed the tol value as we are solving a convex optimization problem."
      ]
    },
    {
      "cell_type": "code",
      "execution_count": 91,
      "metadata": {
        "id": "Acg8X_rCbQ91"
      },
      "outputs": [
        {
          "name": "stdout",
          "output_type": "stream",
          "text": [
            "time: 0 ns (started: 2024-04-03 09:08:56 +02:00)\n"
          ]
        }
      ],
      "source": [
        "# Hyperparameters:\n",
        "# https://scikit-learn.org/stable/modules/generated/sklearn.svm.SVR.html#\n",
        "\n",
        "#__________________________________________________________________________________________\n",
        "#___Notes__________________________________________________________________________________\n",
        "#Radial Basis Function (RBF) kernel, two parameters must be considered: C and gamma. \n",
        "\n",
        "#The parameter C, common to all SVM kernels, trades off misclassification of training examples \n",
        "#against simplicity of the decision surface. \n",
        "#A low C makes the decision surface smooth, while a high C aims at classifying all training examples correctly. \n",
        "#The strength of the regularization is inversely proportional to C. Large C => little regularization; Low C => higher regularization\n",
        "\n",
        "#gamma defines how much influence a single training example has. The larger gamma is, the closer other examples must be to be affected.\n",
        "#__________________________________________________________________________________________\n",
        "\n",
        "kernel='linear' \n",
        "gamma='scale' #Kernel coefficient for ‘rbf’, ‘poly’ and ‘sigmoid’. When scaled, uses 1 / (n_features * X.var()) as value of gamma.\n",
        "C=1.0\n",
        "epsilon=0.1    # Default\n",
        "shrinking=True # Whether to use the shrinking heuristic. \n",
        "tol=0.00001\n",
        "\n",
        "#Setting the model:\n",
        "svr = SVR(kernel= kernel, gamma=gamma, tol=tol, C=C, epsilon=epsilon, shrinking=shrinking)\n",
        " "
      ]
    },
    {
      "cell_type": "code",
      "execution_count": 92,
      "metadata": {
        "id": "4yICQg8ybQ91"
      },
      "outputs": [
        {
          "data": {
            "text/html": [
              "<style>#sk-container-id-2 {color: black;}#sk-container-id-2 pre{padding: 0;}#sk-container-id-2 div.sk-toggleable {background-color: white;}#sk-container-id-2 label.sk-toggleable__label {cursor: pointer;display: block;width: 100%;margin-bottom: 0;padding: 0.3em;box-sizing: border-box;text-align: center;}#sk-container-id-2 label.sk-toggleable__label-arrow:before {content: \"▸\";float: left;margin-right: 0.25em;color: #696969;}#sk-container-id-2 label.sk-toggleable__label-arrow:hover:before {color: black;}#sk-container-id-2 div.sk-estimator:hover label.sk-toggleable__label-arrow:before {color: black;}#sk-container-id-2 div.sk-toggleable__content {max-height: 0;max-width: 0;overflow: hidden;text-align: left;background-color: #f0f8ff;}#sk-container-id-2 div.sk-toggleable__content pre {margin: 0.2em;color: black;border-radius: 0.25em;background-color: #f0f8ff;}#sk-container-id-2 input.sk-toggleable__control:checked~div.sk-toggleable__content {max-height: 200px;max-width: 100%;overflow: auto;}#sk-container-id-2 input.sk-toggleable__control:checked~label.sk-toggleable__label-arrow:before {content: \"▾\";}#sk-container-id-2 div.sk-estimator input.sk-toggleable__control:checked~label.sk-toggleable__label {background-color: #d4ebff;}#sk-container-id-2 div.sk-label input.sk-toggleable__control:checked~label.sk-toggleable__label {background-color: #d4ebff;}#sk-container-id-2 input.sk-hidden--visually {border: 0;clip: rect(1px 1px 1px 1px);clip: rect(1px, 1px, 1px, 1px);height: 1px;margin: -1px;overflow: hidden;padding: 0;position: absolute;width: 1px;}#sk-container-id-2 div.sk-estimator {font-family: monospace;background-color: #f0f8ff;border: 1px dotted black;border-radius: 0.25em;box-sizing: border-box;margin-bottom: 0.5em;}#sk-container-id-2 div.sk-estimator:hover {background-color: #d4ebff;}#sk-container-id-2 div.sk-parallel-item::after {content: \"\";width: 100%;border-bottom: 1px solid gray;flex-grow: 1;}#sk-container-id-2 div.sk-label:hover label.sk-toggleable__label {background-color: #d4ebff;}#sk-container-id-2 div.sk-serial::before {content: \"\";position: absolute;border-left: 1px solid gray;box-sizing: border-box;top: 0;bottom: 0;left: 50%;z-index: 0;}#sk-container-id-2 div.sk-serial {display: flex;flex-direction: column;align-items: center;background-color: white;padding-right: 0.2em;padding-left: 0.2em;position: relative;}#sk-container-id-2 div.sk-item {position: relative;z-index: 1;}#sk-container-id-2 div.sk-parallel {display: flex;align-items: stretch;justify-content: center;background-color: white;position: relative;}#sk-container-id-2 div.sk-item::before, #sk-container-id-2 div.sk-parallel-item::before {content: \"\";position: absolute;border-left: 1px solid gray;box-sizing: border-box;top: 0;bottom: 0;left: 50%;z-index: -1;}#sk-container-id-2 div.sk-parallel-item {display: flex;flex-direction: column;z-index: 1;position: relative;background-color: white;}#sk-container-id-2 div.sk-parallel-item:first-child::after {align-self: flex-end;width: 50%;}#sk-container-id-2 div.sk-parallel-item:last-child::after {align-self: flex-start;width: 50%;}#sk-container-id-2 div.sk-parallel-item:only-child::after {width: 0;}#sk-container-id-2 div.sk-dashed-wrapped {border: 1px dashed gray;margin: 0 0.4em 0.5em 0.4em;box-sizing: border-box;padding-bottom: 0.4em;background-color: white;}#sk-container-id-2 div.sk-label label {font-family: monospace;font-weight: bold;display: inline-block;line-height: 1.2em;}#sk-container-id-2 div.sk-label-container {text-align: center;}#sk-container-id-2 div.sk-container {/* jupyter's `normalize.less` sets `[hidden] { display: none; }` but bootstrap.min.css set `[hidden] { display: none !important; }` so we also need the `!important` here to be able to override the default hidden behavior on the sphinx rendered scikit-learn.org. See: https://github.com/scikit-learn/scikit-learn/issues/21755 */display: inline-block !important;position: relative;}#sk-container-id-2 div.sk-text-repr-fallback {display: none;}</style><div id=\"sk-container-id-2\" class=\"sk-top-container\"><div class=\"sk-text-repr-fallback\"><pre>SVR(kernel=&#x27;linear&#x27;, tol=1e-05)</pre><b>In a Jupyter environment, please rerun this cell to show the HTML representation or trust the notebook. <br />On GitHub, the HTML representation is unable to render, please try loading this page with nbviewer.org.</b></div><div class=\"sk-container\" hidden><div class=\"sk-item\"><div class=\"sk-estimator sk-toggleable\"><input class=\"sk-toggleable__control sk-hidden--visually\" id=\"sk-estimator-id-2\" type=\"checkbox\" checked><label for=\"sk-estimator-id-2\" class=\"sk-toggleable__label sk-toggleable__label-arrow\">SVR</label><div class=\"sk-toggleable__content\"><pre>SVR(kernel=&#x27;linear&#x27;, tol=1e-05)</pre></div></div></div></div></div>"
            ],
            "text/plain": [
              "SVR(kernel='linear', tol=1e-05)"
            ]
          },
          "execution_count": 92,
          "metadata": {},
          "output_type": "execute_result"
        },
        {
          "name": "stdout",
          "output_type": "stream",
          "text": [
            "time: 31 ms (started: 2024-04-03 09:08:56 +02:00)\n"
          ]
        }
      ],
      "source": [
        "# Model Training:\n",
        "model = svr\n",
        "#Fitting the model according to given data:\n",
        "model.fit(X_train, y_train)"
      ]
    },
    {
      "cell_type": "code",
      "execution_count": 93,
      "metadata": {
        "id": "oRKDp1uobQ91"
      },
      "outputs": [
        {
          "name": "stdout",
          "output_type": "stream",
          "text": [
            "-----------------------------------\n",
            "SVM Regression Validation R^2 Score:  0.9235792821874811\n",
            "-----------------------------------\n",
            "time: 15 ms (started: 2024-04-03 09:08:57 +02:00)\n"
          ]
        }
      ],
      "source": [
        "#Model Predictions:\n",
        "#------------------\n",
        "#scoreTraining = model.score(X_train, y_train)\n",
        "#print('-----------------------------------')\n",
        "#print('SVM Regression Training R^2 Score: ', scoreTraining)\n",
        "#print('-----------------------------------')\n",
        "scoreValidation = model.score(X_test, y_test)\n",
        "print('-----------------------------------')\n",
        "print('SVM Regression Validation R^2 Score: ', scoreValidation)\n",
        "print('-----------------------------------')"
      ]
    },
    {
      "cell_type": "code",
      "execution_count": 94,
      "metadata": {
        "id": "nmg_ORSpbQ91"
      },
      "outputs": [
        {
          "name": "stdout",
          "output_type": "stream",
          "text": [
            "Training MSE: 8019.511874017614\n",
            "Test MSE: 15620.405320125794\n"
          ]
        },
        {
          "data": {
            "image/png": "[encoded data removed]",
            "text/plain": [
              "<Figure size 1000x600 with 1 Axes>"
            ]
          },
          "metadata": {},
          "output_type": "display_data"
        },
        {
          "name": "stdout",
          "output_type": "stream",
          "text": [
            "time: 234 ms (started: 2024-04-03 09:08:57 +02:00)\n"
          ]
        }
      ],
      "source": [
        "# Predict on training and test sets\n",
        "y_train_pred = svr.predict(X_train)\n",
        "y_test_pred = svr.predict(X_test)\n",
        "\n",
        "# Evaluate the model\n",
        "print(f\"Training MSE: {mean_squared_error(y_train, y_train_pred)}\")\n",
        "print(f\"Test MSE: {mean_squared_error(y_test, y_test_pred)}\")\n",
        "\n",
        "# Plot actual vs predicted\n",
        "plt.figure(figsize=(10, 6))\n",
        "plt.plot(y_test.index, y_test, label='Actual', color='blue', marker='o', linestyle='-', linewidth=2)\n",
        "plt.plot(y_test.index, y_test_pred, label='Predicted', color='red', alpha=0.6, marker='x', linestyle='None')\n",
        "plt.title('SVM Regression: Actual vs Predicted Load')\n",
        "plt.xlabel('Time')\n",
        "plt.ylabel('Load')\n",
        "plt.legend()\n",
        "plt.show()"
      ]
    },
    {
      "cell_type": "markdown",
      "metadata": {
        "id": "gkszZC5_7zRW"
      },
      "source": [
        "### Forecasting further in time...\n",
        "\n",
        "Lets use the SVM to predict further horizons by just using the training wisdom. Here we will follow a similar anology. We need to update the passed information about the past as we progress. Here, it is a bit more difficult as we need to update the created features as well. Lets see how it can be implemented."
      ]
    },
    {
      "cell_type": "code",
      "execution_count": 95,
      "metadata": {
        "id": "FVxHoPDCLlQu"
      },
      "outputs": [
        {
          "data": {
            "text/html": [
              "<div>\n",
              "<style scoped>\n",
              "    .dataframe tbody tr th:only-of-type {\n",
              "        vertical-align: middle;\n",
              "    }\n",
              "\n",
              "    .dataframe tbody tr th {\n",
              "        vertical-align: top;\n",
              "    }\n",
              "\n",
              "    .dataframe thead th {\n",
              "        text-align: right;\n",
              "    }\n",
              "</style>\n",
              "<table border=\"1\" class=\"dataframe\">\n",
              "  <thead>\n",
              "    <tr style=\"text-align: right;\">\n",
              "      <th></th>\n",
              "      <th>load</th>\n",
              "      <th>T</th>\n",
              "    </tr>\n",
              "  </thead>\n",
              "  <tbody>\n",
              "    <tr>\n",
              "      <th>2008-04-22 17:00:00</th>\n",
              "      <td>3394.0</td>\n",
              "      <td>72.33</td>\n",
              "    </tr>\n",
              "    <tr>\n",
              "      <th>2009-07-26 07:00:00</th>\n",
              "      <td>2553.0</td>\n",
              "      <td>67.33</td>\n",
              "    </tr>\n",
              "    <tr>\n",
              "      <th>2013-10-03 04:00:00</th>\n",
              "      <td>2267.0</td>\n",
              "      <td>53.33</td>\n",
              "    </tr>\n",
              "  </tbody>\n",
              "</table>\n",
              "</div>"
            ],
            "text/plain": [
              "                       load      T\n",
              "2008-04-22 17:00:00  3394.0  72.33\n",
              "2009-07-26 07:00:00  2553.0  67.33\n",
              "2013-10-03 04:00:00  2267.0  53.33"
            ]
          },
          "execution_count": 95,
          "metadata": {},
          "output_type": "execute_result"
        },
        {
          "name": "stdout",
          "output_type": "stream",
          "text": [
            "time: 16 ms (started: 2024-04-03 09:08:57 +02:00)\n"
          ]
        }
      ],
      "source": [
        "#Checking Data:\n",
        "data.sample(3)"
      ]
    },
    {
      "cell_type": "code",
      "execution_count": 96,
      "metadata": {
        "id": "k5oV65n1LlQw"
      },
      "outputs": [
        {
          "name": "stdout",
          "output_type": "stream",
          "text": [
            "<class 'pandas.core.frame.DataFrame'>\n",
            "DatetimeIndex: 78865 entries, 2006-01-01 23:00:00 to 2014-12-31 23:00:00\n",
            "Data columns (total 4 columns):\n",
            " #   Column  Non-Null Count  Dtype  \n",
            "---  ------  --------------  -----  \n",
            " 0   median  78865 non-null  float64\n",
            " 1   std     78865 non-null  float64\n",
            " 2   T       78865 non-null  float64\n",
            " 3   load    78865 non-null  float64\n",
            "dtypes: float64(4)\n",
            "memory usage: 3.0 MB\n",
            "time: 63 ms (started: 2024-04-03 09:08:57 +02:00)\n"
          ]
        }
      ],
      "source": [
        "# Step 1: Feature Engineering\n",
        "# ---------------------------\n",
        "# Extract only the 'load' data for statistical feature generation.\n",
        "load_data = data[['load']]\n",
        "\n",
        "# Set the rolling window width to 24 hours for calculating rolling statistics.\n",
        "width = 24\n",
        "window = load_data.rolling(window=width)\n",
        "\n",
        "# Create a new DataFrame that includes rolling statistics and temperature data.\n",
        "new_dataframe = pd.concat([window.median(), window.std(), data['T'], data['load']], axis=1)\n",
        "new_dataframe.columns = ['median', 'std', 'T', 'load']\n",
        "new_dataframe.dropna(inplace=True)\n",
        "new_dataframe.info()"
      ]
    },
    {
      "cell_type": "code",
      "execution_count": 97,
      "metadata": {
        "id": "sCVbE3QlLlQx"
      },
      "outputs": [
        {
          "data": {
            "text/html": [
              "<div>\n",
              "<style scoped>\n",
              "    .dataframe tbody tr th:only-of-type {\n",
              "        vertical-align: middle;\n",
              "    }\n",
              "\n",
              "    .dataframe tbody tr th {\n",
              "        vertical-align: top;\n",
              "    }\n",
              "\n",
              "    .dataframe thead th {\n",
              "        text-align: right;\n",
              "    }\n",
              "</style>\n",
              "<table border=\"1\" class=\"dataframe\">\n",
              "  <thead>\n",
              "    <tr style=\"text-align: right;\">\n",
              "      <th></th>\n",
              "      <th>median</th>\n",
              "      <th>std</th>\n",
              "      <th>T</th>\n",
              "      <th>load</th>\n",
              "    </tr>\n",
              "  </thead>\n",
              "  <tbody>\n",
              "    <tr>\n",
              "      <th>2006-01-01 23:00:00</th>\n",
              "      <td>3512.0</td>\n",
              "      <td>471.067697</td>\n",
              "      <td>24.33</td>\n",
              "      <td>3255.0</td>\n",
              "    </tr>\n",
              "  </tbody>\n",
              "</table>\n",
              "</div>"
            ],
            "text/plain": [
              "                     median         std      T    load\n",
              "2006-01-01 23:00:00  3512.0  471.067697  24.33  3255.0"
            ]
          },
          "execution_count": 97,
          "metadata": {},
          "output_type": "execute_result"
        },
        {
          "name": "stdout",
          "output_type": "stream",
          "text": [
            "time: 0 ns (started: 2024-04-03 09:08:57 +02:00)\n"
          ]
        }
      ],
      "source": [
        "new_dataframe.head(1)"
      ]
    },
    {
      "cell_type": "code",
      "execution_count": 98,
      "metadata": {},
      "outputs": [
        {
          "name": "stdout",
          "output_type": "stream",
          "text": [
            "time: 1.91 s (started: 2024-04-03 09:08:57 +02:00)\n"
          ]
        }
      ],
      "source": [
        "#finding the indices as integers for time substraction below:\n",
        "start = np.where(new_dataframe.index == '2012-09-01 00:00:00')[0][0]\n",
        "end = np.where(new_dataframe.index == '2014-11-04 00:00:00')[0][0]\n",
        "#setting windows width:\n",
        "window = 48\n",
        "#emply datalist\n",
        "\n",
        "# Step 3: Initialize lists for features, labels, and column names\n",
        "dataX, dataY, column_names_list = [], [], []\n",
        "\n",
        "for i in range(start,end-window):\n",
        "\n",
        "    # Slice a window of features\n",
        "    dataX.append((new_dataframe.iloc[i:i+window].to_numpy()).ravel())\n",
        "    dataY.append(new_dataframe['load'].iloc[i+window] )\n",
        "\n",
        "for j in range (1,window+1):\n",
        "      column_names_list.append(['median_t_'+str(j),'std_t_'+str(j),'T_t_'+str(j),'load_t_'+str(j)])\n",
        "\n",
        "column_names = itertools.chain(*column_names_list)\n",
        "\n",
        "dataX = pd.DataFrame(dataX, columns=column_names, index=new_dataframe.index[start + window:end])\n",
        "dataY = pd.Series(dataY, name='true_load', index=new_dataframe.index[start + window:end])"
      ]
    },
    {
      "cell_type": "code",
      "execution_count": 99,
      "metadata": {
        "id": "ONMxRdV_LlQx"
      },
      "outputs": [
        {
          "data": {
            "text/html": [
              "<div>\n",
              "<style scoped>\n",
              "    .dataframe tbody tr th:only-of-type {\n",
              "        vertical-align: middle;\n",
              "    }\n",
              "\n",
              "    .dataframe tbody tr th {\n",
              "        vertical-align: top;\n",
              "    }\n",
              "\n",
              "    .dataframe thead th {\n",
              "        text-align: right;\n",
              "    }\n",
              "</style>\n",
              "<table border=\"1\" class=\"dataframe\">\n",
              "  <thead>\n",
              "    <tr style=\"text-align: right;\">\n",
              "      <th></th>\n",
              "      <th>median</th>\n",
              "      <th>std</th>\n",
              "      <th>T</th>\n",
              "      <th>load</th>\n",
              "    </tr>\n",
              "  </thead>\n",
              "  <tbody>\n",
              "    <tr>\n",
              "      <th>2012-09-01 00:00:00</th>\n",
              "      <td>3750.5</td>\n",
              "      <td>593.535976</td>\n",
              "      <td>59.33</td>\n",
              "      <td>2719.0</td>\n",
              "    </tr>\n",
              "    <tr>\n",
              "      <th>2012-09-01 01:00:00</th>\n",
              "      <td>3750.5</td>\n",
              "      <td>588.651369</td>\n",
              "      <td>69.67</td>\n",
              "      <td>2817.0</td>\n",
              "    </tr>\n",
              "    <tr>\n",
              "      <th>2012-09-01 02:00:00</th>\n",
              "      <td>3750.5</td>\n",
              "      <td>584.145753</td>\n",
              "      <td>67.33</td>\n",
              "      <td>2664.0</td>\n",
              "    </tr>\n",
              "    <tr>\n",
              "      <th>2012-09-01 03:00:00</th>\n",
              "      <td>3750.5</td>\n",
              "      <td>580.500794</td>\n",
              "      <td>69.33</td>\n",
              "      <td>2580.0</td>\n",
              "    </tr>\n",
              "    <tr>\n",
              "      <th>2012-09-01 04:00:00</th>\n",
              "      <td>3750.5</td>\n",
              "      <td>577.913412</td>\n",
              "      <td>67.67</td>\n",
              "      <td>2537.0</td>\n",
              "    </tr>\n",
              "    <tr>\n",
              "      <th>2012-09-01 05:00:00</th>\n",
              "      <td>3750.5</td>\n",
              "      <td>581.252095</td>\n",
              "      <td>65.00</td>\n",
              "      <td>2525.0</td>\n",
              "    </tr>\n",
              "  </tbody>\n",
              "</table>\n",
              "</div>"
            ],
            "text/plain": [
              "                     median         std      T    load\n",
              "2012-09-01 00:00:00  3750.5  593.535976  59.33  2719.0\n",
              "2012-09-01 01:00:00  3750.5  588.651369  69.67  2817.0\n",
              "2012-09-01 02:00:00  3750.5  584.145753  67.33  2664.0\n",
              "2012-09-01 03:00:00  3750.5  580.500794  69.33  2580.0\n",
              "2012-09-01 04:00:00  3750.5  577.913412  67.67  2537.0\n",
              "2012-09-01 05:00:00  3750.5  581.252095  65.00  2525.0"
            ]
          },
          "execution_count": 99,
          "metadata": {},
          "output_type": "execute_result"
        },
        {
          "name": "stdout",
          "output_type": "stream",
          "text": [
            "time: 16 ms (started: 2024-04-03 09:08:59 +02:00)\n"
          ]
        }
      ],
      "source": [
        "#Original DF:\n",
        "new_dataframe.loc['2012-09-01 00:00:00':'2012-09-04 00:00:00'].head(6)"
      ]
    },
    {
      "cell_type": "code",
      "execution_count": 100,
      "metadata": {
        "id": "KPJaDYEjLlQy"
      },
      "outputs": [
        {
          "data": {
            "text/html": [
              "<div>\n",
              "<style scoped>\n",
              "    .dataframe tbody tr th:only-of-type {\n",
              "        vertical-align: middle;\n",
              "    }\n",
              "\n",
              "    .dataframe tbody tr th {\n",
              "        vertical-align: top;\n",
              "    }\n",
              "\n",
              "    .dataframe thead th {\n",
              "        text-align: right;\n",
              "    }\n",
              "</style>\n",
              "<table border=\"1\" class=\"dataframe\">\n",
              "  <thead>\n",
              "    <tr style=\"text-align: right;\">\n",
              "      <th></th>\n",
              "      <th>median_t_1</th>\n",
              "      <th>std_t_1</th>\n",
              "      <th>T_t_1</th>\n",
              "      <th>load_t_1</th>\n",
              "      <th>median_t_2</th>\n",
              "      <th>std_t_2</th>\n",
              "      <th>T_t_2</th>\n",
              "      <th>load_t_2</th>\n",
              "      <th>median_t_3</th>\n",
              "      <th>std_t_3</th>\n",
              "      <th>...</th>\n",
              "      <th>T_t_46</th>\n",
              "      <th>load_t_46</th>\n",
              "      <th>median_t_47</th>\n",
              "      <th>std_t_47</th>\n",
              "      <th>T_t_47</th>\n",
              "      <th>load_t_47</th>\n",
              "      <th>median_t_48</th>\n",
              "      <th>std_t_48</th>\n",
              "      <th>T_t_48</th>\n",
              "      <th>load_t_48</th>\n",
              "    </tr>\n",
              "  </thead>\n",
              "  <tbody>\n",
              "    <tr>\n",
              "      <th>2012-09-03 00:00:00</th>\n",
              "      <td>3750.5</td>\n",
              "      <td>593.535976</td>\n",
              "      <td>59.33</td>\n",
              "      <td>2719.0</td>\n",
              "      <td>3750.5</td>\n",
              "      <td>588.651369</td>\n",
              "      <td>69.67</td>\n",
              "      <td>2817.0</td>\n",
              "      <td>3750.5</td>\n",
              "      <td>584.145753</td>\n",
              "      <td>...</td>\n",
              "      <td>64.67</td>\n",
              "      <td>3270.0</td>\n",
              "      <td>3107.5</td>\n",
              "      <td>400.451258</td>\n",
              "      <td>62.0</td>\n",
              "      <td>3070.0</td>\n",
              "      <td>3107.5</td>\n",
              "      <td>400.479656</td>\n",
              "      <td>60.00</td>\n",
              "      <td>2825.0</td>\n",
              "    </tr>\n",
              "    <tr>\n",
              "      <th>2012-09-03 01:00:00</th>\n",
              "      <td>3750.5</td>\n",
              "      <td>588.651369</td>\n",
              "      <td>69.67</td>\n",
              "      <td>2817.0</td>\n",
              "      <td>3750.5</td>\n",
              "      <td>584.145753</td>\n",
              "      <td>67.33</td>\n",
              "      <td>2664.0</td>\n",
              "      <td>3750.5</td>\n",
              "      <td>580.500794</td>\n",
              "      <td>...</td>\n",
              "      <td>62.00</td>\n",
              "      <td>3070.0</td>\n",
              "      <td>3107.5</td>\n",
              "      <td>400.479656</td>\n",
              "      <td>60.0</td>\n",
              "      <td>2825.0</td>\n",
              "      <td>3107.5</td>\n",
              "      <td>398.969315</td>\n",
              "      <td>64.67</td>\n",
              "      <td>2630.0</td>\n",
              "    </tr>\n",
              "  </tbody>\n",
              "</table>\n",
              "<p>2 rows × 192 columns</p>\n",
              "</div>"
            ],
            "text/plain": [
              "                     median_t_1     std_t_1  T_t_1  load_t_1  median_t_2  \\\n",
              "2012-09-03 00:00:00      3750.5  593.535976  59.33    2719.0      3750.5   \n",
              "2012-09-03 01:00:00      3750.5  588.651369  69.67    2817.0      3750.5   \n",
              "\n",
              "                        std_t_2  T_t_2  load_t_2  median_t_3     std_t_3  ...  \\\n",
              "2012-09-03 00:00:00  588.651369  69.67    2817.0      3750.5  584.145753  ...   \n",
              "2012-09-03 01:00:00  584.145753  67.33    2664.0      3750.5  580.500794  ...   \n",
              "\n",
              "                     T_t_46  load_t_46  median_t_47    std_t_47  T_t_47  \\\n",
              "2012-09-03 00:00:00   64.67     3270.0       3107.5  400.451258    62.0   \n",
              "2012-09-03 01:00:00   62.00     3070.0       3107.5  400.479656    60.0   \n",
              "\n",
              "                     load_t_47  median_t_48    std_t_48  T_t_48  load_t_48  \n",
              "2012-09-03 00:00:00     3070.0       3107.5  400.479656   60.00     2825.0  \n",
              "2012-09-03 01:00:00     2825.0       3107.5  398.969315   64.67     2630.0  \n",
              "\n",
              "[2 rows x 192 columns]"
            ]
          },
          "execution_count": 100,
          "metadata": {},
          "output_type": "execute_result"
        },
        {
          "name": "stdout",
          "output_type": "stream",
          "text": [
            "time: 15 ms (started: 2024-04-03 09:08:59 +02:00)\n"
          ]
        }
      ],
      "source": [
        "dataX.head(2)"
      ]
    },
    {
      "cell_type": "code",
      "execution_count": 101,
      "metadata": {
        "id": "BG9oqMvpLlQz"
      },
      "outputs": [
        {
          "data": {
            "text/plain": [
              "2012-09-03 00:00:00    2630.0\n",
              "2012-09-03 01:00:00    2403.0\n",
              "Name: true_load, dtype: float64"
            ]
          },
          "execution_count": 101,
          "metadata": {},
          "output_type": "execute_result"
        },
        {
          "name": "stdout",
          "output_type": "stream",
          "text": [
            "time: 15 ms (started: 2024-04-03 09:08:59 +02:00)\n"
          ]
        }
      ],
      "source": [
        "dataY.head(2)"
      ]
    },
    {
      "cell_type": "code",
      "execution_count": 102,
      "metadata": {
        "id": "0W6M7BAULlQz"
      },
      "outputs": [
        {
          "data": {
            "text/html": [
              "<div>\n",
              "<style scoped>\n",
              "    .dataframe tbody tr th:only-of-type {\n",
              "        vertical-align: middle;\n",
              "    }\n",
              "\n",
              "    .dataframe tbody tr th {\n",
              "        vertical-align: top;\n",
              "    }\n",
              "\n",
              "    .dataframe thead th {\n",
              "        text-align: right;\n",
              "    }\n",
              "</style>\n",
              "<table border=\"1\" class=\"dataframe\">\n",
              "  <thead>\n",
              "    <tr style=\"text-align: right;\">\n",
              "      <th></th>\n",
              "      <th>median_t_1</th>\n",
              "      <th>std_t_1</th>\n",
              "      <th>T_t_1</th>\n",
              "      <th>load_t_1</th>\n",
              "      <th>median_t_2</th>\n",
              "      <th>std_t_2</th>\n",
              "      <th>T_t_2</th>\n",
              "      <th>load_t_2</th>\n",
              "      <th>median_t_3</th>\n",
              "      <th>std_t_3</th>\n",
              "      <th>...</th>\n",
              "      <th>T_t_46</th>\n",
              "      <th>load_t_46</th>\n",
              "      <th>median_t_47</th>\n",
              "      <th>std_t_47</th>\n",
              "      <th>T_t_47</th>\n",
              "      <th>load_t_47</th>\n",
              "      <th>median_t_48</th>\n",
              "      <th>std_t_48</th>\n",
              "      <th>T_t_48</th>\n",
              "      <th>load_t_48</th>\n",
              "    </tr>\n",
              "  </thead>\n",
              "  <tbody>\n",
              "    <tr>\n",
              "      <th>count</th>\n",
              "      <td>1.900800e+04</td>\n",
              "      <td>1.900800e+04</td>\n",
              "      <td>1.900800e+04</td>\n",
              "      <td>1.900800e+04</td>\n",
              "      <td>1.900800e+04</td>\n",
              "      <td>1.900800e+04</td>\n",
              "      <td>1.900800e+04</td>\n",
              "      <td>1.900800e+04</td>\n",
              "      <td>1.900800e+04</td>\n",
              "      <td>1.900800e+04</td>\n",
              "      <td>...</td>\n",
              "      <td>1.900800e+04</td>\n",
              "      <td>1.900800e+04</td>\n",
              "      <td>1.900800e+04</td>\n",
              "      <td>1.900800e+04</td>\n",
              "      <td>1.900800e+04</td>\n",
              "      <td>1.900800e+04</td>\n",
              "      <td>1.900800e+04</td>\n",
              "      <td>1.900800e+04</td>\n",
              "      <td>1.900800e+04</td>\n",
              "      <td>1.900800e+04</td>\n",
              "    </tr>\n",
              "    <tr>\n",
              "      <th>mean</th>\n",
              "      <td>4.126890e-16</td>\n",
              "      <td>-4.126890e-16</td>\n",
              "      <td>-1.674680e-16</td>\n",
              "      <td>1.226105e-16</td>\n",
              "      <td>1.943825e-16</td>\n",
              "      <td>4.007270e-16</td>\n",
              "      <td>-3.708220e-16</td>\n",
              "      <td>-3.289550e-17</td>\n",
              "      <td>-1.166295e-16</td>\n",
              "      <td>7.177199e-17</td>\n",
              "      <td>...</td>\n",
              "      <td>1.555060e-16</td>\n",
              "      <td>-2.721355e-16</td>\n",
              "      <td>-5.741759e-16</td>\n",
              "      <td>-7.655679e-16</td>\n",
              "      <td>2.870880e-16</td>\n",
              "      <td>-1.854110e-16</td>\n",
              "      <td>6.339859e-16</td>\n",
              "      <td>-1.256010e-16</td>\n",
              "      <td>-2.392400e-17</td>\n",
              "      <td>-1.764395e-16</td>\n",
              "    </tr>\n",
              "    <tr>\n",
              "      <th>std</th>\n",
              "      <td>1.000026e+00</td>\n",
              "      <td>1.000026e+00</td>\n",
              "      <td>1.000026e+00</td>\n",
              "      <td>1.000026e+00</td>\n",
              "      <td>1.000026e+00</td>\n",
              "      <td>1.000026e+00</td>\n",
              "      <td>1.000026e+00</td>\n",
              "      <td>1.000026e+00</td>\n",
              "      <td>1.000026e+00</td>\n",
              "      <td>1.000026e+00</td>\n",
              "      <td>...</td>\n",
              "      <td>1.000026e+00</td>\n",
              "      <td>1.000026e+00</td>\n",
              "      <td>1.000026e+00</td>\n",
              "      <td>1.000026e+00</td>\n",
              "      <td>1.000026e+00</td>\n",
              "      <td>1.000026e+00</td>\n",
              "      <td>1.000026e+00</td>\n",
              "      <td>1.000026e+00</td>\n",
              "      <td>1.000026e+00</td>\n",
              "      <td>1.000026e+00</td>\n",
              "    </tr>\n",
              "    <tr>\n",
              "      <th>min</th>\n",
              "      <td>-2.311026e+00</td>\n",
              "      <td>-2.568864e+00</td>\n",
              "      <td>-3.149160e+00</td>\n",
              "      <td>-2.364007e+00</td>\n",
              "      <td>-2.310945e+00</td>\n",
              "      <td>-2.568901e+00</td>\n",
              "      <td>-3.149111e+00</td>\n",
              "      <td>-2.363968e+00</td>\n",
              "      <td>-2.310863e+00</td>\n",
              "      <td>-2.568927e+00</td>\n",
              "      <td>...</td>\n",
              "      <td>-3.148892e+00</td>\n",
              "      <td>-2.364704e+00</td>\n",
              "      <td>-2.310965e+00</td>\n",
              "      <td>-2.569386e+00</td>\n",
              "      <td>-3.148870e+00</td>\n",
              "      <td>-2.364718e+00</td>\n",
              "      <td>-2.311106e+00</td>\n",
              "      <td>-2.569493e+00</td>\n",
              "      <td>-3.148836e+00</td>\n",
              "      <td>-2.364747e+00</td>\n",
              "    </tr>\n",
              "    <tr>\n",
              "      <th>25%</th>\n",
              "      <td>-6.392120e-01</td>\n",
              "      <td>-6.328903e-01</td>\n",
              "      <td>-7.643083e-01</td>\n",
              "      <td>-7.708135e-01</td>\n",
              "      <td>-6.391302e-01</td>\n",
              "      <td>-6.328301e-01</td>\n",
              "      <td>-7.642519e-01</td>\n",
              "      <td>-7.707941e-01</td>\n",
              "      <td>-6.390483e-01</td>\n",
              "      <td>-6.327681e-01</td>\n",
              "      <td>...</td>\n",
              "      <td>-7.617216e-01</td>\n",
              "      <td>-7.714148e-01</td>\n",
              "      <td>-6.371107e-01</td>\n",
              "      <td>-6.309856e-01</td>\n",
              "      <td>-7.616627e-01</td>\n",
              "      <td>-7.714386e-01</td>\n",
              "      <td>-6.371837e-01</td>\n",
              "      <td>-6.308675e-01</td>\n",
              "      <td>-7.616067e-01</td>\n",
              "      <td>-7.714603e-01</td>\n",
              "    </tr>\n",
              "    <tr>\n",
              "      <th>50%</th>\n",
              "      <td>-1.347291e-01</td>\n",
              "      <td>-1.008269e-01</td>\n",
              "      <td>9.308555e-02</td>\n",
              "      <td>1.184520e-01</td>\n",
              "      <td>-1.354634e-01</td>\n",
              "      <td>-1.008014e-01</td>\n",
              "      <td>9.314447e-02</td>\n",
              "      <td>1.184610e-01</td>\n",
              "      <td>-1.361976e-01</td>\n",
              "      <td>-1.007916e-01</td>\n",
              "      <td>...</td>\n",
              "      <td>7.950615e-02</td>\n",
              "      <td>1.196863e-01</td>\n",
              "      <td>-1.357709e-01</td>\n",
              "      <td>-1.023340e-01</td>\n",
              "      <td>7.957783e-02</td>\n",
              "      <td>1.196574e-01</td>\n",
              "      <td>-1.358235e-01</td>\n",
              "      <td>-1.022454e-01</td>\n",
              "      <td>7.964181e-02</td>\n",
              "      <td>1.196396e-01</td>\n",
              "    </tr>\n",
              "    <tr>\n",
              "      <th>75%</th>\n",
              "      <td>6.215871e-01</td>\n",
              "      <td>4.280362e-01</td>\n",
              "      <td>7.966014e-01</td>\n",
              "      <td>6.798121e-01</td>\n",
              "      <td>6.212612e-01</td>\n",
              "      <td>4.280328e-01</td>\n",
              "      <td>7.966624e-01</td>\n",
              "      <td>6.798144e-01</td>\n",
              "      <td>6.213435e-01</td>\n",
              "      <td>4.278247e-01</td>\n",
              "      <td>...</td>\n",
              "      <td>8.007057e-01</td>\n",
              "      <td>6.792978e-01</td>\n",
              "      <td>6.219543e-01</td>\n",
              "      <td>4.269190e-01</td>\n",
              "      <td>8.007884e-01</td>\n",
              "      <td>6.792656e-01</td>\n",
              "      <td>6.219327e-01</td>\n",
              "      <td>4.268832e-01</td>\n",
              "      <td>8.008591e-01</td>\n",
              "      <td>6.792504e-01</td>\n",
              "    </tr>\n",
              "    <tr>\n",
              "      <th>max</th>\n",
              "      <td>4.123172e+00</td>\n",
              "      <td>4.490247e+00</td>\n",
              "      <td>2.443456e+00</td>\n",
              "      <td>3.418892e+00</td>\n",
              "      <td>4.123255e+00</td>\n",
              "      <td>4.490566e+00</td>\n",
              "      <td>2.443522e+00</td>\n",
              "      <td>3.418862e+00</td>\n",
              "      <td>4.123339e+00</td>\n",
              "      <td>4.490861e+00</td>\n",
              "      <td>...</td>\n",
              "      <td>2.449162e+00</td>\n",
              "      <td>3.418543e+00</td>\n",
              "      <td>4.124801e+00</td>\n",
              "      <td>4.495797e+00</td>\n",
              "      <td>2.449270e+00</td>\n",
              "      <td>3.418495e+00</td>\n",
              "      <td>4.124922e+00</td>\n",
              "      <td>4.495857e+00</td>\n",
              "      <td>2.449356e+00</td>\n",
              "      <td>3.418492e+00</td>\n",
              "    </tr>\n",
              "  </tbody>\n",
              "</table>\n",
              "<p>8 rows × 192 columns</p>\n",
              "</div>"
            ],
            "text/plain": [
              "         median_t_1       std_t_1         T_t_1      load_t_1    median_t_2  \\\n",
              "count  1.900800e+04  1.900800e+04  1.900800e+04  1.900800e+04  1.900800e+04   \n",
              "mean   4.126890e-16 -4.126890e-16 -1.674680e-16  1.226105e-16  1.943825e-16   \n",
              "std    1.000026e+00  1.000026e+00  1.000026e+00  1.000026e+00  1.000026e+00   \n",
              "min   -2.311026e+00 -2.568864e+00 -3.149160e+00 -2.364007e+00 -2.310945e+00   \n",
              "25%   -6.392120e-01 -6.328903e-01 -7.643083e-01 -7.708135e-01 -6.391302e-01   \n",
              "50%   -1.347291e-01 -1.008269e-01  9.308555e-02  1.184520e-01 -1.354634e-01   \n",
              "75%    6.215871e-01  4.280362e-01  7.966014e-01  6.798121e-01  6.212612e-01   \n",
              "max    4.123172e+00  4.490247e+00  2.443456e+00  3.418892e+00  4.123255e+00   \n",
              "\n",
              "            std_t_2         T_t_2      load_t_2    median_t_3       std_t_3  \\\n",
              "count  1.900800e+04  1.900800e+04  1.900800e+04  1.900800e+04  1.900800e+04   \n",
              "mean   4.007270e-16 -3.708220e-16 -3.289550e-17 -1.166295e-16  7.177199e-17   \n",
              "std    1.000026e+00  1.000026e+00  1.000026e+00  1.000026e+00  1.000026e+00   \n",
              "min   -2.568901e+00 -3.149111e+00 -2.363968e+00 -2.310863e+00 -2.568927e+00   \n",
              "25%   -6.328301e-01 -7.642519e-01 -7.707941e-01 -6.390483e-01 -6.327681e-01   \n",
              "50%   -1.008014e-01  9.314447e-02  1.184610e-01 -1.361976e-01 -1.007916e-01   \n",
              "75%    4.280328e-01  7.966624e-01  6.798144e-01  6.213435e-01  4.278247e-01   \n",
              "max    4.490566e+00  2.443522e+00  3.418862e+00  4.123339e+00  4.490861e+00   \n",
              "\n",
              "       ...        T_t_46     load_t_46   median_t_47      std_t_47  \\\n",
              "count  ...  1.900800e+04  1.900800e+04  1.900800e+04  1.900800e+04   \n",
              "mean   ...  1.555060e-16 -2.721355e-16 -5.741759e-16 -7.655679e-16   \n",
              "std    ...  1.000026e+00  1.000026e+00  1.000026e+00  1.000026e+00   \n",
              "min    ... -3.148892e+00 -2.364704e+00 -2.310965e+00 -2.569386e+00   \n",
              "25%    ... -7.617216e-01 -7.714148e-01 -6.371107e-01 -6.309856e-01   \n",
              "50%    ...  7.950615e-02  1.196863e-01 -1.357709e-01 -1.023340e-01   \n",
              "75%    ...  8.007057e-01  6.792978e-01  6.219543e-01  4.269190e-01   \n",
              "max    ...  2.449162e+00  3.418543e+00  4.124801e+00  4.495797e+00   \n",
              "\n",
              "             T_t_47     load_t_47   median_t_48      std_t_48        T_t_48  \\\n",
              "count  1.900800e+04  1.900800e+04  1.900800e+04  1.900800e+04  1.900800e+04   \n",
              "mean   2.870880e-16 -1.854110e-16  6.339859e-16 -1.256010e-16 -2.392400e-17   \n",
              "std    1.000026e+00  1.000026e+00  1.000026e+00  1.000026e+00  1.000026e+00   \n",
              "min   -3.148870e+00 -2.364718e+00 -2.311106e+00 -2.569493e+00 -3.148836e+00   \n",
              "25%   -7.616627e-01 -7.714386e-01 -6.371837e-01 -6.308675e-01 -7.616067e-01   \n",
              "50%    7.957783e-02  1.196574e-01 -1.358235e-01 -1.022454e-01  7.964181e-02   \n",
              "75%    8.007884e-01  6.792656e-01  6.219327e-01  4.268832e-01  8.008591e-01   \n",
              "max    2.449270e+00  3.418495e+00  4.124922e+00  4.495857e+00  2.449356e+00   \n",
              "\n",
              "          load_t_48  \n",
              "count  1.900800e+04  \n",
              "mean  -1.764395e-16  \n",
              "std    1.000026e+00  \n",
              "min   -2.364747e+00  \n",
              "25%   -7.714603e-01  \n",
              "50%    1.196396e-01  \n",
              "75%    6.792504e-01  \n",
              "max    3.418492e+00  \n",
              "\n",
              "[8 rows x 192 columns]"
            ]
          },
          "execution_count": 102,
          "metadata": {},
          "output_type": "execute_result"
        },
        {
          "name": "stdout",
          "output_type": "stream",
          "text": [
            "time: 391 ms (started: 2024-04-03 09:08:59 +02:00)\n"
          ]
        }
      ],
      "source": [
        "#Rescaling the data\n",
        "featuresToScale = dataX.columns\n",
        "sX = pp.StandardScaler(copy=True)\n",
        "dataX.loc[:,featuresToScale] = sX.fit_transform(dataX[featuresToScale])\n",
        "#Looking into the statistics again:\n",
        "dataX.describe()"
      ]
    },
    {
      "cell_type": "code",
      "execution_count": 103,
      "metadata": {
        "id": "UC-RR1QeMrZs"
      },
      "outputs": [
        {
          "data": {
            "text/plain": [
              "2012-09-03 00:00:00    0.607728\n",
              "2012-09-03 01:00:00    1.139868\n",
              "2012-09-03 02:00:00    1.019441\n",
              "2012-09-03 03:00:00    1.122370\n",
              "2012-09-03 04:00:00    1.036939\n",
              "                         ...   \n",
              "2014-11-03 19:00:00   -0.490004\n",
              "2014-11-03 20:00:00   -0.506987\n",
              "2014-11-03 21:00:00   -0.506987\n",
              "2014-11-03 22:00:00   -0.506987\n",
              "2014-11-03 23:00:00   -0.490004\n",
              "Name: T_t_1, Length: 19008, dtype: float64"
            ]
          },
          "execution_count": 103,
          "metadata": {},
          "output_type": "execute_result"
        },
        {
          "name": "stdout",
          "output_type": "stream",
          "text": [
            "time: 15 ms (started: 2024-04-03 09:08:59 +02:00)\n"
          ]
        }
      ],
      "source": [
        "#Temperature for weather forecasting (later used in multistep forecasting):\n",
        "temp_test = dataX['T_t_1']\n",
        "temp_test"
      ]
    },
    {
      "cell_type": "code",
      "execution_count": 104,
      "metadata": {
        "id": "XA1VYQg9LlQ1"
      },
      "outputs": [
        {
          "name": "stdout",
          "output_type": "stream",
          "text": [
            "Train data shape:  (744, 192) (744,)\n",
            "Test data shape:  (72, 192) (72,)\n",
            "time: 32 ms (started: 2024-04-03 09:08:59 +02:00)\n"
          ]
        }
      ],
      "source": [
        "# Step 4: Splitting the Data for Training and Testing\n",
        "# ----------------------------------------------------\n",
        "train_start_dt = '2014-10-01'\n",
        "test_start_dt = '2014-11-01'\n",
        "test_end_dt = '2014-11-04'\n",
        "#Lets use the same notation: X_train, X_test, y_train, y_test\n",
        "X_train = dataX.copy()[(dataX.index >= train_start_dt)& (dataX.index < test_start_dt)]\n",
        "y_train = dataY.copy()[(dataY.index >= train_start_dt)& (dataY.index < test_start_dt)]\n",
        "\n",
        "X_test =  dataX.copy()[(dataX.index >= test_start_dt) & (dataX.index < test_end_dt)]\n",
        "y_test =  dataY.copy()[(dataY.index >= test_start_dt) & (dataY.index < test_end_dt)]\n",
        "\n",
        "\n",
        "print('Train data shape: ', X_train.shape, y_train.shape)\n",
        "print('Test data shape: ', X_test.shape, y_test.shape)"
      ]
    },
    {
      "cell_type": "code",
      "execution_count": 105,
      "metadata": {},
      "outputs": [
        {
          "data": {
            "text/html": [
              "<div>\n",
              "<style scoped>\n",
              "    .dataframe tbody tr th:only-of-type {\n",
              "        vertical-align: middle;\n",
              "    }\n",
              "\n",
              "    .dataframe tbody tr th {\n",
              "        vertical-align: top;\n",
              "    }\n",
              "\n",
              "    .dataframe thead th {\n",
              "        text-align: right;\n",
              "    }\n",
              "</style>\n",
              "<table border=\"1\" class=\"dataframe\">\n",
              "  <thead>\n",
              "    <tr style=\"text-align: right;\">\n",
              "      <th></th>\n",
              "      <th>median_t_1</th>\n",
              "      <th>std_t_1</th>\n",
              "      <th>T_t_1</th>\n",
              "      <th>load_t_1</th>\n",
              "      <th>median_t_2</th>\n",
              "      <th>std_t_2</th>\n",
              "      <th>T_t_2</th>\n",
              "      <th>load_t_2</th>\n",
              "      <th>median_t_3</th>\n",
              "      <th>std_t_3</th>\n",
              "      <th>...</th>\n",
              "      <th>T_t_46</th>\n",
              "      <th>load_t_46</th>\n",
              "      <th>median_t_47</th>\n",
              "      <th>std_t_47</th>\n",
              "      <th>T_t_47</th>\n",
              "      <th>load_t_47</th>\n",
              "      <th>median_t_48</th>\n",
              "      <th>std_t_48</th>\n",
              "      <th>T_t_48</th>\n",
              "      <th>load_t_48</th>\n",
              "    </tr>\n",
              "  </thead>\n",
              "  <tbody>\n",
              "    <tr>\n",
              "      <th>2014-11-01</th>\n",
              "      <td>-0.129831</td>\n",
              "      <td>0.115119</td>\n",
              "      <td>-0.335611</td>\n",
              "      <td>-1.054167</td>\n",
              "      <td>-0.129749</td>\n",
              "      <td>0.109072</td>\n",
              "      <td>0.024697</td>\n",
              "      <td>-1.428379</td>\n",
              "      <td>-0.129667</td>\n",
              "      <td>0.107447</td>\n",
              "      <td>...</td>\n",
              "      <td>-0.246579</td>\n",
              "      <td>0.016319</td>\n",
              "      <td>-0.651808</td>\n",
              "      <td>-0.985907</td>\n",
              "      <td>-0.229512</td>\n",
              "      <td>-0.292029</td>\n",
              "      <td>-0.651882</td>\n",
              "      <td>-0.963692</td>\n",
              "      <td>-0.332482</td>\n",
              "      <td>-0.734034</td>\n",
              "    </tr>\n",
              "  </tbody>\n",
              "</table>\n",
              "<p>1 rows × 192 columns</p>\n",
              "</div>"
            ],
            "text/plain": [
              "            median_t_1   std_t_1     T_t_1  load_t_1  median_t_2   std_t_2  \\\n",
              "2014-11-01   -0.129831  0.115119 -0.335611 -1.054167   -0.129749  0.109072   \n",
              "\n",
              "               T_t_2  load_t_2  median_t_3   std_t_3  ...    T_t_46  \\\n",
              "2014-11-01  0.024697 -1.428379   -0.129667  0.107447  ... -0.246579   \n",
              "\n",
              "            load_t_46  median_t_47  std_t_47    T_t_47  load_t_47  \\\n",
              "2014-11-01   0.016319    -0.651808 -0.985907 -0.229512  -0.292029   \n",
              "\n",
              "            median_t_48  std_t_48    T_t_48  load_t_48  \n",
              "2014-11-01    -0.651882 -0.963692 -0.332482  -0.734034  \n",
              "\n",
              "[1 rows x 192 columns]"
            ]
          },
          "execution_count": 105,
          "metadata": {},
          "output_type": "execute_result"
        },
        {
          "name": "stdout",
          "output_type": "stream",
          "text": [
            "time: 15 ms (started: 2024-04-03 09:08:59 +02:00)\n"
          ]
        }
      ],
      "source": [
        "# Initialize a list to store the last 'load' values used for updating the features.\n",
        "s_window = 24  # This represents the sliding window size for capturing recent load history.\n",
        "last_loads = list()\n",
        "\n",
        "# Extract the first set of features from the test data to initialize the forecasting process.\n",
        "X_last = X_test.iloc[0:1]\n",
        "\n",
        "X_last.tail()"
      ]
    },
    {
      "cell_type": "code",
      "execution_count": 106,
      "metadata": {
        "id": "XJb_EodgBXbf"
      },
      "outputs": [
        {
          "data": {
            "text/plain": [
              "array([-1.05416662, -1.42837947, -1.5815736 , -1.65635407, -1.63669901,\n",
              "       -1.46024993, -0.97911984, -0.06322531,  0.38045911,  0.3893592 ,\n",
              "        0.40895085,  0.32341297,  0.25213262,  0.1594695 ,  0.15768899,\n",
              "        0.10067245,  0.08108038,  0.17552834,  0.44815689,  0.75818488,\n",
              "        0.6637238 ,  0.46593522,  0.02047563, -0.57643783])"
            ]
          },
          "execution_count": 106,
          "metadata": {},
          "output_type": "execute_result"
        },
        {
          "name": "stdout",
          "output_type": "stream",
          "text": [
            "time: 0 ns (started: 2024-04-03 09:08:59 +02:00)\n"
          ]
        }
      ],
      "source": [
        "# Populate the 'last_loads' list with the most recent 'load' values from 'X_last'.\n",
        "# These values will be updated as new predictions are made and used to update future feature sets.\n",
        "for i in range(1, s_window + 1):\n",
        "    column = 'load_t_' + str(i)\n",
        "    last_loads.append(X_last[column][0])\n",
        "last_loads = np.array(last_loads)\n",
        "last_loads"
      ]
    },
    {
      "cell_type": "code",
      "execution_count": 107,
      "metadata": {
        "id": "UWC5-UrkA4O8"
      },
      "outputs": [
        {
          "name": "stdout",
          "output_type": "stream",
          "text": [
            "time: 0 ns (started: 2024-04-03 09:08:59 +02:00)\n"
          ]
        }
      ],
      "source": [
        "# Step 2: Predicting Future Loads\n",
        "# ----------------------------------\n",
        "# Initialize a Series to store predictions.\n",
        "y_predicted = pd.Series(index=y_test.index)"
      ]
    },
    {
      "cell_type": "code",
      "execution_count": 108,
      "metadata": {
        "id": "wLp7MhPrF2Xr"
      },
      "outputs": [
        {
          "name": "stdout",
          "output_type": "stream",
          "text": [
            "time: 0 ns (started: 2024-04-03 09:08:59 +02:00)\n"
          ]
        }
      ],
      "source": [
        "#import lib\n",
        "from pandas.tseries.offsets import DateOffset"
      ]
    },
    {
      "cell_type": "code",
      "execution_count": 109,
      "metadata": {
        "id": "npsJKqnEIClJ"
      },
      "outputs": [
        {
          "data": {
            "text/plain": [
              "(1, 192)"
            ]
          },
          "execution_count": 109,
          "metadata": {},
          "output_type": "execute_result"
        },
        {
          "name": "stdout",
          "output_type": "stream",
          "text": [
            "time: 0 ns (started: 2024-04-03 09:08:59 +02:00)\n"
          ]
        }
      ],
      "source": [
        "# Convert the initial test features to numpy array for processing.\n",
        "X_test_last = X_last.to_numpy()\n",
        "X_test_last.shape"
      ]
    },
    {
      "cell_type": "code",
      "execution_count": 110,
      "metadata": {
        "id": "NoKmVT3MIK29"
      },
      "outputs": [
        {
          "data": {
            "text/plain": [
              "array([[-1.29831251e-01,  1.15119221e-01, -3.35611380e-01,\n",
              "        -1.05416662e+00, -1.29749182e-01,  1.09071635e-01,\n",
              "         2.46968596e-02, -1.42837947e+00, -1.29667114e-01,\n",
              "         1.07446998e-01, -6.11655152e-02, -1.58157360e+00,\n",
              "        -1.29585046e-01,  1.02084079e-01, -1.64022169e-01,\n",
              "        -1.65635407e+00, -1.29502980e-01,  9.40726648e-02,\n",
              "        -2.32393598e-01, -1.63669901e+00, -1.29420914e-01,\n",
              "         8.46275089e-02, -2.83785718e-01, -1.46024993e+00,\n",
              "        -1.29338849e-01,  7.56909748e-02, -3.52168961e-01,\n",
              "        -9.79119835e-01, -1.29256785e-01,  7.81966328e-02,\n",
              "        -3.69599832e-01, -6.32253087e-02, -9.32567418e-02,\n",
              "         8.91679337e-02, -4.37989350e-01,  3.80459106e-01,\n",
              "        -9.31746653e-02,  9.17253913e-02, -4.20936176e-01,\n",
              "         3.89359202e-01, -9.31063467e-02,  8.96481911e-02,\n",
              "        -2.48943916e-01,  4.08950853e-01, -1.27356740e-01,\n",
              "         6.19661433e-02, -9.44422956e-02,  3.23412970e-01,\n",
              "        -1.81214266e-01,  3.36424089e-02,  1.11549330e-01,\n",
              "         2.52132621e-01, -1.94255611e-01,  1.49619371e-03,\n",
              "         1.97101916e-01,  1.59469503e-01, -2.90560013e-01,\n",
              "        -3.16723522e-02,  2.83180974e-01,  1.57688986e-01,\n",
              "        -3.77068021e-01, -5.48531574e-02,  2.83294337e-01,\n",
              "         1.00672446e-01, -4.30923797e-01, -8.04299993e-02,\n",
              "         3.34895446e-01,  8.10803832e-02, -4.30904616e-01,\n",
              "        -1.33707199e-01,  3.18025955e-01,  1.75528341e-01,\n",
              "        -4.30885435e-01, -2.25595541e-01,  2.15159914e-01,\n",
              "         4.48156885e-01, -4.30866255e-01, -2.50764595e-01,\n",
              "         1.29271402e-01,  7.58184884e-01, -4.30850065e-01,\n",
              "        -2.50764106e-01, -2.51207280e-02,  6.63723801e-01,\n",
              "        -4.30833875e-01, -2.30920344e-01, -1.11038738e-01,\n",
              "         4.65935218e-01, -4.30811621e-01, -2.21655936e-01,\n",
              "        -2.30956907e-01,  2.04756338e-02, -4.30794487e-01,\n",
              "        -2.39158710e-01, -3.16895138e-01, -5.76437833e-01,\n",
              "        -4.30792014e-01, -2.11055019e-01, -4.53817399e-01,\n",
              "        -1.14304412e+00, -4.30789541e-01, -2.61471419e-01,\n",
              "        -3.85262461e-01, -1.30700876e+00, -4.30787067e-01,\n",
              "        -3.08759728e-01, -4.36701568e-01, -1.48341769e+00,\n",
              "        -4.30784594e-01, -3.60237911e-01, -4.53633613e-01,\n",
              "        -1.55649697e+00, -4.30782121e-01, -4.08038124e-01,\n",
              "        -4.36573497e-01, -1.54406089e+00, -4.30779648e-01,\n",
              "        -4.41462571e-01, -4.71008394e-01, -1.38729662e+00,\n",
              "        -4.30777175e-01, -4.69080839e-01, -4.36438655e-01,\n",
              "        -8.77707854e-01, -4.30774701e-01, -4.64563273e-01,\n",
              "        -4.53365644e-01,  7.93567766e-04, -4.30772228e-01,\n",
              "        -4.57899006e-01, -4.53297370e-01,  4.08851250e-01,\n",
              "        -4.30779559e-01, -4.51158382e-01, -4.36234010e-01,\n",
              "         4.17701985e-01, -4.30795198e-01, -4.57708913e-01,\n",
              "        -2.81679779e-01,  3.80226817e-01, -4.30842998e-01,\n",
              "        -4.63002610e-01, -1.78624210e-01,  2.96426657e-01,\n",
              "        -4.30893287e-01, -4.69944643e-01,  1.04269633e-02,\n",
              "         2.10851877e-01, -4.71759821e-01, -4.76146685e-01,\n",
              "         7.89797866e-02,  1.12805515e-01, -5.01195848e-01,\n",
              "        -4.87825919e-01,  1.13543771e-01,  6.46726609e-02,\n",
              "        -5.33896131e-01, -5.00981445e-01,  1.30599619e-01,\n",
              "        -3.33680515e-02, -5.89456732e-01, -5.11195747e-01,\n",
              "         1.13665015e-01, -2.26882096e-02, -5.89505736e-01,\n",
              "        -5.22772271e-01,  9.62161782e-02,  9.31421752e-02,\n",
              "        -5.89554743e-01, -5.70885358e-01,  1.07815277e-02,\n",
              "         2.33910390e-01, -5.89603754e-01, -7.15628527e-01,\n",
              "        -7.51703055e-02,  2.85534624e-01, -5.89652769e-01,\n",
              "        -8.62591246e-01, -1.78131119e-01,  1.21509610e-01,\n",
              "        -6.33792379e-01, -9.62934496e-01, -2.46579052e-01,\n",
              "         1.63185699e-02, -6.51807947e-01, -9.85907302e-01,\n",
              "        -2.29512397e-01, -2.92028944e-01, -6.51881539e-01,\n",
              "        -9.63692103e-01, -3.32482365e-01, -7.34034127e-01]])"
            ]
          },
          "execution_count": 110,
          "metadata": {},
          "output_type": "execute_result"
        },
        {
          "name": "stdout",
          "output_type": "stream",
          "text": [
            "time: 0 ns (started: 2024-04-03 09:08:59 +02:00)\n"
          ]
        }
      ],
      "source": [
        "X_test_last"
      ]
    },
    {
      "cell_type": "code",
      "execution_count": 111,
      "metadata": {},
      "outputs": [
        {
          "name": "stdout",
          "output_type": "stream",
          "text": [
            "time: 0 ns (started: 2024-04-03 09:08:59 +02:00)\n"
          ]
        }
      ],
      "source": [
        "# Iterate over the test data indices to make predictions and update the features accordingly.\n",
        "n_features = 4  # Number of features used in prediction (median, std, temp, load)\n",
        "dummy_array = np.zeros((1, X_test_last.shape[1]))  # Helper array for feature scaling"
      ]
    },
    {
      "cell_type": "code",
      "execution_count": 112,
      "metadata": {},
      "outputs": [
        {
          "name": "stdout",
          "output_type": "stream",
          "text": [
            "Start of temp_test: 2012-09-03 00:00:00\n",
            "End of temp_test: 2014-11-03 23:00:00\n",
            "Looking for temperature at: 2014-11-01 01:00:00\n",
            "Looking for temperature at: 2014-11-01 02:00:00\n",
            "Looking for temperature at: 2014-11-01 03:00:00\n",
            "Looking for temperature at: 2014-11-01 04:00:00\n",
            "Looking for temperature at: 2014-11-01 05:00:00\n",
            "Looking for temperature at: 2014-11-01 06:00:00\n",
            "Looking for temperature at: 2014-11-01 07:00:00\n",
            "Looking for temperature at: 2014-11-01 08:00:00\n",
            "Looking for temperature at: 2014-11-01 09:00:00\n",
            "Looking for temperature at: 2014-11-01 10:00:00\n",
            "Looking for temperature at: 2014-11-01 11:00:00\n",
            "Looking for temperature at: 2014-11-01 12:00:00\n",
            "Looking for temperature at: 2014-11-01 13:00:00\n",
            "Looking for temperature at: 2014-11-01 14:00:00\n",
            "Looking for temperature at: 2014-11-01 15:00:00\n",
            "Looking for temperature at: 2014-11-01 16:00:00\n",
            "Looking for temperature at: 2014-11-01 17:00:00\n",
            "Looking for temperature at: 2014-11-01 18:00:00\n",
            "Looking for temperature at: 2014-11-01 19:00:00\n",
            "Looking for temperature at: 2014-11-01 20:00:00\n",
            "Looking for temperature at: 2014-11-01 21:00:00\n",
            "Looking for temperature at: 2014-11-01 22:00:00\n",
            "Looking for temperature at: 2014-11-01 23:00:00\n",
            "Looking for temperature at: 2014-11-02 00:00:00\n",
            "Looking for temperature at: 2014-11-02 01:00:00\n",
            "Looking for temperature at: 2014-11-02 02:00:00\n",
            "Looking for temperature at: 2014-11-02 03:00:00\n",
            "Looking for temperature at: 2014-11-02 04:00:00\n",
            "Looking for temperature at: 2014-11-02 05:00:00\n",
            "Looking for temperature at: 2014-11-02 06:00:00\n",
            "Looking for temperature at: 2014-11-02 07:00:00\n",
            "Looking for temperature at: 2014-11-02 08:00:00\n",
            "Looking for temperature at: 2014-11-02 09:00:00\n",
            "Looking for temperature at: 2014-11-02 10:00:00\n",
            "Looking for temperature at: 2014-11-02 11:00:00\n",
            "Looking for temperature at: 2014-11-02 12:00:00\n",
            "Looking for temperature at: 2014-11-02 13:00:00\n",
            "Looking for temperature at: 2014-11-02 14:00:00\n",
            "Looking for temperature at: 2014-11-02 15:00:00\n",
            "Looking for temperature at: 2014-11-02 16:00:00\n",
            "Looking for temperature at: 2014-11-02 17:00:00\n",
            "Looking for temperature at: 2014-11-02 18:00:00\n",
            "Looking for temperature at: 2014-11-02 19:00:00\n",
            "Looking for temperature at: 2014-11-02 20:00:00\n",
            "Looking for temperature at: 2014-11-02 21:00:00\n",
            "Looking for temperature at: 2014-11-02 22:00:00\n",
            "Looking for temperature at: 2014-11-02 23:00:00\n",
            "Looking for temperature at: 2014-11-03 00:00:00\n",
            "Looking for temperature at: 2014-11-03 01:00:00\n",
            "Looking for temperature at: 2014-11-03 02:00:00\n",
            "Looking for temperature at: 2014-11-03 03:00:00\n",
            "Looking for temperature at: 2014-11-03 04:00:00\n",
            "Looking for temperature at: 2014-11-03 05:00:00\n",
            "Looking for temperature at: 2014-11-03 06:00:00\n",
            "Looking for temperature at: 2014-11-03 07:00:00\n",
            "Looking for temperature at: 2014-11-03 08:00:00\n",
            "Looking for temperature at: 2014-11-03 09:00:00\n",
            "Looking for temperature at: 2014-11-03 10:00:00\n",
            "Looking for temperature at: 2014-11-03 11:00:00\n",
            "Looking for temperature at: 2014-11-03 12:00:00\n",
            "Looking for temperature at: 2014-11-03 13:00:00\n",
            "Looking for temperature at: 2014-11-03 14:00:00\n",
            "Looking for temperature at: 2014-11-03 15:00:00\n",
            "Looking for temperature at: 2014-11-03 16:00:00\n",
            "Looking for temperature at: 2014-11-03 17:00:00\n",
            "Looking for temperature at: 2014-11-03 18:00:00\n",
            "Looking for temperature at: 2014-11-03 19:00:00\n",
            "Looking for temperature at: 2014-11-03 20:00:00\n",
            "Looking for temperature at: 2014-11-03 21:00:00\n",
            "Looking for temperature at: 2014-11-03 22:00:00\n",
            "Looking for temperature at: 2014-11-03 23:00:00\n",
            "Looking for temperature at: 2014-11-04 00:00:00\n",
            "Timestamp 2014-11-04 00:00:00 not found in temp_test. Using the last known temperature.\n",
            "time: 125 ms (started: 2024-04-03 09:08:59 +02:00)\n"
          ]
        },
        {
          "name": "stderr",
          "output_type": "stream",
          "text": [
            "c:\\Users\\JuanFernandez\\anaconda3\\envs\\exergy_time_series_env\\lib\\site-packages\\sklearn\\base.py:464: UserWarning: X does not have valid feature names, but SVR was fitted with feature names\n",
            "  warnings.warn(\n",
            "c:\\Users\\JuanFernandez\\anaconda3\\envs\\exergy_time_series_env\\lib\\site-packages\\sklearn\\base.py:464: UserWarning: X does not have valid feature names, but StandardScaler was fitted with feature names\n",
            "  warnings.warn(\n",
            "c:\\Users\\JuanFernandez\\anaconda3\\envs\\exergy_time_series_env\\lib\\site-packages\\sklearn\\base.py:464: UserWarning: X does not have valid feature names, but SVR was fitted with feature names\n",
            "  warnings.warn(\n",
            "c:\\Users\\JuanFernandez\\anaconda3\\envs\\exergy_time_series_env\\lib\\site-packages\\sklearn\\base.py:464: UserWarning: X does not have valid feature names, but StandardScaler was fitted with feature names\n",
            "  warnings.warn(\n",
            "c:\\Users\\JuanFernandez\\anaconda3\\envs\\exergy_time_series_env\\lib\\site-packages\\sklearn\\base.py:464: UserWarning: X does not have valid feature names, but SVR was fitted with feature names\n",
            "  warnings.warn(\n",
            "c:\\Users\\JuanFernandez\\anaconda3\\envs\\exergy_time_series_env\\lib\\site-packages\\sklearn\\base.py:464: UserWarning: X does not have valid feature names, but StandardScaler was fitted with feature names\n",
            "  warnings.warn(\n",
            "c:\\Users\\JuanFernandez\\anaconda3\\envs\\exergy_time_series_env\\lib\\site-packages\\sklearn\\base.py:464: UserWarning: X does not have valid feature names, but SVR was fitted with feature names\n",
            "  warnings.warn(\n",
            "c:\\Users\\JuanFernandez\\anaconda3\\envs\\exergy_time_series_env\\lib\\site-packages\\sklearn\\base.py:464: UserWarning: X does not have valid feature names, but StandardScaler was fitted with feature names\n",
            "  warnings.warn(\n",
            "c:\\Users\\JuanFernandez\\anaconda3\\envs\\exergy_time_series_env\\lib\\site-packages\\sklearn\\base.py:464: UserWarning: X does not have valid feature names, but SVR was fitted with feature names\n",
            "  warnings.warn(\n",
            "c:\\Users\\JuanFernandez\\anaconda3\\envs\\exergy_time_series_env\\lib\\site-packages\\sklearn\\base.py:464: UserWarning: X does not have valid feature names, but StandardScaler was fitted with feature names\n",
            "  warnings.warn(\n",
            "c:\\Users\\JuanFernandez\\anaconda3\\envs\\exergy_time_series_env\\lib\\site-packages\\sklearn\\base.py:464: UserWarning: X does not have valid feature names, but SVR was fitted with feature names\n",
            "  warnings.warn(\n",
            "c:\\Users\\JuanFernandez\\anaconda3\\envs\\exergy_time_series_env\\lib\\site-packages\\sklearn\\base.py:464: UserWarning: X does not have valid feature names, but StandardScaler was fitted with feature names\n",
            "  warnings.warn(\n",
            "c:\\Users\\JuanFernandez\\anaconda3\\envs\\exergy_time_series_env\\lib\\site-packages\\sklearn\\base.py:464: UserWarning: X does not have valid feature names, but SVR was fitted with feature names\n",
            "  warnings.warn(\n",
            "c:\\Users\\JuanFernandez\\anaconda3\\envs\\exergy_time_series_env\\lib\\site-packages\\sklearn\\base.py:464: UserWarning: X does not have valid feature names, but StandardScaler was fitted with feature names\n",
            "  warnings.warn(\n",
            "c:\\Users\\JuanFernandez\\anaconda3\\envs\\exergy_time_series_env\\lib\\site-packages\\sklearn\\base.py:464: UserWarning: X does not have valid feature names, but SVR was fitted with feature names\n",
            "  warnings.warn(\n",
            "c:\\Users\\JuanFernandez\\anaconda3\\envs\\exergy_time_series_env\\lib\\site-packages\\sklearn\\base.py:464: UserWarning: X does not have valid feature names, but StandardScaler was fitted with feature names\n",
            "  warnings.warn(\n",
            "c:\\Users\\JuanFernandez\\anaconda3\\envs\\exergy_time_series_env\\lib\\site-packages\\sklearn\\base.py:464: UserWarning: X does not have valid feature names, but SVR was fitted with feature names\n",
            "  warnings.warn(\n",
            "c:\\Users\\JuanFernandez\\anaconda3\\envs\\exergy_time_series_env\\lib\\site-packages\\sklearn\\base.py:464: UserWarning: X does not have valid feature names, but StandardScaler was fitted with feature names\n",
            "  warnings.warn(\n",
            "c:\\Users\\JuanFernandez\\anaconda3\\envs\\exergy_time_series_env\\lib\\site-packages\\sklearn\\base.py:464: UserWarning: X does not have valid feature names, but SVR was fitted with feature names\n",
            "  warnings.warn(\n",
            "c:\\Users\\JuanFernandez\\anaconda3\\envs\\exergy_time_series_env\\lib\\site-packages\\sklearn\\base.py:464: UserWarning: X does not have valid feature names, but StandardScaler was fitted with feature names\n",
            "  warnings.warn(\n",
            "c:\\Users\\JuanFernandez\\anaconda3\\envs\\exergy_time_series_env\\lib\\site-packages\\sklearn\\base.py:464: UserWarning: X does not have valid feature names, but SVR was fitted with feature names\n",
            "  warnings.warn(\n",
            "c:\\Users\\JuanFernandez\\anaconda3\\envs\\exergy_time_series_env\\lib\\site-packages\\sklearn\\base.py:464: UserWarning: X does not have valid feature names, but StandardScaler was fitted with feature names\n",
            "  warnings.warn(\n",
            "c:\\Users\\JuanFernandez\\anaconda3\\envs\\exergy_time_series_env\\lib\\site-packages\\sklearn\\base.py:464: UserWarning: X does not have valid feature names, but SVR was fitted with feature names\n",
            "  warnings.warn(\n",
            "c:\\Users\\JuanFernandez\\anaconda3\\envs\\exergy_time_series_env\\lib\\site-packages\\sklearn\\base.py:464: UserWarning: X does not have valid feature names, but StandardScaler was fitted with feature names\n",
            "  warnings.warn(\n",
            "c:\\Users\\JuanFernandez\\anaconda3\\envs\\exergy_time_series_env\\lib\\site-packages\\sklearn\\base.py:464: UserWarning: X does not have valid feature names, but SVR was fitted with feature names\n",
            "  warnings.warn(\n",
            "c:\\Users\\JuanFernandez\\anaconda3\\envs\\exergy_time_series_env\\lib\\site-packages\\sklearn\\base.py:464: UserWarning: X does not have valid feature names, but StandardScaler was fitted with feature names\n",
            "  warnings.warn(\n",
            "c:\\Users\\JuanFernandez\\anaconda3\\envs\\exergy_time_series_env\\lib\\site-packages\\sklearn\\base.py:464: UserWarning: X does not have valid feature names, but SVR was fitted with feature names\n",
            "  warnings.warn(\n",
            "c:\\Users\\JuanFernandez\\anaconda3\\envs\\exergy_time_series_env\\lib\\site-packages\\sklearn\\base.py:464: UserWarning: X does not have valid feature names, but StandardScaler was fitted with feature names\n",
            "  warnings.warn(\n",
            "c:\\Users\\JuanFernandez\\anaconda3\\envs\\exergy_time_series_env\\lib\\site-packages\\sklearn\\base.py:464: UserWarning: X does not have valid feature names, but SVR was fitted with feature names\n",
            "  warnings.warn(\n",
            "c:\\Users\\JuanFernandez\\anaconda3\\envs\\exergy_time_series_env\\lib\\site-packages\\sklearn\\base.py:464: UserWarning: X does not have valid feature names, but StandardScaler was fitted with feature names\n",
            "  warnings.warn(\n",
            "c:\\Users\\JuanFernandez\\anaconda3\\envs\\exergy_time_series_env\\lib\\site-packages\\sklearn\\base.py:464: UserWarning: X does not have valid feature names, but SVR was fitted with feature names\n",
            "  warnings.warn(\n",
            "c:\\Users\\JuanFernandez\\anaconda3\\envs\\exergy_time_series_env\\lib\\site-packages\\sklearn\\base.py:464: UserWarning: X does not have valid feature names, but StandardScaler was fitted with feature names\n",
            "  warnings.warn(\n",
            "c:\\Users\\JuanFernandez\\anaconda3\\envs\\exergy_time_series_env\\lib\\site-packages\\sklearn\\base.py:464: UserWarning: X does not have valid feature names, but SVR was fitted with feature names\n",
            "  warnings.warn(\n",
            "c:\\Users\\JuanFernandez\\anaconda3\\envs\\exergy_time_series_env\\lib\\site-packages\\sklearn\\base.py:464: UserWarning: X does not have valid feature names, but StandardScaler was fitted with feature names\n",
            "  warnings.warn(\n",
            "c:\\Users\\JuanFernandez\\anaconda3\\envs\\exergy_time_series_env\\lib\\site-packages\\sklearn\\base.py:464: UserWarning: X does not have valid feature names, but SVR was fitted with feature names\n",
            "  warnings.warn(\n",
            "c:\\Users\\JuanFernandez\\anaconda3\\envs\\exergy_time_series_env\\lib\\site-packages\\sklearn\\base.py:464: UserWarning: X does not have valid feature names, but StandardScaler was fitted with feature names\n",
            "  warnings.warn(\n",
            "c:\\Users\\JuanFernandez\\anaconda3\\envs\\exergy_time_series_env\\lib\\site-packages\\sklearn\\base.py:464: UserWarning: X does not have valid feature names, but SVR was fitted with feature names\n",
            "  warnings.warn(\n",
            "c:\\Users\\JuanFernandez\\anaconda3\\envs\\exergy_time_series_env\\lib\\site-packages\\sklearn\\base.py:464: UserWarning: X does not have valid feature names, but StandardScaler was fitted with feature names\n",
            "  warnings.warn(\n",
            "c:\\Users\\JuanFernandez\\anaconda3\\envs\\exergy_time_series_env\\lib\\site-packages\\sklearn\\base.py:464: UserWarning: X does not have valid feature names, but SVR was fitted with feature names\n",
            "  warnings.warn(\n",
            "c:\\Users\\JuanFernandez\\anaconda3\\envs\\exergy_time_series_env\\lib\\site-packages\\sklearn\\base.py:464: UserWarning: X does not have valid feature names, but StandardScaler was fitted with feature names\n",
            "  warnings.warn(\n",
            "c:\\Users\\JuanFernandez\\anaconda3\\envs\\exergy_time_series_env\\lib\\site-packages\\sklearn\\base.py:464: UserWarning: X does not have valid feature names, but SVR was fitted with feature names\n",
            "  warnings.warn(\n",
            "c:\\Users\\JuanFernandez\\anaconda3\\envs\\exergy_time_series_env\\lib\\site-packages\\sklearn\\base.py:464: UserWarning: X does not have valid feature names, but StandardScaler was fitted with feature names\n",
            "  warnings.warn(\n",
            "c:\\Users\\JuanFernandez\\anaconda3\\envs\\exergy_time_series_env\\lib\\site-packages\\sklearn\\base.py:464: UserWarning: X does not have valid feature names, but SVR was fitted with feature names\n",
            "  warnings.warn(\n",
            "c:\\Users\\JuanFernandez\\anaconda3\\envs\\exergy_time_series_env\\lib\\site-packages\\sklearn\\base.py:464: UserWarning: X does not have valid feature names, but StandardScaler was fitted with feature names\n",
            "  warnings.warn(\n",
            "c:\\Users\\JuanFernandez\\anaconda3\\envs\\exergy_time_series_env\\lib\\site-packages\\sklearn\\base.py:464: UserWarning: X does not have valid feature names, but SVR was fitted with feature names\n",
            "  warnings.warn(\n",
            "c:\\Users\\JuanFernandez\\anaconda3\\envs\\exergy_time_series_env\\lib\\site-packages\\sklearn\\base.py:464: UserWarning: X does not have valid feature names, but StandardScaler was fitted with feature names\n",
            "  warnings.warn(\n",
            "c:\\Users\\JuanFernandez\\anaconda3\\envs\\exergy_time_series_env\\lib\\site-packages\\sklearn\\base.py:464: UserWarning: X does not have valid feature names, but SVR was fitted with feature names\n",
            "  warnings.warn(\n",
            "c:\\Users\\JuanFernandez\\anaconda3\\envs\\exergy_time_series_env\\lib\\site-packages\\sklearn\\base.py:464: UserWarning: X does not have valid feature names, but StandardScaler was fitted with feature names\n",
            "  warnings.warn(\n",
            "c:\\Users\\JuanFernandez\\anaconda3\\envs\\exergy_time_series_env\\lib\\site-packages\\sklearn\\base.py:464: UserWarning: X does not have valid feature names, but SVR was fitted with feature names\n",
            "  warnings.warn(\n",
            "c:\\Users\\JuanFernandez\\anaconda3\\envs\\exergy_time_series_env\\lib\\site-packages\\sklearn\\base.py:464: UserWarning: X does not have valid feature names, but StandardScaler was fitted with feature names\n",
            "  warnings.warn(\n",
            "c:\\Users\\JuanFernandez\\anaconda3\\envs\\exergy_time_series_env\\lib\\site-packages\\sklearn\\base.py:464: UserWarning: X does not have valid feature names, but SVR was fitted with feature names\n",
            "  warnings.warn(\n",
            "c:\\Users\\JuanFernandez\\anaconda3\\envs\\exergy_time_series_env\\lib\\site-packages\\sklearn\\base.py:464: UserWarning: X does not have valid feature names, but StandardScaler was fitted with feature names\n",
            "  warnings.warn(\n",
            "c:\\Users\\JuanFernandez\\anaconda3\\envs\\exergy_time_series_env\\lib\\site-packages\\sklearn\\base.py:464: UserWarning: X does not have valid feature names, but SVR was fitted with feature names\n",
            "  warnings.warn(\n",
            "c:\\Users\\JuanFernandez\\anaconda3\\envs\\exergy_time_series_env\\lib\\site-packages\\sklearn\\base.py:464: UserWarning: X does not have valid feature names, but StandardScaler was fitted with feature names\n",
            "  warnings.warn(\n",
            "c:\\Users\\JuanFernandez\\anaconda3\\envs\\exergy_time_series_env\\lib\\site-packages\\sklearn\\base.py:464: UserWarning: X does not have valid feature names, but SVR was fitted with feature names\n",
            "  warnings.warn(\n",
            "c:\\Users\\JuanFernandez\\anaconda3\\envs\\exergy_time_series_env\\lib\\site-packages\\sklearn\\base.py:464: UserWarning: X does not have valid feature names, but StandardScaler was fitted with feature names\n",
            "  warnings.warn(\n",
            "c:\\Users\\JuanFernandez\\anaconda3\\envs\\exergy_time_series_env\\lib\\site-packages\\sklearn\\base.py:464: UserWarning: X does not have valid feature names, but SVR was fitted with feature names\n",
            "  warnings.warn(\n",
            "c:\\Users\\JuanFernandez\\anaconda3\\envs\\exergy_time_series_env\\lib\\site-packages\\sklearn\\base.py:464: UserWarning: X does not have valid feature names, but StandardScaler was fitted with feature names\n",
            "  warnings.warn(\n",
            "c:\\Users\\JuanFernandez\\anaconda3\\envs\\exergy_time_series_env\\lib\\site-packages\\sklearn\\base.py:464: UserWarning: X does not have valid feature names, but SVR was fitted with feature names\n",
            "  warnings.warn(\n",
            "c:\\Users\\JuanFernandez\\anaconda3\\envs\\exergy_time_series_env\\lib\\site-packages\\sklearn\\base.py:464: UserWarning: X does not have valid feature names, but StandardScaler was fitted with feature names\n",
            "  warnings.warn(\n",
            "c:\\Users\\JuanFernandez\\anaconda3\\envs\\exergy_time_series_env\\lib\\site-packages\\sklearn\\base.py:464: UserWarning: X does not have valid feature names, but SVR was fitted with feature names\n",
            "  warnings.warn(\n",
            "c:\\Users\\JuanFernandez\\anaconda3\\envs\\exergy_time_series_env\\lib\\site-packages\\sklearn\\base.py:464: UserWarning: X does not have valid feature names, but StandardScaler was fitted with feature names\n",
            "  warnings.warn(\n",
            "c:\\Users\\JuanFernandez\\anaconda3\\envs\\exergy_time_series_env\\lib\\site-packages\\sklearn\\base.py:464: UserWarning: X does not have valid feature names, but SVR was fitted with feature names\n",
            "  warnings.warn(\n",
            "c:\\Users\\JuanFernandez\\anaconda3\\envs\\exergy_time_series_env\\lib\\site-packages\\sklearn\\base.py:464: UserWarning: X does not have valid feature names, but StandardScaler was fitted with feature names\n",
            "  warnings.warn(\n",
            "c:\\Users\\JuanFernandez\\anaconda3\\envs\\exergy_time_series_env\\lib\\site-packages\\sklearn\\base.py:464: UserWarning: X does not have valid feature names, but SVR was fitted with feature names\n",
            "  warnings.warn(\n",
            "c:\\Users\\JuanFernandez\\anaconda3\\envs\\exergy_time_series_env\\lib\\site-packages\\sklearn\\base.py:464: UserWarning: X does not have valid feature names, but StandardScaler was fitted with feature names\n",
            "  warnings.warn(\n",
            "c:\\Users\\JuanFernandez\\anaconda3\\envs\\exergy_time_series_env\\lib\\site-packages\\sklearn\\base.py:464: UserWarning: X does not have valid feature names, but SVR was fitted with feature names\n",
            "  warnings.warn(\n",
            "c:\\Users\\JuanFernandez\\anaconda3\\envs\\exergy_time_series_env\\lib\\site-packages\\sklearn\\base.py:464: UserWarning: X does not have valid feature names, but StandardScaler was fitted with feature names\n",
            "  warnings.warn(\n",
            "c:\\Users\\JuanFernandez\\anaconda3\\envs\\exergy_time_series_env\\lib\\site-packages\\sklearn\\base.py:464: UserWarning: X does not have valid feature names, but SVR was fitted with feature names\n",
            "  warnings.warn(\n",
            "c:\\Users\\JuanFernandez\\anaconda3\\envs\\exergy_time_series_env\\lib\\site-packages\\sklearn\\base.py:464: UserWarning: X does not have valid feature names, but StandardScaler was fitted with feature names\n",
            "  warnings.warn(\n",
            "c:\\Users\\JuanFernandez\\anaconda3\\envs\\exergy_time_series_env\\lib\\site-packages\\sklearn\\base.py:464: UserWarning: X does not have valid feature names, but SVR was fitted with feature names\n",
            "  warnings.warn(\n",
            "c:\\Users\\JuanFernandez\\anaconda3\\envs\\exergy_time_series_env\\lib\\site-packages\\sklearn\\base.py:464: UserWarning: X does not have valid feature names, but StandardScaler was fitted with feature names\n",
            "  warnings.warn(\n",
            "c:\\Users\\JuanFernandez\\anaconda3\\envs\\exergy_time_series_env\\lib\\site-packages\\sklearn\\base.py:464: UserWarning: X does not have valid feature names, but SVR was fitted with feature names\n",
            "  warnings.warn(\n",
            "c:\\Users\\JuanFernandez\\anaconda3\\envs\\exergy_time_series_env\\lib\\site-packages\\sklearn\\base.py:464: UserWarning: X does not have valid feature names, but StandardScaler was fitted with feature names\n",
            "  warnings.warn(\n",
            "c:\\Users\\JuanFernandez\\anaconda3\\envs\\exergy_time_series_env\\lib\\site-packages\\sklearn\\base.py:464: UserWarning: X does not have valid feature names, but SVR was fitted with feature names\n",
            "  warnings.warn(\n",
            "c:\\Users\\JuanFernandez\\anaconda3\\envs\\exergy_time_series_env\\lib\\site-packages\\sklearn\\base.py:464: UserWarning: X does not have valid feature names, but StandardScaler was fitted with feature names\n",
            "  warnings.warn(\n",
            "c:\\Users\\JuanFernandez\\anaconda3\\envs\\exergy_time_series_env\\lib\\site-packages\\sklearn\\base.py:464: UserWarning: X does not have valid feature names, but SVR was fitted with feature names\n",
            "  warnings.warn(\n",
            "c:\\Users\\JuanFernandez\\anaconda3\\envs\\exergy_time_series_env\\lib\\site-packages\\sklearn\\base.py:464: UserWarning: X does not have valid feature names, but StandardScaler was fitted with feature names\n",
            "  warnings.warn(\n",
            "c:\\Users\\JuanFernandez\\anaconda3\\envs\\exergy_time_series_env\\lib\\site-packages\\sklearn\\base.py:464: UserWarning: X does not have valid feature names, but SVR was fitted with feature names\n",
            "  warnings.warn(\n",
            "c:\\Users\\JuanFernandez\\anaconda3\\envs\\exergy_time_series_env\\lib\\site-packages\\sklearn\\base.py:464: UserWarning: X does not have valid feature names, but StandardScaler was fitted with feature names\n",
            "  warnings.warn(\n",
            "c:\\Users\\JuanFernandez\\anaconda3\\envs\\exergy_time_series_env\\lib\\site-packages\\sklearn\\base.py:464: UserWarning: X does not have valid feature names, but SVR was fitted with feature names\n",
            "  warnings.warn(\n",
            "c:\\Users\\JuanFernandez\\anaconda3\\envs\\exergy_time_series_env\\lib\\site-packages\\sklearn\\base.py:464: UserWarning: X does not have valid feature names, but StandardScaler was fitted with feature names\n",
            "  warnings.warn(\n",
            "c:\\Users\\JuanFernandez\\anaconda3\\envs\\exergy_time_series_env\\lib\\site-packages\\sklearn\\base.py:464: UserWarning: X does not have valid feature names, but SVR was fitted with feature names\n",
            "  warnings.warn(\n",
            "c:\\Users\\JuanFernandez\\anaconda3\\envs\\exergy_time_series_env\\lib\\site-packages\\sklearn\\base.py:464: UserWarning: X does not have valid feature names, but StandardScaler was fitted with feature names\n",
            "  warnings.warn(\n",
            "c:\\Users\\JuanFernandez\\anaconda3\\envs\\exergy_time_series_env\\lib\\site-packages\\sklearn\\base.py:464: UserWarning: X does not have valid feature names, but SVR was fitted with feature names\n",
            "  warnings.warn(\n",
            "c:\\Users\\JuanFernandez\\anaconda3\\envs\\exergy_time_series_env\\lib\\site-packages\\sklearn\\base.py:464: UserWarning: X does not have valid feature names, but StandardScaler was fitted with feature names\n",
            "  warnings.warn(\n",
            "c:\\Users\\JuanFernandez\\anaconda3\\envs\\exergy_time_series_env\\lib\\site-packages\\sklearn\\base.py:464: UserWarning: X does not have valid feature names, but SVR was fitted with feature names\n",
            "  warnings.warn(\n",
            "c:\\Users\\JuanFernandez\\anaconda3\\envs\\exergy_time_series_env\\lib\\site-packages\\sklearn\\base.py:464: UserWarning: X does not have valid feature names, but StandardScaler was fitted with feature names\n",
            "  warnings.warn(\n",
            "c:\\Users\\JuanFernandez\\anaconda3\\envs\\exergy_time_series_env\\lib\\site-packages\\sklearn\\base.py:464: UserWarning: X does not have valid feature names, but SVR was fitted with feature names\n",
            "  warnings.warn(\n",
            "c:\\Users\\JuanFernandez\\anaconda3\\envs\\exergy_time_series_env\\lib\\site-packages\\sklearn\\base.py:464: UserWarning: X does not have valid feature names, but StandardScaler was fitted with feature names\n",
            "  warnings.warn(\n",
            "c:\\Users\\JuanFernandez\\anaconda3\\envs\\exergy_time_series_env\\lib\\site-packages\\sklearn\\base.py:464: UserWarning: X does not have valid feature names, but SVR was fitted with feature names\n",
            "  warnings.warn(\n",
            "c:\\Users\\JuanFernandez\\anaconda3\\envs\\exergy_time_series_env\\lib\\site-packages\\sklearn\\base.py:464: UserWarning: X does not have valid feature names, but StandardScaler was fitted with feature names\n",
            "  warnings.warn(\n",
            "c:\\Users\\JuanFernandez\\anaconda3\\envs\\exergy_time_series_env\\lib\\site-packages\\sklearn\\base.py:464: UserWarning: X does not have valid feature names, but SVR was fitted with feature names\n",
            "  warnings.warn(\n",
            "c:\\Users\\JuanFernandez\\anaconda3\\envs\\exergy_time_series_env\\lib\\site-packages\\sklearn\\base.py:464: UserWarning: X does not have valid feature names, but StandardScaler was fitted with feature names\n",
            "  warnings.warn(\n",
            "c:\\Users\\JuanFernandez\\anaconda3\\envs\\exergy_time_series_env\\lib\\site-packages\\sklearn\\base.py:464: UserWarning: X does not have valid feature names, but SVR was fitted with feature names\n",
            "  warnings.warn(\n",
            "c:\\Users\\JuanFernandez\\anaconda3\\envs\\exergy_time_series_env\\lib\\site-packages\\sklearn\\base.py:464: UserWarning: X does not have valid feature names, but StandardScaler was fitted with feature names\n",
            "  warnings.warn(\n",
            "c:\\Users\\JuanFernandez\\anaconda3\\envs\\exergy_time_series_env\\lib\\site-packages\\sklearn\\base.py:464: UserWarning: X does not have valid feature names, but SVR was fitted with feature names\n",
            "  warnings.warn(\n",
            "c:\\Users\\JuanFernandez\\anaconda3\\envs\\exergy_time_series_env\\lib\\site-packages\\sklearn\\base.py:464: UserWarning: X does not have valid feature names, but StandardScaler was fitted with feature names\n",
            "  warnings.warn(\n",
            "c:\\Users\\JuanFernandez\\anaconda3\\envs\\exergy_time_series_env\\lib\\site-packages\\sklearn\\base.py:464: UserWarning: X does not have valid feature names, but SVR was fitted with feature names\n",
            "  warnings.warn(\n",
            "c:\\Users\\JuanFernandez\\anaconda3\\envs\\exergy_time_series_env\\lib\\site-packages\\sklearn\\base.py:464: UserWarning: X does not have valid feature names, but StandardScaler was fitted with feature names\n",
            "  warnings.warn(\n",
            "c:\\Users\\JuanFernandez\\anaconda3\\envs\\exergy_time_series_env\\lib\\site-packages\\sklearn\\base.py:464: UserWarning: X does not have valid feature names, but SVR was fitted with feature names\n",
            "  warnings.warn(\n",
            "c:\\Users\\JuanFernandez\\anaconda3\\envs\\exergy_time_series_env\\lib\\site-packages\\sklearn\\base.py:464: UserWarning: X does not have valid feature names, but StandardScaler was fitted with feature names\n",
            "  warnings.warn(\n",
            "c:\\Users\\JuanFernandez\\anaconda3\\envs\\exergy_time_series_env\\lib\\site-packages\\sklearn\\base.py:464: UserWarning: X does not have valid feature names, but SVR was fitted with feature names\n",
            "  warnings.warn(\n",
            "c:\\Users\\JuanFernandez\\anaconda3\\envs\\exergy_time_series_env\\lib\\site-packages\\sklearn\\base.py:464: UserWarning: X does not have valid feature names, but StandardScaler was fitted with feature names\n",
            "  warnings.warn(\n",
            "c:\\Users\\JuanFernandez\\anaconda3\\envs\\exergy_time_series_env\\lib\\site-packages\\sklearn\\base.py:464: UserWarning: X does not have valid feature names, but SVR was fitted with feature names\n",
            "  warnings.warn(\n",
            "c:\\Users\\JuanFernandez\\anaconda3\\envs\\exergy_time_series_env\\lib\\site-packages\\sklearn\\base.py:464: UserWarning: X does not have valid feature names, but StandardScaler was fitted with feature names\n",
            "  warnings.warn(\n",
            "c:\\Users\\JuanFernandez\\anaconda3\\envs\\exergy_time_series_env\\lib\\site-packages\\sklearn\\base.py:464: UserWarning: X does not have valid feature names, but SVR was fitted with feature names\n",
            "  warnings.warn(\n",
            "c:\\Users\\JuanFernandez\\anaconda3\\envs\\exergy_time_series_env\\lib\\site-packages\\sklearn\\base.py:464: UserWarning: X does not have valid feature names, but StandardScaler was fitted with feature names\n",
            "  warnings.warn(\n",
            "c:\\Users\\JuanFernandez\\anaconda3\\envs\\exergy_time_series_env\\lib\\site-packages\\sklearn\\base.py:464: UserWarning: X does not have valid feature names, but SVR was fitted with feature names\n",
            "  warnings.warn(\n",
            "c:\\Users\\JuanFernandez\\anaconda3\\envs\\exergy_time_series_env\\lib\\site-packages\\sklearn\\base.py:464: UserWarning: X does not have valid feature names, but StandardScaler was fitted with feature names\n",
            "  warnings.warn(\n",
            "c:\\Users\\JuanFernandez\\anaconda3\\envs\\exergy_time_series_env\\lib\\site-packages\\sklearn\\base.py:464: UserWarning: X does not have valid feature names, but SVR was fitted with feature names\n",
            "  warnings.warn(\n",
            "c:\\Users\\JuanFernandez\\anaconda3\\envs\\exergy_time_series_env\\lib\\site-packages\\sklearn\\base.py:464: UserWarning: X does not have valid feature names, but StandardScaler was fitted with feature names\n",
            "  warnings.warn(\n",
            "c:\\Users\\JuanFernandez\\anaconda3\\envs\\exergy_time_series_env\\lib\\site-packages\\sklearn\\base.py:464: UserWarning: X does not have valid feature names, but SVR was fitted with feature names\n",
            "  warnings.warn(\n",
            "c:\\Users\\JuanFernandez\\anaconda3\\envs\\exergy_time_series_env\\lib\\site-packages\\sklearn\\base.py:464: UserWarning: X does not have valid feature names, but StandardScaler was fitted with feature names\n",
            "  warnings.warn(\n",
            "c:\\Users\\JuanFernandez\\anaconda3\\envs\\exergy_time_series_env\\lib\\site-packages\\sklearn\\base.py:464: UserWarning: X does not have valid feature names, but SVR was fitted with feature names\n",
            "  warnings.warn(\n",
            "c:\\Users\\JuanFernandez\\anaconda3\\envs\\exergy_time_series_env\\lib\\site-packages\\sklearn\\base.py:464: UserWarning: X does not have valid feature names, but StandardScaler was fitted with feature names\n",
            "  warnings.warn(\n",
            "c:\\Users\\JuanFernandez\\anaconda3\\envs\\exergy_time_series_env\\lib\\site-packages\\sklearn\\base.py:464: UserWarning: X does not have valid feature names, but SVR was fitted with feature names\n",
            "  warnings.warn(\n",
            "c:\\Users\\JuanFernandez\\anaconda3\\envs\\exergy_time_series_env\\lib\\site-packages\\sklearn\\base.py:464: UserWarning: X does not have valid feature names, but StandardScaler was fitted with feature names\n",
            "  warnings.warn(\n",
            "c:\\Users\\JuanFernandez\\anaconda3\\envs\\exergy_time_series_env\\lib\\site-packages\\sklearn\\base.py:464: UserWarning: X does not have valid feature names, but SVR was fitted with feature names\n",
            "  warnings.warn(\n",
            "c:\\Users\\JuanFernandez\\anaconda3\\envs\\exergy_time_series_env\\lib\\site-packages\\sklearn\\base.py:464: UserWarning: X does not have valid feature names, but StandardScaler was fitted with feature names\n",
            "  warnings.warn(\n",
            "c:\\Users\\JuanFernandez\\anaconda3\\envs\\exergy_time_series_env\\lib\\site-packages\\sklearn\\base.py:464: UserWarning: X does not have valid feature names, but SVR was fitted with feature names\n",
            "  warnings.warn(\n",
            "c:\\Users\\JuanFernandez\\anaconda3\\envs\\exergy_time_series_env\\lib\\site-packages\\sklearn\\base.py:464: UserWarning: X does not have valid feature names, but StandardScaler was fitted with feature names\n",
            "  warnings.warn(\n",
            "c:\\Users\\JuanFernandez\\anaconda3\\envs\\exergy_time_series_env\\lib\\site-packages\\sklearn\\base.py:464: UserWarning: X does not have valid feature names, but SVR was fitted with feature names\n",
            "  warnings.warn(\n",
            "c:\\Users\\JuanFernandez\\anaconda3\\envs\\exergy_time_series_env\\lib\\site-packages\\sklearn\\base.py:464: UserWarning: X does not have valid feature names, but StandardScaler was fitted with feature names\n",
            "  warnings.warn(\n",
            "c:\\Users\\JuanFernandez\\anaconda3\\envs\\exergy_time_series_env\\lib\\site-packages\\sklearn\\base.py:464: UserWarning: X does not have valid feature names, but SVR was fitted with feature names\n",
            "  warnings.warn(\n",
            "c:\\Users\\JuanFernandez\\anaconda3\\envs\\exergy_time_series_env\\lib\\site-packages\\sklearn\\base.py:464: UserWarning: X does not have valid feature names, but StandardScaler was fitted with feature names\n",
            "  warnings.warn(\n",
            "c:\\Users\\JuanFernandez\\anaconda3\\envs\\exergy_time_series_env\\lib\\site-packages\\sklearn\\base.py:464: UserWarning: X does not have valid feature names, but SVR was fitted with feature names\n",
            "  warnings.warn(\n",
            "c:\\Users\\JuanFernandez\\anaconda3\\envs\\exergy_time_series_env\\lib\\site-packages\\sklearn\\base.py:464: UserWarning: X does not have valid feature names, but StandardScaler was fitted with feature names\n",
            "  warnings.warn(\n",
            "c:\\Users\\JuanFernandez\\anaconda3\\envs\\exergy_time_series_env\\lib\\site-packages\\sklearn\\base.py:464: UserWarning: X does not have valid feature names, but SVR was fitted with feature names\n",
            "  warnings.warn(\n",
            "c:\\Users\\JuanFernandez\\anaconda3\\envs\\exergy_time_series_env\\lib\\site-packages\\sklearn\\base.py:464: UserWarning: X does not have valid feature names, but StandardScaler was fitted with feature names\n",
            "  warnings.warn(\n",
            "c:\\Users\\JuanFernandez\\anaconda3\\envs\\exergy_time_series_env\\lib\\site-packages\\sklearn\\base.py:464: UserWarning: X does not have valid feature names, but SVR was fitted with feature names\n",
            "  warnings.warn(\n",
            "c:\\Users\\JuanFernandez\\anaconda3\\envs\\exergy_time_series_env\\lib\\site-packages\\sklearn\\base.py:464: UserWarning: X does not have valid feature names, but StandardScaler was fitted with feature names\n",
            "  warnings.warn(\n",
            "c:\\Users\\JuanFernandez\\anaconda3\\envs\\exergy_time_series_env\\lib\\site-packages\\sklearn\\base.py:464: UserWarning: X does not have valid feature names, but SVR was fitted with feature names\n",
            "  warnings.warn(\n",
            "c:\\Users\\JuanFernandez\\anaconda3\\envs\\exergy_time_series_env\\lib\\site-packages\\sklearn\\base.py:464: UserWarning: X does not have valid feature names, but StandardScaler was fitted with feature names\n",
            "  warnings.warn(\n",
            "c:\\Users\\JuanFernandez\\anaconda3\\envs\\exergy_time_series_env\\lib\\site-packages\\sklearn\\base.py:464: UserWarning: X does not have valid feature names, but SVR was fitted with feature names\n",
            "  warnings.warn(\n",
            "c:\\Users\\JuanFernandez\\anaconda3\\envs\\exergy_time_series_env\\lib\\site-packages\\sklearn\\base.py:464: UserWarning: X does not have valid feature names, but StandardScaler was fitted with feature names\n",
            "  warnings.warn(\n",
            "c:\\Users\\JuanFernandez\\anaconda3\\envs\\exergy_time_series_env\\lib\\site-packages\\sklearn\\base.py:464: UserWarning: X does not have valid feature names, but SVR was fitted with feature names\n",
            "  warnings.warn(\n",
            "c:\\Users\\JuanFernandez\\anaconda3\\envs\\exergy_time_series_env\\lib\\site-packages\\sklearn\\base.py:464: UserWarning: X does not have valid feature names, but StandardScaler was fitted with feature names\n",
            "  warnings.warn(\n",
            "c:\\Users\\JuanFernandez\\anaconda3\\envs\\exergy_time_series_env\\lib\\site-packages\\sklearn\\base.py:464: UserWarning: X does not have valid feature names, but SVR was fitted with feature names\n",
            "  warnings.warn(\n",
            "c:\\Users\\JuanFernandez\\anaconda3\\envs\\exergy_time_series_env\\lib\\site-packages\\sklearn\\base.py:464: UserWarning: X does not have valid feature names, but StandardScaler was fitted with feature names\n",
            "  warnings.warn(\n",
            "c:\\Users\\JuanFernandez\\anaconda3\\envs\\exergy_time_series_env\\lib\\site-packages\\sklearn\\base.py:464: UserWarning: X does not have valid feature names, but SVR was fitted with feature names\n",
            "  warnings.warn(\n",
            "c:\\Users\\JuanFernandez\\anaconda3\\envs\\exergy_time_series_env\\lib\\site-packages\\sklearn\\base.py:464: UserWarning: X does not have valid feature names, but StandardScaler was fitted with feature names\n",
            "  warnings.warn(\n",
            "c:\\Users\\JuanFernandez\\anaconda3\\envs\\exergy_time_series_env\\lib\\site-packages\\sklearn\\base.py:464: UserWarning: X does not have valid feature names, but SVR was fitted with feature names\n",
            "  warnings.warn(\n",
            "c:\\Users\\JuanFernandez\\anaconda3\\envs\\exergy_time_series_env\\lib\\site-packages\\sklearn\\base.py:464: UserWarning: X does not have valid feature names, but StandardScaler was fitted with feature names\n",
            "  warnings.warn(\n"
          ]
        }
      ],
      "source": [
        "# Debugging: Print the start and end of the temp_test to verify the range\n",
        "print(f\"Start of temp_test: {temp_test.index.min()}\")\n",
        "print(f\"End of temp_test: {temp_test.index.max()}\")\n",
        "\n",
        "# Iterate over the test data indices to make predictions and update the features accordingly\n",
        "case_indices = y_test.index\n",
        "for case_index in case_indices:\n",
        "    # print(f\"Processing case_index: {case_index}\")  # Debugging: current index being processed\n",
        "    \n",
        "    # Predict the load using the SVM model and update 'y_predicted' Series\n",
        "    load_prediction = svr.predict(X_test_last).flatten()[0]\n",
        "    y_predicted.update(pd.Series(load_prediction, index=[case_index]))\n",
        "    \n",
        "    # Scale the predicted 'load' for feature update\n",
        "    dummy_array = np.zeros((1, X_test_last.shape[1]))\n",
        "    dummy_array[0, -1] = load_prediction  # Assuming the last column in X_test_last is 'load'\n",
        "    load_scaled = sX.transform(dummy_array)[0, -1]\n",
        "    \n",
        "    # Update the 'last_loads' list with the new prediction\n",
        "    last_loads = np.roll(last_loads, -1)\n",
        "    last_loads[-1] = load_scaled\n",
        "    \n",
        "    # Compute new statistical features based on updated 'last_loads'\n",
        "    median_i = np.median(last_loads)\n",
        "    std_i = np.std(last_loads)\n",
        "    \n",
        "    # Handle temperature feature update with checks for missing timestamps\n",
        "    time_index = pd.Timestamp(case_index) + DateOffset(hours=1)\n",
        "    print(f\"Looking for temperature at: {time_index}\")  # Debugging: intended temperature timestamp\n",
        "    \n",
        "    if time_index in temp_test.index:\n",
        "        temp_i = temp_test.loc[time_index]\n",
        "    else:\n",
        "        print(f\"Timestamp {time_index} not found in temp_test. Using the last known temperature.\")\n",
        "        temp_i = temp_test.iloc[-1]  # Fallback if timestamp not found\n",
        "    \n",
        "    # Update features in 'X_test_last' for the next prediction\n",
        "    X_test_last = np.roll(X_test_last, -4)  # Assuming 4 features: median, std, T, load\n",
        "    X_test_last[0, -4:] = [median_i, std_i, temp_i, load_scaled]\n",
        "\n",
        "# At the end of this loop, 'y_predicted' will contain all the load predictions"
      ]
    },
    {
      "cell_type": "code",
      "execution_count": 113,
      "metadata": {
        "id": "y2czx1Q0KsCX"
      },
      "outputs": [
        {
          "data": {
            "text/plain": [
              "[<matplotlib.lines.Line2D at 0x1d7149ce530>]"
            ]
          },
          "execution_count": 113,
          "metadata": {},
          "output_type": "execute_result"
        },
        {
          "data": {
            "image/png": "[encoded data removed]",
            "text/plain": [
              "<Figure size 1200x600 with 1 Axes>"
            ]
          },
          "metadata": {},
          "output_type": "display_data"
        },
        {
          "name": "stdout",
          "output_type": "stream",
          "text": [
            "time: 157 ms (started: 2024-04-03 09:09:00 +02:00)\n"
          ]
        }
      ],
      "source": [
        "#Visualization of the accuracy:\n",
        "a = plt.axes(aspect='equal')\n",
        "plt.scatter(y_test, y_predicted)\n",
        "plt.xlabel('True Pressure Values')\n",
        "plt.ylabel('Predicted Pressures')\n",
        "lims = [2000, 4000]\n",
        "plt.xlim(lims), plt.ylim(lims)\n",
        "plt.plot(lims, lims)"
      ]
    },
    {
      "cell_type": "code",
      "execution_count": 114,
      "metadata": {
        "id": "Bhy3_OFTcx84"
      },
      "outputs": [
        {
          "data": {
            "text/plain": [
              "Text(0, 0.5, 'Count')"
            ]
          },
          "execution_count": 114,
          "metadata": {},
          "output_type": "execute_result"
        },
        {
          "data": {
            "image/png": "[encoded data removed]",
            "text/plain": [
              "<Figure size 1200x600 with 1 Axes>"
            ]
          },
          "metadata": {},
          "output_type": "display_data"
        },
        {
          "name": "stdout",
          "output_type": "stream",
          "text": [
            "time: 141 ms (started: 2024-04-03 09:09:00 +02:00)\n"
          ]
        }
      ],
      "source": [
        "# Calculating the error variations:\n",
        "error_nn = (y_predicted - y_test)/y_test*100\n",
        "plt.hist(error_nn, bins=20)\n",
        "plt.xlabel('Predicted Relative % Error')\n",
        "plt.ylabel('Count')"
      ]
    },
    {
      "cell_type": "code",
      "execution_count": 115,
      "metadata": {
        "id": "_vc-t0oFcx84"
      },
      "outputs": [
        {
          "data": {
            "text/plain": [
              "0.30034047586917684"
            ]
          },
          "execution_count": 115,
          "metadata": {},
          "output_type": "execute_result"
        },
        {
          "name": "stdout",
          "output_type": "stream",
          "text": [
            "time: 0 ns (started: 2024-04-03 09:09:00 +02:00)\n"
          ]
        }
      ],
      "source": [
        "#Calculating the mean absolutepercentage error:\n",
        "abs_error_nn = abs(y_predicted - y_test)/y_test*100\n",
        "np.average(error_nn)"
      ]
    },
    {
      "cell_type": "code",
      "execution_count": 116,
      "metadata": {
        "id": "VdIzSpeLcx84"
      },
      "outputs": [
        {
          "name": "stdout",
          "output_type": "stream",
          "text": [
            "R^2 score is  0.89\n",
            "time: 0 ns (started: 2024-04-03 09:09:00 +02:00)\n"
          ]
        }
      ],
      "source": [
        "#Calculating R2 value:\n",
        "r2_test = r2_score(y_test, y_predicted)\n",
        "print('R^2 score is  %3.2f' %r2_test)"
      ]
    },
    {
      "cell_type": "code",
      "execution_count": 117,
      "metadata": {
        "id": "1rb9lQ8Qcx85"
      },
      "outputs": [
        {
          "data": {
            "image/png": "[encoded data removed]",
            "text/plain": [
              "<Figure size 1200x600 with 1 Axes>"
            ]
          },
          "metadata": {},
          "output_type": "display_data"
        },
        {
          "name": "stdout",
          "output_type": "stream",
          "text": [
            "time: 265 ms (started: 2024-04-03 09:09:00 +02:00)\n"
          ]
        }
      ],
      "source": [
        "#Plotting the Figure: \n",
        "plt.figure();\n",
        "plt.plot(y_test, 'k.-');\n",
        "plt.plot(y_predicted, 'x', alpha=0.70);\n",
        "\n",
        "plt.legend(['Actual',\n",
        "            'Predicted 1 hr ahead'\n",
        "            ]);\n",
        "plt.ylabel('Load');\n",
        "plt.xlabel('Time Index');\n",
        "plt.title('SVM');\n",
        "mpl.rcParams['figure.figsize'] = [12.0, 6.0]"
      ]
    },
    {
      "cell_type": "code",
      "execution_count": 118,
      "metadata": {},
      "outputs": [
        {
          "data": {
            "image/png": "[encoded data removed]",
            "text/plain": [
              "<Figure size 1000x600 with 1 Axes>"
            ]
          },
          "metadata": {},
          "output_type": "display_data"
        },
        {
          "name": "stdout",
          "output_type": "stream",
          "text": [
            "time: 203 ms (started: 2024-04-03 09:09:00 +02:00)\n"
          ]
        }
      ],
      "source": [
        "# Plot actual vs predicted\n",
        "plt.figure(figsize=(10, 6))\n",
        "plt.plot(y_test.index, y_test, label='Actual', color='blue', marker='o', linestyle='-', linewidth=2)\n",
        "plt.plot(y_predicted.index, y_predicted, label='Predicted 1 hr ahead', color='red', alpha=0.6, marker='x', linestyle='None')\n",
        "plt.title('SVM Regression: Actual vs Predicted Load')\n",
        "plt.xlabel('Time')\n",
        "plt.ylabel('Load')\n",
        "plt.legend()\n",
        "plt.show()"
      ]
    },
    {
      "cell_type": "markdown",
      "metadata": {
        "id": "fgxMQXUkbQ9-"
      },
      "source": [
        "# Self Study\n",
        "\n",
        "It would be a good exercise to combine SVM with PCA. \n",
        "\n",
        "i) Create a feature matrix X with a much larger sliding window. You may also add additional features.\n",
        "\n",
        "ii) Transform and reduce the dimensionality via PCA (#_components should be high enough to cover >95% variance).\n",
        "\n",
        "iii) Feed transformed X into SVM. \n",
        "\n",
        "iV) Try to predict much further points in time.\n",
        "\n"
      ]
    },
    {
      "cell_type": "markdown",
      "metadata": {
        "id": "It6Yj72ObQ9-"
      },
      "source": [
        "# Reading Material\n",
        "\n",
        "https://en.wikipedia.org/wiki/Time_series\n",
        "\n",
        "https://earthobservatory.nasa.gov/features/WxForecasting\n",
        "\n",
        "https://robjhyndman.com/hyndsight/forecasting-competitions/\n",
        "\n",
        "https://en.wikipedia.org/wiki/Autocorrelation\n",
        "\n",
        "https://en.wikipedia.org/wiki/Partial_autocorrelation_function\n",
        "\n",
        "Dataset source: Tao Hong, Pierre Pinson, Shu Fan, Hamidreza Zareipour, Alberto Troccoli and Rob J. Hyndman, \"Probabilistic energy forecasting: Global Energy Forecasting Competition 2014 and beyond\", International Journal of Forecasting, 2016.\n",
        "\n",
        "https://www.ge.com/power/future-of-energy\n",
        "\n",
        "https://www.ge.com/news/reports/part-1-transformation-change-energy-ecosystem"
      ]
    }
  ],
  "metadata": {
    "colab": {
      "collapsed_sections": [],
      "name": "Lecture_8.ipynb",
      "provenance": [],
      "toc_visible": true
    },
    "kernelspec": {
      "display_name": "Python 3",
      "name": "python3"
    },
    "language_info": {
      "codemirror_mode": {
        "name": "ipython",
        "version": 3
      },
      "file_extension": ".py",
      "mimetype": "text/x-python",
      "name": "python",
      "nbconvert_exporter": "python",
      "pygments_lexer": "ipython3",
      "version": "3.10.13"
    }
  },
  "nbformat": 4,
  "nbformat_minor": 0
}
