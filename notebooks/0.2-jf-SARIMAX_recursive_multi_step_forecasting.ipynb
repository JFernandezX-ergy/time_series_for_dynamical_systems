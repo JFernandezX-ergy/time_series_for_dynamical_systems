{
  "cells": [
    {
      "cell_type": "markdown",
      "metadata": {
        "id": "cQxGOeC7ZmUj"
      },
      "source": [
        "Time Series Analysis for Dynamical Systems\n"
      ]
    },
    {
      "cell_type": "markdown",
      "metadata": {
        "id": "rA_3sqmEls1m"
      },
      "source": [
        "# 1. Problem Definition: Short Term Load Forecasting\n",
        "\n",
        "Load forecasting within the context of energy demand. It is an open-access data published as the appendix Hong et al. (2016). The data consists of three years of hourly electricity load and temperatures."
      ]
    },
    {
      "cell_type": "markdown",
      "metadata": {
        "id": "C9yyayGmmaKy"
      },
      "source": [
        "\n",
        "# 2. Preparing the environment\n",
        "\n",
        "Import the Python libraries that we will need to (i) load the data, (ii) analyze it, (iii) create our model, (iv) process the results."
      ]
    },
    {
      "cell_type": "code",
      "execution_count": 16,
      "metadata": {
        "colab": {
          "base_uri": "https://localhost:8080/"
        },
        "id": "yWFatBGPPinR",
        "outputId": "37f6e9d4-f871-47c4-e4c8-7c274f604e63"
      },
      "outputs": [
        {
          "name": "stdout",
          "output_type": "stream",
          "text": [
            "Requirement already satisfied: ipython-autotime in c:\\users\\juanfernandez\\anaconda3\\envs\\energy_portfolio_management\\lib\\site-packages (0.3.2)\n",
            "Requirement already satisfied: ipython in c:\\users\\juanfernandez\\anaconda3\\envs\\energy_portfolio_management\\lib\\site-packages (from ipython-autotime) (8.16.1)\n",
            "Requirement already satisfied: backcall in c:\\users\\juanfernandez\\anaconda3\\envs\\energy_portfolio_management\\lib\\site-packages (from ipython->ipython-autotime) (0.2.0)\n",
            "Requirement already satisfied: decorator in c:\\users\\juanfernandez\\anaconda3\\envs\\energy_portfolio_management\\lib\\site-packages (from ipython->ipython-autotime) (5.1.1)\n",
            "Requirement already satisfied: jedi>=0.16 in c:\\users\\juanfernandez\\anaconda3\\envs\\energy_portfolio_management\\lib\\site-packages (from ipython->ipython-autotime) (0.19.1)\n",
            "Requirement already satisfied: matplotlib-inline in c:\\users\\juanfernandez\\anaconda3\\envs\\energy_portfolio_management\\lib\\site-packages (from ipython->ipython-autotime) (0.1.6)\n",
            "Requirement already satisfied: pickleshare in c:\\users\\juanfernandez\\anaconda3\\envs\\energy_portfolio_management\\lib\\site-packages (from ipython->ipython-autotime) (0.7.5)\n",
            "Requirement already satisfied: prompt-toolkit!=3.0.37,<3.1.0,>=3.0.30 in c:\\users\\juanfernandez\\anaconda3\\envs\\energy_portfolio_management\\lib\\site-packages (from ipython->ipython-autotime) (3.0.39)\n",
            "Requirement already satisfied: pygments>=2.4.0 in c:\\users\\juanfernandez\\anaconda3\\envs\\energy_portfolio_management\\lib\\site-packages (from ipython->ipython-autotime) (2.16.1)\n",
            "Requirement already satisfied: stack-data in c:\\users\\juanfernandez\\anaconda3\\envs\\energy_portfolio_management\\lib\\site-packages (from ipython->ipython-autotime) (0.6.2)\n",
            "Requirement already satisfied: traitlets>=5 in c:\\users\\juanfernandez\\anaconda3\\envs\\energy_portfolio_management\\lib\\site-packages (from ipython->ipython-autotime) (5.12.0)\n",
            "Requirement already satisfied: exceptiongroup in c:\\users\\juanfernandez\\anaconda3\\envs\\energy_portfolio_management\\lib\\site-packages (from ipython->ipython-autotime) (1.1.3)\n",
            "Requirement already satisfied: colorama in c:\\users\\juanfernandez\\anaconda3\\envs\\energy_portfolio_management\\lib\\site-packages (from ipython->ipython-autotime) (0.4.6)\n",
            "Requirement already satisfied: parso<0.9.0,>=0.8.3 in c:\\users\\juanfernandez\\anaconda3\\envs\\energy_portfolio_management\\lib\\site-packages (from jedi>=0.16->ipython->ipython-autotime) (0.8.3)\n",
            "Requirement already satisfied: wcwidth in c:\\users\\juanfernandez\\anaconda3\\envs\\energy_portfolio_management\\lib\\site-packages (from prompt-toolkit!=3.0.37,<3.1.0,>=3.0.30->ipython->ipython-autotime) (0.2.8)\n",
            "Requirement already satisfied: executing>=1.2.0 in c:\\users\\juanfernandez\\anaconda3\\envs\\energy_portfolio_management\\lib\\site-packages (from stack-data->ipython->ipython-autotime) (1.2.0)\n",
            "Requirement already satisfied: asttokens>=2.1.0 in c:\\users\\juanfernandez\\anaconda3\\envs\\energy_portfolio_management\\lib\\site-packages (from stack-data->ipython->ipython-autotime) (2.4.0)\n",
            "Requirement already satisfied: pure-eval in c:\\users\\juanfernandez\\anaconda3\\envs\\energy_portfolio_management\\lib\\site-packages (from stack-data->ipython->ipython-autotime) (0.2.2)\n",
            "Requirement already satisfied: six>=1.12.0 in c:\\users\\juanfernandez\\anaconda3\\envs\\energy_portfolio_management\\lib\\site-packages (from asttokens>=2.1.0->stack-data->ipython->ipython-autotime) (1.16.0)\n",
            "The autotime extension is already loaded. To reload it, use:\n",
            "  %reload_ext autotime\n",
            "time: 1.47 s (started: 2024-09-13 13:00:24 +02:00)\n"
          ]
        },
        {
          "name": "stderr",
          "output_type": "stream",
          "text": [
            "\n",
            "[notice] A new release of pip is available: 24.1.1 -> 24.2\n",
            "[notice] To update, run: python.exe -m pip install --upgrade pip\n"
          ]
        }
      ],
      "source": [
        "!pip install ipython-autotime\n",
        "%load_ext autotime"
      ]
    },
    {
      "cell_type": "markdown",
      "metadata": {
        "id": "OYJUVWg9-HxL"
      },
      "source": [
        "## Libraries"
      ]
    },
    {
      "cell_type": "code",
      "execution_count": 17,
      "metadata": {
        "colab": {
          "base_uri": "https://localhost:8080/"
        },
        "id": "8i9z1Kao-kQT",
        "outputId": "9e31b1c3-caa2-4c87-d5dd-6d9303f498fa"
      },
      "outputs": [
        {
          "name": "stdout",
          "output_type": "stream",
          "text": [
            "Requirement already satisfied: statsmodels in c:\\users\\juanfernandez\\anaconda3\\envs\\energy_portfolio_management\\lib\\site-packages (0.14.0)\n",
            "Requirement already satisfied: numpy>=1.18 in c:\\users\\juanfernandez\\anaconda3\\envs\\energy_portfolio_management\\lib\\site-packages (from statsmodels) (1.23.4)\n",
            "Requirement already satisfied: scipy!=1.9.2,>=1.4 in c:\\users\\juanfernandez\\anaconda3\\envs\\energy_portfolio_management\\lib\\site-packages (from statsmodels) (1.12.0)\n",
            "Requirement already satisfied: pandas>=1.0 in c:\\users\\juanfernandez\\anaconda3\\envs\\energy_portfolio_management\\lib\\site-packages (from statsmodels) (1.5.3)\n",
            "Requirement already satisfied: patsy>=0.5.2 in c:\\users\\juanfernandez\\anaconda3\\envs\\energy_portfolio_management\\lib\\site-packages (from statsmodels) (0.5.3)\n",
            "Requirement already satisfied: packaging>=21.3 in c:\\users\\juanfernandez\\anaconda3\\envs\\energy_portfolio_management\\lib\\site-packages (from statsmodels) (23.2)\n",
            "Requirement already satisfied: python-dateutil>=2.8.1 in c:\\users\\juanfernandez\\anaconda3\\envs\\energy_portfolio_management\\lib\\site-packages (from pandas>=1.0->statsmodels) (2.8.2)\n",
            "Requirement already satisfied: pytz>=2020.1 in c:\\users\\juanfernandez\\anaconda3\\envs\\energy_portfolio_management\\lib\\site-packages (from pandas>=1.0->statsmodels) (2023.3.post1)\n",
            "Requirement already satisfied: six in c:\\users\\juanfernandez\\anaconda3\\envs\\energy_portfolio_management\\lib\\site-packages (from patsy>=0.5.2->statsmodels) (1.16.0)\n",
            "time: 1.45 s (started: 2024-09-13 13:00:25 +02:00)\n"
          ]
        },
        {
          "name": "stderr",
          "output_type": "stream",
          "text": [
            "\n",
            "[notice] A new release of pip is available: 24.1.1 -> 24.2\n",
            "[notice] To update, run: python.exe -m pip install --upgrade pip\n"
          ]
        }
      ],
      "source": [
        "#Local Installations\n",
        "!pip install statsmodels"
      ]
    },
    {
      "cell_type": "code",
      "execution_count": 18,
      "metadata": {
        "colab": {
          "base_uri": "https://localhost:8080/"
        },
        "id": "qQAx5I7N-GQ0",
        "outputId": "c1cf47fc-0eaa-47b1-ad16-5d0a6ac2b127"
      },
      "outputs": [
        {
          "name": "stdout",
          "output_type": "stream",
          "text": [
            "time: 0 ns (started: 2024-09-13 13:00:27 +02:00)\n"
          ]
        }
      ],
      "source": [
        "#Importing the necessary libraries\n",
        "import math\n",
        "import numpy as np\n",
        "import pandas as pd\n",
        "import datetime as dt\n",
        "import os\n",
        "import itertools\n",
        "import matplotlib.pyplot as plt\n",
        "import seaborn as sns\n",
        "color = sns.color_palette()\n",
        "import matplotlib as mpl\n",
        "from matplotlib import colors as mcolors\n",
        "colors = dict(mcolors.BASE_COLORS, **mcolors.CSS4_COLORS)\n",
        "import statsmodels.api as sm\n",
        "import warnings\n",
        "import matplotlib.dates as mdates\n",
        "from pandas.plotting import lag_plot, autocorrelation_plot\n",
        "from statsmodels.graphics.tsaplots import plot_acf, plot_pacf "
      ]
    },
    {
      "cell_type": "code",
      "execution_count": 19,
      "metadata": {
        "colab": {
          "base_uri": "https://localhost:8080/"
        },
        "id": "Bde603-P-KSz",
        "outputId": "9cfa993e-26aa-4cb1-ee21-cfd9425ca441"
      },
      "outputs": [
        {
          "name": "stdout",
          "output_type": "stream",
          "text": [
            "time: 0 ns (started: 2024-09-13 13:00:27 +02:00)\n"
          ]
        }
      ],
      "source": [
        "# Data Preparation and Scoring\n",
        "from sklearn import preprocessing as pp\n",
        "from scipy import stats\n",
        "from sklearn.model_selection import train_test_split\n",
        "from sklearn.model_selection import KFold\n",
        "from sklearn.model_selection import GridSearchCV\n",
        "from scipy.stats import reciprocal\n",
        "from sklearn.model_selection import RandomizedSearchCV\n",
        "from sklearn.metrics import make_scorer\n",
        "from sklearn.metrics import accuracy_score\n",
        "from sklearn.metrics import mean_absolute_error\n",
        "from sklearn.metrics import r2_score\n",
        "from sklearn.metrics import mean_squared_error\n",
        "from matplotlib.colors import LogNorm"
      ]
    },
    {
      "cell_type": "code",
      "execution_count": 20,
      "metadata": {
        "colab": {
          "base_uri": "https://localhost:8080/"
        },
        "id": "Pdh6vaiE-PVi",
        "outputId": "dc9288d1-3d1d-4ec8-b182-b81a1607c4ca"
      },
      "outputs": [
        {
          "name": "stdout",
          "output_type": "stream",
          "text": [
            "time: 0 ns (started: 2024-09-13 13:00:27 +02:00)\n"
          ]
        }
      ],
      "source": [
        "# ML Algorithms to be used\n",
        "from statsmodels.tsa.statespace.sarimax import SARIMAX\n",
        "from sklearn.svm import SVR"
      ]
    },
    {
      "cell_type": "markdown",
      "metadata": {
        "id": "_4cDs8HWmfhF"
      },
      "source": [
        "# 3. Pre-processing\n"
      ]
    },
    {
      "cell_type": "code",
      "execution_count": 23,
      "metadata": {
        "colab": {
          "base_uri": "https://localhost:8080/",
          "height": 224
        },
        "id": "lP0FCEaz6qJC",
        "outputId": "bd9455ac-018d-4ecf-defe-173a0c48045f"
      },
      "outputs": [
        {
          "name": "stdout",
          "output_type": "stream",
          "text": [
            "time: 0 ns (started: 2024-09-13 13:00:46 +02:00)\n"
          ]
        }
      ],
      "source": [
        "cwd = os.getcwd()\n",
        "DATA_PATH = os.path.join(cwd, '..', 'data')\n",
        "RAW_DATA_PATH = os.path.join(DATA_PATH, 'raw')\n",
        "def read_Data():\n",
        "    data_path = os.path.join(RAW_DATA_PATH, \"energy.csv\") #,parse_dates=[['Date', 'Hour']]) if date and hour to be merged here.\n",
        "    data = pd.read_csv(data_path)\n",
        "    return data"
      ]
    },
    {
      "cell_type": "code",
      "execution_count": 24,
      "metadata": {},
      "outputs": [
        {
          "name": "stdout",
          "output_type": "stream",
          "text": [
            "time: 32 ms (started: 2024-09-13 13:00:47 +02:00)\n"
          ]
        }
      ],
      "source": [
        "data = read_Data()"
      ]
    },
    {
      "cell_type": "code",
      "execution_count": 25,
      "metadata": {},
      "outputs": [
        {
          "name": "stdout",
          "output_type": "stream",
          "text": [
            "time: 171 ms (started: 2024-09-13 13:00:50 +02:00)\n"
          ]
        }
      ],
      "source": [
        "data = data.dropna()\n",
        "data.loc[data.Hour == 24, \"Hour\"] = 0\n",
        "data.iloc[23]\n",
        "#Converting time hour into string:\n",
        "data['Hour']= data['Hour'].apply(str)\n",
        "#Merging Columns:\n",
        "data['Date']= data['Date']+' '+ data['Hour']\n",
        "data = data.drop(['Hour'],axis=1)\n",
        "# convert the column to datetime type:\n",
        "datetime_series = pd.to_datetime(data['Date'],format='%d/%m/%Y %H')\n",
        "#Create datetime index and pass it:\n",
        "datetime_index = pd.DatetimeIndex(datetime_series.values)\n",
        "#Updating the indices:\n",
        "data=(data.set_index(datetime_index)).drop(['Date'],axis=1)\n",
        "data = data.sort_index()"
      ]
    },
    {
      "cell_type": "markdown",
      "metadata": {
        "id": "y4NSgbOlHDUG"
      },
      "source": [
        "# SARIMAX - Recursive Multi-step Forecasting\n",
        "\n",
        " In this approach, a single model is trained to make one-step-ahead predictions, and its outputs are fed back as inputs to forecast multiple steps into the future. For example, if you want to predict three future time steps, you would use the same model to predict the first step, then use that prediction as input to predict the second step, and so on. This method can be computationally efficient but may accumulate errors from each prediction."
      ]
    },
    {
      "cell_type": "markdown",
      "metadata": {
        "id": "cR1-uaz96k4v"
      },
      "source": [
        "### Implementing the Model\n"
      ]
    },
    {
      "cell_type": "code",
      "execution_count": 26,
      "metadata": {
        "colab": {
          "base_uri": "https://localhost:8080/"
        },
        "id": "u1nNMTP5CKoz",
        "outputId": "1e844507-ae69-4547-d405-c2123ad40a2c"
      },
      "outputs": [
        {
          "name": "stdout",
          "output_type": "stream",
          "text": [
            "Train data shape:  (18984, 1)\n",
            "Test data shape:  (72, 1)\n",
            "time: 0 ns (started: 2024-09-13 13:00:53 +02:00)\n"
          ]
        }
      ],
      "source": [
        "# Train-Test Split:\n",
        "# We will split the data as training and test. No need for validation here. \n",
        "train_start_dt = '2012-09-01'\n",
        "test_start_dt = '2014-11-01'\n",
        "test_end_dt = '2014-11-04'\n",
        "# trainin data: filtered copy\n",
        "train = data.copy()[(data.index >= train_start_dt)& (data.index < test_start_dt)][['load']]\n",
        "# test data: filtered copy\n",
        "test = data.copy()[(data.index >= test_start_dt) & (data.index < test_end_dt)][['load']]\n",
        "#let's see how it looks like:\n",
        "print('Train data shape: ', train.shape)\n",
        "print('Test data shape: ', test.shape)"
      ]
    },
    {
      "cell_type": "code",
      "execution_count": 23,
      "metadata": {
        "colab": {
          "base_uri": "https://localhost:8080/"
        },
        "id": "cj6371DNFwyF",
        "outputId": "144f8fbb-4250-439a-da4f-7c67847179a8"
      },
      "outputs": [
        {
          "name": "stdout",
          "output_type": "stream",
          "text": [
            "time: 0 ns (started: 2024-09-13 12:15:48 +02:00)\n"
          ]
        }
      ],
      "source": [
        "#Rescaling the data [0,1]\n",
        "scaler = pp.MinMaxScaler()\n",
        "train['load'] = scaler.fit_transform(train)\n",
        "test['load'] = scaler.transform(test)"
      ]
    },
    {
      "cell_type": "code",
      "execution_count": 24,
      "metadata": {
        "colab": {
          "base_uri": "https://localhost:8080/"
        },
        "id": "YfwZKd25G1mM",
        "outputId": "48baabb6-ce19-4480-ec36-37e3c77937ae"
      },
      "outputs": [
        {
          "name": "stdout",
          "output_type": "stream",
          "text": [
            "time: 0 ns (started: 2024-09-13 12:15:48 +02:00)\n"
          ]
        }
      ],
      "source": [
        "#-----------------------------------------------------------\n",
        "#Hyperparameters\n",
        "#-----------------------------------------------------------\n",
        "horizon = 6\n",
        "#The (p,d,q) order of the model for the number of AR parameters, differences, and MA parameters. \n",
        "# d must be an integer indicating the integration order of the process, while p and q may either \n",
        "# be an integers indicating the AR and MA orders (so that all lags up to those orders are included)\n",
        "# or else iterables giving specific AR and / or MA lags to include. Default is an AR(1) model: (1,0,0).\n",
        "order = (3, 1, 6)\n",
        "#The (P,D,Q,s) order of the seasonal component of the model for:\n",
        "# the AR parameters,  differences, MA parameters, and periodicity.\n",
        "seasonal_order = (1, 1, 1, 24) # 24 is the daily seasonality order"
      ]
    },
    {
      "cell_type": "code",
      "execution_count": 25,
      "metadata": {
        "colab": {
          "base_uri": "https://localhost:8080/"
        },
        "id": "UHzWyj-SHBgB",
        "outputId": "f128e341-4538-4e94-99e4-c0c2a2925199"
      },
      "outputs": [
        {
          "name": "stdout",
          "output_type": "stream",
          "text": [
            "time: 16 ms (started: 2024-09-13 12:15:48 +02:00)\n"
          ]
        },
        {
          "name": "stderr",
          "output_type": "stream",
          "text": [
            "c:\\Users\\JuanFernandez\\anaconda3\\envs\\energy_portfolio_management\\lib\\site-packages\\statsmodels\\tsa\\base\\tsa_model.py:473: ValueWarning: No frequency information was provided, so inferred frequency H will be used.\n",
            "  self._init_dates(dates, freq)\n",
            "c:\\Users\\JuanFernandez\\anaconda3\\envs\\energy_portfolio_management\\lib\\site-packages\\statsmodels\\tsa\\base\\tsa_model.py:473: ValueWarning: No frequency information was provided, so inferred frequency H will be used.\n",
            "  self._init_dates(dates, freq)\n"
          ]
        }
      ],
      "source": [
        "#Model implementation\n",
        "#here endog is the observed time-series process y:\n",
        "model = SARIMAX(endog=train, order=order, seasonal_order=seasonal_order)"
      ]
    },
    {
      "cell_type": "code",
      "execution_count": 26,
      "metadata": {
        "colab": {
          "base_uri": "https://localhost:8080/",
          "height": 441
        },
        "id": "uO-lzEizI9Ti",
        "outputId": "428a53f7-4b76-4842-ef53-50dc331b6967"
      },
      "outputs": [
        {
          "data": {
            "text/html": [
              "<div>\n",
              "<style scoped>\n",
              "    .dataframe tbody tr th:only-of-type {\n",
              "        vertical-align: middle;\n",
              "    }\n",
              "\n",
              "    .dataframe tbody tr th {\n",
              "        vertical-align: top;\n",
              "    }\n",
              "\n",
              "    .dataframe thead th {\n",
              "        text-align: right;\n",
              "    }\n",
              "</style>\n",
              "<table border=\"1\" class=\"dataframe\">\n",
              "  <thead>\n",
              "    <tr style=\"text-align: right;\">\n",
              "      <th></th>\n",
              "      <th>load</th>\n",
              "      <th>load+1</th>\n",
              "      <th>load+2</th>\n",
              "      <th>load+3</th>\n",
              "      <th>load+4</th>\n",
              "      <th>load+5</th>\n",
              "    </tr>\n",
              "  </thead>\n",
              "  <tbody>\n",
              "    <tr>\n",
              "      <th>2014-11-01 00:00:00</th>\n",
              "      <td>0.223112</td>\n",
              "      <td>0.164869</td>\n",
              "      <td>0.140216</td>\n",
              "      <td>0.126656</td>\n",
              "      <td>0.124191</td>\n",
              "      <td>0.135593</td>\n",
              "    </tr>\n",
              "    <tr>\n",
              "      <th>2014-11-01 01:00:00</th>\n",
              "      <td>0.164869</td>\n",
              "      <td>0.140216</td>\n",
              "      <td>0.126656</td>\n",
              "      <td>0.124191</td>\n",
              "      <td>0.135593</td>\n",
              "      <td>0.166718</td>\n",
              "    </tr>\n",
              "    <tr>\n",
              "      <th>2014-11-01 02:00:00</th>\n",
              "      <td>0.140216</td>\n",
              "      <td>0.126656</td>\n",
              "      <td>0.124191</td>\n",
              "      <td>0.135593</td>\n",
              "      <td>0.166718</td>\n",
              "      <td>0.226502</td>\n",
              "    </tr>\n",
              "    <tr>\n",
              "      <th>2014-11-01 03:00:00</th>\n",
              "      <td>0.126656</td>\n",
              "      <td>0.124191</td>\n",
              "      <td>0.135593</td>\n",
              "      <td>0.166718</td>\n",
              "      <td>0.226502</td>\n",
              "      <td>0.305393</td>\n",
              "    </tr>\n",
              "    <tr>\n",
              "      <th>2014-11-01 04:00:00</th>\n",
              "      <td>0.124191</td>\n",
              "      <td>0.135593</td>\n",
              "      <td>0.166718</td>\n",
              "      <td>0.226502</td>\n",
              "      <td>0.305393</td>\n",
              "      <td>0.372881</td>\n",
              "    </tr>\n",
              "    <tr>\n",
              "      <th>...</th>\n",
              "      <td>...</td>\n",
              "      <td>...</td>\n",
              "      <td>...</td>\n",
              "      <td>...</td>\n",
              "      <td>...</td>\n",
              "      <td>...</td>\n",
              "    </tr>\n",
              "    <tr>\n",
              "      <th>2014-11-03 14:00:00</th>\n",
              "      <td>0.430817</td>\n",
              "      <td>0.427427</td>\n",
              "      <td>0.448382</td>\n",
              "      <td>0.502311</td>\n",
              "      <td>0.585824</td>\n",
              "      <td>0.575655</td>\n",
              "    </tr>\n",
              "    <tr>\n",
              "      <th>2014-11-03 15:00:00</th>\n",
              "      <td>0.427427</td>\n",
              "      <td>0.448382</td>\n",
              "      <td>0.502311</td>\n",
              "      <td>0.585824</td>\n",
              "      <td>0.575655</td>\n",
              "      <td>0.539599</td>\n",
              "    </tr>\n",
              "    <tr>\n",
              "      <th>2014-11-03 16:00:00</th>\n",
              "      <td>0.448382</td>\n",
              "      <td>0.502311</td>\n",
              "      <td>0.585824</td>\n",
              "      <td>0.575655</td>\n",
              "      <td>0.539599</td>\n",
              "      <td>0.490601</td>\n",
              "    </tr>\n",
              "    <tr>\n",
              "      <th>2014-11-03 17:00:00</th>\n",
              "      <td>0.502311</td>\n",
              "      <td>0.585824</td>\n",
              "      <td>0.575655</td>\n",
              "      <td>0.539599</td>\n",
              "      <td>0.490601</td>\n",
              "      <td>0.396302</td>\n",
              "    </tr>\n",
              "    <tr>\n",
              "      <th>2014-11-03 18:00:00</th>\n",
              "      <td>0.585824</td>\n",
              "      <td>0.575655</td>\n",
              "      <td>0.539599</td>\n",
              "      <td>0.490601</td>\n",
              "      <td>0.396302</td>\n",
              "      <td>0.302311</td>\n",
              "    </tr>\n",
              "  </tbody>\n",
              "</table>\n",
              "<p>67 rows × 6 columns</p>\n",
              "</div>"
            ],
            "text/plain": [
              "                         load    load+1    load+2    load+3    load+4  \\\n",
              "2014-11-01 00:00:00  0.223112  0.164869  0.140216  0.126656  0.124191   \n",
              "2014-11-01 01:00:00  0.164869  0.140216  0.126656  0.124191  0.135593   \n",
              "2014-11-01 02:00:00  0.140216  0.126656  0.124191  0.135593  0.166718   \n",
              "2014-11-01 03:00:00  0.126656  0.124191  0.135593  0.166718  0.226502   \n",
              "2014-11-01 04:00:00  0.124191  0.135593  0.166718  0.226502  0.305393   \n",
              "...                       ...       ...       ...       ...       ...   \n",
              "2014-11-03 14:00:00  0.430817  0.427427  0.448382  0.502311  0.585824   \n",
              "2014-11-03 15:00:00  0.427427  0.448382  0.502311  0.585824  0.575655   \n",
              "2014-11-03 16:00:00  0.448382  0.502311  0.585824  0.575655  0.539599   \n",
              "2014-11-03 17:00:00  0.502311  0.585824  0.575655  0.539599  0.490601   \n",
              "2014-11-03 18:00:00  0.585824  0.575655  0.539599  0.490601  0.396302   \n",
              "\n",
              "                       load+5  \n",
              "2014-11-01 00:00:00  0.135593  \n",
              "2014-11-01 01:00:00  0.166718  \n",
              "2014-11-01 02:00:00  0.226502  \n",
              "2014-11-01 03:00:00  0.305393  \n",
              "2014-11-01 04:00:00  0.372881  \n",
              "...                       ...  \n",
              "2014-11-03 14:00:00  0.575655  \n",
              "2014-11-03 15:00:00  0.539599  \n",
              "2014-11-03 16:00:00  0.490601  \n",
              "2014-11-03 17:00:00  0.396302  \n",
              "2014-11-03 18:00:00  0.302311  \n",
              "\n",
              "[67 rows x 6 columns]"
            ]
          },
          "execution_count": 26,
          "metadata": {},
          "output_type": "execute_result"
        },
        {
          "name": "stdout",
          "output_type": "stream",
          "text": [
            "time: 16 ms (started: 2024-09-13 12:15:48 +02:00)\n"
          ]
        }
      ],
      "source": [
        "#Copying the test DF:\n",
        "test_shifted = test.copy()\n",
        "#preparing the shifted test data:\n",
        "for t in range(1, horizon):\n",
        "  test_shifted['load+'+str(t)] = test_shifted['load'].shift(-t, freq='H')\n",
        "test_shifted = test_shifted.dropna()\n",
        "test_shifted"
      ]
    },
    {
      "cell_type": "code",
      "execution_count": 27,
      "metadata": {
        "colab": {
          "base_uri": "https://localhost:8080/"
        },
        "id": "mp_9FTMD0MD5",
        "outputId": "f7418c4e-fe48-4b66-ac9c-b40f0f93b0d1"
      },
      "outputs": [
        {
          "name": "stdout",
          "output_type": "stream",
          "text": [
            "time: 0 ns (started: 2024-09-13 12:15:48 +02:00)\n"
          ]
        }
      ],
      "source": [
        "#Warning update:\n",
        "#----------------\n",
        "#each optimization inside the profile likelihood generates a warning, \n",
        "#we turn off the warnings here to make the output clean in the below cell:\n",
        "import warnings\n",
        "from statsmodels.tools.sm_exceptions import ConvergenceWarning\n",
        "warnings.simplefilter('ignore', ConvergenceWarning)\n",
        "#You can check the source code from here:\n",
        "#https://www.statsmodels.org/0.8.0/_modules/statsmodels/base/model.html"
      ]
    },
    {
      "cell_type": "code",
      "execution_count": 28,
      "metadata": {
        "colab": {
          "base_uri": "https://localhost:8080/"
        },
        "id": "pBBpAGGVJhmP",
        "outputId": "f8e43304-7322-4571-dcb0-8d51030f60a8"
      },
      "outputs": [
        {
          "name": "stdout",
          "output_type": "stream",
          "text": [
            "2014-11-01 00:00:00\n",
            "1 : predicted = [0.20396937 0.1586907  0.1224784  0.1007945  0.10024499 0.12661711] true value = [0.22311248073959933, 0.16486902927580893, 0.1402157164869029, 0.12665639445300458, 0.12419106317411399, 0.13559322033898302]\n",
            "2014-11-01 06:00:00\n",
            "7 : predicted = [0.20381291 0.33660985 0.40871839 0.42752047 0.43690674 0.43673583] true value = [0.1667180277349769, 0.22650231124807396, 0.30539291217257314, 0.3728813559322034, 0.42434514637904464, 0.4489984591679508]\n",
            "2014-11-01 12:00:00\n",
            "13 : predicted = [0.42948558 0.41697011 0.40994855 0.39586381 0.39448041 0.41258219] true value = [0.4576271186440677, 0.4499229583975346, 0.44006163328197223, 0.4345146379044684, 0.43852080123266557, 0.4656394453004622]\n",
            "2014-11-01 18:00:00\n",
            "19 : predicted = [0.44892143 0.48024573 0.45635781 0.41895429 0.34988961 0.26254473] true value = [0.5044684129429893, 0.5109399075500771, 0.46995377503852076, 0.43050847457627106, 0.3679506933744222, 0.2933744221879815]\n",
            "2014-11-02 00:00:00\n",
            "25 : predicted = [0.18397156 0.13545024 0.10700581 0.09051073 0.09013874 0.11388675] true value = [0.19414483821263484, 0.18089368258859784, 0.14483821263482277, 0.13312788906009243, 0.13343605546995374, 0.1482280431432974]\n",
            "2014-11-02 06:00:00\n",
            "31 : predicted = [0.18697651 0.31687844 0.39064185 0.4129142  0.42555904 0.42820466] true value = [0.1852080123266564, 0.2542372881355932, 0.3389830508474576, 0.41941448382126345, 0.4628659476117103, 0.48228043143297383]\n",
            "2014-11-02 12:00:00\n",
            "37 : predicted = [0.4222133  0.40999423 0.40234221 0.3879232  0.38624417 0.405252  ] true value = [0.4899845916795069, 0.47519260400616337, 0.4551617873651772, 0.438828967642527, 0.4449922958397534, 0.48536209553158693]\n",
            "2014-11-02 18:00:00\n",
            "43 : predicted = [0.44625003 0.48560686 0.4636935  0.41987128 0.34540609 0.2545939 ] true value = [0.5318952234206471, 0.5072419106317412, 0.45423728813559316, 0.4101694915254237, 0.3334360554699538, 0.25053929121725727]\n",
            "2014-11-03 00:00:00\n",
            "49 : predicted = [0.17628772 0.1270208  0.10008536 0.08538708 0.08519313 0.10857376] true value = [0.22989214175654848, 0.16086286594761168, 0.14422187981510015, 0.13682588597842837, 0.1432973805855161, 0.1799691833590138]\n",
            "2014-11-03 06:00:00\n",
            "55 : predicted = [0.18098073 0.31104812 0.38551521 0.4077983  0.42084696 0.42378984] true value = [0.273035439137134, 0.4073959938366718, 0.4530046224961479, 0.4579352850539291, 0.45824345146379053, 0.4576271186440677]\n",
            "2014-11-03 12:00:00\n",
            "61 : predicted = [0.41806893 0.40612787 0.39883006 0.38504809 0.3832415  0.40223024] true value = [0.45392912172573197, 0.4332819722650232, 0.4308166409861325, 0.42742681047765796, 0.44838212634822794, 0.50231124807396]\n",
            "2014-11-03 18:00:00\n",
            "67 : predicted = [0.44455967 0.48483255 0.46217867 0.41732846 0.34172946 0.25013341] true value = [0.5858243451463789, 0.5756548536209554, 0.5395993836671802, 0.49060092449922954, 0.3963020030816642, 0.3023112480739599]\n",
            "time: 11min 28s (started: 2024-09-13 12:15:48 +02:00)\n"
          ]
        }
      ],
      "source": [
        "# Predictions on test data:\n",
        "training_window = 720 # Here we are using a very small portion of the past,\n",
        "# I think we made like this so that the trining is not too computationaly expensive\n",
        "train_ts = train['load']\n",
        "test_ts = test_shifted\n",
        "#Creating the history\n",
        "history = [x for x in train_ts]\n",
        "#Filtering the training window: Uncomment the below line if you want.\n",
        "history = history[(-training_window):]\n",
        "#Creating predictions to store the model outcomes:\n",
        "predictions = list()\n",
        "#Calling model: \n",
        "#Horizon calculation list:\n",
        "for t in range(0,test_ts.shape[0],horizon):\n",
        "  model = SARIMAX(endog=history, order=order, seasonal_order=seasonal_order)\n",
        "  #Model fitting:\n",
        "  model_fit = model.fit()\n",
        "  #Model predictions:\n",
        "  y_p = model_fit.forecast(steps = horizon) # its like model predict in scikit learn\n",
        "  obs = list(test_ts.iloc[t])\n",
        "# moving the training window: here I add the prediction as in real life we would \n",
        "# not know the true value! Here we will also save the predictions.\n",
        "  for j in range(horizon):\n",
        "    predictions.append(y_p[j])\n",
        "    history.append(y_p[j])\n",
        "  #Dropping the first horizon elements:\n",
        "  for j in range(horizon):\n",
        "    history.pop(0)\n",
        "  print(test_ts.index[t])\n",
        "  print(t+1, ': predicted =', y_p, 'true value =', obs)"
      ]
    },
    {
      "cell_type": "code",
      "execution_count": 29,
      "metadata": {
        "colab": {
          "base_uri": "https://localhost:8080/"
        },
        "id": "7NvsflkTKuk8",
        "outputId": "d01e21cd-ad33-40bc-b550-6972e7f8561f"
      },
      "outputs": [
        {
          "name": "stdout",
          "output_type": "stream",
          "text": [
            "<class 'pandas.core.frame.DataFrame'>\n",
            "DatetimeIndex: 72 entries, 2014-11-01 00:00:00 to 2014-11-03 23:00:00\n",
            "Data columns (total 2 columns):\n",
            " #   Column      Non-Null Count  Dtype  \n",
            "---  ------      --------------  -----  \n",
            " 0   prediction  72 non-null     float64\n",
            " 1   actual      72 non-null     float64\n",
            "dtypes: float64(2)\n",
            "memory usage: 1.7 KB\n",
            "time: 16 ms (started: 2024-09-13 12:27:17 +02:00)\n"
          ]
        }
      ],
      "source": [
        "# Evaluation of results:\n",
        "# We will combine the predictions with the actual load values in a DF. \n",
        "eval_df = pd.DataFrame(predictions)\n",
        "eval_df.columns = ['prediction']\n",
        "#Updating the indices:\n",
        "eval_df=(eval_df.set_index(test.index)) #\n",
        "#Adding true values:\n",
        "eval_df['actual'] = test['load']\n",
        "#Let's check:\n",
        "eval_df.info()"
      ]
    },
    {
      "cell_type": "code",
      "execution_count": 30,
      "metadata": {
        "colab": {
          "base_uri": "https://localhost:8080/"
        },
        "id": "tR8RH0g49xbU",
        "outputId": "5c29dbb7-b28f-4099-d2a6-f2887af2acf1"
      },
      "outputs": [
        {
          "name": "stdout",
          "output_type": "stream",
          "text": [
            "time: 0 ns (started: 2024-09-13 12:27:17 +02:00)\n"
          ]
        }
      ],
      "source": [
        "#Back-transforming:\n",
        "eval_df[['prediction', 'actual']] = scaler.inverse_transform(eval_df[['prediction', 'actual']])"
      ]
    },
    {
      "cell_type": "code",
      "execution_count": 31,
      "metadata": {
        "colab": {
          "base_uri": "https://localhost:8080/",
          "height": 421
        },
        "id": "fMvtDN04m4M1",
        "outputId": "0eafb818-ca22-48a5-afc2-2a32e01b0f66"
      },
      "outputs": [
        {
          "data": {
            "image/png": "[encoded data removed]",
            "text/plain": [
              "<Figure size 640x480 with 1 Axes>"
            ]
          },
          "metadata": {},
          "output_type": "display_data"
        },
        {
          "name": "stdout",
          "output_type": "stream",
          "text": [
            "time: 219 ms (started: 2024-09-13 12:27:17 +02:00)\n"
          ]
        }
      ],
      "source": [
        "#Plotting predictions: \n",
        "plt.figure();\n",
        "plt.plot(eval_df['actual'], 'k.-');\n",
        "plt.plot(eval_df['prediction'], 'x', alpha=0.70);\n",
        "#plt.plot(np.arange(0, 69),eval_df['prediction'].iloc[69:138], 'o', alpha=0.70);\n",
        "#plt.plot(np.arange(0, 69),eval_df['prediction'].iloc[-69:], '+', alpha=0.70);\n",
        "plt.legend(['Actual',\n",
        "            ('Predicted with ' + str (horizon) + ' hr horizon')])\n",
        "plt.ylabel('Load');\n",
        "plt.xlabel('Time Index');\n",
        "plt.title('SARIMAX');\n"
      ]
    },
    {
      "cell_type": "code",
      "execution_count": 32,
      "metadata": {
        "colab": {
          "base_uri": "https://localhost:8080/",
          "height": 427
        },
        "id": "LzODQKuHMENx",
        "outputId": "36973c3c-0c8d-4aee-fda0-b44abc636797"
      },
      "outputs": [
        {
          "data": {
            "text/plain": [
              "[<matplotlib.lines.Line2D at 0x2907f2baf50>]"
            ]
          },
          "execution_count": 32,
          "metadata": {},
          "output_type": "execute_result"
        },
        {
          "data": {
            "image/png": "[encoded data removed]",
            "text/plain": [
              "<Figure size 640x480 with 1 Axes>"
            ]
          },
          "metadata": {},
          "output_type": "display_data"
        },
        {
          "name": "stdout",
          "output_type": "stream",
          "text": [
            "time: 94 ms (started: 2024-09-13 12:27:17 +02:00)\n"
          ]
        }
      ],
      "source": [
        "#Visual comparisons of the predictions:\n",
        "#---------------------------------------\n",
        "#Visualization of the accuracy\n",
        "a = plt.axes(aspect='equal')\n",
        "plt.scatter(eval_df['actual'], eval_df['prediction'],marker='*',alpha=0.80)\n",
        "#plt.scatter(eval_df['actual'].iloc[0:69], eval_df['prediction'].iloc[69:138],marker='o',alpha=0.60)\n",
        "#plt.scatter(eval_df['actual'].iloc[0:69], eval_df['prediction'].iloc[138:207],marker='+',alpha=0.50)\n",
        "plt.xlabel('True Load Values')\n",
        "plt.ylabel('Predicted Load Values')\n",
        "lims = [2000, 4500]\n",
        "plt.xlim(lims), plt.ylim(lims)\n",
        "plt.plot(lims, lims)"
      ]
    },
    {
      "cell_type": "code",
      "execution_count": 33,
      "metadata": {
        "colab": {
          "base_uri": "https://localhost:8080/",
          "height": 423
        },
        "id": "uqiNQiPMk9oL",
        "outputId": "94ebaf3a-156e-4f49-e239-35a08102df96"
      },
      "outputs": [
        {
          "data": {
            "text/plain": [
              "Text(0, 0.5, 'Count')"
            ]
          },
          "execution_count": 33,
          "metadata": {},
          "output_type": "execute_result"
        },
        {
          "data": {
            "image/png": "[encoded data removed]",
            "text/plain": [
              "<Figure size 640x480 with 1 Axes>"
            ]
          },
          "metadata": {},
          "output_type": "display_data"
        },
        {
          "name": "stdout",
          "output_type": "stream",
          "text": [
            "time: 125 ms (started: 2024-09-13 12:27:17 +02:00)\n"
          ]
        }
      ],
      "source": [
        "# Calculating the error variations:\n",
        "error_nn1 = (eval_df['prediction'] - eval_df['actual'])/eval_df['actual']*100\n",
        "\n",
        "plt.hist(error_nn1, bins=30,alpha=0.9)\n",
        "plt.xlabel('Predicted Relative % Error')\n",
        "plt.ylabel('Count')"
      ]
    },
    {
      "cell_type": "code",
      "execution_count": 34,
      "metadata": {
        "colab": {
          "base_uri": "https://localhost:8080/"
        },
        "id": "ybGg5AFQ5mOD",
        "outputId": "06c1de8f-feca-4d16-aa6c-de5a64c227a8"
      },
      "outputs": [
        {
          "name": "stdout",
          "output_type": "stream",
          "text": [
            "R^2 score is  0.85\n",
            "time: 0 ns (started: 2024-09-13 12:27:17 +02:00)\n"
          ]
        }
      ],
      "source": [
        "#Calculating R^2: r2_score(y_true, y_pred)\n",
        "Score_sarimax = r2_score(eval_df['actual'],eval_df['prediction'])\n",
        "print('R^2 score is  %3.2f' %np.mean(Score_sarimax))"
      ]
    },
    {
      "cell_type": "markdown",
      "metadata": {
        "id": "3znw1epxG-CZ"
      },
      "source": [
        "# ML Algorithms for Forecasting: SVM"
      ]
    },
    {
      "cell_type": "markdown",
      "metadata": {
        "id": "xaApZSY0Awlt"
      },
      "source": [
        "## Organizing the Feature Matrix"
      ]
    },
    {
      "cell_type": "code",
      "execution_count": 25,
      "metadata": {
        "colab": {
          "base_uri": "https://localhost:8080/",
          "height": 161
        },
        "id": "lOZblMjrAm3Z",
        "outputId": "aafcaea8-a6e6-4d62-c9f8-624bf991f5cb"
      },
      "outputs": [
        {
          "data": {
            "text/html": [
              "<div>\n",
              "<style scoped>\n",
              "    .dataframe tbody tr th:only-of-type {\n",
              "        vertical-align: middle;\n",
              "    }\n",
              "\n",
              "    .dataframe tbody tr th {\n",
              "        vertical-align: top;\n",
              "    }\n",
              "\n",
              "    .dataframe thead th {\n",
              "        text-align: right;\n",
              "    }\n",
              "</style>\n",
              "<table border=\"1\" class=\"dataframe\">\n",
              "  <thead>\n",
              "    <tr style=\"text-align: right;\">\n",
              "      <th></th>\n",
              "      <th>load</th>\n",
              "      <th>T</th>\n",
              "    </tr>\n",
              "  </thead>\n",
              "  <tbody>\n",
              "    <tr>\n",
              "      <th>2011-04-21 07:00:00</th>\n",
              "      <td>3111.0</td>\n",
              "      <td>38.33</td>\n",
              "    </tr>\n",
              "    <tr>\n",
              "      <th>2008-04-19 21:00:00</th>\n",
              "      <td>3172.0</td>\n",
              "      <td>57.33</td>\n",
              "    </tr>\n",
              "    <tr>\n",
              "      <th>2012-03-06 01:00:00</th>\n",
              "      <td>2827.0</td>\n",
              "      <td>16.67</td>\n",
              "    </tr>\n",
              "  </tbody>\n",
              "</table>\n",
              "</div>"
            ],
            "text/plain": [
              "                       load      T\n",
              "2011-04-21 07:00:00  3111.0  38.33\n",
              "2008-04-19 21:00:00  3172.0  57.33\n",
              "2012-03-06 01:00:00  2827.0  16.67"
            ]
          },
          "execution_count": 25,
          "metadata": {},
          "output_type": "execute_result"
        },
        {
          "name": "stdout",
          "output_type": "stream",
          "text": [
            "time: 15 ms (started: 2024-09-13 12:14:21 +02:00)\n"
          ]
        }
      ],
      "source": [
        "#Checking Data:\n",
        "data.sample(3)"
      ]
    },
    {
      "cell_type": "code",
      "execution_count": 26,
      "metadata": {
        "colab": {
          "base_uri": "https://localhost:8080/"
        },
        "id": "mAqLnJ4FCDIt",
        "outputId": "2a953896-1391-4902-88a9-953416782d92"
      },
      "outputs": [
        {
          "name": "stdout",
          "output_type": "stream",
          "text": [
            "<class 'pandas.core.frame.DataFrame'>\n",
            "DatetimeIndex: 78885 entries, 2006-01-01 03:00:00 to 2014-12-31 23:00:00\n",
            "Data columns (total 4 columns):\n",
            " #   Column  Non-Null Count  Dtype  \n",
            "---  ------  --------------  -----  \n",
            " 0   median  78885 non-null  float64\n",
            " 1   std     78885 non-null  float64\n",
            " 2   T       78885 non-null  float64\n",
            " 3   load    78885 non-null  float64\n",
            "dtypes: float64(4)\n",
            "memory usage: 3.0 MB\n",
            "time: 31 ms (started: 2024-09-13 12:14:30 +02:00)\n"
          ]
        }
      ],
      "source": [
        "#Adding statistics features in dataframes:\n",
        "#------------------------------------------------\n",
        "#Let's use only the load data;\n",
        "load_data = data[['load']]\n",
        "#Defining the window width:\n",
        "width = 4\n",
        "#Calling Rolling:\n",
        "window = load_data.rolling(window=width)\n",
        "#Let's save as a new DF. We will add min, mean and max to the load column:\n",
        "new_dataframe = pd.concat([window.median(), window.std(),data['T'], data['load']], axis=1)\n",
        "new_dataframe.columns = ['median', 'std','T', 'load']\n",
        "new_dataframe = new_dataframe.dropna() \n",
        "new_dataframe.info()"
      ]
    },
    {
      "cell_type": "code",
      "execution_count": 27,
      "metadata": {
        "colab": {
          "base_uri": "https://localhost:8080/",
          "height": 98
        },
        "id": "231KKWkSUUqx",
        "outputId": "9b068658-4d78-451b-fab8-d6506d896f6f"
      },
      "outputs": [
        {
          "data": {
            "text/html": [
              "<div>\n",
              "<style scoped>\n",
              "    .dataframe tbody tr th:only-of-type {\n",
              "        vertical-align: middle;\n",
              "    }\n",
              "\n",
              "    .dataframe tbody tr th {\n",
              "        vertical-align: top;\n",
              "    }\n",
              "\n",
              "    .dataframe thead th {\n",
              "        text-align: right;\n",
              "    }\n",
              "</style>\n",
              "<table border=\"1\" class=\"dataframe\">\n",
              "  <thead>\n",
              "    <tr style=\"text-align: right;\">\n",
              "      <th></th>\n",
              "      <th>median</th>\n",
              "      <th>std</th>\n",
              "      <th>T</th>\n",
              "      <th>load</th>\n",
              "    </tr>\n",
              "  </thead>\n",
              "  <tbody>\n",
              "    <tr>\n",
              "      <th>2006-01-01 03:00:00</th>\n",
              "      <td>2919.0</td>\n",
              "      <td>117.88271</td>\n",
              "      <td>21.33</td>\n",
              "      <td>2758.0</td>\n",
              "    </tr>\n",
              "  </tbody>\n",
              "</table>\n",
              "</div>"
            ],
            "text/plain": [
              "                     median        std      T    load\n",
              "2006-01-01 03:00:00  2919.0  117.88271  21.33  2758.0"
            ]
          },
          "execution_count": 27,
          "metadata": {},
          "output_type": "execute_result"
        },
        {
          "name": "stdout",
          "output_type": "stream",
          "text": [
            "time: 0 ns (started: 2024-09-13 12:14:33 +02:00)\n"
          ]
        }
      ],
      "source": [
        "new_dataframe.head(1)"
      ]
    },
    {
      "cell_type": "markdown",
      "metadata": {
        "id": "hqTUNuPrGbRU"
      },
      "source": [
        "## Building the X Matrix and Labels\n",
        "\n",
        "Adding the temporal data with sliding intervals in time. Lets first look with an illustration:"
      ]
    },
    {
      "cell_type": "code",
      "execution_count": 28,
      "metadata": {
        "colab": {
          "base_uri": "https://localhost:8080/",
          "height": 391
        },
        "id": "Rd1KueOfGa52",
        "outputId": "5d9da8d8-add9-4dfa-d3c3-42220cb45fc4"
      },
      "outputs": [
        {
          "data": {
            "image/png": "[encoded data removed]",
            "text/plain": [
              "<Figure size 640x480 with 4 Axes>"
            ]
          },
          "metadata": {},
          "output_type": "display_data"
        },
        {
          "name": "stdout",
          "output_type": "stream",
          "text": [
            "time: 594 ms (started: 2024-09-13 12:14:35 +02:00)\n"
          ]
        }
      ],
      "source": [
        "#finding the indices as integers for time substraction below:\n",
        "start = np.where(new_dataframe.index == '2014-03-01 00:00:00')[0][0]\n",
        "middle = np.where(new_dataframe.index == '2014-03-01 12:00:00')[0][0]\n",
        "end = np.where(new_dataframe.index == '2014-03-02 00:00:00')[0][0]\n",
        "#sliding window width:\n",
        "window = 4\n",
        "#Plotting a sliding interval sample:\n",
        "fig, ax = plt.subplots(nrows=4,sharex=True);\n",
        "for i in range(4): \n",
        "    full = new_dataframe.iloc[start:end]['load']\n",
        "    train = new_dataframe.iloc[middle - i - window:middle - i ]['load']\n",
        "    predict = new_dataframe.iloc[middle - i:middle - i + 1]['load']\n",
        "\n",
        "    ax[3-i].plot((full + 2*i),c='grey', alpha=0.5);\n",
        "    ax[3-i].plot((train + 2*i),c=colors['lightskyblue'], markersize=4,marker='o')\n",
        "    ax[3-i].plot((predict + 2*i),c=colors['midnightblue'], markersize=8,marker='o', linestyle='')\n",
        "\n",
        "ax[0].get_yaxis().set_ticks([]);\n",
        "ax[0].legend(['full time series','$\\mathbf{X}$','$y$'],bbox_to_anchor=(1, 1));\n"
      ]
    },
    {
      "cell_type": "markdown",
      "metadata": {
        "id": "yfQBOa4CPJq_"
      },
      "source": [
        "Lets follow the same logic and create our feature matrix A in this way."
      ]
    },
    {
      "cell_type": "code",
      "execution_count": 201,
      "metadata": {
        "colab": {
          "base_uri": "https://localhost:8080/"
        },
        "id": "R4_yJO5jQEn6",
        "outputId": "958447ad-a889-4a53-e91a-b9e8513b2e27"
      },
      "outputs": [
        {
          "name": "stdout",
          "output_type": "stream",
          "text": [
            "time: 938 ms (started: 2024-09-13 11:08:25 +02:00)\n"
          ]
        }
      ],
      "source": [
        "#finding the indices as integers for time substraction below:\n",
        "start = np.where(new_dataframe.index == '2012-09-01 00:00:00')[0][0]\n",
        "end = np.where(new_dataframe.index == '2014-11-04 00:00:00')[0][0]\n",
        "#setting windows width:\n",
        "window = 4\n",
        "#emply datalist\n",
        "dataX = []\n",
        "dataY = []\n",
        "column_names = []\n",
        "for i in range(start,end-window):\n",
        "\n",
        "    # Slice a window of features\n",
        "    dataX.append((new_dataframe.iloc[i:i+window].to_numpy()).ravel())\n",
        "    dataY.append(new_dataframe['load'].iloc[i+window] )\n",
        "\n",
        "for j in range (1,window+1):\n",
        "      column_names.append(['median_t_'+str(j),'std_t_'+str(j),'T_t_'+str(j),'load_t_'+str(j)])\n",
        "\n",
        "column_names = itertools.chain(*column_names)\n",
        "dataX = pd.DataFrame(np.vstack(dataX),index=new_dataframe.iloc[start+window:end].index)\n",
        "dataX.columns = column_names\n",
        "dataY =pd.Series(dataY,index=new_dataframe.iloc[start+window:end].index)\n",
        "dataY.column = ['true_load']"
      ]
    },
    {
      "attachments": {},
      "cell_type": "markdown",
      "metadata": {},
      "source": [
        "#### Example:\n",
        "\n",
        "   The purpose of this loop is to create sliding windows of data for the features (dataX) and the target variable (dataY).\n",
        "\n",
        "    Let's say our new_dataframe looks like this (a simple example with 7 rows and 4 columns, including the target variable 'load'):\n",
        "\n",
        "new_dataframe:\n",
        "|    Date    | median_t | std_t | T_t | load |\n",
        "|------------|----------|-------|-----|------|\n",
        "| 2012-09-01 |        1 |     5 |   9 |   13 |\n",
        "| 2012-09-02 |        2 |     6 |  10 |   14 |\n",
        "| 2012-09-03 |        3 |     7 |  11 |   15 |\n",
        "| 2012-09-04 |        4 |     8 |  12 |   16 |\n",
        "| 2012-09-05 |        5 |     9 |  13 |   17 |\n",
        "| 2012-09-06 |        6 |    10 |  14 |   18 |\n",
        "| 2012-09-07 |        7 |    11 |  15 |   19 |\n",
        "\n",
        "    And we set window = 3.\n",
        "\n",
        "    Now, let's walk through the loop:\n",
        "\n",
        "    i = start (i.e., the index of the first row)\n",
        "\n",
        "    We create a window of size 3 for features:\n",
        "\n",
        "    1  5  9\n",
        "    2  6 10\n",
        "    3  7 11\n",
        "    We ravel this window into a single row:\n",
        "\n",
        "    1  5  9  2  6 10  3  7 11\n",
        "    We add this row to dataX.\n",
        "\n",
        "    For the target variable, we take the 'load' value at the position i + window (i.e., 16) and add it to dataY.\n",
        "\n",
        "    i = start + 1 (i.e., the index of the second row)\n",
        "\n",
        "    We create a window of size 3 for features:\n",
        "\n",
        "    2  6 10\n",
        "    3  7 11\n",
        "    4  8 12\n",
        "    We ravel this window into a single row:\n",
        "\n",
        "    2  6 10  3  7 11  4  8 12\n",
        "    We add this row to dataX.\n",
        "\n",
        "    For the target variable, we take the 'load' value at the position i + window (i.e., 17) and add it to dataY.\n",
        "\n",
        "    The loop continues until i = end - window. After the loop, dataX and dataY will look like this:\n",
        "\n",
        "dataX:\n",
        "|    Date    | median_t_1 | std_t_1 | T_t_1 | median_t_2 | std_t_2 | T_t_2 | median_t_3 | std_t_3 | T_t_3 |\n",
        "|------------|------------|---------|-------|------------|---------|-------|------------|---------|-------|\n",
        "| 2012-09-04 |          1 |       5 |     9 |          2 |       6 |    10 |          3 |       7 |    11 |\n",
        "| 2012-09-05 |          2 |       6 |    10 |          3 |       7 |    11 |          4 |       8 |    12 |\n",
        "\n",
        "dataY:\n",
        "|    Date    | load |\n",
        "|------------|------|\n",
        "| 2012-09-04 |   16 |\n",
        "| 2012-09-05 |   17 |\n",
        "\n",
        "    In this example, we have created a dataset with sliding windows of size 3, where each row in dataX contains the features from a window and the corresponding row in dataY contains the target variable ('load') right after that window.\n",
        "\n",
        "    Increasing the value of the sliding window changes the amount of historical data being considered for each instance in the dataset. A larger sliding window size means that more past data points are being used to predict the target variable.\n",
        "\n",
        "    In the context of your example, increasing the sliding window size to 48 would mean that each instance in dataX would have information from the 48 previous time steps. The physical meaning of this change depends on the temporal resolution of your data. For example, if your data is hourly, a sliding window of 48 would consider the past 48 hours of data for each prediction, while if the data is daily, it would consider the past 48 days.\n",
        "\n",
        "    A larger sliding window size may capture longer-term patterns in the data, making it potentially more useful for predicting the target variable. However, it's important to note that increasing the sliding window size also increases the dimensionality of the input features, which can lead to a more complex model and may require more computational resources. Additionally, a larger window size may result in less training instances, as more data is required to form each instance.\n",
        "\n",
        "    Ultimately, the optimal sliding window size depends on the specific problem and the nature of the data. It may be useful to experiment with different window sizes and evaluate the performance of the resulting models to find the best trade-off between capturing meaningful patterns in the data and maintaining a manageable input feature size."
      ]
    },
    {
      "cell_type": "code",
      "execution_count": 202,
      "metadata": {
        "colab": {
          "base_uri": "https://localhost:8080/",
          "height": 255
        },
        "id": "5D0XvtAriCm7",
        "outputId": "59fe67ce-6874-478d-f27a-9a5d7de54f2b"
      },
      "outputs": [
        {
          "data": {
            "text/html": [
              "<div>\n",
              "<style scoped>\n",
              "    .dataframe tbody tr th:only-of-type {\n",
              "        vertical-align: middle;\n",
              "    }\n",
              "\n",
              "    .dataframe tbody tr th {\n",
              "        vertical-align: top;\n",
              "    }\n",
              "\n",
              "    .dataframe thead th {\n",
              "        text-align: right;\n",
              "    }\n",
              "</style>\n",
              "<table border=\"1\" class=\"dataframe\">\n",
              "  <thead>\n",
              "    <tr style=\"text-align: right;\">\n",
              "      <th></th>\n",
              "      <th>median</th>\n",
              "      <th>std</th>\n",
              "      <th>T</th>\n",
              "      <th>load</th>\n",
              "    </tr>\n",
              "  </thead>\n",
              "  <tbody>\n",
              "    <tr>\n",
              "      <th>2014-09-01 00:00:00</th>\n",
              "      <td>3504.0</td>\n",
              "      <td>339.155815</td>\n",
              "      <td>69.67</td>\n",
              "      <td>3087.0</td>\n",
              "    </tr>\n",
              "    <tr>\n",
              "      <th>2014-09-01 01:00:00</th>\n",
              "      <td>3226.0</td>\n",
              "      <td>329.974115</td>\n",
              "      <td>71.00</td>\n",
              "      <td>2886.0</td>\n",
              "    </tr>\n",
              "    <tr>\n",
              "      <th>2014-09-01 02:00:00</th>\n",
              "      <td>2986.5</td>\n",
              "      <td>261.282095</td>\n",
              "      <td>70.00</td>\n",
              "      <td>2768.0</td>\n",
              "    </tr>\n",
              "    <tr>\n",
              "      <th>2014-09-01 03:00:00</th>\n",
              "      <td>2827.0</td>\n",
              "      <td>169.892123</td>\n",
              "      <td>69.33</td>\n",
              "      <td>2699.0</td>\n",
              "    </tr>\n",
              "    <tr>\n",
              "      <th>2014-09-01 04:00:00</th>\n",
              "      <td>2733.5</td>\n",
              "      <td>92.903175</td>\n",
              "      <td>68.33</td>\n",
              "      <td>2681.0</td>\n",
              "    </tr>\n",
              "    <tr>\n",
              "      <th>2014-09-01 05:00:00</th>\n",
              "      <td>2694.5</td>\n",
              "      <td>39.686270</td>\n",
              "      <td>68.33</td>\n",
              "      <td>2690.0</td>\n",
              "    </tr>\n",
              "  </tbody>\n",
              "</table>\n",
              "</div>"
            ],
            "text/plain": [
              "                     median         std      T    load\n",
              "2014-09-01 00:00:00  3504.0  339.155815  69.67  3087.0\n",
              "2014-09-01 01:00:00  3226.0  329.974115  71.00  2886.0\n",
              "2014-09-01 02:00:00  2986.5  261.282095  70.00  2768.0\n",
              "2014-09-01 03:00:00  2827.0  169.892123  69.33  2699.0\n",
              "2014-09-01 04:00:00  2733.5   92.903175  68.33  2681.0\n",
              "2014-09-01 05:00:00  2694.5   39.686270  68.33  2690.0"
            ]
          },
          "execution_count": 202,
          "metadata": {},
          "output_type": "execute_result"
        },
        {
          "name": "stdout",
          "output_type": "stream",
          "text": [
            "time: 16 ms (started: 2024-09-13 11:10:09 +02:00)\n"
          ]
        }
      ],
      "source": [
        "#Original DF:\n",
        "new_dataframe.loc['2014-09-01 00:00:00':'2014-09-04 00:00:00'].head(6)"
      ]
    },
    {
      "cell_type": "code",
      "execution_count": 203,
      "metadata": {
        "colab": {
          "base_uri": "https://localhost:8080/",
          "height": 208
        },
        "id": "-29jygVriUO-",
        "outputId": "716ff3c1-5eda-4897-b997-1a000169ee01"
      },
      "outputs": [
        {
          "data": {
            "text/html": [
              "<div>\n",
              "<style scoped>\n",
              "    .dataframe tbody tr th:only-of-type {\n",
              "        vertical-align: middle;\n",
              "    }\n",
              "\n",
              "    .dataframe tbody tr th {\n",
              "        vertical-align: top;\n",
              "    }\n",
              "\n",
              "    .dataframe thead th {\n",
              "        text-align: right;\n",
              "    }\n",
              "</style>\n",
              "<table border=\"1\" class=\"dataframe\">\n",
              "  <thead>\n",
              "    <tr style=\"text-align: right;\">\n",
              "      <th></th>\n",
              "      <th>median_t_1</th>\n",
              "      <th>std_t_1</th>\n",
              "      <th>T_t_1</th>\n",
              "      <th>load_t_1</th>\n",
              "      <th>median_t_2</th>\n",
              "      <th>std_t_2</th>\n",
              "      <th>T_t_2</th>\n",
              "      <th>load_t_2</th>\n",
              "      <th>median_t_3</th>\n",
              "      <th>std_t_3</th>\n",
              "      <th>T_t_3</th>\n",
              "      <th>load_t_3</th>\n",
              "      <th>median_t_4</th>\n",
              "      <th>std_t_4</th>\n",
              "      <th>T_t_4</th>\n",
              "      <th>load_t_4</th>\n",
              "    </tr>\n",
              "  </thead>\n",
              "  <tbody>\n",
              "    <tr>\n",
              "      <th>2012-09-01 04:00:00</th>\n",
              "      <td>3543.0</td>\n",
              "      <td>524.914199</td>\n",
              "      <td>59.33</td>\n",
              "      <td>2719.0</td>\n",
              "      <td>3104.5</td>\n",
              "      <td>465.842964</td>\n",
              "      <td>69.67</td>\n",
              "      <td>2817.0</td>\n",
              "      <td>2768.0</td>\n",
              "      <td>335.357521</td>\n",
              "      <td>67.33</td>\n",
              "      <td>2664.0</td>\n",
              "      <td>2691.5</td>\n",
              "      <td>99.408249</td>\n",
              "      <td>69.33</td>\n",
              "      <td>2580.0</td>\n",
              "    </tr>\n",
              "    <tr>\n",
              "      <th>2012-09-01 05:00:00</th>\n",
              "      <td>3104.5</td>\n",
              "      <td>465.842964</td>\n",
              "      <td>69.67</td>\n",
              "      <td>2817.0</td>\n",
              "      <td>2768.0</td>\n",
              "      <td>335.357521</td>\n",
              "      <td>67.33</td>\n",
              "      <td>2664.0</td>\n",
              "      <td>2691.5</td>\n",
              "      <td>99.408249</td>\n",
              "      <td>69.33</td>\n",
              "      <td>2580.0</td>\n",
              "      <td>2622.0</td>\n",
              "      <td>123.494939</td>\n",
              "      <td>67.67</td>\n",
              "      <td>2537.0</td>\n",
              "    </tr>\n",
              "  </tbody>\n",
              "</table>\n",
              "</div>"
            ],
            "text/plain": [
              "                     median_t_1     std_t_1  T_t_1  load_t_1  median_t_2  \\\n",
              "2012-09-01 04:00:00      3543.0  524.914199  59.33    2719.0      3104.5   \n",
              "2012-09-01 05:00:00      3104.5  465.842964  69.67    2817.0      2768.0   \n",
              "\n",
              "                        std_t_2  T_t_2  load_t_2  median_t_3     std_t_3  \\\n",
              "2012-09-01 04:00:00  465.842964  69.67    2817.0      2768.0  335.357521   \n",
              "2012-09-01 05:00:00  335.357521  67.33    2664.0      2691.5   99.408249   \n",
              "\n",
              "                     T_t_3  load_t_3  median_t_4     std_t_4  T_t_4  load_t_4  \n",
              "2012-09-01 04:00:00  67.33    2664.0      2691.5   99.408249  69.33    2580.0  \n",
              "2012-09-01 05:00:00  69.33    2580.0      2622.0  123.494939  67.67    2537.0  "
            ]
          },
          "execution_count": 203,
          "metadata": {},
          "output_type": "execute_result"
        },
        {
          "name": "stdout",
          "output_type": "stream",
          "text": [
            "time: 16 ms (started: 2024-09-13 11:10:10 +02:00)\n"
          ]
        }
      ],
      "source": [
        "dataX.head(2)"
      ]
    },
    {
      "cell_type": "code",
      "execution_count": 204,
      "metadata": {},
      "outputs": [
        {
          "data": {
            "text/plain": [
              "(19052, 16)"
            ]
          },
          "execution_count": 204,
          "metadata": {},
          "output_type": "execute_result"
        },
        {
          "name": "stdout",
          "output_type": "stream",
          "text": [
            "time: 0 ns (started: 2024-09-13 11:10:12 +02:00)\n"
          ]
        }
      ],
      "source": [
        "dataX.shape"
      ]
    },
    {
      "cell_type": "code",
      "execution_count": 205,
      "metadata": {
        "colab": {
          "base_uri": "https://localhost:8080/"
        },
        "id": "jSfEBmI-jJz3",
        "outputId": "e36f8c78-d41c-4c61-ff0e-de2ec77a0da4"
      },
      "outputs": [
        {
          "data": {
            "text/plain": [
              "2012-09-01 04:00:00    2537.0\n",
              "2012-09-01 05:00:00    2525.0\n",
              "dtype: float64"
            ]
          },
          "execution_count": 205,
          "metadata": {},
          "output_type": "execute_result"
        },
        {
          "name": "stdout",
          "output_type": "stream",
          "text": [
            "time: 0 ns (started: 2024-09-13 11:10:12 +02:00)\n"
          ]
        }
      ],
      "source": [
        "dataY.head(2)"
      ]
    },
    {
      "cell_type": "code",
      "execution_count": 206,
      "metadata": {},
      "outputs": [
        {
          "data": {
            "text/plain": [
              "(19052,)"
            ]
          },
          "execution_count": 206,
          "metadata": {},
          "output_type": "execute_result"
        },
        {
          "name": "stdout",
          "output_type": "stream",
          "text": [
            "time: 0 ns (started: 2024-09-13 11:10:13 +02:00)\n"
          ]
        }
      ],
      "source": [
        "dataY.shape"
      ]
    },
    {
      "cell_type": "code",
      "execution_count": 207,
      "metadata": {
        "colab": {
          "base_uri": "https://localhost:8080/",
          "height": 475
        },
        "id": "v2ql4QbypFl-",
        "outputId": "033c9005-caca-4ef4-856f-a3cffd9f1ef3"
      },
      "outputs": [
        {
          "data": {
            "image/png": "[encoded data removed]",
            "text/plain": [
              "<Figure size 1200x600 with 2 Axes>"
            ]
          },
          "metadata": {},
          "output_type": "display_data"
        },
        {
          "name": "stdout",
          "output_type": "stream",
          "text": [
            "time: 187 ms (started: 2024-09-13 11:10:15 +02:00)\n"
          ]
        }
      ],
      "source": [
        "#Correlation Matrix\n",
        "correlationMatrix = pd.DataFrame(dataX).corr() \n",
        "\n",
        "f = plt.figure(figsize=(12, 6))\n",
        "plt.matshow(correlationMatrix, fignum=f.number)\n",
        "plt.xticks(range(dataX.shape[1]), dataX.columns, fontsize=14, rotation=75)\n",
        "plt.yticks(range(dataX.shape[1]), dataX.columns, fontsize=14)\n",
        "cb = plt.colorbar()\n",
        "cb.ax.tick_params(labelsize=14)\n",
        "plt.show()"
      ]
    },
    {
      "cell_type": "code",
      "execution_count": 208,
      "metadata": {
        "colab": {
          "base_uri": "https://localhost:8080/",
          "height": 382
        },
        "id": "dyMZoulHRwOB",
        "outputId": "13fdcbc3-4e1c-4f28-d9e0-7bd3f623166c"
      },
      "outputs": [
        {
          "data": {
            "text/html": [
              "<div>\n",
              "<style scoped>\n",
              "    .dataframe tbody tr th:only-of-type {\n",
              "        vertical-align: middle;\n",
              "    }\n",
              "\n",
              "    .dataframe tbody tr th {\n",
              "        vertical-align: top;\n",
              "    }\n",
              "\n",
              "    .dataframe thead th {\n",
              "        text-align: right;\n",
              "    }\n",
              "</style>\n",
              "<table border=\"1\" class=\"dataframe\">\n",
              "  <thead>\n",
              "    <tr style=\"text-align: right;\">\n",
              "      <th></th>\n",
              "      <th>median_t_1</th>\n",
              "      <th>std_t_1</th>\n",
              "      <th>T_t_1</th>\n",
              "      <th>load_t_1</th>\n",
              "      <th>median_t_2</th>\n",
              "      <th>std_t_2</th>\n",
              "      <th>T_t_2</th>\n",
              "      <th>load_t_2</th>\n",
              "      <th>median_t_3</th>\n",
              "      <th>std_t_3</th>\n",
              "      <th>T_t_3</th>\n",
              "      <th>load_t_3</th>\n",
              "      <th>median_t_4</th>\n",
              "      <th>std_t_4</th>\n",
              "      <th>T_t_4</th>\n",
              "      <th>load_t_4</th>\n",
              "    </tr>\n",
              "  </thead>\n",
              "  <tbody>\n",
              "    <tr>\n",
              "      <th>count</th>\n",
              "      <td>1.905200e+04</td>\n",
              "      <td>1.905200e+04</td>\n",
              "      <td>1.905200e+04</td>\n",
              "      <td>1.905200e+04</td>\n",
              "      <td>1.905200e+04</td>\n",
              "      <td>1.905200e+04</td>\n",
              "      <td>1.905200e+04</td>\n",
              "      <td>1.905200e+04</td>\n",
              "      <td>1.905200e+04</td>\n",
              "      <td>1.905200e+04</td>\n",
              "      <td>1.905200e+04</td>\n",
              "      <td>1.905200e+04</td>\n",
              "      <td>1.905200e+04</td>\n",
              "      <td>1.905200e+04</td>\n",
              "      <td>1.905200e+04</td>\n",
              "      <td>1.905200e+04</td>\n",
              "    </tr>\n",
              "    <tr>\n",
              "      <th>mean</th>\n",
              "      <td>2.386875e-16</td>\n",
              "      <td>-7.160624e-17</td>\n",
              "      <td>-3.329690e-15</td>\n",
              "      <td>-2.923921e-16</td>\n",
              "      <td>2.028843e-16</td>\n",
              "      <td>-2.301096e-16</td>\n",
              "      <td>-3.544509e-15</td>\n",
              "      <td>9.845858e-17</td>\n",
              "      <td>-2.237695e-16</td>\n",
              "      <td>-3.136502e-16</td>\n",
              "      <td>-3.520640e-15</td>\n",
              "      <td>-2.028843e-16</td>\n",
              "      <td>-1.670812e-16</td>\n",
              "      <td>-2.465194e-16</td>\n",
              "      <td>-3.580312e-15</td>\n",
              "      <td>4.057687e-16</td>\n",
              "    </tr>\n",
              "    <tr>\n",
              "      <th>std</th>\n",
              "      <td>1.000026e+00</td>\n",
              "      <td>1.000026e+00</td>\n",
              "      <td>1.000026e+00</td>\n",
              "      <td>1.000026e+00</td>\n",
              "      <td>1.000026e+00</td>\n",
              "      <td>1.000026e+00</td>\n",
              "      <td>1.000026e+00</td>\n",
              "      <td>1.000026e+00</td>\n",
              "      <td>1.000026e+00</td>\n",
              "      <td>1.000026e+00</td>\n",
              "      <td>1.000026e+00</td>\n",
              "      <td>1.000026e+00</td>\n",
              "      <td>1.000026e+00</td>\n",
              "      <td>1.000026e+00</td>\n",
              "      <td>1.000026e+00</td>\n",
              "      <td>1.000026e+00</td>\n",
              "    </tr>\n",
              "    <tr>\n",
              "      <th>min</th>\n",
              "      <td>-2.356536e+00</td>\n",
              "      <td>-1.250854e+00</td>\n",
              "      <td>-3.150932e+00</td>\n",
              "      <td>-2.363943e+00</td>\n",
              "      <td>-2.356523e+00</td>\n",
              "      <td>-1.250961e+00</td>\n",
              "      <td>-3.150906e+00</td>\n",
              "      <td>-2.364070e+00</td>\n",
              "      <td>-2.356548e+00</td>\n",
              "      <td>-1.251018e+00</td>\n",
              "      <td>-3.150913e+00</td>\n",
              "      <td>-2.364173e+00</td>\n",
              "      <td>-2.356666e+00</td>\n",
              "      <td>-1.251030e+00</td>\n",
              "      <td>-3.150905e+00</td>\n",
              "      <td>-2.364310e+00</td>\n",
              "    </tr>\n",
              "    <tr>\n",
              "      <th>25%</th>\n",
              "      <td>-7.726966e-01</td>\n",
              "      <td>-8.791492e-01</td>\n",
              "      <td>-7.639865e-01</td>\n",
              "      <td>-7.721103e-01</td>\n",
              "      <td>-7.727081e-01</td>\n",
              "      <td>-8.791741e-01</td>\n",
              "      <td>-7.639432e-01</td>\n",
              "      <td>-7.722154e-01</td>\n",
              "      <td>-7.727602e-01</td>\n",
              "      <td>-8.791741e-01</td>\n",
              "      <td>-7.638814e-01</td>\n",
              "      <td>-7.722968e-01</td>\n",
              "      <td>-7.721740e-01</td>\n",
              "      <td>-8.791720e-01</td>\n",
              "      <td>-7.638207e-01</td>\n",
              "      <td>-7.723794e-01</td>\n",
              "    </tr>\n",
              "    <tr>\n",
              "      <th>50%</th>\n",
              "      <td>1.141806e-01</td>\n",
              "      <td>-3.143736e-01</td>\n",
              "      <td>9.416024e-02</td>\n",
              "      <td>1.191733e-01</td>\n",
              "      <td>1.141554e-01</td>\n",
              "      <td>-3.142749e-01</td>\n",
              "      <td>9.420957e-02</td>\n",
              "      <td>1.190803e-01</td>\n",
              "      <td>1.140882e-01</td>\n",
              "      <td>-3.141876e-01</td>\n",
              "      <td>9.429610e-02</td>\n",
              "      <td>1.190114e-01</td>\n",
              "      <td>1.140057e-01</td>\n",
              "      <td>-3.141646e-01</td>\n",
              "      <td>9.437566e-02</td>\n",
              "      <td>1.189593e-01</td>\n",
              "    </tr>\n",
              "    <tr>\n",
              "      <th>75%</th>\n",
              "      <td>6.730222e-01</td>\n",
              "      <td>7.707527e-01</td>\n",
              "      <td>7.982938e-01</td>\n",
              "      <td>6.788994e-01</td>\n",
              "      <td>6.729884e-01</td>\n",
              "      <td>7.708772e-01</td>\n",
              "      <td>7.983482e-01</td>\n",
              "      <td>6.788141e-01</td>\n",
              "      <td>6.729117e-01</td>\n",
              "      <td>7.710807e-01</td>\n",
              "      <td>7.984550e-01</td>\n",
              "      <td>6.787530e-01</td>\n",
              "      <td>6.728372e-01</td>\n",
              "      <td>7.711371e-01</td>\n",
              "      <td>7.985500e-01</td>\n",
              "      <td>6.787200e-01</td>\n",
              "    </tr>\n",
              "    <tr>\n",
              "      <th>max</th>\n",
              "      <td>3.458144e+00</td>\n",
              "      <td>4.153972e+00</td>\n",
              "      <td>2.446595e+00</td>\n",
              "      <td>3.420488e+00</td>\n",
              "      <td>3.458067e+00</td>\n",
              "      <td>4.155047e+00</td>\n",
              "      <td>2.446661e+00</td>\n",
              "      <td>3.420440e+00</td>\n",
              "      <td>3.457943e+00</td>\n",
              "      <td>4.155826e+00</td>\n",
              "      <td>2.446815e+00</td>\n",
              "      <td>3.420417e+00</td>\n",
              "      <td>3.457908e+00</td>\n",
              "      <td>4.156014e+00</td>\n",
              "      <td>2.446946e+00</td>\n",
              "      <td>3.420478e+00</td>\n",
              "    </tr>\n",
              "  </tbody>\n",
              "</table>\n",
              "</div>"
            ],
            "text/plain": [
              "         median_t_1       std_t_1         T_t_1      load_t_1    median_t_2  \\\n",
              "count  1.905200e+04  1.905200e+04  1.905200e+04  1.905200e+04  1.905200e+04   \n",
              "mean   2.386875e-16 -7.160624e-17 -3.329690e-15 -2.923921e-16  2.028843e-16   \n",
              "std    1.000026e+00  1.000026e+00  1.000026e+00  1.000026e+00  1.000026e+00   \n",
              "min   -2.356536e+00 -1.250854e+00 -3.150932e+00 -2.363943e+00 -2.356523e+00   \n",
              "25%   -7.726966e-01 -8.791492e-01 -7.639865e-01 -7.721103e-01 -7.727081e-01   \n",
              "50%    1.141806e-01 -3.143736e-01  9.416024e-02  1.191733e-01  1.141554e-01   \n",
              "75%    6.730222e-01  7.707527e-01  7.982938e-01  6.788994e-01  6.729884e-01   \n",
              "max    3.458144e+00  4.153972e+00  2.446595e+00  3.420488e+00  3.458067e+00   \n",
              "\n",
              "            std_t_2         T_t_2      load_t_2    median_t_3       std_t_3  \\\n",
              "count  1.905200e+04  1.905200e+04  1.905200e+04  1.905200e+04  1.905200e+04   \n",
              "mean  -2.301096e-16 -3.544509e-15  9.845858e-17 -2.237695e-16 -3.136502e-16   \n",
              "std    1.000026e+00  1.000026e+00  1.000026e+00  1.000026e+00  1.000026e+00   \n",
              "min   -1.250961e+00 -3.150906e+00 -2.364070e+00 -2.356548e+00 -1.251018e+00   \n",
              "25%   -8.791741e-01 -7.639432e-01 -7.722154e-01 -7.727602e-01 -8.791741e-01   \n",
              "50%   -3.142749e-01  9.420957e-02  1.190803e-01  1.140882e-01 -3.141876e-01   \n",
              "75%    7.708772e-01  7.983482e-01  6.788141e-01  6.729117e-01  7.710807e-01   \n",
              "max    4.155047e+00  2.446661e+00  3.420440e+00  3.457943e+00  4.155826e+00   \n",
              "\n",
              "              T_t_3      load_t_3    median_t_4       std_t_4         T_t_4  \\\n",
              "count  1.905200e+04  1.905200e+04  1.905200e+04  1.905200e+04  1.905200e+04   \n",
              "mean  -3.520640e-15 -2.028843e-16 -1.670812e-16 -2.465194e-16 -3.580312e-15   \n",
              "std    1.000026e+00  1.000026e+00  1.000026e+00  1.000026e+00  1.000026e+00   \n",
              "min   -3.150913e+00 -2.364173e+00 -2.356666e+00 -1.251030e+00 -3.150905e+00   \n",
              "25%   -7.638814e-01 -7.722968e-01 -7.721740e-01 -8.791720e-01 -7.638207e-01   \n",
              "50%    9.429610e-02  1.190114e-01  1.140057e-01 -3.141646e-01  9.437566e-02   \n",
              "75%    7.984550e-01  6.787530e-01  6.728372e-01  7.711371e-01  7.985500e-01   \n",
              "max    2.446815e+00  3.420417e+00  3.457908e+00  4.156014e+00  2.446946e+00   \n",
              "\n",
              "           load_t_4  \n",
              "count  1.905200e+04  \n",
              "mean   4.057687e-16  \n",
              "std    1.000026e+00  \n",
              "min   -2.364310e+00  \n",
              "25%   -7.723794e-01  \n",
              "50%    1.189593e-01  \n",
              "75%    6.787200e-01  \n",
              "max    3.420478e+00  "
            ]
          },
          "execution_count": 208,
          "metadata": {},
          "output_type": "execute_result"
        },
        {
          "name": "stdout",
          "output_type": "stream",
          "text": [
            "time: 47 ms (started: 2024-09-13 11:10:17 +02:00)\n"
          ]
        }
      ],
      "source": [
        "#Rescaling the data\n",
        "featuresToScale = dataX.columns\n",
        "sX = pp.StandardScaler(copy=True)\n",
        "dataX.loc[:,featuresToScale] = sX.fit_transform(dataX[featuresToScale])\n",
        "#Looking into the statistics again:\n",
        "dataX.describe()"
      ]
    },
    {
      "attachments": {},
      "cell_type": "markdown",
      "metadata": {},
      "source": [
        "    dataX is a 2-dimensional data structure (a pandas DataFrame) that contains input features for the model. Each row in dataX represents a window of the time series data, containing information like median temperature, standard deviation of temperature, and load for each time step within the window. The columns of dataX are named accordingly (e.g., 'median_t_1', 'std_t_1', 'T_t_1', 'load_t_1').\n",
        "\n",
        "    dataY is a 1-dimensional data structure (a pandas Series) that contains the target values, which are the load values for the time step immediately following each window in dataX. The purpose of dataY is to provide the true load values that the model should predict based on the input features in dataX.\n",
        "\n",
        "    Physically, dataX and dataY are in-memory data structures that hold information from the original time series data in a format suitable for training and evaluating a machine learning model. They are constructed using a sliding window approach, extracting relevant features and target values from the time series data to facilitate prediction tasks."
      ]
    },
    {
      "cell_type": "code",
      "execution_count": 211,
      "metadata": {
        "colab": {
          "base_uri": "https://localhost:8080/"
        },
        "id": "5UEO_T9VQgV0",
        "outputId": "d0c42fb0-08de-4965-8976-fcda4bf71ba9"
      },
      "outputs": [
        {
          "name": "stdout",
          "output_type": "stream",
          "text": [
            "Train data shape:  (18980, 16) (18980,)\n",
            "Test data shape:  (72, 16) (72,)\n",
            "time: 16 ms (started: 2024-09-13 11:13:43 +02:00)\n"
          ]
        }
      ],
      "source": [
        "# Train-Test Split:\n",
        "# We will split the data as training and test. No need for validation here. \n",
        "train_start_dt = '2012-09-01'\n",
        "test_start_dt = '2014-11-01'\n",
        "test_end_dt = '2014-11-04'\n",
        "#Let's use the same notation: X_train, X_test, y_train, y_test\n",
        "X_train = dataX.copy()[(dataX.index >= train_start_dt)& (dataX.index < test_start_dt)]\n",
        "y_train = dataY.copy()[(dataY.index >= train_start_dt)& (dataY.index < test_start_dt)]\n",
        "\n",
        "X_test =  dataX.copy()[(dataX.index >= test_start_dt) & (dataX.index < test_end_dt)]\n",
        "y_test =  dataY.copy()[(dataY.index >= test_start_dt) & (dataY.index < test_end_dt)]\n",
        "\n",
        "\n",
        "print('Train data shape: ', X_train.shape, y_train.shape)\n",
        "print('Test data shape: ', X_test.shape, y_test.shape)"
      ]
    },
    {
      "cell_type": "markdown",
      "metadata": {
        "id": "151sdEYPESfg"
      },
      "source": [
        "## Model Training and Predictions\n"
      ]
    },
    {
      "cell_type": "code",
      "execution_count": 209,
      "metadata": {
        "colab": {
          "base_uri": "https://localhost:8080/"
        },
        "id": "iSHteOJ_SVth",
        "outputId": "9e53f2f7-7e44-4a12-f2bc-3f81db61ceeb"
      },
      "outputs": [
        {
          "name": "stdout",
          "output_type": "stream",
          "text": [
            "time: 0 ns (started: 2024-09-13 11:10:26 +02:00)\n"
          ]
        }
      ],
      "source": [
        "# Hyperparameters:\n",
        "# https://scikit-learn.org/stable/modules/generated/sklearn.svm.SVR.html#\n",
        "\n",
        "#__________________________________________________________________________________________\n",
        "#___Notes__________________________________________________________________________________\n",
        "#Radial Basis Function (RBF) kernel, two parameters must be considered: C and gamma. \n",
        "\n",
        "#The parameter C, common to all SVM kernels, trades off misclassification of training examples \n",
        "#against simplicity of the decision surface. \n",
        "#A low C makes the decision surface smooth, while a high C aims at classifying all training examples correctly. \n",
        "#The strength of the regularization is inversely proportional to C. Large C => little regularization; Low C => higher regularization\n",
        "\n",
        "#gamma defines how much influence a single training example has. The larger gamma is, the closer other examples must be to be affected.\n",
        "#__________________________________________________________________________________________\n",
        "\n",
        "kernel='linear' \n",
        "gamma='scale' #Kernel coefficient for ‘rbf’, ‘poly’ and ‘sigmoid’. When scaled, uses 1 / (n_features * X.var()) as value of gamma.\n",
        "C=1.0\n",
        "epsilon=0.1    # Default\n",
        "shrinking=True # Whether to use the shrinking heuristic. \n",
        "tol=0.00001\n",
        "\n",
        "#Setting the model:\n",
        "svr = SVR(kernel= kernel, gamma=gamma, tol=tol, C=C, epsilon=epsilon, shrinking=shrinking)\n",
        " "
      ]
    },
    {
      "cell_type": "code",
      "execution_count": 212,
      "metadata": {
        "colab": {
          "base_uri": "https://localhost:8080/"
        },
        "id": "Vxwh0-ECrCuj",
        "outputId": "87052b92-6b8a-4c84-e444-cd672ab8d131"
      },
      "outputs": [
        {
          "data": {
            "text/html": [
              "<style>#sk-container-id-1 {color: black;}#sk-container-id-1 pre{padding: 0;}#sk-container-id-1 div.sk-toggleable {background-color: white;}#sk-container-id-1 label.sk-toggleable__label {cursor: pointer;display: block;width: 100%;margin-bottom: 0;padding: 0.3em;box-sizing: border-box;text-align: center;}#sk-container-id-1 label.sk-toggleable__label-arrow:before {content: \"▸\";float: left;margin-right: 0.25em;color: #696969;}#sk-container-id-1 label.sk-toggleable__label-arrow:hover:before {color: black;}#sk-container-id-1 div.sk-estimator:hover label.sk-toggleable__label-arrow:before {color: black;}#sk-container-id-1 div.sk-toggleable__content {max-height: 0;max-width: 0;overflow: hidden;text-align: left;background-color: #f0f8ff;}#sk-container-id-1 div.sk-toggleable__content pre {margin: 0.2em;color: black;border-radius: 0.25em;background-color: #f0f8ff;}#sk-container-id-1 input.sk-toggleable__control:checked~div.sk-toggleable__content {max-height: 200px;max-width: 100%;overflow: auto;}#sk-container-id-1 input.sk-toggleable__control:checked~label.sk-toggleable__label-arrow:before {content: \"▾\";}#sk-container-id-1 div.sk-estimator input.sk-toggleable__control:checked~label.sk-toggleable__label {background-color: #d4ebff;}#sk-container-id-1 div.sk-label input.sk-toggleable__control:checked~label.sk-toggleable__label {background-color: #d4ebff;}#sk-container-id-1 input.sk-hidden--visually {border: 0;clip: rect(1px 1px 1px 1px);clip: rect(1px, 1px, 1px, 1px);height: 1px;margin: -1px;overflow: hidden;padding: 0;position: absolute;width: 1px;}#sk-container-id-1 div.sk-estimator {font-family: monospace;background-color: #f0f8ff;border: 1px dotted black;border-radius: 0.25em;box-sizing: border-box;margin-bottom: 0.5em;}#sk-container-id-1 div.sk-estimator:hover {background-color: #d4ebff;}#sk-container-id-1 div.sk-parallel-item::after {content: \"\";width: 100%;border-bottom: 1px solid gray;flex-grow: 1;}#sk-container-id-1 div.sk-label:hover label.sk-toggleable__label {background-color: #d4ebff;}#sk-container-id-1 div.sk-serial::before {content: \"\";position: absolute;border-left: 1px solid gray;box-sizing: border-box;top: 0;bottom: 0;left: 50%;z-index: 0;}#sk-container-id-1 div.sk-serial {display: flex;flex-direction: column;align-items: center;background-color: white;padding-right: 0.2em;padding-left: 0.2em;position: relative;}#sk-container-id-1 div.sk-item {position: relative;z-index: 1;}#sk-container-id-1 div.sk-parallel {display: flex;align-items: stretch;justify-content: center;background-color: white;position: relative;}#sk-container-id-1 div.sk-item::before, #sk-container-id-1 div.sk-parallel-item::before {content: \"\";position: absolute;border-left: 1px solid gray;box-sizing: border-box;top: 0;bottom: 0;left: 50%;z-index: -1;}#sk-container-id-1 div.sk-parallel-item {display: flex;flex-direction: column;z-index: 1;position: relative;background-color: white;}#sk-container-id-1 div.sk-parallel-item:first-child::after {align-self: flex-end;width: 50%;}#sk-container-id-1 div.sk-parallel-item:last-child::after {align-self: flex-start;width: 50%;}#sk-container-id-1 div.sk-parallel-item:only-child::after {width: 0;}#sk-container-id-1 div.sk-dashed-wrapped {border: 1px dashed gray;margin: 0 0.4em 0.5em 0.4em;box-sizing: border-box;padding-bottom: 0.4em;background-color: white;}#sk-container-id-1 div.sk-label label {font-family: monospace;font-weight: bold;display: inline-block;line-height: 1.2em;}#sk-container-id-1 div.sk-label-container {text-align: center;}#sk-container-id-1 div.sk-container {/* jupyter's `normalize.less` sets `[hidden] { display: none; }` but bootstrap.min.css set `[hidden] { display: none !important; }` so we also need the `!important` here to be able to override the default hidden behavior on the sphinx rendered scikit-learn.org. See: https://github.com/scikit-learn/scikit-learn/issues/21755 */display: inline-block !important;position: relative;}#sk-container-id-1 div.sk-text-repr-fallback {display: none;}</style><div id=\"sk-container-id-1\" class=\"sk-top-container\"><div class=\"sk-text-repr-fallback\"><pre>SVR(kernel=&#x27;linear&#x27;, tol=1e-05)</pre><b>In a Jupyter environment, please rerun this cell to show the HTML representation or trust the notebook. <br />On GitHub, the HTML representation is unable to render, please try loading this page with nbviewer.org.</b></div><div class=\"sk-container\" hidden><div class=\"sk-item\"><div class=\"sk-estimator sk-toggleable\"><input class=\"sk-toggleable__control sk-hidden--visually\" id=\"sk-estimator-id-1\" type=\"checkbox\" checked><label for=\"sk-estimator-id-1\" class=\"sk-toggleable__label sk-toggleable__label-arrow\">SVR</label><div class=\"sk-toggleable__content\"><pre>SVR(kernel=&#x27;linear&#x27;, tol=1e-05)</pre></div></div></div></div></div>"
            ],
            "text/plain": [
              "SVR(kernel='linear', tol=1e-05)"
            ]
          },
          "execution_count": 212,
          "metadata": {},
          "output_type": "execute_result"
        },
        {
          "name": "stdout",
          "output_type": "stream",
          "text": [
            "time: 7.97 s (started: 2024-09-13 11:13:47 +02:00)\n"
          ]
        }
      ],
      "source": [
        "# Model Training:\n",
        "model = svr\n",
        "#Fitting the model according to given data:\n",
        "model.fit(X_train, y_train)"
      ]
    },
    {
      "cell_type": "code",
      "execution_count": 213,
      "metadata": {
        "colab": {
          "base_uri": "https://localhost:8080/"
        },
        "id": "2H8-Dsm5rThs",
        "outputId": "66a32764-eb21-44c5-b59e-004236e300e9"
      },
      "outputs": [
        {
          "name": "stdout",
          "output_type": "stream",
          "text": [
            "-----------------------------------\n",
            "SVM Regression Training R^2 Score:  0.9643835749087705\n",
            "-----------------------------------\n",
            "-----------------------------------\n",
            "SVM Regression Validation R^2 Score:  0.9650015835371981\n",
            "-----------------------------------\n",
            "time: 4.7 s (started: 2024-09-13 11:14:08 +02:00)\n"
          ]
        }
      ],
      "source": [
        "#Model Predictions:\n",
        "#------------------\n",
        "scoreTraining = model.score(X_train, y_train)\n",
        "print('-----------------------------------')\n",
        "print('SVM Regression Training R^2 Score: ', scoreTraining)\n",
        "print('-----------------------------------')\n",
        "scoreValidation = model.score(X_test, y_test)\n",
        "print('-----------------------------------')\n",
        "print('SVM Regression Validation R^2 Score: ', scoreValidation)\n",
        "print('-----------------------------------')"
      ]
    },
    {
      "cell_type": "code",
      "execution_count": 214,
      "metadata": {
        "colab": {
          "base_uri": "https://localhost:8080/"
        },
        "id": "nurBQX3UsAvV",
        "outputId": "a8952f93-ac1a-407b-8ff9-d2511aa80ae7"
      },
      "outputs": [
        {
          "name": "stdout",
          "output_type": "stream",
          "text": [
            "time: 16 ms (started: 2024-09-13 11:14:27 +02:00)\n"
          ]
        }
      ],
      "source": [
        "#Visual Comparisons\n",
        "#------------------\n",
        "# Let's get the predictions first:\n",
        "y_predict = pd.Series(svr.predict(X_test),index=y_test.index)"
      ]
    },
    {
      "cell_type": "code",
      "execution_count": 215,
      "metadata": {
        "colab": {
          "base_uri": "https://localhost:8080/",
          "height": 421
        },
        "id": "Yn7i3C8zvM1o",
        "outputId": "09e1bc73-08d5-4c0f-c324-d7964ea630db"
      },
      "outputs": [
        {
          "data": {
            "image/png": "[encoded data removed]",
            "text/plain": [
              "<Figure size 1800x600 with 1 Axes>"
            ]
          },
          "metadata": {},
          "output_type": "display_data"
        },
        {
          "name": "stdout",
          "output_type": "stream",
          "text": [
            "time: 157 ms (started: 2024-09-13 11:14:30 +02:00)\n"
          ]
        }
      ],
      "source": [
        "#Plotting the Figure:\n",
        "plt.figure();\n",
        "plt.plot(y_test, 'k.-');\n",
        "plt.plot(y_predict, 'x', alpha=0.70);\n",
        "\n",
        "plt.legend(['Actual',\n",
        "            'Predicted 1 hr ahead for 72 hours'\n",
        "            ]);\n",
        "plt.ylabel('Load');\n",
        "plt.xlabel('Time Index');\n",
        "plt.title('SVM');"
      ]
    },
    {
      "cell_type": "markdown",
      "metadata": {
        "id": "-4LBpDaTbQ9p"
      },
      "source": [
        "# ML Algorithms for Forecasting: SVM - II "
      ]
    },
    {
      "cell_type": "markdown",
      "metadata": {
        "id": "IJHDfXY5bQ9s"
      },
      "source": [
        "## Organizing the Feature Matrix"
      ]
    },
    {
      "cell_type": "code",
      "execution_count": 216,
      "metadata": {
        "colab": {
          "base_uri": "https://localhost:8080/",
          "height": 161
        },
        "id": "zACnSYjIbQ9t",
        "outputId": "dfa0998b-6ef2-45d8-f825-69b76f0257a7"
      },
      "outputs": [
        {
          "data": {
            "text/html": [
              "<div>\n",
              "<style scoped>\n",
              "    .dataframe tbody tr th:only-of-type {\n",
              "        vertical-align: middle;\n",
              "    }\n",
              "\n",
              "    .dataframe tbody tr th {\n",
              "        vertical-align: top;\n",
              "    }\n",
              "\n",
              "    .dataframe thead th {\n",
              "        text-align: right;\n",
              "    }\n",
              "</style>\n",
              "<table border=\"1\" class=\"dataframe\">\n",
              "  <thead>\n",
              "    <tr style=\"text-align: right;\">\n",
              "      <th></th>\n",
              "      <th>load</th>\n",
              "      <th>T</th>\n",
              "      <th>hour</th>\n",
              "      <th>month</th>\n",
              "      <th>dayofWeek</th>\n",
              "    </tr>\n",
              "  </thead>\n",
              "  <tbody>\n",
              "    <tr>\n",
              "      <th>2011-03-25 10:00:00</th>\n",
              "      <td>3556.0</td>\n",
              "      <td>29.67</td>\n",
              "      <td>10</td>\n",
              "      <td>3</td>\n",
              "      <td>25</td>\n",
              "    </tr>\n",
              "    <tr>\n",
              "      <th>2006-11-18 01:00:00</th>\n",
              "      <td>2440.0</td>\n",
              "      <td>45.00</td>\n",
              "      <td>1</td>\n",
              "      <td>11</td>\n",
              "      <td>18</td>\n",
              "    </tr>\n",
              "    <tr>\n",
              "      <th>2014-09-21 08:00:00</th>\n",
              "      <td>2710.0</td>\n",
              "      <td>61.00</td>\n",
              "      <td>8</td>\n",
              "      <td>9</td>\n",
              "      <td>21</td>\n",
              "    </tr>\n",
              "  </tbody>\n",
              "</table>\n",
              "</div>"
            ],
            "text/plain": [
              "                       load      T  hour  month  dayofWeek\n",
              "2011-03-25 10:00:00  3556.0  29.67    10      3         25\n",
              "2006-11-18 01:00:00  2440.0  45.00     1     11         18\n",
              "2014-09-21 08:00:00  2710.0  61.00     8      9         21"
            ]
          },
          "execution_count": 216,
          "metadata": {},
          "output_type": "execute_result"
        },
        {
          "name": "stdout",
          "output_type": "stream",
          "text": [
            "time: 0 ns (started: 2024-09-13 11:14:37 +02:00)\n"
          ]
        }
      ],
      "source": [
        "#Checking Data:\n",
        "data.sample(3)"
      ]
    },
    {
      "cell_type": "code",
      "execution_count": 217,
      "metadata": {
        "colab": {
          "base_uri": "https://localhost:8080/"
        },
        "id": "JKqiDTYQbQ9t",
        "outputId": "ae8cbe24-094f-43c5-e27e-b8ddd5e7b8ea"
      },
      "outputs": [
        {
          "name": "stdout",
          "output_type": "stream",
          "text": [
            "<class 'pandas.core.frame.DataFrame'>\n",
            "DatetimeIndex: 78865 entries, 2006-01-01 23:00:00 to 2014-12-31 23:00:00\n",
            "Data columns (total 4 columns):\n",
            " #   Column  Non-Null Count  Dtype  \n",
            "---  ------  --------------  -----  \n",
            " 0   median  78865 non-null  float64\n",
            " 1   std     78865 non-null  float64\n",
            " 2   T       78865 non-null  float64\n",
            " 3   load    78865 non-null  float64\n",
            "dtypes: float64(4)\n",
            "memory usage: 3.0 MB\n",
            "time: 47 ms (started: 2024-09-13 11:14:39 +02:00)\n"
          ]
        }
      ],
      "source": [
        "#Adding statistics features in dataframes:\n",
        "#------------------------------------------------\n",
        "#Lets use only the load data;\n",
        "load_data = data[['load']]\n",
        "#Defining the window width:\n",
        "width = 24\n",
        "#Calling Rolling:\n",
        "window = load_data.rolling(window=width)\n",
        "#Lets save as a new DF. We will add min, mean and max to the load column:\n",
        "new_dataframe = pd.concat([window.median(), window.std(),data['T'], data['load']], axis=1)\n",
        "new_dataframe.columns = ['median', 'std','T', 'load']\n",
        "new_dataframe = new_dataframe.dropna() \n",
        "new_dataframe.info()"
      ]
    },
    {
      "cell_type": "code",
      "execution_count": 218,
      "metadata": {
        "colab": {
          "base_uri": "https://localhost:8080/",
          "height": 98
        },
        "id": "QduZ6R3mbQ9u",
        "outputId": "e6fc1597-405c-4a11-aab8-29014341713c"
      },
      "outputs": [
        {
          "data": {
            "text/html": [
              "<div>\n",
              "<style scoped>\n",
              "    .dataframe tbody tr th:only-of-type {\n",
              "        vertical-align: middle;\n",
              "    }\n",
              "\n",
              "    .dataframe tbody tr th {\n",
              "        vertical-align: top;\n",
              "    }\n",
              "\n",
              "    .dataframe thead th {\n",
              "        text-align: right;\n",
              "    }\n",
              "</style>\n",
              "<table border=\"1\" class=\"dataframe\">\n",
              "  <thead>\n",
              "    <tr style=\"text-align: right;\">\n",
              "      <th></th>\n",
              "      <th>median</th>\n",
              "      <th>std</th>\n",
              "      <th>T</th>\n",
              "      <th>load</th>\n",
              "    </tr>\n",
              "  </thead>\n",
              "  <tbody>\n",
              "    <tr>\n",
              "      <th>2006-01-01 23:00:00</th>\n",
              "      <td>3512.0</td>\n",
              "      <td>471.067697</td>\n",
              "      <td>24.33</td>\n",
              "      <td>3255.0</td>\n",
              "    </tr>\n",
              "  </tbody>\n",
              "</table>\n",
              "</div>"
            ],
            "text/plain": [
              "                     median         std      T    load\n",
              "2006-01-01 23:00:00  3512.0  471.067697  24.33  3255.0"
            ]
          },
          "execution_count": 218,
          "metadata": {},
          "output_type": "execute_result"
        },
        {
          "name": "stdout",
          "output_type": "stream",
          "text": [
            "time: 0 ns (started: 2024-09-13 11:14:44 +02:00)\n"
          ]
        }
      ],
      "source": [
        "new_dataframe.head(1)"
      ]
    },
    {
      "cell_type": "markdown",
      "metadata": {
        "id": "P4R7FqJVbQ9v"
      },
      "source": [
        "## Building the X Matrix and Labels\n",
        "\n",
        "Adding the temporal data with sliding intervals in time. Lets first look with an illustration:"
      ]
    },
    {
      "cell_type": "code",
      "execution_count": 219,
      "metadata": {
        "colab": {
          "base_uri": "https://localhost:8080/",
          "height": 391
        },
        "id": "X7B_ORiKbQ9v",
        "outputId": "d044d93a-51d6-42ce-9813-e00f3975dfe5"
      },
      "outputs": [
        {
          "data": {
            "image/png": "[encoded data removed]",
            "text/plain": [
              "<Figure size 1800x600 with 4 Axes>"
            ]
          },
          "metadata": {},
          "output_type": "display_data"
        },
        {
          "name": "stdout",
          "output_type": "stream",
          "text": [
            "time: 515 ms (started: 2024-09-13 11:14:58 +02:00)\n"
          ]
        }
      ],
      "source": [
        "#finding the indices as integers for time substraction below:\n",
        "start = np.where(new_dataframe.index == '2014-03-01 00:00:00')[0][0]\n",
        "middle = np.where(new_dataframe.index == '2014-03-01 12:00:00')[0][0]\n",
        "end = np.where(new_dataframe.index == '2014-03-02 00:00:00')[0][0]\n",
        "#sliding window width:\n",
        "window = 4\n",
        "#Plotting a sliding interval sample:\n",
        "fig, ax = plt.subplots(nrows=4,sharex=True);\n",
        "for i in range(4): \n",
        "    full = new_dataframe.iloc[start:end]['load']\n",
        "    train = new_dataframe.iloc[middle - i - window:middle - i ]['load']\n",
        "    predict = new_dataframe.iloc[middle - i:middle - i + 1]['load']\n",
        "\n",
        "    ax[3-i].plot((full + 2*i),c='grey', alpha=0.5);\n",
        "    ax[3-i].plot((train + 2*i),c=colors['lightskyblue'], markersize=4,marker='o')\n",
        "    ax[3-i].plot((predict + 2*i),c=colors['midnightblue'], markersize=8,marker='o', linestyle='')\n",
        "\n",
        "ax[0].get_yaxis().set_ticks([]);\n",
        "ax[0].legend(['full time series','$\\mathbf{X}$','$y$'],bbox_to_anchor=(1, 1));\n"
      ]
    },
    {
      "cell_type": "markdown",
      "metadata": {
        "id": "ltmTKmn6bQ9w"
      },
      "source": [
        "Lets follow the same logic and create feature matrix A in this way."
      ]
    },
    {
      "cell_type": "code",
      "execution_count": 220,
      "metadata": {
        "colab": {
          "base_uri": "https://localhost:8080/"
        },
        "id": "pApJGypobQ9w",
        "outputId": "1d459718-af01-4a3e-a1cf-7755f18f7b71"
      },
      "outputs": [
        {
          "name": "stdout",
          "output_type": "stream",
          "text": [
            "time: 953 ms (started: 2024-09-13 11:15:01 +02:00)\n"
          ]
        }
      ],
      "source": [
        "#finding the indices as integers for time substraction below:\n",
        "start = np.where(new_dataframe.index == '2012-09-01 00:00:00')[0][0]\n",
        "end = np.where(new_dataframe.index == '2014-11-04 00:00:00')[0][0]\n",
        "#setting windows width:\n",
        "window = 48\n",
        "#emply datalist\n",
        "dataX = []\n",
        "dataY = []\n",
        "column_names = []\n",
        "for i in range(start,end-window):\n",
        "\n",
        "    # Slice a window of features\n",
        "    dataX.append((new_dataframe.iloc[i:i+window].to_numpy()).ravel())\n",
        "    dataY.append(new_dataframe['load'].iloc[i+window] )\n",
        "\n",
        "for j in range (1,window+1):\n",
        "      column_names.append(['median_t_'+str(j),'std_t_'+str(j),'T_t_'+str(j),'load_t_'+str(j)])\n",
        "\n",
        "column_names = itertools.chain(*column_names)\n",
        "dataX = pd.DataFrame(np.vstack(dataX),index=new_dataframe.iloc[start+window:end].index)\n",
        "dataX.columns = column_names\n",
        "dataY =pd.Series(dataY,index=new_dataframe.iloc[start+window:end].index)\n",
        "dataY.column = ['true_load']"
      ]
    },
    {
      "cell_type": "code",
      "execution_count": 221,
      "metadata": {
        "colab": {
          "base_uri": "https://localhost:8080/",
          "height": 255
        },
        "id": "XzAdFLusbQ9x",
        "outputId": "b60c7ce0-a214-4f51-9e29-75e760b0ebd2"
      },
      "outputs": [
        {
          "data": {
            "text/html": [
              "<div>\n",
              "<style scoped>\n",
              "    .dataframe tbody tr th:only-of-type {\n",
              "        vertical-align: middle;\n",
              "    }\n",
              "\n",
              "    .dataframe tbody tr th {\n",
              "        vertical-align: top;\n",
              "    }\n",
              "\n",
              "    .dataframe thead th {\n",
              "        text-align: right;\n",
              "    }\n",
              "</style>\n",
              "<table border=\"1\" class=\"dataframe\">\n",
              "  <thead>\n",
              "    <tr style=\"text-align: right;\">\n",
              "      <th></th>\n",
              "      <th>median</th>\n",
              "      <th>std</th>\n",
              "      <th>T</th>\n",
              "      <th>load</th>\n",
              "    </tr>\n",
              "  </thead>\n",
              "  <tbody>\n",
              "    <tr>\n",
              "      <th>2012-09-01 00:00:00</th>\n",
              "      <td>3750.5</td>\n",
              "      <td>593.535976</td>\n",
              "      <td>59.33</td>\n",
              "      <td>2719.0</td>\n",
              "    </tr>\n",
              "    <tr>\n",
              "      <th>2012-09-01 01:00:00</th>\n",
              "      <td>3750.5</td>\n",
              "      <td>588.651369</td>\n",
              "      <td>69.67</td>\n",
              "      <td>2817.0</td>\n",
              "    </tr>\n",
              "    <tr>\n",
              "      <th>2012-09-01 02:00:00</th>\n",
              "      <td>3750.5</td>\n",
              "      <td>584.145753</td>\n",
              "      <td>67.33</td>\n",
              "      <td>2664.0</td>\n",
              "    </tr>\n",
              "    <tr>\n",
              "      <th>2012-09-01 03:00:00</th>\n",
              "      <td>3750.5</td>\n",
              "      <td>580.500794</td>\n",
              "      <td>69.33</td>\n",
              "      <td>2580.0</td>\n",
              "    </tr>\n",
              "    <tr>\n",
              "      <th>2012-09-01 04:00:00</th>\n",
              "      <td>3750.5</td>\n",
              "      <td>577.913412</td>\n",
              "      <td>67.67</td>\n",
              "      <td>2537.0</td>\n",
              "    </tr>\n",
              "    <tr>\n",
              "      <th>2012-09-01 05:00:00</th>\n",
              "      <td>3750.5</td>\n",
              "      <td>581.252095</td>\n",
              "      <td>65.00</td>\n",
              "      <td>2525.0</td>\n",
              "    </tr>\n",
              "  </tbody>\n",
              "</table>\n",
              "</div>"
            ],
            "text/plain": [
              "                     median         std      T    load\n",
              "2012-09-01 00:00:00  3750.5  593.535976  59.33  2719.0\n",
              "2012-09-01 01:00:00  3750.5  588.651369  69.67  2817.0\n",
              "2012-09-01 02:00:00  3750.5  584.145753  67.33  2664.0\n",
              "2012-09-01 03:00:00  3750.5  580.500794  69.33  2580.0\n",
              "2012-09-01 04:00:00  3750.5  577.913412  67.67  2537.0\n",
              "2012-09-01 05:00:00  3750.5  581.252095  65.00  2525.0"
            ]
          },
          "execution_count": 221,
          "metadata": {},
          "output_type": "execute_result"
        },
        {
          "name": "stdout",
          "output_type": "stream",
          "text": [
            "time: 0 ns (started: 2024-09-13 11:15:05 +02:00)\n"
          ]
        }
      ],
      "source": [
        "#Original DF:\n",
        "new_dataframe.loc['2012-09-01 00:00:00':'2012-09-04 00:00:00'].head(6)"
      ]
    },
    {
      "cell_type": "code",
      "execution_count": 222,
      "metadata": {
        "colab": {
          "base_uri": "https://localhost:8080/",
          "height": 258
        },
        "id": "AoUwJ2lGbQ9y",
        "outputId": "e2dc233d-82cb-4345-8de9-019a08c1db39"
      },
      "outputs": [
        {
          "data": {
            "text/html": [
              "<div>\n",
              "<style scoped>\n",
              "    .dataframe tbody tr th:only-of-type {\n",
              "        vertical-align: middle;\n",
              "    }\n",
              "\n",
              "    .dataframe tbody tr th {\n",
              "        vertical-align: top;\n",
              "    }\n",
              "\n",
              "    .dataframe thead th {\n",
              "        text-align: right;\n",
              "    }\n",
              "</style>\n",
              "<table border=\"1\" class=\"dataframe\">\n",
              "  <thead>\n",
              "    <tr style=\"text-align: right;\">\n",
              "      <th></th>\n",
              "      <th>median_t_1</th>\n",
              "      <th>std_t_1</th>\n",
              "      <th>T_t_1</th>\n",
              "      <th>load_t_1</th>\n",
              "      <th>median_t_2</th>\n",
              "      <th>std_t_2</th>\n",
              "      <th>T_t_2</th>\n",
              "      <th>load_t_2</th>\n",
              "      <th>median_t_3</th>\n",
              "      <th>std_t_3</th>\n",
              "      <th>...</th>\n",
              "      <th>T_t_46</th>\n",
              "      <th>load_t_46</th>\n",
              "      <th>median_t_47</th>\n",
              "      <th>std_t_47</th>\n",
              "      <th>T_t_47</th>\n",
              "      <th>load_t_47</th>\n",
              "      <th>median_t_48</th>\n",
              "      <th>std_t_48</th>\n",
              "      <th>T_t_48</th>\n",
              "      <th>load_t_48</th>\n",
              "    </tr>\n",
              "  </thead>\n",
              "  <tbody>\n",
              "    <tr>\n",
              "      <th>2012-09-03 00:00:00</th>\n",
              "      <td>3750.5</td>\n",
              "      <td>593.535976</td>\n",
              "      <td>59.33</td>\n",
              "      <td>2719.0</td>\n",
              "      <td>3750.5</td>\n",
              "      <td>588.651369</td>\n",
              "      <td>69.67</td>\n",
              "      <td>2817.0</td>\n",
              "      <td>3750.5</td>\n",
              "      <td>584.145753</td>\n",
              "      <td>...</td>\n",
              "      <td>64.67</td>\n",
              "      <td>3270.0</td>\n",
              "      <td>3107.5</td>\n",
              "      <td>400.451258</td>\n",
              "      <td>62.0</td>\n",
              "      <td>3070.0</td>\n",
              "      <td>3107.5</td>\n",
              "      <td>400.479656</td>\n",
              "      <td>60.00</td>\n",
              "      <td>2825.0</td>\n",
              "    </tr>\n",
              "    <tr>\n",
              "      <th>2012-09-03 01:00:00</th>\n",
              "      <td>3750.5</td>\n",
              "      <td>588.651369</td>\n",
              "      <td>69.67</td>\n",
              "      <td>2817.0</td>\n",
              "      <td>3750.5</td>\n",
              "      <td>584.145753</td>\n",
              "      <td>67.33</td>\n",
              "      <td>2664.0</td>\n",
              "      <td>3750.5</td>\n",
              "      <td>580.500794</td>\n",
              "      <td>...</td>\n",
              "      <td>62.00</td>\n",
              "      <td>3070.0</td>\n",
              "      <td>3107.5</td>\n",
              "      <td>400.479656</td>\n",
              "      <td>60.0</td>\n",
              "      <td>2825.0</td>\n",
              "      <td>3107.5</td>\n",
              "      <td>398.969315</td>\n",
              "      <td>64.67</td>\n",
              "      <td>2630.0</td>\n",
              "    </tr>\n",
              "  </tbody>\n",
              "</table>\n",
              "<p>2 rows × 192 columns</p>\n",
              "</div>"
            ],
            "text/plain": [
              "                     median_t_1     std_t_1  T_t_1  load_t_1  median_t_2  \\\n",
              "2012-09-03 00:00:00      3750.5  593.535976  59.33    2719.0      3750.5   \n",
              "2012-09-03 01:00:00      3750.5  588.651369  69.67    2817.0      3750.5   \n",
              "\n",
              "                        std_t_2  T_t_2  load_t_2  median_t_3     std_t_3  ...  \\\n",
              "2012-09-03 00:00:00  588.651369  69.67    2817.0      3750.5  584.145753  ...   \n",
              "2012-09-03 01:00:00  584.145753  67.33    2664.0      3750.5  580.500794  ...   \n",
              "\n",
              "                     T_t_46  load_t_46  median_t_47    std_t_47  T_t_47  \\\n",
              "2012-09-03 00:00:00   64.67     3270.0       3107.5  400.451258    62.0   \n",
              "2012-09-03 01:00:00   62.00     3070.0       3107.5  400.479656    60.0   \n",
              "\n",
              "                     load_t_47  median_t_48    std_t_48  T_t_48  load_t_48  \n",
              "2012-09-03 00:00:00     3070.0       3107.5  400.479656   60.00     2825.0  \n",
              "2012-09-03 01:00:00     2825.0       3107.5  398.969315   64.67     2630.0  \n",
              "\n",
              "[2 rows x 192 columns]"
            ]
          },
          "execution_count": 222,
          "metadata": {},
          "output_type": "execute_result"
        },
        {
          "name": "stdout",
          "output_type": "stream",
          "text": [
            "time: 16 ms (started: 2024-09-13 11:15:06 +02:00)\n"
          ]
        }
      ],
      "source": [
        "dataX.head(2)"
      ]
    },
    {
      "cell_type": "code",
      "execution_count": 223,
      "metadata": {
        "colab": {
          "base_uri": "https://localhost:8080/"
        },
        "id": "7VQS2OPVbQ9y",
        "outputId": "fe820346-6609-49cd-e76c-27937c01a09c"
      },
      "outputs": [
        {
          "data": {
            "text/plain": [
              "2012-09-03 00:00:00    2630.0\n",
              "2012-09-03 01:00:00    2403.0\n",
              "dtype: float64"
            ]
          },
          "execution_count": 223,
          "metadata": {},
          "output_type": "execute_result"
        },
        {
          "name": "stdout",
          "output_type": "stream",
          "text": [
            "time: 0 ns (started: 2024-09-13 11:15:09 +02:00)\n"
          ]
        }
      ],
      "source": [
        "dataY.head(2)"
      ]
    },
    {
      "cell_type": "code",
      "execution_count": 91,
      "metadata": {
        "colab": {
          "base_uri": "https://localhost:8080/"
        },
        "id": "Az-i2BxqbQ9z",
        "outputId": "2cdac400-a1e3-4320-d85a-29e30ac58244"
      },
      "outputs": [
        {
          "name": "stdout",
          "output_type": "stream",
          "text": [
            "time: 578 µs (started: 2022-12-20 15:08:17 +00:00)\n"
          ]
        }
      ],
      "source": [
        "#Correlation Matrix\n",
        "#correlationMatrix = pd.DataFrame(dataX).corr() \n",
        "\n",
        "#f = plt.figure(figsize=(12, 6))\n",
        "#plt.matshow(correlationMatrix, fignum=f.number)\n",
        "#plt.xticks(range(dataX.shape[1]), dataX.columns, fontsize=14, rotation=75)\n",
        "#plt.yticks(range(dataX.shape[1]), dataX.columns, fontsize=14)\n",
        "#cb = plt.colorbar()\n",
        "#cb.ax.tick_params(labelsize=14)\n",
        "#plt.show()"
      ]
    },
    {
      "cell_type": "code",
      "execution_count": 224,
      "metadata": {
        "colab": {
          "base_uri": "https://localhost:8080/",
          "height": 411
        },
        "id": "IKTdDTqKbQ90",
        "outputId": "9b45437d-82a9-4dfa-cb58-4387b554d31a"
      },
      "outputs": [
        {
          "data": {
            "text/html": [
              "<div>\n",
              "<style scoped>\n",
              "    .dataframe tbody tr th:only-of-type {\n",
              "        vertical-align: middle;\n",
              "    }\n",
              "\n",
              "    .dataframe tbody tr th {\n",
              "        vertical-align: top;\n",
              "    }\n",
              "\n",
              "    .dataframe thead th {\n",
              "        text-align: right;\n",
              "    }\n",
              "</style>\n",
              "<table border=\"1\" class=\"dataframe\">\n",
              "  <thead>\n",
              "    <tr style=\"text-align: right;\">\n",
              "      <th></th>\n",
              "      <th>median_t_1</th>\n",
              "      <th>std_t_1</th>\n",
              "      <th>T_t_1</th>\n",
              "      <th>load_t_1</th>\n",
              "      <th>median_t_2</th>\n",
              "      <th>std_t_2</th>\n",
              "      <th>T_t_2</th>\n",
              "      <th>load_t_2</th>\n",
              "      <th>median_t_3</th>\n",
              "      <th>std_t_3</th>\n",
              "      <th>...</th>\n",
              "      <th>T_t_46</th>\n",
              "      <th>load_t_46</th>\n",
              "      <th>median_t_47</th>\n",
              "      <th>std_t_47</th>\n",
              "      <th>T_t_47</th>\n",
              "      <th>load_t_47</th>\n",
              "      <th>median_t_48</th>\n",
              "      <th>std_t_48</th>\n",
              "      <th>T_t_48</th>\n",
              "      <th>load_t_48</th>\n",
              "    </tr>\n",
              "  </thead>\n",
              "  <tbody>\n",
              "    <tr>\n",
              "      <th>count</th>\n",
              "      <td>1.900800e+04</td>\n",
              "      <td>1.900800e+04</td>\n",
              "      <td>1.900800e+04</td>\n",
              "      <td>1.900800e+04</td>\n",
              "      <td>1.900800e+04</td>\n",
              "      <td>1.900800e+04</td>\n",
              "      <td>1.900800e+04</td>\n",
              "      <td>1.900800e+04</td>\n",
              "      <td>1.900800e+04</td>\n",
              "      <td>1.900800e+04</td>\n",
              "      <td>...</td>\n",
              "      <td>1.900800e+04</td>\n",
              "      <td>1.900800e+04</td>\n",
              "      <td>1.900800e+04</td>\n",
              "      <td>1.900800e+04</td>\n",
              "      <td>1.900800e+04</td>\n",
              "      <td>1.900800e+04</td>\n",
              "      <td>1.900800e+04</td>\n",
              "      <td>1.900800e+04</td>\n",
              "      <td>1.900800e+04</td>\n",
              "      <td>1.900800e+04</td>\n",
              "    </tr>\n",
              "    <tr>\n",
              "      <th>mean</th>\n",
              "      <td>4.126890e-16</td>\n",
              "      <td>2.613099e-14</td>\n",
              "      <td>-3.181892e-15</td>\n",
              "      <td>1.256010e-16</td>\n",
              "      <td>1.614870e-16</td>\n",
              "      <td>2.555083e-14</td>\n",
              "      <td>-3.576638e-15</td>\n",
              "      <td>-2.392400e-17</td>\n",
              "      <td>-1.256010e-16</td>\n",
              "      <td>2.665731e-14</td>\n",
              "      <td>...</td>\n",
              "      <td>-2.775184e-15</td>\n",
              "      <td>-2.721355e-16</td>\n",
              "      <td>-6.100619e-16</td>\n",
              "      <td>2.441444e-14</td>\n",
              "      <td>-3.050310e-15</td>\n",
              "      <td>-1.824205e-16</td>\n",
              "      <td>6.100619e-16</td>\n",
              "      <td>2.364289e-14</td>\n",
              "      <td>-2.954614e-15</td>\n",
              "      <td>-1.794300e-16</td>\n",
              "    </tr>\n",
              "    <tr>\n",
              "      <th>std</th>\n",
              "      <td>1.000026e+00</td>\n",
              "      <td>1.000026e+00</td>\n",
              "      <td>1.000026e+00</td>\n",
              "      <td>1.000026e+00</td>\n",
              "      <td>1.000026e+00</td>\n",
              "      <td>1.000026e+00</td>\n",
              "      <td>1.000026e+00</td>\n",
              "      <td>1.000026e+00</td>\n",
              "      <td>1.000026e+00</td>\n",
              "      <td>1.000026e+00</td>\n",
              "      <td>...</td>\n",
              "      <td>1.000026e+00</td>\n",
              "      <td>1.000026e+00</td>\n",
              "      <td>1.000026e+00</td>\n",
              "      <td>1.000026e+00</td>\n",
              "      <td>1.000026e+00</td>\n",
              "      <td>1.000026e+00</td>\n",
              "      <td>1.000026e+00</td>\n",
              "      <td>1.000026e+00</td>\n",
              "      <td>1.000026e+00</td>\n",
              "      <td>1.000026e+00</td>\n",
              "    </tr>\n",
              "    <tr>\n",
              "      <th>min</th>\n",
              "      <td>-2.311026e+00</td>\n",
              "      <td>-2.568864e+00</td>\n",
              "      <td>-3.149160e+00</td>\n",
              "      <td>-2.364007e+00</td>\n",
              "      <td>-2.310945e+00</td>\n",
              "      <td>-2.568901e+00</td>\n",
              "      <td>-3.149111e+00</td>\n",
              "      <td>-2.363968e+00</td>\n",
              "      <td>-2.310863e+00</td>\n",
              "      <td>-2.568927e+00</td>\n",
              "      <td>...</td>\n",
              "      <td>-3.148892e+00</td>\n",
              "      <td>-2.364704e+00</td>\n",
              "      <td>-2.310965e+00</td>\n",
              "      <td>-2.569386e+00</td>\n",
              "      <td>-3.148870e+00</td>\n",
              "      <td>-2.364718e+00</td>\n",
              "      <td>-2.311106e+00</td>\n",
              "      <td>-2.569493e+00</td>\n",
              "      <td>-3.148836e+00</td>\n",
              "      <td>-2.364747e+00</td>\n",
              "    </tr>\n",
              "    <tr>\n",
              "      <th>25%</th>\n",
              "      <td>-6.392120e-01</td>\n",
              "      <td>-6.328903e-01</td>\n",
              "      <td>-7.643083e-01</td>\n",
              "      <td>-7.708135e-01</td>\n",
              "      <td>-6.391302e-01</td>\n",
              "      <td>-6.328301e-01</td>\n",
              "      <td>-7.642519e-01</td>\n",
              "      <td>-7.707941e-01</td>\n",
              "      <td>-6.390483e-01</td>\n",
              "      <td>-6.327681e-01</td>\n",
              "      <td>...</td>\n",
              "      <td>-7.617216e-01</td>\n",
              "      <td>-7.714148e-01</td>\n",
              "      <td>-6.371107e-01</td>\n",
              "      <td>-6.309856e-01</td>\n",
              "      <td>-7.616627e-01</td>\n",
              "      <td>-7.714386e-01</td>\n",
              "      <td>-6.371837e-01</td>\n",
              "      <td>-6.308675e-01</td>\n",
              "      <td>-7.616067e-01</td>\n",
              "      <td>-7.714603e-01</td>\n",
              "    </tr>\n",
              "    <tr>\n",
              "      <th>50%</th>\n",
              "      <td>-1.347291e-01</td>\n",
              "      <td>-1.008269e-01</td>\n",
              "      <td>9.308555e-02</td>\n",
              "      <td>1.184520e-01</td>\n",
              "      <td>-1.354634e-01</td>\n",
              "      <td>-1.008014e-01</td>\n",
              "      <td>9.314447e-02</td>\n",
              "      <td>1.184610e-01</td>\n",
              "      <td>-1.361976e-01</td>\n",
              "      <td>-1.007916e-01</td>\n",
              "      <td>...</td>\n",
              "      <td>7.950615e-02</td>\n",
              "      <td>1.196863e-01</td>\n",
              "      <td>-1.357709e-01</td>\n",
              "      <td>-1.023340e-01</td>\n",
              "      <td>7.957783e-02</td>\n",
              "      <td>1.196574e-01</td>\n",
              "      <td>-1.358235e-01</td>\n",
              "      <td>-1.022454e-01</td>\n",
              "      <td>7.964181e-02</td>\n",
              "      <td>1.196396e-01</td>\n",
              "    </tr>\n",
              "    <tr>\n",
              "      <th>75%</th>\n",
              "      <td>6.215871e-01</td>\n",
              "      <td>4.280362e-01</td>\n",
              "      <td>7.966014e-01</td>\n",
              "      <td>6.798121e-01</td>\n",
              "      <td>6.212612e-01</td>\n",
              "      <td>4.280328e-01</td>\n",
              "      <td>7.966624e-01</td>\n",
              "      <td>6.798144e-01</td>\n",
              "      <td>6.213435e-01</td>\n",
              "      <td>4.278247e-01</td>\n",
              "      <td>...</td>\n",
              "      <td>8.007057e-01</td>\n",
              "      <td>6.792978e-01</td>\n",
              "      <td>6.219543e-01</td>\n",
              "      <td>4.269190e-01</td>\n",
              "      <td>8.007884e-01</td>\n",
              "      <td>6.792656e-01</td>\n",
              "      <td>6.219327e-01</td>\n",
              "      <td>4.268832e-01</td>\n",
              "      <td>8.008591e-01</td>\n",
              "      <td>6.792504e-01</td>\n",
              "    </tr>\n",
              "    <tr>\n",
              "      <th>max</th>\n",
              "      <td>4.123172e+00</td>\n",
              "      <td>4.490247e+00</td>\n",
              "      <td>2.443456e+00</td>\n",
              "      <td>3.418892e+00</td>\n",
              "      <td>4.123255e+00</td>\n",
              "      <td>4.490566e+00</td>\n",
              "      <td>2.443522e+00</td>\n",
              "      <td>3.418862e+00</td>\n",
              "      <td>4.123339e+00</td>\n",
              "      <td>4.490861e+00</td>\n",
              "      <td>...</td>\n",
              "      <td>2.449162e+00</td>\n",
              "      <td>3.418543e+00</td>\n",
              "      <td>4.124801e+00</td>\n",
              "      <td>4.495797e+00</td>\n",
              "      <td>2.449270e+00</td>\n",
              "      <td>3.418495e+00</td>\n",
              "      <td>4.124922e+00</td>\n",
              "      <td>4.495857e+00</td>\n",
              "      <td>2.449356e+00</td>\n",
              "      <td>3.418492e+00</td>\n",
              "    </tr>\n",
              "  </tbody>\n",
              "</table>\n",
              "<p>8 rows × 192 columns</p>\n",
              "</div>"
            ],
            "text/plain": [
              "         median_t_1       std_t_1         T_t_1      load_t_1    median_t_2  \\\n",
              "count  1.900800e+04  1.900800e+04  1.900800e+04  1.900800e+04  1.900800e+04   \n",
              "mean   4.126890e-16  2.613099e-14 -3.181892e-15  1.256010e-16  1.614870e-16   \n",
              "std    1.000026e+00  1.000026e+00  1.000026e+00  1.000026e+00  1.000026e+00   \n",
              "min   -2.311026e+00 -2.568864e+00 -3.149160e+00 -2.364007e+00 -2.310945e+00   \n",
              "25%   -6.392120e-01 -6.328903e-01 -7.643083e-01 -7.708135e-01 -6.391302e-01   \n",
              "50%   -1.347291e-01 -1.008269e-01  9.308555e-02  1.184520e-01 -1.354634e-01   \n",
              "75%    6.215871e-01  4.280362e-01  7.966014e-01  6.798121e-01  6.212612e-01   \n",
              "max    4.123172e+00  4.490247e+00  2.443456e+00  3.418892e+00  4.123255e+00   \n",
              "\n",
              "            std_t_2         T_t_2      load_t_2    median_t_3       std_t_3  \\\n",
              "count  1.900800e+04  1.900800e+04  1.900800e+04  1.900800e+04  1.900800e+04   \n",
              "mean   2.555083e-14 -3.576638e-15 -2.392400e-17 -1.256010e-16  2.665731e-14   \n",
              "std    1.000026e+00  1.000026e+00  1.000026e+00  1.000026e+00  1.000026e+00   \n",
              "min   -2.568901e+00 -3.149111e+00 -2.363968e+00 -2.310863e+00 -2.568927e+00   \n",
              "25%   -6.328301e-01 -7.642519e-01 -7.707941e-01 -6.390483e-01 -6.327681e-01   \n",
              "50%   -1.008014e-01  9.314447e-02  1.184610e-01 -1.361976e-01 -1.007916e-01   \n",
              "75%    4.280328e-01  7.966624e-01  6.798144e-01  6.213435e-01  4.278247e-01   \n",
              "max    4.490566e+00  2.443522e+00  3.418862e+00  4.123339e+00  4.490861e+00   \n",
              "\n",
              "       ...        T_t_46     load_t_46   median_t_47      std_t_47  \\\n",
              "count  ...  1.900800e+04  1.900800e+04  1.900800e+04  1.900800e+04   \n",
              "mean   ... -2.775184e-15 -2.721355e-16 -6.100619e-16  2.441444e-14   \n",
              "std    ...  1.000026e+00  1.000026e+00  1.000026e+00  1.000026e+00   \n",
              "min    ... -3.148892e+00 -2.364704e+00 -2.310965e+00 -2.569386e+00   \n",
              "25%    ... -7.617216e-01 -7.714148e-01 -6.371107e-01 -6.309856e-01   \n",
              "50%    ...  7.950615e-02  1.196863e-01 -1.357709e-01 -1.023340e-01   \n",
              "75%    ...  8.007057e-01  6.792978e-01  6.219543e-01  4.269190e-01   \n",
              "max    ...  2.449162e+00  3.418543e+00  4.124801e+00  4.495797e+00   \n",
              "\n",
              "             T_t_47     load_t_47   median_t_48      std_t_48        T_t_48  \\\n",
              "count  1.900800e+04  1.900800e+04  1.900800e+04  1.900800e+04  1.900800e+04   \n",
              "mean  -3.050310e-15 -1.824205e-16  6.100619e-16  2.364289e-14 -2.954614e-15   \n",
              "std    1.000026e+00  1.000026e+00  1.000026e+00  1.000026e+00  1.000026e+00   \n",
              "min   -3.148870e+00 -2.364718e+00 -2.311106e+00 -2.569493e+00 -3.148836e+00   \n",
              "25%   -7.616627e-01 -7.714386e-01 -6.371837e-01 -6.308675e-01 -7.616067e-01   \n",
              "50%    7.957783e-02  1.196574e-01 -1.358235e-01 -1.022454e-01  7.964181e-02   \n",
              "75%    8.007884e-01  6.792656e-01  6.219327e-01  4.268832e-01  8.008591e-01   \n",
              "max    2.449270e+00  3.418495e+00  4.124922e+00  4.495857e+00  2.449356e+00   \n",
              "\n",
              "          load_t_48  \n",
              "count  1.900800e+04  \n",
              "mean  -1.794300e-16  \n",
              "std    1.000026e+00  \n",
              "min   -2.364747e+00  \n",
              "25%   -7.714603e-01  \n",
              "50%    1.196396e-01  \n",
              "75%    6.792504e-01  \n",
              "max    3.418492e+00  \n",
              "\n",
              "[8 rows x 192 columns]"
            ]
          },
          "execution_count": 224,
          "metadata": {},
          "output_type": "execute_result"
        },
        {
          "name": "stdout",
          "output_type": "stream",
          "text": [
            "time: 329 ms (started: 2024-09-13 11:15:14 +02:00)\n"
          ]
        }
      ],
      "source": [
        "#Rescaling the data\n",
        "featuresToScale = dataX.columns\n",
        "sX = pp.StandardScaler(copy=True)\n",
        "dataX.loc[:,featuresToScale] = sX.fit_transform(dataX[featuresToScale])\n",
        "#Looking into the statistics again:\n",
        "dataX.describe()"
      ]
    },
    {
      "cell_type": "code",
      "execution_count": 228,
      "metadata": {
        "colab": {
          "base_uri": "https://localhost:8080/"
        },
        "id": "8g68z9w3bQ90",
        "outputId": "022c93cd-f006-4617-d3f3-6b3c892f90ab"
      },
      "outputs": [
        {
          "name": "stdout",
          "output_type": "stream",
          "text": [
            "Train data shape:  (744, 192) (744,)\n",
            "Test data shape:  (72, 192) (72,)\n",
            "time: 47 ms (started: 2024-09-13 11:15:56 +02:00)\n"
          ]
        }
      ],
      "source": [
        "# Train-Test Split:\n",
        "# We will split the data as training and test. No need for validation here. \n",
        "train_start_dt = '2014-10-01'\n",
        "test_start_dt = '2014-11-01'\n",
        "test_end_dt = '2014-11-04'\n",
        "#Lets use the same notation: X_train, X_test, y_train, y_test\n",
        "X_train = dataX.copy()[(dataX.index >= train_start_dt)& (dataX.index < test_start_dt)]\n",
        "y_train = dataY.copy()[(dataY.index >= train_start_dt)& (dataY.index < test_start_dt)]\n",
        "\n",
        "X_test =  dataX.copy()[(dataX.index >= test_start_dt) & (dataX.index < test_end_dt)]\n",
        "y_test =  dataY.copy()[(dataY.index >= test_start_dt) & (dataY.index < test_end_dt)]\n",
        "\n",
        "\n",
        "print('Train data shape: ', X_train.shape, y_train.shape)\n",
        "print('Test data shape: ', X_test.shape, y_test.shape)"
      ]
    },
    {
      "cell_type": "markdown",
      "metadata": {
        "id": "FH6n5qaObQ91"
      },
      "source": [
        "## Model Training and Predictions"
      ]
    },
    {
      "cell_type": "code",
      "execution_count": 229,
      "metadata": {
        "colab": {
          "base_uri": "https://localhost:8080/"
        },
        "id": "Acg8X_rCbQ91",
        "outputId": "dfe37ff0-ab80-465f-d1ab-6fcea44bafd2"
      },
      "outputs": [
        {
          "name": "stdout",
          "output_type": "stream",
          "text": [
            "time: 0 ns (started: 2024-09-13 11:16:03 +02:00)\n"
          ]
        }
      ],
      "source": [
        "# Hyperparameters:\n",
        "# https://scikit-learn.org/stable/modules/generated/sklearn.svm.SVR.html#\n",
        "\n",
        "#__________________________________________________________________________________________\n",
        "#___Notes__________________________________________________________________________________\n",
        "#Radial Basis Function (RBF) kernel, two parameters must be considered: C and gamma. \n",
        "\n",
        "#The parameter C, common to all SVM kernels, trades off misclassification of training examples \n",
        "#against simplicity of the decision surface. \n",
        "#A low C makes the decision surface smooth, while a high C aims at classifying all training examples correctly. \n",
        "#The strength of the regularization is inversely proportional to C. Large C => little regularization; Low C => higher regularization\n",
        "\n",
        "#gamma defines how much influence a single training example has. The larger gamma is, the closer other examples must be to be affected.\n",
        "#__________________________________________________________________________________________\n",
        "\n",
        "kernel='linear' \n",
        "gamma='scale' #Kernel coefficient for ‘rbf’, ‘poly’ and ‘sigmoid’. When scaled, uses 1 / (n_features * X.var()) as value of gamma.\n",
        "C=1.0\n",
        "epsilon=0.1    # Default\n",
        "shrinking=True # Whether to use the shrinking heuristic. \n",
        "tol=0.00001\n",
        "\n",
        "#Setting the model:\n",
        "svr = SVR(kernel= kernel, gamma=gamma, tol=tol, C=C, epsilon=epsilon, shrinking=shrinking)"
      ]
    },
    {
      "cell_type": "code",
      "execution_count": 230,
      "metadata": {
        "colab": {
          "base_uri": "https://localhost:8080/"
        },
        "id": "4yICQg8ybQ91",
        "outputId": "b11d4898-ba87-48d0-992f-8cea6aa7893a"
      },
      "outputs": [
        {
          "data": {
            "text/html": [
              "<style>#sk-container-id-3 {color: black;}#sk-container-id-3 pre{padding: 0;}#sk-container-id-3 div.sk-toggleable {background-color: white;}#sk-container-id-3 label.sk-toggleable__label {cursor: pointer;display: block;width: 100%;margin-bottom: 0;padding: 0.3em;box-sizing: border-box;text-align: center;}#sk-container-id-3 label.sk-toggleable__label-arrow:before {content: \"▸\";float: left;margin-right: 0.25em;color: #696969;}#sk-container-id-3 label.sk-toggleable__label-arrow:hover:before {color: black;}#sk-container-id-3 div.sk-estimator:hover label.sk-toggleable__label-arrow:before {color: black;}#sk-container-id-3 div.sk-toggleable__content {max-height: 0;max-width: 0;overflow: hidden;text-align: left;background-color: #f0f8ff;}#sk-container-id-3 div.sk-toggleable__content pre {margin: 0.2em;color: black;border-radius: 0.25em;background-color: #f0f8ff;}#sk-container-id-3 input.sk-toggleable__control:checked~div.sk-toggleable__content {max-height: 200px;max-width: 100%;overflow: auto;}#sk-container-id-3 input.sk-toggleable__control:checked~label.sk-toggleable__label-arrow:before {content: \"▾\";}#sk-container-id-3 div.sk-estimator input.sk-toggleable__control:checked~label.sk-toggleable__label {background-color: #d4ebff;}#sk-container-id-3 div.sk-label input.sk-toggleable__control:checked~label.sk-toggleable__label {background-color: #d4ebff;}#sk-container-id-3 input.sk-hidden--visually {border: 0;clip: rect(1px 1px 1px 1px);clip: rect(1px, 1px, 1px, 1px);height: 1px;margin: -1px;overflow: hidden;padding: 0;position: absolute;width: 1px;}#sk-container-id-3 div.sk-estimator {font-family: monospace;background-color: #f0f8ff;border: 1px dotted black;border-radius: 0.25em;box-sizing: border-box;margin-bottom: 0.5em;}#sk-container-id-3 div.sk-estimator:hover {background-color: #d4ebff;}#sk-container-id-3 div.sk-parallel-item::after {content: \"\";width: 100%;border-bottom: 1px solid gray;flex-grow: 1;}#sk-container-id-3 div.sk-label:hover label.sk-toggleable__label {background-color: #d4ebff;}#sk-container-id-3 div.sk-serial::before {content: \"\";position: absolute;border-left: 1px solid gray;box-sizing: border-box;top: 0;bottom: 0;left: 50%;z-index: 0;}#sk-container-id-3 div.sk-serial {display: flex;flex-direction: column;align-items: center;background-color: white;padding-right: 0.2em;padding-left: 0.2em;position: relative;}#sk-container-id-3 div.sk-item {position: relative;z-index: 1;}#sk-container-id-3 div.sk-parallel {display: flex;align-items: stretch;justify-content: center;background-color: white;position: relative;}#sk-container-id-3 div.sk-item::before, #sk-container-id-3 div.sk-parallel-item::before {content: \"\";position: absolute;border-left: 1px solid gray;box-sizing: border-box;top: 0;bottom: 0;left: 50%;z-index: -1;}#sk-container-id-3 div.sk-parallel-item {display: flex;flex-direction: column;z-index: 1;position: relative;background-color: white;}#sk-container-id-3 div.sk-parallel-item:first-child::after {align-self: flex-end;width: 50%;}#sk-container-id-3 div.sk-parallel-item:last-child::after {align-self: flex-start;width: 50%;}#sk-container-id-3 div.sk-parallel-item:only-child::after {width: 0;}#sk-container-id-3 div.sk-dashed-wrapped {border: 1px dashed gray;margin: 0 0.4em 0.5em 0.4em;box-sizing: border-box;padding-bottom: 0.4em;background-color: white;}#sk-container-id-3 div.sk-label label {font-family: monospace;font-weight: bold;display: inline-block;line-height: 1.2em;}#sk-container-id-3 div.sk-label-container {text-align: center;}#sk-container-id-3 div.sk-container {/* jupyter's `normalize.less` sets `[hidden] { display: none; }` but bootstrap.min.css set `[hidden] { display: none !important; }` so we also need the `!important` here to be able to override the default hidden behavior on the sphinx rendered scikit-learn.org. See: https://github.com/scikit-learn/scikit-learn/issues/21755 */display: inline-block !important;position: relative;}#sk-container-id-3 div.sk-text-repr-fallback {display: none;}</style><div id=\"sk-container-id-3\" class=\"sk-top-container\"><div class=\"sk-text-repr-fallback\"><pre>SVR(kernel=&#x27;linear&#x27;, tol=1e-05)</pre><b>In a Jupyter environment, please rerun this cell to show the HTML representation or trust the notebook. <br />On GitHub, the HTML representation is unable to render, please try loading this page with nbviewer.org.</b></div><div class=\"sk-container\" hidden><div class=\"sk-item\"><div class=\"sk-estimator sk-toggleable\"><input class=\"sk-toggleable__control sk-hidden--visually\" id=\"sk-estimator-id-3\" type=\"checkbox\" checked><label for=\"sk-estimator-id-3\" class=\"sk-toggleable__label sk-toggleable__label-arrow\">SVR</label><div class=\"sk-toggleable__content\"><pre>SVR(kernel=&#x27;linear&#x27;, tol=1e-05)</pre></div></div></div></div></div>"
            ],
            "text/plain": [
              "SVR(kernel='linear', tol=1e-05)"
            ]
          },
          "execution_count": 230,
          "metadata": {},
          "output_type": "execute_result"
        },
        {
          "name": "stdout",
          "output_type": "stream",
          "text": [
            "time: 31 ms (started: 2024-09-13 11:16:05 +02:00)\n"
          ]
        }
      ],
      "source": [
        "# Model Training:\n",
        "model = svr\n",
        "#Fitting the model according to given data:\n",
        "model.fit(X_train, y_train)"
      ]
    },
    {
      "cell_type": "code",
      "execution_count": 231,
      "metadata": {
        "colab": {
          "base_uri": "https://localhost:8080/"
        },
        "id": "oRKDp1uobQ91",
        "outputId": "3ff944bf-d88e-465e-bf4c-68f37cd04d9c"
      },
      "outputs": [
        {
          "name": "stdout",
          "output_type": "stream",
          "text": [
            "-----------------------------------\n",
            "SVM Regression Validation R^2 Score:  0.923579282187479\n",
            "-----------------------------------\n",
            "time: 16 ms (started: 2024-09-13 11:16:08 +02:00)\n"
          ]
        }
      ],
      "source": [
        "#Model Predictions:\n",
        "#------------------\n",
        "#scoreTraining = model.score(X_train, y_train)\n",
        "#print('-----------------------------------')\n",
        "#print('SVM Regression Training R^2 Score: ', scoreTraining)\n",
        "#print('-----------------------------------')\n",
        "scoreValidation = model.score(X_test, y_test)\n",
        "print('-----------------------------------')\n",
        "print('SVM Regression Validation R^2 Score: ', scoreValidation)\n",
        "print('-----------------------------------')"
      ]
    },
    {
      "cell_type": "code",
      "execution_count": 232,
      "metadata": {
        "colab": {
          "base_uri": "https://localhost:8080/"
        },
        "id": "nmg_ORSpbQ91",
        "outputId": "02007138-4f24-4810-b8a5-301855c6247b"
      },
      "outputs": [
        {
          "name": "stdout",
          "output_type": "stream",
          "text": [
            "time: 16 ms (started: 2024-09-13 11:16:17 +02:00)\n"
          ]
        }
      ],
      "source": [
        "#Visual Comparisons\n",
        "#------------------\n",
        "# Lets get the predictions first:\n",
        "y_predict = pd.Series(svr.predict(X_test),index=y_test.index)"
      ]
    },
    {
      "cell_type": "code",
      "execution_count": 233,
      "metadata": {
        "colab": {
          "base_uri": "https://localhost:8080/",
          "height": 421
        },
        "id": "JWcZAmglbQ91",
        "outputId": "561bea0f-52ff-4eca-9958-f8c51ca654ce"
      },
      "outputs": [
        {
          "data": {
            "image/png": "[encoded data removed]",
            "text/plain": [
              "<Figure size 1800x600 with 1 Axes>"
            ]
          },
          "metadata": {},
          "output_type": "display_data"
        },
        {
          "name": "stdout",
          "output_type": "stream",
          "text": [
            "time: 156 ms (started: 2024-09-13 11:16:18 +02:00)\n"
          ]
        }
      ],
      "source": [
        "#Plotting the Figure:\n",
        "plt.figure();\n",
        "plt.plot(y_test, 'k.-');\n",
        "plt.plot(y_predict, 'x', alpha=0.70);\n",
        "\n",
        "plt.legend(['Actual',\n",
        "            'Predicted 1 hr ahead'\n",
        "            ]);\n",
        "plt.ylabel('Load');\n",
        "plt.xlabel('Time Index');\n",
        "plt.title('SVM');"
      ]
    },
    {
      "attachments": {},
      "cell_type": "markdown",
      "metadata": {
        "id": "gkszZC5_7zRW"
      },
      "source": [
        "### Forecasting further in time...\n",
        "\n",
        "Lets use the SVM to predict further horizons by just using the training wisdom. Here we will follow a similar anology. We need to update the passed information about the past as we progress. Here, it is a bit more difficult as we need to update the created features as well. Lets see how it can be implemented.\n",
        "\n",
        "\n",
        "In this section, the goal is to use the Support Vector Machine (SVM) model to make predictions further into the future. This process is called forecasting.\n",
        "\n",
        "To accomplish this, we need to iteratively update the past information as we progress in time, making predictions for future time steps. This is a more challenging task because we also need to update the features used in the model as we move forward.\n",
        "\n",
        "The basic idea can be summarized in the following steps:\n",
        "\n",
        "1. `Train the SVM model on the available historical data.`\n",
        "2. `Make a prediction for the next time step using the trained model.`\n",
        "3. `Update the historical data and features with the new prediction.`\n",
        "4. `Go back to step 2, using the updated historical data and features to make a prediction for the next time step.`\n",
        "\n",
        "By repeating these steps, we can forecast further into the future while incorporating the information from previous predictions.\n",
        "\n",
        "The significance of this approach is that it allows us to make predictions beyond the available test data, leveraging the \"wisdom\" gained from training the model on historical data. This is particularly useful when trying to anticipate trends, make business decisions, or plan for future events based on past patterns.\n",
        "\n",
        "-----------------------------------------------------------------------------------------------------------------------------\n",
        "    Here's a simplified, visual example to help you understand how to use an SVM model for forecasting further horizons by updating the input features for each prediction.\n",
        "\n",
        "    Let's consider a simplified dataset containing only 3 features and the target variable (load) over 5 time steps:\n",
        "\n",
        "| Time step | Feature 1 | Feature 2 | Feature 3 | Load |\n",
        "|-----------|-----------|-----------|-----------|------|\n",
        "| 1         | 1         | 5         | 9         | 13   |\n",
        "| 2         | 2         | 6         | 10        | 14   |\n",
        "| 3         | 3         | 7         | 11        | 15   |\n",
        "| 4         | 4         | 8         | 12        | 16   |\n",
        "| 5         | 5         | 9         | 13        | 17   |\n",
        "\n",
        "    We can use a sliding window of size 2 for this example. The dataset would be transformed into the following format:\n",
        "\n",
        "| Time step | Feature 1_t1 | Feature 2_t1 | Feature 3_t1 | Feature 1_t2 | Feature 2_t2 | Feature 3_t2 | Load |\n",
        "|-----------|--------------|--------------|--------------|--------------|--------------|--------------|------|\n",
        "| 3         | 1            | 5            | 9            | 2            | 6            | 10           | 15   |\n",
        "| 4         | 2            | 6            | 10           | 3            | 7            | 11           | 16   |\n",
        "| 5         | 3            | 7            | 11           | 4            | 8            | 12           | 17   |\n",
        "\n",
        "    Now, we train an SVM model using the transformed dataset. To forecast further horizons, we follow these steps:\n",
        "\n",
        "    1. Train the SVM model on the available historical data.\n",
        "    2. Make a prediction for the next time step (Time step 6) using the trained model and the last window of features from the historical data (i.e., [3, 7, 11, 4, 8, 12]).\n",
        "    3. Update the historical data and features with the new prediction. In this case, we would replace the oldest data point (Time step 1) with the new prediction and shift the remaining data points up by one time step. We would also update the features accordingly.\n",
        "    4. Repeat steps 2-3 to make predictions for further time steps.\n",
        "\n",
        "    Here's an example of how the historical data and features would be updated after making a prediction for Time step 6:\n",
        "\n",
        "| Time step | Feature 1 | Feature 2 | Feature 3 | Load    |\n",
        "|-----------|-----------|-----------|-----------|---------|\n",
        "| 2         | 2         | 6         | 10        | 14      |\n",
        "| 3         | 3         | 7         | 11        | 15      |\n",
        "| 4         | 4         | 8         | 12        | 16      |\n",
        "| 5         | 5         | 9         | 13        | 17      |\n",
        "| 6         | New_F1    | New_F2    | New_F3    | New_Load|\n",
        "\n",
        "    By iteratively updating the historical data and features, we can forecast further into the future, leveraging the \"wisdom\" gained from training the model on historical data."
      ]
    },
    {
      "cell_type": "code",
      "execution_count": 234,
      "metadata": {
        "colab": {
          "base_uri": "https://localhost:8080/",
          "height": 161
        },
        "id": "FVxHoPDCLlQu",
        "outputId": "b94ece30-3dec-4336-d177-cacffe859e76"
      },
      "outputs": [
        {
          "data": {
            "text/html": [
              "<div>\n",
              "<style scoped>\n",
              "    .dataframe tbody tr th:only-of-type {\n",
              "        vertical-align: middle;\n",
              "    }\n",
              "\n",
              "    .dataframe tbody tr th {\n",
              "        vertical-align: top;\n",
              "    }\n",
              "\n",
              "    .dataframe thead th {\n",
              "        text-align: right;\n",
              "    }\n",
              "</style>\n",
              "<table border=\"1\" class=\"dataframe\">\n",
              "  <thead>\n",
              "    <tr style=\"text-align: right;\">\n",
              "      <th></th>\n",
              "      <th>load</th>\n",
              "      <th>T</th>\n",
              "      <th>hour</th>\n",
              "      <th>month</th>\n",
              "      <th>dayofWeek</th>\n",
              "    </tr>\n",
              "  </thead>\n",
              "  <tbody>\n",
              "    <tr>\n",
              "      <th>2010-04-16 23:00:00</th>\n",
              "      <td>2895.0</td>\n",
              "      <td>38.67</td>\n",
              "      <td>23</td>\n",
              "      <td>4</td>\n",
              "      <td>16</td>\n",
              "    </tr>\n",
              "    <tr>\n",
              "      <th>2009-04-25 06:00:00</th>\n",
              "      <td>2254.0</td>\n",
              "      <td>48.00</td>\n",
              "      <td>6</td>\n",
              "      <td>4</td>\n",
              "      <td>25</td>\n",
              "    </tr>\n",
              "    <tr>\n",
              "      <th>2009-02-11 15:00:00</th>\n",
              "      <td>3423.0</td>\n",
              "      <td>48.00</td>\n",
              "      <td>15</td>\n",
              "      <td>2</td>\n",
              "      <td>11</td>\n",
              "    </tr>\n",
              "  </tbody>\n",
              "</table>\n",
              "</div>"
            ],
            "text/plain": [
              "                       load      T  hour  month  dayofWeek\n",
              "2010-04-16 23:00:00  2895.0  38.67    23      4         16\n",
              "2009-04-25 06:00:00  2254.0  48.00     6      4         25\n",
              "2009-02-11 15:00:00  3423.0  48.00    15      2         11"
            ]
          },
          "execution_count": 234,
          "metadata": {},
          "output_type": "execute_result"
        },
        {
          "name": "stdout",
          "output_type": "stream",
          "text": [
            "time: 0 ns (started: 2024-09-13 11:16:43 +02:00)\n"
          ]
        }
      ],
      "source": [
        "#Checking Data:\n",
        "data.sample(3)"
      ]
    },
    {
      "cell_type": "code",
      "execution_count": 235,
      "metadata": {
        "colab": {
          "base_uri": "https://localhost:8080/"
        },
        "id": "k5oV65n1LlQw",
        "outputId": "859ec654-5fdf-4142-8898-45a463ef8ff6"
      },
      "outputs": [
        {
          "name": "stdout",
          "output_type": "stream",
          "text": [
            "<class 'pandas.core.frame.DataFrame'>\n",
            "DatetimeIndex: 78865 entries, 2006-01-01 23:00:00 to 2014-12-31 23:00:00\n",
            "Data columns (total 4 columns):\n",
            " #   Column  Non-Null Count  Dtype  \n",
            "---  ------  --------------  -----  \n",
            " 0   median  78865 non-null  float64\n",
            " 1   std     78865 non-null  float64\n",
            " 2   T       78865 non-null  float64\n",
            " 3   load    78865 non-null  float64\n",
            "dtypes: float64(4)\n",
            "memory usage: 3.0 MB\n",
            "time: 31 ms (started: 2024-09-13 11:16:50 +02:00)\n"
          ]
        }
      ],
      "source": [
        "#Adding statistics features in dataframes:\n",
        "#------------------------------------------------\n",
        "#Lets use only the load data;\n",
        "load_data = data[['load']]\n",
        "#Defining the window width:\n",
        "width = 24\n",
        "#Calling Rolling:\n",
        "window = load_data.rolling(window=width)\n",
        "#Lets save as a new DF. We will add min, mean and max to the load column:\n",
        "new_dataframe = pd.concat([window.median(), window.std(),data['T'], data['load']], axis=1)\n",
        "new_dataframe.columns = ['median', 'std','T', 'load']\n",
        "new_dataframe = new_dataframe.dropna() \n",
        "new_dataframe.info()"
      ]
    },
    {
      "cell_type": "code",
      "execution_count": 236,
      "metadata": {
        "colab": {
          "base_uri": "https://localhost:8080/",
          "height": 98
        },
        "id": "sCVbE3QlLlQx",
        "outputId": "72fb49d9-7b51-45af-e612-a4568d050adc"
      },
      "outputs": [
        {
          "data": {
            "text/html": [
              "<div>\n",
              "<style scoped>\n",
              "    .dataframe tbody tr th:only-of-type {\n",
              "        vertical-align: middle;\n",
              "    }\n",
              "\n",
              "    .dataframe tbody tr th {\n",
              "        vertical-align: top;\n",
              "    }\n",
              "\n",
              "    .dataframe thead th {\n",
              "        text-align: right;\n",
              "    }\n",
              "</style>\n",
              "<table border=\"1\" class=\"dataframe\">\n",
              "  <thead>\n",
              "    <tr style=\"text-align: right;\">\n",
              "      <th></th>\n",
              "      <th>median</th>\n",
              "      <th>std</th>\n",
              "      <th>T</th>\n",
              "      <th>load</th>\n",
              "    </tr>\n",
              "  </thead>\n",
              "  <tbody>\n",
              "    <tr>\n",
              "      <th>2006-01-01 23:00:00</th>\n",
              "      <td>3512.0</td>\n",
              "      <td>471.067697</td>\n",
              "      <td>24.33</td>\n",
              "      <td>3255.0</td>\n",
              "    </tr>\n",
              "  </tbody>\n",
              "</table>\n",
              "</div>"
            ],
            "text/plain": [
              "                     median         std      T    load\n",
              "2006-01-01 23:00:00  3512.0  471.067697  24.33  3255.0"
            ]
          },
          "execution_count": 236,
          "metadata": {},
          "output_type": "execute_result"
        },
        {
          "name": "stdout",
          "output_type": "stream",
          "text": [
            "time: 16 ms (started: 2024-09-13 11:16:52 +02:00)\n"
          ]
        }
      ],
      "source": [
        "new_dataframe.head(1)"
      ]
    },
    {
      "cell_type": "code",
      "execution_count": 237,
      "metadata": {
        "colab": {
          "base_uri": "https://localhost:8080/"
        },
        "id": "ZZfbMS8KLlQx",
        "outputId": "f15b33a7-fa05-46c7-bbdd-d29978d142b7"
      },
      "outputs": [
        {
          "name": "stdout",
          "output_type": "stream",
          "text": [
            "time: 1.02 s (started: 2024-09-13 11:16:54 +02:00)\n"
          ]
        }
      ],
      "source": [
        "#finding the indices as integers for time substraction below:\n",
        "start = np.where(new_dataframe.index == '2012-09-01 00:00:00')[0][0]\n",
        "end = np.where(new_dataframe.index == '2014-12-31 00:00:00')[0][0]\n",
        "#setting windows width:\n",
        "window = 48\n",
        "#emply datalist\n",
        "dataX = []\n",
        "dataY = []\n",
        "column_names = []\n",
        "for i in range(start,end-window):\n",
        "\n",
        "    # Slice a window of features\n",
        "    dataX.append((new_dataframe.iloc[i:i+window].to_numpy()).ravel())\n",
        "    dataY.append(new_dataframe['load'].iloc[i+window] )\n",
        "\n",
        "for j in range (1,window+1):\n",
        "      column_names.append(['median_t_'+str(j),'std_t_'+str(j),'T_t_'+str(j),'load_t_'+str(j)])\n",
        "\n",
        "column_names = itertools.chain(*column_names)\n",
        "dataX = pd.DataFrame(np.vstack(dataX),index=new_dataframe.iloc[start+window:end].index)\n",
        "dataX.columns = column_names\n",
        "dataY =pd.Series(dataY,index=new_dataframe.iloc[start+window:end].index)\n",
        "dataY.column = ['true_load']"
      ]
    },
    {
      "cell_type": "code",
      "execution_count": 238,
      "metadata": {
        "colab": {
          "base_uri": "https://localhost:8080/",
          "height": 255
        },
        "id": "ONMxRdV_LlQx",
        "outputId": "462d3ad7-fd40-4207-e039-148c64840de0"
      },
      "outputs": [
        {
          "data": {
            "text/html": [
              "<div>\n",
              "<style scoped>\n",
              "    .dataframe tbody tr th:only-of-type {\n",
              "        vertical-align: middle;\n",
              "    }\n",
              "\n",
              "    .dataframe tbody tr th {\n",
              "        vertical-align: top;\n",
              "    }\n",
              "\n",
              "    .dataframe thead th {\n",
              "        text-align: right;\n",
              "    }\n",
              "</style>\n",
              "<table border=\"1\" class=\"dataframe\">\n",
              "  <thead>\n",
              "    <tr style=\"text-align: right;\">\n",
              "      <th></th>\n",
              "      <th>median</th>\n",
              "      <th>std</th>\n",
              "      <th>T</th>\n",
              "      <th>load</th>\n",
              "    </tr>\n",
              "  </thead>\n",
              "  <tbody>\n",
              "    <tr>\n",
              "      <th>2012-09-01 00:00:00</th>\n",
              "      <td>3750.5</td>\n",
              "      <td>593.535976</td>\n",
              "      <td>59.33</td>\n",
              "      <td>2719.0</td>\n",
              "    </tr>\n",
              "    <tr>\n",
              "      <th>2012-09-01 01:00:00</th>\n",
              "      <td>3750.5</td>\n",
              "      <td>588.651369</td>\n",
              "      <td>69.67</td>\n",
              "      <td>2817.0</td>\n",
              "    </tr>\n",
              "    <tr>\n",
              "      <th>2012-09-01 02:00:00</th>\n",
              "      <td>3750.5</td>\n",
              "      <td>584.145753</td>\n",
              "      <td>67.33</td>\n",
              "      <td>2664.0</td>\n",
              "    </tr>\n",
              "    <tr>\n",
              "      <th>2012-09-01 03:00:00</th>\n",
              "      <td>3750.5</td>\n",
              "      <td>580.500794</td>\n",
              "      <td>69.33</td>\n",
              "      <td>2580.0</td>\n",
              "    </tr>\n",
              "    <tr>\n",
              "      <th>2012-09-01 04:00:00</th>\n",
              "      <td>3750.5</td>\n",
              "      <td>577.913412</td>\n",
              "      <td>67.67</td>\n",
              "      <td>2537.0</td>\n",
              "    </tr>\n",
              "    <tr>\n",
              "      <th>2012-09-01 05:00:00</th>\n",
              "      <td>3750.5</td>\n",
              "      <td>581.252095</td>\n",
              "      <td>65.00</td>\n",
              "      <td>2525.0</td>\n",
              "    </tr>\n",
              "  </tbody>\n",
              "</table>\n",
              "</div>"
            ],
            "text/plain": [
              "                     median         std      T    load\n",
              "2012-09-01 00:00:00  3750.5  593.535976  59.33  2719.0\n",
              "2012-09-01 01:00:00  3750.5  588.651369  69.67  2817.0\n",
              "2012-09-01 02:00:00  3750.5  584.145753  67.33  2664.0\n",
              "2012-09-01 03:00:00  3750.5  580.500794  69.33  2580.0\n",
              "2012-09-01 04:00:00  3750.5  577.913412  67.67  2537.0\n",
              "2012-09-01 05:00:00  3750.5  581.252095  65.00  2525.0"
            ]
          },
          "execution_count": 238,
          "metadata": {},
          "output_type": "execute_result"
        },
        {
          "name": "stdout",
          "output_type": "stream",
          "text": [
            "time: 16 ms (started: 2024-09-13 11:16:57 +02:00)\n"
          ]
        }
      ],
      "source": [
        "#Original DF:\n",
        "new_dataframe.loc['2012-09-01 00:00:00':'2012-09-04 00:00:00'].head(6)"
      ]
    },
    {
      "cell_type": "code",
      "execution_count": 239,
      "metadata": {
        "colab": {
          "base_uri": "https://localhost:8080/",
          "height": 258
        },
        "id": "KPJaDYEjLlQy",
        "outputId": "0d1bb1ed-d354-4658-ec75-f29bc85411ea"
      },
      "outputs": [
        {
          "data": {
            "text/html": [
              "<div>\n",
              "<style scoped>\n",
              "    .dataframe tbody tr th:only-of-type {\n",
              "        vertical-align: middle;\n",
              "    }\n",
              "\n",
              "    .dataframe tbody tr th {\n",
              "        vertical-align: top;\n",
              "    }\n",
              "\n",
              "    .dataframe thead th {\n",
              "        text-align: right;\n",
              "    }\n",
              "</style>\n",
              "<table border=\"1\" class=\"dataframe\">\n",
              "  <thead>\n",
              "    <tr style=\"text-align: right;\">\n",
              "      <th></th>\n",
              "      <th>median_t_1</th>\n",
              "      <th>std_t_1</th>\n",
              "      <th>T_t_1</th>\n",
              "      <th>load_t_1</th>\n",
              "      <th>median_t_2</th>\n",
              "      <th>std_t_2</th>\n",
              "      <th>T_t_2</th>\n",
              "      <th>load_t_2</th>\n",
              "      <th>median_t_3</th>\n",
              "      <th>std_t_3</th>\n",
              "      <th>...</th>\n",
              "      <th>T_t_46</th>\n",
              "      <th>load_t_46</th>\n",
              "      <th>median_t_47</th>\n",
              "      <th>std_t_47</th>\n",
              "      <th>T_t_47</th>\n",
              "      <th>load_t_47</th>\n",
              "      <th>median_t_48</th>\n",
              "      <th>std_t_48</th>\n",
              "      <th>T_t_48</th>\n",
              "      <th>load_t_48</th>\n",
              "    </tr>\n",
              "  </thead>\n",
              "  <tbody>\n",
              "    <tr>\n",
              "      <th>2012-09-03 00:00:00</th>\n",
              "      <td>3750.5</td>\n",
              "      <td>593.535976</td>\n",
              "      <td>59.33</td>\n",
              "      <td>2719.0</td>\n",
              "      <td>3750.5</td>\n",
              "      <td>588.651369</td>\n",
              "      <td>69.67</td>\n",
              "      <td>2817.0</td>\n",
              "      <td>3750.5</td>\n",
              "      <td>584.145753</td>\n",
              "      <td>...</td>\n",
              "      <td>64.67</td>\n",
              "      <td>3270.0</td>\n",
              "      <td>3107.5</td>\n",
              "      <td>400.451258</td>\n",
              "      <td>62.0</td>\n",
              "      <td>3070.0</td>\n",
              "      <td>3107.5</td>\n",
              "      <td>400.479656</td>\n",
              "      <td>60.00</td>\n",
              "      <td>2825.0</td>\n",
              "    </tr>\n",
              "    <tr>\n",
              "      <th>2012-09-03 01:00:00</th>\n",
              "      <td>3750.5</td>\n",
              "      <td>588.651369</td>\n",
              "      <td>69.67</td>\n",
              "      <td>2817.0</td>\n",
              "      <td>3750.5</td>\n",
              "      <td>584.145753</td>\n",
              "      <td>67.33</td>\n",
              "      <td>2664.0</td>\n",
              "      <td>3750.5</td>\n",
              "      <td>580.500794</td>\n",
              "      <td>...</td>\n",
              "      <td>62.00</td>\n",
              "      <td>3070.0</td>\n",
              "      <td>3107.5</td>\n",
              "      <td>400.479656</td>\n",
              "      <td>60.0</td>\n",
              "      <td>2825.0</td>\n",
              "      <td>3107.5</td>\n",
              "      <td>398.969315</td>\n",
              "      <td>64.67</td>\n",
              "      <td>2630.0</td>\n",
              "    </tr>\n",
              "  </tbody>\n",
              "</table>\n",
              "<p>2 rows × 192 columns</p>\n",
              "</div>"
            ],
            "text/plain": [
              "                     median_t_1     std_t_1  T_t_1  load_t_1  median_t_2  \\\n",
              "2012-09-03 00:00:00      3750.5  593.535976  59.33    2719.0      3750.5   \n",
              "2012-09-03 01:00:00      3750.5  588.651369  69.67    2817.0      3750.5   \n",
              "\n",
              "                        std_t_2  T_t_2  load_t_2  median_t_3     std_t_3  ...  \\\n",
              "2012-09-03 00:00:00  588.651369  69.67    2817.0      3750.5  584.145753  ...   \n",
              "2012-09-03 01:00:00  584.145753  67.33    2664.0      3750.5  580.500794  ...   \n",
              "\n",
              "                     T_t_46  load_t_46  median_t_47    std_t_47  T_t_47  \\\n",
              "2012-09-03 00:00:00   64.67     3270.0       3107.5  400.451258    62.0   \n",
              "2012-09-03 01:00:00   62.00     3070.0       3107.5  400.479656    60.0   \n",
              "\n",
              "                     load_t_47  median_t_48    std_t_48  T_t_48  load_t_48  \n",
              "2012-09-03 00:00:00     3070.0       3107.5  400.479656   60.00     2825.0  \n",
              "2012-09-03 01:00:00     2825.0       3107.5  398.969315   64.67     2630.0  \n",
              "\n",
              "[2 rows x 192 columns]"
            ]
          },
          "execution_count": 239,
          "metadata": {},
          "output_type": "execute_result"
        },
        {
          "name": "stdout",
          "output_type": "stream",
          "text": [
            "time: 16 ms (started: 2024-09-13 11:16:59 +02:00)\n"
          ]
        }
      ],
      "source": [
        "dataX.head(2)"
      ]
    },
    {
      "cell_type": "code",
      "execution_count": 240,
      "metadata": {
        "colab": {
          "base_uri": "https://localhost:8080/"
        },
        "id": "BG9oqMvpLlQz",
        "outputId": "f9c70ae4-a927-483b-eb66-3d59c399d978"
      },
      "outputs": [
        {
          "data": {
            "text/plain": [
              "2012-09-03 00:00:00    2630.0\n",
              "2012-09-03 01:00:00    2403.0\n",
              "dtype: float64"
            ]
          },
          "execution_count": 240,
          "metadata": {},
          "output_type": "execute_result"
        },
        {
          "name": "stdout",
          "output_type": "stream",
          "text": [
            "time: 16 ms (started: 2024-09-13 11:17:06 +02:00)\n"
          ]
        }
      ],
      "source": [
        "dataY.head(2)"
      ]
    },
    {
      "cell_type": "code",
      "execution_count": 241,
      "metadata": {
        "colab": {
          "base_uri": "https://localhost:8080/",
          "height": 411
        },
        "id": "0W6M7BAULlQz",
        "outputId": "1ad36e7e-db9e-4e2a-acea-6f9b89c7055e"
      },
      "outputs": [
        {
          "data": {
            "text/html": [
              "<div>\n",
              "<style scoped>\n",
              "    .dataframe tbody tr th:only-of-type {\n",
              "        vertical-align: middle;\n",
              "    }\n",
              "\n",
              "    .dataframe tbody tr th {\n",
              "        vertical-align: top;\n",
              "    }\n",
              "\n",
              "    .dataframe thead th {\n",
              "        text-align: right;\n",
              "    }\n",
              "</style>\n",
              "<table border=\"1\" class=\"dataframe\">\n",
              "  <thead>\n",
              "    <tr style=\"text-align: right;\">\n",
              "      <th></th>\n",
              "      <th>median_t_1</th>\n",
              "      <th>std_t_1</th>\n",
              "      <th>T_t_1</th>\n",
              "      <th>load_t_1</th>\n",
              "      <th>median_t_2</th>\n",
              "      <th>std_t_2</th>\n",
              "      <th>T_t_2</th>\n",
              "      <th>load_t_2</th>\n",
              "      <th>median_t_3</th>\n",
              "      <th>std_t_3</th>\n",
              "      <th>...</th>\n",
              "      <th>T_t_46</th>\n",
              "      <th>load_t_46</th>\n",
              "      <th>median_t_47</th>\n",
              "      <th>std_t_47</th>\n",
              "      <th>T_t_47</th>\n",
              "      <th>load_t_47</th>\n",
              "      <th>median_t_48</th>\n",
              "      <th>std_t_48</th>\n",
              "      <th>T_t_48</th>\n",
              "      <th>load_t_48</th>\n",
              "    </tr>\n",
              "  </thead>\n",
              "  <tbody>\n",
              "    <tr>\n",
              "      <th>count</th>\n",
              "      <td>2.037600e+04</td>\n",
              "      <td>2.037600e+04</td>\n",
              "      <td>2.037600e+04</td>\n",
              "      <td>2.037600e+04</td>\n",
              "      <td>2.037600e+04</td>\n",
              "      <td>2.037600e+04</td>\n",
              "      <td>2.037600e+04</td>\n",
              "      <td>2.037600e+04</td>\n",
              "      <td>2.037600e+04</td>\n",
              "      <td>2.037600e+04</td>\n",
              "      <td>...</td>\n",
              "      <td>2.037600e+04</td>\n",
              "      <td>2.037600e+04</td>\n",
              "      <td>2.037600e+04</td>\n",
              "      <td>2.037600e+04</td>\n",
              "      <td>2.037600e+04</td>\n",
              "      <td>2.037600e+04</td>\n",
              "      <td>2.037600e+04</td>\n",
              "      <td>2.037600e+04</td>\n",
              "      <td>2.037600e+04</td>\n",
              "      <td>2.037600e+04</td>\n",
              "    </tr>\n",
              "    <tr>\n",
              "      <th>mean</th>\n",
              "      <td>1.534348e-16</td>\n",
              "      <td>1.604649e-14</td>\n",
              "      <td>-3.559688e-15</td>\n",
              "      <td>1.115890e-16</td>\n",
              "      <td>-5.551551e-16</td>\n",
              "      <td>1.584563e-14</td>\n",
              "      <td>-3.715913e-15</td>\n",
              "      <td>2.050447e-16</td>\n",
              "      <td>2.901313e-16</td>\n",
              "      <td>1.744136e-14</td>\n",
              "      <td>...</td>\n",
              "      <td>-3.794025e-15</td>\n",
              "      <td>-2.915262e-16</td>\n",
              "      <td>-3.403463e-16</td>\n",
              "      <td>1.468511e-14</td>\n",
              "      <td>-3.626641e-15</td>\n",
              "      <td>-8.648145e-17</td>\n",
              "      <td>6.862721e-16</td>\n",
              "      <td>1.506451e-14</td>\n",
              "      <td>-3.648959e-15</td>\n",
              "      <td>3.849819e-16</td>\n",
              "    </tr>\n",
              "    <tr>\n",
              "      <th>std</th>\n",
              "      <td>1.000025e+00</td>\n",
              "      <td>1.000025e+00</td>\n",
              "      <td>1.000025e+00</td>\n",
              "      <td>1.000025e+00</td>\n",
              "      <td>1.000025e+00</td>\n",
              "      <td>1.000025e+00</td>\n",
              "      <td>1.000025e+00</td>\n",
              "      <td>1.000025e+00</td>\n",
              "      <td>1.000025e+00</td>\n",
              "      <td>1.000025e+00</td>\n",
              "      <td>...</td>\n",
              "      <td>1.000025e+00</td>\n",
              "      <td>1.000025e+00</td>\n",
              "      <td>1.000025e+00</td>\n",
              "      <td>1.000025e+00</td>\n",
              "      <td>1.000025e+00</td>\n",
              "      <td>1.000025e+00</td>\n",
              "      <td>1.000025e+00</td>\n",
              "      <td>1.000025e+00</td>\n",
              "      <td>1.000025e+00</td>\n",
              "      <td>1.000025e+00</td>\n",
              "    </tr>\n",
              "    <tr>\n",
              "      <th>min</th>\n",
              "      <td>-2.355880e+00</td>\n",
              "      <td>-2.958309e+00</td>\n",
              "      <td>-3.153453e+00</td>\n",
              "      <td>-2.385987e+00</td>\n",
              "      <td>-2.355820e+00</td>\n",
              "      <td>-2.958401e+00</td>\n",
              "      <td>-3.153275e+00</td>\n",
              "      <td>-2.386093e+00</td>\n",
              "      <td>-2.355760e+00</td>\n",
              "      <td>-2.958481e+00</td>\n",
              "      <td>...</td>\n",
              "      <td>-3.147893e+00</td>\n",
              "      <td>-2.387341e+00</td>\n",
              "      <td>-2.357287e+00</td>\n",
              "      <td>-2.959521e+00</td>\n",
              "      <td>-3.147675e+00</td>\n",
              "      <td>-2.387288e+00</td>\n",
              "      <td>-2.357430e+00</td>\n",
              "      <td>-2.959641e+00</td>\n",
              "      <td>-3.147327e+00</td>\n",
              "      <td>-2.387307e+00</td>\n",
              "    </tr>\n",
              "    <tr>\n",
              "      <th>25%</th>\n",
              "      <td>-6.224290e-01</td>\n",
              "      <td>-6.242725e-01</td>\n",
              "      <td>-7.685031e-01</td>\n",
              "      <td>-7.777970e-01</td>\n",
              "      <td>-6.223606e-01</td>\n",
              "      <td>-6.242466e-01</td>\n",
              "      <td>-7.683892e-01</td>\n",
              "      <td>-7.778604e-01</td>\n",
              "      <td>-6.222921e-01</td>\n",
              "      <td>-6.242185e-01</td>\n",
              "      <td>...</td>\n",
              "      <td>-7.635315e-01</td>\n",
              "      <td>-7.779760e-01</td>\n",
              "      <td>-6.222434e-01</td>\n",
              "      <td>-6.237019e-01</td>\n",
              "      <td>-7.633885e-01</td>\n",
              "      <td>-7.780103e-01</td>\n",
              "      <td>-6.223742e-01</td>\n",
              "      <td>-6.236980e-01</td>\n",
              "      <td>-7.632052e-01</td>\n",
              "      <td>-7.780655e-01</td>\n",
              "    </tr>\n",
              "    <tr>\n",
              "      <th>50%</th>\n",
              "      <td>-1.288194e-01</td>\n",
              "      <td>-9.989587e-02</td>\n",
              "      <td>3.205064e-02</td>\n",
              "      <td>1.232201e-01</td>\n",
              "      <td>-1.287485e-01</td>\n",
              "      <td>-9.984365e-02</td>\n",
              "      <td>3.214288e-02</td>\n",
              "      <td>1.231807e-01</td>\n",
              "      <td>-1.286777e-01</td>\n",
              "      <td>-9.979099e-02</td>\n",
              "      <td>...</td>\n",
              "      <td>3.682467e-02</td>\n",
              "      <td>1.226942e-01</td>\n",
              "      <td>-1.286535e-01</td>\n",
              "      <td>-1.004424e-01</td>\n",
              "      <td>3.694223e-02</td>\n",
              "      <td>1.226109e-01</td>\n",
              "      <td>-1.287808e-01</td>\n",
              "      <td>-1.004188e-01</td>\n",
              "      <td>3.707034e-02</td>\n",
              "      <td>1.225355e-01</td>\n",
              "    </tr>\n",
              "    <tr>\n",
              "      <th>75%</th>\n",
              "      <td>6.307080e-01</td>\n",
              "      <td>4.340683e-01</td>\n",
              "      <td>7.981382e-01</td>\n",
              "      <td>6.903942e-01</td>\n",
              "      <td>6.307825e-01</td>\n",
              "      <td>4.339395e-01</td>\n",
              "      <td>7.982098e-01</td>\n",
              "      <td>6.903700e-01</td>\n",
              "      <td>6.308570e-01</td>\n",
              "      <td>4.339409e-01</td>\n",
              "      <td>...</td>\n",
              "      <td>8.027232e-01</td>\n",
              "      <td>6.914441e-01</td>\n",
              "      <td>6.308434e-01</td>\n",
              "      <td>4.343817e-01</td>\n",
              "      <td>8.028165e-01</td>\n",
              "      <td>6.913299e-01</td>\n",
              "      <td>6.307215e-01</td>\n",
              "      <td>4.343356e-01</td>\n",
              "      <td>8.028917e-01</td>\n",
              "      <td>6.912417e-01</td>\n",
              "    </tr>\n",
              "    <tr>\n",
              "      <th>max</th>\n",
              "      <td>4.194005e+00</td>\n",
              "      <td>4.584623e+00</td>\n",
              "      <td>2.521444e+00</td>\n",
              "      <td>3.438317e+00</td>\n",
              "      <td>4.194096e+00</td>\n",
              "      <td>4.584911e+00</td>\n",
              "      <td>2.521469e+00</td>\n",
              "      <td>3.438366e+00</td>\n",
              "      <td>4.194188e+00</td>\n",
              "      <td>4.585182e+00</td>\n",
              "      <td>...</td>\n",
              "      <td>2.525603e+00</td>\n",
              "      <td>3.434720e+00</td>\n",
              "      <td>4.192336e+00</td>\n",
              "      <td>4.588446e+00</td>\n",
              "      <td>2.525642e+00</td>\n",
              "      <td>3.434457e+00</td>\n",
              "      <td>4.192239e+00</td>\n",
              "      <td>4.588490e+00</td>\n",
              "      <td>2.525598e+00</td>\n",
              "      <td>3.434307e+00</td>\n",
              "    </tr>\n",
              "  </tbody>\n",
              "</table>\n",
              "<p>8 rows × 192 columns</p>\n",
              "</div>"
            ],
            "text/plain": [
              "         median_t_1       std_t_1         T_t_1      load_t_1    median_t_2  \\\n",
              "count  2.037600e+04  2.037600e+04  2.037600e+04  2.037600e+04  2.037600e+04   \n",
              "mean   1.534348e-16  1.604649e-14 -3.559688e-15  1.115890e-16 -5.551551e-16   \n",
              "std    1.000025e+00  1.000025e+00  1.000025e+00  1.000025e+00  1.000025e+00   \n",
              "min   -2.355880e+00 -2.958309e+00 -3.153453e+00 -2.385987e+00 -2.355820e+00   \n",
              "25%   -6.224290e-01 -6.242725e-01 -7.685031e-01 -7.777970e-01 -6.223606e-01   \n",
              "50%   -1.288194e-01 -9.989587e-02  3.205064e-02  1.232201e-01 -1.287485e-01   \n",
              "75%    6.307080e-01  4.340683e-01  7.981382e-01  6.903942e-01  6.307825e-01   \n",
              "max    4.194005e+00  4.584623e+00  2.521444e+00  3.438317e+00  4.194096e+00   \n",
              "\n",
              "            std_t_2         T_t_2      load_t_2    median_t_3       std_t_3  \\\n",
              "count  2.037600e+04  2.037600e+04  2.037600e+04  2.037600e+04  2.037600e+04   \n",
              "mean   1.584563e-14 -3.715913e-15  2.050447e-16  2.901313e-16  1.744136e-14   \n",
              "std    1.000025e+00  1.000025e+00  1.000025e+00  1.000025e+00  1.000025e+00   \n",
              "min   -2.958401e+00 -3.153275e+00 -2.386093e+00 -2.355760e+00 -2.958481e+00   \n",
              "25%   -6.242466e-01 -7.683892e-01 -7.778604e-01 -6.222921e-01 -6.242185e-01   \n",
              "50%   -9.984365e-02  3.214288e-02  1.231807e-01 -1.286777e-01 -9.979099e-02   \n",
              "75%    4.339395e-01  7.982098e-01  6.903700e-01  6.308570e-01  4.339409e-01   \n",
              "max    4.584911e+00  2.521469e+00  3.438366e+00  4.194188e+00  4.585182e+00   \n",
              "\n",
              "       ...        T_t_46     load_t_46   median_t_47      std_t_47  \\\n",
              "count  ...  2.037600e+04  2.037600e+04  2.037600e+04  2.037600e+04   \n",
              "mean   ... -3.794025e-15 -2.915262e-16 -3.403463e-16  1.468511e-14   \n",
              "std    ...  1.000025e+00  1.000025e+00  1.000025e+00  1.000025e+00   \n",
              "min    ... -3.147893e+00 -2.387341e+00 -2.357287e+00 -2.959521e+00   \n",
              "25%    ... -7.635315e-01 -7.779760e-01 -6.222434e-01 -6.237019e-01   \n",
              "50%    ...  3.682467e-02  1.226942e-01 -1.286535e-01 -1.004424e-01   \n",
              "75%    ...  8.027232e-01  6.914441e-01  6.308434e-01  4.343817e-01   \n",
              "max    ...  2.525603e+00  3.434720e+00  4.192336e+00  4.588446e+00   \n",
              "\n",
              "             T_t_47     load_t_47   median_t_48      std_t_48        T_t_48  \\\n",
              "count  2.037600e+04  2.037600e+04  2.037600e+04  2.037600e+04  2.037600e+04   \n",
              "mean  -3.626641e-15 -8.648145e-17  6.862721e-16  1.506451e-14 -3.648959e-15   \n",
              "std    1.000025e+00  1.000025e+00  1.000025e+00  1.000025e+00  1.000025e+00   \n",
              "min   -3.147675e+00 -2.387288e+00 -2.357430e+00 -2.959641e+00 -3.147327e+00   \n",
              "25%   -7.633885e-01 -7.780103e-01 -6.223742e-01 -6.236980e-01 -7.632052e-01   \n",
              "50%    3.694223e-02  1.226109e-01 -1.287808e-01 -1.004188e-01  3.707034e-02   \n",
              "75%    8.028165e-01  6.913299e-01  6.307215e-01  4.343356e-01  8.028917e-01   \n",
              "max    2.525642e+00  3.434457e+00  4.192239e+00  4.588490e+00  2.525598e+00   \n",
              "\n",
              "          load_t_48  \n",
              "count  2.037600e+04  \n",
              "mean   3.849819e-16  \n",
              "std    1.000025e+00  \n",
              "min   -2.387307e+00  \n",
              "25%   -7.780655e-01  \n",
              "50%    1.225355e-01  \n",
              "75%    6.912417e-01  \n",
              "max    3.434307e+00  \n",
              "\n",
              "[8 rows x 192 columns]"
            ]
          },
          "execution_count": 241,
          "metadata": {},
          "output_type": "execute_result"
        },
        {
          "name": "stdout",
          "output_type": "stream",
          "text": [
            "time: 312 ms (started: 2024-09-13 11:17:07 +02:00)\n"
          ]
        }
      ],
      "source": [
        "#Rescaling the data\n",
        "featuresToScale = dataX.columns\n",
        "sX = pp.StandardScaler(copy=True)\n",
        "dataX.loc[:,featuresToScale] = sX.fit_transform(dataX[featuresToScale])\n",
        "#Looking into the statistics again:\n",
        "dataX.describe()"
      ]
    },
    {
      "cell_type": "code",
      "execution_count": 242,
      "metadata": {
        "colab": {
          "base_uri": "https://localhost:8080/"
        },
        "id": "UC-RR1QeMrZs",
        "outputId": "1a57f942-3de9-45df-c398-020c2230ae15"
      },
      "outputs": [
        {
          "data": {
            "text/plain": [
              "2012-09-03 00:00:00    0.658707\n",
              "2012-09-03 01:00:00    1.198676\n",
              "2012-09-03 02:00:00    1.076478\n",
              "2012-09-03 03:00:00    1.180921\n",
              "2012-09-03 04:00:00    1.094233\n",
              "                         ...   \n",
              "2014-12-30 19:00:00   -0.246289\n",
              "2014-12-30 20:00:00   -0.281278\n",
              "2014-12-30 21:00:00   -0.385720\n",
              "2014-12-30 22:00:00   -0.472408\n",
              "2014-12-30 23:00:00   -0.507396\n",
              "Name: T_t_1, Length: 20376, dtype: float64"
            ]
          },
          "execution_count": 242,
          "metadata": {},
          "output_type": "execute_result"
        },
        {
          "name": "stdout",
          "output_type": "stream",
          "text": [
            "time: 0 ns (started: 2024-09-13 11:17:11 +02:00)\n"
          ]
        }
      ],
      "source": [
        "#Temperature for weather forecasting (later used in multistep forecasting):\n",
        "temp_test = dataX['T_t_1']\n",
        "temp_test"
      ]
    },
    {
      "cell_type": "code",
      "execution_count": 243,
      "metadata": {
        "colab": {
          "base_uri": "https://localhost:8080/"
        },
        "id": "XA1VYQg9LlQ1",
        "outputId": "4abc288d-0c50-42b1-e15a-a673d0a82b77"
      },
      "outputs": [
        {
          "name": "stdout",
          "output_type": "stream",
          "text": [
            "Train data shape:  (744, 192) (744,)\n",
            "Test data shape:  (72, 192) (72,)\n",
            "time: 31 ms (started: 2024-09-13 11:17:13 +02:00)\n"
          ]
        }
      ],
      "source": [
        "# Train-Test Split:\n",
        "# We will split the data as training and test. No need for validation here. \n",
        "train_start_dt = '2014-10-01'\n",
        "test_start_dt = '2014-11-01'\n",
        "test_end_dt = '2014-11-04'\n",
        "#Lets use the same notation: X_train, X_test, y_train, y_test\n",
        "X_train = dataX.copy()[(dataX.index >= train_start_dt)& (dataX.index < test_start_dt)]\n",
        "y_train = dataY.copy()[(dataY.index >= train_start_dt)& (dataY.index < test_start_dt)]\n",
        "\n",
        "X_test =  dataX.copy()[(dataX.index >= test_start_dt) & (dataX.index < test_end_dt)]\n",
        "y_test =  dataY.copy()[(dataY.index >= test_start_dt) & (dataY.index < test_end_dt)]\n",
        "\n",
        "\n",
        "print('Train data shape: ', X_train.shape, y_train.shape)\n",
        "print('Test data shape: ', X_test.shape, y_test.shape)"
      ]
    },
    {
      "cell_type": "code",
      "execution_count": 244,
      "metadata": {
        "colab": {
          "base_uri": "https://localhost:8080/"
        },
        "id": "ufm-Re7y8ft_",
        "outputId": "b2fbcf90-eeaa-4831-98c3-003db7d63eae"
      },
      "outputs": [
        {
          "name": "stdout",
          "output_type": "stream",
          "text": [
            "time: 0 ns (started: 2024-09-13 11:17:15 +02:00)\n"
          ]
        }
      ],
      "source": [
        "# First element passed to SVM:\n",
        "X_last = X_test.iloc[0:1]"
      ]
    },
    {
      "cell_type": "code",
      "execution_count": 245,
      "metadata": {
        "colab": {
          "base_uri": "https://localhost:8080/",
          "height": 191
        },
        "id": "vdslZc40FcPl",
        "outputId": "1fda0e97-3166-46b6-8f97-f17dfa060855"
      },
      "outputs": [
        {
          "data": {
            "text/html": [
              "<div>\n",
              "<style scoped>\n",
              "    .dataframe tbody tr th:only-of-type {\n",
              "        vertical-align: middle;\n",
              "    }\n",
              "\n",
              "    .dataframe tbody tr th {\n",
              "        vertical-align: top;\n",
              "    }\n",
              "\n",
              "    .dataframe thead th {\n",
              "        text-align: right;\n",
              "    }\n",
              "</style>\n",
              "<table border=\"1\" class=\"dataframe\">\n",
              "  <thead>\n",
              "    <tr style=\"text-align: right;\">\n",
              "      <th></th>\n",
              "      <th>median_t_1</th>\n",
              "      <th>std_t_1</th>\n",
              "      <th>T_t_1</th>\n",
              "      <th>load_t_1</th>\n",
              "      <th>median_t_2</th>\n",
              "      <th>std_t_2</th>\n",
              "      <th>T_t_2</th>\n",
              "      <th>load_t_2</th>\n",
              "      <th>median_t_3</th>\n",
              "      <th>std_t_3</th>\n",
              "      <th>...</th>\n",
              "      <th>T_t_46</th>\n",
              "      <th>load_t_46</th>\n",
              "      <th>median_t_47</th>\n",
              "      <th>std_t_47</th>\n",
              "      <th>T_t_47</th>\n",
              "      <th>load_t_47</th>\n",
              "      <th>median_t_48</th>\n",
              "      <th>std_t_48</th>\n",
              "      <th>T_t_48</th>\n",
              "      <th>load_t_48</th>\n",
              "    </tr>\n",
              "  </thead>\n",
              "  <tbody>\n",
              "    <tr>\n",
              "      <th>2014-11-01</th>\n",
              "      <td>-0.135467</td>\n",
              "      <td>0.127658</td>\n",
              "      <td>-0.298511</td>\n",
              "      <td>-1.066769</td>\n",
              "      <td>-0.135397</td>\n",
              "      <td>0.121461</td>\n",
              "      <td>0.06713</td>\n",
              "      <td>-1.443769</td>\n",
              "      <td>-0.135326</td>\n",
              "      <td>0.119772</td>\n",
              "      <td>...</td>\n",
              "      <td>-0.206467</td>\n",
              "      <td>0.009662</td>\n",
              "      <td>-0.668777</td>\n",
              "      <td>-0.994718</td>\n",
              "      <td>-0.189113</td>\n",
              "      <td>-0.300789</td>\n",
              "      <td>-0.668908</td>\n",
              "      <td>-0.972099</td>\n",
              "      <td>-0.293376</td>\n",
              "      <td>-0.745773</td>\n",
              "    </tr>\n",
              "  </tbody>\n",
              "</table>\n",
              "<p>1 rows × 192 columns</p>\n",
              "</div>"
            ],
            "text/plain": [
              "            median_t_1   std_t_1     T_t_1  load_t_1  median_t_2   std_t_2  \\\n",
              "2014-11-01   -0.135467  0.127658 -0.298511 -1.066769   -0.135397  0.121461   \n",
              "\n",
              "              T_t_2  load_t_2  median_t_3   std_t_3  ...    T_t_46  load_t_46  \\\n",
              "2014-11-01  0.06713 -1.443769   -0.135326  0.119772  ... -0.206467   0.009662   \n",
              "\n",
              "            median_t_47  std_t_47    T_t_47  load_t_47  median_t_48  std_t_48  \\\n",
              "2014-11-01    -0.668777 -0.994718 -0.189113  -0.300789    -0.668908 -0.972099   \n",
              "\n",
              "              T_t_48  load_t_48  \n",
              "2014-11-01 -0.293376  -0.745773  \n",
              "\n",
              "[1 rows x 192 columns]"
            ]
          },
          "execution_count": 245,
          "metadata": {},
          "output_type": "execute_result"
        },
        {
          "name": "stdout",
          "output_type": "stream",
          "text": [
            "time: 16 ms (started: 2024-09-13 11:17:16 +02:00)\n"
          ]
        }
      ],
      "source": [
        "X_last"
      ]
    },
    {
      "cell_type": "code",
      "execution_count": 246,
      "metadata": {
        "colab": {
          "base_uri": "https://localhost:8080/"
        },
        "id": "XJb_EodgBXbf",
        "outputId": "a4a8f270-991d-4171-d7b5-2faae80ac0ec"
      },
      "outputs": [
        {
          "data": {
            "text/plain": [
              "array([-1.06676868, -1.44376922, -1.59809716, -1.67346251, -1.65371422,\n",
              "       -1.47603732, -0.99145552, -0.06890565,  0.37799529,  0.38691767,\n",
              "        0.4066172 ,  0.32041933,  0.24858831,  0.15522374,  0.15340716,\n",
              "        0.0959495 ,  0.07618368,  0.17128067,  0.44581801,  0.75796848,\n",
              "        0.66272934,  0.4634543 ,  0.01481442, -0.58630536])"
            ]
          },
          "execution_count": 246,
          "metadata": {},
          "output_type": "execute_result"
        },
        {
          "name": "stdout",
          "output_type": "stream",
          "text": [
            "time: 0 ns (started: 2024-09-13 11:17:18 +02:00)\n"
          ]
        }
      ],
      "source": [
        "# Creating a list of last loads:\n",
        "last_loads = list ()\n",
        "s_window = 24\n",
        "for i in range (1,s_window+1):\n",
        "  column = 'load_t_'+ str (i)\n",
        "  last_loads.append(X_last[column][0])\n",
        "last_loads = np.array(last_loads)\n",
        "last_loads"
      ]
    },
    {
      "cell_type": "code",
      "execution_count": 247,
      "metadata": {
        "colab": {
          "base_uri": "https://localhost:8080/"
        },
        "id": "UWC5-UrkA4O8",
        "outputId": "29fcacb9-9b94-43e0-99f2-838a0a80af0e"
      },
      "outputs": [
        {
          "name": "stdout",
          "output_type": "stream",
          "text": [
            "time: 0 ns (started: 2024-09-13 11:17:46 +02:00)\n"
          ]
        }
      ],
      "source": [
        "#Creating series for predictions:\n",
        "y_predicted =pd.Series(index=y_test.index)"
      ]
    },
    {
      "cell_type": "code",
      "execution_count": 248,
      "metadata": {
        "colab": {
          "base_uri": "https://localhost:8080/"
        },
        "id": "wLp7MhPrF2Xr",
        "outputId": "acfe5161-3ee3-49b1-8b95-2570e76c834a"
      },
      "outputs": [
        {
          "name": "stdout",
          "output_type": "stream",
          "text": [
            "time: 0 ns (started: 2024-09-13 11:17:47 +02:00)\n"
          ]
        }
      ],
      "source": [
        "#import lib\n",
        "from pandas.tseries.offsets import DateOffset"
      ]
    },
    {
      "cell_type": "code",
      "execution_count": 249,
      "metadata": {
        "colab": {
          "base_uri": "https://localhost:8080/"
        },
        "id": "npsJKqnEIClJ",
        "outputId": "20662680-84a5-4cff-c7d7-3c588bb13d0f"
      },
      "outputs": [
        {
          "data": {
            "text/plain": [
              "(1, 192)"
            ]
          },
          "execution_count": 249,
          "metadata": {},
          "output_type": "execute_result"
        },
        {
          "name": "stdout",
          "output_type": "stream",
          "text": [
            "time: 0 ns (started: 2024-09-13 11:17:48 +02:00)\n"
          ]
        }
      ],
      "source": [
        "#Conversion:\n",
        "X_test_last = X_last.to_numpy()\n",
        "X_test_last.shape"
      ]
    },
    {
      "cell_type": "code",
      "execution_count": 250,
      "metadata": {
        "colab": {
          "base_uri": "https://localhost:8080/"
        },
        "id": "NoKmVT3MIK29",
        "outputId": "76688dab-e2cd-44bf-9de2-dfd8f17def3a"
      },
      "outputs": [
        {
          "data": {
            "text/plain": [
              "array([[-0.13546731,  0.12765831, -0.29851068, -1.06676868, -0.13539651,\n",
              "         0.12146142,  0.06713026, -1.44376922, -0.13532571,  0.11977188,\n",
              "        -0.01999049, -1.59809716, -0.13525491,  0.11427877, -0.12435371,\n",
              "        -1.67346251, -0.13518411,  0.10609373, -0.1937283 , -1.65371422,\n",
              "        -0.13511331,  0.09645576, -0.24587036, -1.47603732, -0.13504251,\n",
              "         0.08734555, -0.31525035, -0.99145552, -0.13497171,  0.08990252,\n",
              "        -0.33292245, -0.06890565, -0.09833772,  0.10109127, -0.40229381,\n",
              "         0.37799529, -0.09827176,  0.10370958, -0.38497225,  0.38691767,\n",
              "        -0.09821017,  0.10160344, -0.21044671,  0.4066172 , -0.13308568,\n",
              "         0.07341006, -0.05367567,  0.32041933, -0.18792095,  0.04455861,\n",
              "         0.15533126,  0.24858831, -0.20120424,  0.01180959,  0.24213534,\n",
              "         0.15522374, -0.29925239, -0.02198351,  0.32947277,  0.15340716,\n",
              "        -0.38734412, -0.04560535,  0.32959266,  0.0959495 , -0.44220897,\n",
              "        -0.07167113,  0.38195809,  0.07618368, -0.44223678, -0.12595769,\n",
              "         0.36485454,  0.17128067, -0.44226479, -0.21958317,  0.26050468,\n",
              "         0.44581801, -0.4422928 , -0.24525611,  0.17338833,  0.75796848,\n",
              "        -0.44232367, -0.245302  ,  0.01677839,  0.66272934, -0.44235453,\n",
              "        -0.2251442 , -0.07035445,  0.4634543 , -0.44239635, -0.21576841,\n",
              "        -0.19197226,  0.01481442, -0.44244518, -0.23365649, -0.27911278,\n",
              "        -0.58630536, -0.44250805, -0.20508742, -0.41796726, -1.15692609,\n",
              "        -0.44257092, -0.2564928 , -0.34833885, -1.32211729, -0.44263379,\n",
              "        -0.30469967, -0.40046962, -1.49987197, -0.44269667, -0.35716279,\n",
              "        -0.41759492, -1.57358184, -0.44275954, -0.40586885, -0.40024489,\n",
              "        -1.56117378, -0.44282242, -0.43992379, -0.43511992, -1.40339201,\n",
              "        -0.4428853 , -0.46805868, -0.4000006 , -0.89021219, -0.44294818,\n",
              "        -0.46346522, -0.41710767, -0.00540935, -0.44301106, -0.45668664,\n",
              "        -0.41697582,  0.40557177, -0.44307534, -0.44982856, -0.39960954,\n",
              "         0.41445166, -0.44314158, -0.45650733, -0.24282982,  0.37665989,\n",
              "        -0.44323879, -0.46190911, -0.13827978,  0.29220851, -0.44333839,\n",
              "        -0.46899443,  0.05345511,  0.2059715 , -0.48498639, -0.47533077,\n",
              "         0.12301406,  0.10718517, -0.51500307, -0.48724993,  0.15811382,\n",
              "         0.05866672, -0.54834528, -0.50067542,  0.17546393, -0.04010555,\n",
              "        -0.60495974, -0.51110692,  0.15835676, -0.02939346, -0.60507047,\n",
              "        -0.52292694,  0.14072966,  0.0872008 , -0.60518121, -0.57196009,\n",
              "         0.05419008,  0.22888839, -0.60529196, -0.7194056 , -0.03287012,\n",
              "         0.28080675, -0.60540271, -0.86910441, -0.13715753,  0.11561038,\n",
              "        -0.65038547, -0.97131432, -0.20646691,  0.00966186, -0.66877716,\n",
              "        -0.99471849, -0.18911336, -0.30078873, -0.66890827, -0.97209914,\n",
              "        -0.29337611, -0.745773  ]])"
            ]
          },
          "execution_count": 250,
          "metadata": {},
          "output_type": "execute_result"
        },
        {
          "name": "stdout",
          "output_type": "stream",
          "text": [
            "time: 0 ns (started: 2024-09-13 11:17:50 +02:00)\n"
          ]
        }
      ],
      "source": [
        "X_test_last"
      ]
    },
    {
      "cell_type": "code",
      "execution_count": 251,
      "metadata": {
        "colab": {
          "base_uri": "https://localhost:8080/"
        },
        "id": "nflkWzBjuAeq",
        "outputId": "06a871a0-c5d5-4095-f7fa-30a3ce464bc4"
      },
      "outputs": [
        {
          "name": "stdout",
          "output_type": "stream",
          "text": [
            "time: 79 ms (started: 2024-09-13 11:17:52 +02:00)\n"
          ]
        },
        {
          "name": "stderr",
          "output_type": "stream",
          "text": [
            "c:\\Users\\JuanFernandez\\anaconda3\\envs\\energy_portfolio_management\\lib\\site-packages\\sklearn\\base.py:464: UserWarning: X does not have valid feature names, but SVR was fitted with feature names\n",
            "  warnings.warn(\n",
            "c:\\Users\\JuanFernandez\\anaconda3\\envs\\energy_portfolio_management\\lib\\site-packages\\sklearn\\base.py:464: UserWarning: X does not have valid feature names, but StandardScaler was fitted with feature names\n",
            "  warnings.warn(\n",
            "c:\\Users\\JuanFernandez\\anaconda3\\envs\\energy_portfolio_management\\lib\\site-packages\\sklearn\\base.py:464: UserWarning: X does not have valid feature names, but SVR was fitted with feature names\n",
            "  warnings.warn(\n",
            "c:\\Users\\JuanFernandez\\anaconda3\\envs\\energy_portfolio_management\\lib\\site-packages\\sklearn\\base.py:464: UserWarning: X does not have valid feature names, but StandardScaler was fitted with feature names\n",
            "  warnings.warn(\n",
            "c:\\Users\\JuanFernandez\\anaconda3\\envs\\energy_portfolio_management\\lib\\site-packages\\sklearn\\base.py:464: UserWarning: X does not have valid feature names, but SVR was fitted with feature names\n",
            "  warnings.warn(\n",
            "c:\\Users\\JuanFernandez\\anaconda3\\envs\\energy_portfolio_management\\lib\\site-packages\\sklearn\\base.py:464: UserWarning: X does not have valid feature names, but StandardScaler was fitted with feature names\n",
            "  warnings.warn(\n",
            "c:\\Users\\JuanFernandez\\anaconda3\\envs\\energy_portfolio_management\\lib\\site-packages\\sklearn\\base.py:464: UserWarning: X does not have valid feature names, but SVR was fitted with feature names\n",
            "  warnings.warn(\n",
            "c:\\Users\\JuanFernandez\\anaconda3\\envs\\energy_portfolio_management\\lib\\site-packages\\sklearn\\base.py:464: UserWarning: X does not have valid feature names, but StandardScaler was fitted with feature names\n",
            "  warnings.warn(\n",
            "c:\\Users\\JuanFernandez\\anaconda3\\envs\\energy_portfolio_management\\lib\\site-packages\\sklearn\\base.py:464: UserWarning: X does not have valid feature names, but SVR was fitted with feature names\n",
            "  warnings.warn(\n",
            "c:\\Users\\JuanFernandez\\anaconda3\\envs\\energy_portfolio_management\\lib\\site-packages\\sklearn\\base.py:464: UserWarning: X does not have valid feature names, but StandardScaler was fitted with feature names\n",
            "  warnings.warn(\n",
            "c:\\Users\\JuanFernandez\\anaconda3\\envs\\energy_portfolio_management\\lib\\site-packages\\sklearn\\base.py:464: UserWarning: X does not have valid feature names, but SVR was fitted with feature names\n",
            "  warnings.warn(\n",
            "c:\\Users\\JuanFernandez\\anaconda3\\envs\\energy_portfolio_management\\lib\\site-packages\\sklearn\\base.py:464: UserWarning: X does not have valid feature names, but StandardScaler was fitted with feature names\n",
            "  warnings.warn(\n",
            "c:\\Users\\JuanFernandez\\anaconda3\\envs\\energy_portfolio_management\\lib\\site-packages\\sklearn\\base.py:464: UserWarning: X does not have valid feature names, but SVR was fitted with feature names\n",
            "  warnings.warn(\n",
            "c:\\Users\\JuanFernandez\\anaconda3\\envs\\energy_portfolio_management\\lib\\site-packages\\sklearn\\base.py:464: UserWarning: X does not have valid feature names, but StandardScaler was fitted with feature names\n",
            "  warnings.warn(\n",
            "c:\\Users\\JuanFernandez\\anaconda3\\envs\\energy_portfolio_management\\lib\\site-packages\\sklearn\\base.py:464: UserWarning: X does not have valid feature names, but SVR was fitted with feature names\n",
            "  warnings.warn(\n",
            "c:\\Users\\JuanFernandez\\anaconda3\\envs\\energy_portfolio_management\\lib\\site-packages\\sklearn\\base.py:464: UserWarning: X does not have valid feature names, but StandardScaler was fitted with feature names\n",
            "  warnings.warn(\n",
            "c:\\Users\\JuanFernandez\\anaconda3\\envs\\energy_portfolio_management\\lib\\site-packages\\sklearn\\base.py:464: UserWarning: X does not have valid feature names, but SVR was fitted with feature names\n",
            "  warnings.warn(\n",
            "c:\\Users\\JuanFernandez\\anaconda3\\envs\\energy_portfolio_management\\lib\\site-packages\\sklearn\\base.py:464: UserWarning: X does not have valid feature names, but StandardScaler was fitted with feature names\n",
            "  warnings.warn(\n",
            "c:\\Users\\JuanFernandez\\anaconda3\\envs\\energy_portfolio_management\\lib\\site-packages\\sklearn\\base.py:464: UserWarning: X does not have valid feature names, but SVR was fitted with feature names\n",
            "  warnings.warn(\n",
            "c:\\Users\\JuanFernandez\\anaconda3\\envs\\energy_portfolio_management\\lib\\site-packages\\sklearn\\base.py:464: UserWarning: X does not have valid feature names, but StandardScaler was fitted with feature names\n",
            "  warnings.warn(\n",
            "c:\\Users\\JuanFernandez\\anaconda3\\envs\\energy_portfolio_management\\lib\\site-packages\\sklearn\\base.py:464: UserWarning: X does not have valid feature names, but SVR was fitted with feature names\n",
            "  warnings.warn(\n",
            "c:\\Users\\JuanFernandez\\anaconda3\\envs\\energy_portfolio_management\\lib\\site-packages\\sklearn\\base.py:464: UserWarning: X does not have valid feature names, but StandardScaler was fitted with feature names\n",
            "  warnings.warn(\n",
            "c:\\Users\\JuanFernandez\\anaconda3\\envs\\energy_portfolio_management\\lib\\site-packages\\sklearn\\base.py:464: UserWarning: X does not have valid feature names, but SVR was fitted with feature names\n",
            "  warnings.warn(\n",
            "c:\\Users\\JuanFernandez\\anaconda3\\envs\\energy_portfolio_management\\lib\\site-packages\\sklearn\\base.py:464: UserWarning: X does not have valid feature names, but StandardScaler was fitted with feature names\n",
            "  warnings.warn(\n",
            "c:\\Users\\JuanFernandez\\anaconda3\\envs\\energy_portfolio_management\\lib\\site-packages\\sklearn\\base.py:464: UserWarning: X does not have valid feature names, but SVR was fitted with feature names\n",
            "  warnings.warn(\n",
            "c:\\Users\\JuanFernandez\\anaconda3\\envs\\energy_portfolio_management\\lib\\site-packages\\sklearn\\base.py:464: UserWarning: X does not have valid feature names, but StandardScaler was fitted with feature names\n",
            "  warnings.warn(\n",
            "c:\\Users\\JuanFernandez\\anaconda3\\envs\\energy_portfolio_management\\lib\\site-packages\\sklearn\\base.py:464: UserWarning: X does not have valid feature names, but SVR was fitted with feature names\n",
            "  warnings.warn(\n",
            "c:\\Users\\JuanFernandez\\anaconda3\\envs\\energy_portfolio_management\\lib\\site-packages\\sklearn\\base.py:464: UserWarning: X does not have valid feature names, but StandardScaler was fitted with feature names\n",
            "  warnings.warn(\n",
            "c:\\Users\\JuanFernandez\\anaconda3\\envs\\energy_portfolio_management\\lib\\site-packages\\sklearn\\base.py:464: UserWarning: X does not have valid feature names, but SVR was fitted with feature names\n",
            "  warnings.warn(\n",
            "c:\\Users\\JuanFernandez\\anaconda3\\envs\\energy_portfolio_management\\lib\\site-packages\\sklearn\\base.py:464: UserWarning: X does not have valid feature names, but StandardScaler was fitted with feature names\n",
            "  warnings.warn(\n",
            "c:\\Users\\JuanFernandez\\anaconda3\\envs\\energy_portfolio_management\\lib\\site-packages\\sklearn\\base.py:464: UserWarning: X does not have valid feature names, but SVR was fitted with feature names\n",
            "  warnings.warn(\n",
            "c:\\Users\\JuanFernandez\\anaconda3\\envs\\energy_portfolio_management\\lib\\site-packages\\sklearn\\base.py:464: UserWarning: X does not have valid feature names, but StandardScaler was fitted with feature names\n",
            "  warnings.warn(\n",
            "c:\\Users\\JuanFernandez\\anaconda3\\envs\\energy_portfolio_management\\lib\\site-packages\\sklearn\\base.py:464: UserWarning: X does not have valid feature names, but SVR was fitted with feature names\n",
            "  warnings.warn(\n",
            "c:\\Users\\JuanFernandez\\anaconda3\\envs\\energy_portfolio_management\\lib\\site-packages\\sklearn\\base.py:464: UserWarning: X does not have valid feature names, but StandardScaler was fitted with feature names\n",
            "  warnings.warn(\n",
            "c:\\Users\\JuanFernandez\\anaconda3\\envs\\energy_portfolio_management\\lib\\site-packages\\sklearn\\base.py:464: UserWarning: X does not have valid feature names, but SVR was fitted with feature names\n",
            "  warnings.warn(\n",
            "c:\\Users\\JuanFernandez\\anaconda3\\envs\\energy_portfolio_management\\lib\\site-packages\\sklearn\\base.py:464: UserWarning: X does not have valid feature names, but StandardScaler was fitted with feature names\n",
            "  warnings.warn(\n",
            "c:\\Users\\JuanFernandez\\anaconda3\\envs\\energy_portfolio_management\\lib\\site-packages\\sklearn\\base.py:464: UserWarning: X does not have valid feature names, but SVR was fitted with feature names\n",
            "  warnings.warn(\n",
            "c:\\Users\\JuanFernandez\\anaconda3\\envs\\energy_portfolio_management\\lib\\site-packages\\sklearn\\base.py:464: UserWarning: X does not have valid feature names, but StandardScaler was fitted with feature names\n",
            "  warnings.warn(\n",
            "c:\\Users\\JuanFernandez\\anaconda3\\envs\\energy_portfolio_management\\lib\\site-packages\\sklearn\\base.py:464: UserWarning: X does not have valid feature names, but SVR was fitted with feature names\n",
            "  warnings.warn(\n",
            "c:\\Users\\JuanFernandez\\anaconda3\\envs\\energy_portfolio_management\\lib\\site-packages\\sklearn\\base.py:464: UserWarning: X does not have valid feature names, but StandardScaler was fitted with feature names\n",
            "  warnings.warn(\n",
            "c:\\Users\\JuanFernandez\\anaconda3\\envs\\energy_portfolio_management\\lib\\site-packages\\sklearn\\base.py:464: UserWarning: X does not have valid feature names, but SVR was fitted with feature names\n",
            "  warnings.warn(\n",
            "c:\\Users\\JuanFernandez\\anaconda3\\envs\\energy_portfolio_management\\lib\\site-packages\\sklearn\\base.py:464: UserWarning: X does not have valid feature names, but StandardScaler was fitted with feature names\n",
            "  warnings.warn(\n",
            "c:\\Users\\JuanFernandez\\anaconda3\\envs\\energy_portfolio_management\\lib\\site-packages\\sklearn\\base.py:464: UserWarning: X does not have valid feature names, but SVR was fitted with feature names\n",
            "  warnings.warn(\n",
            "c:\\Users\\JuanFernandez\\anaconda3\\envs\\energy_portfolio_management\\lib\\site-packages\\sklearn\\base.py:464: UserWarning: X does not have valid feature names, but StandardScaler was fitted with feature names\n",
            "  warnings.warn(\n",
            "c:\\Users\\JuanFernandez\\anaconda3\\envs\\energy_portfolio_management\\lib\\site-packages\\sklearn\\base.py:464: UserWarning: X does not have valid feature names, but SVR was fitted with feature names\n",
            "  warnings.warn(\n",
            "c:\\Users\\JuanFernandez\\anaconda3\\envs\\energy_portfolio_management\\lib\\site-packages\\sklearn\\base.py:464: UserWarning: X does not have valid feature names, but StandardScaler was fitted with feature names\n",
            "  warnings.warn(\n",
            "c:\\Users\\JuanFernandez\\anaconda3\\envs\\energy_portfolio_management\\lib\\site-packages\\sklearn\\base.py:464: UserWarning: X does not have valid feature names, but SVR was fitted with feature names\n",
            "  warnings.warn(\n",
            "c:\\Users\\JuanFernandez\\anaconda3\\envs\\energy_portfolio_management\\lib\\site-packages\\sklearn\\base.py:464: UserWarning: X does not have valid feature names, but StandardScaler was fitted with feature names\n",
            "  warnings.warn(\n",
            "c:\\Users\\JuanFernandez\\anaconda3\\envs\\energy_portfolio_management\\lib\\site-packages\\sklearn\\base.py:464: UserWarning: X does not have valid feature names, but SVR was fitted with feature names\n",
            "  warnings.warn(\n",
            "c:\\Users\\JuanFernandez\\anaconda3\\envs\\energy_portfolio_management\\lib\\site-packages\\sklearn\\base.py:464: UserWarning: X does not have valid feature names, but StandardScaler was fitted with feature names\n",
            "  warnings.warn(\n",
            "c:\\Users\\JuanFernandez\\anaconda3\\envs\\energy_portfolio_management\\lib\\site-packages\\sklearn\\base.py:464: UserWarning: X does not have valid feature names, but SVR was fitted with feature names\n",
            "  warnings.warn(\n",
            "c:\\Users\\JuanFernandez\\anaconda3\\envs\\energy_portfolio_management\\lib\\site-packages\\sklearn\\base.py:464: UserWarning: X does not have valid feature names, but StandardScaler was fitted with feature names\n",
            "  warnings.warn(\n",
            "c:\\Users\\JuanFernandez\\anaconda3\\envs\\energy_portfolio_management\\lib\\site-packages\\sklearn\\base.py:464: UserWarning: X does not have valid feature names, but SVR was fitted with feature names\n",
            "  warnings.warn(\n",
            "c:\\Users\\JuanFernandez\\anaconda3\\envs\\energy_portfolio_management\\lib\\site-packages\\sklearn\\base.py:464: UserWarning: X does not have valid feature names, but StandardScaler was fitted with feature names\n",
            "  warnings.warn(\n",
            "c:\\Users\\JuanFernandez\\anaconda3\\envs\\energy_portfolio_management\\lib\\site-packages\\sklearn\\base.py:464: UserWarning: X does not have valid feature names, but SVR was fitted with feature names\n",
            "  warnings.warn(\n",
            "c:\\Users\\JuanFernandez\\anaconda3\\envs\\energy_portfolio_management\\lib\\site-packages\\sklearn\\base.py:464: UserWarning: X does not have valid feature names, but StandardScaler was fitted with feature names\n",
            "  warnings.warn(\n",
            "c:\\Users\\JuanFernandez\\anaconda3\\envs\\energy_portfolio_management\\lib\\site-packages\\sklearn\\base.py:464: UserWarning: X does not have valid feature names, but SVR was fitted with feature names\n",
            "  warnings.warn(\n",
            "c:\\Users\\JuanFernandez\\anaconda3\\envs\\energy_portfolio_management\\lib\\site-packages\\sklearn\\base.py:464: UserWarning: X does not have valid feature names, but StandardScaler was fitted with feature names\n",
            "  warnings.warn(\n",
            "c:\\Users\\JuanFernandez\\anaconda3\\envs\\energy_portfolio_management\\lib\\site-packages\\sklearn\\base.py:464: UserWarning: X does not have valid feature names, but SVR was fitted with feature names\n",
            "  warnings.warn(\n",
            "c:\\Users\\JuanFernandez\\anaconda3\\envs\\energy_portfolio_management\\lib\\site-packages\\sklearn\\base.py:464: UserWarning: X does not have valid feature names, but StandardScaler was fitted with feature names\n",
            "  warnings.warn(\n",
            "c:\\Users\\JuanFernandez\\anaconda3\\envs\\energy_portfolio_management\\lib\\site-packages\\sklearn\\base.py:464: UserWarning: X does not have valid feature names, but SVR was fitted with feature names\n",
            "  warnings.warn(\n",
            "c:\\Users\\JuanFernandez\\anaconda3\\envs\\energy_portfolio_management\\lib\\site-packages\\sklearn\\base.py:464: UserWarning: X does not have valid feature names, but StandardScaler was fitted with feature names\n",
            "  warnings.warn(\n",
            "c:\\Users\\JuanFernandez\\anaconda3\\envs\\energy_portfolio_management\\lib\\site-packages\\sklearn\\base.py:464: UserWarning: X does not have valid feature names, but SVR was fitted with feature names\n",
            "  warnings.warn(\n",
            "c:\\Users\\JuanFernandez\\anaconda3\\envs\\energy_portfolio_management\\lib\\site-packages\\sklearn\\base.py:464: UserWarning: X does not have valid feature names, but StandardScaler was fitted with feature names\n",
            "  warnings.warn(\n",
            "c:\\Users\\JuanFernandez\\anaconda3\\envs\\energy_portfolio_management\\lib\\site-packages\\sklearn\\base.py:464: UserWarning: X does not have valid feature names, but SVR was fitted with feature names\n",
            "  warnings.warn(\n",
            "c:\\Users\\JuanFernandez\\anaconda3\\envs\\energy_portfolio_management\\lib\\site-packages\\sklearn\\base.py:464: UserWarning: X does not have valid feature names, but StandardScaler was fitted with feature names\n",
            "  warnings.warn(\n",
            "c:\\Users\\JuanFernandez\\anaconda3\\envs\\energy_portfolio_management\\lib\\site-packages\\sklearn\\base.py:464: UserWarning: X does not have valid feature names, but SVR was fitted with feature names\n",
            "  warnings.warn(\n",
            "c:\\Users\\JuanFernandez\\anaconda3\\envs\\energy_portfolio_management\\lib\\site-packages\\sklearn\\base.py:464: UserWarning: X does not have valid feature names, but StandardScaler was fitted with feature names\n",
            "  warnings.warn(\n",
            "c:\\Users\\JuanFernandez\\anaconda3\\envs\\energy_portfolio_management\\lib\\site-packages\\sklearn\\base.py:464: UserWarning: X does not have valid feature names, but SVR was fitted with feature names\n",
            "  warnings.warn(\n",
            "c:\\Users\\JuanFernandez\\anaconda3\\envs\\energy_portfolio_management\\lib\\site-packages\\sklearn\\base.py:464: UserWarning: X does not have valid feature names, but StandardScaler was fitted with feature names\n",
            "  warnings.warn(\n",
            "c:\\Users\\JuanFernandez\\anaconda3\\envs\\energy_portfolio_management\\lib\\site-packages\\sklearn\\base.py:464: UserWarning: X does not have valid feature names, but SVR was fitted with feature names\n",
            "  warnings.warn(\n",
            "c:\\Users\\JuanFernandez\\anaconda3\\envs\\energy_portfolio_management\\lib\\site-packages\\sklearn\\base.py:464: UserWarning: X does not have valid feature names, but StandardScaler was fitted with feature names\n",
            "  warnings.warn(\n",
            "c:\\Users\\JuanFernandez\\anaconda3\\envs\\energy_portfolio_management\\lib\\site-packages\\sklearn\\base.py:464: UserWarning: X does not have valid feature names, but SVR was fitted with feature names\n",
            "  warnings.warn(\n",
            "c:\\Users\\JuanFernandez\\anaconda3\\envs\\energy_portfolio_management\\lib\\site-packages\\sklearn\\base.py:464: UserWarning: X does not have valid feature names, but StandardScaler was fitted with feature names\n",
            "  warnings.warn(\n",
            "c:\\Users\\JuanFernandez\\anaconda3\\envs\\energy_portfolio_management\\lib\\site-packages\\sklearn\\base.py:464: UserWarning: X does not have valid feature names, but SVR was fitted with feature names\n",
            "  warnings.warn(\n",
            "c:\\Users\\JuanFernandez\\anaconda3\\envs\\energy_portfolio_management\\lib\\site-packages\\sklearn\\base.py:464: UserWarning: X does not have valid feature names, but StandardScaler was fitted with feature names\n",
            "  warnings.warn(\n",
            "c:\\Users\\JuanFernandez\\anaconda3\\envs\\energy_portfolio_management\\lib\\site-packages\\sklearn\\base.py:464: UserWarning: X does not have valid feature names, but SVR was fitted with feature names\n",
            "  warnings.warn(\n",
            "c:\\Users\\JuanFernandez\\anaconda3\\envs\\energy_portfolio_management\\lib\\site-packages\\sklearn\\base.py:464: UserWarning: X does not have valid feature names, but StandardScaler was fitted with feature names\n",
            "  warnings.warn(\n",
            "c:\\Users\\JuanFernandez\\anaconda3\\envs\\energy_portfolio_management\\lib\\site-packages\\sklearn\\base.py:464: UserWarning: X does not have valid feature names, but SVR was fitted with feature names\n",
            "  warnings.warn(\n",
            "c:\\Users\\JuanFernandez\\anaconda3\\envs\\energy_portfolio_management\\lib\\site-packages\\sklearn\\base.py:464: UserWarning: X does not have valid feature names, but StandardScaler was fitted with feature names\n",
            "  warnings.warn(\n",
            "c:\\Users\\JuanFernandez\\anaconda3\\envs\\energy_portfolio_management\\lib\\site-packages\\sklearn\\base.py:464: UserWarning: X does not have valid feature names, but SVR was fitted with feature names\n",
            "  warnings.warn(\n",
            "c:\\Users\\JuanFernandez\\anaconda3\\envs\\energy_portfolio_management\\lib\\site-packages\\sklearn\\base.py:464: UserWarning: X does not have valid feature names, but StandardScaler was fitted with feature names\n",
            "  warnings.warn(\n",
            "c:\\Users\\JuanFernandez\\anaconda3\\envs\\energy_portfolio_management\\lib\\site-packages\\sklearn\\base.py:464: UserWarning: X does not have valid feature names, but SVR was fitted with feature names\n",
            "  warnings.warn(\n",
            "c:\\Users\\JuanFernandez\\anaconda3\\envs\\energy_portfolio_management\\lib\\site-packages\\sklearn\\base.py:464: UserWarning: X does not have valid feature names, but StandardScaler was fitted with feature names\n",
            "  warnings.warn(\n",
            "c:\\Users\\JuanFernandez\\anaconda3\\envs\\energy_portfolio_management\\lib\\site-packages\\sklearn\\base.py:464: UserWarning: X does not have valid feature names, but SVR was fitted with feature names\n",
            "  warnings.warn(\n",
            "c:\\Users\\JuanFernandez\\anaconda3\\envs\\energy_portfolio_management\\lib\\site-packages\\sklearn\\base.py:464: UserWarning: X does not have valid feature names, but StandardScaler was fitted with feature names\n",
            "  warnings.warn(\n",
            "c:\\Users\\JuanFernandez\\anaconda3\\envs\\energy_portfolio_management\\lib\\site-packages\\sklearn\\base.py:464: UserWarning: X does not have valid feature names, but SVR was fitted with feature names\n",
            "  warnings.warn(\n",
            "c:\\Users\\JuanFernandez\\anaconda3\\envs\\energy_portfolio_management\\lib\\site-packages\\sklearn\\base.py:464: UserWarning: X does not have valid feature names, but StandardScaler was fitted with feature names\n",
            "  warnings.warn(\n",
            "c:\\Users\\JuanFernandez\\anaconda3\\envs\\energy_portfolio_management\\lib\\site-packages\\sklearn\\base.py:464: UserWarning: X does not have valid feature names, but SVR was fitted with feature names\n",
            "  warnings.warn(\n",
            "c:\\Users\\JuanFernandez\\anaconda3\\envs\\energy_portfolio_management\\lib\\site-packages\\sklearn\\base.py:464: UserWarning: X does not have valid feature names, but StandardScaler was fitted with feature names\n",
            "  warnings.warn(\n",
            "c:\\Users\\JuanFernandez\\anaconda3\\envs\\energy_portfolio_management\\lib\\site-packages\\sklearn\\base.py:464: UserWarning: X does not have valid feature names, but SVR was fitted with feature names\n",
            "  warnings.warn(\n",
            "c:\\Users\\JuanFernandez\\anaconda3\\envs\\energy_portfolio_management\\lib\\site-packages\\sklearn\\base.py:464: UserWarning: X does not have valid feature names, but StandardScaler was fitted with feature names\n",
            "  warnings.warn(\n",
            "c:\\Users\\JuanFernandez\\anaconda3\\envs\\energy_portfolio_management\\lib\\site-packages\\sklearn\\base.py:464: UserWarning: X does not have valid feature names, but SVR was fitted with feature names\n",
            "  warnings.warn(\n",
            "c:\\Users\\JuanFernandez\\anaconda3\\envs\\energy_portfolio_management\\lib\\site-packages\\sklearn\\base.py:464: UserWarning: X does not have valid feature names, but StandardScaler was fitted with feature names\n",
            "  warnings.warn(\n",
            "c:\\Users\\JuanFernandez\\anaconda3\\envs\\energy_portfolio_management\\lib\\site-packages\\sklearn\\base.py:464: UserWarning: X does not have valid feature names, but SVR was fitted with feature names\n",
            "  warnings.warn(\n",
            "c:\\Users\\JuanFernandez\\anaconda3\\envs\\energy_portfolio_management\\lib\\site-packages\\sklearn\\base.py:464: UserWarning: X does not have valid feature names, but StandardScaler was fitted with feature names\n",
            "  warnings.warn(\n",
            "c:\\Users\\JuanFernandez\\anaconda3\\envs\\energy_portfolio_management\\lib\\site-packages\\sklearn\\base.py:464: UserWarning: X does not have valid feature names, but SVR was fitted with feature names\n",
            "  warnings.warn(\n",
            "c:\\Users\\JuanFernandez\\anaconda3\\envs\\energy_portfolio_management\\lib\\site-packages\\sklearn\\base.py:464: UserWarning: X does not have valid feature names, but StandardScaler was fitted with feature names\n",
            "  warnings.warn(\n",
            "c:\\Users\\JuanFernandez\\anaconda3\\envs\\energy_portfolio_management\\lib\\site-packages\\sklearn\\base.py:464: UserWarning: X does not have valid feature names, but SVR was fitted with feature names\n",
            "  warnings.warn(\n",
            "c:\\Users\\JuanFernandez\\anaconda3\\envs\\energy_portfolio_management\\lib\\site-packages\\sklearn\\base.py:464: UserWarning: X does not have valid feature names, but StandardScaler was fitted with feature names\n",
            "  warnings.warn(\n",
            "c:\\Users\\JuanFernandez\\anaconda3\\envs\\energy_portfolio_management\\lib\\site-packages\\sklearn\\base.py:464: UserWarning: X does not have valid feature names, but SVR was fitted with feature names\n",
            "  warnings.warn(\n",
            "c:\\Users\\JuanFernandez\\anaconda3\\envs\\energy_portfolio_management\\lib\\site-packages\\sklearn\\base.py:464: UserWarning: X does not have valid feature names, but StandardScaler was fitted with feature names\n",
            "  warnings.warn(\n",
            "c:\\Users\\JuanFernandez\\anaconda3\\envs\\energy_portfolio_management\\lib\\site-packages\\sklearn\\base.py:464: UserWarning: X does not have valid feature names, but SVR was fitted with feature names\n",
            "  warnings.warn(\n",
            "c:\\Users\\JuanFernandez\\anaconda3\\envs\\energy_portfolio_management\\lib\\site-packages\\sklearn\\base.py:464: UserWarning: X does not have valid feature names, but StandardScaler was fitted with feature names\n",
            "  warnings.warn(\n",
            "c:\\Users\\JuanFernandez\\anaconda3\\envs\\energy_portfolio_management\\lib\\site-packages\\sklearn\\base.py:464: UserWarning: X does not have valid feature names, but SVR was fitted with feature names\n",
            "  warnings.warn(\n",
            "c:\\Users\\JuanFernandez\\anaconda3\\envs\\energy_portfolio_management\\lib\\site-packages\\sklearn\\base.py:464: UserWarning: X does not have valid feature names, but StandardScaler was fitted with feature names\n",
            "  warnings.warn(\n",
            "c:\\Users\\JuanFernandez\\anaconda3\\envs\\energy_portfolio_management\\lib\\site-packages\\sklearn\\base.py:464: UserWarning: X does not have valid feature names, but SVR was fitted with feature names\n",
            "  warnings.warn(\n",
            "c:\\Users\\JuanFernandez\\anaconda3\\envs\\energy_portfolio_management\\lib\\site-packages\\sklearn\\base.py:464: UserWarning: X does not have valid feature names, but StandardScaler was fitted with feature names\n",
            "  warnings.warn(\n",
            "c:\\Users\\JuanFernandez\\anaconda3\\envs\\energy_portfolio_management\\lib\\site-packages\\sklearn\\base.py:464: UserWarning: X does not have valid feature names, but SVR was fitted with feature names\n",
            "  warnings.warn(\n",
            "c:\\Users\\JuanFernandez\\anaconda3\\envs\\energy_portfolio_management\\lib\\site-packages\\sklearn\\base.py:464: UserWarning: X does not have valid feature names, but StandardScaler was fitted with feature names\n",
            "  warnings.warn(\n",
            "c:\\Users\\JuanFernandez\\anaconda3\\envs\\energy_portfolio_management\\lib\\site-packages\\sklearn\\base.py:464: UserWarning: X does not have valid feature names, but SVR was fitted with feature names\n",
            "  warnings.warn(\n",
            "c:\\Users\\JuanFernandez\\anaconda3\\envs\\energy_portfolio_management\\lib\\site-packages\\sklearn\\base.py:464: UserWarning: X does not have valid feature names, but StandardScaler was fitted with feature names\n",
            "  warnings.warn(\n",
            "c:\\Users\\JuanFernandez\\anaconda3\\envs\\energy_portfolio_management\\lib\\site-packages\\sklearn\\base.py:464: UserWarning: X does not have valid feature names, but SVR was fitted with feature names\n",
            "  warnings.warn(\n",
            "c:\\Users\\JuanFernandez\\anaconda3\\envs\\energy_portfolio_management\\lib\\site-packages\\sklearn\\base.py:464: UserWarning: X does not have valid feature names, but StandardScaler was fitted with feature names\n",
            "  warnings.warn(\n",
            "c:\\Users\\JuanFernandez\\anaconda3\\envs\\energy_portfolio_management\\lib\\site-packages\\sklearn\\base.py:464: UserWarning: X does not have valid feature names, but SVR was fitted with feature names\n",
            "  warnings.warn(\n",
            "c:\\Users\\JuanFernandez\\anaconda3\\envs\\energy_portfolio_management\\lib\\site-packages\\sklearn\\base.py:464: UserWarning: X does not have valid feature names, but StandardScaler was fitted with feature names\n",
            "  warnings.warn(\n",
            "c:\\Users\\JuanFernandez\\anaconda3\\envs\\energy_portfolio_management\\lib\\site-packages\\sklearn\\base.py:464: UserWarning: X does not have valid feature names, but SVR was fitted with feature names\n",
            "  warnings.warn(\n",
            "c:\\Users\\JuanFernandez\\anaconda3\\envs\\energy_portfolio_management\\lib\\site-packages\\sklearn\\base.py:464: UserWarning: X does not have valid feature names, but StandardScaler was fitted with feature names\n",
            "  warnings.warn(\n",
            "c:\\Users\\JuanFernandez\\anaconda3\\envs\\energy_portfolio_management\\lib\\site-packages\\sklearn\\base.py:464: UserWarning: X does not have valid feature names, but SVR was fitted with feature names\n",
            "  warnings.warn(\n",
            "c:\\Users\\JuanFernandez\\anaconda3\\envs\\energy_portfolio_management\\lib\\site-packages\\sklearn\\base.py:464: UserWarning: X does not have valid feature names, but StandardScaler was fitted with feature names\n",
            "  warnings.warn(\n",
            "c:\\Users\\JuanFernandez\\anaconda3\\envs\\energy_portfolio_management\\lib\\site-packages\\sklearn\\base.py:464: UserWarning: X does not have valid feature names, but SVR was fitted with feature names\n",
            "  warnings.warn(\n",
            "c:\\Users\\JuanFernandez\\anaconda3\\envs\\energy_portfolio_management\\lib\\site-packages\\sklearn\\base.py:464: UserWarning: X does not have valid feature names, but StandardScaler was fitted with feature names\n",
            "  warnings.warn(\n",
            "c:\\Users\\JuanFernandez\\anaconda3\\envs\\energy_portfolio_management\\lib\\site-packages\\sklearn\\base.py:464: UserWarning: X does not have valid feature names, but SVR was fitted with feature names\n",
            "  warnings.warn(\n",
            "c:\\Users\\JuanFernandez\\anaconda3\\envs\\energy_portfolio_management\\lib\\site-packages\\sklearn\\base.py:464: UserWarning: X does not have valid feature names, but StandardScaler was fitted with feature names\n",
            "  warnings.warn(\n",
            "c:\\Users\\JuanFernandez\\anaconda3\\envs\\energy_portfolio_management\\lib\\site-packages\\sklearn\\base.py:464: UserWarning: X does not have valid feature names, but SVR was fitted with feature names\n",
            "  warnings.warn(\n",
            "c:\\Users\\JuanFernandez\\anaconda3\\envs\\energy_portfolio_management\\lib\\site-packages\\sklearn\\base.py:464: UserWarning: X does not have valid feature names, but StandardScaler was fitted with feature names\n",
            "  warnings.warn(\n",
            "c:\\Users\\JuanFernandez\\anaconda3\\envs\\energy_portfolio_management\\lib\\site-packages\\sklearn\\base.py:464: UserWarning: X does not have valid feature names, but SVR was fitted with feature names\n",
            "  warnings.warn(\n",
            "c:\\Users\\JuanFernandez\\anaconda3\\envs\\energy_portfolio_management\\lib\\site-packages\\sklearn\\base.py:464: UserWarning: X does not have valid feature names, but StandardScaler was fitted with feature names\n",
            "  warnings.warn(\n",
            "c:\\Users\\JuanFernandez\\anaconda3\\envs\\energy_portfolio_management\\lib\\site-packages\\sklearn\\base.py:464: UserWarning: X does not have valid feature names, but SVR was fitted with feature names\n",
            "  warnings.warn(\n",
            "c:\\Users\\JuanFernandez\\anaconda3\\envs\\energy_portfolio_management\\lib\\site-packages\\sklearn\\base.py:464: UserWarning: X does not have valid feature names, but StandardScaler was fitted with feature names\n",
            "  warnings.warn(\n",
            "c:\\Users\\JuanFernandez\\anaconda3\\envs\\energy_portfolio_management\\lib\\site-packages\\sklearn\\base.py:464: UserWarning: X does not have valid feature names, but SVR was fitted with feature names\n",
            "  warnings.warn(\n",
            "c:\\Users\\JuanFernandez\\anaconda3\\envs\\energy_portfolio_management\\lib\\site-packages\\sklearn\\base.py:464: UserWarning: X does not have valid feature names, but StandardScaler was fitted with feature names\n",
            "  warnings.warn(\n",
            "c:\\Users\\JuanFernandez\\anaconda3\\envs\\energy_portfolio_management\\lib\\site-packages\\sklearn\\base.py:464: UserWarning: X does not have valid feature names, but SVR was fitted with feature names\n",
            "  warnings.warn(\n",
            "c:\\Users\\JuanFernandez\\anaconda3\\envs\\energy_portfolio_management\\lib\\site-packages\\sklearn\\base.py:464: UserWarning: X does not have valid feature names, but StandardScaler was fitted with feature names\n",
            "  warnings.warn(\n",
            "c:\\Users\\JuanFernandez\\anaconda3\\envs\\energy_portfolio_management\\lib\\site-packages\\sklearn\\base.py:464: UserWarning: X does not have valid feature names, but SVR was fitted with feature names\n",
            "  warnings.warn(\n",
            "c:\\Users\\JuanFernandez\\anaconda3\\envs\\energy_portfolio_management\\lib\\site-packages\\sklearn\\base.py:464: UserWarning: X does not have valid feature names, but StandardScaler was fitted with feature names\n",
            "  warnings.warn(\n",
            "c:\\Users\\JuanFernandez\\anaconda3\\envs\\energy_portfolio_management\\lib\\site-packages\\sklearn\\base.py:464: UserWarning: X does not have valid feature names, but SVR was fitted with feature names\n",
            "  warnings.warn(\n",
            "c:\\Users\\JuanFernandez\\anaconda3\\envs\\energy_portfolio_management\\lib\\site-packages\\sklearn\\base.py:464: UserWarning: X does not have valid feature names, but StandardScaler was fitted with feature names\n",
            "  warnings.warn(\n",
            "c:\\Users\\JuanFernandez\\anaconda3\\envs\\energy_portfolio_management\\lib\\site-packages\\sklearn\\base.py:464: UserWarning: X does not have valid feature names, but SVR was fitted with feature names\n",
            "  warnings.warn(\n",
            "c:\\Users\\JuanFernandez\\anaconda3\\envs\\energy_portfolio_management\\lib\\site-packages\\sklearn\\base.py:464: UserWarning: X does not have valid feature names, but StandardScaler was fitted with feature names\n",
            "  warnings.warn(\n",
            "c:\\Users\\JuanFernandez\\anaconda3\\envs\\energy_portfolio_management\\lib\\site-packages\\sklearn\\base.py:464: UserWarning: X does not have valid feature names, but SVR was fitted with feature names\n",
            "  warnings.warn(\n",
            "c:\\Users\\JuanFernandez\\anaconda3\\envs\\energy_portfolio_management\\lib\\site-packages\\sklearn\\base.py:464: UserWarning: X does not have valid feature names, but StandardScaler was fitted with feature names\n",
            "  warnings.warn(\n",
            "c:\\Users\\JuanFernandez\\anaconda3\\envs\\energy_portfolio_management\\lib\\site-packages\\sklearn\\base.py:464: UserWarning: X does not have valid feature names, but SVR was fitted with feature names\n",
            "  warnings.warn(\n",
            "c:\\Users\\JuanFernandez\\anaconda3\\envs\\energy_portfolio_management\\lib\\site-packages\\sklearn\\base.py:464: UserWarning: X does not have valid feature names, but StandardScaler was fitted with feature names\n",
            "  warnings.warn(\n"
          ]
        }
      ],
      "source": [
        "#Going into loop: we will loop over the y_test indices and update X_test_last at each loop:\n",
        "case_indices = y_test.index\n",
        "#n_features:\n",
        "n_features = 4\n",
        "#For scaling the predictions:\n",
        "dummy_array = np.zeros((1,X_test_last.shape[1]))\n",
        "for case_index in case_indices:\n",
        "  #Predicting with fitted SVM and writing the result on y_predicted at the same time:\n",
        "  load_prediction = svr.predict(X_test_last).flatten()[0]\n",
        "  #print(load_prediction)\n",
        "  y_predicted.update(pd.Series(load_prediction,index=[case_index]))\n",
        "  #Preparing the next X_test_last:\n",
        "  #\n",
        "  # We need to scale the load first:\n",
        "  dummy_array[0,X_test_last.shape[1]-1] = load_prediction\n",
        "  load_scaled = sX.transform(dummy_array)[0,X_test_last.shape[1]-1]\n",
        "  #\n",
        "  #---updating load list---:\n",
        "  last_loads = np.delete(last_loads,0)\n",
        "  last_loads = np.append(last_loads,load_scaled)\n",
        "  #print(last_loads)\n",
        "  #\n",
        "  #---finding new values:\n",
        "  median_i = np.median(last_loads)\n",
        "  std_i = np.std(last_loads)\n",
        "  min_i = np.min(last_loads)\n",
        "  max_i = np.max(last_loads)\n",
        "  #here I assume that T data is available from weatherforecasting etc.\n",
        "  time_index = pd.Timestamp(case_index) + DateOffset(hours=1)\n",
        "  temp_i= temp_test.loc[time_index] #already scaled!\n",
        "  #\n",
        "  #updating X_last:\n",
        "  for i in range (X_test_last.shape[1]-n_features):\n",
        "    X_test_last[0][i] =X_test_last[0][i+n_features]\n",
        "\n",
        "  X_test_last[0][X_test_last.shape[1]-n_features+0] =median_i\n",
        "  X_test_last[0][X_test_last.shape[1]-n_features+1] =std_i\n",
        "#  X_test_last[0][X_test_last.shape[1]-n_features+2] =min_i\n",
        "#  X_test_last[0][X_test_last.shape[1]-n_features+3] =max_i\n",
        "  X_test_last[0][X_test_last.shape[1]-n_features+2] =temp_i\n",
        "  X_test_last[0][X_test_last.shape[1]-n_features+3] =load_scaled\n"
      ]
    },
    {
      "cell_type": "code",
      "execution_count": 252,
      "metadata": {
        "colab": {
          "base_uri": "https://localhost:8080/",
          "height": 427
        },
        "id": "y2czx1Q0KsCX",
        "outputId": "399d56ac-e2eb-4133-aa2b-11097a71df00"
      },
      "outputs": [
        {
          "data": {
            "text/plain": [
              "[<matplotlib.lines.Line2D at 0x271f7f35de0>]"
            ]
          },
          "execution_count": 252,
          "metadata": {},
          "output_type": "execute_result"
        },
        {
          "data": {
            "image/png": "[encoded data removed]",
            "text/plain": [
              "<Figure size 1800x600 with 1 Axes>"
            ]
          },
          "metadata": {},
          "output_type": "display_data"
        },
        {
          "name": "stdout",
          "output_type": "stream",
          "text": [
            "time: 94 ms (started: 2024-09-13 11:18:10 +02:00)\n"
          ]
        }
      ],
      "source": [
        "#Visualization of the accuracy:\n",
        "a = plt.axes(aspect='equal')\n",
        "plt.scatter(y_test, y_predicted)\n",
        "plt.xlabel('True Pressure Values')\n",
        "plt.ylabel('Predicted Pressures')\n",
        "lims = [2000, 4000]\n",
        "plt.xlim(lims), plt.ylim(lims)\n",
        "plt.plot(lims, lims)"
      ]
    },
    {
      "cell_type": "code",
      "execution_count": 253,
      "metadata": {
        "colab": {
          "base_uri": "https://localhost:8080/",
          "height": 423
        },
        "id": "Bhy3_OFTcx84",
        "outputId": "31687fbe-29de-4413-952b-f18b21b4ab63"
      },
      "outputs": [
        {
          "data": {
            "text/plain": [
              "Text(0, 0.5, 'Count')"
            ]
          },
          "execution_count": 253,
          "metadata": {},
          "output_type": "execute_result"
        },
        {
          "data": {
            "image/png": "[encoded data removed]",
            "text/plain": [
              "<Figure size 1800x600 with 1 Axes>"
            ]
          },
          "metadata": {},
          "output_type": "display_data"
        },
        {
          "name": "stdout",
          "output_type": "stream",
          "text": [
            "time: 125 ms (started: 2024-09-13 11:18:12 +02:00)\n"
          ]
        }
      ],
      "source": [
        "# Calculating the error variations:\n",
        "error_nn = (y_predicted - y_test)/y_test*100\n",
        "plt.hist(error_nn, bins=20)\n",
        "plt.xlabel('Predicted Relative % Error')\n",
        "plt.ylabel('Count')"
      ]
    },
    {
      "cell_type": "code",
      "execution_count": 254,
      "metadata": {
        "colab": {
          "base_uri": "https://localhost:8080/"
        },
        "id": "_vc-t0oFcx84",
        "outputId": "be5c47df-484b-46e2-c74d-c34ab555014b"
      },
      "outputs": [
        {
          "data": {
            "text/plain": [
              "0.20082137383592272"
            ]
          },
          "execution_count": 254,
          "metadata": {},
          "output_type": "execute_result"
        },
        {
          "name": "stdout",
          "output_type": "stream",
          "text": [
            "time: 0 ns (started: 2024-09-13 11:18:15 +02:00)\n"
          ]
        }
      ],
      "source": [
        "#Calculating the mean absolutepercentage error:\n",
        "abs_error_nn = abs(y_predicted - y_test)/y_test*100\n",
        "np.average(error_nn)"
      ]
    },
    {
      "cell_type": "code",
      "execution_count": 255,
      "metadata": {
        "colab": {
          "base_uri": "https://localhost:8080/"
        },
        "id": "VdIzSpeLcx84",
        "outputId": "890eaaf4-d90e-4f41-978d-decdc75112f1"
      },
      "outputs": [
        {
          "name": "stdout",
          "output_type": "stream",
          "text": [
            "R^2 score is  0.89\n",
            "time: 0 ns (started: 2024-09-13 11:18:16 +02:00)\n"
          ]
        }
      ],
      "source": [
        "#Calculating R2 value:\n",
        "r2_test = r2_score(y_test, y_predicted)\n",
        "print('R^2 score is  %3.2f' %r2_test)"
      ]
    },
    {
      "cell_type": "code",
      "execution_count": 256,
      "metadata": {
        "colab": {
          "base_uri": "https://localhost:8080/",
          "height": 421
        },
        "id": "1rb9lQ8Qcx85",
        "outputId": "28741c31-bb9b-4535-91e1-5917a3c508df"
      },
      "outputs": [
        {
          "data": {
            "image/png": "[encoded data removed]",
            "text/plain": [
              "<Figure size 1800x600 with 1 Axes>"
            ]
          },
          "metadata": {},
          "output_type": "display_data"
        },
        {
          "name": "stdout",
          "output_type": "stream",
          "text": [
            "time: 156 ms (started: 2024-09-13 11:18:19 +02:00)\n"
          ]
        }
      ],
      "source": [
        "#Plotting the Figure: \n",
        "plt.figure();\n",
        "plt.plot(y_test, 'k.-');\n",
        "plt.plot(y_predicted, 'x', alpha=0.70);\n",
        "\n",
        "plt.legend(['Actual',\n",
        "            'Predicted 1 hr ahead'\n",
        "            ]);\n",
        "plt.ylabel('Load');\n",
        "plt.xlabel('Time Index');\n",
        "plt.title('SVM');\n",
        "mpl.rcParams['figure.figsize'] = [12.0, 6.0]"
      ]
    }
  ],
  "metadata": {
    "colab": {
      "provenance": [],
      "toc_visible": true
    },
    "kernelspec": {
      "display_name": "Python 3",
      "name": "python3"
    },
    "language_info": {
      "codemirror_mode": {
        "name": "ipython",
        "version": 3
      },
      "file_extension": ".py",
      "mimetype": "text/x-python",
      "name": "python",
      "nbconvert_exporter": "python",
      "pygments_lexer": "ipython3",
      "version": "3.10.13"
    }
  },
  "nbformat": 4,
  "nbformat_minor": 0
}
