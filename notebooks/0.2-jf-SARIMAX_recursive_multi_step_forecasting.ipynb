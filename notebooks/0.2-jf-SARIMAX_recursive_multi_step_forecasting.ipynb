{
  "cells": [
    {
      "cell_type": "markdown",
      "metadata": {
        "id": "cQxGOeC7ZmUj"
      },
      "source": [
        "Time Series Analysis for Dynamical Systems\n"
      ]
    },
    {
      "cell_type": "markdown",
      "metadata": {
        "id": "rA_3sqmEls1m"
      },
      "source": [
        "# 1. Problem Definition: Short Term Load Forecasting\n",
        "\n",
        "Load forecasting within the context of energy demand. It is an open-access data published as the appendix Hong et al. (2016). The data consists of three years of hourly electricity load and temperatures."
      ]
    },
    {
      "cell_type": "markdown",
      "metadata": {
        "id": "C9yyayGmmaKy"
      },
      "source": [
        "\n",
        "# 2. Preparing the environment\n",
        "\n",
        "Import the Python libraries that we will need to (i) load the data, (ii) analyze it, (iii) create our model, (iv) process the results."
      ]
    },
    {
      "cell_type": "code",
      "execution_count": 16,
      "metadata": {
        "colab": {
          "base_uri": "https://localhost:8080/"
        },
        "id": "yWFatBGPPinR",
        "outputId": "37f6e9d4-f871-47c4-e4c8-7c274f604e63"
      },
      "outputs": [
        {
          "name": "stdout",
          "output_type": "stream",
          "text": [
            "Requirement already satisfied: ipython-autotime in c:\\users\\juanfernandez\\anaconda3\\envs\\energy_portfolio_management\\lib\\site-packages (0.3.2)\n",
            "Requirement already satisfied: ipython in c:\\users\\juanfernandez\\anaconda3\\envs\\energy_portfolio_management\\lib\\site-packages (from ipython-autotime) (8.16.1)\n",
            "Requirement already satisfied: backcall in c:\\users\\juanfernandez\\anaconda3\\envs\\energy_portfolio_management\\lib\\site-packages (from ipython->ipython-autotime) (0.2.0)\n",
            "Requirement already satisfied: decorator in c:\\users\\juanfernandez\\anaconda3\\envs\\energy_portfolio_management\\lib\\site-packages (from ipython->ipython-autotime) (5.1.1)\n",
            "Requirement already satisfied: jedi>=0.16 in c:\\users\\juanfernandez\\anaconda3\\envs\\energy_portfolio_management\\lib\\site-packages (from ipython->ipython-autotime) (0.19.1)\n",
            "Requirement already satisfied: matplotlib-inline in c:\\users\\juanfernandez\\anaconda3\\envs\\energy_portfolio_management\\lib\\site-packages (from ipython->ipython-autotime) (0.1.6)\n",
            "Requirement already satisfied: pickleshare in c:\\users\\juanfernandez\\anaconda3\\envs\\energy_portfolio_management\\lib\\site-packages (from ipython->ipython-autotime) (0.7.5)\n",
            "Requirement already satisfied: prompt-toolkit!=3.0.37,<3.1.0,>=3.0.30 in c:\\users\\juanfernandez\\anaconda3\\envs\\energy_portfolio_management\\lib\\site-packages (from ipython->ipython-autotime) (3.0.39)\n",
            "Requirement already satisfied: pygments>=2.4.0 in c:\\users\\juanfernandez\\anaconda3\\envs\\energy_portfolio_management\\lib\\site-packages (from ipython->ipython-autotime) (2.16.1)\n",
            "Requirement already satisfied: stack-data in c:\\users\\juanfernandez\\anaconda3\\envs\\energy_portfolio_management\\lib\\site-packages (from ipython->ipython-autotime) (0.6.2)\n",
            "Requirement already satisfied: traitlets>=5 in c:\\users\\juanfernandez\\anaconda3\\envs\\energy_portfolio_management\\lib\\site-packages (from ipython->ipython-autotime) (5.12.0)\n",
            "Requirement already satisfied: exceptiongroup in c:\\users\\juanfernandez\\anaconda3\\envs\\energy_portfolio_management\\lib\\site-packages (from ipython->ipython-autotime) (1.1.3)\n",
            "Requirement already satisfied: colorama in c:\\users\\juanfernandez\\anaconda3\\envs\\energy_portfolio_management\\lib\\site-packages (from ipython->ipython-autotime) (0.4.6)\n",
            "Requirement already satisfied: parso<0.9.0,>=0.8.3 in c:\\users\\juanfernandez\\anaconda3\\envs\\energy_portfolio_management\\lib\\site-packages (from jedi>=0.16->ipython->ipython-autotime) (0.8.3)\n",
            "Requirement already satisfied: wcwidth in c:\\users\\juanfernandez\\anaconda3\\envs\\energy_portfolio_management\\lib\\site-packages (from prompt-toolkit!=3.0.37,<3.1.0,>=3.0.30->ipython->ipython-autotime) (0.2.8)\n",
            "Requirement already satisfied: executing>=1.2.0 in c:\\users\\juanfernandez\\anaconda3\\envs\\energy_portfolio_management\\lib\\site-packages (from stack-data->ipython->ipython-autotime) (1.2.0)\n",
            "Requirement already satisfied: asttokens>=2.1.0 in c:\\users\\juanfernandez\\anaconda3\\envs\\energy_portfolio_management\\lib\\site-packages (from stack-data->ipython->ipython-autotime) (2.4.0)\n",
            "Requirement already satisfied: pure-eval in c:\\users\\juanfernandez\\anaconda3\\envs\\energy_portfolio_management\\lib\\site-packages (from stack-data->ipython->ipython-autotime) (0.2.2)\n",
            "Requirement already satisfied: six>=1.12.0 in c:\\users\\juanfernandez\\anaconda3\\envs\\energy_portfolio_management\\lib\\site-packages (from asttokens>=2.1.0->stack-data->ipython->ipython-autotime) (1.16.0)\n",
            "The autotime extension is already loaded. To reload it, use:\n",
            "  %reload_ext autotime\n",
            "time: 1.47 s (started: 2024-09-13 13:00:24 +02:00)\n"
          ]
        },
        {
          "name": "stderr",
          "output_type": "stream",
          "text": [
            "\n",
            "[notice] A new release of pip is available: 24.1.1 -> 24.2\n",
            "[notice] To update, run: python.exe -m pip install --upgrade pip\n"
          ]
        }
      ],
      "source": [
        "!pip install ipython-autotime\n",
        "%load_ext autotime"
      ]
    },
    {
      "cell_type": "markdown",
      "metadata": {
        "id": "OYJUVWg9-HxL"
      },
      "source": [
        "## Libraries"
      ]
    },
    {
      "cell_type": "code",
      "execution_count": 17,
      "metadata": {
        "colab": {
          "base_uri": "https://localhost:8080/"
        },
        "id": "8i9z1Kao-kQT",
        "outputId": "9e31b1c3-caa2-4c87-d5dd-6d9303f498fa"
      },
      "outputs": [
        {
          "name": "stdout",
          "output_type": "stream",
          "text": [
            "Requirement already satisfied: statsmodels in c:\\users\\juanfernandez\\anaconda3\\envs\\energy_portfolio_management\\lib\\site-packages (0.14.0)\n",
            "Requirement already satisfied: numpy>=1.18 in c:\\users\\juanfernandez\\anaconda3\\envs\\energy_portfolio_management\\lib\\site-packages (from statsmodels) (1.23.4)\n",
            "Requirement already satisfied: scipy!=1.9.2,>=1.4 in c:\\users\\juanfernandez\\anaconda3\\envs\\energy_portfolio_management\\lib\\site-packages (from statsmodels) (1.12.0)\n",
            "Requirement already satisfied: pandas>=1.0 in c:\\users\\juanfernandez\\anaconda3\\envs\\energy_portfolio_management\\lib\\site-packages (from statsmodels) (1.5.3)\n",
            "Requirement already satisfied: patsy>=0.5.2 in c:\\users\\juanfernandez\\anaconda3\\envs\\energy_portfolio_management\\lib\\site-packages (from statsmodels) (0.5.3)\n",
            "Requirement already satisfied: packaging>=21.3 in c:\\users\\juanfernandez\\anaconda3\\envs\\energy_portfolio_management\\lib\\site-packages (from statsmodels) (23.2)\n",
            "Requirement already satisfied: python-dateutil>=2.8.1 in c:\\users\\juanfernandez\\anaconda3\\envs\\energy_portfolio_management\\lib\\site-packages (from pandas>=1.0->statsmodels) (2.8.2)\n",
            "Requirement already satisfied: pytz>=2020.1 in c:\\users\\juanfernandez\\anaconda3\\envs\\energy_portfolio_management\\lib\\site-packages (from pandas>=1.0->statsmodels) (2023.3.post1)\n",
            "Requirement already satisfied: six in c:\\users\\juanfernandez\\anaconda3\\envs\\energy_portfolio_management\\lib\\site-packages (from patsy>=0.5.2->statsmodels) (1.16.0)\n",
            "time: 1.45 s (started: 2024-09-13 13:00:25 +02:00)\n"
          ]
        },
        {
          "name": "stderr",
          "output_type": "stream",
          "text": [
            "\n",
            "[notice] A new release of pip is available: 24.1.1 -> 24.2\n",
            "[notice] To update, run: python.exe -m pip install --upgrade pip\n"
          ]
        }
      ],
      "source": [
        "#Local Installations\n",
        "!pip install statsmodels"
      ]
    },
    {
      "cell_type": "code",
      "execution_count": 18,
      "metadata": {
        "colab": {
          "base_uri": "https://localhost:8080/"
        },
        "id": "qQAx5I7N-GQ0",
        "outputId": "c1cf47fc-0eaa-47b1-ad16-5d0a6ac2b127"
      },
      "outputs": [
        {
          "name": "stdout",
          "output_type": "stream",
          "text": [
            "time: 0 ns (started: 2024-09-13 13:00:27 +02:00)\n"
          ]
        }
      ],
      "source": [
        "#Importing the necessary libraries\n",
        "import math\n",
        "import numpy as np\n",
        "import pandas as pd\n",
        "import datetime as dt\n",
        "import os\n",
        "import itertools\n",
        "import matplotlib.pyplot as plt\n",
        "import seaborn as sns\n",
        "color = sns.color_palette()\n",
        "import matplotlib as mpl\n",
        "from matplotlib import colors as mcolors\n",
        "colors = dict(mcolors.BASE_COLORS, **mcolors.CSS4_COLORS)\n",
        "import statsmodels.api as sm\n",
        "import warnings\n",
        "import matplotlib.dates as mdates\n",
        "from pandas.plotting import lag_plot, autocorrelation_plot\n",
        "from statsmodels.graphics.tsaplots import plot_acf, plot_pacf "
      ]
    },
    {
      "cell_type": "code",
      "execution_count": 19,
      "metadata": {
        "colab": {
          "base_uri": "https://localhost:8080/"
        },
        "id": "Bde603-P-KSz",
        "outputId": "9cfa993e-26aa-4cb1-ee21-cfd9425ca441"
      },
      "outputs": [
        {
          "name": "stdout",
          "output_type": "stream",
          "text": [
            "time: 0 ns (started: 2024-09-13 13:00:27 +02:00)\n"
          ]
        }
      ],
      "source": [
        "# Data Preparation and Scoring\n",
        "from sklearn import preprocessing as pp\n",
        "from scipy import stats\n",
        "from sklearn.model_selection import train_test_split\n",
        "from sklearn.model_selection import KFold\n",
        "from sklearn.model_selection import GridSearchCV\n",
        "from scipy.stats import reciprocal\n",
        "from sklearn.model_selection import RandomizedSearchCV\n",
        "from sklearn.metrics import make_scorer\n",
        "from sklearn.metrics import accuracy_score\n",
        "from sklearn.metrics import mean_absolute_error\n",
        "from sklearn.metrics import r2_score\n",
        "from sklearn.metrics import mean_squared_error\n",
        "from matplotlib.colors import LogNorm"
      ]
    },
    {
      "cell_type": "code",
      "execution_count": 20,
      "metadata": {
        "colab": {
          "base_uri": "https://localhost:8080/"
        },
        "id": "Pdh6vaiE-PVi",
        "outputId": "dc9288d1-3d1d-4ec8-b182-b81a1607c4ca"
      },
      "outputs": [
        {
          "name": "stdout",
          "output_type": "stream",
          "text": [
            "time: 0 ns (started: 2024-09-13 13:00:27 +02:00)\n"
          ]
        }
      ],
      "source": [
        "# ML Algorithms to be used\n",
        "from statsmodels.tsa.statespace.sarimax import SARIMAX\n",
        "from sklearn.svm import SVR"
      ]
    },
    {
      "cell_type": "markdown",
      "metadata": {
        "id": "_4cDs8HWmfhF"
      },
      "source": [
        "# 3. Pre-processing\n"
      ]
    },
    {
      "cell_type": "code",
      "execution_count": 23,
      "metadata": {
        "colab": {
          "base_uri": "https://localhost:8080/",
          "height": 224
        },
        "id": "lP0FCEaz6qJC",
        "outputId": "bd9455ac-018d-4ecf-defe-173a0c48045f"
      },
      "outputs": [
        {
          "name": "stdout",
          "output_type": "stream",
          "text": [
            "time: 0 ns (started: 2024-09-13 13:00:46 +02:00)\n"
          ]
        }
      ],
      "source": [
        "cwd = os.getcwd()\n",
        "DATA_PATH = os.path.join(cwd, '..', 'data')\n",
        "RAW_DATA_PATH = os.path.join(DATA_PATH, 'raw')\n",
        "def read_Data():\n",
        "    data_path = os.path.join(RAW_DATA_PATH, \"energy.csv\") #,parse_dates=[['Date', 'Hour']]) if date and hour to be merged here.\n",
        "    data = pd.read_csv(data_path)\n",
        "    return data"
      ]
    },
    {
      "cell_type": "code",
      "execution_count": 24,
      "metadata": {},
      "outputs": [
        {
          "name": "stdout",
          "output_type": "stream",
          "text": [
            "time: 32 ms (started: 2024-09-13 13:00:47 +02:00)\n"
          ]
        }
      ],
      "source": [
        "data = read_Data()"
      ]
    },
    {
      "cell_type": "code",
      "execution_count": 25,
      "metadata": {},
      "outputs": [
        {
          "name": "stdout",
          "output_type": "stream",
          "text": [
            "time: 171 ms (started: 2024-09-13 13:00:50 +02:00)\n"
          ]
        }
      ],
      "source": [
        "data = data.dropna()\n",
        "data.loc[data.Hour == 24, \"Hour\"] = 0\n",
        "data.iloc[23]\n",
        "#Converting time hour into string:\n",
        "data['Hour']= data['Hour'].apply(str)\n",
        "#Merging Columns:\n",
        "data['Date']= data['Date']+' '+ data['Hour']\n",
        "data = data.drop(['Hour'],axis=1)\n",
        "# convert the column to datetime type:\n",
        "datetime_series = pd.to_datetime(data['Date'],format='%d/%m/%Y %H')\n",
        "#Create datetime index and pass it:\n",
        "datetime_index = pd.DatetimeIndex(datetime_series.values)\n",
        "#Updating the indices:\n",
        "data=(data.set_index(datetime_index)).drop(['Date'],axis=1)\n",
        "data = data.sort_index()"
      ]
    },
    {
      "cell_type": "markdown",
      "metadata": {
        "id": "y4NSgbOlHDUG"
      },
      "source": [
        "# SARIMAX - Recursive Multi-step Forecasting\n",
        "\n",
        " In this approach, a single model is trained to make one-step-ahead predictions, and its outputs are fed back as inputs to forecast multiple steps into the future. For example, if you want to predict three future time steps, you would use the same model to predict the first step, then use that prediction as input to predict the second step, and so on. This method can be computationally efficient but may accumulate errors from each prediction."
      ]
    },
    {
      "cell_type": "markdown",
      "metadata": {
        "id": "cR1-uaz96k4v"
      },
      "source": [
        "### Implementing the Model\n"
      ]
    },
    {
      "cell_type": "code",
      "execution_count": 26,
      "metadata": {
        "colab": {
          "base_uri": "https://localhost:8080/"
        },
        "id": "u1nNMTP5CKoz",
        "outputId": "1e844507-ae69-4547-d405-c2123ad40a2c"
      },
      "outputs": [
        {
          "name": "stdout",
          "output_type": "stream",
          "text": [
            "Train data shape:  (18984, 1)\n",
            "Test data shape:  (72, 1)\n",
            "time: 0 ns (started: 2024-09-13 13:00:53 +02:00)\n"
          ]
        }
      ],
      "source": [
        "# Train-Test Split:\n",
        "# We will split the data as training and test. No need for validation here. \n",
        "train_start_dt = '2012-09-01'\n",
        "test_start_dt = '2014-11-01'\n",
        "test_end_dt = '2014-11-04'\n",
        "# trainin data: filtered copy\n",
        "train = data.copy()[(data.index >= train_start_dt)& (data.index < test_start_dt)][['load']]\n",
        "# test data: filtered copy\n",
        "test = data.copy()[(data.index >= test_start_dt) & (data.index < test_end_dt)][['load']]\n",
        "#let's see how it looks like:\n",
        "print('Train data shape: ', train.shape)\n",
        "print('Test data shape: ', test.shape)"
      ]
    },
    {
      "cell_type": "code",
      "execution_count": 23,
      "metadata": {
        "colab": {
          "base_uri": "https://localhost:8080/"
        },
        "id": "cj6371DNFwyF",
        "outputId": "144f8fbb-4250-439a-da4f-7c67847179a8"
      },
      "outputs": [
        {
          "name": "stdout",
          "output_type": "stream",
          "text": [
            "time: 0 ns (started: 2024-09-13 12:15:48 +02:00)\n"
          ]
        }
      ],
      "source": [
        "#Rescaling the data [0,1]\n",
        "scaler = pp.MinMaxScaler()\n",
        "train['load'] = scaler.fit_transform(train)\n",
        "test['load'] = scaler.transform(test)"
      ]
    },
    {
      "cell_type": "code",
      "execution_count": 24,
      "metadata": {
        "colab": {
          "base_uri": "https://localhost:8080/"
        },
        "id": "YfwZKd25G1mM",
        "outputId": "48baabb6-ce19-4480-ec36-37e3c77937ae"
      },
      "outputs": [
        {
          "name": "stdout",
          "output_type": "stream",
          "text": [
            "time: 0 ns (started: 2024-09-13 12:15:48 +02:00)\n"
          ]
        }
      ],
      "source": [
        "#-----------------------------------------------------------\n",
        "#Hyperparameters\n",
        "#-----------------------------------------------------------\n",
        "horizon = 6\n",
        "#The (p,d,q) order of the model for the number of AR parameters, differences, and MA parameters. \n",
        "# d must be an integer indicating the integration order of the process, while p and q may either \n",
        "# be an integers indicating the AR and MA orders (so that all lags up to those orders are included)\n",
        "# or else iterables giving specific AR and / or MA lags to include. Default is an AR(1) model: (1,0,0).\n",
        "order = (3, 1, 6)\n",
        "#The (P,D,Q,s) order of the seasonal component of the model for:\n",
        "# the AR parameters,  differences, MA parameters, and periodicity.\n",
        "seasonal_order = (1, 1, 1, 24) # 24 is the daily seasonality order"
      ]
    },
    {
      "cell_type": "code",
      "execution_count": 25,
      "metadata": {
        "colab": {
          "base_uri": "https://localhost:8080/"
        },
        "id": "UHzWyj-SHBgB",
        "outputId": "f128e341-4538-4e94-99e4-c0c2a2925199"
      },
      "outputs": [
        {
          "name": "stdout",
          "output_type": "stream",
          "text": [
            "time: 16 ms (started: 2024-09-13 12:15:48 +02:00)\n"
          ]
        },
        {
          "name": "stderr",
          "output_type": "stream",
          "text": [
            "c:\\Users\\JuanFernandez\\anaconda3\\envs\\energy_portfolio_management\\lib\\site-packages\\statsmodels\\tsa\\base\\tsa_model.py:473: ValueWarning: No frequency information was provided, so inferred frequency H will be used.\n",
            "  self._init_dates(dates, freq)\n",
            "c:\\Users\\JuanFernandez\\anaconda3\\envs\\energy_portfolio_management\\lib\\site-packages\\statsmodels\\tsa\\base\\tsa_model.py:473: ValueWarning: No frequency information was provided, so inferred frequency H will be used.\n",
            "  self._init_dates(dates, freq)\n"
          ]
        }
      ],
      "source": [
        "#Model implementation\n",
        "#here endog is the observed time-series process y:\n",
        "model = SARIMAX(endog=train, order=order, seasonal_order=seasonal_order)"
      ]
    },
    {
      "cell_type": "code",
      "execution_count": 26,
      "metadata": {
        "colab": {
          "base_uri": "https://localhost:8080/",
          "height": 441
        },
        "id": "uO-lzEizI9Ti",
        "outputId": "428a53f7-4b76-4842-ef53-50dc331b6967"
      },
      "outputs": [
        {
          "data": {
            "text/html": [
              "<div>\n",
              "<style scoped>\n",
              "    .dataframe tbody tr th:only-of-type {\n",
              "        vertical-align: middle;\n",
              "    }\n",
              "\n",
              "    .dataframe tbody tr th {\n",
              "        vertical-align: top;\n",
              "    }\n",
              "\n",
              "    .dataframe thead th {\n",
              "        text-align: right;\n",
              "    }\n",
              "</style>\n",
              "<table border=\"1\" class=\"dataframe\">\n",
              "  <thead>\n",
              "    <tr style=\"text-align: right;\">\n",
              "      <th></th>\n",
              "      <th>load</th>\n",
              "      <th>load+1</th>\n",
              "      <th>load+2</th>\n",
              "      <th>load+3</th>\n",
              "      <th>load+4</th>\n",
              "      <th>load+5</th>\n",
              "    </tr>\n",
              "  </thead>\n",
              "  <tbody>\n",
              "    <tr>\n",
              "      <th>2014-11-01 00:00:00</th>\n",
              "      <td>0.223112</td>\n",
              "      <td>0.164869</td>\n",
              "      <td>0.140216</td>\n",
              "      <td>0.126656</td>\n",
              "      <td>0.124191</td>\n",
              "      <td>0.135593</td>\n",
              "    </tr>\n",
              "    <tr>\n",
              "      <th>2014-11-01 01:00:00</th>\n",
              "      <td>0.164869</td>\n",
              "      <td>0.140216</td>\n",
              "      <td>0.126656</td>\n",
              "      <td>0.124191</td>\n",
              "      <td>0.135593</td>\n",
              "      <td>0.166718</td>\n",
              "    </tr>\n",
              "    <tr>\n",
              "      <th>2014-11-01 02:00:00</th>\n",
              "      <td>0.140216</td>\n",
              "      <td>0.126656</td>\n",
              "      <td>0.124191</td>\n",
              "      <td>0.135593</td>\n",
              "      <td>0.166718</td>\n",
              "      <td>0.226502</td>\n",
              "    </tr>\n",
              "    <tr>\n",
              "      <th>2014-11-01 03:00:00</th>\n",
              "      <td>0.126656</td>\n",
              "      <td>0.124191</td>\n",
              "      <td>0.135593</td>\n",
              "      <td>0.166718</td>\n",
              "      <td>0.226502</td>\n",
              "      <td>0.305393</td>\n",
              "    </tr>\n",
              "    <tr>\n",
              "      <th>2014-11-01 04:00:00</th>\n",
              "      <td>0.124191</td>\n",
              "      <td>0.135593</td>\n",
              "      <td>0.166718</td>\n",
              "      <td>0.226502</td>\n",
              "      <td>0.305393</td>\n",
              "      <td>0.372881</td>\n",
              "    </tr>\n",
              "    <tr>\n",
              "      <th>...</th>\n",
              "      <td>...</td>\n",
              "      <td>...</td>\n",
              "      <td>...</td>\n",
              "      <td>...</td>\n",
              "      <td>...</td>\n",
              "      <td>...</td>\n",
              "    </tr>\n",
              "    <tr>\n",
              "      <th>2014-11-03 14:00:00</th>\n",
              "      <td>0.430817</td>\n",
              "      <td>0.427427</td>\n",
              "      <td>0.448382</td>\n",
              "      <td>0.502311</td>\n",
              "      <td>0.585824</td>\n",
              "      <td>0.575655</td>\n",
              "    </tr>\n",
              "    <tr>\n",
              "      <th>2014-11-03 15:00:00</th>\n",
              "      <td>0.427427</td>\n",
              "      <td>0.448382</td>\n",
              "      <td>0.502311</td>\n",
              "      <td>0.585824</td>\n",
              "      <td>0.575655</td>\n",
              "      <td>0.539599</td>\n",
              "    </tr>\n",
              "    <tr>\n",
              "      <th>2014-11-03 16:00:00</th>\n",
              "      <td>0.448382</td>\n",
              "      <td>0.502311</td>\n",
              "      <td>0.585824</td>\n",
              "      <td>0.575655</td>\n",
              "      <td>0.539599</td>\n",
              "      <td>0.490601</td>\n",
              "    </tr>\n",
              "    <tr>\n",
              "      <th>2014-11-03 17:00:00</th>\n",
              "      <td>0.502311</td>\n",
              "      <td>0.585824</td>\n",
              "      <td>0.575655</td>\n",
              "      <td>0.539599</td>\n",
              "      <td>0.490601</td>\n",
              "      <td>0.396302</td>\n",
              "    </tr>\n",
              "    <tr>\n",
              "      <th>2014-11-03 18:00:00</th>\n",
              "      <td>0.585824</td>\n",
              "      <td>0.575655</td>\n",
              "      <td>0.539599</td>\n",
              "      <td>0.490601</td>\n",
              "      <td>0.396302</td>\n",
              "      <td>0.302311</td>\n",
              "    </tr>\n",
              "  </tbody>\n",
              "</table>\n",
              "<p>67 rows × 6 columns</p>\n",
              "</div>"
            ],
            "text/plain": [
              "                         load    load+1    load+2    load+3    load+4  \\\n",
              "2014-11-01 00:00:00  0.223112  0.164869  0.140216  0.126656  0.124191   \n",
              "2014-11-01 01:00:00  0.164869  0.140216  0.126656  0.124191  0.135593   \n",
              "2014-11-01 02:00:00  0.140216  0.126656  0.124191  0.135593  0.166718   \n",
              "2014-11-01 03:00:00  0.126656  0.124191  0.135593  0.166718  0.226502   \n",
              "2014-11-01 04:00:00  0.124191  0.135593  0.166718  0.226502  0.305393   \n",
              "...                       ...       ...       ...       ...       ...   \n",
              "2014-11-03 14:00:00  0.430817  0.427427  0.448382  0.502311  0.585824   \n",
              "2014-11-03 15:00:00  0.427427  0.448382  0.502311  0.585824  0.575655   \n",
              "2014-11-03 16:00:00  0.448382  0.502311  0.585824  0.575655  0.539599   \n",
              "2014-11-03 17:00:00  0.502311  0.585824  0.575655  0.539599  0.490601   \n",
              "2014-11-03 18:00:00  0.585824  0.575655  0.539599  0.490601  0.396302   \n",
              "\n",
              "                       load+5  \n",
              "2014-11-01 00:00:00  0.135593  \n",
              "2014-11-01 01:00:00  0.166718  \n",
              "2014-11-01 02:00:00  0.226502  \n",
              "2014-11-01 03:00:00  0.305393  \n",
              "2014-11-01 04:00:00  0.372881  \n",
              "...                       ...  \n",
              "2014-11-03 14:00:00  0.575655  \n",
              "2014-11-03 15:00:00  0.539599  \n",
              "2014-11-03 16:00:00  0.490601  \n",
              "2014-11-03 17:00:00  0.396302  \n",
              "2014-11-03 18:00:00  0.302311  \n",
              "\n",
              "[67 rows x 6 columns]"
            ]
          },
          "execution_count": 26,
          "metadata": {},
          "output_type": "execute_result"
        },
        {
          "name": "stdout",
          "output_type": "stream",
          "text": [
            "time: 16 ms (started: 2024-09-13 12:15:48 +02:00)\n"
          ]
        }
      ],
      "source": [
        "#Copying the test DF:\n",
        "test_shifted = test.copy()\n",
        "#preparing the shifted test data:\n",
        "for t in range(1, horizon):\n",
        "  test_shifted['load+'+str(t)] = test_shifted['load'].shift(-t, freq='H')\n",
        "test_shifted = test_shifted.dropna()\n",
        "test_shifted"
      ]
    },
    {
      "cell_type": "code",
      "execution_count": 27,
      "metadata": {
        "colab": {
          "base_uri": "https://localhost:8080/"
        },
        "id": "mp_9FTMD0MD5",
        "outputId": "f7418c4e-fe48-4b66-ac9c-b40f0f93b0d1"
      },
      "outputs": [
        {
          "name": "stdout",
          "output_type": "stream",
          "text": [
            "time: 0 ns (started: 2024-09-13 12:15:48 +02:00)\n"
          ]
        }
      ],
      "source": [
        "#Warning update:\n",
        "#----------------\n",
        "#each optimization inside the profile likelihood generates a warning, \n",
        "#we turn off the warnings here to make the output clean in the below cell:\n",
        "import warnings\n",
        "from statsmodels.tools.sm_exceptions import ConvergenceWarning\n",
        "warnings.simplefilter('ignore', ConvergenceWarning)\n",
        "#You can check the source code from here:\n",
        "#https://www.statsmodels.org/0.8.0/_modules/statsmodels/base/model.html"
      ]
    },
    {
      "cell_type": "code",
      "execution_count": 28,
      "metadata": {
        "colab": {
          "base_uri": "https://localhost:8080/"
        },
        "id": "pBBpAGGVJhmP",
        "outputId": "f8e43304-7322-4571-dcb0-8d51030f60a8"
      },
      "outputs": [
        {
          "name": "stdout",
          "output_type": "stream",
          "text": [
            "2014-11-01 00:00:00\n",
            "1 : predicted = [0.20396937 0.1586907  0.1224784  0.1007945  0.10024499 0.12661711] true value = [0.22311248073959933, 0.16486902927580893, 0.1402157164869029, 0.12665639445300458, 0.12419106317411399, 0.13559322033898302]\n",
            "2014-11-01 06:00:00\n",
            "7 : predicted = [0.20381291 0.33660985 0.40871839 0.42752047 0.43690674 0.43673583] true value = [0.1667180277349769, 0.22650231124807396, 0.30539291217257314, 0.3728813559322034, 0.42434514637904464, 0.4489984591679508]\n",
            "2014-11-01 12:00:00\n",
            "13 : predicted = [0.42948558 0.41697011 0.40994855 0.39586381 0.39448041 0.41258219] true value = [0.4576271186440677, 0.4499229583975346, 0.44006163328197223, 0.4345146379044684, 0.43852080123266557, 0.4656394453004622]\n",
            "2014-11-01 18:00:00\n",
            "19 : predicted = [0.44892143 0.48024573 0.45635781 0.41895429 0.34988961 0.26254473] true value = [0.5044684129429893, 0.5109399075500771, 0.46995377503852076, 0.43050847457627106, 0.3679506933744222, 0.2933744221879815]\n",
            "2014-11-02 00:00:00\n",
            "25 : predicted = [0.18397156 0.13545024 0.10700581 0.09051073 0.09013874 0.11388675] true value = [0.19414483821263484, 0.18089368258859784, 0.14483821263482277, 0.13312788906009243, 0.13343605546995374, 0.1482280431432974]\n",
            "2014-11-02 06:00:00\n",
            "31 : predicted = [0.18697651 0.31687844 0.39064185 0.4129142  0.42555904 0.42820466] true value = [0.1852080123266564, 0.2542372881355932, 0.3389830508474576, 0.41941448382126345, 0.4628659476117103, 0.48228043143297383]\n",
            "2014-11-02 12:00:00\n",
            "37 : predicted = [0.4222133  0.40999423 0.40234221 0.3879232  0.38624417 0.405252  ] true value = [0.4899845916795069, 0.47519260400616337, 0.4551617873651772, 0.438828967642527, 0.4449922958397534, 0.48536209553158693]\n",
            "2014-11-02 18:00:00\n",
            "43 : predicted = [0.44625003 0.48560686 0.4636935  0.41987128 0.34540609 0.2545939 ] true value = [0.5318952234206471, 0.5072419106317412, 0.45423728813559316, 0.4101694915254237, 0.3334360554699538, 0.25053929121725727]\n",
            "2014-11-03 00:00:00\n",
            "49 : predicted = [0.17628772 0.1270208  0.10008536 0.08538708 0.08519313 0.10857376] true value = [0.22989214175654848, 0.16086286594761168, 0.14422187981510015, 0.13682588597842837, 0.1432973805855161, 0.1799691833590138]\n",
            "2014-11-03 06:00:00\n",
            "55 : predicted = [0.18098073 0.31104812 0.38551521 0.4077983  0.42084696 0.42378984] true value = [0.273035439137134, 0.4073959938366718, 0.4530046224961479, 0.4579352850539291, 0.45824345146379053, 0.4576271186440677]\n",
            "2014-11-03 12:00:00\n",
            "61 : predicted = [0.41806893 0.40612787 0.39883006 0.38504809 0.3832415  0.40223024] true value = [0.45392912172573197, 0.4332819722650232, 0.4308166409861325, 0.42742681047765796, 0.44838212634822794, 0.50231124807396]\n",
            "2014-11-03 18:00:00\n",
            "67 : predicted = [0.44455967 0.48483255 0.46217867 0.41732846 0.34172946 0.25013341] true value = [0.5858243451463789, 0.5756548536209554, 0.5395993836671802, 0.49060092449922954, 0.3963020030816642, 0.3023112480739599]\n",
            "time: 11min 28s (started: 2024-09-13 12:15:48 +02:00)\n"
          ]
        }
      ],
      "source": [
        "# Predictions on test data:\n",
        "training_window = 720 # Here we are using a very small portion of the past,\n",
        "# I think we made like this so that the trining is not too computationaly expensive\n",
        "train_ts = train['load']\n",
        "test_ts = test_shifted\n",
        "#Creating the history\n",
        "history = [x for x in train_ts]\n",
        "#Filtering the training window: Uncomment the below line if you want.\n",
        "history = history[(-training_window):]\n",
        "#Creating predictions to store the model outcomes:\n",
        "predictions = list()\n",
        "#Calling model: \n",
        "#Horizon calculation list:\n",
        "for t in range(0,test_ts.shape[0],horizon):\n",
        "  model = SARIMAX(endog=history, order=order, seasonal_order=seasonal_order)\n",
        "  #Model fitting:\n",
        "  model_fit = model.fit()\n",
        "  #Model predictions:\n",
        "  y_p = model_fit.forecast(steps = horizon) # its like model predict in scikit learn\n",
        "  obs = list(test_ts.iloc[t])\n",
        "# moving the training window: here I add the prediction as in real life we would \n",
        "# not know the true value! Here we will also save the predictions.\n",
        "  for j in range(horizon):\n",
        "    predictions.append(y_p[j])\n",
        "    history.append(y_p[j])\n",
        "  #Dropping the first horizon elements:\n",
        "  for j in range(horizon):\n",
        "    history.pop(0)\n",
        "  print(test_ts.index[t])\n",
        "  print(t+1, ': predicted =', y_p, 'true value =', obs)"
      ]
    },
    {
      "cell_type": "code",
      "execution_count": 29,
      "metadata": {
        "colab": {
          "base_uri": "https://localhost:8080/"
        },
        "id": "7NvsflkTKuk8",
        "outputId": "d01e21cd-ad33-40bc-b550-6972e7f8561f"
      },
      "outputs": [
        {
          "name": "stdout",
          "output_type": "stream",
          "text": [
            "<class 'pandas.core.frame.DataFrame'>\n",
            "DatetimeIndex: 72 entries, 2014-11-01 00:00:00 to 2014-11-03 23:00:00\n",
            "Data columns (total 2 columns):\n",
            " #   Column      Non-Null Count  Dtype  \n",
            "---  ------      --------------  -----  \n",
            " 0   prediction  72 non-null     float64\n",
            " 1   actual      72 non-null     float64\n",
            "dtypes: float64(2)\n",
            "memory usage: 1.7 KB\n",
            "time: 16 ms (started: 2024-09-13 12:27:17 +02:00)\n"
          ]
        }
      ],
      "source": [
        "# Evaluation of results:\n",
        "# We will combine the predictions with the actual load values in a DF. \n",
        "eval_df = pd.DataFrame(predictions)\n",
        "eval_df.columns = ['prediction']\n",
        "#Updating the indices:\n",
        "eval_df=(eval_df.set_index(test.index)) #\n",
        "#Adding true values:\n",
        "eval_df['actual'] = test['load']\n",
        "#Let's check:\n",
        "eval_df.info()"
      ]
    },
    {
      "cell_type": "code",
      "execution_count": 30,
      "metadata": {
        "colab": {
          "base_uri": "https://localhost:8080/"
        },
        "id": "tR8RH0g49xbU",
        "outputId": "5c29dbb7-b28f-4099-d2a6-f2887af2acf1"
      },
      "outputs": [
        {
          "name": "stdout",
          "output_type": "stream",
          "text": [
            "time: 0 ns (started: 2024-09-13 12:27:17 +02:00)\n"
          ]
        }
      ],
      "source": [
        "#Back-transforming:\n",
        "eval_df[['prediction', 'actual']] = scaler.inverse_transform(eval_df[['prediction', 'actual']])"
      ]
    },
    {
      "cell_type": "code",
      "execution_count": 31,
      "metadata": {
        "colab": {
          "base_uri": "https://localhost:8080/",
          "height": 421
        },
        "id": "fMvtDN04m4M1",
        "outputId": "0eafb818-ca22-48a5-afc2-2a32e01b0f66"
      },
      "outputs": [
        {
          "data": {
            "image/png": "[encoded data removed]",
            "text/plain": [
              "<Figure size 640x480 with 1 Axes>"
            ]
          },
          "metadata": {},
          "output_type": "display_data"
        },
        {
          "name": "stdout",
          "output_type": "stream",
          "text": [
            "time: 219 ms (started: 2024-09-13 12:27:17 +02:00)\n"
          ]
        }
      ],
      "source": [
        "#Plotting predictions: \n",
        "plt.figure();\n",
        "plt.plot(eval_df['actual'], 'k.-');\n",
        "plt.plot(eval_df['prediction'], 'x', alpha=0.70);\n",
        "#plt.plot(np.arange(0, 69),eval_df['prediction'].iloc[69:138], 'o', alpha=0.70);\n",
        "#plt.plot(np.arange(0, 69),eval_df['prediction'].iloc[-69:], '+', alpha=0.70);\n",
        "plt.legend(['Actual',\n",
        "            ('Predicted with ' + str (horizon) + ' hr horizon')])\n",
        "plt.ylabel('Load');\n",
        "plt.xlabel('Time Index');\n",
        "plt.title('SARIMAX');\n"
      ]
    },
    {
      "cell_type": "code",
      "execution_count": 32,
      "metadata": {
        "colab": {
          "base_uri": "https://localhost:8080/",
          "height": 427
        },
        "id": "LzODQKuHMENx",
        "outputId": "36973c3c-0c8d-4aee-fda0-b44abc636797"
      },
      "outputs": [
        {
          "data": {
            "text/plain": [
              "[<matplotlib.lines.Line2D at 0x2907f2baf50>]"
            ]
          },
          "execution_count": 32,
          "metadata": {},
          "output_type": "execute_result"
        },
        {
          "data": {
            "image/png": "[encoded data removed]",
            "text/plain": [
              "<Figure size 640x480 with 1 Axes>"
            ]
          },
          "metadata": {},
          "output_type": "display_data"
        },
        {
          "name": "stdout",
          "output_type": "stream",
          "text": [
            "time: 94 ms (started: 2024-09-13 12:27:17 +02:00)\n"
          ]
        }
      ],
      "source": [
        "#Visual comparisons of the predictions:\n",
        "#---------------------------------------\n",
        "#Visualization of the accuracy\n",
        "a = plt.axes(aspect='equal')\n",
        "plt.scatter(eval_df['actual'], eval_df['prediction'],marker='*',alpha=0.80)\n",
        "#plt.scatter(eval_df['actual'].iloc[0:69], eval_df['prediction'].iloc[69:138],marker='o',alpha=0.60)\n",
        "#plt.scatter(eval_df['actual'].iloc[0:69], eval_df['prediction'].iloc[138:207],marker='+',alpha=0.50)\n",
        "plt.xlabel('True Load Values')\n",
        "plt.ylabel('Predicted Load Values')\n",
        "lims = [2000, 4500]\n",
        "plt.xlim(lims), plt.ylim(lims)\n",
        "plt.plot(lims, lims)"
      ]
    },
    {
      "cell_type": "code",
      "execution_count": 33,
      "metadata": {
        "colab": {
          "base_uri": "https://localhost:8080/",
          "height": 423
        },
        "id": "uqiNQiPMk9oL",
        "outputId": "94ebaf3a-156e-4f49-e239-35a08102df96"
      },
      "outputs": [
        {
          "data": {
            "text/plain": [
              "Text(0, 0.5, 'Count')"
            ]
          },
          "execution_count": 33,
          "metadata": {},
          "output_type": "execute_result"
        },
        {
          "data": {
            "image/png": "[encoded data removed]",
            "text/plain": [
              "<Figure size 640x480 with 1 Axes>"
            ]
          },
          "metadata": {},
          "output_type": "display_data"
        },
        {
          "name": "stdout",
          "output_type": "stream",
          "text": [
            "time: 125 ms (started: 2024-09-13 12:27:17 +02:00)\n"
          ]
        }
      ],
      "source": [
        "# Calculating the error variations:\n",
        "error_nn1 = (eval_df['prediction'] - eval_df['actual'])/eval_df['actual']*100\n",
        "\n",
        "plt.hist(error_nn1, bins=30,alpha=0.9)\n",
        "plt.xlabel('Predicted Relative % Error')\n",
        "plt.ylabel('Count')"
      ]
    },
    {
      "cell_type": "code",
      "execution_count": 34,
      "metadata": {
        "colab": {
          "base_uri": "https://localhost:8080/"
        },
        "id": "ybGg5AFQ5mOD",
        "outputId": "06c1de8f-feca-4d16-aa6c-de5a64c227a8"
      },
      "outputs": [
        {
          "name": "stdout",
          "output_type": "stream",
          "text": [
            "R^2 score is  0.85\n",
            "time: 0 ns (started: 2024-09-13 12:27:17 +02:00)\n"
          ]
        }
      ],
      "source": [
        "#Calculating R^2: r2_score(y_true, y_pred)\n",
        "Score_sarimax = r2_score(eval_df['actual'],eval_df['prediction'])\n",
        "print('R^2 score is  %3.2f' %np.mean(Score_sarimax))"
      ]
    }
  ],
  "metadata": {
    "colab": {
      "provenance": [],
      "toc_visible": true
    },
    "kernelspec": {
      "display_name": "Python 3",
      "name": "python3"
    },
    "language_info": {
      "codemirror_mode": {
        "name": "ipython",
        "version": 3
      },
      "file_extension": ".py",
      "mimetype": "text/x-python",
      "name": "python",
      "nbconvert_exporter": "python",
      "pygments_lexer": "ipython3",
      "version": "3.10.13"
    }
  },
  "nbformat": 4,
  "nbformat_minor": 0
}
