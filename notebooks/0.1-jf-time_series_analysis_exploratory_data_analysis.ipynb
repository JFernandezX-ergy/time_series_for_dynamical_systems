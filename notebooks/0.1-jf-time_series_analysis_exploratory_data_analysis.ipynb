{
  "cells": [
    {
      "cell_type": "markdown",
      "metadata": {
        "id": "cQxGOeC7ZmUj"
      },
      "source": [
        "Time Series Analysis for Dynamical Systems\n"
      ]
    },
    {
      "cell_type": "markdown",
      "metadata": {
        "id": "rA_3sqmEls1m"
      },
      "source": [
        "# 1. Problem Definition: Short Term Load Forecasting\n",
        "\n",
        "Load forecasting within the context of energy demand. It is an open-access data published as the appendix Hong et al. (2016). The data consists of three years of hourly electricity load and temperatures."
      ]
    },
    {
      "cell_type": "markdown",
      "metadata": {
        "id": "C9yyayGmmaKy"
      },
      "source": [
        "\n",
        "# 2. Preparing the environment\n",
        "\n",
        "Import the Python libraries that we will need to (i) load the data, (ii) analyze it, (iii) create our model, (iv) process the results."
      ]
    },
    {
      "cell_type": "code",
      "execution_count": 35,
      "metadata": {
        "colab": {
          "base_uri": "https://localhost:8080/"
        },
        "id": "yWFatBGPPinR",
        "outputId": "37f6e9d4-f871-47c4-e4c8-7c274f604e63"
      },
      "outputs": [
        {
          "name": "stdout",
          "output_type": "stream",
          "text": [
            "Requirement already satisfied: ipython-autotime in c:\\users\\juanfernandez\\anaconda3\\envs\\energy_portfolio_management\\lib\\site-packages (0.3.2)\n",
            "Requirement already satisfied: ipython in c:\\users\\juanfernandez\\anaconda3\\envs\\energy_portfolio_management\\lib\\site-packages (from ipython-autotime) (8.16.1)\n",
            "Requirement already satisfied: backcall in c:\\users\\juanfernandez\\anaconda3\\envs\\energy_portfolio_management\\lib\\site-packages (from ipython->ipython-autotime) (0.2.0)\n",
            "Requirement already satisfied: decorator in c:\\users\\juanfernandez\\anaconda3\\envs\\energy_portfolio_management\\lib\\site-packages (from ipython->ipython-autotime) (5.1.1)\n",
            "Requirement already satisfied: jedi>=0.16 in c:\\users\\juanfernandez\\anaconda3\\envs\\energy_portfolio_management\\lib\\site-packages (from ipython->ipython-autotime) (0.19.1)\n",
            "Requirement already satisfied: matplotlib-inline in c:\\users\\juanfernandez\\anaconda3\\envs\\energy_portfolio_management\\lib\\site-packages (from ipython->ipython-autotime) (0.1.6)\n",
            "Requirement already satisfied: pickleshare in c:\\users\\juanfernandez\\anaconda3\\envs\\energy_portfolio_management\\lib\\site-packages (from ipython->ipython-autotime) (0.7.5)\n",
            "Requirement already satisfied: prompt-toolkit!=3.0.37,<3.1.0,>=3.0.30 in c:\\users\\juanfernandez\\anaconda3\\envs\\energy_portfolio_management\\lib\\site-packages (from ipython->ipython-autotime) (3.0.39)\n",
            "Requirement already satisfied: pygments>=2.4.0 in c:\\users\\juanfernandez\\anaconda3\\envs\\energy_portfolio_management\\lib\\site-packages (from ipython->ipython-autotime) (2.16.1)\n",
            "Requirement already satisfied: stack-data in c:\\users\\juanfernandez\\anaconda3\\envs\\energy_portfolio_management\\lib\\site-packages (from ipython->ipython-autotime) (0.6.2)\n",
            "Requirement already satisfied: traitlets>=5 in c:\\users\\juanfernandez\\anaconda3\\envs\\energy_portfolio_management\\lib\\site-packages (from ipython->ipython-autotime) (5.12.0)\n",
            "Requirement already satisfied: exceptiongroup in c:\\users\\juanfernandez\\anaconda3\\envs\\energy_portfolio_management\\lib\\site-packages (from ipython->ipython-autotime) (1.1.3)\n",
            "Requirement already satisfied: colorama in c:\\users\\juanfernandez\\anaconda3\\envs\\energy_portfolio_management\\lib\\site-packages (from ipython->ipython-autotime) (0.4.6)\n",
            "Requirement already satisfied: parso<0.9.0,>=0.8.3 in c:\\users\\juanfernandez\\anaconda3\\envs\\energy_portfolio_management\\lib\\site-packages (from jedi>=0.16->ipython->ipython-autotime) (0.8.3)\n",
            "Requirement already satisfied: wcwidth in c:\\users\\juanfernandez\\anaconda3\\envs\\energy_portfolio_management\\lib\\site-packages (from prompt-toolkit!=3.0.37,<3.1.0,>=3.0.30->ipython->ipython-autotime) (0.2.8)\n",
            "Requirement already satisfied: executing>=1.2.0 in c:\\users\\juanfernandez\\anaconda3\\envs\\energy_portfolio_management\\lib\\site-packages (from stack-data->ipython->ipython-autotime) (1.2.0)\n",
            "Requirement already satisfied: asttokens>=2.1.0 in c:\\users\\juanfernandez\\anaconda3\\envs\\energy_portfolio_management\\lib\\site-packages (from stack-data->ipython->ipython-autotime) (2.4.0)\n",
            "Requirement already satisfied: pure-eval in c:\\users\\juanfernandez\\anaconda3\\envs\\energy_portfolio_management\\lib\\site-packages (from stack-data->ipython->ipython-autotime) (0.2.2)\n",
            "Requirement already satisfied: six>=1.12.0 in c:\\users\\juanfernandez\\anaconda3\\envs\\energy_portfolio_management\\lib\\site-packages (from asttokens>=2.1.0->stack-data->ipython->ipython-autotime) (1.16.0)\n",
            "The autotime extension is already loaded. To reload it, use:\n",
            "  %reload_ext autotime\n",
            "time: 1.53 s (started: 2024-09-13 12:58:12 +02:00)\n"
          ]
        },
        {
          "name": "stderr",
          "output_type": "stream",
          "text": [
            "\n",
            "[notice] A new release of pip is available: 24.1.1 -> 24.2\n",
            "[notice] To update, run: python.exe -m pip install --upgrade pip\n"
          ]
        }
      ],
      "source": [
        "!pip install ipython-autotime\n",
        "%load_ext autotime"
      ]
    },
    {
      "cell_type": "markdown",
      "metadata": {
        "id": "OYJUVWg9-HxL"
      },
      "source": [
        "## Libraries"
      ]
    },
    {
      "cell_type": "code",
      "execution_count": 36,
      "metadata": {
        "colab": {
          "base_uri": "https://localhost:8080/"
        },
        "id": "8i9z1Kao-kQT",
        "outputId": "9e31b1c3-caa2-4c87-d5dd-6d9303f498fa"
      },
      "outputs": [
        {
          "name": "stdout",
          "output_type": "stream",
          "text": [
            "Requirement already satisfied: statsmodels in c:\\users\\juanfernandez\\anaconda3\\envs\\energy_portfolio_management\\lib\\site-packages (0.14.0)\n",
            "Requirement already satisfied: numpy>=1.18 in c:\\users\\juanfernandez\\anaconda3\\envs\\energy_portfolio_management\\lib\\site-packages (from statsmodels) (1.23.4)\n",
            "Requirement already satisfied: scipy!=1.9.2,>=1.4 in c:\\users\\juanfernandez\\anaconda3\\envs\\energy_portfolio_management\\lib\\site-packages (from statsmodels) (1.12.0)\n",
            "Requirement already satisfied: pandas>=1.0 in c:\\users\\juanfernandez\\anaconda3\\envs\\energy_portfolio_management\\lib\\site-packages (from statsmodels) (1.5.3)\n",
            "Requirement already satisfied: patsy>=0.5.2 in c:\\users\\juanfernandez\\anaconda3\\envs\\energy_portfolio_management\\lib\\site-packages (from statsmodels) (0.5.3)\n",
            "Requirement already satisfied: packaging>=21.3 in c:\\users\\juanfernandez\\anaconda3\\envs\\energy_portfolio_management\\lib\\site-packages (from statsmodels) (23.2)\n",
            "Requirement already satisfied: python-dateutil>=2.8.1 in c:\\users\\juanfernandez\\anaconda3\\envs\\energy_portfolio_management\\lib\\site-packages (from pandas>=1.0->statsmodels) (2.8.2)\n",
            "Requirement already satisfied: pytz>=2020.1 in c:\\users\\juanfernandez\\anaconda3\\envs\\energy_portfolio_management\\lib\\site-packages (from pandas>=1.0->statsmodels) (2023.3.post1)\n",
            "Requirement already satisfied: six in c:\\users\\juanfernandez\\anaconda3\\envs\\energy_portfolio_management\\lib\\site-packages (from patsy>=0.5.2->statsmodels) (1.16.0)\n",
            "time: 1.5 s (started: 2024-09-13 12:58:13 +02:00)\n"
          ]
        },
        {
          "name": "stderr",
          "output_type": "stream",
          "text": [
            "\n",
            "[notice] A new release of pip is available: 24.1.1 -> 24.2\n",
            "[notice] To update, run: python.exe -m pip install --upgrade pip\n"
          ]
        }
      ],
      "source": [
        "#Local Installations\n",
        "!pip install statsmodels"
      ]
    },
    {
      "cell_type": "code",
      "execution_count": 37,
      "metadata": {
        "colab": {
          "base_uri": "https://localhost:8080/"
        },
        "id": "qQAx5I7N-GQ0",
        "outputId": "c1cf47fc-0eaa-47b1-ad16-5d0a6ac2b127"
      },
      "outputs": [
        {
          "name": "stdout",
          "output_type": "stream",
          "text": [
            "time: 0 ns (started: 2024-09-13 12:58:15 +02:00)\n"
          ]
        }
      ],
      "source": [
        "#Importing the necessary libraries\n",
        "import math\n",
        "import numpy as np\n",
        "import pandas as pd\n",
        "import datetime as dt\n",
        "import os\n",
        "import itertools\n",
        "import matplotlib.pyplot as plt\n",
        "import seaborn as sns\n",
        "color = sns.color_palette()\n",
        "import matplotlib as mpl\n",
        "from matplotlib import colors as mcolors\n",
        "colors = dict(mcolors.BASE_COLORS, **mcolors.CSS4_COLORS)\n",
        "import statsmodels.api as sm\n",
        "import warnings\n",
        "import matplotlib.dates as mdates\n",
        "from pandas.plotting import lag_plot, autocorrelation_plot\n",
        "from statsmodels.graphics.tsaplots import plot_acf, plot_pacf "
      ]
    },
    {
      "cell_type": "code",
      "execution_count": 38,
      "metadata": {
        "colab": {
          "base_uri": "https://localhost:8080/"
        },
        "id": "Bde603-P-KSz",
        "outputId": "9cfa993e-26aa-4cb1-ee21-cfd9425ca441"
      },
      "outputs": [
        {
          "name": "stdout",
          "output_type": "stream",
          "text": [
            "time: 0 ns (started: 2024-09-13 12:58:15 +02:00)\n"
          ]
        }
      ],
      "source": [
        "# Data Preparation and Scoring\n",
        "from sklearn import preprocessing as pp\n",
        "from scipy import stats\n",
        "from sklearn.model_selection import train_test_split\n",
        "from sklearn.model_selection import KFold\n",
        "from sklearn.model_selection import GridSearchCV\n",
        "from scipy.stats import reciprocal\n",
        "from sklearn.model_selection import RandomizedSearchCV\n",
        "from sklearn.metrics import make_scorer\n",
        "from sklearn.metrics import accuracy_score\n",
        "from sklearn.metrics import mean_absolute_error\n",
        "from sklearn.metrics import r2_score\n",
        "from sklearn.metrics import mean_squared_error\n",
        "from matplotlib.colors import LogNorm"
      ]
    },
    {
      "cell_type": "code",
      "execution_count": 39,
      "metadata": {
        "colab": {
          "base_uri": "https://localhost:8080/"
        },
        "id": "Pdh6vaiE-PVi",
        "outputId": "dc9288d1-3d1d-4ec8-b182-b81a1607c4ca"
      },
      "outputs": [
        {
          "name": "stdout",
          "output_type": "stream",
          "text": [
            "time: 0 ns (started: 2024-09-13 12:58:15 +02:00)\n"
          ]
        }
      ],
      "source": [
        "# ML Algorithms to be used\n",
        "from statsmodels.tsa.statespace.sarimax import SARIMAX\n",
        "from sklearn.svm import SVR"
      ]
    },
    {
      "cell_type": "code",
      "execution_count": 40,
      "metadata": {},
      "outputs": [
        {
          "name": "stdout",
          "output_type": "stream",
          "text": [
            "time: 0 ns (started: 2024-09-13 12:58:15 +02:00)\n"
          ]
        }
      ],
      "source": [
        "# ML Algorithms to be used\n",
        "from statsmodels.tsa.statespace.sarimax import SARIMAX\n",
        "from sklearn.svm import SVR"
      ]
    },
    {
      "cell_type": "markdown",
      "metadata": {
        "id": "_4cDs8HWmfhF"
      },
      "source": [
        "# 3. Pre-processing\n"
      ]
    },
    {
      "cell_type": "code",
      "execution_count": 41,
      "metadata": {
        "colab": {
          "base_uri": "https://localhost:8080/",
          "height": 224
        },
        "id": "lP0FCEaz6qJC",
        "outputId": "bd9455ac-018d-4ecf-defe-173a0c48045f"
      },
      "outputs": [
        {
          "name": "stdout",
          "output_type": "stream",
          "text": [
            "time: 0 ns (started: 2024-09-13 12:58:15 +02:00)\n"
          ]
        }
      ],
      "source": [
        "cwd = os.getcwd()\n",
        "DATA_PATH = os.path.join(cwd, '..', 'data')\n",
        "RAW_DATA_PATH = os.path.join(DATA_PATH, 'raw')\n",
        "def read_Data():\n",
        "    data_path = os.path.join(RAW_DATA_PATH, \"energy.csv\") #,parse_dates=[['Date', 'Hour']]) if date and hour to be merged here.\n",
        "    data = pd.read_csv(data_path)\n",
        "    return data"
      ]
    },
    {
      "cell_type": "code",
      "execution_count": 42,
      "metadata": {},
      "outputs": [
        {
          "data": {
            "text/html": [
              "<div>\n",
              "<style scoped>\n",
              "    .dataframe tbody tr th:only-of-type {\n",
              "        vertical-align: middle;\n",
              "    }\n",
              "\n",
              "    .dataframe tbody tr th {\n",
              "        vertical-align: top;\n",
              "    }\n",
              "\n",
              "    .dataframe thead th {\n",
              "        text-align: right;\n",
              "    }\n",
              "</style>\n",
              "<table border=\"1\" class=\"dataframe\">\n",
              "  <thead>\n",
              "    <tr style=\"text-align: right;\">\n",
              "      <th></th>\n",
              "      <th>Date</th>\n",
              "      <th>Hour</th>\n",
              "      <th>load</th>\n",
              "      <th>T</th>\n",
              "    </tr>\n",
              "  </thead>\n",
              "  <tbody>\n",
              "    <tr>\n",
              "      <th>0</th>\n",
              "      <td>01/01/2004</td>\n",
              "      <td>1</td>\n",
              "      <td>NaN</td>\n",
              "      <td>37.33</td>\n",
              "    </tr>\n",
              "    <tr>\n",
              "      <th>1</th>\n",
              "      <td>01/01/2004</td>\n",
              "      <td>2</td>\n",
              "      <td>NaN</td>\n",
              "      <td>37.67</td>\n",
              "    </tr>\n",
              "    <tr>\n",
              "      <th>2</th>\n",
              "      <td>01/01/2004</td>\n",
              "      <td>3</td>\n",
              "      <td>NaN</td>\n",
              "      <td>37.00</td>\n",
              "    </tr>\n",
              "    <tr>\n",
              "      <th>3</th>\n",
              "      <td>01/01/2004</td>\n",
              "      <td>4</td>\n",
              "      <td>NaN</td>\n",
              "      <td>36.33</td>\n",
              "    </tr>\n",
              "    <tr>\n",
              "      <th>4</th>\n",
              "      <td>01/01/2004</td>\n",
              "      <td>5</td>\n",
              "      <td>NaN</td>\n",
              "      <td>36.00</td>\n",
              "    </tr>\n",
              "  </tbody>\n",
              "</table>\n",
              "</div>"
            ],
            "text/plain": [
              "         Date  Hour  load      T\n",
              "0  01/01/2004     1   NaN  37.33\n",
              "1  01/01/2004     2   NaN  37.67\n",
              "2  01/01/2004     3   NaN  37.00\n",
              "3  01/01/2004     4   NaN  36.33\n",
              "4  01/01/2004     5   NaN  36.00"
            ]
          },
          "execution_count": 42,
          "metadata": {},
          "output_type": "execute_result"
        },
        {
          "name": "stdout",
          "output_type": "stream",
          "text": [
            "time: 31 ms (started: 2024-09-13 12:58:15 +02:00)\n"
          ]
        }
      ],
      "source": [
        "data = read_Data()\n",
        "data.head()"
      ]
    },
    {
      "cell_type": "code",
      "execution_count": 43,
      "metadata": {
        "colab": {
          "base_uri": "https://localhost:8080/"
        },
        "id": "qiEpXuuru_yg",
        "outputId": "654ca9a0-58eb-4051-8035-8c9655b4eba0"
      },
      "outputs": [
        {
          "name": "stdout",
          "output_type": "stream",
          "text": [
            "<class 'pandas.core.frame.DataFrame'>\n",
            "RangeIndex: 96432 entries, 0 to 96431\n",
            "Data columns (total 4 columns):\n",
            " #   Column  Non-Null Count  Dtype  \n",
            "---  ------  --------------  -----  \n",
            " 0   Date    96432 non-null  object \n",
            " 1   Hour    96432 non-null  int64  \n",
            " 2   load    78888 non-null  float64\n",
            " 3   T       96432 non-null  float64\n",
            "dtypes: float64(2), int64(1), object(1)\n",
            "memory usage: 2.9+ MB\n",
            "time: 0 ns (started: 2024-09-13 12:58:15 +02:00)\n"
          ]
        }
      ],
      "source": [
        "data.info()"
      ]
    },
    {
      "cell_type": "code",
      "execution_count": 44,
      "metadata": {
        "colab": {
          "base_uri": "https://localhost:8080/"
        },
        "id": "cDuCWV7kVKC_",
        "outputId": "4714bf75-5389-4ddd-8a05-4db606d95e03"
      },
      "outputs": [
        {
          "name": "stdout",
          "output_type": "stream",
          "text": [
            "time: 16 ms (started: 2024-09-13 12:58:15 +02:00)\n"
          ]
        }
      ],
      "source": [
        "#If you look at the the data, you will see that we do not have any load data for the first two years.\n",
        "#We need to drop the NaN values to remove these rows:\n",
        "data = data.dropna() "
      ]
    },
    {
      "cell_type": "code",
      "execution_count": 45,
      "metadata": {
        "colab": {
          "base_uri": "https://localhost:8080/"
        },
        "id": "jeb19nhdVj0W",
        "outputId": "7da61db1-f3db-4b43-ea23-89db16b86285"
      },
      "outputs": [
        {
          "name": "stdout",
          "output_type": "stream",
          "text": [
            "<class 'pandas.core.frame.DataFrame'>\n",
            "Index: 78888 entries, 17544 to 96431\n",
            "Data columns (total 4 columns):\n",
            " #   Column  Non-Null Count  Dtype  \n",
            "---  ------  --------------  -----  \n",
            " 0   Date    78888 non-null  object \n",
            " 1   Hour    78888 non-null  int64  \n",
            " 2   load    78888 non-null  float64\n",
            " 3   T       78888 non-null  float64\n",
            "dtypes: float64(2), int64(1), object(1)\n",
            "memory usage: 3.0+ MB\n",
            "time: 15 ms (started: 2024-09-13 12:58:15 +02:00)\n"
          ]
        }
      ],
      "source": [
        "#Lets see:\n",
        "data.info()"
      ]
    },
    {
      "cell_type": "code",
      "execution_count": 46,
      "metadata": {
        "colab": {
          "base_uri": "https://localhost:8080/",
          "height": 192
        },
        "id": "m9g8sTbyV_z3",
        "outputId": "cb541cf3-20fb-4d24-cf56-cdb453b0a6d0"
      },
      "outputs": [
        {
          "data": {
            "text/html": [
              "<div>\n",
              "<style scoped>\n",
              "    .dataframe tbody tr th:only-of-type {\n",
              "        vertical-align: middle;\n",
              "    }\n",
              "\n",
              "    .dataframe tbody tr th {\n",
              "        vertical-align: top;\n",
              "    }\n",
              "\n",
              "    .dataframe thead th {\n",
              "        text-align: right;\n",
              "    }\n",
              "</style>\n",
              "<table border=\"1\" class=\"dataframe\">\n",
              "  <thead>\n",
              "    <tr style=\"text-align: right;\">\n",
              "      <th></th>\n",
              "      <th>Date</th>\n",
              "      <th>Hour</th>\n",
              "      <th>load</th>\n",
              "      <th>T</th>\n",
              "    </tr>\n",
              "  </thead>\n",
              "  <tbody>\n",
              "    <tr>\n",
              "      <th>76158</th>\n",
              "      <td>08/09/2012</td>\n",
              "      <td>7</td>\n",
              "      <td>2872.0</td>\n",
              "      <td>70.33</td>\n",
              "    </tr>\n",
              "    <tr>\n",
              "      <th>93307</th>\n",
              "      <td>23/08/2014</td>\n",
              "      <td>20</td>\n",
              "      <td>3469.0</td>\n",
              "      <td>69.67</td>\n",
              "    </tr>\n",
              "    <tr>\n",
              "      <th>35828</th>\n",
              "      <td>01/02/2008</td>\n",
              "      <td>21</td>\n",
              "      <td>3835.0</td>\n",
              "      <td>30.33</td>\n",
              "    </tr>\n",
              "    <tr>\n",
              "      <th>38835</th>\n",
              "      <td>06/06/2008</td>\n",
              "      <td>4</td>\n",
              "      <td>2272.0</td>\n",
              "      <td>57.67</td>\n",
              "    </tr>\n",
              "  </tbody>\n",
              "</table>\n",
              "</div>"
            ],
            "text/plain": [
              "             Date  Hour    load      T\n",
              "76158  08/09/2012     7  2872.0  70.33\n",
              "93307  23/08/2014    20  3469.0  69.67\n",
              "35828  01/02/2008    21  3835.0  30.33\n",
              "38835  06/06/2008     4  2272.0  57.67"
            ]
          },
          "execution_count": 46,
          "metadata": {},
          "output_type": "execute_result"
        },
        {
          "name": "stdout",
          "output_type": "stream",
          "text": [
            "time: 0 ns (started: 2024-09-13 12:58:15 +02:00)\n"
          ]
        }
      ],
      "source": [
        "#But the time information is currently a string (see also above). We need to change it.\n",
        "#Lets see what pandas offers for that purpose!\n",
        "data.sample(4)"
      ]
    },
    {
      "cell_type": "markdown",
      "metadata": {
        "id": "qpveNzeXIknN"
      },
      "source": [
        "### Modifying the time information in our data\n",
        "\n",
        "Here we will use the string column Data and Hour to create timestamp indices. "
      ]
    },
    {
      "cell_type": "code",
      "execution_count": 47,
      "metadata": {
        "colab": {
          "base_uri": "https://localhost:8080/"
        },
        "id": "Ojtoe1cEKwks",
        "outputId": "0915a266-4400-42c5-b531-b67783375efb"
      },
      "outputs": [
        {
          "data": {
            "text/plain": [
              "Date    01/01/2006\n",
              "Hour            24\n",
              "load        2985.0\n",
              "T            24.33\n",
              "Name: 17567, dtype: object"
            ]
          },
          "execution_count": 47,
          "metadata": {},
          "output_type": "execute_result"
        },
        {
          "name": "stdout",
          "output_type": "stream",
          "text": [
            "time: 0 ns (started: 2024-09-13 12:58:15 +02:00)\n"
          ]
        }
      ],
      "source": [
        "#Let's see the data indices:\n",
        "data.iloc[23]"
      ]
    },
    {
      "cell_type": "code",
      "execution_count": 48,
      "metadata": {
        "colab": {
          "base_uri": "https://localhost:8080/"
        },
        "id": "4H-lLwqdaFXH",
        "outputId": "936f07cf-6d9c-4630-8703-1c0fac812959"
      },
      "outputs": [
        {
          "data": {
            "text/plain": [
              "Date    01/01/2006\n",
              "Hour             0\n",
              "load        2985.0\n",
              "T            24.33\n",
              "Name: 17567, dtype: object"
            ]
          },
          "execution_count": 48,
          "metadata": {},
          "output_type": "execute_result"
        },
        {
          "name": "stdout",
          "output_type": "stream",
          "text": [
            "time: 0 ns (started: 2024-09-13 12:58:15 +02:00)\n"
          ]
        }
      ],
      "source": [
        "data.loc[data.Hour == 24, \"Hour\"] = 0\n",
        "data.iloc[23]"
      ]
    },
    {
      "cell_type": "code",
      "execution_count": 49,
      "metadata": {
        "colab": {
          "base_uri": "https://localhost:8080/"
        },
        "id": "JRi55MQGbkl5",
        "outputId": "db95437a-d40a-43e4-cc03-89901e3b7407"
      },
      "outputs": [
        {
          "name": "stdout",
          "output_type": "stream",
          "text": [
            "<class 'pandas.core.frame.DataFrame'>\n",
            "Index: 78888 entries, 17544 to 96431\n",
            "Data columns (total 4 columns):\n",
            " #   Column  Non-Null Count  Dtype  \n",
            "---  ------  --------------  -----  \n",
            " 0   Date    78888 non-null  object \n",
            " 1   Hour    78888 non-null  object \n",
            " 2   load    78888 non-null  float64\n",
            " 3   T       78888 non-null  float64\n",
            "dtypes: float64(2), object(2)\n",
            "memory usage: 3.0+ MB\n",
            "time: 15 ms (started: 2024-09-13 12:58:15 +02:00)\n"
          ]
        }
      ],
      "source": [
        "#Converting time hour into string:\n",
        "data['Hour']= data['Hour'].apply(str)\n",
        "data.info()"
      ]
    },
    {
      "cell_type": "code",
      "execution_count": 50,
      "metadata": {
        "colab": {
          "base_uri": "https://localhost:8080/",
          "height": 224
        },
        "id": "gjRBEtuDfQ-3",
        "outputId": "2c08ac18-d0b9-4032-bf41-8c3b49d4bc8f"
      },
      "outputs": [
        {
          "data": {
            "text/html": [
              "<div>\n",
              "<style scoped>\n",
              "    .dataframe tbody tr th:only-of-type {\n",
              "        vertical-align: middle;\n",
              "    }\n",
              "\n",
              "    .dataframe tbody tr th {\n",
              "        vertical-align: top;\n",
              "    }\n",
              "\n",
              "    .dataframe thead th {\n",
              "        text-align: right;\n",
              "    }\n",
              "</style>\n",
              "<table border=\"1\" class=\"dataframe\">\n",
              "  <thead>\n",
              "    <tr style=\"text-align: right;\">\n",
              "      <th></th>\n",
              "      <th>Date</th>\n",
              "      <th>Hour</th>\n",
              "      <th>load</th>\n",
              "      <th>T</th>\n",
              "    </tr>\n",
              "  </thead>\n",
              "  <tbody>\n",
              "    <tr>\n",
              "      <th>17544</th>\n",
              "      <td>01/01/2006</td>\n",
              "      <td>1</td>\n",
              "      <td>3010.0</td>\n",
              "      <td>22.67</td>\n",
              "    </tr>\n",
              "    <tr>\n",
              "      <th>17545</th>\n",
              "      <td>01/01/2006</td>\n",
              "      <td>2</td>\n",
              "      <td>2853.0</td>\n",
              "      <td>20.67</td>\n",
              "    </tr>\n",
              "    <tr>\n",
              "      <th>17546</th>\n",
              "      <td>01/01/2006</td>\n",
              "      <td>3</td>\n",
              "      <td>2758.0</td>\n",
              "      <td>21.33</td>\n",
              "    </tr>\n",
              "    <tr>\n",
              "      <th>17547</th>\n",
              "      <td>01/01/2006</td>\n",
              "      <td>4</td>\n",
              "      <td>2705.0</td>\n",
              "      <td>19.00</td>\n",
              "    </tr>\n",
              "    <tr>\n",
              "      <th>17548</th>\n",
              "      <td>01/01/2006</td>\n",
              "      <td>5</td>\n",
              "      <td>2709.0</td>\n",
              "      <td>19.33</td>\n",
              "    </tr>\n",
              "  </tbody>\n",
              "</table>\n",
              "</div>"
            ],
            "text/plain": [
              "             Date Hour    load      T\n",
              "17544  01/01/2006    1  3010.0  22.67\n",
              "17545  01/01/2006    2  2853.0  20.67\n",
              "17546  01/01/2006    3  2758.0  21.33\n",
              "17547  01/01/2006    4  2705.0  19.00\n",
              "17548  01/01/2006    5  2709.0  19.33"
            ]
          },
          "execution_count": 50,
          "metadata": {},
          "output_type": "execute_result"
        },
        {
          "name": "stdout",
          "output_type": "stream",
          "text": [
            "time: 16 ms (started: 2024-09-13 12:58:15 +02:00)\n"
          ]
        }
      ],
      "source": [
        "data.head()"
      ]
    },
    {
      "cell_type": "code",
      "execution_count": 51,
      "metadata": {
        "colab": {
          "base_uri": "https://localhost:8080/",
          "height": 129
        },
        "id": "GCZqadELeOln",
        "outputId": "0a6330ce-9136-4fe2-df2d-c42ba230736a"
      },
      "outputs": [
        {
          "data": {
            "text/html": [
              "<div>\n",
              "<style scoped>\n",
              "    .dataframe tbody tr th:only-of-type {\n",
              "        vertical-align: middle;\n",
              "    }\n",
              "\n",
              "    .dataframe tbody tr th {\n",
              "        vertical-align: top;\n",
              "    }\n",
              "\n",
              "    .dataframe thead th {\n",
              "        text-align: right;\n",
              "    }\n",
              "</style>\n",
              "<table border=\"1\" class=\"dataframe\">\n",
              "  <thead>\n",
              "    <tr style=\"text-align: right;\">\n",
              "      <th></th>\n",
              "      <th>Date</th>\n",
              "      <th>load</th>\n",
              "      <th>T</th>\n",
              "    </tr>\n",
              "  </thead>\n",
              "  <tbody>\n",
              "    <tr>\n",
              "      <th>17544</th>\n",
              "      <td>01/01/2006 1</td>\n",
              "      <td>3010.0</td>\n",
              "      <td>22.67</td>\n",
              "    </tr>\n",
              "    <tr>\n",
              "      <th>17545</th>\n",
              "      <td>01/01/2006 2</td>\n",
              "      <td>2853.0</td>\n",
              "      <td>20.67</td>\n",
              "    </tr>\n",
              "  </tbody>\n",
              "</table>\n",
              "</div>"
            ],
            "text/plain": [
              "               Date    load      T\n",
              "17544  01/01/2006 1  3010.0  22.67\n",
              "17545  01/01/2006 2  2853.0  20.67"
            ]
          },
          "execution_count": 51,
          "metadata": {},
          "output_type": "execute_result"
        },
        {
          "name": "stdout",
          "output_type": "stream",
          "text": [
            "time: 16 ms (started: 2024-09-13 12:58:15 +02:00)\n"
          ]
        }
      ],
      "source": [
        "#Merging Columns:\n",
        "data['Date']= data['Date']+' '+ data['Hour']\n",
        "data = data.drop(['Hour'],axis=1)\n",
        "data.head(2)"
      ]
    },
    {
      "cell_type": "code",
      "execution_count": 52,
      "metadata": {
        "colab": {
          "base_uri": "https://localhost:8080/"
        },
        "id": "J2kanfmSWqoG",
        "outputId": "02473b6f-b0ca-462e-96a7-97cd8d0c1847"
      },
      "outputs": [
        {
          "data": {
            "text/plain": [
              "17544   2006-01-01 01:00:00\n",
              "17545   2006-01-01 02:00:00\n",
              "17546   2006-01-01 03:00:00\n",
              "17547   2006-01-01 04:00:00\n",
              "17548   2006-01-01 05:00:00\n",
              "Name: Date, dtype: datetime64[ns]"
            ]
          },
          "execution_count": 52,
          "metadata": {},
          "output_type": "execute_result"
        },
        {
          "name": "stdout",
          "output_type": "stream",
          "text": [
            "time: 125 ms (started: 2024-09-13 12:58:15 +02:00)\n"
          ]
        }
      ],
      "source": [
        "# convert the column to datetime type:\n",
        "datetime_series = pd.to_datetime(data['Date'],format='%d/%m/%Y %H')\n",
        "datetime_series.head()"
      ]
    },
    {
      "cell_type": "code",
      "execution_count": 53,
      "metadata": {
        "colab": {
          "base_uri": "https://localhost:8080/",
          "height": 161
        },
        "id": "SaqgYTuUgbcA",
        "outputId": "37e0bcaf-f9c7-4963-9ffc-bca79a576f14"
      },
      "outputs": [
        {
          "data": {
            "text/html": [
              "<div>\n",
              "<style scoped>\n",
              "    .dataframe tbody tr th:only-of-type {\n",
              "        vertical-align: middle;\n",
              "    }\n",
              "\n",
              "    .dataframe tbody tr th {\n",
              "        vertical-align: top;\n",
              "    }\n",
              "\n",
              "    .dataframe thead th {\n",
              "        text-align: right;\n",
              "    }\n",
              "</style>\n",
              "<table border=\"1\" class=\"dataframe\">\n",
              "  <thead>\n",
              "    <tr style=\"text-align: right;\">\n",
              "      <th></th>\n",
              "      <th>load</th>\n",
              "      <th>T</th>\n",
              "    </tr>\n",
              "  </thead>\n",
              "  <tbody>\n",
              "    <tr>\n",
              "      <th>2006-01-01 01:00:00</th>\n",
              "      <td>3010.0</td>\n",
              "      <td>22.67</td>\n",
              "    </tr>\n",
              "    <tr>\n",
              "      <th>2006-01-01 02:00:00</th>\n",
              "      <td>2853.0</td>\n",
              "      <td>20.67</td>\n",
              "    </tr>\n",
              "    <tr>\n",
              "      <th>2006-01-01 03:00:00</th>\n",
              "      <td>2758.0</td>\n",
              "      <td>21.33</td>\n",
              "    </tr>\n",
              "  </tbody>\n",
              "</table>\n",
              "</div>"
            ],
            "text/plain": [
              "                       load      T\n",
              "2006-01-01 01:00:00  3010.0  22.67\n",
              "2006-01-01 02:00:00  2853.0  20.67\n",
              "2006-01-01 03:00:00  2758.0  21.33"
            ]
          },
          "execution_count": 53,
          "metadata": {},
          "output_type": "execute_result"
        },
        {
          "name": "stdout",
          "output_type": "stream",
          "text": [
            "time: 0 ns (started: 2024-09-13 12:58:15 +02:00)\n"
          ]
        }
      ],
      "source": [
        "#Create datetime index and pass it:\n",
        "datetime_index = pd.DatetimeIndex(datetime_series.values)\n",
        "#Updating the indices:\n",
        "data=(data.set_index(datetime_index)).drop(['Date'],axis=1)\n",
        "data.head(3)"
      ]
    },
    {
      "cell_type": "markdown",
      "metadata": {
        "id": "k4WIUmcqicTx"
      },
      "source": [
        "But there is still an issue in the data, that is '00' comes after '23'. We need to sort indices. "
      ]
    },
    {
      "cell_type": "code",
      "execution_count": 54,
      "metadata": {
        "colab": {
          "base_uri": "https://localhost:8080/",
          "height": 851
        },
        "id": "Pr0OsH_Mi3dR",
        "outputId": "32de2860-001e-4479-dbad-667057f1957b"
      },
      "outputs": [
        {
          "name": "stdout",
          "output_type": "stream",
          "text": [
            "time: 156 ms (started: 2024-09-13 12:58:15 +02:00)\n"
          ]
        }
      ],
      "source": [
        "data = data.sort_index()\n",
        "data.to_csv(os.path.join(DATA_PATH, 'interim', 'energy_preprocessed.csv'))"
      ]
    },
    {
      "cell_type": "markdown",
      "metadata": {
        "id": "Jb0bFiyphSAq"
      },
      "source": [
        "## Exploring the Data\n",
        "\n",
        "Now we have the time as indices, we can filter the time zones of interest and analyze the data as we wish. "
      ]
    },
    {
      "cell_type": "code",
      "execution_count": 21,
      "metadata": {
        "colab": {
          "base_uri": "https://localhost:8080/",
          "height": 874
        },
        "id": "QyKK1570hjra",
        "outputId": "4f2787ef-9d5c-400e-a111-64a28a067455"
      },
      "outputs": [
        {
          "name": "stdout",
          "output_type": "stream",
          "text": [
            "                       load      T\n",
            "2012-01-05 00:00:00  3167.0  19.00\n",
            "2012-01-05 01:00:00  3014.0  22.33\n",
            "2012-01-05 02:00:00  2921.0  22.33\n",
            "2012-01-05 03:00:00  2874.0  22.00\n",
            "2012-01-05 04:00:00  2876.0  21.67\n",
            "2012-01-05 05:00:00  2962.0  21.33\n",
            "2012-01-05 06:00:00  3239.0  21.33\n",
            "2012-01-05 07:00:00  3719.0  21.67\n",
            "2012-01-05 08:00:00  3940.0  22.67\n",
            "2012-01-05 09:00:00  3933.0  23.00\n",
            "2012-01-05 10:00:00  3948.0  24.00\n",
            "2012-01-05 11:00:00  3945.0  25.67\n",
            "2012-01-05 12:00:00  3933.0  28.00\n",
            "2012-01-05 13:00:00  3894.0  29.33\n",
            "2012-01-05 14:00:00  3873.0  30.67\n",
            "2012-01-05 15:00:00  3838.0  32.00\n",
            "2012-01-05 16:00:00  3855.0  32.00\n",
            "2012-01-05 17:00:00  4112.0  30.67\n",
            "2012-01-05 18:00:00  4326.0  29.00\n",
            "2012-01-05 19:00:00  4317.0  27.00\n",
            "2012-01-05 20:00:00  4213.0  25.00\n",
            "2012-01-05 21:00:00  4031.0  24.00\n",
            "2012-01-05 22:00:00  3749.0  22.33\n",
            "2012-01-05 23:00:00  3417.0  20.00\n",
            "time: 0 ns (started: 2024-09-13 12:55:02 +02:00)\n"
          ]
        }
      ],
      "source": [
        "# Filter data by a specific date:\n",
        "filtered_data = data.loc['2012-1-5']\n",
        "print(filtered_data)"
      ]
    },
    {
      "cell_type": "markdown",
      "metadata": {
        "id": "8oXTJhfqiH3I"
      },
      "source": [
        "There is also another function that you can use with time series data sets called `truncate()`."
      ]
    },
    {
      "cell_type": "code",
      "execution_count": 22,
      "metadata": {
        "colab": {
          "base_uri": "https://localhost:8080/",
          "height": 851
        },
        "id": "CCTlEw1OiPO4",
        "outputId": "d4f043c9-2400-4c2e-a460-fe3b81decc3b"
      },
      "outputs": [
        {
          "data": {
            "text/html": [
              "<div>\n",
              "<style scoped>\n",
              "    .dataframe tbody tr th:only-of-type {\n",
              "        vertical-align: middle;\n",
              "    }\n",
              "\n",
              "    .dataframe tbody tr th {\n",
              "        vertical-align: top;\n",
              "    }\n",
              "\n",
              "    .dataframe thead th {\n",
              "        text-align: right;\n",
              "    }\n",
              "</style>\n",
              "<table border=\"1\" class=\"dataframe\">\n",
              "  <thead>\n",
              "    <tr style=\"text-align: right;\">\n",
              "      <th></th>\n",
              "      <th>load</th>\n",
              "      <th>T</th>\n",
              "    </tr>\n",
              "  </thead>\n",
              "  <tbody>\n",
              "    <tr>\n",
              "      <th>2012-11-01 00:00:00</th>\n",
              "      <td>2607.0</td>\n",
              "      <td>46.00</td>\n",
              "    </tr>\n",
              "    <tr>\n",
              "      <th>2012-11-01 01:00:00</th>\n",
              "      <td>2386.0</td>\n",
              "      <td>48.00</td>\n",
              "    </tr>\n",
              "    <tr>\n",
              "      <th>2012-11-01 02:00:00</th>\n",
              "      <td>2311.0</td>\n",
              "      <td>47.67</td>\n",
              "    </tr>\n",
              "    <tr>\n",
              "      <th>2012-11-01 03:00:00</th>\n",
              "      <td>2264.0</td>\n",
              "      <td>47.00</td>\n",
              "    </tr>\n",
              "    <tr>\n",
              "      <th>2012-11-01 04:00:00</th>\n",
              "      <td>2267.0</td>\n",
              "      <td>46.00</td>\n",
              "    </tr>\n",
              "    <tr>\n",
              "      <th>2012-11-01 05:00:00</th>\n",
              "      <td>2352.0</td>\n",
              "      <td>45.67</td>\n",
              "    </tr>\n",
              "    <tr>\n",
              "      <th>2012-11-01 06:00:00</th>\n",
              "      <td>2622.0</td>\n",
              "      <td>45.33</td>\n",
              "    </tr>\n",
              "    <tr>\n",
              "      <th>2012-11-01 07:00:00</th>\n",
              "      <td>3108.0</td>\n",
              "      <td>44.67</td>\n",
              "    </tr>\n",
              "    <tr>\n",
              "      <th>2012-11-01 08:00:00</th>\n",
              "      <td>3371.0</td>\n",
              "      <td>45.67</td>\n",
              "    </tr>\n",
              "    <tr>\n",
              "      <th>2012-11-01 09:00:00</th>\n",
              "      <td>3405.0</td>\n",
              "      <td>46.00</td>\n",
              "    </tr>\n",
              "    <tr>\n",
              "      <th>2012-11-01 10:00:00</th>\n",
              "      <td>3426.0</td>\n",
              "      <td>46.33</td>\n",
              "    </tr>\n",
              "    <tr>\n",
              "      <th>2012-11-01 11:00:00</th>\n",
              "      <td>3436.0</td>\n",
              "      <td>47.00</td>\n",
              "    </tr>\n",
              "    <tr>\n",
              "      <th>2012-11-01 12:00:00</th>\n",
              "      <td>3417.0</td>\n",
              "      <td>48.67</td>\n",
              "    </tr>\n",
              "    <tr>\n",
              "      <th>2012-11-01 13:00:00</th>\n",
              "      <td>3391.0</td>\n",
              "      <td>49.67</td>\n",
              "    </tr>\n",
              "    <tr>\n",
              "      <th>2012-11-01 14:00:00</th>\n",
              "      <td>3355.0</td>\n",
              "      <td>49.67</td>\n",
              "    </tr>\n",
              "    <tr>\n",
              "      <th>2012-11-01 15:00:00</th>\n",
              "      <td>3291.0</td>\n",
              "      <td>50.67</td>\n",
              "    </tr>\n",
              "    <tr>\n",
              "      <th>2012-11-01 16:00:00</th>\n",
              "      <td>3274.0</td>\n",
              "      <td>50.00</td>\n",
              "    </tr>\n",
              "    <tr>\n",
              "      <th>2012-11-01 17:00:00</th>\n",
              "      <td>3334.0</td>\n",
              "      <td>50.00</td>\n",
              "    </tr>\n",
              "    <tr>\n",
              "      <th>2012-11-01 18:00:00</th>\n",
              "      <td>3568.0</td>\n",
              "      <td>49.33</td>\n",
              "    </tr>\n",
              "    <tr>\n",
              "      <th>2012-11-01 19:00:00</th>\n",
              "      <td>3724.0</td>\n",
              "      <td>48.67</td>\n",
              "    </tr>\n",
              "    <tr>\n",
              "      <th>2012-11-01 20:00:00</th>\n",
              "      <td>3634.0</td>\n",
              "      <td>47.00</td>\n",
              "    </tr>\n",
              "    <tr>\n",
              "      <th>2012-11-01 21:00:00</th>\n",
              "      <td>3477.0</td>\n",
              "      <td>46.33</td>\n",
              "    </tr>\n",
              "    <tr>\n",
              "      <th>2012-11-01 22:00:00</th>\n",
              "      <td>3214.0</td>\n",
              "      <td>45.67</td>\n",
              "    </tr>\n",
              "    <tr>\n",
              "      <th>2012-11-01 23:00:00</th>\n",
              "      <td>2878.0</td>\n",
              "      <td>46.00</td>\n",
              "    </tr>\n",
              "    <tr>\n",
              "      <th>2012-11-02 00:00:00</th>\n",
              "      <td>2606.0</td>\n",
              "      <td>44.00</td>\n",
              "    </tr>\n",
              "  </tbody>\n",
              "</table>\n",
              "</div>"
            ],
            "text/plain": [
              "                       load      T\n",
              "2012-11-01 00:00:00  2607.0  46.00\n",
              "2012-11-01 01:00:00  2386.0  48.00\n",
              "2012-11-01 02:00:00  2311.0  47.67\n",
              "2012-11-01 03:00:00  2264.0  47.00\n",
              "2012-11-01 04:00:00  2267.0  46.00\n",
              "2012-11-01 05:00:00  2352.0  45.67\n",
              "2012-11-01 06:00:00  2622.0  45.33\n",
              "2012-11-01 07:00:00  3108.0  44.67\n",
              "2012-11-01 08:00:00  3371.0  45.67\n",
              "2012-11-01 09:00:00  3405.0  46.00\n",
              "2012-11-01 10:00:00  3426.0  46.33\n",
              "2012-11-01 11:00:00  3436.0  47.00\n",
              "2012-11-01 12:00:00  3417.0  48.67\n",
              "2012-11-01 13:00:00  3391.0  49.67\n",
              "2012-11-01 14:00:00  3355.0  49.67\n",
              "2012-11-01 15:00:00  3291.0  50.67\n",
              "2012-11-01 16:00:00  3274.0  50.00\n",
              "2012-11-01 17:00:00  3334.0  50.00\n",
              "2012-11-01 18:00:00  3568.0  49.33\n",
              "2012-11-01 19:00:00  3724.0  48.67\n",
              "2012-11-01 20:00:00  3634.0  47.00\n",
              "2012-11-01 21:00:00  3477.0  46.33\n",
              "2012-11-01 22:00:00  3214.0  45.67\n",
              "2012-11-01 23:00:00  2878.0  46.00\n",
              "2012-11-02 00:00:00  2606.0  44.00"
            ]
          },
          "execution_count": 22,
          "metadata": {},
          "output_type": "execute_result"
        },
        {
          "name": "stdout",
          "output_type": "stream",
          "text": [
            "time: 16 ms (started: 2024-09-13 12:55:02 +02:00)\n"
          ]
        }
      ],
      "source": [
        "data.truncate(before='2012-11-01', after='2012-11-02')"
      ]
    },
    {
      "cell_type": "markdown",
      "metadata": {
        "id": "diXFz7WZmQ4J"
      },
      "source": [
        "### Checking for NaN values and Types\n",
        "\n",
        "You should check for NaN values after playing with data:"
      ]
    },
    {
      "cell_type": "code",
      "execution_count": 23,
      "metadata": {
        "colab": {
          "base_uri": "https://localhost:8080/"
        },
        "id": "MIwwd3_DmT6B",
        "outputId": "55ceabf6-ae38-4d71-ba55-a64bcc2dd59c"
      },
      "outputs": [
        {
          "data": {
            "text/plain": [
              "load    0\n",
              "T       0\n",
              "dtype: int64"
            ]
          },
          "execution_count": 23,
          "metadata": {},
          "output_type": "execute_result"
        },
        {
          "name": "stdout",
          "output_type": "stream",
          "text": [
            "time: 0 ns (started: 2024-09-13 12:55:02 +02:00)\n"
          ]
        }
      ],
      "source": [
        "data.isna().sum()"
      ]
    },
    {
      "cell_type": "code",
      "execution_count": 24,
      "metadata": {
        "colab": {
          "base_uri": "https://localhost:8080/"
        },
        "id": "tI0H2ifNmfxB",
        "outputId": "09cbbc34-bda9-4784-e09c-8d3bb1cfee4b"
      },
      "outputs": [
        {
          "data": {
            "text/plain": [
              "load    float64\n",
              "T       float64\n",
              "dtype: object"
            ]
          },
          "execution_count": 24,
          "metadata": {},
          "output_type": "execute_result"
        },
        {
          "name": "stdout",
          "output_type": "stream",
          "text": [
            "time: 0 ns (started: 2024-09-13 12:55:02 +02:00)\n"
          ]
        }
      ],
      "source": [
        "data.dtypes"
      ]
    },
    {
      "cell_type": "markdown",
      "metadata": {
        "id": "49RVdrJtmkt6"
      },
      "source": [
        "### Statistics\n",
        "Let's look at some simple statistics:"
      ]
    },
    {
      "cell_type": "code",
      "execution_count": 25,
      "metadata": {
        "colab": {
          "base_uri": "https://localhost:8080/",
          "height": 318
        },
        "id": "NV6YG-XVmqox",
        "outputId": "d56d5ea2-79a3-4f05-9c40-a47d8f0b9cc2"
      },
      "outputs": [
        {
          "data": {
            "text/html": [
              "<div>\n",
              "<style scoped>\n",
              "    .dataframe tbody tr th:only-of-type {\n",
              "        vertical-align: middle;\n",
              "    }\n",
              "\n",
              "    .dataframe tbody tr th {\n",
              "        vertical-align: top;\n",
              "    }\n",
              "\n",
              "    .dataframe thead th {\n",
              "        text-align: right;\n",
              "    }\n",
              "</style>\n",
              "<table border=\"1\" class=\"dataframe\">\n",
              "  <thead>\n",
              "    <tr style=\"text-align: right;\">\n",
              "      <th></th>\n",
              "      <th>load</th>\n",
              "      <th>T</th>\n",
              "    </tr>\n",
              "  </thead>\n",
              "  <tbody>\n",
              "    <tr>\n",
              "      <th>count</th>\n",
              "      <td>78888.000000</td>\n",
              "      <td>78888.000000</td>\n",
              "    </tr>\n",
              "    <tr>\n",
              "      <th>mean</th>\n",
              "      <td>3308.000837</td>\n",
              "      <td>47.573934</td>\n",
              "    </tr>\n",
              "    <tr>\n",
              "      <th>std</th>\n",
              "      <td>579.803021</td>\n",
              "      <td>19.201314</td>\n",
              "    </tr>\n",
              "    <tr>\n",
              "      <th>min</th>\n",
              "      <td>1811.000000</td>\n",
              "      <td>-18.000000</td>\n",
              "    </tr>\n",
              "    <tr>\n",
              "      <th>25%</th>\n",
              "      <td>2845.000000</td>\n",
              "      <td>32.670000</td>\n",
              "    </tr>\n",
              "    <tr>\n",
              "      <th>50%</th>\n",
              "      <td>3382.000000</td>\n",
              "      <td>48.670000</td>\n",
              "    </tr>\n",
              "    <tr>\n",
              "      <th>75%</th>\n",
              "      <td>3709.000000</td>\n",
              "      <td>63.000000</td>\n",
              "    </tr>\n",
              "    <tr>\n",
              "      <th>max</th>\n",
              "      <td>5506.000000</td>\n",
              "      <td>97.000000</td>\n",
              "    </tr>\n",
              "  </tbody>\n",
              "</table>\n",
              "</div>"
            ],
            "text/plain": [
              "               load             T\n",
              "count  78888.000000  78888.000000\n",
              "mean    3308.000837     47.573934\n",
              "std      579.803021     19.201314\n",
              "min     1811.000000    -18.000000\n",
              "25%     2845.000000     32.670000\n",
              "50%     3382.000000     48.670000\n",
              "75%     3709.000000     63.000000\n",
              "max     5506.000000     97.000000"
            ]
          },
          "execution_count": 25,
          "metadata": {},
          "output_type": "execute_result"
        },
        {
          "name": "stdout",
          "output_type": "stream",
          "text": [
            "time: 16 ms (started: 2024-09-13 12:55:02 +02:00)\n"
          ]
        }
      ],
      "source": [
        "data.describe()"
      ]
    },
    {
      "cell_type": "markdown",
      "metadata": {
        "id": "yej0eIRSpgPU"
      },
      "source": [
        "### Data Analysis with Custom Frequency"
      ]
    },
    {
      "cell_type": "code",
      "execution_count": 26,
      "metadata": {
        "colab": {
          "base_uri": "https://localhost:8080/",
          "height": 286
        },
        "id": "Q28nMBFap0qS",
        "outputId": "792ae805-bf48-4861-9267-7cdd695fdd5d"
      },
      "outputs": [
        {
          "data": {
            "text/html": [
              "<div>\n",
              "<style scoped>\n",
              "    .dataframe tbody tr th:only-of-type {\n",
              "        vertical-align: middle;\n",
              "    }\n",
              "\n",
              "    .dataframe tbody tr th {\n",
              "        vertical-align: top;\n",
              "    }\n",
              "\n",
              "    .dataframe thead th {\n",
              "        text-align: right;\n",
              "    }\n",
              "</style>\n",
              "<table border=\"1\" class=\"dataframe\">\n",
              "  <thead>\n",
              "    <tr style=\"text-align: right;\">\n",
              "      <th></th>\n",
              "      <th>load</th>\n",
              "      <th>T</th>\n",
              "    </tr>\n",
              "  </thead>\n",
              "  <tbody>\n",
              "    <tr>\n",
              "      <th>2006-01-02</th>\n",
              "      <td>2913.0</td>\n",
              "      <td>29.00</td>\n",
              "    </tr>\n",
              "    <tr>\n",
              "      <th>2006-01-03</th>\n",
              "      <td>3121.0</td>\n",
              "      <td>17.67</td>\n",
              "    </tr>\n",
              "    <tr>\n",
              "      <th>2006-01-04</th>\n",
              "      <td>3053.0</td>\n",
              "      <td>27.33</td>\n",
              "    </tr>\n",
              "    <tr>\n",
              "      <th>2006-01-05</th>\n",
              "      <td>3012.0</td>\n",
              "      <td>29.00</td>\n",
              "    </tr>\n",
              "    <tr>\n",
              "      <th>2006-01-06</th>\n",
              "      <td>3098.0</td>\n",
              "      <td>23.33</td>\n",
              "    </tr>\n",
              "    <tr>\n",
              "      <th>2006-01-09</th>\n",
              "      <td>2964.0</td>\n",
              "      <td>33.00</td>\n",
              "    </tr>\n",
              "    <tr>\n",
              "      <th>2006-01-10</th>\n",
              "      <td>2986.0</td>\n",
              "      <td>27.00</td>\n",
              "    </tr>\n",
              "    <tr>\n",
              "      <th>2006-01-11</th>\n",
              "      <td>2842.0</td>\n",
              "      <td>41.67</td>\n",
              "    </tr>\n",
              "    <tr>\n",
              "      <th>2006-01-12</th>\n",
              "      <td>2845.0</td>\n",
              "      <td>31.00</td>\n",
              "    </tr>\n",
              "    <tr>\n",
              "      <th>2006-01-13</th>\n",
              "      <td>2800.0</td>\n",
              "      <td>44.67</td>\n",
              "    </tr>\n",
              "  </tbody>\n",
              "</table>\n",
              "</div>"
            ],
            "text/plain": [
              "              load      T\n",
              "2006-01-02  2913.0  29.00\n",
              "2006-01-03  3121.0  17.67\n",
              "2006-01-04  3053.0  27.33\n",
              "2006-01-05  3012.0  29.00\n",
              "2006-01-06  3098.0  23.33\n",
              "2006-01-09  2964.0  33.00\n",
              "2006-01-10  2986.0  27.00\n",
              "2006-01-11  2842.0  41.67\n",
              "2006-01-12  2845.0  31.00\n",
              "2006-01-13  2800.0  44.67"
            ]
          },
          "execution_count": 26,
          "metadata": {},
          "output_type": "execute_result"
        },
        {
          "name": "stdout",
          "output_type": "stream",
          "text": [
            "time: 31 ms (started: 2024-09-13 12:55:02 +02:00)\n"
          ]
        }
      ],
      "source": [
        "#https://pandas.pydata.org/pandas-docs/stable/reference/api/pandas.tseries.offsets.DateOffset.html\n",
        "#https://pandas.pydata.org/pandas-docs/stable/reference/api/pandas.DataFrame.asfreq.html\n",
        "# For business days only:\n",
        "data_custom = data.asfreq(pd.offsets.BDay(), method='pad') #Method to use for filling holes in reindexed Series \n",
        "data_custom.head(10)"
      ]
    },
    {
      "cell_type": "markdown",
      "metadata": {
        "id": "pTHwu_9orY0h"
      },
      "source": [
        "### Exploring time-related information"
      ]
    },
    {
      "cell_type": "code",
      "execution_count": 27,
      "metadata": {
        "colab": {
          "base_uri": "https://localhost:8080/",
          "height": 314
        },
        "id": "aO9xGtaJsClV",
        "outputId": "8a9a3561-fb1c-466c-934e-04734ddcdfbe"
      },
      "outputs": [
        {
          "data": {
            "image/png": "[encoded data removed]",
            "text/plain": [
              "<Figure size 640x480 with 4 Axes>"
            ]
          },
          "metadata": {},
          "output_type": "display_data"
        },
        {
          "name": "stdout",
          "output_type": "stream",
          "text": [
            "time: 687 ms (started: 2024-09-13 12:55:02 +02:00)\n"
          ]
        }
      ],
      "source": [
        "#taking load column:\n",
        "data_load = data['load']\n",
        "#Calling our function:\n",
        "decomposition = sm.tsa.seasonal_decompose(data_load['2014-06-01':'2014-12-31'], model = 'additive')\n",
        "#Plotting:\n",
        "fig = decomposition.plot()\n",
        "mpl.rcParams['figure.figsize'] = [8.0, 8.0]"
      ]
    },
    {
      "cell_type": "code",
      "execution_count": 28,
      "metadata": {
        "colab": {
          "base_uri": "https://localhost:8080/",
          "height": 500
        },
        "id": "9caHcP1rtqs6",
        "outputId": "d85ea16e-a119-4eac-e7fe-66695a7fa20f"
      },
      "outputs": [
        {
          "data": {
            "image/png": "[encoded data removed]",
            "text/plain": [
              "<Figure size 800x800 with 1 Axes>"
            ]
          },
          "metadata": {},
          "output_type": "display_data"
        },
        {
          "name": "stdout",
          "output_type": "stream",
          "text": [
            "time: 1 s (started: 2024-09-13 12:55:03 +02:00)\n"
          ]
        }
      ],
      "source": [
        "#Calling function:\n",
        "decomposition = sm.tsa.seasonal_decompose(data_load, model = 'additive')\n",
        "#Plotting:\n",
        "fig, ax = plt.subplots()\n",
        "ax.grid(True)\n",
        "#Matplotlib’s YearLocator() makes ticks on a given day of each year that is a multiple of base:\n",
        "year = mdates.YearLocator(month=1)\n",
        "month = mdates.MonthLocator(interval=1)\n",
        "year_format = mdates.DateFormatter('%Y')\n",
        "month_format = mdates.DateFormatter('%m')\n",
        "ax.xaxis.set_minor_locator(month)\n",
        "ax.xaxis.grid(True, which = 'minor')\n",
        "ax.xaxis.set_major_locator(year)\n",
        "ax.xaxis.set_major_formatter(year_format)\n",
        "plt.plot(data_load.index, data_load, c=colors['lightskyblue'])\n",
        "plt.plot(decomposition.trend.index, decomposition.trend, c=colors['midnightblue'])\n",
        "mpl.rcParams['figure.figsize'] = [18.0, 6.0]"
      ]
    },
    {
      "cell_type": "markdown",
      "metadata": {
        "id": "-HCR-et-3yOM"
      },
      "source": [
        "### Normalization / Standardization in Time Series"
      ]
    },
    {
      "cell_type": "code",
      "execution_count": 29,
      "metadata": {
        "colab": {
          "base_uri": "https://localhost:8080/",
          "height": 318
        },
        "id": "8GCXSc-wPcXC",
        "outputId": "a86ba99d-454a-4e5a-9eca-d098a5787317"
      },
      "outputs": [
        {
          "data": {
            "text/html": [
              "<div>\n",
              "<style scoped>\n",
              "    .dataframe tbody tr th:only-of-type {\n",
              "        vertical-align: middle;\n",
              "    }\n",
              "\n",
              "    .dataframe tbody tr th {\n",
              "        vertical-align: top;\n",
              "    }\n",
              "\n",
              "    .dataframe thead th {\n",
              "        text-align: right;\n",
              "    }\n",
              "</style>\n",
              "<table border=\"1\" class=\"dataframe\">\n",
              "  <thead>\n",
              "    <tr style=\"text-align: right;\">\n",
              "      <th></th>\n",
              "      <th>load</th>\n",
              "      <th>T</th>\n",
              "    </tr>\n",
              "  </thead>\n",
              "  <tbody>\n",
              "    <tr>\n",
              "      <th>count</th>\n",
              "      <td>78888.000000</td>\n",
              "      <td>78888.000000</td>\n",
              "    </tr>\n",
              "    <tr>\n",
              "      <th>mean</th>\n",
              "      <td>3308.000837</td>\n",
              "      <td>47.573934</td>\n",
              "    </tr>\n",
              "    <tr>\n",
              "      <th>std</th>\n",
              "      <td>579.803021</td>\n",
              "      <td>19.201314</td>\n",
              "    </tr>\n",
              "    <tr>\n",
              "      <th>min</th>\n",
              "      <td>1811.000000</td>\n",
              "      <td>-18.000000</td>\n",
              "    </tr>\n",
              "    <tr>\n",
              "      <th>25%</th>\n",
              "      <td>2845.000000</td>\n",
              "      <td>32.670000</td>\n",
              "    </tr>\n",
              "    <tr>\n",
              "      <th>50%</th>\n",
              "      <td>3382.000000</td>\n",
              "      <td>48.670000</td>\n",
              "    </tr>\n",
              "    <tr>\n",
              "      <th>75%</th>\n",
              "      <td>3709.000000</td>\n",
              "      <td>63.000000</td>\n",
              "    </tr>\n",
              "    <tr>\n",
              "      <th>max</th>\n",
              "      <td>5506.000000</td>\n",
              "      <td>97.000000</td>\n",
              "    </tr>\n",
              "  </tbody>\n",
              "</table>\n",
              "</div>"
            ],
            "text/plain": [
              "               load             T\n",
              "count  78888.000000  78888.000000\n",
              "mean    3308.000837     47.573934\n",
              "std      579.803021     19.201314\n",
              "min     1811.000000    -18.000000\n",
              "25%     2845.000000     32.670000\n",
              "50%     3382.000000     48.670000\n",
              "75%     3709.000000     63.000000\n",
              "max     5506.000000     97.000000"
            ]
          },
          "execution_count": 29,
          "metadata": {},
          "output_type": "execute_result"
        },
        {
          "name": "stdout",
          "output_type": "stream",
          "text": [
            "time: 16 ms (started: 2024-09-13 12:55:04 +02:00)\n"
          ]
        }
      ],
      "source": [
        "#Looking into the statistics:\n",
        "data.describe()"
      ]
    },
    {
      "cell_type": "code",
      "execution_count": 30,
      "metadata": {
        "colab": {
          "base_uri": "https://localhost:8080/",
          "height": 318
        },
        "id": "Ye5yeiCCNues",
        "outputId": "11f7a543-4123-47d5-e2c0-e4c3027db207"
      },
      "outputs": [
        {
          "data": {
            "text/html": [
              "<div>\n",
              "<style scoped>\n",
              "    .dataframe tbody tr th:only-of-type {\n",
              "        vertical-align: middle;\n",
              "    }\n",
              "\n",
              "    .dataframe tbody tr th {\n",
              "        vertical-align: top;\n",
              "    }\n",
              "\n",
              "    .dataframe thead th {\n",
              "        text-align: right;\n",
              "    }\n",
              "</style>\n",
              "<table border=\"1\" class=\"dataframe\">\n",
              "  <thead>\n",
              "    <tr style=\"text-align: right;\">\n",
              "      <th></th>\n",
              "      <th>load</th>\n",
              "      <th>T</th>\n",
              "    </tr>\n",
              "  </thead>\n",
              "  <tbody>\n",
              "    <tr>\n",
              "      <th>count</th>\n",
              "      <td>7.888800e+04</td>\n",
              "      <td>7.888800e+04</td>\n",
              "    </tr>\n",
              "    <tr>\n",
              "      <th>mean</th>\n",
              "      <td>3.127224e-16</td>\n",
              "      <td>8.646702e-17</td>\n",
              "    </tr>\n",
              "    <tr>\n",
              "      <th>std</th>\n",
              "      <td>1.000006e+00</td>\n",
              "      <td>1.000006e+00</td>\n",
              "    </tr>\n",
              "    <tr>\n",
              "      <th>min</th>\n",
              "      <td>-2.581929e+00</td>\n",
              "      <td>-3.415097e+00</td>\n",
              "    </tr>\n",
              "    <tr>\n",
              "      <th>25%</th>\n",
              "      <td>-7.985536e-01</td>\n",
              "      <td>-7.761984e-01</td>\n",
              "    </tr>\n",
              "    <tr>\n",
              "      <th>50%</th>\n",
              "      <td>1.276289e-01</td>\n",
              "      <td>5.708323e-02</td>\n",
              "    </tr>\n",
              "    <tr>\n",
              "      <th>75%</th>\n",
              "      <td>6.916171e-01</td>\n",
              "      <td>8.033911e-01</td>\n",
              "    </tr>\n",
              "    <tr>\n",
              "      <th>max</th>\n",
              "      <td>3.790965e+00</td>\n",
              "      <td>2.574114e+00</td>\n",
              "    </tr>\n",
              "  </tbody>\n",
              "</table>\n",
              "</div>"
            ],
            "text/plain": [
              "               load             T\n",
              "count  7.888800e+04  7.888800e+04\n",
              "mean   3.127224e-16  8.646702e-17\n",
              "std    1.000006e+00  1.000006e+00\n",
              "min   -2.581929e+00 -3.415097e+00\n",
              "25%   -7.985536e-01 -7.761984e-01\n",
              "50%    1.276289e-01  5.708323e-02\n",
              "75%    6.916171e-01  8.033911e-01\n",
              "max    3.790965e+00  2.574114e+00"
            ]
          },
          "execution_count": 30,
          "metadata": {},
          "output_type": "execute_result"
        },
        {
          "name": "stdout",
          "output_type": "stream",
          "text": [
            "time: 31 ms (started: 2024-09-13 12:55:04 +02:00)\n"
          ]
        }
      ],
      "source": [
        "#Rescaling the data\n",
        "featuresToScale = data.columns\n",
        "sX = pp.StandardScaler(copy=True)\n",
        "data.loc[:,featuresToScale] = sX.fit_transform(data[featuresToScale])\n",
        "#Looking into the statistics again:\n",
        "data.describe()"
      ]
    },
    {
      "cell_type": "code",
      "execution_count": 31,
      "metadata": {
        "colab": {
          "base_uri": "https://localhost:8080/",
          "height": 318
        },
        "id": "HFQTwyTDOke8",
        "outputId": "1be871a1-0860-4413-ba05-fba31b118102"
      },
      "outputs": [
        {
          "data": {
            "text/html": [
              "<div>\n",
              "<style scoped>\n",
              "    .dataframe tbody tr th:only-of-type {\n",
              "        vertical-align: middle;\n",
              "    }\n",
              "\n",
              "    .dataframe tbody tr th {\n",
              "        vertical-align: top;\n",
              "    }\n",
              "\n",
              "    .dataframe thead th {\n",
              "        text-align: right;\n",
              "    }\n",
              "</style>\n",
              "<table border=\"1\" class=\"dataframe\">\n",
              "  <thead>\n",
              "    <tr style=\"text-align: right;\">\n",
              "      <th></th>\n",
              "      <th>load</th>\n",
              "      <th>T</th>\n",
              "    </tr>\n",
              "  </thead>\n",
              "  <tbody>\n",
              "    <tr>\n",
              "      <th>count</th>\n",
              "      <td>78888.000000</td>\n",
              "      <td>78888.000000</td>\n",
              "    </tr>\n",
              "    <tr>\n",
              "      <th>mean</th>\n",
              "      <td>3308.000837</td>\n",
              "      <td>47.573934</td>\n",
              "    </tr>\n",
              "    <tr>\n",
              "      <th>std</th>\n",
              "      <td>579.803021</td>\n",
              "      <td>19.201314</td>\n",
              "    </tr>\n",
              "    <tr>\n",
              "      <th>min</th>\n",
              "      <td>1811.000000</td>\n",
              "      <td>-18.000000</td>\n",
              "    </tr>\n",
              "    <tr>\n",
              "      <th>25%</th>\n",
              "      <td>2845.000000</td>\n",
              "      <td>32.670000</td>\n",
              "    </tr>\n",
              "    <tr>\n",
              "      <th>50%</th>\n",
              "      <td>3382.000000</td>\n",
              "      <td>48.670000</td>\n",
              "    </tr>\n",
              "    <tr>\n",
              "      <th>75%</th>\n",
              "      <td>3709.000000</td>\n",
              "      <td>63.000000</td>\n",
              "    </tr>\n",
              "    <tr>\n",
              "      <th>max</th>\n",
              "      <td>5506.000000</td>\n",
              "      <td>97.000000</td>\n",
              "    </tr>\n",
              "  </tbody>\n",
              "</table>\n",
              "</div>"
            ],
            "text/plain": [
              "               load             T\n",
              "count  78888.000000  78888.000000\n",
              "mean    3308.000837     47.573934\n",
              "std      579.803021     19.201314\n",
              "min     1811.000000    -18.000000\n",
              "25%     2845.000000     32.670000\n",
              "50%     3382.000000     48.670000\n",
              "75%     3709.000000     63.000000\n",
              "max     5506.000000     97.000000"
            ]
          },
          "execution_count": 31,
          "metadata": {},
          "output_type": "execute_result"
        },
        {
          "name": "stdout",
          "output_type": "stream",
          "text": [
            "time: 32 ms (started: 2024-09-13 12:55:04 +02:00)\n"
          ]
        }
      ],
      "source": [
        "data.loc[:,featuresToScale] = sX.inverse_transform(data[featuresToScale])\n",
        "#Looking into the statistics again:\n",
        "data.describe()"
      ]
    },
    {
      "cell_type": "markdown",
      "metadata": {
        "id": "tV9j0xKp4N2d"
      },
      "source": [
        "## Feature Engineering in Time Series"
      ]
    },
    {
      "cell_type": "code",
      "execution_count": 32,
      "metadata": {
        "colab": {
          "base_uri": "https://localhost:8080/",
          "height": 224
        },
        "id": "L0PgA_TfSLQY",
        "outputId": "86f98303-cb3b-4082-f4d9-307442c0a35a"
      },
      "outputs": [
        {
          "data": {
            "text/html": [
              "<div>\n",
              "<style scoped>\n",
              "    .dataframe tbody tr th:only-of-type {\n",
              "        vertical-align: middle;\n",
              "    }\n",
              "\n",
              "    .dataframe tbody tr th {\n",
              "        vertical-align: top;\n",
              "    }\n",
              "\n",
              "    .dataframe thead th {\n",
              "        text-align: right;\n",
              "    }\n",
              "</style>\n",
              "<table border=\"1\" class=\"dataframe\">\n",
              "  <thead>\n",
              "    <tr style=\"text-align: right;\">\n",
              "      <th></th>\n",
              "      <th>load</th>\n",
              "      <th>T</th>\n",
              "    </tr>\n",
              "  </thead>\n",
              "  <tbody>\n",
              "    <tr>\n",
              "      <th>2006-01-01 00:00:00</th>\n",
              "      <td>2985.0</td>\n",
              "      <td>24.33</td>\n",
              "    </tr>\n",
              "    <tr>\n",
              "      <th>2006-01-01 01:00:00</th>\n",
              "      <td>3010.0</td>\n",
              "      <td>22.67</td>\n",
              "    </tr>\n",
              "    <tr>\n",
              "      <th>2006-01-01 02:00:00</th>\n",
              "      <td>2853.0</td>\n",
              "      <td>20.67</td>\n",
              "    </tr>\n",
              "    <tr>\n",
              "      <th>2006-01-01 03:00:00</th>\n",
              "      <td>2758.0</td>\n",
              "      <td>21.33</td>\n",
              "    </tr>\n",
              "    <tr>\n",
              "      <th>2006-01-01 04:00:00</th>\n",
              "      <td>2705.0</td>\n",
              "      <td>19.00</td>\n",
              "    </tr>\n",
              "  </tbody>\n",
              "</table>\n",
              "</div>"
            ],
            "text/plain": [
              "                       load      T\n",
              "2006-01-01 00:00:00  2985.0  24.33\n",
              "2006-01-01 01:00:00  3010.0  22.67\n",
              "2006-01-01 02:00:00  2853.0  20.67\n",
              "2006-01-01 03:00:00  2758.0  21.33\n",
              "2006-01-01 04:00:00  2705.0  19.00"
            ]
          },
          "execution_count": 32,
          "metadata": {},
          "output_type": "execute_result"
        },
        {
          "name": "stdout",
          "output_type": "stream",
          "text": [
            "time: 0 ns (started: 2024-09-13 12:55:04 +02:00)\n"
          ]
        }
      ],
      "source": [
        "data.head()"
      ]
    },
    {
      "cell_type": "code",
      "execution_count": 33,
      "metadata": {
        "colab": {
          "base_uri": "https://localhost:8080/"
        },
        "id": "r2UF-vAKROgS",
        "outputId": "38bebed8-40e2-4506-f3f0-8d469923c7ba"
      },
      "outputs": [
        {
          "name": "stdout",
          "output_type": "stream",
          "text": [
            "                       load      T  hour  month  dayofWeek\n",
            "2006-01-01 00:00:00  2985.0  24.33     0      1          1\n",
            "2006-01-01 01:00:00  3010.0  22.67     1      1          1\n",
            "2006-01-01 02:00:00  2853.0  20.67     2      1          1\n",
            "2006-01-01 03:00:00  2758.0  21.33     3      1          1\n",
            "2006-01-01 04:00:00  2705.0  19.00     4      1          1\n",
            "time: 875 ms (started: 2024-09-13 12:55:04 +02:00)\n"
          ]
        }
      ],
      "source": [
        "#A simple example:\n",
        "data['hour'] = [data.index[i].hour for i in range(len(data))]\n",
        "data['month'] = [data.index[i].month for i in range(len(data))]\n",
        "data['dayofWeek'] = [data.index[i].day for i in range(len(data))]\n",
        "print(data.head(5))"
      ]
    },
    {
      "cell_type": "markdown",
      "metadata": {
        "id": "mSbQfKTrTWAi"
      },
      "source": [
        "### Window Statistics as Feature"
      ]
    },
    {
      "cell_type": "code",
      "execution_count": 34,
      "metadata": {
        "colab": {
          "base_uri": "https://localhost:8080/"
        },
        "id": "8O4fg_fHcBUR",
        "outputId": "edf6fd32-4e42-4631-dfe2-f76d587f61fc"
      },
      "outputs": [
        {
          "name": "stdout",
          "output_type": "stream",
          "text": [
            "                        min  median     max    load\n",
            "2006-01-01 00:00:00     NaN     NaN     NaN  2985.0\n",
            "2006-01-01 01:00:00     NaN     NaN     NaN  3010.0\n",
            "2006-01-01 02:00:00     NaN     NaN     NaN  2853.0\n",
            "2006-01-01 03:00:00  2758.0  2919.0  3010.0  2758.0\n",
            "2006-01-01 04:00:00  2705.0  2805.5  3010.0  2705.0\n",
            "2006-01-01 05:00:00  2705.0  2733.5  2853.0  2709.0\n",
            "2006-01-01 06:00:00  2705.0  2731.0  2758.0  2753.0\n",
            "2006-01-01 07:00:00  2705.0  2731.0  2849.0  2849.0\n",
            "2006-01-01 08:00:00  2709.0  2801.0  3008.0  3008.0\n",
            "2006-01-01 09:00:00  2753.0  2928.5  3243.0  3243.0\n",
            "time: 31 ms (started: 2024-09-13 12:55:05 +02:00)\n"
          ]
        }
      ],
      "source": [
        "#How to add statistics features in dataframes:\n",
        "#------------------------------------------------\n",
        "#Let's use only the load data;\n",
        "load_data = data[['load']]\n",
        "#Defining the window width:\n",
        "width = 4\n",
        "#Shifting:if needed, use shifted with .rolling.\n",
        "#shifted = load_data.shift(2)\n",
        "#Calling Rolling:\n",
        "window = load_data.rolling(window=width)\n",
        "#Lets save as a new DF. We will add min, mean and max to the load column:\n",
        "new_dataframe = pd.concat([window.min(),window.median(), window.max(), load_data], axis=1)\n",
        "new_dataframe.columns = ['min', 'median', 'max', 'load']\n",
        "print(new_dataframe.head(10))"
      ]
    }
  ],
  "metadata": {
    "colab": {
      "provenance": [],
      "toc_visible": true
    },
    "kernelspec": {
      "display_name": "Python 3",
      "name": "python3"
    },
    "language_info": {
      "codemirror_mode": {
        "name": "ipython",
        "version": 3
      },
      "file_extension": ".py",
      "mimetype": "text/x-python",
      "name": "python",
      "nbconvert_exporter": "python",
      "pygments_lexer": "ipython3",
      "version": "3.10.13"
    }
  },
  "nbformat": 4,
  "nbformat_minor": 0
}
